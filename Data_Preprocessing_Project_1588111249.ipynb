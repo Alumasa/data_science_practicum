{
 "cells": [
  {
   "cell_type": "code",
   "execution_count": 2,
   "metadata": {},
   "outputs": [],
   "source": [
    "import pandas as pd\n",
    "import numpy as np"
   ]
  },
  {
   "cell_type": "markdown",
   "metadata": {},
   "source": [
    "Read and preview the data."
   ]
  },
  {
   "cell_type": "code",
   "execution_count": 3,
   "metadata": {
    "scrolled": true
   },
   "outputs": [
    {
     "data": {
      "text/html": [
       "<div>\n",
       "<style scoped>\n",
       "    .dataframe tbody tr th:only-of-type {\n",
       "        vertical-align: middle;\n",
       "    }\n",
       "\n",
       "    .dataframe tbody tr th {\n",
       "        vertical-align: top;\n",
       "    }\n",
       "\n",
       "    .dataframe thead th {\n",
       "        text-align: right;\n",
       "    }\n",
       "</style>\n",
       "<table border=\"1\" class=\"dataframe\">\n",
       "  <thead>\n",
       "    <tr style=\"text-align: right;\">\n",
       "      <th></th>\n",
       "      <th>children</th>\n",
       "      <th>days_employed</th>\n",
       "      <th>dob_years</th>\n",
       "      <th>education</th>\n",
       "      <th>education_id</th>\n",
       "      <th>family_status</th>\n",
       "      <th>family_status_id</th>\n",
       "      <th>gender</th>\n",
       "      <th>income_type</th>\n",
       "      <th>debt</th>\n",
       "      <th>total_income</th>\n",
       "      <th>purpose</th>\n",
       "    </tr>\n",
       "  </thead>\n",
       "  <tbody>\n",
       "    <tr>\n",
       "      <th>0</th>\n",
       "      <td>1</td>\n",
       "      <td>-8437.673028</td>\n",
       "      <td>42</td>\n",
       "      <td>bachelor's degree</td>\n",
       "      <td>0</td>\n",
       "      <td>married</td>\n",
       "      <td>0</td>\n",
       "      <td>F</td>\n",
       "      <td>employee</td>\n",
       "      <td>0</td>\n",
       "      <td>40620.102</td>\n",
       "      <td>purchase of the house</td>\n",
       "    </tr>\n",
       "    <tr>\n",
       "      <th>1</th>\n",
       "      <td>1</td>\n",
       "      <td>-4024.803754</td>\n",
       "      <td>36</td>\n",
       "      <td>secondary education</td>\n",
       "      <td>1</td>\n",
       "      <td>married</td>\n",
       "      <td>0</td>\n",
       "      <td>F</td>\n",
       "      <td>employee</td>\n",
       "      <td>0</td>\n",
       "      <td>17932.802</td>\n",
       "      <td>car purchase</td>\n",
       "    </tr>\n",
       "    <tr>\n",
       "      <th>2</th>\n",
       "      <td>0</td>\n",
       "      <td>-5623.422610</td>\n",
       "      <td>33</td>\n",
       "      <td>Secondary Education</td>\n",
       "      <td>1</td>\n",
       "      <td>married</td>\n",
       "      <td>0</td>\n",
       "      <td>M</td>\n",
       "      <td>employee</td>\n",
       "      <td>0</td>\n",
       "      <td>23341.752</td>\n",
       "      <td>purchase of the house</td>\n",
       "    </tr>\n",
       "    <tr>\n",
       "      <th>3</th>\n",
       "      <td>3</td>\n",
       "      <td>-4124.747207</td>\n",
       "      <td>32</td>\n",
       "      <td>secondary education</td>\n",
       "      <td>1</td>\n",
       "      <td>married</td>\n",
       "      <td>0</td>\n",
       "      <td>M</td>\n",
       "      <td>employee</td>\n",
       "      <td>0</td>\n",
       "      <td>42820.568</td>\n",
       "      <td>supplementary education</td>\n",
       "    </tr>\n",
       "    <tr>\n",
       "      <th>4</th>\n",
       "      <td>0</td>\n",
       "      <td>340266.072047</td>\n",
       "      <td>53</td>\n",
       "      <td>secondary education</td>\n",
       "      <td>1</td>\n",
       "      <td>civil partnership</td>\n",
       "      <td>1</td>\n",
       "      <td>F</td>\n",
       "      <td>retiree</td>\n",
       "      <td>0</td>\n",
       "      <td>25378.572</td>\n",
       "      <td>to have a wedding</td>\n",
       "    </tr>\n",
       "  </tbody>\n",
       "</table>\n",
       "</div>"
      ],
      "text/plain": [
       "   children  days_employed  dob_years            education  education_id  \\\n",
       "0         1   -8437.673028         42    bachelor's degree             0   \n",
       "1         1   -4024.803754         36  secondary education             1   \n",
       "2         0   -5623.422610         33  Secondary Education             1   \n",
       "3         3   -4124.747207         32  secondary education             1   \n",
       "4         0  340266.072047         53  secondary education             1   \n",
       "\n",
       "       family_status  family_status_id gender income_type  debt  total_income  \\\n",
       "0            married                 0      F    employee     0     40620.102   \n",
       "1            married                 0      F    employee     0     17932.802   \n",
       "2            married                 0      M    employee     0     23341.752   \n",
       "3            married                 0      M    employee     0     42820.568   \n",
       "4  civil partnership                 1      F     retiree     0     25378.572   \n",
       "\n",
       "                   purpose  \n",
       "0    purchase of the house  \n",
       "1             car purchase  \n",
       "2    purchase of the house  \n",
       "3  supplementary education  \n",
       "4        to have a wedding  "
      ]
     },
     "execution_count": 3,
     "metadata": {},
     "output_type": "execute_result"
    }
   ],
   "source": [
    "credit_data = pd.read_csv('/datasets/credit_scoring_eng.csv')\n",
    "credit_data.head()"
   ]
  },
  {
   "cell_type": "markdown",
   "metadata": {},
   "source": [
    "###### Look at data types and identify columns with null values in the DataFrame, for further investigation.\n",
    "I have used the info() method to identify which columns have null values."
   ]
  },
  {
   "cell_type": "code",
   "execution_count": 4,
   "metadata": {},
   "outputs": [
    {
     "name": "stdout",
     "output_type": "stream",
     "text": [
      "<class 'pandas.core.frame.DataFrame'>\n",
      "RangeIndex: 21525 entries, 0 to 21524\n",
      "Data columns (total 12 columns):\n",
      " #   Column            Non-Null Count  Dtype  \n",
      "---  ------            --------------  -----  \n",
      " 0   children          21525 non-null  int64  \n",
      " 1   days_employed     19351 non-null  float64\n",
      " 2   dob_years         21525 non-null  int64  \n",
      " 3   education         21525 non-null  object \n",
      " 4   education_id      21525 non-null  int64  \n",
      " 5   family_status     21525 non-null  object \n",
      " 6   family_status_id  21525 non-null  int64  \n",
      " 7   gender            21525 non-null  object \n",
      " 8   income_type       21525 non-null  object \n",
      " 9   debt              21525 non-null  int64  \n",
      " 10  total_income      19351 non-null  float64\n",
      " 11  purpose           21525 non-null  object \n",
      "dtypes: float64(2), int64(5), object(5)\n",
      "memory usage: 2.0+ MB\n"
     ]
    }
   ],
   "source": [
    "credit_data.info()"
   ]
  },
  {
   "cell_type": "markdown",
   "metadata": {},
   "source": [
    "###### Two columns have null values: 'days_employed' and 'total_income'"
   ]
  },
  {
   "cell_type": "markdown",
   "metadata": {},
   "source": [
    "The shape of the DataFrame will help me to know the size of data am working with, especially when deleting null values and duplicates.\n",
    "\"shape\" is an attribute of the DataFrame."
   ]
  },
  {
   "cell_type": "code",
   "execution_count": 5,
   "metadata": {},
   "outputs": [
    {
     "data": {
      "text/plain": [
       "(21525, 12)"
      ]
     },
     "execution_count": 5,
     "metadata": {},
     "output_type": "execute_result"
    }
   ],
   "source": [
    "credit_data.shape"
   ]
  },
  {
   "cell_type": "markdown",
   "metadata": {},
   "source": [
    "To count the number of null values in every column, I have chained the isnull() and sum() methods."
   ]
  },
  {
   "cell_type": "code",
   "execution_count": 6,
   "metadata": {},
   "outputs": [
    {
     "data": {
      "text/plain": [
       "children               0\n",
       "days_employed       2174\n",
       "dob_years              0\n",
       "education              0\n",
       "education_id           0\n",
       "family_status          0\n",
       "family_status_id       0\n",
       "gender                 0\n",
       "income_type            0\n",
       "debt                   0\n",
       "total_income        2174\n",
       "purpose                0\n",
       "dtype: int64"
      ]
     },
     "execution_count": 6,
     "metadata": {},
     "output_type": "execute_result"
    }
   ],
   "source": [
    "credit_data.isnull().sum()"
   ]
  },
  {
   "cell_type": "markdown",
   "metadata": {},
   "source": [
    "###### In this DataFrame, the two columns with null values both have 2174 null values."
   ]
  },
  {
   "cell_type": "markdown",
   "metadata": {},
   "source": [
    "My interpretation is that the null values in the two columns are not missing by random.\n",
    "###### MNAR - Missing Not At Random -  the likelihood of missing values depends on values in the column itself.\n",
    "The 'days_employed' and 'total_income' are related. Meaning there is no employment hence no annual income."
   ]
  },
  {
   "cell_type": "markdown",
   "metadata": {},
   "source": [
    "I will fill the null values with 0 in the 'days_employed' and 'total_income' columns, using the fillna() method with keyword arguments: value=0, along the column axis: axis=1, and to retain the same DataFrame: inplace=True.\n",
    "\n",
    "I will then confirm the sum of null values in each column with method chaining of isnull() and sum()."
   ]
  },
  {
   "cell_type": "code",
   "execution_count": 7,
   "metadata": {},
   "outputs": [
    {
     "data": {
      "text/plain": [
       "children            0\n",
       "days_employed       0\n",
       "dob_years           0\n",
       "education           0\n",
       "education_id        0\n",
       "family_status       0\n",
       "family_status_id    0\n",
       "gender              0\n",
       "income_type         0\n",
       "debt                0\n",
       "total_income        0\n",
       "purpose             0\n",
       "dtype: int64"
      ]
     },
     "execution_count": 7,
     "metadata": {},
     "output_type": "execute_result"
    }
   ],
   "source": [
    "credit_data.fillna(value=0, axis=1, inplace=True)\n",
    "credit_data.isnull().sum()"
   ]
  },
  {
   "cell_type": "markdown",
   "metadata": {},
   "source": [
    "I'll look at the DataFrame again with the info() method to identify data types in the columns.\n",
    "The aim is to replace floats with integer data type."
   ]
  },
  {
   "cell_type": "code",
   "execution_count": 8,
   "metadata": {},
   "outputs": [
    {
     "name": "stdout",
     "output_type": "stream",
     "text": [
      "<class 'pandas.core.frame.DataFrame'>\n",
      "RangeIndex: 21525 entries, 0 to 21524\n",
      "Data columns (total 12 columns):\n",
      " #   Column            Non-Null Count  Dtype  \n",
      "---  ------            --------------  -----  \n",
      " 0   children          21525 non-null  int64  \n",
      " 1   days_employed     21525 non-null  float64\n",
      " 2   dob_years         21525 non-null  int64  \n",
      " 3   education         21525 non-null  object \n",
      " 4   education_id      21525 non-null  int64  \n",
      " 5   family_status     21525 non-null  object \n",
      " 6   family_status_id  21525 non-null  int64  \n",
      " 7   gender            21525 non-null  object \n",
      " 8   income_type       21525 non-null  object \n",
      " 9   debt              21525 non-null  int64  \n",
      " 10  total_income      21525 non-null  float64\n",
      " 11  purpose           21525 non-null  object \n",
      "dtypes: float64(2), int64(5), object(5)\n",
      "memory usage: 2.0+ MB\n",
      "None\n"
     ]
    }
   ],
   "source": [
    "print(credit_data.info())"
   ]
  },
  {
   "cell_type": "markdown",
   "metadata": {},
   "source": [
    "I'll replace the columns with type 'float64' to type 'int64' using the astype() method, and np.int64 as an argument."
   ]
  },
  {
   "cell_type": "code",
   "execution_count": 9,
   "metadata": {},
   "outputs": [],
   "source": [
    "#days_employed to int\n",
    "credit_data['days_employed'] = credit_data['days_employed'].astype(np.int64)"
   ]
  },
  {
   "cell_type": "code",
   "execution_count": 10,
   "metadata": {},
   "outputs": [],
   "source": [
    "#total_income to int\n",
    "credit_data['total_income'] = credit_data['total_income'].astype(np.int64)"
   ]
  },
  {
   "cell_type": "markdown",
   "metadata": {},
   "source": [
    "To identify duplicated rows in the data, I have used the duplicated() method, and chained it with sum() to find the total.\n",
    "The sum helps me to see how much of my data I would lose if I dropped the duplicates.\n",
    "These duplicates could have come up during data collection where clients filled in their details more than once."
   ]
  },
  {
   "cell_type": "code",
   "execution_count": 11,
   "metadata": {},
   "outputs": [
    {
     "name": "stdout",
     "output_type": "stream",
     "text": [
      "54\n"
     ]
    }
   ],
   "source": [
    "print(credit_data.duplicated().sum())"
   ]
  },
  {
   "cell_type": "markdown",
   "metadata": {},
   "source": [
    "Only 54 out of 21525 rows are in duplicate, I will drop them using the drop_duplicates() method,the keyword argument 'ignore_index', so that i dont have to reset the index, and inplace=True to keep the same DataFrame."
   ]
  },
  {
   "cell_type": "code",
   "execution_count": 12,
   "metadata": {},
   "outputs": [],
   "source": [
    "credit_data.drop_duplicates(inplace=True, ignore_index=True)"
   ]
  },
  {
   "cell_type": "code",
   "execution_count": 13,
   "metadata": {},
   "outputs": [
    {
     "data": {
      "text/plain": [
       "(21471, 12)"
      ]
     },
     "execution_count": 13,
     "metadata": {},
     "output_type": "execute_result"
    }
   ],
   "source": [
    "#the shape of my DataFrame has changed because of the duplicated rows that have been removed.\n",
    "credit_data.shape"
   ]
  },
  {
   "cell_type": "code",
   "execution_count": 14,
   "metadata": {},
   "outputs": [
    {
     "data": {
      "text/plain": [
       "count    21471.000000\n",
       "mean        43.279074\n",
       "std         12.574291\n",
       "min          0.000000\n",
       "25%         33.000000\n",
       "50%         42.000000\n",
       "75%         53.000000\n",
       "max         75.000000\n",
       "Name: dob_years, dtype: float64"
      ]
     },
     "execution_count": 14,
     "metadata": {},
     "output_type": "execute_result"
    }
   ],
   "source": [
    "credit_data['dob_years'].describe()"
   ]
  },
  {
   "cell_type": "markdown",
   "metadata": {},
   "source": [
    "The age column has 0 values. This could be because, the client did not give his/her age.\n",
    "I will set the 0 value to the median of the age column."
   ]
  },
  {
   "cell_type": "code",
   "execution_count": 15,
   "metadata": {},
   "outputs": [
    {
     "data": {
      "text/plain": [
       "count    21471.000000\n",
       "mean        43.476643\n",
       "std         12.217612\n",
       "min         19.000000\n",
       "25%         33.500000\n",
       "50%         42.000000\n",
       "75%         53.000000\n",
       "max         75.000000\n",
       "Name: dob_years, dtype: float64"
      ]
     },
     "execution_count": 15,
     "metadata": {},
     "output_type": "execute_result"
    }
   ],
   "source": [
    "credit_data.loc[credit_data['dob_years'] == 0, 'dob_years'] = credit_data['dob_years'].median() \n",
    "credit_data['dob_years'].describe()"
   ]
  },
  {
   "cell_type": "markdown",
   "metadata": {},
   "source": [
    "###### Categorize the data"
   ]
  },
  {
   "cell_type": "markdown",
   "metadata": {},
   "source": [
    "I will categorize the following columns: education, family_status, gender, income_type, purpose.\n",
    "This is because the values in these columns are discrete and can be combined into categories."
   ]
  },
  {
   "cell_type": "markdown",
   "metadata": {},
   "source": [
    "I will use the value_counts() method to identify unique values and their counts in the education column."
   ]
  },
  {
   "cell_type": "code",
   "execution_count": 16,
   "metadata": {},
   "outputs": [
    {
     "data": {
      "text/plain": [
       "secondary education    13705\n",
       "bachelor's degree       4710\n",
       "SECONDARY EDUCATION      772\n",
       "Secondary Education      711\n",
       "some college             668\n",
       "BACHELOR'S DEGREE        273\n",
       "Bachelor's Degree        268\n",
       "primary education        250\n",
       "Some College              47\n",
       "SOME COLLEGE              29\n",
       "PRIMARY EDUCATION         17\n",
       "Primary Education         15\n",
       "graduate degree            4\n",
       "GRADUATE DEGREE            1\n",
       "Graduate Degree            1\n",
       "Name: education, dtype: int64"
      ]
     },
     "execution_count": 16,
     "metadata": {},
     "output_type": "execute_result"
    }
   ],
   "source": [
    "credit_data['education'].value_counts()"
   ]
  },
  {
   "cell_type": "markdown",
   "metadata": {},
   "source": [
    "###### There are a lot of repeated values in the education column, majorly because of the difference in uppercase and lowercase letters."
   ]
  },
  {
   "cell_type": "markdown",
   "metadata": {},
   "source": [
    "I will convert all the rows in the education column to lowercase using the str.lower() method.\n",
    "This changes the rows to a string then to lowercase.\n",
    "\n",
    "unique() method is used to confirm that indeed there are only distinct values in the education column"
   ]
  },
  {
   "cell_type": "code",
   "execution_count": 17,
   "metadata": {},
   "outputs": [
    {
     "data": {
      "text/plain": [
       "array([\"bachelor's degree\", 'secondary education', 'some college',\n",
       "       'primary education', 'graduate degree'], dtype=object)"
      ]
     },
     "execution_count": 17,
     "metadata": {},
     "output_type": "execute_result"
    }
   ],
   "source": [
    "credit_data['education'] = credit_data['education'].str.lower()\n",
    "credit_data['education'].unique()"
   ]
  },
  {
   "cell_type": "markdown",
   "metadata": {},
   "source": [
    "I will use the value_counts() method to identify unique values and their counts in the family_status column."
   ]
  },
  {
   "cell_type": "code",
   "execution_count": 18,
   "metadata": {},
   "outputs": [
    {
     "data": {
      "text/plain": [
       "married              12344\n",
       "civil partnership     4163\n",
       "unmarried             2810\n",
       "divorced              1195\n",
       "widow / widower        959\n",
       "Name: family_status, dtype: int64"
      ]
     },
     "execution_count": 18,
     "metadata": {},
     "output_type": "execute_result"
    }
   ],
   "source": [
    "credit_data['family_status'].value_counts()"
   ]
  },
  {
   "cell_type": "markdown",
   "metadata": {},
   "source": [
    "I'll create dictionaries of the columns with id, the drop them from the main DataFrame"
   ]
  },
  {
   "cell_type": "code",
   "execution_count": 19,
   "metadata": {},
   "outputs": [
    {
     "name": "stdout",
     "output_type": "stream",
     "text": [
      "             education  education_id\n",
      "0    bachelor's degree             0\n",
      "1  secondary education             1\n",
      "2         some college             2\n",
      "3    primary education             3\n",
      "4      graduate degree             4\n"
     ]
    }
   ],
   "source": [
    "education_dict = credit_data[['education', 'education_id']].drop_duplicates().reset_index(drop=True)\n",
    "print(education_dict)"
   ]
  },
  {
   "cell_type": "code",
   "execution_count": 20,
   "metadata": {},
   "outputs": [
    {
     "name": "stdout",
     "output_type": "stream",
     "text": [
      "       family_status  family_status_id\n",
      "0            married                 0\n",
      "1  civil partnership                 1\n",
      "2    widow / widower                 2\n",
      "3           divorced                 3\n",
      "4          unmarried                 4\n"
     ]
    }
   ],
   "source": [
    "family_dict = credit_data[['family_status', 'family_status_id']].drop_duplicates().reset_index(drop=True)\n",
    "print(family_dict)"
   ]
  },
  {
   "cell_type": "markdown",
   "metadata": {},
   "source": [
    "I will drop the id columns from my data since i already have them as dictionaries."
   ]
  },
  {
   "cell_type": "code",
   "execution_count": 21,
   "metadata": {},
   "outputs": [
    {
     "data": {
      "text/html": [
       "<div>\n",
       "<style scoped>\n",
       "    .dataframe tbody tr th:only-of-type {\n",
       "        vertical-align: middle;\n",
       "    }\n",
       "\n",
       "    .dataframe tbody tr th {\n",
       "        vertical-align: top;\n",
       "    }\n",
       "\n",
       "    .dataframe thead th {\n",
       "        text-align: right;\n",
       "    }\n",
       "</style>\n",
       "<table border=\"1\" class=\"dataframe\">\n",
       "  <thead>\n",
       "    <tr style=\"text-align: right;\">\n",
       "      <th></th>\n",
       "      <th>children</th>\n",
       "      <th>days_employed</th>\n",
       "      <th>dob_years</th>\n",
       "      <th>education</th>\n",
       "      <th>family_status</th>\n",
       "      <th>gender</th>\n",
       "      <th>income_type</th>\n",
       "      <th>debt</th>\n",
       "      <th>total_income</th>\n",
       "      <th>purpose</th>\n",
       "    </tr>\n",
       "  </thead>\n",
       "  <tbody>\n",
       "    <tr>\n",
       "      <th>0</th>\n",
       "      <td>1</td>\n",
       "      <td>-8437</td>\n",
       "      <td>42.0</td>\n",
       "      <td>bachelor's degree</td>\n",
       "      <td>married</td>\n",
       "      <td>F</td>\n",
       "      <td>employee</td>\n",
       "      <td>0</td>\n",
       "      <td>40620</td>\n",
       "      <td>purchase of the house</td>\n",
       "    </tr>\n",
       "    <tr>\n",
       "      <th>1</th>\n",
       "      <td>1</td>\n",
       "      <td>-4024</td>\n",
       "      <td>36.0</td>\n",
       "      <td>secondary education</td>\n",
       "      <td>married</td>\n",
       "      <td>F</td>\n",
       "      <td>employee</td>\n",
       "      <td>0</td>\n",
       "      <td>17932</td>\n",
       "      <td>car purchase</td>\n",
       "    </tr>\n",
       "    <tr>\n",
       "      <th>2</th>\n",
       "      <td>0</td>\n",
       "      <td>-5623</td>\n",
       "      <td>33.0</td>\n",
       "      <td>secondary education</td>\n",
       "      <td>married</td>\n",
       "      <td>M</td>\n",
       "      <td>employee</td>\n",
       "      <td>0</td>\n",
       "      <td>23341</td>\n",
       "      <td>purchase of the house</td>\n",
       "    </tr>\n",
       "    <tr>\n",
       "      <th>3</th>\n",
       "      <td>3</td>\n",
       "      <td>-4124</td>\n",
       "      <td>32.0</td>\n",
       "      <td>secondary education</td>\n",
       "      <td>married</td>\n",
       "      <td>M</td>\n",
       "      <td>employee</td>\n",
       "      <td>0</td>\n",
       "      <td>42820</td>\n",
       "      <td>supplementary education</td>\n",
       "    </tr>\n",
       "    <tr>\n",
       "      <th>4</th>\n",
       "      <td>0</td>\n",
       "      <td>340266</td>\n",
       "      <td>53.0</td>\n",
       "      <td>secondary education</td>\n",
       "      <td>civil partnership</td>\n",
       "      <td>F</td>\n",
       "      <td>retiree</td>\n",
       "      <td>0</td>\n",
       "      <td>25378</td>\n",
       "      <td>to have a wedding</td>\n",
       "    </tr>\n",
       "  </tbody>\n",
       "</table>\n",
       "</div>"
      ],
      "text/plain": [
       "   children  days_employed  dob_years            education      family_status  \\\n",
       "0         1          -8437       42.0    bachelor's degree            married   \n",
       "1         1          -4024       36.0  secondary education            married   \n",
       "2         0          -5623       33.0  secondary education            married   \n",
       "3         3          -4124       32.0  secondary education            married   \n",
       "4         0         340266       53.0  secondary education  civil partnership   \n",
       "\n",
       "  gender income_type  debt  total_income                  purpose  \n",
       "0      F    employee     0         40620    purchase of the house  \n",
       "1      F    employee     0         17932             car purchase  \n",
       "2      M    employee     0         23341    purchase of the house  \n",
       "3      M    employee     0         42820  supplementary education  \n",
       "4      F     retiree     0         25378        to have a wedding  "
      ]
     },
     "execution_count": 21,
     "metadata": {},
     "output_type": "execute_result"
    }
   ],
   "source": [
    "credit_data.drop(['education_id', 'family_status_id'], axis=1, inplace=True)\n",
    "credit_data.head()"
   ]
  },
  {
   "cell_type": "markdown",
   "metadata": {},
   "source": [
    "I will use the value_counts() method to identify unique values and their counts in the gender column."
   ]
  },
  {
   "cell_type": "code",
   "execution_count": 22,
   "metadata": {},
   "outputs": [
    {
     "data": {
      "text/plain": [
       "F      14189\n",
       "M       7281\n",
       "XNA        1\n",
       "Name: gender, dtype: int64"
      ]
     },
     "execution_count": 22,
     "metadata": {},
     "output_type": "execute_result"
    }
   ],
   "source": [
    "credit_data['gender'].value_counts()"
   ]
  },
  {
   "cell_type": "markdown",
   "metadata": {},
   "source": [
    "To have two categories in the gender column, I'll replace the XNA with the top gender in the data.\n",
    "\n",
    "Using the describe() method to get summary statistics of the gender column, and accessing top as an attribute of the column, then assigning this attribute to the row that has 'XNA'."
   ]
  },
  {
   "cell_type": "code",
   "execution_count": 23,
   "metadata": {},
   "outputs": [],
   "source": [
    "credit_data.loc[credit_data['gender'] == 'XNA', 'gender'] = credit_data.gender.describe().top"
   ]
  },
  {
   "cell_type": "markdown",
   "metadata": {},
   "source": [
    "I will use the value_counts() method to identify unique values and their counts in the income_type column."
   ]
  },
  {
   "cell_type": "code",
   "execution_count": 24,
   "metadata": {},
   "outputs": [
    {
     "data": {
      "text/plain": [
       "employee                       11091\n",
       "business                        5080\n",
       "retiree                         3837\n",
       "civil servant                   1457\n",
       "unemployed                         2\n",
       "entrepreneur                       2\n",
       "student                            1\n",
       "paternity / maternity leave        1\n",
       "Name: income_type, dtype: int64"
      ]
     },
     "execution_count": 24,
     "metadata": {},
     "output_type": "execute_result"
    }
   ],
   "source": [
    "credit_data['income_type'].value_counts()"
   ]
  },
  {
   "cell_type": "markdown",
   "metadata": {},
   "source": [
    "In cleaning the income_type column, I'll take it that the student is unemployed, and the client on paternity leave is employed(at the time of data collection, he was on leave. But generally he is employed.)\n",
    "\n",
    "So, I'll change that using the loc access method, to access every row in the column, that has a given condition then assign the desired value."
   ]
  },
  {
   "cell_type": "code",
   "execution_count": 25,
   "metadata": {},
   "outputs": [],
   "source": [
    "credit_data.loc[credit_data['income_type'] == 'student', 'income_type'] = 'unemployed'\n",
    "credit_data.loc[credit_data['income_type'] == 'paternity / maternity leave', 'income_type'] = 'employee'"
   ]
  },
  {
   "cell_type": "markdown",
   "metadata": {},
   "source": [
    "A business and entrepreneur should also fall in the same category, so I'll change the entrepreneur to business."
   ]
  },
  {
   "cell_type": "code",
   "execution_count": 26,
   "metadata": {},
   "outputs": [],
   "source": [
    "credit_data.loc[credit_data['income_type'] == 'entrepreneur', 'income_type'] = 'business'"
   ]
  },
  {
   "cell_type": "markdown",
   "metadata": {},
   "source": [
    "I will use Stemming to categorize the strings in the purpose column, because Stemming finds the stem of a given word.\n",
    "\n",
    "NLTK library is used for stemming. the stem() method is used to find the stem of each word."
   ]
  },
  {
   "cell_type": "markdown",
   "metadata": {},
   "source": [
    "I identified unique words in every row in the purpose column, just by eye-balling, and put them in a list.\n",
    "I used the for loop to find the stem of each word. This stem will be used in the next step, to create if conditions."
   ]
  },
  {
   "cell_type": "code",
   "execution_count": 27,
   "metadata": {},
   "outputs": [
    {
     "name": "stdout",
     "output_type": "stream",
     "text": [
      "['wed', 'estat', 'hous', 'properti', 'car', 'educ', 'univers']\n"
     ]
    }
   ],
   "source": [
    "from nltk.stem import SnowballStemmer\n",
    "stemmer = SnowballStemmer('english')\n",
    "\n",
    "#this is almost unnecessary..check again!!!\n",
    "words = ['wedding', 'estate', 'house', 'property', 'car', 'education', 'university']\n",
    "stem = []\n",
    "for word in words:\n",
    "    stem.append(stemmer.stem(word))\n",
    "print(stem)"
   ]
  },
  {
   "cell_type": "markdown",
   "metadata": {},
   "source": [
    "I have defined a function that finds the stem of every word in every row in the purpose column, and checks with a condition to return a given categorical word."
   ]
  },
  {
   "cell_type": "code",
   "execution_count": 28,
   "metadata": {},
   "outputs": [],
   "source": [
    "def purpose_cat(purpose):\n",
    "    stemmed = [stemmer.stem(word) for word in purpose.split(' ')]\n",
    "    if 'wed' in stemmed:\n",
    "        return 'wedding'\n",
    "    if 'estat' in stemmed:\n",
    "        return 'real estate'\n",
    "    if 'hous' in stemmed:\n",
    "        return 'real estate'\n",
    "    if 'properti' in stemmed:\n",
    "        return 'real estate'\n",
    "    if 'car' in stemmed:\n",
    "        return 'car'\n",
    "    if 'educ' in stemmed:\n",
    "        return 'education'\n",
    "    if 'univers' in stemmed:\n",
    "        return 'education'\n",
    "    else:\n",
    "        return 'unknown'"
   ]
  },
  {
   "cell_type": "markdown",
   "metadata": {},
   "source": [
    "I will call the apply() method for the purpose_cat function on the purpose column."
   ]
  },
  {
   "cell_type": "code",
   "execution_count": 29,
   "metadata": {},
   "outputs": [],
   "source": [
    "credit_data['purpose'] = credit_data['purpose'].apply(purpose_cat)"
   ]
  },
  {
   "cell_type": "code",
   "execution_count": 30,
   "metadata": {},
   "outputs": [
    {
     "data": {
      "text/plain": [
       "Index(['children', 'days_employed', 'dob_years', 'education', 'family_status',\n",
       "       'gender', 'income_type', 'debt', 'total_income', 'purpose'],\n",
       "      dtype='object')"
      ]
     },
     "execution_count": 30,
     "metadata": {},
     "output_type": "execute_result"
    }
   ],
   "source": [
    "#check data columns\n",
    "credit_data.columns"
   ]
  },
  {
   "cell_type": "markdown",
   "metadata": {},
   "source": [
    "After cleaning and organizing these required columns, now I will use the astype() method with 'category' as an argument, to categorize the columns."
   ]
  },
  {
   "cell_type": "code",
   "execution_count": 31,
   "metadata": {},
   "outputs": [],
   "source": [
    "credit_data['education'] = credit_data.education.astype('category')\n",
    "credit_data['family_status'] = credit_data.family_status.astype('category')\n",
    "credit_data['gender'] = credit_data.gender.astype('category')\n",
    "credit_data['income_type'] = credit_data.income_type.astype('category')\n",
    "credit_data['purpose'] = credit_data.purpose.astype('category')"
   ]
  },
  {
   "cell_type": "code",
   "execution_count": 32,
   "metadata": {},
   "outputs": [
    {
     "name": "stdout",
     "output_type": "stream",
     "text": [
      "<class 'pandas.core.frame.DataFrame'>\n",
      "RangeIndex: 21471 entries, 0 to 21470\n",
      "Data columns (total 10 columns):\n",
      " #   Column         Non-Null Count  Dtype   \n",
      "---  ------         --------------  -----   \n",
      " 0   children       21471 non-null  int64   \n",
      " 1   days_employed  21471 non-null  int64   \n",
      " 2   dob_years      21471 non-null  float64 \n",
      " 3   education      21471 non-null  category\n",
      " 4   family_status  21471 non-null  category\n",
      " 5   gender         21471 non-null  category\n",
      " 6   income_type    21471 non-null  category\n",
      " 7   debt           21471 non-null  int64   \n",
      " 8   total_income   21471 non-null  int64   \n",
      " 9   purpose        21471 non-null  category\n",
      "dtypes: category(5), float64(1), int64(4)\n",
      "memory usage: 944.5 KB\n"
     ]
    }
   ],
   "source": [
    "#check the data types of the columns\n",
    "credit_data.info()"
   ]
  },
  {
   "cell_type": "markdown",
   "metadata": {},
   "source": [
    "In the children column, I'll use the describe() method to obtain summary statistics."
   ]
  },
  {
   "cell_type": "code",
   "execution_count": 33,
   "metadata": {},
   "outputs": [
    {
     "data": {
      "text/plain": [
       "count    21471.000000\n",
       "mean         0.539565\n",
       "std          1.382978\n",
       "min         -1.000000\n",
       "25%          0.000000\n",
       "50%          0.000000\n",
       "75%          1.000000\n",
       "max         20.000000\n",
       "Name: children, dtype: float64"
      ]
     },
     "execution_count": 33,
     "metadata": {},
     "output_type": "execute_result"
    }
   ],
   "source": [
    "credit_data['children'].describe()"
   ]
  },
  {
   "cell_type": "markdown",
   "metadata": {},
   "source": [
    "I can see that there are -1 and 20 children!\n",
    "I'll ground the -1 children to 1, because it could be an error that was made during input.\n",
    "And also, the 20 children to 2, because could an error that was made during input."
   ]
  },
  {
   "cell_type": "code",
   "execution_count": 34,
   "metadata": {},
   "outputs": [
    {
     "data": {
      "text/plain": [
       "0    14107\n",
       "1     4856\n",
       "2     2128\n",
       "3      330\n",
       "4       41\n",
       "5        9\n",
       "Name: children, dtype: int64"
      ]
     },
     "execution_count": 34,
     "metadata": {},
     "output_type": "execute_result"
    }
   ],
   "source": [
    "credit_data.loc[credit_data['children'] == -1, 'children'] = 1\n",
    "credit_data.loc[credit_data['children'] == 20, 'children'] = 2\n",
    "credit_data['children'].value_counts()"
   ]
  },
  {
   "cell_type": "markdown",
   "metadata": {},
   "source": [
    "I will create a function that will group the number of children into categories, and test it."
   ]
  },
  {
   "cell_type": "code",
   "execution_count": 35,
   "metadata": {},
   "outputs": [
    {
     "name": "stdout",
     "output_type": "stream",
     "text": [
      "Most\n"
     ]
    }
   ],
   "source": [
    "def child_group(children):\n",
    "    if children == 0:\n",
    "        return 'None'\n",
    "    if 1 <= children <= 2:\n",
    "        return 'Some'\n",
    "    if 3 <= children <= 4:\n",
    "        return 'Many'\n",
    "    else:\n",
    "        return 'Most'\n",
    "print(child_group(5))"
   ]
  },
  {
   "cell_type": "markdown",
   "metadata": {},
   "source": [
    "I will call the apply() method for the child_group function on the children column.\n",
    "Then categorize it."
   ]
  },
  {
   "cell_type": "code",
   "execution_count": 36,
   "metadata": {},
   "outputs": [],
   "source": [
    "credit_data['children'] = credit_data['children'].apply(child_group)"
   ]
  },
  {
   "cell_type": "code",
   "execution_count": 37,
   "metadata": {},
   "outputs": [],
   "source": [
    "credit_data['children'] = credit_data['children'].astype('category')"
   ]
  },
  {
   "cell_type": "code",
   "execution_count": 38,
   "metadata": {},
   "outputs": [
    {
     "data": {
      "text/html": [
       "<div>\n",
       "<style scoped>\n",
       "    .dataframe tbody tr th:only-of-type {\n",
       "        vertical-align: middle;\n",
       "    }\n",
       "\n",
       "    .dataframe tbody tr th {\n",
       "        vertical-align: top;\n",
       "    }\n",
       "\n",
       "    .dataframe thead th {\n",
       "        text-align: right;\n",
       "    }\n",
       "</style>\n",
       "<table border=\"1\" class=\"dataframe\">\n",
       "  <thead>\n",
       "    <tr style=\"text-align: right;\">\n",
       "      <th></th>\n",
       "      <th>children</th>\n",
       "      <th>days_employed</th>\n",
       "      <th>dob_years</th>\n",
       "      <th>education</th>\n",
       "      <th>family_status</th>\n",
       "      <th>gender</th>\n",
       "      <th>income_type</th>\n",
       "      <th>debt</th>\n",
       "      <th>total_income</th>\n",
       "      <th>purpose</th>\n",
       "    </tr>\n",
       "  </thead>\n",
       "  <tbody>\n",
       "    <tr>\n",
       "      <th>17511</th>\n",
       "      <td>None</td>\n",
       "      <td>345665</td>\n",
       "      <td>60.0</td>\n",
       "      <td>secondary education</td>\n",
       "      <td>married</td>\n",
       "      <td>F</td>\n",
       "      <td>retiree</td>\n",
       "      <td>0</td>\n",
       "      <td>8389</td>\n",
       "      <td>real estate</td>\n",
       "    </tr>\n",
       "    <tr>\n",
       "      <th>2461</th>\n",
       "      <td>Some</td>\n",
       "      <td>-4714</td>\n",
       "      <td>60.0</td>\n",
       "      <td>secondary education</td>\n",
       "      <td>civil partnership</td>\n",
       "      <td>M</td>\n",
       "      <td>employee</td>\n",
       "      <td>0</td>\n",
       "      <td>28588</td>\n",
       "      <td>wedding</td>\n",
       "    </tr>\n",
       "    <tr>\n",
       "      <th>18804</th>\n",
       "      <td>None</td>\n",
       "      <td>340673</td>\n",
       "      <td>56.0</td>\n",
       "      <td>secondary education</td>\n",
       "      <td>married</td>\n",
       "      <td>F</td>\n",
       "      <td>retiree</td>\n",
       "      <td>0</td>\n",
       "      <td>17601</td>\n",
       "      <td>real estate</td>\n",
       "    </tr>\n",
       "    <tr>\n",
       "      <th>4332</th>\n",
       "      <td>Some</td>\n",
       "      <td>-7834</td>\n",
       "      <td>45.0</td>\n",
       "      <td>secondary education</td>\n",
       "      <td>civil partnership</td>\n",
       "      <td>M</td>\n",
       "      <td>employee</td>\n",
       "      <td>0</td>\n",
       "      <td>26747</td>\n",
       "      <td>wedding</td>\n",
       "    </tr>\n",
       "    <tr>\n",
       "      <th>10846</th>\n",
       "      <td>Many</td>\n",
       "      <td>-3251</td>\n",
       "      <td>34.0</td>\n",
       "      <td>secondary education</td>\n",
       "      <td>civil partnership</td>\n",
       "      <td>F</td>\n",
       "      <td>business</td>\n",
       "      <td>0</td>\n",
       "      <td>10462</td>\n",
       "      <td>car</td>\n",
       "    </tr>\n",
       "    <tr>\n",
       "      <th>18941</th>\n",
       "      <td>None</td>\n",
       "      <td>-430</td>\n",
       "      <td>22.0</td>\n",
       "      <td>secondary education</td>\n",
       "      <td>unmarried</td>\n",
       "      <td>M</td>\n",
       "      <td>employee</td>\n",
       "      <td>0</td>\n",
       "      <td>8136</td>\n",
       "      <td>real estate</td>\n",
       "    </tr>\n",
       "    <tr>\n",
       "      <th>19535</th>\n",
       "      <td>None</td>\n",
       "      <td>-479</td>\n",
       "      <td>27.0</td>\n",
       "      <td>bachelor's degree</td>\n",
       "      <td>unmarried</td>\n",
       "      <td>M</td>\n",
       "      <td>business</td>\n",
       "      <td>1</td>\n",
       "      <td>26013</td>\n",
       "      <td>car</td>\n",
       "    </tr>\n",
       "    <tr>\n",
       "      <th>1185</th>\n",
       "      <td>None</td>\n",
       "      <td>-1623</td>\n",
       "      <td>54.0</td>\n",
       "      <td>secondary education</td>\n",
       "      <td>civil partnership</td>\n",
       "      <td>F</td>\n",
       "      <td>business</td>\n",
       "      <td>0</td>\n",
       "      <td>19147</td>\n",
       "      <td>real estate</td>\n",
       "    </tr>\n",
       "    <tr>\n",
       "      <th>2694</th>\n",
       "      <td>Some</td>\n",
       "      <td>-1748</td>\n",
       "      <td>43.0</td>\n",
       "      <td>secondary education</td>\n",
       "      <td>divorced</td>\n",
       "      <td>M</td>\n",
       "      <td>employee</td>\n",
       "      <td>0</td>\n",
       "      <td>16934</td>\n",
       "      <td>real estate</td>\n",
       "    </tr>\n",
       "    <tr>\n",
       "      <th>15406</th>\n",
       "      <td>None</td>\n",
       "      <td>-1409</td>\n",
       "      <td>42.0</td>\n",
       "      <td>secondary education</td>\n",
       "      <td>divorced</td>\n",
       "      <td>F</td>\n",
       "      <td>employee</td>\n",
       "      <td>0</td>\n",
       "      <td>11761</td>\n",
       "      <td>car</td>\n",
       "    </tr>\n",
       "    <tr>\n",
       "      <th>16284</th>\n",
       "      <td>None</td>\n",
       "      <td>0</td>\n",
       "      <td>21.0</td>\n",
       "      <td>secondary education</td>\n",
       "      <td>unmarried</td>\n",
       "      <td>F</td>\n",
       "      <td>employee</td>\n",
       "      <td>0</td>\n",
       "      <td>0</td>\n",
       "      <td>real estate</td>\n",
       "    </tr>\n",
       "    <tr>\n",
       "      <th>19929</th>\n",
       "      <td>Some</td>\n",
       "      <td>-2631</td>\n",
       "      <td>36.0</td>\n",
       "      <td>secondary education</td>\n",
       "      <td>married</td>\n",
       "      <td>F</td>\n",
       "      <td>employee</td>\n",
       "      <td>0</td>\n",
       "      <td>13066</td>\n",
       "      <td>real estate</td>\n",
       "    </tr>\n",
       "    <tr>\n",
       "      <th>21056</th>\n",
       "      <td>Many</td>\n",
       "      <td>-1273</td>\n",
       "      <td>34.0</td>\n",
       "      <td>secondary education</td>\n",
       "      <td>married</td>\n",
       "      <td>F</td>\n",
       "      <td>employee</td>\n",
       "      <td>0</td>\n",
       "      <td>13992</td>\n",
       "      <td>real estate</td>\n",
       "    </tr>\n",
       "    <tr>\n",
       "      <th>19369</th>\n",
       "      <td>None</td>\n",
       "      <td>-2300</td>\n",
       "      <td>64.0</td>\n",
       "      <td>secondary education</td>\n",
       "      <td>widow / widower</td>\n",
       "      <td>F</td>\n",
       "      <td>employee</td>\n",
       "      <td>0</td>\n",
       "      <td>20775</td>\n",
       "      <td>real estate</td>\n",
       "    </tr>\n",
       "    <tr>\n",
       "      <th>13820</th>\n",
       "      <td>Some</td>\n",
       "      <td>-1258</td>\n",
       "      <td>28.0</td>\n",
       "      <td>secondary education</td>\n",
       "      <td>married</td>\n",
       "      <td>F</td>\n",
       "      <td>employee</td>\n",
       "      <td>1</td>\n",
       "      <td>10095</td>\n",
       "      <td>education</td>\n",
       "    </tr>\n",
       "    <tr>\n",
       "      <th>20866</th>\n",
       "      <td>Many</td>\n",
       "      <td>-294</td>\n",
       "      <td>36.0</td>\n",
       "      <td>secondary education</td>\n",
       "      <td>civil partnership</td>\n",
       "      <td>F</td>\n",
       "      <td>employee</td>\n",
       "      <td>0</td>\n",
       "      <td>26879</td>\n",
       "      <td>wedding</td>\n",
       "    </tr>\n",
       "    <tr>\n",
       "      <th>3299</th>\n",
       "      <td>None</td>\n",
       "      <td>370270</td>\n",
       "      <td>55.0</td>\n",
       "      <td>secondary education</td>\n",
       "      <td>married</td>\n",
       "      <td>F</td>\n",
       "      <td>retiree</td>\n",
       "      <td>0</td>\n",
       "      <td>12544</td>\n",
       "      <td>education</td>\n",
       "    </tr>\n",
       "    <tr>\n",
       "      <th>12348</th>\n",
       "      <td>None</td>\n",
       "      <td>0</td>\n",
       "      <td>66.0</td>\n",
       "      <td>secondary education</td>\n",
       "      <td>widow / widower</td>\n",
       "      <td>F</td>\n",
       "      <td>employee</td>\n",
       "      <td>0</td>\n",
       "      <td>0</td>\n",
       "      <td>real estate</td>\n",
       "    </tr>\n",
       "    <tr>\n",
       "      <th>9237</th>\n",
       "      <td>Some</td>\n",
       "      <td>-688</td>\n",
       "      <td>38.0</td>\n",
       "      <td>secondary education</td>\n",
       "      <td>married</td>\n",
       "      <td>F</td>\n",
       "      <td>civil servant</td>\n",
       "      <td>0</td>\n",
       "      <td>19660</td>\n",
       "      <td>car</td>\n",
       "    </tr>\n",
       "    <tr>\n",
       "      <th>21067</th>\n",
       "      <td>None</td>\n",
       "      <td>0</td>\n",
       "      <td>40.0</td>\n",
       "      <td>secondary education</td>\n",
       "      <td>married</td>\n",
       "      <td>F</td>\n",
       "      <td>employee</td>\n",
       "      <td>0</td>\n",
       "      <td>0</td>\n",
       "      <td>car</td>\n",
       "    </tr>\n",
       "  </tbody>\n",
       "</table>\n",
       "</div>"
      ],
      "text/plain": [
       "      children  days_employed  dob_years            education  \\\n",
       "17511     None         345665       60.0  secondary education   \n",
       "2461      Some          -4714       60.0  secondary education   \n",
       "18804     None         340673       56.0  secondary education   \n",
       "4332      Some          -7834       45.0  secondary education   \n",
       "10846     Many          -3251       34.0  secondary education   \n",
       "18941     None           -430       22.0  secondary education   \n",
       "19535     None           -479       27.0    bachelor's degree   \n",
       "1185      None          -1623       54.0  secondary education   \n",
       "2694      Some          -1748       43.0  secondary education   \n",
       "15406     None          -1409       42.0  secondary education   \n",
       "16284     None              0       21.0  secondary education   \n",
       "19929     Some          -2631       36.0  secondary education   \n",
       "21056     Many          -1273       34.0  secondary education   \n",
       "19369     None          -2300       64.0  secondary education   \n",
       "13820     Some          -1258       28.0  secondary education   \n",
       "20866     Many           -294       36.0  secondary education   \n",
       "3299      None         370270       55.0  secondary education   \n",
       "12348     None              0       66.0  secondary education   \n",
       "9237      Some           -688       38.0  secondary education   \n",
       "21067     None              0       40.0  secondary education   \n",
       "\n",
       "           family_status gender    income_type  debt  total_income  \\\n",
       "17511            married      F        retiree     0          8389   \n",
       "2461   civil partnership      M       employee     0         28588   \n",
       "18804            married      F        retiree     0         17601   \n",
       "4332   civil partnership      M       employee     0         26747   \n",
       "10846  civil partnership      F       business     0         10462   \n",
       "18941          unmarried      M       employee     0          8136   \n",
       "19535          unmarried      M       business     1         26013   \n",
       "1185   civil partnership      F       business     0         19147   \n",
       "2694            divorced      M       employee     0         16934   \n",
       "15406           divorced      F       employee     0         11761   \n",
       "16284          unmarried      F       employee     0             0   \n",
       "19929            married      F       employee     0         13066   \n",
       "21056            married      F       employee     0         13992   \n",
       "19369    widow / widower      F       employee     0         20775   \n",
       "13820            married      F       employee     1         10095   \n",
       "20866  civil partnership      F       employee     0         26879   \n",
       "3299             married      F        retiree     0         12544   \n",
       "12348    widow / widower      F       employee     0             0   \n",
       "9237             married      F  civil servant     0         19660   \n",
       "21067            married      F       employee     0             0   \n",
       "\n",
       "           purpose  \n",
       "17511  real estate  \n",
       "2461       wedding  \n",
       "18804  real estate  \n",
       "4332       wedding  \n",
       "10846          car  \n",
       "18941  real estate  \n",
       "19535          car  \n",
       "1185   real estate  \n",
       "2694   real estate  \n",
       "15406          car  \n",
       "16284  real estate  \n",
       "19929  real estate  \n",
       "21056  real estate  \n",
       "19369  real estate  \n",
       "13820    education  \n",
       "20866      wedding  \n",
       "3299     education  \n",
       "12348  real estate  \n",
       "9237           car  \n",
       "21067          car  "
      ]
     },
     "execution_count": 38,
     "metadata": {},
     "output_type": "execute_result"
    }
   ],
   "source": [
    "#sample the data\n",
    "credit_data.sample(20)"
   ]
  },
  {
   "cell_type": "markdown",
   "metadata": {},
   "source": [
    "I will use the value_counts() method to identify unique values and their counts in the debt column."
   ]
  },
  {
   "cell_type": "code",
   "execution_count": 39,
   "metadata": {},
   "outputs": [
    {
     "data": {
      "text/plain": [
       "0    19730\n",
       "1     1741\n",
       "Name: debt, dtype: int64"
      ]
     },
     "execution_count": 39,
     "metadata": {},
     "output_type": "execute_result"
    }
   ],
   "source": [
    "credit_data['debt'].value_counts()"
   ]
  },
  {
   "cell_type": "markdown",
   "metadata": {},
   "source": [
    "I will create a function that returns a string to define 0 as having paid the debt, and 1 as having defaulted on paying the debt."
   ]
  },
  {
   "cell_type": "code",
   "execution_count": 40,
   "metadata": {},
   "outputs": [],
   "source": [
    "def debt_group(debt):\n",
    "    if debt == 0:\n",
    "        return 'paid'\n",
    "    else:\n",
    "        return 'defaulted'"
   ]
  },
  {
   "cell_type": "markdown",
   "metadata": {},
   "source": [
    "I will then create a new column: debt_group and call the apply() method for the debt_group function on the debt column."
   ]
  },
  {
   "cell_type": "code",
   "execution_count": 41,
   "metadata": {},
   "outputs": [],
   "source": [
    "credit_data['debt_group'] = credit_data['debt'].apply(debt_group)"
   ]
  },
  {
   "cell_type": "markdown",
   "metadata": {},
   "source": [
    "I will categorize the new column that I created."
   ]
  },
  {
   "cell_type": "code",
   "execution_count": 42,
   "metadata": {},
   "outputs": [],
   "source": [
    "credit_data['debt_group'] = credit_data['debt_group'].astype('category')"
   ]
  },
  {
   "cell_type": "code",
   "execution_count": 43,
   "metadata": {},
   "outputs": [
    {
     "data": {
      "text/plain": [
       "count    21471.000000\n",
       "mean        43.476643\n",
       "std         12.217612\n",
       "min         19.000000\n",
       "25%         33.500000\n",
       "50%         42.000000\n",
       "75%         53.000000\n",
       "max         75.000000\n",
       "Name: dob_years, dtype: float64"
      ]
     },
     "execution_count": 43,
     "metadata": {},
     "output_type": "execute_result"
    }
   ],
   "source": [
    "#check the age column\n",
    "credit_data['dob_years'].describe()"
   ]
  },
  {
   "cell_type": "code",
   "execution_count": 44,
   "metadata": {},
   "outputs": [],
   "source": [
    "#change dob_years to int\n",
    "credit_data['dob_years'] = credit_data['dob_years'].astype('int64')"
   ]
  },
  {
   "cell_type": "code",
   "execution_count": 45,
   "metadata": {},
   "outputs": [
    {
     "name": "stdout",
     "output_type": "stream",
     "text": [
      "<class 'pandas.core.frame.DataFrame'>\n",
      "RangeIndex: 21471 entries, 0 to 21470\n",
      "Data columns (total 11 columns):\n",
      " #   Column         Non-Null Count  Dtype   \n",
      "---  ------         --------------  -----   \n",
      " 0   children       21471 non-null  category\n",
      " 1   days_employed  21471 non-null  int64   \n",
      " 2   dob_years      21471 non-null  int64   \n",
      " 3   education      21471 non-null  category\n",
      " 4   family_status  21471 non-null  category\n",
      " 5   gender         21471 non-null  category\n",
      " 6   income_type    21471 non-null  category\n",
      " 7   debt           21471 non-null  int64   \n",
      " 8   total_income   21471 non-null  int64   \n",
      " 9   purpose        21471 non-null  category\n",
      " 10  debt_group     21471 non-null  category\n",
      "dtypes: category(7), int64(4)\n",
      "memory usage: 819.0 KB\n"
     ]
    }
   ],
   "source": [
    "credit_data.info()"
   ]
  },
  {
   "cell_type": "markdown",
   "metadata": {},
   "source": [
    "### Task 3"
   ]
  },
  {
   "cell_type": "markdown",
   "metadata": {},
   "source": [
    "### Is there a connection between having kids and repaying a loan on time?"
   ]
  },
  {
   "cell_type": "markdown",
   "metadata": {},
   "source": [
    "I will create pivot tables to concentrate data on chosen aspects.\n",
    "\n",
    "Using the pivot_table() method with index, values, columns and aggfunc arguments.\n",
    "I will rename the columns and fill NaN values with zero, if any.\n",
    "I will then calculate the percentage of paid loans with the total number of loans variable to find a connection."
   ]
  },
  {
   "cell_type": "code",
   "execution_count": 70,
   "metadata": {},
   "outputs": [
    {
     "name": "stdout",
     "output_type": "stream",
     "text": [
      "          defaulted_counts  paid_counts  total_counts       %paid\n",
      "children                                                         \n",
      "Most                   0.0          9.0           9.0  100.000000\n",
      "None                1063.0      13044.0       14107.0   92.464734\n",
      "Many                  31.0        340.0         371.0   91.644205\n",
      "Some                 647.0       6337.0        6984.0   90.735968\n"
     ]
    }
   ],
   "source": [
    "children = credit_data.pivot_table(index=['children'], values='debt', columns='debt_group', aggfunc=['count'])\n",
    "total_data = credit_data.shape[0] #total number of loans in the data\n",
    "children.columns = ['defaulted_counts', 'paid_counts']\n",
    "children.fillna(value=0, inplace=True)\n",
    "children['total_counts'] = children['defaulted_counts'] + children['paid_counts']\n",
    "children['%paid'] = (children['paid_counts'] / children['total_counts']) * 100\n",
    "print(children.sort_values(by='%paid', ascending=False))"
   ]
  },
  {
   "cell_type": "markdown",
   "metadata": {},
   "source": [
    "##### There is a connection between having kids and repaying a loan on time, because the group with most children paid all their loans at 100%. A much higher percentage than the rest of the groups."
   ]
  },
  {
   "cell_type": "markdown",
   "metadata": {},
   "source": [
    "### Is there a connection between marital status and repaying a loan on time?"
   ]
  },
  {
   "cell_type": "code",
   "execution_count": 71,
   "metadata": {},
   "outputs": [
    {
     "name": "stdout",
     "output_type": "stream",
     "text": [
      "                   defaulted_counts  paid_counts  total_counts  total  \\\n",
      "family_status                                                           \n",
      "widow / widower                  63          896           959    959   \n",
      "divorced                         85         1110          1195   1195   \n",
      "married                         931        11413         12344  12344   \n",
      "civil partnership               388         3775          4163   4163   \n",
      "unmarried                       274         2536          2810   2810   \n",
      "\n",
      "                       %paid  \n",
      "family_status                 \n",
      "widow / widower    93.430657  \n",
      "divorced           92.887029  \n",
      "married            92.457874  \n",
      "civil partnership  90.679798  \n",
      "unmarried          90.249110  \n"
     ]
    }
   ],
   "source": [
    "family = credit_data.pivot_table(index='family_status', values='debt', columns='debt_group', aggfunc='count')\n",
    "family.columns = ['defaulted_counts', 'paid_counts']\n",
    "family['total_counts'] = family['defaulted_counts'] + family['paid_counts']\n",
    "family['total'] = credit_data.groupby('family_status')['debt_group'].count()\n",
    "family['%paid'] = (family['paid_counts'] / family['total_counts']) * 100\n",
    "print(family.sort_values(by='%paid', ascending=False))"
   ]
  },
  {
   "cell_type": "markdown",
   "metadata": {},
   "source": [
    "#### Yes, there is. Widowed customers had the highest percentage of paid loans. Followed closely by divorced customers.\n",
    "\n",
    "#### Unmarried customers paid their loans the least.\n",
    "\n",
    "#### This could be an indicator that customers who had been in previous marriages paid their loans more, unlike customers who are unmarried who paid loans the least."
   ]
  },
  {
   "cell_type": "markdown",
   "metadata": {},
   "source": [
    "### Is there a connection between income level and repaying a loan on time?"
   ]
  },
  {
   "cell_type": "code",
   "execution_count": 72,
   "metadata": {},
   "outputs": [
    {
     "name": "stdout",
     "output_type": "stream",
     "text": [
      "               defaulted_counts  paid_counts  total_counts      %paid\n",
      "income_type                                                          \n",
      "retiree                     216         3621          3837  94.370602\n",
      "civil servant                86         1371          1457  94.097461\n",
      "business                    376         4706          5082  92.601338\n",
      "employee                   1062        10030         11092  90.425532\n",
      "unemployed                    1            2             3  66.666667\n"
     ]
    }
   ],
   "source": [
    "income = credit_data.pivot_table(index='income_type', values='debt', columns='debt_group', aggfunc='count')\n",
    "income.columns = ['defaulted_counts', 'paid_counts']\n",
    "income['total_counts'] = income['defaulted_counts'] + income['paid_counts']\n",
    "income['%paid'] = (income['paid_counts'] / income['total_counts']) * 100\n",
    "print(income.sort_values(by='%paid', ascending=False))"
   ]
  },
  {
   "cell_type": "markdown",
   "metadata": {},
   "source": [
    "##### Retired customers paid their loans on time, followed closely by civil servant customers.\n",
    "\n",
    "##### Unemployed customers paid their loans the least."
   ]
  },
  {
   "cell_type": "markdown",
   "metadata": {},
   "source": [
    "### How do different loan purposes affect timely loan repayment?"
   ]
  },
  {
   "cell_type": "code",
   "execution_count": 73,
   "metadata": {},
   "outputs": [
    {
     "name": "stdout",
     "output_type": "stream",
     "text": [
      "             defaulted_counts  paid_counts  total_counts      %paid\n",
      "purpose                                                            \n",
      "real estate               782        10032         10814  92.768633\n",
      "wedding                   186         2149          2335  92.034261\n",
      "education                 370         3644          4014  90.782262\n",
      "car                       403         3905          4308  90.645311\n"
     ]
    }
   ],
   "source": [
    "purposes = credit_data.pivot_table(index='purpose', values='debt', columns='debt_group', aggfunc='count')\n",
    "purposes.columns = ['defaulted_counts', 'paid_counts']\n",
    "purposes['total_counts'] = purposes['defaulted_counts'] + purposes['paid_counts']\n",
    "#purposes.drop('defaulted', axis=1, inplace=True)\n",
    "purposes['%paid'] = (purposes['paid_counts'] / purposes['total_counts']) * 100\n",
    "print(purposes.sort_values(by='%paid', ascending=False))"
   ]
  },
  {
   "cell_type": "markdown",
   "metadata": {},
   "source": [
    "#### For the Real Estate purpose, the clients paid the loans the most.\n",
    "\n",
    "#### Car purposes paid their loans the least."
   ]
  },
  {
   "cell_type": "markdown",
   "metadata": {},
   "source": [
    "#### Use of the try-except function"
   ]
  },
  {
   "cell_type": "code",
   "execution_count": 50,
   "metadata": {
    "scrolled": true
   },
   "outputs": [
    {
     "name": "stdout",
     "output_type": "stream",
     "text": [
      "The function has raised an error.\n"
     ]
    }
   ],
   "source": [
    "#create a function for the tasks that sorts the values automatically.\n",
    "#reusable code:\n",
    "def sort_percentage(data):\n",
    "        return data.sort_values(ascending=False)\n",
    "try:\n",
    "    percentages = purposes['%paid'].apply(sort_percentage)\n",
    "    print(top)\n",
    "except:\n",
    "    print('The function has raised an error.')"
   ]
  },
  {
   "cell_type": "markdown",
   "metadata": {},
   "source": [
    "### Overall conclusion:"
   ]
  },
  {
   "cell_type": "markdown",
   "metadata": {},
   "source": [
    "#### An ideal customer for credit is one who has more than 4 children, is widowed, retired and takes credit for real estate purposes.\n",
    "\n",
    "#### A non-ideal customer for credit is one with between 1 and 2 children, is unmarried, unemployed and takes credit for car purposes.\n",
    "\n",
    "#### Most customers who took loans paid them back because there is a higher percentage of paid loans.\n"
   ]
  },
  {
   "cell_type": "code",
   "execution_count": null,
   "metadata": {},
   "outputs": [],
   "source": []
  }
 ],
 "metadata": {
  "kernelspec": {
   "display_name": "Python 3",
   "language": "python",
   "name": "python3"
  },
  "language_info": {
   "codemirror_mode": {
    "name": "ipython",
    "version": 3
   },
   "file_extension": ".py",
   "mimetype": "text/x-python",
   "name": "python",
   "nbconvert_exporter": "python",
   "pygments_lexer": "ipython3",
   "version": "3.7.6"
  }
 },
 "nbformat": 4,
 "nbformat_minor": 4
}
