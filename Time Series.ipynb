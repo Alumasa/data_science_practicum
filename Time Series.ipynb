{
 "cells": [
  {
   "cell_type": "markdown",
   "metadata": {},
   "source": [
    "### Time Series\n",
    "\n",
    "Time series are the sequences of numbers along the time axis."
   ]
  },
  {
   "cell_type": "code",
   "execution_count": 1,
   "metadata": {},
   "outputs": [],
   "source": [
    "import pandas as pd"
   ]
  },
  {
   "cell_type": "code",
   "execution_count": 2,
   "metadata": {},
   "outputs": [],
   "source": [
    "#convert an object dtyoe to datetime\n",
    "data = pd.read_csv('/datasets/energy_consumption.csv')\n",
    "\n",
    "data['Datetime'] = pd.to_datetime(data['Datetime'])\n",
    "print(data.info())\n",
    "\n",
    "#OR parse_dates arguments in the read_csv\n",
    "data = pd.read_csv('/datasets/energy_consumption.csv', parse_dates=[0])"
   ]
  },
  {
   "cell_type": "code",
   "execution_count": null,
   "metadata": {},
   "outputs": [],
   "source": [
    "#Set the table index equal to the Datetime column.\n",
    "#or call the df.set_index() function.\n",
    "data = pd.read_csv('/datasets/energy_consumption.csv', parse_dates=[0], index_col='Datetime')"
   ]
  },
  {
   "cell_type": "code",
   "execution_count": null,
   "metadata": {},
   "outputs": [],
   "source": [
    "#change the dates to chronological order\n",
    "import pandas as pd\n",
    "\n",
    "data = pd.read_csv('/datasets/energy_consumption.csv', index_col=[0], parse_dates=[0])\n",
    "data.sort_index(axis=0, ascending=True, inplace=True)\n",
    "print(data.index.is_monotonic)\n",
    "# < write code here >\n",
    "print(data.info())"
   ]
  },
  {
   "cell_type": "code",
   "execution_count": null,
   "metadata": {},
   "outputs": [],
   "source": [
    "#select data from january to june 2018\n",
    "import pandas as pd\n",
    "\n",
    "data = pd.read_csv('/datasets/energy_consumption.csv', index_col=[0], parse_dates=[0])\n",
    "data.sort_index(inplace=True)\n",
    "data = data['2018-01':'2018-06']\n",
    "print(data.info())"
   ]
  },
  {
   "cell_type": "code",
   "execution_count": null,
   "metadata": {},
   "outputs": [],
   "source": [
    "#Plot the time series graph.\n",
    "data.plot()"
   ]
  },
  {
   "cell_type": "markdown",
   "metadata": {},
   "source": [
    "### Resampling\n",
    "- change the interval of a time series"
   ]
  },
  {
   "cell_type": "code",
   "execution_count": null,
   "metadata": {},
   "outputs": [],
   "source": [
    "#To change the interval and group the values, call the resample() function\n",
    "# 1H = one hour\n",
    "data.resample('1H') \n",
    "\n",
    "# 2W = two weeks\n",
    "data.resample('2W')"
   ]
  },
  {
   "cell_type": "code",
   "execution_count": null,
   "metadata": {},
   "outputs": [],
   "source": [
    "#The resample() function is similar to the groupby() function. \n",
    "#After grouping, call functions mean() and max() to aggregate the values:\n",
    "# mean for each hour\n",
    "data.resample('1H').mean()\n",
    "\n",
    "# maximum for each two weeks\n",
    "data.resample('2W').max()"
   ]
  },
  {
   "cell_type": "code",
   "execution_count": null,
   "metadata": {},
   "outputs": [],
   "source": [
    "#Plot the graph of average electricity consumption by year\n",
    "import pandas as pd\n",
    "\n",
    "data = pd.read_csv('/datasets/energy_consumption.csv', index_col=[0], parse_dates=[0])\n",
    "data.sort_index(inplace=True)\n",
    "data = data.resample('1Y').mean()\n",
    "# < write code here >\n",
    "data.plot()"
   ]
  },
  {
   "cell_type": "code",
   "execution_count": null,
   "metadata": {},
   "outputs": [],
   "source": [
    "import pandas as pd\n",
    "\n",
    "data = pd.read_csv('/datasets/energy_consumption.csv', index_col=[0], parse_dates=[0])\n",
    "data.sort_index(inplace=True)\n",
    "data = data['2018-01' : '2018-06'].resample('1D').sum()# < write code here >\n",
    "data.plot()"
   ]
  },
  {
   "cell_type": "markdown",
   "metadata": {},
   "source": [
    "### Rolling mean\n",
    "\n",
    "Rolling mean or moving average is a method of smoothing the data in a time series. \n",
    "- The method involves finding the values least susceptible to fluctuations, that is, the arithmetic mean.\n",
    "\n",
    "*Here's how the method works:*\n",
    "- The interval for averaging (window size) is selected experimentally.\n",
    "    - The larger the interval, the stronger the smoothing. \n",
    "- Then the window starts to \"roll\" almost from the beginning to the end of the time series. \n",
    "    - The mean value is calculated at each point.\n",
    "    \n",
    "In the moving average, the windows overlap and cannot go beyond the series. \n",
    "- So the number of obtained means will be slightly less than the number of the initial values of the series."
   ]
  },
  {
   "cell_type": "code",
   "execution_count": null,
   "metadata": {},
   "outputs": [],
   "source": [
    "#Call the rolling() function to create a rolling window. Specify the window size in the argument:\n",
    "# window size 7\n",
    "data.rolling(7)"
   ]
  },
  {
   "cell_type": "code",
   "execution_count": null,
   "metadata": {},
   "outputs": [],
   "source": [
    "#Call the mean() function to aggregate the values:\n",
    "# rolling mean with window size 7\n",
    "data.rolling(7).mean()"
   ]
  },
  {
   "cell_type": "code",
   "execution_count": null,
   "metadata": {},
   "outputs": [],
   "source": [
    "import pandas as pd\n",
    "\n",
    "data = pd.read_csv('/datasets/energy_consumption.csv', index_col=[0], parse_dates=[0])\n",
    "data.sort_index(inplace=True)\n",
    "data = data['2018-01':'2018-06'].resample('1D').sum()\n",
    "data['rolling_mean'] = data.rolling(10).mean()\n",
    "data.plot()"
   ]
  },
  {
   "cell_type": "markdown",
   "metadata": {},
   "source": [
    "### Trends and Seasonality"
   ]
  },
  {
   "cell_type": "code",
   "execution_count": null,
   "metadata": {},
   "outputs": [],
   "source": [
    "import pandas as pd\n",
    "from statsmodels.tsa.seasonal import seasonal_decompose\n",
    "import matplotlib.pyplot as plt\n",
    "\n",
    "data = pd.read_csv('/datasets/energy_consumption.csv', index_col=[0], parse_dates=[0])\n",
    "data.sort_index(inplace=True)\n",
    "data = data['2018-01':'2018-06'].resample('1D').sum()\n",
    "\n",
    "decomposed = seasonal_decompose(data)# < write code here >\n",
    "\n",
    "plt.figure(figsize=(6, 8))\n",
    "plt.subplot(311)\n",
    "# To display the graph correctly, specify its\n",
    "# axes ax equal to plt.gca() (gca = get current axis)\n",
    "decomposed.trend.plot(ax=plt.gca())\n",
    "plt.title('Trend')\n",
    "plt.subplot(312)\n",
    "# < write code here >\n",
    "decomposed.seasonal.plot(ax=plt.gca())\n",
    "plt.title('Seasonality')\n",
    "plt.subplot(313)\n",
    "# < write code here >\n",
    "decomposed.resid.plot(ax=plt.gca())\n",
    "plt.title('Residuals')\n",
    "plt.tight_layout()"
   ]
  },
  {
   "cell_type": "code",
   "execution_count": null,
   "metadata": {},
   "outputs": [],
   "source": [
    "#Plot a graph of the seasonal component for the first 15 days of January 2018.\n",
    "import pandas as pd\n",
    "from statsmodels.tsa.seasonal import seasonal_decompose\n",
    "import matplotlib.pyplot as plt\n",
    "\n",
    "data = pd.read_csv('/datasets/energy_consumption.csv', index_col=[0], parse_dates=[0])\n",
    "data.sort_index(inplace=True)\n",
    "data = data['2018-01':'2018-06'].resample('1D').sum()\n",
    "\n",
    "decomposed = seasonal_decompose(data)\n",
    "\n",
    "# < write code\n",
    "decomposed = seasonal_decompose(data)\n",
    "decomposed.seasonal['2018-01-01':'2018-01-15'].plot()"
   ]
  },
  {
   "cell_type": "markdown",
   "metadata": {},
   "source": [
    "### Stationary series"
   ]
  },
  {
   "cell_type": "code",
   "execution_count": null,
   "metadata": {},
   "outputs": [],
   "source": [
    "import pandas as pd\n",
    "\n",
    "data = pd.read_csv('energy_consumption.csv', index_col=[0], parse_dates=[0])\n",
    "data.sort_index(inplace=True)\n",
    "data = data['2018-01':'2018-06'].resample('1D').sum()\n",
    "data['mean'] = data['PJME_MW'].rolling(15).mean()\n",
    "data['std'] = data['PJME_MW'].rolling(15).std()\n",
    "data.plot()"
   ]
  },
  {
   "cell_type": "code",
   "execution_count": 1,
   "metadata": {},
   "outputs": [
    {
     "name": "stdout",
     "output_type": "stream",
     "text": [
      "0    0.5\n",
      "1    0.7\n",
      "2    2.4\n",
      "3    3.2\n",
      "dtype: float64\n",
      "0    NaN\n",
      "1    0.5\n",
      "2    0.7\n",
      "3    2.4\n",
      "dtype: float64\n"
     ]
    }
   ],
   "source": [
    "import pandas as pd\n",
    "data = pd.Series([0.5, 0.7, 2.4, 3.2])\n",
    "print(data)\n",
    "print(data.shift())"
   ]
  },
  {
   "cell_type": "code",
   "execution_count": 2,
   "metadata": {},
   "outputs": [
    {
     "name": "stdout",
     "output_type": "stream",
     "text": [
      "0    0.5\n",
      "1    0.7\n",
      "2    2.4\n",
      "3    3.2\n",
      "dtype: float64\n",
      "0    0.0\n",
      "1    0.5\n",
      "2    0.7\n",
      "3    2.4\n",
      "dtype: float64\n"
     ]
    }
   ],
   "source": [
    "import pandas as pd\n",
    "\n",
    "data = pd.Series([0.5, 0.7, 2.4, 3.2])\n",
    "print(data)\n",
    "print(data.shift(fill_value=0))"
   ]
  },
  {
   "cell_type": "markdown",
   "metadata": {},
   "source": [
    "### Time Series Difference"
   ]
  },
  {
   "cell_type": "code",
   "execution_count": null,
   "metadata": {},
   "outputs": [],
   "source": [
    "import pandas as pd\n",
    "\n",
    "data = pd.read_csv('/datasets/energy_consumption.csv', index_col=[0], parse_dates=[0])\n",
    "data.sort_index(inplace=True)\n",
    "data = data['2018-01':'2018-06'].resample('1D').sum()\n",
    "# < write code here >\n",
    "data = data - data.shift()\n",
    "data['mean'] = data['PJME_MW'].rolling(15).mean()\n",
    "data['std'] = data['PJME_MW'].rolling(15).std()\n",
    "data.plot()"
   ]
  },
  {
   "cell_type": "markdown",
   "metadata": {},
   "source": [
    "## Time Series Forecasting"
   ]
  },
  {
   "cell_type": "code",
   "execution_count": 6,
   "metadata": {},
   "outputs": [
    {
     "name": "stdout",
     "output_type": "stream",
     "text": [
      "0    0.1\n",
      "1    0.5\n",
      "2    2.3\n",
      "3    1.2\n",
      "4    1.5\n",
      "dtype: float64\n",
      "Training set:\n",
      "0    0.1\n",
      "1    0.5\n",
      "2    2.3\n",
      "3    1.2\n",
      "dtype: float64\n",
      "Test set:\n",
      "4    1.5\n",
      "dtype: float64\n"
     ]
    }
   ],
   "source": [
    "import pandas as pd\n",
    "from sklearn.model_selection import train_test_split\n",
    "\n",
    "data = pd.Series([0.1, 0.5, 2.3, 1.2, 1.5])\n",
    "train, test = train_test_split(data, shuffle=False, test_size=0.2)\n",
    "print(data)\n",
    "print('Training set:')\n",
    "print(train)\n",
    "print('Test set:')\n",
    "print(test)"
   ]
  },
  {
   "cell_type": "code",
   "execution_count": null,
   "metadata": {},
   "outputs": [],
   "source": [
    "import pandas as pd\n",
    "# < write code here >\n",
    "from sklearn.model_selection import train_test_split\n",
    "\n",
    "data = pd.read_csv('/datasets/energy_consumption.csv', index_col=[0], parse_dates=[0])\n",
    "data.sort_index(inplace=True)\n",
    "data = data.resample('1D').sum()\n",
    "\n",
    "# < write code here >\n",
    "train, test = train_test_split(data, test_size=0.2, shuffle=False)\n",
    "\n",
    "print(train.index.min(), train.index.max())\n",
    "print(test.index.min(), test.index.max())"
   ]
  },
  {
   "cell_type": "code",
   "execution_count": null,
   "metadata": {},
   "outputs": [],
   "source": [
    "import pandas as pd\n",
    "import numpy as np\n",
    "from sklearn.model_selection import train_test_split\n",
    "# < write code here >\n",
    "from sklearn.metrics import mean_absolute_error\n",
    "\n",
    "data = pd.read_csv('/datasets/energy_consumption.csv', index_col=[0], parse_dates=[0])\n",
    "data.sort_index(inplace=True)\n",
    "data = data.resample('1D').sum()\n",
    "\n",
    "train, test = train_test_split(data, shuffle=False, test_size=0.2)\n",
    "\n",
    "#print(test.shape)\n",
    "print(\"Mean daily power consumption:\", test['PJME_MW'].mean())\n",
    "pred_median = np.ones(test.shape) * train['PJME_MW'].median()\n",
    "# < write code here >\n",
    "print(\"MAE:\", mean_absolute_error(test['PJME_MW'], np.ones(test.shape) * pred_median))\n",
    "# < write code here >)"
   ]
  },
  {
   "cell_type": "code",
   "execution_count": null,
   "metadata": {},
   "outputs": [],
   "source": [
    "import pandas as pd\n",
    "import numpy as np\n",
    "from sklearn.model_selection import train_test_split\n",
    "from sklearn.metrics import mean_absolute_error\n",
    "\n",
    "data = pd.read_csv('/datasets/energy_consumption.csv', index_col=[0], parse_dates=[0])\n",
    "data.sort_index(inplace=True)\n",
    "data = data.resample('1D').sum()\n",
    "\n",
    "train, test = train_test_split(data, shuffle=False, test_size=0.2)\n",
    "\n",
    "print(\"Mean daily power consumption:\", test['PJME_MW'].mean())\n",
    "\n",
    "pred_previous = test.shift()\n",
    "pred_previous.iloc[0] = train.iloc[-1]\n",
    "# < write code here >\n",
    "print(\"MAE:\", mean_absolute_error(test['PJME_MW'], pred_previous))\n",
    "      # < write code here >)"
   ]
  }
 ],
 "metadata": {
  "kernelspec": {
   "display_name": "Python 3",
   "language": "python",
   "name": "python3"
  },
  "language_info": {
   "codemirror_mode": {
    "name": "ipython",
    "version": 3
   },
   "file_extension": ".py",
   "mimetype": "text/x-python",
   "name": "python",
   "nbconvert_exporter": "python",
   "pygments_lexer": "ipython3",
   "version": "3.7.6"
  }
 },
 "nbformat": 4,
 "nbformat_minor": 4
}
