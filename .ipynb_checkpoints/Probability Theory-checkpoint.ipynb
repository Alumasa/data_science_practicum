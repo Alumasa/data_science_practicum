{
 "cells": [
  {
   "cell_type": "code",
   "execution_count": 3,
   "metadata": {},
   "outputs": [],
   "source": [
    "import pandas as pd\n",
    "import numpy as np\n",
    "import matplotlib.pyplot as plt"
   ]
  },
  {
   "cell_type": "code",
   "execution_count": 2,
   "metadata": {},
   "outputs": [
    {
     "name": "stdout",
     "output_type": "stream",
     "text": [
      "Probability of winning free sushi: 0.00682%\n"
     ]
    }
   ],
   "source": [
    "reposts = 14673 # the number of reposts are the outcomes of the experiment\n",
    "win_probability = 1 / reposts # divide 1 by the total number of outcomes\n",
    "print('Probability of winning free sushi: {:.5%}'.format(win_probability))"
   ]
  },
  {
   "cell_type": "code",
   "execution_count": 3,
   "metadata": {},
   "outputs": [
    {
     "name": "stdout",
     "output_type": "stream",
     "text": [
      "       Artist                        Song\n",
      "0       Queen         The Show Must Go On\n",
      "1       Queen  Another One Bites The Dust\n",
      "2       Queen            We Will Rock You\n",
      "3  Pink Floyd          Wish You Were Here\n",
      "4     Nirvana     Smells Like Teen Spirit\n",
      "5       AC/DC             Highway To Hell\n",
      "6       AC/DC               Back in Black\n",
      "7   Scorpions              Wind Of Change\n",
      "8   Scorpions            Still Loving You\n",
      "9   Scorpions            Send Me An Angel\n"
     ]
    }
   ],
   "source": [
    "ya_music_rock = pd.DataFrame({\n",
    "'Artist': ['Queen', 'Queen',\n",
    "'Queen', 'Pink Floyd',\n",
    "'Nirvana', 'AC/DC',\n",
    "'AC/DC', 'Scorpions',\n",
    "'Scorpions', 'Scorpions'],\n",
    "'Song': ['The Show Must Go On', 'Another One Bites The Dust',\n",
    "'We Will Rock You', 'Wish You Were Here','Smells Like Teen Spirit',\n",
    "'Highway To Hell','Back in Black',\n",
    "'Wind Of Change', 'Still Loving You', 'Send Me An Angel']\n",
    "})\n",
    "print(ya_music_rock)"
   ]
  },
  {
   "cell_type": "code",
   "execution_count": 4,
   "metadata": {},
   "outputs": [
    {
     "name": "stdout",
     "output_type": "stream",
     "text": [
      "0.1\n"
     ]
    }
   ],
   "source": [
    "print(len(ya_music_rock[ya_music_rock['Song'] == 'Smells Like Teen Spirit']) / len(ya_music_rock))"
   ]
  },
  {
   "cell_type": "code",
   "execution_count": 5,
   "metadata": {},
   "outputs": [
    {
     "name": "stdout",
     "output_type": "stream",
     "text": [
      "0.3\n"
     ]
    }
   ],
   "source": [
    "print(len(ya_music_rock[ya_music_rock['Artist'] == 'Queen'])/ len(ya_music_rock))"
   ]
  },
  {
   "cell_type": "code",
   "execution_count": 4,
   "metadata": {},
   "outputs": [
    {
     "name": "stdout",
     "output_type": "stream",
     "text": [
      "0.2\n",
      "0.215\n",
      "0.1921\n"
     ]
    }
   ],
   "source": [
    "import random\n",
    "random.seed(42) # method specifying the level of randomness; don't change parameter 42\n",
    "\n",
    "def calculate_p(N):\n",
    "    cnt_21_40 = 0\n",
    "    for i in range(N):\n",
    "        random_integer = random.randint(1, 100)# write your code here\n",
    "        if 21 <= random_integer <= 40:\n",
    "            cnt_21_40 += 1\n",
    "    return (cnt_21_40 / N)\n",
    "        \n",
    "\n",
    "p_20 = calculate_p(20)\n",
    "p_400 = calculate_p(400)\n",
    "p_10000 = calculate_p(10000)\n",
    "\n",
    "print(p_20)\n",
    "print(p_400)\n",
    "print(p_10000)\n",
    "#print(calculate_p(1000000))"
   ]
  },
  {
   "cell_type": "markdown",
   "metadata": {},
   "source": [
    "#### Random Numbers, Probability Distributions, and Value Intervals"
   ]
  },
  {
   "cell_type": "markdown",
   "metadata": {},
   "source": [
    "1. Random variables are variables that take a random value. \"Random\" meaning the value the variable will take can't be predicted.\n",
    "2. When we gather all the possible total values and indicate the corresponding probabilities in a table: \n",
    "    - This table is called the probability distribution of the random variable.\n",
    "3. For any random variable, a familiar rule applies: the probabilities for all possible outcomes add up to 1."
   ]
  },
  {
   "cell_type": "code",
   "execution_count": 6,
   "metadata": {},
   "outputs": [
    {
     "name": "stdout",
     "output_type": "stream",
     "text": [
      "{2: 1, 3: 2, 4: 3, 5: 4, 6: 5, 7: 6, 8: 5, 9: 4, 10: 3, 11: 2, 12: 1}\n",
      "[[ 2  3  4  5  6  7]\n",
      " [ 3  4  5  6  7  8]\n",
      " [ 4  5  6  7  8  9]\n",
      " [ 5  6  7  8  9 10]\n",
      " [ 6  7  8  9 10 11]\n",
      " [ 7  8  9 10 11 12]]\n"
     ]
    }
   ],
   "source": [
    "spots = np.array([[2,3,4,5,6,7], [3,4,5,6,7,8], [4,5,6,7,8,9], [5,6,7,8,9,10], [6,7,8,9,10,11], [7,8,9,10,11,12]])\n",
    "spot_counts = {}\n",
    "\n",
    "for i in range(0, 6):\n",
    "        for j in range(0, 6):\n",
    "                if spots[i][j] not in spot_counts.keys():\n",
    "                        spot_counts[spots[i][j]] = 1\n",
    "                else:\n",
    "                        spot_counts[spots[i][j]] += 1\n",
    "\n",
    "print(spot_counts)\n",
    "print(spots)"
   ]
  },
  {
   "cell_type": "code",
   "execution_count": 9,
   "metadata": {},
   "outputs": [
    {
     "data": {
      "text/plain": [
       "{2: 0.027777777777777776,\n",
       " 3: 0.05555555555555555,\n",
       " 4: 0.08333333333333333,\n",
       " 5: 0.1111111111111111,\n",
       " 6: 0.1388888888888889,\n",
       " 7: 0.16666666666666666,\n",
       " 8: 0.1388888888888889,\n",
       " 9: 0.1111111111111111,\n",
       " 10: 0.08333333333333333,\n",
       " 11: 0.05555555555555555,\n",
       " 12: 0.027777777777777776}"
      ]
     },
     "execution_count": 9,
     "metadata": {},
     "output_type": "execute_result"
    }
   ],
   "source": [
    "spot_probs={k:spot_counts[k]/36 for k in spot_counts} # dictionary comprehension\n",
    "spot_probs"
   ]
  },
  {
   "cell_type": "code",
   "execution_count": 11,
   "metadata": {},
   "outputs": [
    {
     "data": {
      "image/png": "[encoded data removed]",
      "text/plain": [
       "<Figure size 432x288 with 1 Axes>"
      ]
     },
     "metadata": {
      "needs_background": "light"
     },
     "output_type": "display_data"
    }
   ],
   "source": [
    "x = pd.Series([1, 2, 3, 4, 5, 6, 2, 4, 6, 8, 10, 12, 3, 6, 9, 12, 15, 18, 4, 8, \n",
    "               12, 16, 20, 24, 5, 10, 15, 20, 25, 30, 6, 12, 18, 24, 30, 36])\n",
    "x.hist(density=True, bins=36);"
   ]
  },
  {
   "cell_type": "markdown",
   "metadata": {},
   "source": [
    "<font color=blue>To make a density histogram, we need the density argument with a True value, and since the number of bins indicates the number of values, the height of the columns will represent the probability for each value.</font>"
   ]
  },
  {
   "cell_type": "code",
   "execution_count": 18,
   "metadata": {},
   "outputs": [
    {
     "name": "stdout",
     "output_type": "stream",
     "text": [
      "{10: 1, 11: 2, 12: 3, 13: 4, 14: 5, 15: 6, 16: 5, 17: 4, 18: 3, 19: 2, 20: 1}\n",
      "{10: 0.027777777777777776, 11: 0.05555555555555555, 12: 0.08333333333333333, 13: 0.1111111111111111, 14: 0.1388888888888889, 15: 0.16666666666666666, 16: 0.1388888888888889, 17: 0.1111111111111111, 18: 0.08333333333333333, 19: 0.05555555555555555, 20: 0.027777777777777776}\n",
      "10 0.027777777777777776\n",
      "11 0.05555555555555555\n",
      "12 0.08333333333333333\n",
      "13 0.1111111111111111\n",
      "14 0.1388888888888889\n",
      "15 0.16666666666666666\n",
      "16 0.1388888888888889\n",
      "17 0.1111111111111111\n",
      "18 0.08333333333333333\n",
      "19 0.05555555555555555\n",
      "20 0.027777777777777776\n"
     ]
    }
   ],
   "source": [
    "import numpy as np\n",
    "spot_matrix = np.array([[10, 11, 12, 13, 14, 15],\n",
    "       [11, 12, 13, 14, 15, 16],\n",
    "       [12, 13, 14, 15, 16, 17],\n",
    "       [13, 14, 15, 16, 17, 18],\n",
    "       [14, 15, 16, 17, 18, 19],\n",
    "       [15, 16, 17, 18, 19, 20]])\n",
    "spot_counts = {}\n",
    "#loop code\n",
    "for i in range(0,6):\n",
    "    for j in range(0,6):\n",
    "        if spot_matrix[i][j] not in spot_counts.keys():\n",
    "            spot_counts[spot_matrix[i][j]] = 1\n",
    "        else:\n",
    "            spot_counts[spot_matrix[i][j]] += 1\n",
    "spot_probs = {k:spot_counts[k]/36 for k in spot_counts} # dictionary code\n",
    "print(spot_counts)\n",
    "print(spot_probs)\n",
    "for i in range(10, 21):\n",
    "    print(i, spot_probs[i])"
   ]
  },
  {
   "cell_type": "code",
   "execution_count": 24,
   "metadata": {},
   "outputs": [
    {
     "name": "stdout",
     "output_type": "stream",
     "text": [
      "1.0000000000000002\n"
     ]
    }
   ],
   "source": [
    "sums_probs = 0\n",
    "for each in spot_probs.values():\n",
    "    sums_probs += each\n",
    "print(sums_probs)"
   ]
  },
  {
   "cell_type": "markdown",
   "metadata": {},
   "source": [
    "####  Expected value and variance"
   ]
  },
  {
   "cell_type": "markdown",
   "metadata": {},
   "source": [
    "The expected value of a random variable is the sum of all values of the random variable, multiplied by their probability:\n",
    "\n",
    "$ E(X) = ∑p(xi)xi $"
   ]
  },
  {
   "cell_type": "code",
   "execution_count": 25,
   "metadata": {},
   "outputs": [
    {
     "name": "stdout",
     "output_type": "stream",
     "text": [
      "7.000000000000001\n"
     ]
    }
   ],
   "source": [
    "x_probs = {\n",
    "        '3': 0.1,\n",
    "        '4': 0.2,\n",
    "        '5' : 0.2,\n",
    "        '7' : 0.3,\n",
    "        '11' : 0.1,\n",
    "        '16' : 0.05,\n",
    "        '18': 0.05    \n",
    "}\n",
    "# E(X): For each dictionary element, we need to calculate the product of the probability and the value \n",
    "# of the random variable (the integer representation of the dictionary key):\n",
    "expectation = sum([int(x_i)*x_probs[x_i] for x_i in x_probs]) \n",
    "print(expectation)"
   ]
  },
  {
   "cell_type": "markdown",
   "metadata": {},
   "source": [
    "The expected value is analogous to the measure of location, but for random variables rather than data sets. \n",
    "\n",
    "It demonstrates which value the random variable is distributed around, and, in accordance with the rule of large numbers, which value it will tend toward on average when the experiment is repeated."
   ]
  },
  {
   "cell_type": "code",
   "execution_count": 26,
   "metadata": {},
   "outputs": [
    {
     "name": "stdout",
     "output_type": "stream",
     "text": [
      "15.899999999999991\n"
     ]
    }
   ],
   "source": [
    "x_probs = {\n",
    "        '3': 0.1,\n",
    "        '4': 0.2,\n",
    "        '5' : 0.2,\n",
    "        '7' : 0.3,\n",
    "        '11' : 0.1,\n",
    "        '16' : 0.05,\n",
    "        '18': 0.05    \n",
    "}\n",
    "# E(X): For each dictionary element, we need to multiply the probability by the value \n",
    "# of the random variable (the integer representation of the dictionary key):\n",
    "expectation = sum([int(x_i)*x_probs[x_i] for x_i in x_probs])\n",
    "# (E(X))^2\n",
    "square_of_expectation = expectation ** 2\n",
    "# E(X^2)\n",
    "expectation_of_squares = sum([int(x_i)*int(x_i)*x_probs[x_i] for x_i in x_probs])\n",
    "variance = expectation_of_squares - square_of_expectation\n",
    "print (variance)"
   ]
  },
  {
   "cell_type": "code",
   "execution_count": 27,
   "metadata": {},
   "outputs": [
    {
     "name": "stdout",
     "output_type": "stream",
     "text": [
      "Expected value: 5.5\n",
      "Variance: 55.349999999999994\n"
     ]
    }
   ],
   "source": [
    "import numpy as np\n",
    "x_probs = {\n",
    "    '-4': 0.05,\n",
    "    '-2': 0.25,\n",
    "    '0' : 0.1,\n",
    "    '1' : 0.1,\n",
    "    '5' : 0.1,\n",
    "    '7' : 0.05,\n",
    "    '15': 0.35    \n",
    "}\n",
    "# code for your calculations\n",
    "expectation = sum([int(x_i) * x_probs[x_i] for x_i in x_probs])\n",
    "square_of_expectation = expectation ** 2\n",
    "expectation_of_squares = sum([int(x_i) * int(x_i) * x_probs[x_i] for x_i in x_probs])\n",
    "variance = expectation_of_squares - square_of_expectation\n",
    "print('Expected value:', expectation)\n",
    "print('Variance:', variance)"
   ]
  },
  {
   "cell_type": "markdown",
   "metadata": {},
   "source": []
  }
 ],
 "metadata": {
  "kernelspec": {
   "display_name": "Python 3",
   "language": "python",
   "name": "python3"
  },
  "language_info": {
   "codemirror_mode": {
    "name": "ipython",
    "version": 3
   },
   "file_extension": ".py",
   "mimetype": "text/x-python",
   "name": "python",
   "nbconvert_exporter": "python",
   "pygments_lexer": "ipython3",
   "version": "3.7.6"
  }
 },
 "nbformat": 4,
 "nbformat_minor": 4
}
