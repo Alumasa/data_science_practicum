{
 "cells": [
  {
   "cell_type": "code",
   "execution_count": 1,
   "metadata": {},
   "outputs": [],
   "source": [
    "import pandas as pd\n",
    "import numpy as np\n",
    "import matplotlib.pyplot as plt"
   ]
  },
  {
   "cell_type": "code",
   "execution_count": 2,
   "metadata": {},
   "outputs": [
    {
     "name": "stdout",
     "output_type": "stream",
     "text": [
      "Probability of winning free sushi: 0.00682%\n"
     ]
    }
   ],
   "source": [
    "reposts = 14673 # the number of reposts are the outcomes of the experiment\n",
    "win_probability = 1 / reposts # divide 1 by the total number of outcomes\n",
    "print('Probability of winning free sushi: {:.5%}'.format(win_probability))"
   ]
  },
  {
   "cell_type": "code",
   "execution_count": 3,
   "metadata": {},
   "outputs": [
    {
     "name": "stdout",
     "output_type": "stream",
     "text": [
      "       Artist                        Song\n",
      "0       Queen         The Show Must Go On\n",
      "1       Queen  Another One Bites The Dust\n",
      "2       Queen            We Will Rock You\n",
      "3  Pink Floyd          Wish You Were Here\n",
      "4     Nirvana     Smells Like Teen Spirit\n",
      "5       AC/DC             Highway To Hell\n",
      "6       AC/DC               Back in Black\n",
      "7   Scorpions              Wind Of Change\n",
      "8   Scorpions            Still Loving You\n",
      "9   Scorpions            Send Me An Angel\n"
     ]
    }
   ],
   "source": [
    "ya_music_rock = pd.DataFrame({\n",
    "'Artist': ['Queen', 'Queen',\n",
    "'Queen', 'Pink Floyd',\n",
    "'Nirvana', 'AC/DC',\n",
    "'AC/DC', 'Scorpions',\n",
    "'Scorpions', 'Scorpions'],\n",
    "'Song': ['The Show Must Go On', 'Another One Bites The Dust',\n",
    "'We Will Rock You', 'Wish You Were Here','Smells Like Teen Spirit',\n",
    "'Highway To Hell','Back in Black',\n",
    "'Wind Of Change', 'Still Loving You', 'Send Me An Angel']\n",
    "})\n",
    "print(ya_music_rock)"
   ]
  },
  {
   "cell_type": "code",
   "execution_count": 4,
   "metadata": {},
   "outputs": [
    {
     "name": "stdout",
     "output_type": "stream",
     "text": [
      "0.1\n"
     ]
    }
   ],
   "source": [
    "print(len(ya_music_rock[ya_music_rock['Song'] == 'Smells Like Teen Spirit']) / len(ya_music_rock))"
   ]
  },
  {
   "cell_type": "code",
   "execution_count": 5,
   "metadata": {},
   "outputs": [
    {
     "name": "stdout",
     "output_type": "stream",
     "text": [
      "0.3\n"
     ]
    }
   ],
   "source": [
    "print(len(ya_music_rock[ya_music_rock['Artist'] == 'Queen'])/ len(ya_music_rock))"
   ]
  },
  {
   "cell_type": "code",
   "execution_count": 4,
   "metadata": {},
   "outputs": [
    {
     "name": "stdout",
     "output_type": "stream",
     "text": [
      "0.2\n",
      "0.215\n",
      "0.1921\n"
     ]
    }
   ],
   "source": [
    "import random\n",
    "random.seed(42) # method specifying the level of randomness; don't change parameter 42\n",
    "\n",
    "def calculate_p(N):\n",
    "    cnt_21_40 = 0\n",
    "    for i in range(N):\n",
    "        random_integer = random.randint(1, 100)# write your code here\n",
    "        if 21 <= random_integer <= 40:\n",
    "            cnt_21_40 += 1\n",
    "    return (cnt_21_40 / N)\n",
    "        \n",
    "\n",
    "p_20 = calculate_p(20)\n",
    "p_400 = calculate_p(400)\n",
    "p_10000 = calculate_p(10000)\n",
    "\n",
    "print(p_20)\n",
    "print(p_400)\n",
    "print(p_10000)\n",
    "#print(calculate_p(1000000))"
   ]
  },
  {
   "cell_type": "markdown",
   "metadata": {},
   "source": [
    "#### Random Numbers, Probability Distributions, and Value Intervals"
   ]
  },
  {
   "cell_type": "markdown",
   "metadata": {},
   "source": [
    "1. Random variables are variables that take a random value. \"Random\" meaning the value the variable will take can't be predicted.\n",
    "2. When we gather all the possible total values and indicate the corresponding probabilities in a table: \n",
    "    - This table is called the probability distribution of the random variable.\n",
    "3. For any random variable, a familiar rule applies: the probabilities for all possible outcomes add up to 1."
   ]
  },
  {
   "cell_type": "code",
   "execution_count": 6,
   "metadata": {},
   "outputs": [
    {
     "name": "stdout",
     "output_type": "stream",
     "text": [
      "{2: 1, 3: 2, 4: 3, 5: 4, 6: 5, 7: 6, 8: 5, 9: 4, 10: 3, 11: 2, 12: 1}\n",
      "[[ 2  3  4  5  6  7]\n",
      " [ 3  4  5  6  7  8]\n",
      " [ 4  5  6  7  8  9]\n",
      " [ 5  6  7  8  9 10]\n",
      " [ 6  7  8  9 10 11]\n",
      " [ 7  8  9 10 11 12]]\n"
     ]
    }
   ],
   "source": [
    "spots = np.array([[2,3,4,5,6,7], [3,4,5,6,7,8], [4,5,6,7,8,9], [5,6,7,8,9,10], [6,7,8,9,10,11], [7,8,9,10,11,12]])\n",
    "spot_counts = {}\n",
    "\n",
    "for i in range(0, 6):\n",
    "        for j in range(0, 6):\n",
    "                if spots[i][j] not in spot_counts.keys():\n",
    "                        spot_counts[spots[i][j]] = 1\n",
    "                else:\n",
    "                        spot_counts[spots[i][j]] += 1\n",
    "\n",
    "print(spot_counts)\n",
    "print(spots)"
   ]
  },
  {
   "cell_type": "code",
   "execution_count": 9,
   "metadata": {},
   "outputs": [
    {
     "data": {
      "text/plain": [
       "{2: 0.027777777777777776,\n",
       " 3: 0.05555555555555555,\n",
       " 4: 0.08333333333333333,\n",
       " 5: 0.1111111111111111,\n",
       " 6: 0.1388888888888889,\n",
       " 7: 0.16666666666666666,\n",
       " 8: 0.1388888888888889,\n",
       " 9: 0.1111111111111111,\n",
       " 10: 0.08333333333333333,\n",
       " 11: 0.05555555555555555,\n",
       " 12: 0.027777777777777776}"
      ]
     },
     "execution_count": 9,
     "metadata": {},
     "output_type": "execute_result"
    }
   ],
   "source": [
    "spot_probs={k:spot_counts[k]/36 for k in spot_counts} # dictionary comprehension\n",
    "spot_probs"
   ]
  },
  {
   "cell_type": "code",
   "execution_count": 11,
   "metadata": {},
   "outputs": [
    {
     "data": {
      "image/png": "[encoded data removed]",
      "text/plain": [
       "<Figure size 432x288 with 1 Axes>"
      ]
     },
     "metadata": {
      "needs_background": "light"
     },
     "output_type": "display_data"
    }
   ],
   "source": [
    "x = pd.Series([1, 2, 3, 4, 5, 6, 2, 4, 6, 8, 10, 12, 3, 6, 9, 12, 15, 18, 4, 8, \n",
    "               12, 16, 20, 24, 5, 10, 15, 20, 25, 30, 6, 12, 18, 24, 30, 36])\n",
    "x.hist(density=True, bins=36);"
   ]
  },
  {
   "cell_type": "markdown",
   "metadata": {},
   "source": [
    "<font color=blue>To make a density histogram, we need the density argument with a True value, and since the number of bins indicates the number of values, the height of the columns will represent the probability for each value.</font>"
   ]
  },
  {
   "cell_type": "code",
   "execution_count": 18,
   "metadata": {},
   "outputs": [
    {
     "name": "stdout",
     "output_type": "stream",
     "text": [
      "{10: 1, 11: 2, 12: 3, 13: 4, 14: 5, 15: 6, 16: 5, 17: 4, 18: 3, 19: 2, 20: 1}\n",
      "{10: 0.027777777777777776, 11: 0.05555555555555555, 12: 0.08333333333333333, 13: 0.1111111111111111, 14: 0.1388888888888889, 15: 0.16666666666666666, 16: 0.1388888888888889, 17: 0.1111111111111111, 18: 0.08333333333333333, 19: 0.05555555555555555, 20: 0.027777777777777776}\n",
      "10 0.027777777777777776\n",
      "11 0.05555555555555555\n",
      "12 0.08333333333333333\n",
      "13 0.1111111111111111\n",
      "14 0.1388888888888889\n",
      "15 0.16666666666666666\n",
      "16 0.1388888888888889\n",
      "17 0.1111111111111111\n",
      "18 0.08333333333333333\n",
      "19 0.05555555555555555\n",
      "20 0.027777777777777776\n"
     ]
    }
   ],
   "source": [
    "import numpy as np\n",
    "spot_matrix = np.array([[10, 11, 12, 13, 14, 15],\n",
    "       [11, 12, 13, 14, 15, 16],\n",
    "       [12, 13, 14, 15, 16, 17],\n",
    "       [13, 14, 15, 16, 17, 18],\n",
    "       [14, 15, 16, 17, 18, 19],\n",
    "       [15, 16, 17, 18, 19, 20]])\n",
    "spot_counts = {}\n",
    "#loop code\n",
    "for i in range(0,6):\n",
    "    for j in range(0,6):\n",
    "        if spot_matrix[i][j] not in spot_counts.keys():\n",
    "            spot_counts[spot_matrix[i][j]] = 1\n",
    "        else:\n",
    "            spot_counts[spot_matrix[i][j]] += 1\n",
    "spot_probs = {k:spot_counts[k]/36 for k in spot_counts} # dictionary code\n",
    "print(spot_counts)\n",
    "print(spot_probs)\n",
    "for i in range(10, 21):\n",
    "    print(i, spot_probs[i])"
   ]
  },
  {
   "cell_type": "code",
   "execution_count": 24,
   "metadata": {},
   "outputs": [
    {
     "name": "stdout",
     "output_type": "stream",
     "text": [
      "1.0000000000000002\n"
     ]
    }
   ],
   "source": [
    "sums_probs = 0\n",
    "for each in spot_probs.values():\n",
    "    sums_probs += each\n",
    "print(sums_probs)"
   ]
  },
  {
   "cell_type": "markdown",
   "metadata": {},
   "source": [
    "####  Expected value and variance"
   ]
  },
  {
   "cell_type": "markdown",
   "metadata": {},
   "source": [
    "The expected value of a random variable is the sum of all values of the random variable, multiplied by their probability:\n",
    "\n",
    "$ E(X) = ∑p(xi)xi $"
   ]
  },
  {
   "cell_type": "code",
   "execution_count": 25,
   "metadata": {},
   "outputs": [
    {
     "name": "stdout",
     "output_type": "stream",
     "text": [
      "7.000000000000001\n"
     ]
    }
   ],
   "source": [
    "x_probs = {\n",
    "        '3': 0.1,\n",
    "        '4': 0.2,\n",
    "        '5' : 0.2,\n",
    "        '7' : 0.3,\n",
    "        '11' : 0.1,\n",
    "        '16' : 0.05,\n",
    "        '18': 0.05    \n",
    "}\n",
    "# E(X): For each dictionary element, we need to calculate the product of the probability and the value \n",
    "# of the random variable (the integer representation of the dictionary key):\n",
    "expectation = sum([int(x_i)*x_probs[x_i] for x_i in x_probs]) \n",
    "print(expectation)"
   ]
  },
  {
   "cell_type": "markdown",
   "metadata": {},
   "source": [
    "The expected value is analogous to the measure of location, but for random variables rather than data sets. \n",
    "\n",
    "It demonstrates which value the random variable is distributed around, and, in accordance with the rule of large numbers, which value it will tend toward on average when the experiment is repeated."
   ]
  },
  {
   "cell_type": "code",
   "execution_count": 26,
   "metadata": {},
   "outputs": [
    {
     "name": "stdout",
     "output_type": "stream",
     "text": [
      "15.899999999999991\n"
     ]
    }
   ],
   "source": [
    "x_probs = {\n",
    "        '3': 0.1,\n",
    "        '4': 0.2,\n",
    "        '5' : 0.2,\n",
    "        '7' : 0.3,\n",
    "        '11' : 0.1,\n",
    "        '16' : 0.05,\n",
    "        '18': 0.05    \n",
    "}\n",
    "# E(X): For each dictionary element, we need to multiply the probability by the value \n",
    "# of the random variable (the integer representation of the dictionary key):\n",
    "expectation = sum([int(x_i)*x_probs[x_i] for x_i in x_probs])\n",
    "# (E(X))^2\n",
    "square_of_expectation = expectation ** 2\n",
    "# E(X^2)\n",
    "expectation_of_squares = sum([int(x_i)*int(x_i)*x_probs[x_i] for x_i in x_probs])\n",
    "variance = expectation_of_squares - square_of_expectation\n",
    "print (variance)"
   ]
  },
  {
   "cell_type": "code",
   "execution_count": 27,
   "metadata": {},
   "outputs": [
    {
     "name": "stdout",
     "output_type": "stream",
     "text": [
      "Expected value: 5.5\n",
      "Variance: 55.349999999999994\n"
     ]
    }
   ],
   "source": [
    "import numpy as np\n",
    "x_probs = {\n",
    "    '-4': 0.05,\n",
    "    '-2': 0.25,\n",
    "    '0' : 0.1,\n",
    "    '1' : 0.1,\n",
    "    '5' : 0.1,\n",
    "    '7' : 0.05,\n",
    "    '15': 0.35    \n",
    "}\n",
    "# code for your calculations\n",
    "expectation = sum([int(x_i) * x_probs[x_i] for x_i in x_probs])\n",
    "square_of_expectation = expectation ** 2\n",
    "expectation_of_squares = sum([int(x_i) * int(x_i) * x_probs[x_i] for x_i in x_probs])\n",
    "variance = expectation_of_squares - square_of_expectation\n",
    "print('Expected value:', expectation)\n",
    "print('Variance:', variance)"
   ]
  },
  {
   "cell_type": "markdown",
   "metadata": {},
   "source": [
    "#### The Binomial Distribution"
   ]
  },
  {
   "cell_type": "code",
   "execution_count": 2,
   "metadata": {},
   "outputs": [
    {
     "name": "stdout",
     "output_type": "stream",
     "text": [
      "120\n"
     ]
    }
   ],
   "source": [
    "from math import factorial\n",
    "x = factorial(5)\n",
    "print(x)"
   ]
  },
  {
   "cell_type": "code",
   "execution_count": 3,
   "metadata": {},
   "outputs": [
    {
     "name": "stdout",
     "output_type": "stream",
     "text": [
      "364.0\n"
     ]
    }
   ],
   "source": [
    "c = factorial(14)/(factorial(3)*factorial(11))\n",
    "print(c)"
   ]
  },
  {
   "cell_type": "code",
   "execution_count": 5,
   "metadata": {},
   "outputs": [
    {
     "data": {
      "image/png": "[encoded data removed]",
      "text/plain": [
       "<Figure size 432x288 with 1 Axes>"
      ]
     },
     "metadata": {
      "needs_background": "light"
     },
     "output_type": "display_data"
    }
   ],
   "source": [
    "n = 5\n",
    "p = 0.5 # probability of success is 50%\n",
    "\n",
    "distr = []\n",
    "\n",
    "for k in range(0,n+1):\n",
    "        choose = factorial(n)/(factorial(k) * factorial(n-k))\n",
    "        prob = choose * p**k * (1-p)**(n-k) \n",
    "        distr.append(prob)\n",
    "\n",
    "plt.bar(range(0,n+1), distr);"
   ]
  },
  {
   "cell_type": "code",
   "execution_count": 7,
   "metadata": {},
   "outputs": [
    {
     "data": {
      "image/png": "[encoded data removed]",
      "text/plain": [
       "<Figure size 432x288 with 1 Axes>"
      ]
     },
     "metadata": {
      "needs_background": "light"
     },
     "output_type": "display_data"
    }
   ],
   "source": [
    "n = 25\n",
    "p = 0.5\n",
    "distr = []\n",
    "for k in range(0,n+1):\n",
    "        choose = factorial(n)/(factorial(k) * factorial(n-k))\n",
    "        prob = choose * p**k * (1-p)**(n-k) \n",
    "        distr.append(prob)\n",
    "\n",
    "plt.bar(range(0,n+1), distr);"
   ]
  },
  {
   "cell_type": "code",
   "execution_count": 8,
   "metadata": {},
   "outputs": [
    {
     "data": {
      "image/png": "[encoded data removed]",
      "text/plain": [
       "<Figure size 432x288 with 1 Axes>"
      ]
     },
     "metadata": {
      "needs_background": "light"
     },
     "output_type": "display_data"
    }
   ],
   "source": [
    "#For n=30 and p=0.07:\n",
    "n = 30\n",
    "p = 0.07 #probability is skewed to the left: p<50%\n",
    "distr = []\n",
    "for k in range(0,n+1):\n",
    "        choose = factorial(n)/(factorial(k) * factorial(n-k))\n",
    "        prob = choose * p**k * (1-p)**(n-k) \n",
    "        distr.append(prob)\n",
    "\n",
    "plt.bar(range(0,n+1), distr);distr = []\n",
    "for k in range(0,n+1):\n",
    "        choose = factorial(n)/(factorial(k) * factorial(n-k))\n",
    "        prob = choose * p**k * (1-p)**(n-k) \n",
    "        distr.append(prob)\n",
    "\n",
    "plt.bar(range(0,n+1), distr);"
   ]
  },
  {
   "cell_type": "code",
   "execution_count": 14,
   "metadata": {},
   "outputs": [
    {
     "data": {
      "image/png": "[encoded data removed]",
      "text/plain": [
       "<Figure size 432x288 with 1 Axes>"
      ]
     },
     "metadata": {
      "needs_background": "light"
     },
     "output_type": "display_data"
    }
   ],
   "source": [
    "#For n=26 and p=0.9 (90%):\n",
    "n = 26\n",
    "p = 0.9 #probability is skewed to the right: p>50%\n",
    "distr = []\n",
    "for k in range(0,n+1):\n",
    "        choose = factorial(n)/(factorial(k) * factorial(n-k))\n",
    "        prob = choose * p**k * (1-p)**(n-k) \n",
    "        distr.append(prob)\n",
    "\n",
    "plt.bar(range(0,n+1), distr);"
   ]
  },
  {
   "cell_type": "code",
   "execution_count": 13,
   "metadata": {},
   "outputs": [
    {
     "name": "stdout",
     "output_type": "stream",
     "text": [
      "35.0\n"
     ]
    }
   ],
   "source": [
    "# Number of ways to get k days out of n days:\n",
    "# C(n, k) =  **n! / ( k! * (n-k)! )\n",
    "n_diets = factorial(7) / (factorial(4) * factorial(3))\n",
    "print(n_diets)"
   ]
  },
  {
   "cell_type": "code",
   "execution_count": 16,
   "metadata": {},
   "outputs": [
    {
     "data": {
      "image/png": "[encoded data removed]",
      "text/plain": [
       "<Figure size 432x288 with 1 Axes>"
      ]
     },
     "metadata": {
      "needs_background": "light"
     },
     "output_type": "display_data"
    }
   ],
   "source": [
    "n_exams = 6# add your code here: How many exams does he need to pass?\n",
    "failure_rate = 0.15# add your code here: what is the probability of him failing one exam?\n",
    "\n",
    "distr = []# add your code here: create a variable for the distribution value\n",
    "\n",
    "for k in range(0,n_exams+1):\n",
    "    choose = factorial(n_exams)/(factorial(k) * factorial(n_exams-k))\n",
    "    prob = choose * failure_rate**k * (1-failure_rate)**(n_exams-k) \n",
    "    distr.append(prob)\n",
    "plt.bar(range(0,n_exams+1), distr);"
   ]
  },
  {
   "cell_type": "code",
   "execution_count": 18,
   "metadata": {},
   "outputs": [
    {
     "data": {
      "text/plain": [
       "<BarContainer object of 31 artists>"
      ]
     },
     "execution_count": 18,
     "metadata": {},
     "output_type": "execute_result"
    },
    {
     "data": {
      "image/png": "[encoded data removed]",
      "text/plain": [
       "<Figure size 432x288 with 1 Axes>"
      ]
     },
     "metadata": {
      "needs_background": "light"
     },
     "output_type": "display_data"
    }
   ],
   "source": [
    "p = 0.2  # add your code here: what is the probability of drawing up a contract?\n",
    "n = 30  # add your code here: how many companies will we negotiate with?\n",
    "\n",
    "distr = [] # add your code here: create a variable for the distribution value\n",
    "\n",
    "for k in range(0,n+1):\n",
    "    choose = factorial(n)/(factorial(k) * factorial(n-k))\n",
    "    probs = choose * p**k * (1-p)**(n-k)\n",
    "    distr.append(probs)# add your code here: generate the probability distribution\n",
    "    \n",
    "# add your code here: create a histogram of the probability distribution\n",
    "plt.bar(range(0, n+1), distr)"
   ]
  },
  {
   "cell_type": "code",
   "execution_count": 20,
   "metadata": {},
   "outputs": [
    {
     "data": {
      "text/plain": [
       "<BarContainer object of 61 artists>"
      ]
     },
     "execution_count": 20,
     "metadata": {},
     "output_type": "execute_result"
    },
    {
     "data": {
      "image/png": "[encoded data removed]",
      "text/plain": [
       "<Figure size 432x288 with 1 Axes>"
      ]
     },
     "metadata": {
      "needs_background": "light"
     },
     "output_type": "display_data"
    }
   ],
   "source": [
    "p = 0.2  # add your code here: what is the probability of drawing up a contract?\n",
    "n = 60  # add your code here: how many companies will we negotiate with?\n",
    "\n",
    "distr = [] # add your code here: create a variable for the distribution value\n",
    "\n",
    "for k in range(0,n+1):\n",
    "    choose = factorial(n)/(factorial(k) * factorial(n-k))\n",
    "    probs = choose * p**k * (1-p)**(n-k)\n",
    "    distr.append(probs)# add your code here: generate the probability distribution\n",
    "    \n",
    "# add your code here: create a histogram of the probability distribution\n",
    "plt.bar(range(0, n+1), distr)"
   ]
  },
  {
   "cell_type": "markdown",
   "metadata": {},
   "source": [
    "#### Normal distribution"
   ]
  },
  {
   "cell_type": "markdown",
   "metadata": {},
   "source": [
    "1. ***central limit theorem* - “Many independent random variables, added together, produce a normal distribution.”\n",
    "2. The normal distribution differs from a binomial distribution in that it is continuous, and serves accordingly to describe the distribution of continuous random variables. \n",
    "    - Discrete random variables can also be described with the normal distribution, but you must remember that it is an approximation.\n",
    "3. Often, the distribution parameters(`mean` and `variance`) are known (if not exactly, then close enough, based on the data set), and you need to find the probability of a value occurring in a given interval.\n",
    "4. \n",
    "    - ppf - percent point function\n",
    "    - cdf - cumulative distribution function.\n",
    "Both work with the normal distribution if its mean and standard deviation are known.\n",
    "        - The norm.ppf function gives the value of a variable when the probability of the interval to the left of that value is known.\n",
    "        - The norm.cdf function, on the other hand, gives the probability of the interval to the left of the value when the value is known."
   ]
  },
  {
   "cell_type": "markdown",
   "metadata": {},
   "source": [
    "```diff\n",
    "+ Calculate the normal distribution using the norm() method from the scipy.stats package with two arguments: \n",
    "    - expected value and standard deviation.```"
   ]
  },
  {
   "cell_type": "code",
   "execution_count": 1,
   "metadata": {},
   "outputs": [
    {
     "name": "stdout",
     "output_type": "stream",
     "text": [
      "0.5\n"
     ]
    }
   ],
   "source": [
    "from scipy import stats as st\n",
    "\n",
    "# determine normal distribution with an expected value of 1000 \n",
    "# and a standard deviation of 100\n",
    "distr = st.norm(1000, 100) \n",
    "\n",
    "x = 1000\n",
    "\n",
    "result = distr.cdf(x) # calculate probability of getting the value x \n",
    "print(result)"
   ]
  },
  {
   "cell_type": "markdown",
   "metadata": {},
   "source": [
    "<font color=brown>As you can see, the probability of getting 1000 or less with this distribution equals 0.5. In fact, 1000 is the average value, dividing the distribution exactly in half. The probability of falling to the right or to the left is exactly the same.</font>"
   ]
  },
  {
   "cell_type": "code",
   "execution_count": 2,
   "metadata": {},
   "outputs": [
    {
     "name": "stdout",
     "output_type": "stream",
     "text": [
      "0.6826894921370859\n"
     ]
    }
   ],
   "source": [
    "x1 = 900\n",
    "x2 = 1100\n",
    "\n",
    "result = distr.cdf(x2) - distr.cdf(x1)\n",
    "print(result)"
   ]
  },
  {
   "cell_type": "markdown",
   "metadata": {},
   "source": [
    "<font color=red>The probability is just over 68%. Compare this with the figures between 900 and 1100 on the graph. It matches!</font>"
   ]
  },
  {
   "cell_type": "code",
   "execution_count": 3,
   "metadata": {},
   "outputs": [
    {
     "name": "stdout",
     "output_type": "stream",
     "text": [
      "1099.999999971673\n"
     ]
    }
   ],
   "source": [
    "from scipy import stats as st\n",
    "\n",
    "distr = st.norm(1000, 100) \n",
    "\n",
    "p1 = 0.841344746\n",
    "\n",
    "result = distr.ppf(p1)\n",
    "print(result)"
   ]
  },
  {
   "cell_type": "markdown",
   "metadata": {},
   "source": [
    "<font color=blue>Again, it all checks out: 84.135% is the approximate probability that the value will be less than the mean plus one standard deviation. For this distribution: 1000 + 100 = 1100.</font>"
   ]
  },
  {
   "cell_type": "code",
   "execution_count": 12,
   "metadata": {},
   "outputs": [
    {
     "name": "stdout",
     "output_type": "stream",
     "text": [
      "0.0075792194387197245\n"
     ]
    }
   ],
   "source": [
    "from scipy import stats as st\n",
    "distr = st.norm(100500,3500)\n",
    "x = 92000\n",
    "result = distr.cdf(x)\n",
    "print(result)"
   ]
  },
  {
   "cell_type": "code",
   "execution_count": 9,
   "metadata": {},
   "outputs": [
    {
     "name": "stdout",
     "output_type": "stream",
     "text": [
      "0.9986501019683699\n"
     ]
    }
   ],
   "source": [
    "distr = st.norm(100500,3500)\n",
    "x = 111000\n",
    "result = distr.cdf(x)\n",
    "print(result)"
   ]
  },
  {
   "cell_type": "code",
   "execution_count": 17,
   "metadata": {},
   "outputs": [
    {
     "data": {
      "text/plain": [
       "0.0075792194387197245"
      ]
     },
     "execution_count": 17,
     "metadata": {},
     "output_type": "execute_result"
    }
   ],
   "source": [
    "p_bonus = st.norm(100500,3500).cdf(92000)\n",
    "p_bonus"
   ]
  },
  {
   "cell_type": "code",
   "execution_count": 18,
   "metadata": {},
   "outputs": [
    {
     "name": "stdout",
     "output_type": "stream",
     "text": [
      "Bonus probability: 0.0013498980316301035\n",
      "Penalty probability: 0.0075792194387197245\n"
     ]
    }
   ],
   "source": [
    "from scipy import stats as st\n",
    "\n",
    "mu = 100500 # place your code here: what is the distribution's mean?\n",
    "sigma = 3500 # place your code here: what is the distribution's standard deviation?\n",
    "\n",
    "bonus_threshold = 111000# place your code here: where does the threshold for the bonus lie?\n",
    "penalty_threshold = 92000# place your code here: where does the threshold for the penalty lie?\n",
    "\n",
    "\n",
    "p_penalty = st.norm(mu, sigma).cdf(penalty_threshold)# place your code here: calculate the probability of achieving the penalty\n",
    "p_bonus = 1 - st.norm(mu, sigma).cdf(bonus_threshold)# place your code here: calculate the probability of achieving the bonus\n",
    "\n",
    "print('Bonus probability:', p_bonus)\n",
    "print('Penalty probability:', p_penalty)"
   ]
  },
  {
   "cell_type": "code",
   "execution_count": 19,
   "metadata": {},
   "outputs": [
    {
     "name": "stdout",
     "output_type": "stream",
     "text": [
      "Need to order items: 336\n"
     ]
    }
   ],
   "source": [
    "from scipy import stats as st\n",
    "\n",
    "mu = 420# place your code here: what is the distribution's mean?\n",
    "sigma = 65# place your code here: what is the distribution's standard deviation?\n",
    "prob = 0.9# place your code here: what is the required probability of selling all the products?\n",
    "\n",
    "n_shipment = st.norm(mu,sigma).ppf(1-prob)# place your code here: how many items should be ordered?\n",
    "\n",
    "print('Need to order items:', int(n_shipment))"
   ]
  },
  {
   "cell_type": "code",
   "execution_count": 20,
   "metadata": {},
   "outputs": [
    {
     "name": "stdout",
     "output_type": "stream",
     "text": [
      "Maximum cost for courier delivery: 1092.0816399686269\n"
     ]
    }
   ],
   "source": [
    "from scipy import stats as st\n",
    "\n",
    "mu = 2400# place your code here: what is the distribution's mean?\n",
    "sigma = 320# place your code here: what is the distribution's standard deviation?\n",
    "threshold = 0.75# place your code here: what percentage of orders should be twice as expensive as the delivery cost?\n",
    "\n",
    "max_delivery_price =(st.norm(mu,sigma).ppf(1-threshold))/2 # place your code here: what delivery cost should be set?\n",
    "\n",
    "print('Maximum cost for courier delivery:', max_delivery_price)"
   ]
  },
  {
   "cell_type": "markdown",
   "metadata": {},
   "source": [
    "#### Normal approximation to the Binomial distribution"
   ]
  },
  {
   "cell_type": "markdown",
   "metadata": {},
   "source": [
    "For the binomial distribution, given a number of experiment repetitions n and a probability of success p, \n",
    "the expected value equals n⋅p, and the variance is n⋅p⋅(1-p)."
   ]
  },
  {
   "cell_type": "code",
   "execution_count": 1,
   "metadata": {
    "scrolled": true
   },
   "outputs": [
    {
     "data": {
      "image/png": "[encoded data removed]",
      "text/plain": [
       "<Figure size 432x288 with 1 Axes>"
      ]
     },
     "metadata": {
      "needs_background": "light"
     },
     "output_type": "display_data"
    }
   ],
   "source": [
    "from matplotlib import pyplot as plt\n",
    "from math import factorial\n",
    "from scipy.stats import norm\n",
    "\n",
    "# Binomial distribution\n",
    "p = 0.8\n",
    "n = 50\n",
    "\n",
    "binom = []\n",
    "for k in range(0,n+1):\n",
    "        choose = float(factorial(n))/(factorial(k) * factorial(n-k))\n",
    "        prob = choose * p**k * (1-p)**(n-k) \n",
    "        binom.append(prob)\n",
    "\n",
    "# Normal distribution\n",
    "mu = n * p\n",
    "var = n * p * (1-p)\n",
    "sigma = var ** .5\n",
    "\n",
    "x = range(0, n+1)\n",
    "norm = norm.pdf(x, mu, sigma)\n",
    "\n",
    "plt.bar(range(25,n+1), binom[25:], alpha=.3)\n",
    "plt.plot(range(25,n+1), norm[25:], 'g-')\n",
    "plt.show()"
   ]
  },
  {
   "cell_type": "code",
   "execution_count": 2,
   "metadata": {},
   "outputs": [
    {
     "name": "stdout",
     "output_type": "stream",
     "text": [
      "0.08284191945650154\n"
     ]
    }
   ],
   "source": [
    "from scipy import stats as st\n",
    "import math as mt\n",
    "\n",
    "binom_n = 5000\n",
    "binom_p = 0.15\n",
    "\n",
    "blogger_clicks = 715\n",
    "\n",
    "mu = binom_n * binom_p\n",
    "sigma = mt.sqrt(binom_n * binom_p * (1 - binom_p))\n",
    "\n",
    "p_clicks = st.norm(mu, sigma).cdf(blogger_clicks)\n",
    "print(p_clicks)"
   ]
  },
  {
   "cell_type": "code",
   "execution_count": 3,
   "metadata": {},
   "outputs": [
    {
     "name": "stdout",
     "output_type": "stream",
     "text": [
      "0.9964477890716447\n"
     ]
    }
   ],
   "source": [
    "binom_n = 23000\n",
    "binom_p = 0.4\n",
    "threshold = 9000\n",
    "mu = binom_n*binom_p\n",
    "sigma = mt.sqrt(binom_n*binom_p*(1-binom_p))\n",
    "p_threshold = 1 - st.norm(mu,sigma).cdf(threshold)\n",
    "print(p_threshold)"
   ]
  },
  {
   "cell_type": "markdown",
   "metadata": {},
   "source": [
    "#### Testing Hypotheses"
   ]
  },
  {
   "cell_type": "markdown",
   "metadata": {},
   "source": [
    "1. Random Samples and Sample means"
   ]
  },
  {
   "cell_type": "code",
   "execution_count": null,
   "metadata": {},
   "outputs": [],
   "source": [
    "from scipy import stats as st\n",
    "import numpy as np\n",
    "import pandas as pd\n",
    "\n",
    "time_on_site = pd.read_csv('user_time.csv')\n",
    "\n",
    "interested_value = 120\n",
    "\n",
    "alpha = .05 # critical statistical significance\n",
    "\n",
    "results = st.ttest_1samp(\n",
    "        time_on_site, \n",
    "        interested_value)\n",
    "\n",
    "print('p-value: ', results.pvalue)\n",
    "\n",
    "if (results.pvalue < alpha):\n",
    "        print(\"We reject the null hypothesis\")\n",
    "else:\n",
    "        print(\"We can't reject the null hypothesis\")"
   ]
  },
  {
   "cell_type": "markdown",
   "metadata": {},
   "source": [
    "2. Formulating bilateral hypothesis"
   ]
  },
  {
   "cell_type": "code",
   "execution_count": 4,
   "metadata": {},
   "outputs": [
    {
     "name": "stdout",
     "output_type": "stream",
     "text": [
      "p-value:  0.00033528259973700724\n",
      "We reject the null hypothesis\n"
     ]
    }
   ],
   "source": [
    "from scipy import stats as st\n",
    "import pandas as pd\n",
    "\n",
    "scooters = pd.Series([15, 31, 10, 21, 21, 32, 30, 25, 21,\n",
    "28, 25, 32, 38, 18, 33, 24, 26, 40, 24, 37, 20, 36, 28, 38,\n",
    "24, 35, 33, 21, 29, 26, 13, 25, 34, 38, 23, 37, 31, 28, 32,\n",
    "24, 25, 13, 38, 34, 48, 19, 20, 22, 38, 28, 31, 18, 21, 24,\n",
    "31, 21, 28, 29, 33, 40, 26, 33, 33,  6, 27, 24, 17, 28,  7,\n",
    "33, 25, 25, 29, 19, 30, 29, 22, 15, 28, 36, 25, 36, 25, 29,\n",
    "33, 19, 32, 32, 28, 26, 18, 48, 15, 27, 27, 27,  0, 28, 39,\n",
    "27, 25, 39, 28, 22, 33, 30, 35, 19, 20, 18, 31, 44, 20, 18,\n",
    "17, 28, 17, 44, 40, 33,])\n",
    "\n",
    "optimal_value = 30 # write your code here\n",
    "\n",
    "alpha = 0.05# write your code here\n",
    "\n",
    "results = st.ttest_1samp(scooters, optimal_value)# write your code here\n",
    "\n",
    "print('p-value: ', results.pvalue)# write your code here)\n",
    "\n",
    "if (results.pvalue < alpha):\n",
    "    print(\"We reject the null hypothesis\")\n",
    "else:\n",
    "    print(\"We can't reject the null hypothesis\")"
   ]
  },
  {
   "cell_type": "markdown",
   "metadata": {},
   "source": [
    "#### Formulating Unilateral hypothesis"
   ]
  },
  {
   "cell_type": "code",
   "execution_count": 1,
   "metadata": {},
   "outputs": [
    {
     "name": "stdout",
     "output_type": "stream",
     "text": [
      "p-value:  1.3358596895543794e-06\n",
      "We reject the null hypothesis\n"
     ]
    }
   ],
   "source": [
    "from scipy import stats as st\n",
    "import pandas as pd\n",
    "\n",
    "screens = pd.Series([4, 2, 4, 5, 5, 4, 2, 3, 3, 5, 2, 5, 2, 2, 2, 3, 3, 4, \n",
    "                     8, 3, 4, 3, 5, 5, 4, 2, 5, 2, 3, 7, 5, 5, 6,  5, 3, 4, \n",
    "                     3, 6, 3, 4, 4, 3, 5, 4, 4, 8, 4, 7, 4, 5, 5, 3, 4, 6, \n",
    "                     7, 2, 3, 6, 5, 6, 4, 4, 3, 4, 6, 4, 4, 6, 2, 6, 5, 3, \n",
    "                     3, 3, 4, 5, 3, 5, 5, 4, 3, 3, 3, 1, 5, 4, 3, 4, 6, 3, \n",
    "                     1, 3, 2, 7, 3, 6, 6, 6, 5, 5])\n",
    "\n",
    "prev_screens_value = 4.867\n",
    "\n",
    "alpha = .05 # critical statistical significance level\n",
    "\n",
    "results = st.ttest_1samp(\n",
    "        screens, \n",
    "        prev_screens_value)\n",
    "\n",
    "# one-sided test: p-value will be halved\n",
    "print('p-value: ', results.pvalue / 2)\n",
    "\n",
    "# one-sided test to the left:\n",
    "# reject the hypothesis only if the sample mean is significantly less than the proposed value\n",
    "if (results.pvalue / 2 < alpha) and (screens.mean() < prev_screens_value):\n",
    "        print(\"We reject the null hypothesis\")\n",
    "else:\n",
    "        print(\"We can't reject the null hypothesis\")"
   ]
  },
  {
   "cell_type": "code",
   "execution_count": 2,
   "metadata": {},
   "outputs": [
    {
     "name": "stdout",
     "output_type": "stream",
     "text": [
      "p-value: 1.7869152078905522e-22\n",
      "We can't reject the null hypothesis: revenue wasn't significantly lower\n",
      "685.28125\n"
     ]
    }
   ],
   "source": [
    "from scipy import stats as st\n",
    "import numpy as np\n",
    "import pandas as pd\n",
    "\n",
    "revenue = pd.Series([727, 678, 685, 669, 661, 705, 701, 717, \n",
    "                     655,643, 660, 709, 701, 681, 716, 655, \n",
    "                     716, 695, 684, 687, 669,647, 721, 681, \n",
    "                     674, 641, 704, 717, 656, 725, 684, 665])\n",
    "\n",
    "interested_value = 800# how much did Robby Tobbinson promise?\n",
    "\n",
    "alpha =0.05 # indicate the statistical significance level\n",
    "\n",
    "results = st.ttest_1samp(revenue, interested_value)# use the method st.ttest_1samp\n",
    "\n",
    "print('p-value:', results.pvalue/2)# print the p-value for a one-sided test)\n",
    "\n",
    "if (results.pvalue/2 < alpha) and (revenue.mean() > interested_value):\n",
    "    # compare the value you get and the critical statistical significance level\n",
    "    # and check to see if the sample mean is on the correct side of interested_value):\n",
    "    print(\"We reject the null hypothesis: revenue was significantly lower than 800 dollars\")\n",
    "else:\n",
    "    print(\"We can't reject the null hypothesis: revenue wasn't significantly lower\")\n",
    "    \n",
    "print(revenue.mean())"
   ]
  },
  {
   "cell_type": "markdown",
   "metadata": {},
   "source": [
    "#### Hypothesis on the Equality of Two population means"
   ]
  },
  {
   "cell_type": "code",
   "execution_count": 3,
   "metadata": {},
   "outputs": [
    {
     "name": "stdout",
     "output_type": "stream",
     "text": [
      "p-value:  0.1912450522572209\n",
      "We can't reject the null hypothesis\n"
     ]
    }
   ],
   "source": [
    "from scipy import stats as st\n",
    "import numpy as np\n",
    "\n",
    "sample_1 = [3071, 3636, 3454, 3151, 2185, 3259, 1727, 2263, 2015, \n",
    "            2582, 4815, 633, 3186, 887, 2028, 3589, 2564, 1422, 1785, \n",
    "            3180, 1770, 2716, 2546, 1848, 4644, 3134, 475, 2686, \n",
    "            1838, 3352]\n",
    "sample_2 = [1211, 1228, 2157, 3699, 600, 1898, 1688, 1420, 5048, 3007, \n",
    "            509, 3777, 5583, 3949, 121, 1674, 4300, 1338, 3066, \n",
    "            3562, 1010, 2311, 462, 863, 2021, 528, 1849, 255, \n",
    "            1740, 2596]\n",
    "\n",
    "alpha = .05 # critical statistical significance level\n",
    "                        # if the p-value is less than alpha, we reject the hypothesis\n",
    "\n",
    "results = st.ttest_ind(\n",
    "        sample_1, \n",
    "        sample_2)\n",
    "\n",
    "print('p-value: ', results.pvalue)\n",
    "\n",
    "if (results.pvalue < alpha):\n",
    "        print(\"We reject the null hypothesis\")\n",
    "else:\n",
    "        print(\"We can't reject the null hypothesis\")"
   ]
  },
  {
   "cell_type": "code",
   "execution_count": 4,
   "metadata": {},
   "outputs": [
    {
     "name": "stdout",
     "output_type": "stream",
     "text": [
      "p-value: 0.0010501061456827461\n",
      "We reject the null hypothesis\n"
     ]
    }
   ],
   "source": [
    "from scipy import stats as st\n",
    "import numpy as np\n",
    "\n",
    "# time spent on the website by users with a username and password\n",
    "time_on_site_logpass = [368, 113, 328, 447, 1, 156, 335, 233, \n",
    "                       308, 181, 271, 239, 411, 293, 303, \n",
    "                       206, 196, 203, 311, 205, 297, 529, \n",
    "                       373, 217, 416, 206, 1, 128, 16, 214]\n",
    "\n",
    "# time spent on the website by users signing in through social media\n",
    "time_on_site_social  = [451, 182, 469, 546, 396, 630, 206, \n",
    "                        130, 45, 569, 434, 321, 374, 149, \n",
    "                        721, 350, 347, 446, 406, 365, 203, \n",
    "                        405, 631, 545, 584, 248, 171, 309, \n",
    "                        338, 505]\n",
    "\n",
    "\n",
    "# your code goes below\n",
    "\n",
    "alpha = 0.05# your code: set a critical statistical significance level\n",
    "\n",
    "results = st.ttest_ind(time_on_site_logpass, time_on_site_social)# your code: test the hypothesis that the means of the two independent populations are equal\n",
    "\n",
    "print('p-value:', results.pvalue) # your code: print the p-value you get)\n",
    "\n",
    "if results.pvalue < alpha:\n",
    "    # your code: compare the p-values you get with the statistical significance level):\n",
    "    print(\"We reject the null hypothesis\")\n",
    "else:\n",
    "    print(\"We can't reject the null hypothesis\")"
   ]
  },
  {
   "cell_type": "code",
   "execution_count": 5,
   "metadata": {},
   "outputs": [
    {
     "name": "stdout",
     "output_type": "stream",
     "text": [
      "Ttest_indResult(statistic=-3.4504143739423605, pvalue=0.0010501061456827461)\n"
     ]
    }
   ],
   "source": [
    "print(results)"
   ]
  },
  {
   "cell_type": "code",
   "execution_count": 6,
   "metadata": {},
   "outputs": [
    {
     "name": "stdout",
     "output_type": "stream",
     "text": [
      "p-value: 0.002042828065164986\n",
      "We reject the null hypothesis\n"
     ]
    }
   ],
   "source": [
    "from scipy import stats as st\n",
    "import numpy as np\n",
    "\n",
    "pages_per_session_autumn = [7.1, 7.3, 9.8, 7.3, 6.4, 10.5, 8.7, \n",
    "                            17.5, 3.3, 15.5, 16.2, 0.4, 8.3, \n",
    "                            8.1, 3.0, 6.1, 4.4, 18.8, 14.7, 16.4, \n",
    "                            13.6, 4.4, 7.4, 12.4, 3.9, 13.6, \n",
    "                            8.8, 8.1, 13.6, 12.2]\n",
    "pages_per_session_summer = [12.1, 24.3, 6.4, 19.9, 19.7, 12.5, 17.6, \n",
    "                            5.0, 22.4, 13.5, 10.8, 23.4, 9.4, 3.7, \n",
    "                            2.5, 19.8, 4.8, 29.0, 1.7, 28.6, 16.7, \n",
    "                            14.2, 10.6, 18.2, 14.7, 23.8, 15.9, 16.2, \n",
    "                            12.1, 14.5]\n",
    "\n",
    "alpha = 0.05# your code: set a critical statistical significance level\n",
    "\n",
    "results = st.ttest_ind(pages_per_session_autumn, pages_per_session_summer)# your code: test the hypothesis that the means of the two independent populations are equal\n",
    "\n",
    "print('p-value:', results.pvalue)# your code: print the p-value you get)\n",
    "\n",
    "if results.pvalue < alpha:\n",
    "    # your code: compare the p-value you get with the significance level):\n",
    "    print(\"We reject the null hypothesis\")\n",
    "else:\n",
    "    print(\"We can't reject the null hypothesis\")"
   ]
  },
  {
   "cell_type": "markdown",
   "metadata": {},
   "source": [
    "#### Hypothesis on the Equality of the Means of Paired Samples"
   ]
  },
  {
   "cell_type": "code",
   "execution_count": 7,
   "metadata": {},
   "outputs": [
    {
     "name": "stdout",
     "output_type": "stream",
     "text": [
      "p-value:  0.005825972457958989\n",
      "We reject the null hypothesis\n"
     ]
    }
   ],
   "source": [
    "from scipy import stats as st\n",
    "import numpy as np\n",
    "\n",
    "before = [157, 114, 152, 355, 155, 513, 299, 268, 164, 320, \n",
    "                    192, 262, 506, 240, 364, 179, 246, 427, 187, 431, \n",
    "                    320, 193, 313, 347, 312, 92, 177, 225, 242, 312]\n",
    "\n",
    "after = [282, 220, 162, 226, 296, 479, 248, 322, 298, 418, \n",
    "                 552, 246, 251, 404, 368, 484, 358, 264, 359, 410, \n",
    "                 382, 350, 406, 416, 438, 364, 283, 314, 420, 218]\n",
    "\n",
    "alpha = .05 # critical statistical significance level\n",
    "\n",
    "results = st.ttest_rel(\n",
    "        before, \n",
    "        after)\n",
    "\n",
    "print('p-value: ', results.pvalue)\n",
    "\n",
    "alpha = 0.05\n",
    "if (results.pvalue < alpha):\n",
    "        print(\"We reject the null hypothesis\")\n",
    "else:\n",
    "        print(\"We can't reject the null hypothesis\")"
   ]
  },
  {
   "cell_type": "code",
   "execution_count": 9,
   "metadata": {},
   "outputs": [
    {
     "name": "stdout",
     "output_type": "stream",
     "text": [
      "268.8 341.26666666666665\n"
     ]
    }
   ],
   "source": [
    "print(np.mean(before), np.mean(after))"
   ]
  },
  {
   "cell_type": "code",
   "execution_count": 10,
   "metadata": {},
   "outputs": [
    {
     "name": "stdout",
     "output_type": "stream",
     "text": [
      "p-value: 0.0751397944405015\n",
      "We can't reject the null hypothesis\n"
     ]
    }
   ],
   "source": [
    "from scipy import stats as st\n",
    "import numpy as np\n",
    "\n",
    "time_before = [1732, 1301, 1540, 2247, 1632, 1550, 754, 1946, 1889, \n",
    "          2748, 1349, 1648, 1665, 2416, 1470, 1681, 1868, 1629, \n",
    "          1271, 1633, 2131, 942, 1599, 1127, 2200, 661, 1207, \n",
    "          1737, 2410, 1486]\n",
    "\n",
    "time_after = [955, 2577, 360, 139, 1618, 990, 644, 1796, 1487, 949, 472, \n",
    "         1906, 1758, 1258, 2554, 612, 309, 1864, 1294, 1487, 1164, 1559, \n",
    "         491, 2286, 1270, 2069, 1553, 1629, 1704, 1623]\n",
    "\n",
    "alpha = 0.05# your code: set a critical statistical significance level\n",
    "\n",
    "results = st.ttest_rel(time_before, time_after)# your code: conduct the test and calculate the p-value\n",
    "\n",
    "print('p-value:', results.pvalue)# your code: print the p-value you get)\n",
    "\n",
    "if results.pvalue < alpha:\n",
    "    # your code: compare the p-value to the statistical significance level):\n",
    "    print(\"We reject the null hypothesis\")\n",
    "else:\n",
    "    print(\"We can't reject the null hypothesis\")"
   ]
  },
  {
   "cell_type": "code",
   "execution_count": 11,
   "metadata": {},
   "outputs": [
    {
     "name": "stdout",
     "output_type": "stream",
     "text": [
      "1648.9666666666667 1345.9\n"
     ]
    }
   ],
   "source": [
    "print(np.mean(time_before), np.mean(time_after))"
   ]
  },
  {
   "cell_type": "code",
   "execution_count": 12,
   "metadata": {},
   "outputs": [
    {
     "name": "stdout",
     "output_type": "stream",
     "text": [
      "mean before:  591.7333333333333\n",
      "mean after:  932.0666666666667\n",
      "p-value: 0.010789503820811123\n",
      "We reject the null hypothesis\n"
     ]
    }
   ],
   "source": [
    "from scipy import stats as st\n",
    "import numpy as np\n",
    "import pandas as pd\n",
    "\n",
    "bullets_before = [821, 1164, 598, 854, 455, 1220, 161, 1400, 479, 215, \n",
    "          564, 159, 920, 173, 276, 444, 273, 711, 291, 880, \n",
    "          892, 712, 16, 476, 498, 9, 1251, 938, 389, 513]\n",
    "\n",
    "bullets_after = [904, 220, 676, 459, 299, 659, 1698, 1120, 514, 1086, 1499, \n",
    "         1262, 829, 476, 1149, 996, 1247, 1117, 1324, 532, 1458, 898, \n",
    "         1837, 455, 1667, 898, 474, 558, 639, 1012]\n",
    "\n",
    "print('mean before: ',pd.Series(bullets_before).mean())\n",
    "print('mean after: ',pd.Series(bullets_after).mean())\n",
    "\n",
    "alpha = 0.05# your code: set a critical statistical significance level\n",
    "\n",
    "results = st.ttest_rel(\n",
    "    bullets_before, \n",
    "    bullets_after)\n",
    "\n",
    "print('p-value:', results.pvalue)# your code: print the p-value you get)\n",
    "\n",
    "if results.pvalue < alpha:\n",
    "    # your code: compare the p-value to the statistical significance):\n",
    "    print(\"We reject the null hypothesis\")\n",
    "else:\n",
    "    print(\"We can't reject the null hypothesis\")"
   ]
  },
  {
   "cell_type": "code",
   "execution_count": null,
   "metadata": {},
   "outputs": [],
   "source": []
  }
 ],
 "metadata": {
  "kernelspec": {
   "display_name": "Python 3",
   "language": "python",
   "name": "python3"
  },
  "language_info": {
   "codemirror_mode": {
    "name": "ipython",
    "version": 3
   },
   "file_extension": ".py",
   "mimetype": "text/x-python",
   "name": "python",
   "nbconvert_exporter": "python",
   "pygments_lexer": "ipython3",
   "version": "3.7.6"
  }
 },
 "nbformat": 4,
 "nbformat_minor": 4
}
