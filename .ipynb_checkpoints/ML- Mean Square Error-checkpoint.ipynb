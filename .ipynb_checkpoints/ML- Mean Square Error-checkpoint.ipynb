{
 "cells": [
  {
   "cell_type": "markdown",
   "metadata": {},
   "source": [
    "### Mean Square Error"
   ]
  },
  {
   "cell_type": "code",
   "execution_count": 3,
   "metadata": {},
   "outputs": [
    {
     "name": "stdout",
     "output_type": "stream",
     "text": [
      "14249.25\n"
     ]
    }
   ],
   "source": [
    "def mse(answers, predictions):\n",
    "    # < write code here >\n",
    "    total = 0\n",
    "    for i in range(len(answers)):\n",
    "        total += (predictions[i] - answers[i]) ** 2\n",
    "    result = total / len(answers)\n",
    "    return result\n",
    "    \n",
    "answers = [623, 253, 150, 237]\n",
    "predictions = [649, 253, 370, 148]\n",
    "\n",
    "print(mse(answers, predictions))"
   ]
  },
  {
   "cell_type": "code",
   "execution_count": 4,
   "metadata": {},
   "outputs": [
    {
     "name": "stdout",
     "output_type": "stream",
     "text": [
      "14249.25\n"
     ]
    }
   ],
   "source": [
    "# < import MSE calculation function from sklearn library >\n",
    "from sklearn.metrics import mean_squared_error\n",
    "\n",
    "answers = [623, 253, 150, 237]\n",
    "predictions = [649, 253, 370, 148]\n",
    "\n",
    "result = mean_squared_error(answers, predictions)# < call MSE calculation function >\n",
    "print(result)"
   ]
  },
  {
   "cell_type": "code",
   "execution_count": 5,
   "metadata": {},
   "outputs": [
    {
     "name": "stdout",
     "output_type": "stream",
     "text": [
      "Average price: 161005.67427559663\n"
     ]
    }
   ],
   "source": [
    "import pandas as pd\n",
    "from sklearn.metrics import mean_squared_error\n",
    "\n",
    "df = pd.read_csv('datasets/train_data_us.csv')\n",
    "\n",
    "# < create variables features and target >\n",
    "#df.loc[df['last_price'] > 113000, 'price_class'] = 1\n",
    "#df.loc[df['last_price'] <= 113000, 'price_class'] = 0\n",
    "\n",
    "features = df.drop(['last_price'], axis=1)\n",
    "target = df['last_price']\n",
    "\n",
    "# < calculate and print the average >\n",
    "print('Average price:', target.mean())"
   ]
  },
  {
   "cell_type": "code",
   "execution_count": 6,
   "metadata": {},
   "outputs": [
    {
     "name": "stdout",
     "output_type": "stream",
     "text": [
      "MSE: 5.529775874409321\n"
     ]
    }
   ],
   "source": [
    "features = df.drop(['last_price'], axis=1)\n",
    "target = df['last_price'] / 100000\n",
    "predictions = pd.Series(target.mean(), index=target.index)\n",
    "# < calculate MSE >\n",
    "mse = mean_squared_error(target, predictions)\n",
    "print(\"MSE:\", mse)"
   ]
  },
  {
   "cell_type": "code",
   "execution_count": 10,
   "metadata": {},
   "outputs": [
    {
     "name": "stdout",
     "output_type": "stream",
     "text": [
      "2.3515475488301996\n"
     ]
    }
   ],
   "source": [
    "rmse = mse ** 0.5\n",
    "print(rmse)"
   ]
  },
  {
   "cell_type": "code",
   "execution_count": null,
   "metadata": {},
   "outputs": [],
   "source": [
    "import pandas as pd\n",
    "from sklearn.tree import DecisionTreeRegressor\n",
    "import joblib\n",
    "from sklearn.metrics import accuracy_score\n",
    "\n",
    "# connect the library\n",
    "from joblib import dump\n",
    "\n",
    "# train model (as before)\n",
    "df = pd.read_csv('/datasets/train_data_us.csv')\n",
    "\n",
    "\n",
    "features = df.drop(['last_price'], axis=1)\n",
    "target = df['last_price'] / 100000\n",
    "\n",
    "\n",
    "model = DecisionTreeRegressor(random_state=12345)\n",
    "model.fit(features, target)\n",
    "\n",
    "# save model \n",
    "# first argument is model \n",
    "# second argument is path to file \n",
    "joblib.dump(model, 'ds_5_5_1.joblib')"
   ]
  },
  {
   "cell_type": "code",
   "execution_count": null,
   "metadata": {},
   "outputs": [],
   "source": [
    "import pandas as pd\n",
    "from sklearn.ensemble import RandomForestRegressor\n",
    "import joblib\n",
    "from sklearn.metrics import accuracy_score\n",
    "\n",
    "# connect the library\n",
    "from joblib import dump\n",
    "\n",
    "# train model (as before)\n",
    "df = pd.read_csv('/datasets/train_data_us.csv')\n",
    "\n",
    "\n",
    "features = df.drop(['last_price'], axis=1)\n",
    "target = df['last_price'] / 100000\n",
    "\n",
    "\n",
    "model = RandomForestRegressor(random_state=12345, n_estimators=3)\n",
    "model.fit(features, target)\n",
    "\n",
    "# save model \n",
    "# first argument is model \n",
    "# second argument is path to file \n",
    "joblib.dump(model, 'ds_7_1_1.joblib')"
   ]
  },
  {
   "cell_type": "code",
   "execution_count": null,
   "metadata": {},
   "outputs": [],
   "source": [
    "import pandas as pd\n",
    "from sklearn.linear_model import LinearRegression\n",
    "import joblib\n",
    "from sklearn.metrics import accuracy_score\n",
    "\n",
    "# connect the library\n",
    "from joblib import dump\n",
    "\n",
    "# train model (as before)\n",
    "df = pd.read_csv('/datasets/train_data_us.csv')\n",
    "\n",
    "\n",
    "features = df.drop(['last_price'], axis=1)\n",
    "target = df['last_price'] / 100000\n",
    "\n",
    "\n",
    "model = LinearRegression()\n",
    "model.fit(features, target)\n",
    "\n",
    "# save model \n",
    "# first argument is model \n",
    "# second argument is path to file \n",
    "joblib.dump(model, 'ds_8_1_1.joblib')"
   ]
  }
 ],
 "metadata": {
  "kernelspec": {
   "display_name": "Python 3",
   "language": "python",
   "name": "python3"
  },
  "language_info": {
   "codemirror_mode": {
    "name": "ipython",
    "version": 3
   },
   "file_extension": ".py",
   "mimetype": "text/x-python",
   "name": "python",
   "nbconvert_exporter": "python",
   "pygments_lexer": "ipython3",
   "version": "3.7.6"
  }
 },
 "nbformat": 4,
 "nbformat_minor": 4
}
