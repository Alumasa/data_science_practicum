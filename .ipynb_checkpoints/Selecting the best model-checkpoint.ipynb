{
 "cells": [
  {
   "cell_type": "markdown",
   "metadata": {},
   "source": [
    "### To determine the model with the smallest error"
   ]
  },
  {
   "cell_type": "code",
   "execution_count": 1,
   "metadata": {},
   "outputs": [],
   "source": [
    "import pandas as pd\n",
    "from sklearn.model_selection import train_test_split\n",
    "from sklearn.tree import DecisionTreeRegressor\n",
    "from sklearn.ensemble import RandomForestRegressor\n",
    "from sklearn.linear_model import LinearRegression\n",
    "from sklearn.metrics import mean_squared_error\n",
    "from sklearn.metrics import accuracy_score"
   ]
  },
  {
   "cell_type": "code",
   "execution_count": 2,
   "metadata": {},
   "outputs": [],
   "source": [
    "df = pd.read_csv('datasets/train_data_us.csv')"
   ]
  },
  {
   "cell_type": "code",
   "execution_count": 3,
   "metadata": {},
   "outputs": [],
   "source": [
    "df_train, df_valid = train_test_split(df, test_size=0.25, random_state=12345)\n",
    "features_valid = df_valid.drop(['last_price'], axis=1)\n",
    "target_valid = df_valid['last_price'] / 100000\n",
    "features_train = df_train.drop(['last_price'], axis=1)\n",
    "target_train = df_train['last_price'] / 100000"
   ]
  },
  {
   "cell_type": "raw",
   "metadata": {},
   "source": [
    "model = DecisionTreeRegressor(random_state=12345, max_depth=5)\n",
    "model.fit(features_train, target_train)\n",
    "valid_predictions_dt = model.predict(features_valid)"
   ]
  },
  {
   "cell_type": "raw",
   "metadata": {},
   "source": [
    "#predictions = pd.Series(target_valid.mean(), index=target_valid.index)\n",
    "# < calculate MSE >\n",
    "mse_dt = mean_squared_error(target_valid, valid_predictions_dt)\n",
    "print(\"MSE Decision Tree:\", mse_dt)"
   ]
  },
  {
   "cell_type": "code",
   "execution_count": 21,
   "metadata": {},
   "outputs": [
    {
     "name": "stdout",
     "output_type": "stream",
     "text": [
      "max_depth =  1 : 5.396412610370437 : 2.3230179961357242\n",
      "max_depth =  2 : 1.8070317756733336 : 1.3442588201954762\n",
      "max_depth =  3 : 1.778342753008831 : 1.3335451822149975\n",
      "max_depth =  4 : 2.055083608639012 : 1.4335562802481847\n"
     ]
    }
   ],
   "source": [
    "for i in range(1,5):\n",
    "    model = DecisionTreeRegressor(random_state=12345, max_depth=i)\n",
    "    model.fit(features_train, target_train)\n",
    "    valid_predictions_dt = model.predict(features_valid)\n",
    "    #accuracy = accuracy_score(target_valid, valid_predictions)\n",
    "    mse_dt = mean_squared_error(target_valid, valid_predictions_dt)\n",
    "    rmse_dt = mean_squared_error(target_valid, valid_predictions_dt)**0.5\n",
    "    print('max_depth = ', i , ':', mse_dt, ':', rmse_dt)"
   ]
  },
  {
   "cell_type": "code",
   "execution_count": 5,
   "metadata": {},
   "outputs": [],
   "source": [
    "model = RandomForestRegressor(random_state=12345, n_estimators=3)\n",
    "model.fit(features_valid, target_valid)\n",
    "valid_predictions_rf = model.predict(features_valid)"
   ]
  },
  {
   "cell_type": "raw",
   "metadata": {},
   "source": [
    "mse_rf = mean_squared_error(target_valid, valid_predictions_rf)\n",
    "print(\"MSE random Forest:\", mse_rf)"
   ]
  },
  {
   "cell_type": "code",
   "execution_count": 14,
   "metadata": {},
   "outputs": [
    {
     "name": "stdout",
     "output_type": "stream",
     "text": [
      "n_estimators = 10 : 2.650934613567618 : 1.6281690985790198\n",
      "n_estimators = 20 : 2.1897385853044047 : 1.4797765322184309\n",
      "n_estimators = 30 : 2.0195677503553124 : 1.421114967325062\n",
      "n_estimators = 40 : 1.9662237296579248 : 1.402220998864988\n",
      "n_estimators = 50 : 2.0825063572995606 : 1.4430891716382466\n"
     ]
    }
   ],
   "source": [
    "for estim in range(10, 51, 10):\n",
    "        model = RandomForestRegressor(n_estimators=estim, max_depth=10, random_state=12345)\n",
    "        model.fit(features_train, target_train)\n",
    "        valid_predictions_rf = model.predict(features_valid)\n",
    "        mse_rf = mean_squared_error(target_valid, valid_predictions_rf)\n",
    "        rmse_rf = mean_squared_error(target_valid, valid_predictions_rf)**0.5\n",
    "        print(\"n_estimators =\", estim, \":\",mse_rf, ':', rmse_rf)"
   ]
  },
  {
   "cell_type": "code",
   "execution_count": 7,
   "metadata": {},
   "outputs": [],
   "source": [
    "model = LinearRegression()\n",
    "model.fit(features_train, target_train)\n",
    "valid_predictions_lr = model.predict(features_valid)"
   ]
  },
  {
   "cell_type": "code",
   "execution_count": 15,
   "metadata": {},
   "outputs": [
    {
     "name": "stdout",
     "output_type": "stream",
     "text": [
      "MSE & RMSE Linear Regression: 2.3876471792885887 1.545201339401629\n"
     ]
    }
   ],
   "source": [
    "mse_lr = mean_squared_error(target_valid, valid_predictions_lr)\n",
    "rmse_lr = mean_squared_error(target_valid, valid_predictions_lr)**0.5\n",
    "\n",
    "print(\"MSE & RMSE Linear Regression:\", mse_lr, rmse_lr)"
   ]
  },
  {
   "cell_type": "markdown",
   "metadata": {},
   "source": [
    "### Conclusion:\n",
    "The model with the smallest error is Decision Tree Regressor, with hyperparameter: max_depth=3."
   ]
  },
  {
   "cell_type": "code",
   "execution_count": null,
   "metadata": {},
   "outputs": [],
   "source": [
    "import pandas as pd\n",
    "from sklearn.tree import DecisionTreeRegressor\n",
    "import joblib\n",
    "from sklearn.metrics import accuracy_score\n",
    "\n",
    "# connect the library\n",
    "from joblib import dump\n",
    "\n",
    "# train model (as before)\n",
    "df = pd.read_csv('/datasets/train_data_us.csv')\n",
    "\n",
    "\n",
    "features = df.drop(['last_price'], axis=1)\n",
    "target = df['last_price'] / 100000\n",
    "\n",
    "\n",
    "model = DecisionTreeRegressor(random_state=12345, max_depth=3)\n",
    "model.fit(features, target)\n",
    "\n",
    "# save model \n",
    "# first argument is model \n",
    "# second argument is path to file \n",
    "joblib.dump(model, 'ds_5_8_1.joblib')"
   ]
  },
  {
   "cell_type": "code",
   "execution_count": 31,
   "metadata": {},
   "outputs": [],
   "source": [
    "features = df.drop(['last_price'], axis=1)\n",
    "target = df['last_price'] / 100000\n",
    "\n",
    "\n",
    "model = RandomForestRegressor(random_state=12345, n_estimators=30, max_depth=10)\n",
    "model.fit(features, target)\n",
    "predictions = model.predict(features)"
   ]
  },
  {
   "cell_type": "code",
   "execution_count": 32,
   "metadata": {},
   "outputs": [],
   "source": [
    "rmse_rf = mean_squared_error(target, predictions)**0.5"
   ]
  },
  {
   "cell_type": "code",
   "execution_count": 33,
   "metadata": {},
   "outputs": [
    {
     "data": {
      "text/plain": [
       "0.6673015293425608"
      ]
     },
     "execution_count": 33,
     "metadata": {},
     "output_type": "execute_result"
    }
   ],
   "source": [
    "rmse_rf"
   ]
  },
  {
   "cell_type": "code",
   "execution_count": 19,
   "metadata": {},
   "outputs": [
    {
     "ename": "SyntaxError",
     "evalue": "unexpected character after line continuation character (<ipython-input-19-98b43fb5c142>, line 1)",
     "output_type": "error",
     "traceback": [
      "\u001b[1;36m  File \u001b[1;32m\"<ipython-input-19-98b43fb5c142>\"\u001b[1;36m, line \u001b[1;32m1\u001b[0m\n\u001b[1;33m    import pandas as pd\\n\u001b[0m\n\u001b[1;37m                         ^\u001b[0m\n\u001b[1;31mSyntaxError\u001b[0m\u001b[1;31m:\u001b[0m unexpected character after line continuation character\n"
     ]
    }
   ],
   "source": [
    "import pandas as pd\\n\n",
    "from sklearn.metrics import mean_squared_error\\n\n",
    "from joblib import load\\n\\n\n",
    "model = load(\\'user_file_1\\')\\n\\n\n",
    "df = pd.read_csv(\\'/datasets/train_data_us.csv\\')\\n\\n\n",
    "features = df.drop([\\'last_price\\'], axis=1)\\n\n",
    "target = df[\\'last_price\\'] / 100000\\n\\n\n",
    "test_df = pd.read_csv(\\'/datasets/test_data_full_us.csv\\')\\n\\n\n",
    "test_features = test_df.drop([\\'last_price\\'], axis=1)\\n\n",
    "test_target = test_df[\\'last_price\\'] / 100000\\n\\n\n",
    "train_predictions = model.predict(features)\\n\n",
    "test_predictions = model.predict(test_features)\\n\\n\n",
    "rmse_train = mean_squared_error(target, train_predictions)**0.5\\n\n",
    "rmse_test = mean_squared_error(test_target, test_predictions)**0.5\\n\\n\n",
    "assert rmse_test <= 1.5\\n\\n\n",
    "print(\"RMSE\")\\n\n",
    "print(\"Training set:\", rmse_train)\\n\n",
    "print(\"Test set:\", rmse_test)')"
   ]
  },
  {
   "cell_type": "code",
   "execution_count": null,
   "metadata": {},
   "outputs": [],
   "source": []
  }
 ],
 "metadata": {
  "kernelspec": {
   "display_name": "Python 3",
   "language": "python",
   "name": "python3"
  },
  "language_info": {
   "codemirror_mode": {
    "name": "ipython",
    "version": 3
   },
   "file_extension": ".py",
   "mimetype": "text/x-python",
   "name": "python",
   "nbconvert_exporter": "python",
   "pygments_lexer": "ipython3",
   "version": "3.7.6"
  }
 },
 "nbformat": 4,
 "nbformat_minor": 2
}
