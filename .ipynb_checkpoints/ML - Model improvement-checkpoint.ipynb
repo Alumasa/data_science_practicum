{
 "cells": [
  {
   "cell_type": "code",
   "execution_count": 3,
   "metadata": {},
   "outputs": [],
   "source": [
    "import pandas as pd\n",
    "from sklearn.tree import DecisionTreeClassifier\n",
    "from sklearn.metrics import accuracy_score\n",
    "from sklearn.model_selection import train_test_split"
   ]
  },
  {
   "cell_type": "markdown",
   "metadata": {},
   "source": [
    "### Splitting data into two sets"
   ]
  },
  {
   "cell_type": "code",
   "execution_count": 1,
   "metadata": {},
   "outputs": [
    {
     "name": "stdout",
     "output_type": "stream",
     "text": [
      "(4871, 13)\n",
      "(4871,)\n",
      "(1624, 13)\n",
      "(1624,)\n"
     ]
    }
   ],
   "source": [
    "import pandas as pd\n",
    "from sklearn.model_selection import train_test_split\n",
    "# < import train_test_split function from the sklearn library >\n",
    "\n",
    "df = pd.read_csv('datasets/train_data_us.csv')\n",
    "df.loc[df['last_price'] > 113000, 'price_class'] = 1\n",
    "df.loc[df['last_price'] <= 113000, 'price_class'] = 0\n",
    "\n",
    "# < split data into training and validation >\n",
    "df_train, df_valid = train_test_split(df, test_size=0.25, random_state=12345)\n",
    "# < declare variables for features and target feature >\n",
    "features_train = df_train.drop(['last_price', 'price_class'], axis=1)\n",
    "target_train = df_train['price_class']\n",
    "features_valid = df_valid.drop(['last_price', 'price_class'], axis=1)# < write code here >\n",
    "target_valid = df_valid['price_class']# < write code here >\n",
    "\n",
    "print(features_train.shape)\n",
    "print(target_train.shape)\n",
    "print(features_valid.shape)\n",
    "print(target_valid.shape)"
   ]
  },
  {
   "cell_type": "code",
   "execution_count": 5,
   "metadata": {},
   "outputs": [
    {
     "name": "stdout",
     "output_type": "stream",
     "text": [
      "max_depth =  1 : 0.8559113300492611\n",
      "max_depth =  2 : 0.8688423645320197\n",
      "max_depth =  3 : 0.8916256157635468\n",
      "max_depth =  4 : 0.8996305418719212\n",
      "max_depth =  5 : 0.9125615763546798\n"
     ]
    }
   ],
   "source": [
    "# < create a loop for max_depth from 1 to 5 >\n",
    "for i in range(1,6):\n",
    "    model = DecisionTreeClassifier(random_state=12345, max_depth=i)\n",
    "    model.fit(features_valid, target_valid)\n",
    "    valid_predictions = model.predict(features_valid)\n",
    "    accuracy = accuracy_score(target_valid, valid_predictions)\n",
    "    print('max_depth = ', i , ':', accuracy)"
   ]
  },
  {
   "cell_type": "raw",
   "metadata": {},
   "source": [
    "max_depth = 1 : ...\n",
    "max_depth = 2 : ...\n",
    "...\n",
    "max_depth = 5 : ..."
   ]
  },
  {
   "cell_type": "code",
   "execution_count": 7,
   "metadata": {},
   "outputs": [
    {
     "name": "stdout",
     "output_type": "stream",
     "text": [
      "1 0.9511932255581216\n",
      "2 0.9444187836797536\n",
      "3 0.975211701308699\n",
      "4 0.9753656658968437\n",
      "5 0.9855273287143956\n",
      "6 0.9866050808314087\n",
      "7 0.9882986913010008\n",
      "8 0.9895304080061585\n",
      "9 0.9929176289453425\n",
      "10 0.9919938414164742\n"
     ]
    }
   ],
   "source": [
    "import pandas as pd\n",
    "from sklearn.ensemble import RandomForestClassifier\n",
    "#import joblib\n",
    "from sklearn.metrics import accuracy_score\n",
    "\n",
    "# connect the library\n",
    "#from joblib import dump\n",
    "\n",
    "# train model (as before)\n",
    "df = pd.read_csv('datasets/train_data_us.csv')\n",
    "\n",
    "df.loc[df['last_price'] > 113000, 'price_class'] = 1\n",
    "df.loc[df['last_price'] <= 113000, 'price_class'] = 0\n",
    "\n",
    "features = df.drop(['last_price', 'price_class'], axis=1)\n",
    "target = df['price_class']\n",
    "\n",
    "for i in range(1, 11):\n",
    "    model = RandomForestClassifier(random_state=12345, n_estimators=i)\n",
    "    model.fit(features, target)\n",
    "    predictions = model.predict(features)\n",
    "    accuracy = accuracy_score(target, predictions)\n",
    "    print(i, accuracy)\n",
    "\n",
    "# save model \n",
    "# first argument is model \n",
    "# second argument is path to file \n",
    "#joblib.dump(model, 'ds_3_9_2.joblib')"
   ]
  },
  {
   "cell_type": "code",
   "execution_count": null,
   "metadata": {},
   "outputs": [],
   "source": []
  }
 ],
 "metadata": {
  "kernelspec": {
   "display_name": "Python 3",
   "language": "python",
   "name": "python3"
  },
  "language_info": {
   "codemirror_mode": {
    "name": "ipython",
    "version": 3
   },
   "file_extension": ".py",
   "mimetype": "text/x-python",
   "name": "python",
   "nbconvert_exporter": "python",
   "pygments_lexer": "ipython3",
   "version": "3.7.6"
  }
 },
 "nbformat": 4,
 "nbformat_minor": 4
}
