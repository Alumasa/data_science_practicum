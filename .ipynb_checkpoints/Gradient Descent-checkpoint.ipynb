{
 "cells": [
  {
   "cell_type": "markdown",
   "metadata": {},
   "source": [
    "### Loss function minimization"
   ]
  },
  {
   "cell_type": "code",
   "execution_count": 1,
   "metadata": {},
   "outputs": [
    {
     "name": "stdout",
     "output_type": "stream",
     "text": [
      "0.6832750158095007\n"
     ]
    }
   ],
   "source": [
    "#Calculating the value of logistic function:\n",
    "from math import log10\n",
    "print(-(log10(1 - 0.2) + log10(1 - 0.4) + log10(0.6) + log10(0.8) + log10(1 - 0.1)))"
   ]
  },
  {
   "cell_type": "code",
   "execution_count": 9,
   "metadata": {},
   "outputs": [
    {
     "name": "stdout",
     "output_type": "stream",
     "text": [
      "[-6 -6]\n",
      "[-4.  -4.8]\n"
     ]
    }
   ],
   "source": [
    "import numpy as np\n",
    "\n",
    "def func(x):\n",
    "    return (x[0] + x[1] - 1)**2 + (x[0] - x[1] - 2)**2\n",
    "\n",
    "def gradient(x):\n",
    "    return np.array([4 * x[0] - 6,4 * x[1] - 6])\n",
    "\n",
    "print(gradient(np.array([0, 0])))\n",
    "print(gradient(np.array([0.5, 0.3])))"
   ]
  },
  {
   "cell_type": "code",
   "execution_count": 4,
   "metadata": {},
   "outputs": [],
   "source": [
    "import numpy as np"
   ]
  },
  {
   "cell_type": "code",
   "execution_count": 5,
   "metadata": {},
   "outputs": [],
   "source": [
    "def func(x):\n",
    "    return (x[0] + x[1] - 1)**2 + (x[0] - x[1] - 2)**2"
   ]
  },
  {
   "cell_type": "code",
   "execution_count": 6,
   "metadata": {},
   "outputs": [
    {
     "name": "stdout",
     "output_type": "stream",
     "text": [
      "5\n"
     ]
    }
   ],
   "source": [
    "print(func(np.array([0, 0])))"
   ]
  },
  {
   "cell_type": "code",
   "execution_count": 7,
   "metadata": {},
   "outputs": [
    {
     "name": "stdout",
     "output_type": "stream",
     "text": [
      "3.2800000000000002\n"
     ]
    }
   ],
   "source": [
    "print(func(np.array([0.5, 0.3])))"
   ]
  },
  {
   "cell_type": "code",
   "execution_count": 10,
   "metadata": {},
   "outputs": [
    {
     "name": "stdout",
     "output_type": "stream",
     "text": [
      "[-6  2]\n",
      "[-4.   3.2]\n"
     ]
    }
   ],
   "source": [
    "import numpy as np\n",
    "\n",
    "def func(x):\n",
    "    return (x[0] + x[1] - 1)**2 + (x[0] - x[1] - 2)**2\n",
    "\n",
    "def gradient(x):\n",
    "    return np.array([4 * x[0] - 6, 4 * x[1] + 2])\n",
    "\n",
    "print(gradient(np.array([0, 0])))\n",
    "print(gradient(np.array([0.5, 0.3])))"
   ]
  },
  {
   "cell_type": "code",
   "execution_count": 12,
   "metadata": {},
   "outputs": [
    {
     "name": "stdout",
     "output_type": "stream",
     "text": [
      "[ 1.38336 -0.46112]\n",
      "[ 1.5 -0.5]\n"
     ]
    }
   ],
   "source": [
    "import numpy as np\n",
    "\n",
    "def func(x):\n",
    "    return (x[0] + x[1] - 1)**2 + (x[0] - x[1] - 2)**2\n",
    "\n",
    "def gradient(x):\n",
    "    return np.array([4 * x[0] - 6, 4 * x[1] + 2])\n",
    "\n",
    "def gradient_descent(initialization, step_size, iterations):\n",
    "    x = initialization# < write code here >\n",
    "    for i in range(iterations):\n",
    "        x = x - (step_size * gradient(x))# < write code here >\n",
    "    return x\n",
    "\n",
    "\n",
    "print(gradient_descent(np.array([0, 0]), 0.1, 5))\n",
    "print(gradient_descent(np.array([0, 0]), 0.1, 100))"
   ]
  },
  {
   "cell_type": "markdown",
   "metadata": {},
   "source": [
    "### Stochastic Gradient Descent in Python"
   ]
  },
  {
   "cell_type": "code",
   "execution_count": null,
   "metadata": {},
   "outputs": [],
   "source": [
    "#declare the model class and create method \"class initializer\" (__init__):\n",
    "\n",
    "class SGDLinearRegression:\n",
    "    def __init__(self):\n",
    "        ..."
   ]
  },
  {
   "cell_type": "code",
   "execution_count": null,
   "metadata": {},
   "outputs": [],
   "source": [
    "#Add one hyperparameter step_size to the class initializer:\n",
    "class SGDLinearRegression:\n",
    "    def __init__(self, step_size):\n",
    "        ..."
   ]
  },
  {
   "cell_type": "code",
   "execution_count": null,
   "metadata": {},
   "outputs": [],
   "source": [
    "#we can pass the step size to the model when creating a class:\n",
    "# you can choose step size arbitrarily\n",
    "model = SGDLinearRegression(0.01)"
   ]
  },
  {
   "cell_type": "code",
   "execution_count": null,
   "metadata": {},
   "outputs": [],
   "source": [
    "#Save the step size as an attribute:\n",
    "class SGDLinearRegression:\n",
    "    def __init__(self, step_size):\n",
    "        self.step_size = step_size"
   ]
  },
  {
   "cell_type": "code",
   "execution_count": null,
   "metadata": {},
   "outputs": [],
   "source": [
    "#SGD development with some dummy code\n",
    "import numpy as np\n",
    "import pandas as pd\n",
    "from sklearn.metrics import r2_score\n",
    "\n",
    "data_train = pd.read_csv('/datasets/train_data_n.csv')\n",
    "features_train = data_train.drop(['target'], axis=1)\n",
    "target_train = data_train['target']\n",
    "\n",
    "data_test = pd.read_csv('/datasets/test_data_n.csv')\n",
    "features_test = data_test.drop(['target'], axis=1)\n",
    "target_test = data_test['target']\n",
    "\n",
    "\n",
    "class SGDLinearRegression:\n",
    "    def __init__(self, step_size, epochs, batch_size):\n",
    "        self.step_size = step_size\n",
    "        # < write code here >\n",
    "        self.epochs = epochs\n",
    "        self.batch_size = batch_size\n",
    "\n",
    "    def fit(self, train_features, train_target):\n",
    "        X = np.concatenate((np.ones((train_features.shape[0], 1)), train_features), axis=1)\n",
    "        y = train_targetb\n",
    "        \n",
    "        w =  np.zeros(X.shape[1])# < write code here >\n",
    "\n",
    "        # you will write the SGD algorithm here in the next tasks\n",
    "\n",
    "        self.w = w[1:]\n",
    "        self.w0 = w[0]\n",
    "\n",
    "    def predict(self, test_features):\n",
    "        return  test_features @ self.w + self.w0# < write code here >\n",
    "\n",
    "\n",
    "# suitable training parameters have been already passed\n",
    "model = SGDLinearRegression(0.01, 1, 200)\n",
    "model.fit(features_train, target_train)\n",
    "pred_train = model.predict(features_train)\n",
    "pred_test = model.predict(features_test)\n",
    "print(r2_score(target_train, pred_train).round(5))\n",
    "print(r2_score(target_test, pred_test).round(5))"
   ]
  },
  {
   "cell_type": "code",
   "execution_count": 18,
   "metadata": {},
   "outputs": [
    {
     "name": "stdout",
     "output_type": "stream",
     "text": [
      "0\n",
      "1\n",
      "2\n",
      "3\n",
      "4\n",
      "5\n",
      "6\n",
      "7\n",
      "8\n",
      "9\n"
     ]
    }
   ],
   "source": [
    "for i in range(10):\n",
    "    print(i)"
   ]
  },
  {
   "cell_type": "code",
   "execution_count": null,
   "metadata": {},
   "outputs": [],
   "source": [
    "import numpy as np\n",
    "import pandas as pd\n",
    "from sklearn.metrics import r2_score\n",
    "\n",
    "\n",
    "data_train = pd.read_csv('/datasets/train_data_n.csv')\n",
    "features_train = data_train.drop(['target'], axis=1)\n",
    "target_train = data_train['target']\n",
    "\n",
    "data_test = pd.read_csv('/datasets/test_data_n.csv')\n",
    "features_test = data_test.drop(['target'], axis=1)\n",
    "target_test = data_test['target']\n",
    "\n",
    "\n",
    "class SGDLinearRegression:\n",
    "    def __init__(self, step_size, epochs, batch_size):\n",
    "        self.step_size = step_size\n",
    "        self.epochs = epochs\n",
    "        self.batch_size = batch_size\n",
    "    \n",
    "    def fit(self, train_features, train_target):\n",
    "        X = np.concatenate((np.ones((train_features.shape[0], 1)), train_features), axis=1)        \n",
    "        y = train_target\n",
    "        w = np.zeros(X.shape[1])\n",
    "        \n",
    "        for _ in range(self.epochs):\n",
    "            batches_count = self.batch_size# < write code here >\n",
    "            for i in range(batches_count):\n",
    "                begin = i * self.batch_size# < write code here >\n",
    "                end = self.batch_size# < write code here >\n",
    "                X_batch = X[begin:end, :]\n",
    "                y_batch = y[begin:end]\n",
    "                \n",
    "                # you will write the negative gradient step here in the next task\n",
    "\n",
    "        self.w = w[1:]\n",
    "        self.w0 = w[0]\n",
    "\n",
    "    def predict(self, test_features):\n",
    "        return test_features.dot(self.w) + self.w0\n",
    "    \n",
    "model = SGDLinearRegression(0.01, 10, 100)\n",
    "model.fit(features_train, target_train)\n",
    "pred_train = model.predict(features_train)\n",
    "pred_test = model.predict(features_test)\n",
    "print(r2_score(target_train, pred_train).round(5))\n",
    "print(r2_score(target_test, pred_test).round(5))"
   ]
  },
  {
   "cell_type": "code",
   "execution_count": null,
   "metadata": {},
   "outputs": [],
   "source": [
    "import numpy as np\n",
    "import pandas as pd\n",
    "from sklearn.metrics import r2_score\n",
    "\n",
    "\n",
    "data_train = pd.read_csv('/datasets/train_data_n.csv')\n",
    "features_train = data_train.drop(['target'], axis=1)\n",
    "target_train = data_train['target']\n",
    "\n",
    "data_test = pd.read_csv('/datasets/test_data_n.csv')\n",
    "features_test = data_test.drop(['target'], axis=1)\n",
    "target_test = data_test['target']\n",
    "\n",
    "\n",
    "class SGDLinearRegression:\n",
    "    def __init__(self, step_size, epochs, batch_size):\n",
    "        self.step_size = step_size\n",
    "        self.epochs = epochs\n",
    "        self.batch_size = batch_size\n",
    "    \n",
    "    def fit(self, train_features, train_target):\n",
    "        X = np.concatenate((np.ones((train_features.shape[0], 1)), train_features), axis=1)        \n",
    "        y = train_target\n",
    "        w = np.zeros(X.shape[1])\n",
    "        \n",
    "        for _ in range(self.epochs):\n",
    "            batches_count = X.shape[0] // self.batch_size\n",
    "            for i in range(batches_count):\n",
    "                begin = i * self.batch_size\n",
    "                end = (i + 1) * self.batch_size\n",
    "                X_batch = X[begin:end, :]\n",
    "                y_batch = y[begin:end]\n",
    "                \n",
    "                gradient = 2 * X_batch.T.dot(X_batch.dot(w) - y_batch) / X_batch.shape[0]\n",
    "                \n",
    "                w -= gradient * self.step_size# < write code here >\n",
    "\n",
    "        self.w = w[1:]\n",
    "        self.w0 = w[0]\n",
    "\n",
    "    def predict(self, test_features):\n",
    "        return test_features.dot(self.w) + self.w0\n",
    "    \n",
    "model = SGDLinearRegression(0.01, 10, 100)\n",
    "model.fit(features_train, target_train)\n",
    "pred_train = model.predict(features_train)\n",
    "pred_test = model.predict(features_test)\n",
    "print(r2_score(target_train, pred_train).round(5))\n",
    "print(r2_score(target_test, pred_test).round(5))"
   ]
  },
  {
   "cell_type": "markdown",
   "metadata": {},
   "source": [
    "### Linear Regression Regularization"
   ]
  },
  {
   "cell_type": "code",
   "execution_count": null,
   "metadata": {},
   "outputs": [],
   "source": [
    "import numpy as np\n",
    "import pandas as pd\n",
    "from sklearn.metrics import r2_score\n",
    "\n",
    "\n",
    "data_train = pd.read_csv('/datasets/train_data_n.csv')\n",
    "features_train = data_train.drop(['target'], axis=1)\n",
    "target_train = data_train['target']\n",
    "\n",
    "data_test = pd.read_csv('/datasets/test_data_n.csv')\n",
    "features_test = data_test.drop(['target'], axis=1)\n",
    "target_test = data_test['target']\n",
    "\n",
    "\n",
    "class SGDLinearRegression:\n",
    "    def __init__(self, step_size, epochs, batch_size, reg_weight):\n",
    "        self.step_size = step_size\n",
    "        self.epochs = epochs\n",
    "        self.batch_size = batch_size\n",
    "        self.reg_weight = reg_weight\n",
    "    \n",
    "    def fit(self, train_features, train_target):\n",
    "        X = np.concatenate((np.ones((train_features.shape[0], 1)), train_features), axis=1)        \n",
    "        y = train_target\n",
    "        w = np.zeros(X.shape[1])\n",
    "        \n",
    "        for _ in range(self.epochs):\n",
    "            batches_count = X.shape[0] // self.batch_size\n",
    "            for i in range(batches_count):\n",
    "                begin = i * self.batch_size\n",
    "                end = (i + 1) * self.batch_size\n",
    "                X_batch = X[begin:end, :]\n",
    "                y_batch = y[begin:end]\n",
    "                \n",
    "                gradient = 2 * X_batch.T.dot(X_batch.dot(w) - y_batch) / X_batch.shape[0]\n",
    "\t\t\t\t\t\t\t\t# copy vector w to avoid changing anything\n",
    "                reg = 2 * w.copy()\n",
    "                # < write code here >\n",
    "                reg[0] = 0\n",
    "                gradient += reg * self.reg_weight# < write code here >\n",
    "                \n",
    "                w -= self.step_size * gradient\n",
    "\n",
    "        self.w = w[1:]\n",
    "        self.w0 = w[0]\n",
    "\n",
    "    def predict(self, test_features):\n",
    "        return test_features.dot(self.w) + self.w0\n",
    "\n",
    "# To compare ridge regression and linear regression,\n",
    "# start with regularization weight = 0. Then add\n",
    "# training with its various values.\n",
    "print(\"Regularization:\", 0.0)\n",
    "model = SGDLinearRegression(0.01, 10, 100, 0.0)\n",
    "model.fit(features_train, target_train)\n",
    "pred_train = model.predict(features_train)\n",
    "pred_test = model.predict(features_test)\n",
    "print(r2_score(target_train, pred_train).round(5))\n",
    "print(r2_score(target_test, pred_test).round(5))\n",
    "\n",
    "print(\"Regularization:\", 0.1)\n",
    "model = SGDLinearRegression(0.01, 10, 100, 0.1)\n",
    "model.fit(features_train, target_train)\n",
    "pred_train = model.predict(features_train)\n",
    "pred_test = model.predict(features_test)\n",
    "print(r2_score(target_train, pred_train).round(5))\n",
    "print(r2_score(target_test, pred_test).round(5))\n",
    "\n",
    "print(\"Regularization:\", 1.0)\n",
    "model = SGDLinearRegression(0.01, 10, 100, 1.0)\n",
    "model.fit(features_train, target_train)\n",
    "pred_train = model.predict(features_train)\n",
    "pred_test = model.predict(features_test)\n",
    "print(r2_score(target_train, pred_train).round(5))\n",
    "print(r2_score(target_test, pred_test).round(5))\n",
    "\n",
    "print(\"Regularization:\", 10.0)\n",
    "model = SGDLinearRegression(0.01, 10, 100, 10.0)\n",
    "model.fit(features_train, target_train)\n",
    "pred_train = model.predict(features_train)\n",
    "pred_test = model.predict(features_test)\n",
    "print(r2_score(target_train, pred_train).round(5))\n",
    "print(r2_score(target_test, pred_test).round(5))"
   ]
  },
  {
   "cell_type": "markdown",
   "metadata": {},
   "source": [
    "###  An example using Boston house data:\n",
    "   - below is the depiction of  linear regression as a limiting case of Ridge regression"
   ]
  },
  {
   "cell_type": "code",
   "execution_count": 25,
   "metadata": {},
   "outputs": [
    {
     "name": "stdout",
     "output_type": "stream",
     "text": [
      "      CRIM    ZN  INDUS  CHAS    NOX     RM   AGE     DIS  RAD    TAX  \\\n",
      "0  0.00632  18.0   2.31   0.0  0.538  6.575  65.2  4.0900  1.0  296.0   \n",
      "1  0.02731   0.0   7.07   0.0  0.469  6.421  78.9  4.9671  2.0  242.0   \n",
      "2  0.02729   0.0   7.07   0.0  0.469  7.185  61.1  4.9671  2.0  242.0   \n",
      "\n",
      "   PTRATIO       B  LSTAT  \n",
      "0     15.3  396.90   4.98  \n",
      "1     17.8  396.90   9.14  \n",
      "2     17.8  392.83   4.03  \n",
      "152 152\n",
      "linear regression train score: 0.7419034960343789\n",
      "linear regression test score: 0.7147895265576846\n",
      "ridge regression train score low alpha: 0.7419030253527295\n",
      "ridge regression test score low alpha: 0.7146125373123904\n",
      "ridge regression train score high alpha: 0.7172809669938278\n",
      "ridge regression test score high alpha: 0.6805765856921931\n"
     ]
    },
    {
     "data": {
      "image/png": "[encoded data removed]",
      "text/plain": [
       "<Figure size 432x288 with 1 Axes>"
      ]
     },
     "metadata": {
      "needs_background": "light"
     },
     "output_type": "display_data"
    }
   ],
   "source": [
    "import matplotlib.pyplot as plt\n",
    "import numpy as np \n",
    "import pandas as pd\n",
    "import matplotlib\n",
    "matplotlib.rcParams.update({'font.size': 12})\n",
    "from sklearn.datasets import load_boston\n",
    "from sklearn.model_selection import train_test_split\n",
    "from sklearn.linear_model import LinearRegression\n",
    "from sklearn.linear_model import Ridge\n",
    "boston=load_boston()\n",
    "boston_df=pd.DataFrame(boston.data,columns=boston.feature_names)\n",
    "#print boston_df.info()\n",
    "# add another column that contains the house prices which in scikit learn datasets are considered as target\n",
    "boston_df['Price']=boston.target\n",
    "#print boston_df.head(3)\n",
    "newX=boston_df.drop('Price',axis=1)\n",
    "print(newX[0:3]) # check \n",
    "newY=boston_df['Price']\n",
    "#print type(newY)# pandas core frame\n",
    "X_train,X_test,y_train,y_test=train_test_split(newX,newY,test_size=0.3,random_state=3)\n",
    "print(len(X_test), len(y_test))\n",
    "lr = LinearRegression()\n",
    "lr.fit(X_train, y_train)\n",
    "rr = Ridge(alpha=0.01) # higher the alpha value, more restriction on the coefficients; low alpha > more generalization, coefficients are barely\n",
    "# restricted and in this case linear and ridge regression resembles\n",
    "rr.fit(X_train, y_train)\n",
    "rr100 = Ridge(alpha=100) #  comparison with alpha value\n",
    "rr100.fit(X_train, y_train)\n",
    "train_score=lr.score(X_train, y_train)\n",
    "test_score=lr.score(X_test, y_test)\n",
    "Ridge_train_score = rr.score(X_train,y_train)\n",
    "Ridge_test_score = rr.score(X_test, y_test)\n",
    "Ridge_train_score100 = rr100.score(X_train,y_train)\n",
    "Ridge_test_score100 = rr100.score(X_test, y_test)\n",
    "print(\"linear regression train score:\", train_score)\n",
    "print(\"linear regression test score:\", test_score)\n",
    "print(\"ridge regression train score low alpha:\", Ridge_train_score)\n",
    "print(\"ridge regression test score low alpha:\", Ridge_test_score)\n",
    "print(\"ridge regression train score high alpha:\", Ridge_train_score100)\n",
    "print(\"ridge regression test score high alpha:\", Ridge_test_score100)\n",
    "plt.plot(rr.coef_,alpha=0.7,linestyle='none',marker='*',markersize=5,color='red',label=r'Ridge; $\\alpha = 0.01$',zorder=7) # zorder for ordering the markers\n",
    "plt.plot(rr100.coef_,alpha=0.5,linestyle='none',marker='d',markersize=6,color='blue',label=r'Ridge; $\\alpha = 100$') # alpha here is for transparency\n",
    "plt.plot(lr.coef_,alpha=0.4,linestyle='none',marker='o',markersize=7,color='green',label='Linear Regression')\n",
    "plt.xlabel('Coefficient Index',fontsize=16)\n",
    "plt.ylabel('Coefficient Magnitude',fontsize=16)\n",
    "plt.legend(fontsize=13,loc=4)\n",
    "plt.show()"
   ]
  },
  {
   "cell_type": "markdown",
   "metadata": {},
   "source": [
    "- This is an example of shrinking coefficient magnitude using Ridge regression."
   ]
  },
  {
   "cell_type": "code",
   "execution_count": null,
   "metadata": {},
   "outputs": [],
   "source": []
  }
 ],
 "metadata": {
  "kernelspec": {
   "display_name": "Python 3",
   "language": "python",
   "name": "python3"
  },
  "language_info": {
   "codemirror_mode": {
    "name": "ipython",
    "version": 3
   },
   "file_extension": ".py",
   "mimetype": "text/x-python",
   "name": "python",
   "nbconvert_exporter": "python",
   "pygments_lexer": "ipython3",
   "version": "3.7.6"
  }
 },
 "nbformat": 4,
 "nbformat_minor": 4
}
