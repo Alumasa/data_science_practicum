{
 "cells": [
  {
   "cell_type": "markdown",
   "metadata": {},
   "source": [
    "### Loss function minimization"
   ]
  },
  {
   "cell_type": "code",
   "execution_count": 1,
   "metadata": {},
   "outputs": [
    {
     "name": "stdout",
     "output_type": "stream",
     "text": [
      "0.6832750158095007\n"
     ]
    }
   ],
   "source": [
    "#Calculating the value of logistic function:\n",
    "from math import log10\n",
    "print(-(log10(1 - 0.2) + log10(1 - 0.4) + log10(0.6) + log10(0.8) + log10(1 - 0.1)))"
   ]
  },
  {
   "cell_type": "code",
   "execution_count": 9,
   "metadata": {},
   "outputs": [
    {
     "name": "stdout",
     "output_type": "stream",
     "text": [
      "[-6 -6]\n",
      "[-4.  -4.8]\n"
     ]
    }
   ],
   "source": [
    "import numpy as np\n",
    "\n",
    "def func(x):\n",
    "    return (x[0] + x[1] - 1)**2 + (x[0] - x[1] - 2)**2\n",
    "\n",
    "def gradient(x):\n",
    "    return np.array([4 * x[0] - 6,4 * x[1] - 6])\n",
    "\n",
    "print(gradient(np.array([0, 0])))\n",
    "print(gradient(np.array([0.5, 0.3])))"
   ]
  },
  {
   "cell_type": "code",
   "execution_count": 4,
   "metadata": {},
   "outputs": [],
   "source": [
    "import numpy as np"
   ]
  },
  {
   "cell_type": "code",
   "execution_count": 5,
   "metadata": {},
   "outputs": [],
   "source": [
    "def func(x):\n",
    "    return (x[0] + x[1] - 1)**2 + (x[0] - x[1] - 2)**2"
   ]
  },
  {
   "cell_type": "code",
   "execution_count": 6,
   "metadata": {},
   "outputs": [
    {
     "name": "stdout",
     "output_type": "stream",
     "text": [
      "5\n"
     ]
    }
   ],
   "source": [
    "print(func(np.array([0, 0])))"
   ]
  },
  {
   "cell_type": "code",
   "execution_count": 7,
   "metadata": {},
   "outputs": [
    {
     "name": "stdout",
     "output_type": "stream",
     "text": [
      "3.2800000000000002\n"
     ]
    }
   ],
   "source": [
    "print(func(np.array([0.5, 0.3])))"
   ]
  },
  {
   "cell_type": "code",
   "execution_count": 10,
   "metadata": {},
   "outputs": [
    {
     "name": "stdout",
     "output_type": "stream",
     "text": [
      "[-6  2]\n",
      "[-4.   3.2]\n"
     ]
    }
   ],
   "source": [
    "import numpy as np\n",
    "\n",
    "def func(x):\n",
    "    return (x[0] + x[1] - 1)**2 + (x[0] - x[1] - 2)**2\n",
    "\n",
    "def gradient(x):\n",
    "    return np.array([4 * x[0] - 6, 4 * x[1] + 2])\n",
    "\n",
    "print(gradient(np.array([0, 0])))\n",
    "print(gradient(np.array([0.5, 0.3])))"
   ]
  },
  {
   "cell_type": "code",
   "execution_count": 12,
   "metadata": {},
   "outputs": [
    {
     "name": "stdout",
     "output_type": "stream",
     "text": [
      "[ 1.38336 -0.46112]\n",
      "[ 1.5 -0.5]\n"
     ]
    }
   ],
   "source": [
    "import numpy as np\n",
    "\n",
    "def func(x):\n",
    "    return (x[0] + x[1] - 1)**2 + (x[0] - x[1] - 2)**2\n",
    "\n",
    "def gradient(x):\n",
    "    return np.array([4 * x[0] - 6, 4 * x[1] + 2])\n",
    "\n",
    "def gradient_descent(initialization, step_size, iterations):\n",
    "    x = initialization# < write code here >\n",
    "    for i in range(iterations):\n",
    "        x = x - (step_size * gradient(x))# < write code here >\n",
    "    return x\n",
    "\n",
    "\n",
    "print(gradient_descent(np.array([0, 0]), 0.1, 5))\n",
    "print(gradient_descent(np.array([0, 0]), 0.1, 100))"
   ]
  },
  {
   "cell_type": "markdown",
   "metadata": {},
   "source": [
    "### Stochastic Gradient Descent in Python"
   ]
  },
  {
   "cell_type": "code",
   "execution_count": null,
   "metadata": {},
   "outputs": [],
   "source": [
    "#declare the model class and create method \"class initializer\" (__init__):\n",
    "\n",
    "class SGDLinearRegression:\n",
    "    def __init__(self):\n",
    "        ..."
   ]
  },
  {
   "cell_type": "code",
   "execution_count": null,
   "metadata": {},
   "outputs": [],
   "source": [
    "#Add one hyperparameter step_size to the class initializer:\n",
    "class SGDLinearRegression:\n",
    "    def __init__(self, step_size):\n",
    "        ..."
   ]
  },
  {
   "cell_type": "code",
   "execution_count": null,
   "metadata": {},
   "outputs": [],
   "source": [
    "#we can pass the step size to the model when creating a class:\n",
    "# you can choose step size arbitrarily\n",
    "model = SGDLinearRegression(0.01)"
   ]
  },
  {
   "cell_type": "code",
   "execution_count": null,
   "metadata": {},
   "outputs": [],
   "source": [
    "#Save the step size as an attribute:\n",
    "class SGDLinearRegression:\n",
    "    def __init__(self, step_size):\n",
    "        self.step_size = step_size"
   ]
  },
  {
   "cell_type": "code",
   "execution_count": null,
   "metadata": {},
   "outputs": [],
   "source": [
    "#SGD development with some dummy code\n",
    "import numpy as np\n",
    "import pandas as pd\n",
    "from sklearn.metrics import r2_score\n",
    "\n",
    "data_train = pd.read_csv('/datasets/train_data_n.csv')\n",
    "features_train = data_train.drop(['target'], axis=1)\n",
    "target_train = data_train['target']\n",
    "\n",
    "data_test = pd.read_csv('/datasets/test_data_n.csv')\n",
    "features_test = data_test.drop(['target'], axis=1)\n",
    "target_test = data_test['target']\n",
    "\n",
    "\n",
    "class SGDLinearRegression:\n",
    "    def __init__(self, step_size, epochs, batch_size):\n",
    "        self.step_size = step_size\n",
    "        # < write code here >\n",
    "        self.epochs = epochs\n",
    "        self.batch_size = batch_size\n",
    "\n",
    "    def fit(self, train_features, train_target):\n",
    "        X = np.concatenate((np.ones((train_features.shape[0], 1)), train_features), axis=1)\n",
    "        y = train_targetb\n",
    "        \n",
    "        w =  np.zeros(X.shape[1])# < write code here >\n",
    "\n",
    "        # you will write the SGD algorithm here in the next tasks\n",
    "\n",
    "        self.w = w[1:]\n",
    "        self.w0 = w[0]\n",
    "\n",
    "    def predict(self, test_features):\n",
    "        return  test_features @ self.w + self.w0# < write code here >\n",
    "\n",
    "\n",
    "# suitable training parameters have been already passed\n",
    "model = SGDLinearRegression(0.01, 1, 200)\n",
    "model.fit(features_train, target_train)\n",
    "pred_train = model.predict(features_train)\n",
    "pred_test = model.predict(features_test)\n",
    "print(r2_score(target_train, pred_train).round(5))\n",
    "print(r2_score(target_test, pred_test).round(5))"
   ]
  },
  {
   "cell_type": "code",
   "execution_count": 18,
   "metadata": {},
   "outputs": [
    {
     "name": "stdout",
     "output_type": "stream",
     "text": [
      "0\n",
      "1\n",
      "2\n",
      "3\n",
      "4\n",
      "5\n",
      "6\n",
      "7\n",
      "8\n",
      "9\n"
     ]
    }
   ],
   "source": [
    "for i in range(10):\n",
    "    print(i)"
   ]
  },
  {
   "cell_type": "code",
   "execution_count": null,
   "metadata": {},
   "outputs": [],
   "source": [
    "import numpy as np\n",
    "import pandas as pd\n",
    "from sklearn.metrics import r2_score\n",
    "\n",
    "\n",
    "data_train = pd.read_csv('/datasets/train_data_n.csv')\n",
    "features_train = data_train.drop(['target'], axis=1)\n",
    "target_train = data_train['target']\n",
    "\n",
    "data_test = pd.read_csv('/datasets/test_data_n.csv')\n",
    "features_test = data_test.drop(['target'], axis=1)\n",
    "target_test = data_test['target']\n",
    "\n",
    "\n",
    "class SGDLinearRegression:\n",
    "    def __init__(self, step_size, epochs, batch_size):\n",
    "        self.step_size = step_size\n",
    "        self.epochs = epochs\n",
    "        self.batch_size = batch_size\n",
    "    \n",
    "    def fit(self, train_features, train_target):\n",
    "        X = np.concatenate((np.ones((train_features.shape[0], 1)), train_features), axis=1)        \n",
    "        y = train_target\n",
    "        w = np.zeros(X.shape[1])\n",
    "        \n",
    "        for _ in range(self.epochs):\n",
    "            batches_count = self.batch_size# < write code here >\n",
    "            for i in range(batches_count):\n",
    "                begin = i * self.batch_size# < write code here >\n",
    "                end = self.batch_size# < write code here >\n",
    "                X_batch = X[begin:end, :]\n",
    "                y_batch = y[begin:end]\n",
    "                \n",
    "                # you will write the negative gradient step here in the next task\n",
    "\n",
    "        self.w = w[1:]\n",
    "        self.w0 = w[0]\n",
    "\n",
    "    def predict(self, test_features):\n",
    "        return test_features.dot(self.w) + self.w0\n",
    "    \n",
    "model = SGDLinearRegression(0.01, 10, 100)\n",
    "model.fit(features_train, target_train)\n",
    "pred_train = model.predict(features_train)\n",
    "pred_test = model.predict(features_test)\n",
    "print(r2_score(target_train, pred_train).round(5))\n",
    "print(r2_score(target_test, pred_test).round(5))"
   ]
  },
  {
   "cell_type": "code",
   "execution_count": null,
   "metadata": {},
   "outputs": [],
   "source": [
    "import numpy as np\n",
    "import pandas as pd\n",
    "from sklearn.metrics import r2_score\n",
    "\n",
    "\n",
    "data_train = pd.read_csv('/datasets/train_data_n.csv')\n",
    "features_train = data_train.drop(['target'], axis=1)\n",
    "target_train = data_train['target']\n",
    "\n",
    "data_test = pd.read_csv('/datasets/test_data_n.csv')\n",
    "features_test = data_test.drop(['target'], axis=1)\n",
    "target_test = data_test['target']\n",
    "\n",
    "\n",
    "class SGDLinearRegression:\n",
    "    def __init__(self, step_size, epochs, batch_size):\n",
    "        self.step_size = step_size\n",
    "        self.epochs = epochs\n",
    "        self.batch_size = batch_size\n",
    "    \n",
    "    def fit(self, train_features, train_target):\n",
    "        X = np.concatenate((np.ones((train_features.shape[0], 1)), train_features), axis=1)        \n",
    "        y = train_target\n",
    "        w = np.zeros(X.shape[1])\n",
    "        \n",
    "        for _ in range(self.epochs):\n",
    "            batches_count = X.shape[0] // self.batch_size\n",
    "            for i in range(batches_count):\n",
    "                begin = i * self.batch_size\n",
    "                end = (i + 1) * self.batch_size\n",
    "                X_batch = X[begin:end, :]\n",
    "                y_batch = y[begin:end]\n",
    "                \n",
    "                gradient = 2 * X_batch.T.dot(X_batch.dot(w) - y_batch) / X_batch.shape[0]\n",
    "                \n",
    "                w -= gradient * self.step_size# < write code here >\n",
    "\n",
    "        self.w = w[1:]\n",
    "        self.w0 = w[0]\n",
    "\n",
    "    def predict(self, test_features):\n",
    "        return test_features.dot(self.w) + self.w0\n",
    "    \n",
    "model = SGDLinearRegression(0.01, 10, 100)\n",
    "model.fit(features_train, target_train)\n",
    "pred_train = model.predict(features_train)\n",
    "pred_test = model.predict(features_test)\n",
    "print(r2_score(target_train, pred_train).round(5))\n",
    "print(r2_score(target_test, pred_test).round(5))"
   ]
  }
 ],
 "metadata": {
  "kernelspec": {
   "display_name": "Python 3",
   "language": "python",
   "name": "python3"
  },
  "language_info": {
   "codemirror_mode": {
    "name": "ipython",
    "version": 3
   },
   "file_extension": ".py",
   "mimetype": "text/x-python",
   "name": "python",
   "nbconvert_exporter": "python",
   "pygments_lexer": "ipython3",
   "version": "3.7.6"
  }
 },
 "nbformat": 4,
 "nbformat_minor": 4
}
