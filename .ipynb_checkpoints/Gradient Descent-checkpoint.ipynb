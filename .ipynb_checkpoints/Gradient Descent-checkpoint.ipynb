{
 "cells": [
  {
   "cell_type": "markdown",
   "metadata": {},
   "source": [
    "### Loss function minimization"
   ]
  },
  {
   "cell_type": "code",
   "execution_count": 1,
   "metadata": {},
   "outputs": [
    {
     "name": "stdout",
     "output_type": "stream",
     "text": [
      "0.6832750158095007\n"
     ]
    }
   ],
   "source": [
    "#Calculating the value of logistic function:\n",
    "from math import log10\n",
    "print(-(log10(1 - 0.2) + log10(1 - 0.4) + log10(0.6) + log10(0.8) + log10(1 - 0.1)))"
   ]
  },
  {
   "cell_type": "code",
   "execution_count": 9,
   "metadata": {},
   "outputs": [
    {
     "name": "stdout",
     "output_type": "stream",
     "text": [
      "[-6 -6]\n",
      "[-4.  -4.8]\n"
     ]
    }
   ],
   "source": [
    "import numpy as np\n",
    "\n",
    "def func(x):\n",
    "    return (x[0] + x[1] - 1)**2 + (x[0] - x[1] - 2)**2\n",
    "\n",
    "def gradient(x):\n",
    "    return np.array([4 * x[0] - 6,4 * x[1] - 6])\n",
    "\n",
    "print(gradient(np.array([0, 0])))\n",
    "print(gradient(np.array([0.5, 0.3])))"
   ]
  },
  {
   "cell_type": "code",
   "execution_count": 4,
   "metadata": {},
   "outputs": [],
   "source": [
    "import numpy as np"
   ]
  },
  {
   "cell_type": "code",
   "execution_count": 5,
   "metadata": {},
   "outputs": [],
   "source": [
    "def func(x):\n",
    "    return (x[0] + x[1] - 1)**2 + (x[0] - x[1] - 2)**2"
   ]
  },
  {
   "cell_type": "code",
   "execution_count": 6,
   "metadata": {},
   "outputs": [
    {
     "name": "stdout",
     "output_type": "stream",
     "text": [
      "5\n"
     ]
    }
   ],
   "source": [
    "print(func(np.array([0, 0])))"
   ]
  },
  {
   "cell_type": "code",
   "execution_count": 7,
   "metadata": {},
   "outputs": [
    {
     "name": "stdout",
     "output_type": "stream",
     "text": [
      "3.2800000000000002\n"
     ]
    }
   ],
   "source": [
    "print(func(np.array([0.5, 0.3])))"
   ]
  },
  {
   "cell_type": "code",
   "execution_count": 10,
   "metadata": {},
   "outputs": [
    {
     "name": "stdout",
     "output_type": "stream",
     "text": [
      "[-6  2]\n",
      "[-4.   3.2]\n"
     ]
    }
   ],
   "source": [
    "import numpy as np\n",
    "\n",
    "def func(x):\n",
    "    return (x[0] + x[1] - 1)**2 + (x[0] - x[1] - 2)**2\n",
    "\n",
    "def gradient(x):\n",
    "    return np.array([4 * x[0] - 6, 4 * x[1] + 2])\n",
    "\n",
    "print(gradient(np.array([0, 0])))\n",
    "print(gradient(np.array([0.5, 0.3])))"
   ]
  },
  {
   "cell_type": "code",
   "execution_count": 12,
   "metadata": {},
   "outputs": [
    {
     "name": "stdout",
     "output_type": "stream",
     "text": [
      "[ 1.38336 -0.46112]\n",
      "[ 1.5 -0.5]\n"
     ]
    }
   ],
   "source": [
    "import numpy as np\n",
    "\n",
    "def func(x):\n",
    "    return (x[0] + x[1] - 1)**2 + (x[0] - x[1] - 2)**2\n",
    "\n",
    "def gradient(x):\n",
    "    return np.array([4 * x[0] - 6, 4 * x[1] + 2])\n",
    "\n",
    "def gradient_descent(initialization, step_size, iterations):\n",
    "    x = initialization# < write code here >\n",
    "    for i in range(iterations):\n",
    "        x = x - (step_size * gradient(x))# < write code here >\n",
    "    return x\n",
    "\n",
    "\n",
    "print(gradient_descent(np.array([0, 0]), 0.1, 5))\n",
    "print(gradient_descent(np.array([0, 0]), 0.1, 100))"
   ]
  },
  {
   "cell_type": "code",
   "execution_count": null,
   "metadata": {},
   "outputs": [],
   "source": []
  }
 ],
 "metadata": {
  "kernelspec": {
   "display_name": "Python 3",
   "language": "python",
   "name": "python3"
  },
  "language_info": {
   "codemirror_mode": {
    "name": "ipython",
    "version": 3
   },
   "file_extension": ".py",
   "mimetype": "text/x-python",
   "name": "python",
   "nbconvert_exporter": "python",
   "pygments_lexer": "ipython3",
   "version": "3.7.6"
  }
 },
 "nbformat": 4,
 "nbformat_minor": 4
}
