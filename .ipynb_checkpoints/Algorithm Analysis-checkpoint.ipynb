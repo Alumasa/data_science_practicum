{
 "cells": [
  {
   "cell_type": "code",
   "execution_count": 1,
   "metadata": {},
   "outputs": [],
   "source": [
    "def increase(elements):\n",
    "    n = len(elements)\n",
    "    for i in range(n):\n",
    "        elements[i] += 1"
   ]
  },
  {
   "cell_type": "code",
   "execution_count": 2,
   "metadata": {},
   "outputs": [],
   "source": [
    "def increase(elements):\n",
    "    n = len(elements)     # 2 operations\n",
    "    for i in range(n):    # 1 operation + 2 operations * n\n",
    "        elements[i] += 1  # 2 operations (for every value of i)"
   ]
  },
  {
   "cell_type": "markdown",
   "metadata": {},
   "source": [
    "T(n)= 2 + 1 + n * (2 + 2) = 4n + 3"
   ]
  },
  {
   "cell_type": "markdown",
   "metadata": {},
   "source": [
    "### Bisection method"
   ]
  },
  {
   "cell_type": "code",
   "execution_count": 2,
   "metadata": {},
   "outputs": [
    {
     "name": "stdout",
     "output_type": "stream",
     "text": [
      "1.999999761581421\n",
      "3.6952309608459473\n"
     ]
    }
   ],
   "source": [
    "import math\n",
    "\n",
    "def bisect(function, left, right, error):\n",
    "    # The while loop repeats the code as long as the criterion is met.\n",
    "    # Added the stopping criterion.\n",
    "    while right - left > error:\n",
    "\n",
    "        # making sure there are no zeros\n",
    "        if function(left) == 0:\n",
    "            return left\n",
    "        # < write code here >\n",
    "        if function(right) == 0:\n",
    "            return right\n",
    "        \n",
    "        # bisect the segment and find the new segment\n",
    "        middle = (right + left) / 2# < write code here >\n",
    "        if function(left) * function(middle) < 0:# < write code here >\n",
    "            right = middle\n",
    "        else:\n",
    "            left = middle# < write code here >\n",
    "    return left\n",
    "\n",
    "\n",
    "def f1(x):\n",
    "    return x**3 - x**2 - 2*x \n",
    "\n",
    "\n",
    "def f2(x):\n",
    "    return (x+1)*math.log10(x) - x**0.75\n",
    "\n",
    "\n",
    "print(bisect(f1, 1, 4, 0.000001))\n",
    "print(bisect(f2, 1, 4, 0.000001))"
   ]
  },
  {
   "cell_type": "code",
   "execution_count": null,
   "metadata": {},
   "outputs": [],
   "source": []
  }
 ],
 "metadata": {
  "kernelspec": {
   "display_name": "Python 3",
   "language": "python",
   "name": "python3"
  },
  "language_info": {
   "codemirror_mode": {
    "name": "ipython",
    "version": 3
   },
   "file_extension": ".py",
   "mimetype": "text/x-python",
   "name": "python",
   "nbconvert_exporter": "python",
   "pygments_lexer": "ipython3",
   "version": "3.7.6"
  }
 },
 "nbformat": 4,
 "nbformat_minor": 4
}
