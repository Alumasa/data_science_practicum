{
 "cells": [
  {
   "cell_type": "markdown",
   "metadata": {},
   "source": [
    "### Libraries and INitializing PySpark"
   ]
  },
  {
   "cell_type": "code",
   "execution_count": 1,
   "metadata": {
    "scrolled": true
   },
   "outputs": [
    {
     "ename": "ModuleNotFoundError",
     "evalue": "No module named 'pyspark'",
     "output_type": "error",
     "traceback": [
      "\u001b[1;31m---------------------------------------------------------------------------\u001b[0m",
      "\u001b[1;31mModuleNotFoundError\u001b[0m                       Traceback (most recent call last)",
      "\u001b[1;32m<ipython-input-1-5f50710d7f50>\u001b[0m in \u001b[0;36m<module>\u001b[1;34m\u001b[0m\n\u001b[1;32m----> 1\u001b[1;33m \u001b[1;32mfrom\u001b[0m \u001b[0mpyspark\u001b[0m \u001b[1;32mimport\u001b[0m \u001b[0mSparkContext\u001b[0m\u001b[1;33m\u001b[0m\u001b[1;33m\u001b[0m\u001b[0m\n\u001b[0m\u001b[0;32m      2\u001b[0m \u001b[1;33m\u001b[0m\u001b[0m\n\u001b[0;32m      3\u001b[0m \u001b[1;31m# sc is short for spark context\u001b[0m\u001b[1;33m\u001b[0m\u001b[1;33m\u001b[0m\u001b[1;33m\u001b[0m\u001b[0m\n\u001b[0;32m      4\u001b[0m \u001b[0msc\u001b[0m \u001b[1;33m=\u001b[0m \u001b[0mSparkContext\u001b[0m\u001b[1;33m(\u001b[0m\u001b[0mappName\u001b[0m\u001b[1;33m=\u001b[0m\u001b[1;34m\"IntroToSpark\"\u001b[0m\u001b[1;33m)\u001b[0m\u001b[1;33m\u001b[0m\u001b[1;33m\u001b[0m\u001b[0m\n",
      "\u001b[1;31mModuleNotFoundError\u001b[0m: No module named 'pyspark'"
     ]
    }
   ],
   "source": [
    "from pyspark import SparkContext\n",
    "\n",
    "# sc is short for spark context\n",
    "sc = SparkContext(appName=\"IntroToSpark\")"
   ]
  },
  {
   "cell_type": "code",
   "execution_count": null,
   "metadata": {},
   "outputs": [],
   "source": [
    "taxi_entry = sc.parallelize(['2009-01-01', 0, 0, 24])"
   ]
  },
  {
   "cell_type": "code",
   "execution_count": null,
   "metadata": {},
   "outputs": [],
   "source": [
    "print(taxi_entry)"
   ]
  },
  {
   "cell_type": "code",
   "execution_count": null,
   "metadata": {},
   "outputs": [],
   "source": [
    "ParallelCollectionRDD[0] at parallelize at PythonRDD.scala:195"
   ]
  },
  {
   "cell_type": "code",
   "execution_count": null,
   "metadata": {},
   "outputs": [],
   "source": [
    "from pyspark import SparkContext\n",
    "\n",
    "sc = SparkContext(appName=\"IntroTo Spark\")# < write code here >\n",
    "weather_entry = sc.parallelize(['2009-01-01', 15.1, 26.1])# < write code here >\n",
    "print(weather_entry.take(3))"
   ]
  },
  {
   "cell_type": "code",
   "execution_count": null,
   "metadata": {},
   "outputs": [],
   "source": [
    "from pyspark.sql import SparkSession\n",
    "\n",
    "APP_NAME = 'sampleApp'\n",
    "\n",
    "spark = SparkSession.builder.appName(APP_NAME).getOrCreate()"
   ]
  },
  {
   "cell_type": "markdown",
   "metadata": {},
   "source": [
    "### DataFrames in PySpark"
   ]
  },
  {
   "cell_type": "code",
   "execution_count": null,
   "metadata": {},
   "outputs": [],
   "source": [
    "import numpy as np\n",
    "import pandas as pd\n",
    "from pyspark.sql import SparkSession\n",
    "\n",
    "APP_NAME = \"DataFrames\"\n",
    "SPARK_URL = \"local[*]\"\n",
    "\n",
    "spark = SparkSession.builder.appName(APP_NAME).getOrCreate()\n",
    "\n",
    "taxi_df = pd.read_csv('/datasets/pickups_terminal_5.csv')\n",
    "taxi = spark.createDataFrame(taxi_df)\n",
    "\n",
    "print(taxi)"
   ]
  },
  {
   "cell_type": "code",
   "execution_count": null,
   "metadata": {},
   "outputs": [],
   "source": [
    "[Row(date='2009-01-01', hour=0, minute=0, pickups=24.0), \n",
    "Row(date='2009-01-01', hour=0, minute=30, pickups=35.0), \n",
    "Row(date='2009-01-01', hour=1, minute=0, pickups=25.0), \n",
    "Row(date='2009-01-01', hour=1, minute=30, pickups=25.0), \n",
    "Row(date='2009-01-01', hour=2, minute=0, pickups=16.0)]"
   ]
  },
  {
   "cell_type": "code",
   "execution_count": null,
   "metadata": {},
   "outputs": [],
   "source": [
    "# you can break the line using the symbol '\\'\n",
    "spark = SparkSession.builder.appName(APP_NAME) \\\n",
    "        .config('spark.ui.showConsoleProgress', 'false') \\\n",
    "        .getOrCreate()"
   ]
  },
  {
   "cell_type": "code",
   "execution_count": null,
   "metadata": {},
   "outputs": [],
   "source": [
    "# format='csv' - specify file format\n",
    "# header='true' - specify that there is a header (column names) in the file\n",
    "# inferSchema='true' - specify that data types should be inferred\n",
    "taxi = spark.read.load('/datasets/pickups_terminal_5.csv', \n",
    "                       format='csv', header='true', inferSchema='true')"
   ]
  },
  {
   "cell_type": "code",
   "execution_count": null,
   "metadata": {},
   "outputs": [],
   "source": [
    "import numpy as np\n",
    "import pandas as pd\n",
    "from pyspark.sql import SparkSession\n",
    "\n",
    "APP_NAME = \"DataFrames\"\n",
    "SPARK_URL = \"local[*]\"\n",
    "\n",
    "spark = SparkSession.builder.appName(APP_NAME).getOrCreate()\n",
    "\n",
    "taxi = spark.read.load('/datasets/pickups_terminal_5.csv', format='csv', header='true', inferSchema='true')# < write code here >\n",
    "\n",
    "print(taxi.show(5))# < write code here >"
   ]
  },
  {
   "cell_type": "code",
   "execution_count": null,
   "metadata": {},
   "outputs": [],
   "source": [
    "print(taxi.count()) #total number of rows in the dataframe"
   ]
  },
  {
   "cell_type": "code",
   "execution_count": null,
   "metadata": {},
   "outputs": [],
   "source": [
    "print(taxi[['date', 'hour', 'minute']].show(5)) #susbset columns"
   ]
  },
  {
   "cell_type": "markdown",
   "metadata": {},
   "source": [
    "### Missing Data in Spark"
   ]
  },
  {
   "cell_type": "code",
   "execution_count": null,
   "metadata": {},
   "outputs": [],
   "source": [
    "print(taxi.describe().show())"
   ]
  },
  {
   "cell_type": "code",
   "execution_count": null,
   "metadata": {},
   "outputs": [],
   "source": [
    "taxi = taxi.dropna()\n",
    "print(taxi.count())# < write code here >"
   ]
  },
  {
   "cell_type": "code",
   "execution_count": null,
   "metadata": {},
   "outputs": [],
   "source": [
    "taxi = taxi.fillna(0)\n",
    "print(taxi.describe().show())"
   ]
  },
  {
   "cell_type": "markdown",
   "metadata": {},
   "source": [
    "### EDA in PySpark SQL"
   ]
  },
  {
   "cell_type": "code",
   "execution_count": null,
   "metadata": {},
   "outputs": [],
   "source": [
    "print(taxi.summary().show())"
   ]
  },
  {
   "cell_type": "markdown",
   "metadata": {},
   "source": [
    "*For future reference*\n",
    "We observe that the pickups data is skewed to the right, since the mean is greater than the median (the row with \"50%\"). We also notice that the maximum value is 310, the mean is 29, and the standard deviation is 22.45. So the maximum is significantly more than three standard deviations from the mean. Therefore, it is clearly an outlier. "
   ]
  },
  {
   "cell_type": "code",
   "execution_count": null,
   "metadata": {},
   "outputs": [],
   "source": [
    "taxi.registerTempTable(\"taxi\")"
   ]
  },
  {
   "cell_type": "code",
   "execution_count": null,
   "metadata": {},
   "outputs": [],
   "source": [
    "print(spark.sql(\"SELECT COUNT(*) FROM taxi WHERE pickups > 100\").show())"
   ]
  },
  {
   "cell_type": "markdown",
   "metadata": {},
   "source": [
    "+--------+\n",
    "|count(1)|\n",
    "+--------+\n",
    "|    1431|\n",
    "+--------+"
   ]
  },
  {
   "cell_type": "code",
   "execution_count": null,
   "metadata": {},
   "outputs": [],
   "source": [
    "print(spark.sql(\"SELECT MIN(CAST(date as DATE)), MAX(CAST(date as DATE)) FROM taxi\").show())"
   ]
  },
  {
   "cell_type": "markdown",
   "metadata": {},
   "source": [
    "+-----------------------+-----------------------+\n",
    "|min(CAST(date AS DATE))|max(CAST(date AS DATE))|\n",
    "+-----------------------+-----------------------+\n",
    "|             2009-01-01|             2016-06-30|\n",
    "+-----------------------+-----------------------+\n",
    "\n",
    "#Over seven years!!"
   ]
  },
  {
   "cell_type": "code",
   "execution_count": null,
   "metadata": {},
   "outputs": [],
   "source": [
    "print(spark.sql(\"SELECT * FROM taxi ORDER BY pickups DESC\").show(5))"
   ]
  },
  {
   "cell_type": "markdown",
   "metadata": {},
   "source": [
    "+-------------------+----+------+-------+\n",
    "|               date|hour|minute|pickups|\n",
    "+-------------------+----+------+-------+\n",
    "|2015-11-01 00:00:00|   1|    30|  310.0|\n",
    "|2010-09-23 00:00:00|  22|    30|  288.0|\n",
    "|2012-03-07 00:00:00|  21|     0|  268.0|\n",
    "|2011-03-02 00:00:00|  20|    30|  264.0|\n",
    "|2011-03-02 00:00:00|  18|    30|  263.0|\n",
    "+-------------------+----+------+-------+\n",
    "only showing top 5 rows"
   ]
  },
  {
   "cell_type": "code",
   "execution_count": null,
   "metadata": {},
   "outputs": [],
   "source": [
    "print(spark.sql(\"SELECT COUNT(DISTINCT date) FROM taxi WHERE pickups > 200\").show())# < write your code here >"
   ]
  },
  {
   "cell_type": "markdown",
   "metadata": {},
   "source": [
    "+--------------------+\n",
    "|count(DISTINCT date)|\n",
    "+--------------------+\n",
    "|                  21|\n",
    "+--------------------+"
   ]
  },
  {
   "cell_type": "markdown",
   "metadata": {},
   "source": [
    "### GroupBy"
   ]
  },
  {
   "cell_type": "code",
   "execution_count": null,
   "metadata": {},
   "outputs": [],
   "source": [
    "print(taxi.groupBy(\"date\").mean().select(\"date\", \"avg(pickups)\").show())"
   ]
  },
  {
   "cell_type": "markdown",
   "metadata": {},
   "source": [
    "+-------------------+------------------+\n",
    "|               date|      avg(pickups)|\n",
    "+-------------------+------------------+\n",
    "|2009-06-10 00:00:00| 28.48936170212766|\n",
    "|2009-10-15 00:00:00|35.895833333333336|\n",
    "|2010-03-25 00:00:00|28.458333333333332|\n",
    "|2010-04-19 00:00:00|33.208333333333336|\n",
    "|2010-05-03 00:00:00|             44.75|\n",
    "|2010-08-21 00:00:00|           17.8125|\n",
    "|2010-10-22 00:00:00|36.208333333333336|\n",
    "|2010-11-02 00:00:00|            34.625|\n",
    "|2011-05-25 00:00:00|35.829787234042556|\n",
    "|2011-10-10 00:00:00| 26.76595744680851|\n",
    "|2011-12-04 00:00:00|              23.0|\n",
    "|2012-01-22 00:00:00|31.020833333333332|\n",
    "|2012-07-11 00:00:00|              31.0|\n",
    "|2012-10-20 00:00:00|32.041666666666664|\n",
    "|2013-10-31 00:00:00|41.729166666666664|\n",
    "|2014-08-04 00:00:00| 40.06382978723404|\n",
    "|2015-04-26 00:00:00|22.145833333333332|\n",
    "|2015-07-14 00:00:00|30.630434782608695|\n",
    "|2015-10-10 00:00:00|            30.375|\n",
    "|2016-03-11 00:00:00|              23.5|\n",
    "+-------------------+------------------+\n",
    "only showing top 20 rows"
   ]
  },
  {
   "cell_type": "code",
   "execution_count": null,
   "metadata": {},
   "outputs": [],
   "source": [
    "print(taxi.groupBy(\"date\").mean().select(\"date\", \"avg(pickups)\") \\\n",
    "      .sort(\"avg(pickups)\", ascending=False).show())"
   ]
  },
  {
   "cell_type": "markdown",
   "metadata": {},
   "source": [
    "+-------------------+------------------+\n",
    "|               date|      avg(pickups)|\n",
    "+-------------------+------------------+\n",
    "|2012-03-07 00:00:00| 84.41666666666667|\n",
    "|2011-03-02 00:00:00|             82.75|\n",
    "|2012-03-09 00:00:00| 71.52083333333333|\n",
    "|2014-03-05 00:00:00| 69.02083333333333|\n",
    "|2012-03-10 00:00:00| 66.41666666666667|\n",
    "|2012-03-22 00:00:00|             64.25|\n",
    "|2013-03-22 00:00:00|            64.125|\n",
    "|2013-11-01 00:00:00| 64.02083333333333|\n",
    "|2013-03-06 00:00:00|62.723404255319146|\n",
    "|2012-03-08 00:00:00|              62.0|\n",
    "|2014-03-20 00:00:00|            61.625|\n",
    "|2011-03-17 00:00:00| 60.97872340425532|\n",
    "|2011-03-05 00:00:00|60.270833333333336|\n",
    "|2011-03-04 00:00:00|           58.4375|\n",
    "|2011-03-06 00:00:00|              58.0|\n",
    "|2009-03-04 00:00:00|56.645833333333336|\n",
    "|2011-05-04 00:00:00|             55.75|\n",
    "|2014-03-06 00:00:00| 54.97872340425532|\n",
    "|2015-03-04 00:00:00|54.854166666666664|\n",
    "|2012-03-23 00:00:00|54.645833333333336|\n",
    "+-------------------+------------------+\n",
    "only showing top 20 rows"
   ]
  },
  {
   "cell_type": "code",
   "execution_count": null,
   "metadata": {},
   "outputs": [],
   "source": [
    "# If your query is too long, you can split the string in two.\n",
    "# Python automatically joins the parts if there is no comma.\n",
    "print(spark.sql('SELECT date, AVG(pickups) FROM taxi '\n",
    "                'GROUP BY date ORDER BY AVG(pickups) DESC').show())"
   ]
  },
  {
   "cell_type": "markdown",
   "metadata": {},
   "source": [
    "+-------------------+------------------+\n",
    "|               date|      avg(pickups)|\n",
    "+-------------------+------------------+\n",
    "|2012-03-07 00:00:00| 84.41666666666667|\n",
    "|2011-03-02 00:00:00|             82.75|\n",
    "|2012-03-09 00:00:00| 71.52083333333333|\n",
    "|2014-03-05 00:00:00| 69.02083333333333|\n",
    "|2012-03-10 00:00:00| 66.41666666666667|\n",
    "|2012-03-22 00:00:00|             64.25|\n",
    "|2013-03-22 00:00:00|            64.125|\n",
    "|2013-11-01 00:00:00| 64.02083333333333|\n",
    "|2013-03-06 00:00:00|62.723404255319146|\n",
    "|2012-03-08 00:00:00|              62.0|\n",
    "|2014-03-20 00:00:00|            61.625|\n",
    "|2011-03-17 00:00:00| 60.97872340425532|\n",
    "|2011-03-05 00:00:00|60.270833333333336|\n",
    "|2011-03-04 00:00:00|           58.4375|\n",
    "|2011-03-06 00:00:00|              58.0|\n",
    "|2009-03-04 00:00:00|56.645833333333336|\n",
    "|2011-05-04 00:00:00|             55.75|\n",
    "|2014-03-06 00:00:00| 54.97872340425532|\n",
    "|2015-03-04 00:00:00|54.854166666666664|\n",
    "|2012-03-23 00:00:00|54.645833333333336|\n",
    "+-------------------+------------------+\n",
    "only showing top 20 rows"
   ]
  },
  {
   "cell_type": "code",
   "execution_count": null,
   "metadata": {},
   "outputs": [],
   "source": [
    "print(spark.sql('SELECT EXTRACT(month FROM date), AVG(pickups) FROM taxi '\n",
    "                'GROUP BY EXTRACT(month FROM date) ORDER BY AVG(pickups) DESC').show())"
   ]
  },
  {
   "cell_type": "markdown",
   "metadata": {},
   "source": [
    "+-------------------------+------------------+\n",
    "|month(CAST(date AS DATE))|      avg(pickups)|\n",
    "+-------------------------+------------------+\n",
    "|                        3| 34.61413319776309|\n",
    "|                       10|31.492839171666343|\n",
    "|                        2|29.856671982987773|\n",
    "|                        5| 29.81593638978176|\n",
    "|                        4|29.313725490196077|\n",
    "|                        9|29.158446485623003|\n",
    "|                       11|28.860367558929283|\n",
    "|                        1|  28.5473244004438|\n",
    "|                        6| 27.03835736129314|\n",
    "|                        7| 26.45983005021244|\n",
    "|                       12| 26.45916884626562|\n",
    "|                        8| 25.88592750533049|\n",
    "+-------------------------+------------------+"
   ]
  },
  {
   "cell_type": "code",
   "execution_count": null,
   "metadata": {},
   "outputs": [],
   "source": [
    "print(spark.sql('SELECT hour, AVG(pickups) FROM taxi '\n",
    "                'GROUP BY hour ORDER BY AVG(pickups) DESC').show(10))"
   ]
  },
  {
   "cell_type": "markdown",
   "metadata": {},
   "source": [
    "+----+------------------+\n",
    "|hour|      avg(pickups)|\n",
    "+----+------------------+\n",
    "|   8| 48.98208348725527|\n",
    "|   9| 45.74220335855324|\n",
    "|  18|45.131967515688444|\n",
    "|  19| 40.18456995201181|\n",
    "|  17| 37.68493909191584|\n",
    "|  12| 36.91678966789668|\n",
    "|  10|36.391031555637575|\n",
    "|  14|35.965867158671585|\n",
    "|   7| 35.93711855002774|\n",
    "|  13| 35.34939091915836|\n",
    "+----+------------------+"
   ]
  },
  {
   "cell_type": "code",
   "execution_count": null,
   "metadata": {},
   "outputs": [],
   "source": []
  }
 ],
 "metadata": {
  "kernelspec": {
   "display_name": "Python 3",
   "language": "python",
   "name": "python3"
  },
  "language_info": {
   "codemirror_mode": {
    "name": "ipython",
    "version": 3
   },
   "file_extension": ".py",
   "mimetype": "text/x-python",
   "name": "python",
   "nbconvert_exporter": "python",
   "pygments_lexer": "ipython3",
   "version": "3.7.6"
  }
 },
 "nbformat": 4,
 "nbformat_minor": 4
}
