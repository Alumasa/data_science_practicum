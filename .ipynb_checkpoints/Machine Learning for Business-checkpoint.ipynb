{
 "cells": [
  {
   "cell_type": "markdown",
   "metadata": {},
   "source": [
    "### Comparing means"
   ]
  },
  {
   "cell_type": "code",
   "execution_count": 4,
   "metadata": {},
   "outputs": [
    {
     "name": "stdout",
     "output_type": "stream",
     "text": [
      "Mean before: 396.9714285714286\n",
      "Mean after: 470.5285714285714\n",
      "p-value:  6.181958220818264e-29\n",
      "Reject null hypothesis: average purchase amount is likely to increase\n"
     ]
    }
   ],
   "source": [
    "import pandas as pd\n",
    "from scipy import stats as st\n",
    "\n",
    "sample_before = pd.Series([\n",
    "    436, 397, 433, 412, 367, 353, 440, 375, 414, \n",
    "    410, 434, 356, 377, 403, 434, 377, 437, 383,\n",
    "    388, 412, 350, 392, 354, 362, 392, 441, 371, \n",
    "    350, 364, 449, 413, 401, 382, 445, 366, 435,\n",
    "    442, 413, 386, 390, 350, 364, 418, 369, 369, \n",
    "    368, 429, 388, 397, 393, 373, 438, 385, 365,\n",
    "    447, 408, 379, 411, 358, 368, 442, 366, 431,\n",
    "    400, 449, 422, 423, 427, 361, 354])\n",
    "\n",
    "sample_after = pd.Series([\n",
    "    439, 518, 452, 505, 493, 470, 498, 442, 497, \n",
    "    423, 524, 442, 459, 452, 463, 488, 497, 500,\n",
    "    476, 501, 456, 425, 438, 435, 516, 453, 505, \n",
    "    441, 477, 469, 497, 502, 442, 449, 465, 429,\n",
    "    442, 472, 466, 431, 490, 475, 447, 435, 482, \n",
    "    434, 525, 510, 494, 493, 495, 499, 455, 464,\n",
    "    509, 432, 476, 438, 512, 423, 428, 499, 492, \n",
    "    493, 467, 493, 468, 420, 513, 427])\n",
    "\n",
    "print(\"Mean before:\", sample_before.mean())# < write code here >)\n",
    "print(\"Mean after:\", sample_after.mean())# < write code here >)\n",
    "\n",
    "\n",
    "# critical level of significance\n",
    "# if p-value is less than that, hypothesis is rejected\n",
    "alpha = 0.05# < write code here >)\n",
    "\n",
    "# one-tailed test: p-value will be half as large\n",
    "results = st.ttest_ind(sample_before, sample_after, equal_var=True)\n",
    "pvalue = results.pvalue# < write code here >)\n",
    "\n",
    "print('p-value: ', pvalue)\n",
    "\n",
    "if pvalue < alpha:\n",
    "    print(\"Reject null hypothesis: average purchase amount is likely to increase\")\n",
    "else:\n",
    "    print(\"Failed to reject null hypothesis: average purchase amount is unlikely to increase\")"
   ]
  },
  {
   "cell_type": "markdown",
   "metadata": {},
   "source": [
    "### Confidence Interval\n",
    "\n",
    "The confidence interval of the average purchase amount is a range built around the sample mean and containing the true mean for the average purchase amount."
   ]
  },
  {
   "cell_type": "code",
   "execution_count": 5,
   "metadata": {},
   "outputs": [
    {
     "name": "stdout",
     "output_type": "stream",
     "text": [
      "Mean: 470.5285714285714\n",
      "95% confidence interval: (463.357753651609, 477.6993892055338)\n"
     ]
    }
   ],
   "source": [
    "import pandas as pd\n",
    "from scipy import stats as st\n",
    "\n",
    "sample = pd.Series([\n",
    "    439, 518, 452, 505, 493, 470, 498, 442, 497, \n",
    "    423, 524, 442, 459, 452, 463, 488, 497, 500,\n",
    "    476, 501, 456, 425, 438, 435, 516, 453, 505, \n",
    "    441, 477, 469, 497, 502, 442, 449, 465, 429,\n",
    "    442, 472, 466, 431, 490, 475, 447, 435, 482, \n",
    "    434, 525, 510, 494, 493, 495, 499, 455, 464,\n",
    "    509, 432, 476, 438, 512, 423, 428, 499, 492, \n",
    "    493, 467, 493, 468, 420, 513, 427])\n",
    "\n",
    "print(\"Mean:\", sample.mean())\n",
    "\n",
    "confidence_interval = st.t.interval(\n",
    "    0.95, len(sample)-1, sample.mean(), sample.sem())# < wrtite code here >)\n",
    "\n",
    "print(\"95% confidence interval:\", confidence_interval)"
   ]
  },
  {
   "cell_type": "code",
   "execution_count": 6,
   "metadata": {},
   "outputs": [],
   "source": [
    "st.t.interval?"
   ]
  },
  {
   "cell_type": "markdown",
   "metadata": {},
   "source": [
    "### Bootstrapping for Confidence Interval"
   ]
  },
  {
   "cell_type": "code",
   "execution_count": 7,
   "metadata": {},
   "outputs": [],
   "source": [
    "data = pd.Series([\n",
    "    10.7,  9.58,  7.74,  8.3 , 11.82,  9.74, 10.18,  8.43,  8.71,\n",
    "     6.84,  9.26, 11.61, 11.08,  8.94,  8.44, 10.41,  9.36, 10.85,\n",
    "    10.41,  8.37,  8.99, 10.17,  7.78, 10.79, 10.61, 10.87,  7.43,\n",
    "     8.44,  9.44,  8.26,  7.98, 11.27, 11.61,  9.84, 12.47,  7.8,\n",
    "    10.54,  8.99,  7.33,  8.55,  8.06, 10.62, 10.41,  9.29,  9.98,\n",
    "     9.46,  9.99,  8.62, 11.34, 11.21, 15.19, 20.85, 19.15, 19.01,\n",
    "    15.24, 16.66, 17.62, 18.22, 17.2, 15.76, 16.89, 15.22, 18.7,\n",
    "    14.84, 14.88, 19.41, 18.54, 17.85, 18.31, 13.68, 18.46, 13.99,\n",
    "    16.38, 16.88, 17.82, 15.17, 15.16, 18.15, 15.08, 15.91, 16.82,\n",
    "    16.85, 18.04, 17.51, 18.44, 15.33, 16.07, 17.22, 15.9, 18.03,\n",
    "    17.26, 17.6, 16.77, 17.45, 13.73, 14.95, 15.57, 19.19, 14.39,\n",
    "    15.76])"
   ]
  },
  {
   "cell_type": "code",
   "execution_count": 8,
   "metadata": {},
   "outputs": [
    {
     "name": "stdout",
     "output_type": "stream",
     "text": [
      "69    13.68\n",
      "dtype: float64\n",
      "69    13.68\n",
      "dtype: float64\n",
      "69    13.68\n",
      "dtype: float64\n",
      "69    13.68\n",
      "dtype: float64\n",
      "69    13.68\n",
      "dtype: float64\n"
     ]
    }
   ],
   "source": [
    "#subsamples for bootstrapping\n",
    "for i in range(5):\n",
    "    # extract one random element from sample 1\n",
    "    # specify random_state for reproducibility\n",
    "    print(data.sample(1, random_state=12345))"
   ]
  },
  {
   "cell_type": "code",
   "execution_count": 9,
   "metadata": {},
   "outputs": [],
   "source": [
    "from numpy.random import RandomState\n",
    "state = RandomState(12345)"
   ]
  },
  {
   "cell_type": "code",
   "execution_count": 10,
   "metadata": {},
   "outputs": [
    {
     "name": "stdout",
     "output_type": "stream",
     "text": [
      "69    13.68\n",
      "dtype: float64\n",
      "27    8.44\n",
      "dtype: float64\n",
      "36    10.54\n",
      "dtype: float64\n",
      "84    18.44\n",
      "dtype: float64\n",
      "59    15.76\n",
      "dtype: float64\n"
     ]
    }
   ],
   "source": [
    "for i in range(5):\n",
    "    # extract one random element from sample 1\n",
    "    print(data.sample(1, random_state=state))"
   ]
  },
  {
   "cell_type": "code",
   "execution_count": 11,
   "metadata": {},
   "outputs": [
    {
     "name": "stdout",
     "output_type": "stream",
     "text": [
      "Without replacement\n",
      "2    3\n",
      "0    1\n",
      "3    4\n",
      "1    2\n",
      "4    5\n",
      "dtype: int64\n",
      "With replacement\n",
      "0    1\n",
      "1    2\n",
      "1    2\n",
      "3    4\n",
      "1    2\n",
      "dtype: int64\n"
     ]
    }
   ],
   "source": [
    "#the same element can fall into a subsample several times\n",
    "example_data = pd.Series([1, 2, 3, 4, 5])\n",
    "print(\"Without replacement\")\n",
    "print(example_data.sample(frac=1, replace=False, random_state=state))\n",
    "print(\"With replacement\")\n",
    "print(example_data.sample(frac=1, replace=True, random_state=state))"
   ]
  },
  {
   "cell_type": "code",
   "execution_count": 15,
   "metadata": {},
   "outputs": [
    {
     "name": "stdout",
     "output_type": "stream",
     "text": [
      "19.1922\n",
      "20.85\n",
      "19.20660000000001\n",
      "19.028400000000012\n",
      "19.42440000000001\n",
      "19.42440000000001\n",
      "20.85\n",
      "19.42440000000001\n",
      "19.42440000000001\n",
      "19.19\n"
     ]
    }
   ],
   "source": [
    "import pandas as pd\n",
    "import numpy as np\n",
    "\n",
    "data = pd.Series([\n",
    "    10.7 ,  9.58,  7.74,  8.3 , 11.82,  9.74, 10.18,  8.43,  8.71,\n",
    "     6.84,  9.26, 11.61, 11.08,  8.94,  8.44, 10.41,  9.36, 10.85,\n",
    "    10.41,  8.37,  8.99, 10.17,  7.78, 10.79, 10.61, 10.87,  7.43,\n",
    "     8.44,  9.44,  8.26,  7.98, 11.27, 11.61,  9.84, 12.47,  7.8 ,\n",
    "    10.54,  8.99,  7.33,  8.55,  8.06, 10.62, 10.41,  9.29,  9.98,\n",
    "     9.46,  9.99,  8.62, 11.34, 11.21, 15.19, 20.85, 19.15, 19.01,\n",
    "    15.24, 16.66, 17.62, 18.22, 17.2 , 15.76, 16.89, 15.22, 18.7 ,\n",
    "    14.84, 14.88, 19.41, 18.54, 17.85, 18.31, 13.68, 18.46, 13.99,\n",
    "    16.38, 16.88, 17.82, 15.17, 15.16, 18.15, 15.08, 15.91, 16.82,\n",
    "    16.85, 18.04, 17.51, 18.44, 15.33, 16.07, 17.22, 15.9 , 18.03,\n",
    "    17.26, 17.6 , 16.77, 17.45, 13.73, 14.95, 15.57, 19.19, 14.39,\n",
    "    15.76])\n",
    "\n",
    "state = np.random.RandomState(12345)\n",
    "\n",
    "for i in range(10):\n",
    "    subsample = data.sample(frac=1, replace=True, random_state=state)# < write code here >\n",
    "    print(subsample.quantile(0.99))# < write code here >))"
   ]
  },
  {
   "cell_type": "code",
   "execution_count": 17,
   "metadata": {},
   "outputs": [
    {
     "name": "stdout",
     "output_type": "stream",
     "text": [
      "19.011400000000002\n",
      "20.85\n"
     ]
    }
   ],
   "source": [
    "import pandas as pd\n",
    "import numpy as np\n",
    "\n",
    "data = pd.Series([\n",
    "    10.7 ,  9.58,  7.74,  8.3 , 11.82,  9.74, 10.18,  8.43,  8.71,\n",
    "     6.84,  9.26, 11.61, 11.08,  8.94,  8.44, 10.41,  9.36, 10.85,\n",
    "    10.41,  8.37,  8.99, 10.17,  7.78, 10.79, 10.61, 10.87,  7.43,\n",
    "     8.44,  9.44,  8.26,  7.98, 11.27, 11.61,  9.84, 12.47,  7.8 ,\n",
    "    10.54,  8.99,  7.33,  8.55,  8.06, 10.62, 10.41,  9.29,  9.98,\n",
    "     9.46,  9.99,  8.62, 11.34, 11.21, 15.19, 20.85, 19.15, 19.01,\n",
    "    15.24, 16.66, 17.62, 18.22, 17.2 , 15.76, 16.89, 15.22, 18.7 ,\n",
    "    14.84, 14.88, 19.41, 18.54, 17.85, 18.31, 13.68, 18.46, 13.99,\n",
    "    16.38, 16.88, 17.82, 15.17, 15.16, 18.15, 15.08, 15.91, 16.82,\n",
    "    16.85, 18.04, 17.51, 18.44, 15.33, 16.07, 17.22, 15.9 , 18.03,\n",
    "    17.26, 17.6 , 16.77, 17.45, 13.73, 14.95, 15.57, 19.19, 14.39,\n",
    "    15.76])\n",
    "\n",
    "state = np.random.RandomState(12345)\n",
    "\n",
    "# Store the 99% quantile values to the values variable\n",
    "values = []\n",
    "for i in range(1000):\n",
    "    subsample = data.sample(frac=1, replace=True, random_state=state)\n",
    "    values.append(subsample.quantile(0.99))# < write code here >\n",
    "\n",
    "# < write code here >\n",
    "values = pd.Series(values)\n",
    "lower = values.quantile(0.05)# < write code here >\n",
    "upper = values.quantile(0.95)# < write code here >\n",
    "\n",
    "print(lower)\n",
    "print(upper)"
   ]
  },
  {
   "cell_type": "markdown",
   "metadata": {},
   "source": [
    "With a high probability, we can assume that maximum waiting time for 99% of the customers is between 19 and 21 minutes."
   ]
  },
  {
   "cell_type": "markdown",
   "metadata": {},
   "source": [
    "### Bootstrap for A/B test analysis"
   ]
  },
  {
   "cell_type": "code",
   "execution_count": 23,
   "metadata": {},
   "outputs": [
    {
     "name": "stdout",
     "output_type": "stream",
     "text": [
      "Difference between average purchase amounts: 0.7682000000000357\n",
      "p-value = 0.034\n",
      "Reject null hypothesis: average purchase amount is likely to increase\n"
     ]
    }
   ],
   "source": [
    "import pandas as pd\n",
    "import numpy as np\n",
    "\n",
    "# data for control group A\n",
    "samples_A = pd.Series([\n",
    "     98.24,  97.77,  95.56,  99.49, 101.4 , 105.35,  95.83,  93.02,\n",
    "    101.37,  95.66,  98.34, 100.75, 104.93,  97.  ,  95.46, 100.03,\n",
    "    102.34,  98.23,  97.05,  97.76,  98.63,  98.82,  99.51,  99.31,\n",
    "     98.58,  96.84,  93.71, 101.38, 100.6 , 103.68, 104.78, 101.51,\n",
    "    100.89, 102.27,  99.87,  94.83,  95.95, 105.2 ,  97.  ,  95.54,\n",
    "     98.38,  99.81, 103.34, 101.14, 102.19,  94.77,  94.74,  99.56,\n",
    "    102.  , 100.95, 102.19, 103.75, 103.65,  95.07, 103.53, 100.42,\n",
    "     98.09,  94.86, 101.47, 103.07, 100.15, 100.32, 100.89, 101.23,\n",
    "     95.95, 103.69, 100.09,  96.28,  96.11,  97.63,  99.45, 100.81,\n",
    "    102.18,  94.92,  98.89, 101.48, 101.29,  94.43, 101.55,  95.85,\n",
    "    100.16,  97.49, 105.17, 104.83, 101.9 , 100.56, 104.91,  94.17,\n",
    "    103.48, 100.55, 102.66, 100.62,  96.93, 102.67, 101.27,  98.56,\n",
    "    102.41, 100.69,  99.67, 100.99])\n",
    "\n",
    "# data for treatment group B\n",
    "samples_B = pd.Series([\n",
    "    101.67, 102.27,  97.01, 103.46, 100.76, 101.19,  99.11,  97.59,\n",
    "    101.01, 101.45,  94.8 , 101.55,  96.38,  99.03, 102.83,  97.32,\n",
    "     98.25,  97.17, 101.1 , 102.57, 104.59, 105.63,  98.93, 103.87,\n",
    "     98.48, 101.14, 102.24,  98.55, 105.61, 100.06,  99.  , 102.53,\n",
    "    101.56, 102.68, 103.26,  96.62,  99.48, 107.6 ,  99.87, 103.58,\n",
    "    105.05, 105.69,  94.52,  99.51,  99.81,  99.44,  97.35, 102.97,\n",
    "     99.77,  99.59, 102.12, 104.29,  98.31,  98.83,  96.83,  99.2 ,\n",
    "     97.88, 102.34, 102.04,  99.88,  99.69, 103.43, 100.71,  92.71,\n",
    "     99.99,  99.39,  99.19,  99.29, 100.34, 101.08, 100.29,  93.83,\n",
    "    103.63,  98.88, 105.36, 101.82, 100.86, 100.75,  99.4 ,  95.37,\n",
    "    107.96,  97.69, 102.17,  99.41,  98.97,  97.96,  98.31,  97.09,\n",
    "    103.92, 100.98, 102.76,  98.24,  97.  ,  98.99, 103.54,  99.72,\n",
    "    101.62, 100.62, 102.79, 104.19])\n",
    "\n",
    "# actual difference between the means in the groups\n",
    "AB_difference = samples_B.mean() - samples_A.mean()# < write code here >\n",
    "print(\"Difference between average purchase amounts:\", AB_difference)\n",
    "\n",
    "alpha = 0.05\n",
    "    \n",
    "state = np.random.RandomState(12345)\n",
    "\n",
    "bootstrap_samples = 1000\n",
    "count = 0\n",
    "for i in range(bootstrap_samples):\n",
    "    # concatenate samples\n",
    "    united_samples = pd.concat([samples_A, samples_B])\n",
    "\n",
    "    # create subsample\n",
    "    subsample = united_samples.sample(frac=1, replace=True, random_state=state)\n",
    "# < write code here >\n",
    "    \n",
    "    # split subsample in half\n",
    "    subsample_A = subsample[:len(samples_A)]# < write code here >\n",
    "    subsample_B = subsample[len(samples_A):]# < write code here >\n",
    "\n",
    "    # find the difference between the means\n",
    "    bootstrap_difference = subsample_B.mean() - subsample_A.mean()# < write code here >\n",
    "    \n",
    "    # if the difference is not less than actual difference, add \"1\" to the counter\n",
    "    if bootstrap_difference >= AB_difference:\n",
    "        count += 1\n",
    "\n",
    "# p-value is equal to the percentage of excess values\n",
    "pvalue = 1. * count / bootstrap_samples\n",
    "print('p-value =', pvalue)\n",
    "\n",
    "if pvalue < alpha:\n",
    "    print(\"Reject null hypothesis: average purchase amount is likely to increase\")\n",
    "else:\n",
    "    print(\"Failed to reject null hypothesis: average purchase amount is unlikely to increase\")"
   ]
  },
  {
   "cell_type": "code",
   "execution_count": null,
   "metadata": {},
   "outputs": [],
   "source": []
  }
 ],
 "metadata": {
  "kernelspec": {
   "display_name": "Python 3",
   "language": "python",
   "name": "python3"
  },
  "language_info": {
   "codemirror_mode": {
    "name": "ipython",
    "version": 3
   },
   "file_extension": ".py",
   "mimetype": "text/x-python",
   "name": "python",
   "nbconvert_exporter": "python",
   "pygments_lexer": "ipython3",
   "version": "3.7.6"
  }
 },
 "nbformat": 4,
 "nbformat_minor": 4
}
