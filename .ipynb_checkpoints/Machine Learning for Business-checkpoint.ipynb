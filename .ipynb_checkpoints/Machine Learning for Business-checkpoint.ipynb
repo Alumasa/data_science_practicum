{
 "cells": [
  {
   "cell_type": "markdown",
   "metadata": {},
   "source": [
    "### Comparing means"
   ]
  },
  {
   "cell_type": "code",
   "execution_count": 4,
   "metadata": {},
   "outputs": [
    {
     "name": "stdout",
     "output_type": "stream",
     "text": [
      "Mean before: 396.9714285714286\n",
      "Mean after: 470.5285714285714\n",
      "p-value:  6.181958220818264e-29\n",
      "Reject null hypothesis: average purchase amount is likely to increase\n"
     ]
    }
   ],
   "source": [
    "import pandas as pd\n",
    "from scipy import stats as st\n",
    "\n",
    "sample_before = pd.Series([\n",
    "    436, 397, 433, 412, 367, 353, 440, 375, 414, \n",
    "    410, 434, 356, 377, 403, 434, 377, 437, 383,\n",
    "    388, 412, 350, 392, 354, 362, 392, 441, 371, \n",
    "    350, 364, 449, 413, 401, 382, 445, 366, 435,\n",
    "    442, 413, 386, 390, 350, 364, 418, 369, 369, \n",
    "    368, 429, 388, 397, 393, 373, 438, 385, 365,\n",
    "    447, 408, 379, 411, 358, 368, 442, 366, 431,\n",
    "    400, 449, 422, 423, 427, 361, 354])\n",
    "\n",
    "sample_after = pd.Series([\n",
    "    439, 518, 452, 505, 493, 470, 498, 442, 497, \n",
    "    423, 524, 442, 459, 452, 463, 488, 497, 500,\n",
    "    476, 501, 456, 425, 438, 435, 516, 453, 505, \n",
    "    441, 477, 469, 497, 502, 442, 449, 465, 429,\n",
    "    442, 472, 466, 431, 490, 475, 447, 435, 482, \n",
    "    434, 525, 510, 494, 493, 495, 499, 455, 464,\n",
    "    509, 432, 476, 438, 512, 423, 428, 499, 492, \n",
    "    493, 467, 493, 468, 420, 513, 427])\n",
    "\n",
    "print(\"Mean before:\", sample_before.mean())# < write code here >)\n",
    "print(\"Mean after:\", sample_after.mean())# < write code here >)\n",
    "\n",
    "\n",
    "# critical level of significance\n",
    "# if p-value is less than that, hypothesis is rejected\n",
    "alpha = 0.05# < write code here >)\n",
    "\n",
    "# one-tailed test: p-value will be half as large\n",
    "results = st.ttest_ind(sample_before, sample_after, equal_var=True)\n",
    "pvalue = results.pvalue# < write code here >)\n",
    "\n",
    "print('p-value: ', pvalue)\n",
    "\n",
    "if pvalue < alpha:\n",
    "    print(\"Reject null hypothesis: average purchase amount is likely to increase\")\n",
    "else:\n",
    "    print(\"Failed to reject null hypothesis: average purchase amount is unlikely to increase\")"
   ]
  },
  {
   "cell_type": "markdown",
   "metadata": {},
   "source": [
    "### Confidence Interval\n",
    "\n",
    "The confidence interval of the average purchase amount is a range built around the sample mean and containing the true mean for the average purchase amount."
   ]
  },
  {
   "cell_type": "code",
   "execution_count": null,
   "metadata": {},
   "outputs": [],
   "source": []
  }
 ],
 "metadata": {
  "kernelspec": {
   "display_name": "Python 3",
   "language": "python",
   "name": "python3"
  },
  "language_info": {
   "codemirror_mode": {
    "name": "ipython",
    "version": 3
   },
   "file_extension": ".py",
   "mimetype": "text/x-python",
   "name": "python",
   "nbconvert_exporter": "python",
   "pygments_lexer": "ipython3",
   "version": "3.7.6"
  }
 },
 "nbformat": 4,
 "nbformat_minor": 4
}
