{
 "cells": [
  {
   "cell_type": "markdown",
   "metadata": {},
   "source": [
    "Import required libraries."
   ]
  },
  {
   "cell_type": "code",
   "execution_count": 74,
   "metadata": {},
   "outputs": [],
   "source": [
    "import pandas as pd\n",
    "import numpy as np\n",
    "from sklearn.model_selection import train_test_split\n",
    "from sklearn.tree import DecisionTreeRegressor\n",
    "from sklearn.ensemble import RandomForestRegressor\n",
    "from sklearn.linear_model import LinearRegression\n",
    "from sklearn.metrics import mean_squared_error"
   ]
  },
  {
   "cell_type": "markdown",
   "metadata": {},
   "source": [
    "1. Prepare the data."
   ]
  },
  {
   "cell_type": "code",
   "execution_count": 75,
   "metadata": {},
   "outputs": [],
   "source": [
    "region_0 = pd.read_csv('datasets/geo_data_0.csv')\n",
    "region_1 = pd.read_csv('datasets/geo_data_1.csv')\n",
    "region_2 = pd.read_csv('datasets/geo_data_2.csv')"
   ]
  },
  {
   "cell_type": "code",
   "execution_count": 76,
   "metadata": {},
   "outputs": [
    {
     "data": {
      "text/html": [
       "<div>\n",
       "<style scoped>\n",
       "    .dataframe tbody tr th:only-of-type {\n",
       "        vertical-align: middle;\n",
       "    }\n",
       "\n",
       "    .dataframe tbody tr th {\n",
       "        vertical-align: top;\n",
       "    }\n",
       "\n",
       "    .dataframe thead th {\n",
       "        text-align: right;\n",
       "    }\n",
       "</style>\n",
       "<table border=\"1\" class=\"dataframe\">\n",
       "  <thead>\n",
       "    <tr style=\"text-align: right;\">\n",
       "      <th></th>\n",
       "      <th>id</th>\n",
       "      <th>f0</th>\n",
       "      <th>f1</th>\n",
       "      <th>f2</th>\n",
       "      <th>product</th>\n",
       "    </tr>\n",
       "  </thead>\n",
       "  <tbody>\n",
       "    <tr>\n",
       "      <th>0</th>\n",
       "      <td>txEyH</td>\n",
       "      <td>0.705745</td>\n",
       "      <td>-0.497823</td>\n",
       "      <td>1.221170</td>\n",
       "      <td>105.280062</td>\n",
       "    </tr>\n",
       "    <tr>\n",
       "      <th>1</th>\n",
       "      <td>2acmU</td>\n",
       "      <td>1.334711</td>\n",
       "      <td>-0.340164</td>\n",
       "      <td>4.365080</td>\n",
       "      <td>73.037750</td>\n",
       "    </tr>\n",
       "    <tr>\n",
       "      <th>2</th>\n",
       "      <td>409Wp</td>\n",
       "      <td>1.022732</td>\n",
       "      <td>0.151990</td>\n",
       "      <td>1.419926</td>\n",
       "      <td>85.265647</td>\n",
       "    </tr>\n",
       "    <tr>\n",
       "      <th>3</th>\n",
       "      <td>iJLyR</td>\n",
       "      <td>-0.032172</td>\n",
       "      <td>0.139033</td>\n",
       "      <td>2.978566</td>\n",
       "      <td>168.620776</td>\n",
       "    </tr>\n",
       "    <tr>\n",
       "      <th>4</th>\n",
       "      <td>Xdl7t</td>\n",
       "      <td>1.988431</td>\n",
       "      <td>0.155413</td>\n",
       "      <td>4.751769</td>\n",
       "      <td>154.036647</td>\n",
       "    </tr>\n",
       "  </tbody>\n",
       "</table>\n",
       "</div>"
      ],
      "text/plain": [
       "      id        f0        f1        f2     product\n",
       "0  txEyH  0.705745 -0.497823  1.221170  105.280062\n",
       "1  2acmU  1.334711 -0.340164  4.365080   73.037750\n",
       "2  409Wp  1.022732  0.151990  1.419926   85.265647\n",
       "3  iJLyR -0.032172  0.139033  2.978566  168.620776\n",
       "4  Xdl7t  1.988431  0.155413  4.751769  154.036647"
      ]
     },
     "execution_count": 76,
     "metadata": {},
     "output_type": "execute_result"
    }
   ],
   "source": [
    "region_0.head()"
   ]
  },
  {
   "cell_type": "code",
   "execution_count": 77,
   "metadata": {},
   "outputs": [
    {
     "name": "stdout",
     "output_type": "stream",
     "text": [
      "<class 'pandas.core.frame.DataFrame'>\n",
      "RangeIndex: 100000 entries, 0 to 99999\n",
      "Data columns (total 5 columns):\n",
      " #   Column   Non-Null Count   Dtype  \n",
      "---  ------   --------------   -----  \n",
      " 0   id       100000 non-null  object \n",
      " 1   f0       100000 non-null  float64\n",
      " 2   f1       100000 non-null  float64\n",
      " 3   f2       100000 non-null  float64\n",
      " 4   product  100000 non-null  float64\n",
      "dtypes: float64(4), object(1)\n",
      "memory usage: 3.8+ MB\n"
     ]
    }
   ],
   "source": [
    "region_0.info()"
   ]
  },
  {
   "cell_type": "markdown",
   "metadata": {},
   "source": [
    "There are no missing values."
   ]
  },
  {
   "cell_type": "markdown",
   "metadata": {},
   "source": [
    "**Feature Selection:**\n",
    "\n",
    "For machine learning models, all data has to be numerical. Therefore I will drop the `id` column, which has an object datatype. It is also not significant in learning and predicting."
   ]
  },
  {
   "cell_type": "code",
   "execution_count": 78,
   "metadata": {},
   "outputs": [],
   "source": [
    "region_0.drop('id', axis=1, inplace=True)\n",
    "region_1.drop('id', axis=1, inplace=True)\n",
    "region_2.drop('id', axis=1, inplace=True)"
   ]
  },
  {
   "cell_type": "markdown",
   "metadata": {},
   "source": [
    "2. Train and test the model for each region."
   ]
  },
  {
   "cell_type": "raw",
   "metadata": {},
   "source": [
    "def data_splitter(data):\n",
    "    data_train, data_valid = train_test_split(data, test_size=0.25, random_state=0)\n",
    "    features_valid = data_valid.drop(['product'], axis=1)\n",
    "    target_valid = data_valid['product']\n",
    "    features_train = data_train.drop(['product'], axis=1)\n",
    "    target_train = data_train['product']\n",
    "    return features_train, features_valid, target_train, target_valid"
   ]
  },
  {
   "cell_type": "raw",
   "metadata": {},
   "source": [
    "def decisiontree(features_train, features_valid, target_train, target_valid):\n",
    "    print(\"Decision Tree Regressor:\")\n",
    "    for i in range(5, 11):\n",
    "        dt_model = DecisionTreeRegressor(random_state = 0, max_depth = i)\n",
    "        dt_model.fit(features_train, target_train)\n",
    "        dt_predictions = dt_model.predict(features_valid)\n",
    "        dt_mse = mean_squared_error(target_valid, dt_predictions)\n",
    "        dt_rmse = dt_mse ** 0.5\n",
    "        print('Max_depth =', i, ':', dt_rmse)\n",
    "        print('Average volume:', dt_predictions.mean())        "
   ]
  },
  {
   "cell_type": "raw",
   "metadata": {},
   "source": [
    "def randomforest(features_train, features_valid, target_train, target_valid):\n",
    "    print('Random Forest Regressor:')\n",
    "    for i in range(50, 81, 10):\n",
    "        rf_model = RandomForestRegressor(n_estimators=i, max_depth=10, random_state=0)\n",
    "        rf_model.fit(features_train, target_train)\n",
    "        rf_predictions = rf_model.predict(features_valid)\n",
    "        rf_mse = mean_squared_error(target_valid, rf_predictions)\n",
    "        rf_rmse = rf_mse ** 0.5\n",
    "        print('n_estimators =', i, ':', rf_rmse)\n",
    "        print('Average volume:', rf_predictions.mean())        "
   ]
  },
  {
   "cell_type": "code",
   "execution_count": 82,
   "metadata": {},
   "outputs": [],
   "source": [
    "def linearreg(features_train, features_valid, target_train, target_valid):\n",
    "    print('Linear Regression:')\n",
    "    l_model = LinearRegression()\n",
    "    l_model.fit(features_train, target_train)\n",
    "    l_predictions = l_model.predict(features_valid)\n",
    "    l_mse = mean_squared_error(target_valid, l_predictions)\n",
    "    l_rmse = l_mse ** 0.5\n",
    "    print(l_rmse)\n",
    "    print('Average volume:', l_predictions.mean())"
   ]
  },
  {
   "cell_type": "markdown",
   "metadata": {},
   "source": [
    "- `region_0`:"
   ]
  },
  {
   "cell_type": "code",
   "execution_count": 83,
   "metadata": {},
   "outputs": [],
   "source": [
    "features_train_0, features_valid_0, target_train_0, target_valid_0 = data_splitter(region_0)"
   ]
  },
  {
   "cell_type": "code",
   "execution_count": 84,
   "metadata": {},
   "outputs": [
    {
     "name": "stdout",
     "output_type": "stream",
     "text": [
      "(75000, 3) (25000, 3) (75000,) (25000,)\n"
     ]
    }
   ],
   "source": [
    "print(features_train_0.shape, features_valid_0.shape, target_train_0.shape, target_valid_0.shape)"
   ]
  },
  {
   "cell_type": "raw",
   "metadata": {},
   "source": [
    "decisiontree(features_train_0, features_valid_0, target_train_0, target_valid_0)"
   ]
  },
  {
   "cell_type": "raw",
   "metadata": {},
   "source": [
    "randomforest(features_train_0, features_valid_0, target_train_0, target_valid_0)"
   ]
  },
  {
   "cell_type": "code",
   "execution_count": 87,
   "metadata": {},
   "outputs": [
    {
     "name": "stdout",
     "output_type": "stream",
     "text": [
      "Linear Regression:\n",
      "37.48100896950594\n",
      "Average volume: 92.27144852242301\n"
     ]
    }
   ],
   "source": [
    "linearreg(features_train_0, features_valid_0, target_train_0, target_valid_0)"
   ]
  },
  {
   "cell_type": "markdown",
   "metadata": {},
   "source": [
    "`region_1`:"
   ]
  },
  {
   "cell_type": "code",
   "execution_count": 88,
   "metadata": {},
   "outputs": [],
   "source": [
    "features_train_1, features_valid_1, target_train_1, target_valid_1 = data_splitter(region_1)"
   ]
  },
  {
   "cell_type": "code",
   "execution_count": 89,
   "metadata": {},
   "outputs": [
    {
     "name": "stdout",
     "output_type": "stream",
     "text": [
      "(75000, 3) (25000, 3) (75000,) (25000,)\n"
     ]
    }
   ],
   "source": [
    "print(features_train_1.shape, features_valid_1.shape, target_train_1.shape, target_valid_1.shape)"
   ]
  },
  {
   "cell_type": "raw",
   "metadata": {},
   "source": [
    "decisiontree(features_train_1, features_valid_1, target_train_1, target_valid_1)"
   ]
  },
  {
   "cell_type": "raw",
   "metadata": {},
   "source": [
    "randomforest(features_train_1, features_valid_1, target_train_1, target_valid_1)"
   ]
  },
  {
   "cell_type": "code",
   "execution_count": 92,
   "metadata": {},
   "outputs": [
    {
     "name": "stdout",
     "output_type": "stream",
     "text": [
      "Linear Regression:\n",
      "0.8872573052219321\n",
      "Average volume: 69.15162398290752\n"
     ]
    }
   ],
   "source": [
    "linearreg(features_train_1, features_valid_1, target_train_1, target_valid_1)"
   ]
  },
  {
   "cell_type": "markdown",
   "metadata": {},
   "source": [
    "`region_2`:"
   ]
  },
  {
   "cell_type": "code",
   "execution_count": 93,
   "metadata": {},
   "outputs": [],
   "source": [
    "features_train_2, features_valid_2, target_train_2, target_valid_2 = data_splitter(region_2)"
   ]
  },
  {
   "cell_type": "code",
   "execution_count": 94,
   "metadata": {},
   "outputs": [
    {
     "name": "stdout",
     "output_type": "stream",
     "text": [
      "(75000, 3) (25000, 3) (75000,) (25000,)\n"
     ]
    }
   ],
   "source": [
    "print(features_train_2.shape, features_valid_2.shape, target_train_2.shape, target_valid_2.shape)"
   ]
  },
  {
   "cell_type": "raw",
   "metadata": {},
   "source": [
    "decisiontree(features_train_2, features_valid_2, target_train_2, target_valid_2)"
   ]
  },
  {
   "cell_type": "raw",
   "metadata": {},
   "source": [
    "randomforest(features_train_2, features_valid_2, target_train_2, target_valid_2)"
   ]
  },
  {
   "cell_type": "code",
   "execution_count": 97,
   "metadata": {},
   "outputs": [
    {
     "name": "stdout",
     "output_type": "stream",
     "text": [
      "Linear Regression:\n",
      "40.31290686044374\n",
      "Average volume: 94.70753129105672\n"
     ]
    }
   ],
   "source": [
    "linearreg(features_train_2, features_valid_2, target_train_2, target_valid_2)"
   ]
  },
  {
   "cell_type": "code",
   "execution_count": null,
   "metadata": {},
   "outputs": [],
   "source": []
  }
 ],
 "metadata": {
  "kernelspec": {
   "display_name": "Python 3",
   "language": "python",
   "name": "python3"
  },
  "language_info": {
   "codemirror_mode": {
    "name": "ipython",
    "version": 3
   },
   "file_extension": ".py",
   "mimetype": "text/x-python",
   "name": "python",
   "nbconvert_exporter": "python",
   "pygments_lexer": "ipython3",
   "version": "3.7.6"
  }
 },
 "nbformat": 4,
 "nbformat_minor": 4
}
