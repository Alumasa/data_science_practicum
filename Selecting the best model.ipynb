{
 "cells": [
  {
   "cell_type": "markdown",
   "metadata": {},
   "source": [
    "### To determine the model with the smallest error"
   ]
  },
  {
   "cell_type": "code",
   "execution_count": 1,
   "metadata": {},
   "outputs": [],
   "source": [
    "import pandas as pd\n",
    "from sklearn.model_selection import train_test_split\n",
    "from sklearn.tree import DecisionTreeRegressor\n",
    "from sklearn.ensemble import RandomForestRegressor\n",
    "from sklearn.linear_model import LinearRegression\n",
    "from sklearn.metrics import mean_squared_error\n",
    "from sklearn.metrics import accuracy_score"
   ]
  },
  {
   "cell_type": "code",
   "execution_count": 2,
   "metadata": {},
   "outputs": [],
   "source": [
    "df = pd.read_csv('datasets/train_data_us.csv')"
   ]
  },
  {
   "cell_type": "code",
   "execution_count": 3,
   "metadata": {},
   "outputs": [],
   "source": [
    "df_train, df_valid = train_test_split(df, test_size=0.25, random_state=12345)\n",
    "features_valid = df_valid.drop(['last_price'], axis=1)\n",
    "target_valid = df_valid['last_price'] / 100000\n",
    "features_train = df_train.drop(['last_price'], axis=1)\n",
    "target_train = df_train['last_price'] / 100000"
   ]
  },
  {
   "cell_type": "raw",
   "metadata": {},
   "source": [
    "model = DecisionTreeRegressor(random_state=12345, max_depth=5)\n",
    "model.fit(features_train, target_train)\n",
    "valid_predictions_dt = model.predict(features_valid)"
   ]
  },
  {
   "cell_type": "raw",
   "metadata": {},
   "source": [
    "#predictions = pd.Series(target_valid.mean(), index=target_valid.index)\n",
    "# < calculate MSE >\n",
    "mse_dt = mean_squared_error(target_valid, valid_predictions_dt)\n",
    "print(\"MSE Decision Tree:\", mse_dt)"
   ]
  },
  {
   "cell_type": "code",
   "execution_count": 4,
   "metadata": {},
   "outputs": [
    {
     "name": "stdout",
     "output_type": "stream",
     "text": [
      "max_depth =  1 : 5.396412610370437\n",
      "max_depth =  2 : 1.8070317756733336\n",
      "max_depth =  3 : 1.778342753008831\n",
      "max_depth =  4 : 2.055083608639012\n"
     ]
    }
   ],
   "source": [
    "for i in range(1,5):\n",
    "    model = DecisionTreeRegressor(random_state=12345, max_depth=i)\n",
    "    model.fit(features_train, target_train)\n",
    "    valid_predictions_dt = model.predict(features_valid)\n",
    "    #accuracy = accuracy_score(target_valid, valid_predictions)\n",
    "    mse_dt = mean_squared_error(target_valid, valid_predictions_dt)\n",
    "    #rmse_dt = mean_squared_error(target_valid, valid_predictions_dt)**0.5\n",
    "    print('max_depth = ', i , ':', mse_dt)"
   ]
  },
  {
   "cell_type": "code",
   "execution_count": 5,
   "metadata": {},
   "outputs": [],
   "source": [
    "model = RandomForestRegressor(random_state=12345, n_estimators=3)\n",
    "model.fit(features_valid, target_valid)\n",
    "valid_predictions_rf = model.predict(features_valid)"
   ]
  },
  {
   "cell_type": "raw",
   "metadata": {},
   "source": [
    "mse_rf = mean_squared_error(target_valid, valid_predictions_rf)\n",
    "print(\"MSE random Forest:\", mse_rf)"
   ]
  },
  {
   "cell_type": "code",
   "execution_count": 6,
   "metadata": {},
   "outputs": [
    {
     "name": "stdout",
     "output_type": "stream",
     "text": [
      "n_estimators = 10 : 2.650934613567618\n",
      "n_estimators = 20 : 2.1897385853044047\n",
      "n_estimators = 30 : 2.0195677503553124\n",
      "n_estimators = 40 : 1.9662237296579248\n",
      "n_estimators = 50 : 2.0825063572995606\n"
     ]
    }
   ],
   "source": [
    "for estim in range(10, 51, 10):\n",
    "        model = RandomForestRegressor(n_estimators=estim, max_depth=10, random_state=12345)\n",
    "        model.fit(features_train, target_train)\n",
    "        valid_predictions_rf = model.predict(features_valid)\n",
    "        mse_rf = mean_squared_error(target_valid, valid_predictions_rf)\n",
    "        #rmse_rf = mean_squared_error(target_valid, valid_predictions_rf)**0.5\n",
    "        print(\"n_estimators =\", estim, \":\",mse_rf)"
   ]
  },
  {
   "cell_type": "code",
   "execution_count": 7,
   "metadata": {},
   "outputs": [],
   "source": [
    "model = LinearRegression()\n",
    "model.fit(features_train, target_train)\n",
    "valid_predictions_lr = model.predict(features_valid)"
   ]
  },
  {
   "cell_type": "code",
   "execution_count": 8,
   "metadata": {},
   "outputs": [
    {
     "name": "stdout",
     "output_type": "stream",
     "text": [
      "RMSE Linear Regression: 2.3876471792885887\n"
     ]
    }
   ],
   "source": [
    "mse_lr = mean_squared_error(target_valid, valid_predictions_lr)\n",
    "print(\"RMSE Linear Regression:\", mse_lr)"
   ]
  },
  {
   "cell_type": "markdown",
   "metadata": {},
   "source": [
    "### Conclusion:\n",
    "The model with the smallest error is Decision Tree Regressor, with hyperparameter: max_depth=3."
   ]
  },
  {
   "cell_type": "code",
   "execution_count": null,
   "metadata": {},
   "outputs": [],
   "source": []
  }
 ],
 "metadata": {
  "kernelspec": {
   "display_name": "Python 3",
   "language": "python",
   "name": "python3"
  },
  "language_info": {
   "codemirror_mode": {
    "name": "ipython",
    "version": 3
   },
   "file_extension": ".py",
   "mimetype": "text/x-python",
   "name": "python",
   "nbconvert_exporter": "python",
   "pygments_lexer": "ipython3",
   "version": "3.7.6"
  }
 },
 "nbformat": 4,
 "nbformat_minor": 2
}
