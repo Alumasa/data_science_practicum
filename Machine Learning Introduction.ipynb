{
 "cells": [
  {
   "cell_type": "markdown",
   "metadata": {},
   "source": [
    "Change the task to a classificatioon task by creating categorries"
   ]
  },
  {
   "cell_type": "code",
   "execution_count": null,
   "metadata": {},
   "outputs": [],
   "source": [
    "import pandas as pd\n",
    "\n",
    "df = pd.read_csv('/datasets/train_data_us.csv')\n",
    "\n",
    "df.loc[df['last_price'] > 113000, 'price_class'] = 1\n",
    "df.loc[df['last_price'] <= 113000, 'price_class'] = 0\n",
    "print(df.head())"
   ]
  },
  {
   "cell_type": "code",
   "execution_count": null,
   "metadata": {},
   "outputs": [],
   "source": [
    "import pandas as pd\n",
    "\n",
    "df = pd.read_csv('/datasets/train_data_us.csv')\n",
    "\n",
    "df.loc[df['last_price'] > 113000, 'price_class'] = 1\n",
    "df.loc[df['last_price'] <= 113000, 'price_class'] = 0\n",
    "\n",
    "features = df.drop(['last_price','price_class'], axis=1)# < write code here >\n",
    "target = df['price_class']# < write code here >\n",
    "#print(df.shape)\n",
    "print(features.shape)\n",
    "print(target.shape)"
   ]
  },
  {
   "cell_type": "code",
   "execution_count": null,
   "metadata": {},
   "outputs": [],
   "source": [
    "import pandas as pd\n",
    "from sklearn.tree import DecisionTreeClassifier# import decision tree from the sklearn library \n",
    "# < write code here >\n",
    "\n",
    "df = pd.read_csv('/datasets/train_data_us.csv')\n",
    "\n",
    "df.loc[df['last_price'] > 113000, 'price_class'] = 1\n",
    "df.loc[df['last_price'] <= 113000, 'price_class'] = 0\n",
    "\n",
    "features = df.drop(['last_price', 'price_class'], axis=1)\n",
    "target = df['price_class']\n",
    "\n",
    "model = DecisionTreeClassifier()# create an empty model and assign it to a variable\n",
    "# train a model by calling fit() method\n",
    "model.fit(features, target)# < write code here >\n",
    "\n",
    "print(model)"
   ]
  },
  {
   "cell_type": "code",
   "execution_count": null,
   "metadata": {},
   "outputs": [],
   "source": [
    "bedrooms  kitchen_area  living_area  total_area balconies  ceiling_height  \\\n",
    "0         12              112         409.7       900.0              None \n",
    "1         2              40.5          32.0       109.0              None\n",
    "\n",
    "floors_total  floor  bike_parking is_studio  is_open_plan  airport_dist  \\\n",
    "25            0      0             0         None                  0   \n",
    "25            0      0             0         None                  0   \n",
    "\n",
    "   city_center_dist  \n",
    "0              7877.0  \n",
    "0              9176.0"
   ]
  },
  {
   "cell_type": "code",
   "execution_count": null,
   "metadata": {},
   "outputs": [],
   "source": [
    "import pandas as pd\n",
    "from sklearn.tree import DecisionTreeClassifier\n",
    "\n",
    "df = pd.read_csv('/datasets/train_data_us.csv')\n",
    "\n",
    "df.loc[df['last_price'] > 113000, 'price_class'] = 1\n",
    "df.loc[df['last_price'] <= 113000, 'price_class'] = 0\n",
    "\n",
    "features = df.drop(['last_price', 'price_class'], axis=1)\n",
    "target = df['price_class']\n",
    "\n",
    "model = DecisionTreeClassifier()\n",
    "\n",
    "model.fit(features, target)\n",
    "\n",
    "new_features = pd.DataFrame(\n",
    "    [[None, None, None, None, 0, 2.8, 25, 25, 0, 0, 0, 30706.0, 7877.0],\n",
    "     [None, None, None, None, 0, 2.75, 25, 25, 0, 0, 0, 36421.0, 9176.0],],\n",
    "    columns=features.columns)\n",
    "\n",
    "# complete the table with the new features\n",
    "new_features.loc[0, ['total_area','bedrooms','living_area','kitchen_area']] = 900.00,12,409.7,112\n",
    "new_features.loc[1, ['total_area','bedrooms','living_area','kitchen_area']] = 109.00,2,32,40.5\n",
    "# < write code here >\n",
    "\n",
    "# predict answers and print the result on the screen\n",
    "answers = model.predict(new_features)\n",
    "#print(features.head())\n",
    "print(answers)# < write code here >"
   ]
  }
 ],
 "metadata": {
  "kernelspec": {
   "display_name": "Python 3",
   "language": "python",
   "name": "python3"
  },
  "language_info": {
   "codemirror_mode": {
    "name": "ipython",
    "version": 3
   },
   "file_extension": ".py",
   "mimetype": "text/x-python",
   "name": "python",
   "nbconvert_exporter": "python",
   "pygments_lexer": "ipython3",
   "version": "3.7.6"
  }
 },
 "nbformat": 4,
 "nbformat_minor": 4
}
