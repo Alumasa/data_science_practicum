{
 "cells": [
  {
   "cell_type": "markdown",
   "metadata": {},
   "source": [
    "# Initialization"
   ]
  },
  {
   "cell_type": "code",
   "execution_count": 1,
   "metadata": {
    "tags": [
     "2b1861ea-c3e0-4698-b05b-5c58897896c5"
    ]
   },
   "outputs": [],
   "source": [
    "import numpy as np\n",
    "import pandas as pd\n",
    "\n",
    "import torch\n",
    "import transformers\n",
    "\n",
    "from tqdm.auto import tqdm\n",
    "\n",
    "from sklearn.linear_model import LogisticRegression\n",
    "from sklearn.model_selection import cross_val_score\n",
    "from sklearn.model_selection import train_test_split"
   ]
  },
  {
   "cell_type": "markdown",
   "metadata": {},
   "source": [
    "# Global Variables"
   ]
  },
  {
   "cell_type": "code",
   "execution_count": 2,
   "metadata": {},
   "outputs": [],
   "source": [
    "max_sample_size = 200"
   ]
  },
  {
   "cell_type": "markdown",
   "metadata": {},
   "source": [
    "# Loading Data"
   ]
  },
  {
   "cell_type": "code",
   "execution_count": 3,
   "metadata": {},
   "outputs": [],
   "source": [
    "df_reviews = pd.read_csv('datasets/imdb_reviews_small_lemm_train.tsv', sep='\t')"
   ]
  },
  {
   "cell_type": "code",
   "execution_count": 4,
   "metadata": {},
   "outputs": [
    {
     "data": {
      "text/html": [
       "<div>\n",
       "<style scoped>\n",
       "    .dataframe tbody tr th:only-of-type {\n",
       "        vertical-align: middle;\n",
       "    }\n",
       "\n",
       "    .dataframe tbody tr th {\n",
       "        vertical-align: top;\n",
       "    }\n",
       "\n",
       "    .dataframe thead th {\n",
       "        text-align: right;\n",
       "    }\n",
       "</style>\n",
       "<table border=\"1\" class=\"dataframe\">\n",
       "  <thead>\n",
       "    <tr style=\"text-align: right;\">\n",
       "      <th></th>\n",
       "      <th>tconst</th>\n",
       "      <th>original_title</th>\n",
       "      <th>review</th>\n",
       "      <th>review_lemm</th>\n",
       "      <th>pos</th>\n",
       "    </tr>\n",
       "  </thead>\n",
       "  <tbody>\n",
       "    <tr>\n",
       "      <th>0</th>\n",
       "      <td>tt0087803</td>\n",
       "      <td>Nineteen Eighty-Four</td>\n",
       "      <td>I saw this movie last year in Media class and ...</td>\n",
       "      <td>i see this movie last year in medium class and...</td>\n",
       "      <td>0</td>\n",
       "    </tr>\n",
       "    <tr>\n",
       "      <th>1</th>\n",
       "      <td>tt0087803</td>\n",
       "      <td>Nineteen Eighty-Four</td>\n",
       "      <td>I must admit, there are few books with corresp...</td>\n",
       "      <td>i must admit there be few book with correspond...</td>\n",
       "      <td>0</td>\n",
       "    </tr>\n",
       "    <tr>\n",
       "      <th>2</th>\n",
       "      <td>tt0087803</td>\n",
       "      <td>Nineteen Eighty-Four</td>\n",
       "      <td>I think that the shots and lighting were very ...</td>\n",
       "      <td>i think that the shot and light be very poor w...</td>\n",
       "      <td>0</td>\n",
       "    </tr>\n",
       "    <tr>\n",
       "      <th>3</th>\n",
       "      <td>tt0087803</td>\n",
       "      <td>Nineteen Eighty-Four</td>\n",
       "      <td>A few weeks ago, I read the classic George Orw...</td>\n",
       "      <td>a few week ago i read the classic george orwel...</td>\n",
       "      <td>0</td>\n",
       "    </tr>\n",
       "    <tr>\n",
       "      <th>4</th>\n",
       "      <td>tt0087803</td>\n",
       "      <td>Nineteen Eighty-Four</td>\n",
       "      <td>I saw this movie literally directly after fini...</td>\n",
       "      <td>i see this movie literally directly after fini...</td>\n",
       "      <td>0</td>\n",
       "    </tr>\n",
       "  </tbody>\n",
       "</table>\n",
       "</div>"
      ],
      "text/plain": [
       "      tconst        original_title  \\\n",
       "0  tt0087803  Nineteen Eighty-Four   \n",
       "1  tt0087803  Nineteen Eighty-Four   \n",
       "2  tt0087803  Nineteen Eighty-Four   \n",
       "3  tt0087803  Nineteen Eighty-Four   \n",
       "4  tt0087803  Nineteen Eighty-Four   \n",
       "\n",
       "                                              review  \\\n",
       "0  I saw this movie last year in Media class and ...   \n",
       "1  I must admit, there are few books with corresp...   \n",
       "2  I think that the shots and lighting were very ...   \n",
       "3  A few weeks ago, I read the classic George Orw...   \n",
       "4  I saw this movie literally directly after fini...   \n",
       "\n",
       "                                         review_lemm  pos  \n",
       "0  i see this movie last year in medium class and...    0  \n",
       "1  i must admit there be few book with correspond...    0  \n",
       "2  i think that the shot and light be very poor w...    0  \n",
       "3  a few week ago i read the classic george orwel...    0  \n",
       "4  i see this movie literally directly after fini...    0  "
      ]
     },
     "execution_count": 4,
     "metadata": {},
     "output_type": "execute_result"
    }
   ],
   "source": [
    "df_reviews.head()"
   ]
  },
  {
   "cell_type": "markdown",
   "metadata": {},
   "source": [
    "# Preprocessing for BERT"
   ]
  },
  {
   "cell_type": "code",
   "execution_count": 6,
   "metadata": {},
   "outputs": [
    {
     "data": {
      "text/html": [
       "<div>\n",
       "<style scoped>\n",
       "    .dataframe tbody tr th:only-of-type {\n",
       "        vertical-align: middle;\n",
       "    }\n",
       "\n",
       "    .dataframe tbody tr th {\n",
       "        vertical-align: top;\n",
       "    }\n",
       "\n",
       "    .dataframe thead th {\n",
       "        text-align: right;\n",
       "    }\n",
       "</style>\n",
       "<table border=\"1\" class=\"dataframe\">\n",
       "  <thead>\n",
       "    <tr style=\"text-align: right;\">\n",
       "      <th></th>\n",
       "      <th>tconst</th>\n",
       "      <th>original_title</th>\n",
       "      <th>review</th>\n",
       "      <th>review_lemm</th>\n",
       "      <th>pos</th>\n",
       "    </tr>\n",
       "  </thead>\n",
       "  <tbody>\n",
       "    <tr>\n",
       "      <th>0</th>\n",
       "      <td>tt0087803</td>\n",
       "      <td>Nineteen Eighty-Four</td>\n",
       "      <td>I saw this movie last year in Media class and ...</td>\n",
       "      <td>i see this movie last year in medium class and...</td>\n",
       "      <td>0</td>\n",
       "    </tr>\n",
       "    <tr>\n",
       "      <th>1</th>\n",
       "      <td>tt0087803</td>\n",
       "      <td>Nineteen Eighty-Four</td>\n",
       "      <td>I must admit, there are few books with corresp...</td>\n",
       "      <td>i must admit there be few book with correspond...</td>\n",
       "      <td>0</td>\n",
       "    </tr>\n",
       "    <tr>\n",
       "      <th>2</th>\n",
       "      <td>tt0087803</td>\n",
       "      <td>Nineteen Eighty-Four</td>\n",
       "      <td>I think that the shots and lighting were very ...</td>\n",
       "      <td>i think that the shot and light be very poor w...</td>\n",
       "      <td>0</td>\n",
       "    </tr>\n",
       "    <tr>\n",
       "      <th>3</th>\n",
       "      <td>tt0087803</td>\n",
       "      <td>Nineteen Eighty-Four</td>\n",
       "      <td>A few weeks ago, I read the classic George Orw...</td>\n",
       "      <td>a few week ago i read the classic george orwel...</td>\n",
       "      <td>0</td>\n",
       "    </tr>\n",
       "    <tr>\n",
       "      <th>4</th>\n",
       "      <td>tt0087803</td>\n",
       "      <td>Nineteen Eighty-Four</td>\n",
       "      <td>I saw this movie literally directly after fini...</td>\n",
       "      <td>i see this movie literally directly after fini...</td>\n",
       "      <td>0</td>\n",
       "    </tr>\n",
       "    <tr>\n",
       "      <th>...</th>\n",
       "      <td>...</td>\n",
       "      <td>...</td>\n",
       "      <td>...</td>\n",
       "      <td>...</td>\n",
       "      <td>...</td>\n",
       "    </tr>\n",
       "    <tr>\n",
       "      <th>195</th>\n",
       "      <td>tt0364986</td>\n",
       "      <td>Ben &amp; Arthur</td>\n",
       "      <td>I don't know what it is about this movie- dire...</td>\n",
       "      <td>i do not know what -PRON- be about this movie ...</td>\n",
       "      <td>0</td>\n",
       "    </tr>\n",
       "    <tr>\n",
       "      <th>196</th>\n",
       "      <td>tt0364986</td>\n",
       "      <td>Ben &amp; Arthur</td>\n",
       "      <td>Oh man, what was Sam Mraovich thinking? What w...</td>\n",
       "      <td>oh man what be sam mraovich think what be anyo...</td>\n",
       "      <td>0</td>\n",
       "    </tr>\n",
       "    <tr>\n",
       "      <th>197</th>\n",
       "      <td>tt0364986</td>\n",
       "      <td>Ben &amp; Arthur</td>\n",
       "      <td>Just watched this after hearing about how bad ...</td>\n",
       "      <td>just watch this after hear about how bad -PRON...</td>\n",
       "      <td>0</td>\n",
       "    </tr>\n",
       "    <tr>\n",
       "      <th>198</th>\n",
       "      <td>tt0364986</td>\n",
       "      <td>Ben &amp; Arthur</td>\n",
       "      <td>This movie is just truly awful, the eye-candy ...</td>\n",
       "      <td>this movie be just truly awful the eye candy t...</td>\n",
       "      <td>0</td>\n",
       "    </tr>\n",
       "    <tr>\n",
       "      <th>199</th>\n",
       "      <td>tt0364986</td>\n",
       "      <td>Ben &amp; Arthur</td>\n",
       "      <td>Let me first state that I enjoy watching \"bad\"...</td>\n",
       "      <td>let -PRON- first state that i enjoy watch bad ...</td>\n",
       "      <td>0</td>\n",
       "    </tr>\n",
       "  </tbody>\n",
       "</table>\n",
       "<p>200 rows × 5 columns</p>\n",
       "</div>"
      ],
      "text/plain": [
       "        tconst        original_title  \\\n",
       "0    tt0087803  Nineteen Eighty-Four   \n",
       "1    tt0087803  Nineteen Eighty-Four   \n",
       "2    tt0087803  Nineteen Eighty-Four   \n",
       "3    tt0087803  Nineteen Eighty-Four   \n",
       "4    tt0087803  Nineteen Eighty-Four   \n",
       "..         ...                   ...   \n",
       "195  tt0364986          Ben & Arthur   \n",
       "196  tt0364986          Ben & Arthur   \n",
       "197  tt0364986          Ben & Arthur   \n",
       "198  tt0364986          Ben & Arthur   \n",
       "199  tt0364986          Ben & Arthur   \n",
       "\n",
       "                                                review  \\\n",
       "0    I saw this movie last year in Media class and ...   \n",
       "1    I must admit, there are few books with corresp...   \n",
       "2    I think that the shots and lighting were very ...   \n",
       "3    A few weeks ago, I read the classic George Orw...   \n",
       "4    I saw this movie literally directly after fini...   \n",
       "..                                                 ...   \n",
       "195  I don't know what it is about this movie- dire...   \n",
       "196  Oh man, what was Sam Mraovich thinking? What w...   \n",
       "197  Just watched this after hearing about how bad ...   \n",
       "198  This movie is just truly awful, the eye-candy ...   \n",
       "199  Let me first state that I enjoy watching \"bad\"...   \n",
       "\n",
       "                                           review_lemm  pos  \n",
       "0    i see this movie last year in medium class and...    0  \n",
       "1    i must admit there be few book with correspond...    0  \n",
       "2    i think that the shot and light be very poor w...    0  \n",
       "3    a few week ago i read the classic george orwel...    0  \n",
       "4    i see this movie literally directly after fini...    0  \n",
       "..                                                 ...  ...  \n",
       "195  i do not know what -PRON- be about this movie ...    0  \n",
       "196  oh man what be sam mraovich think what be anyo...    0  \n",
       "197  just watch this after hear about how bad -PRON...    0  \n",
       "198  this movie be just truly awful the eye candy t...    0  \n",
       "199  let -PRON- first state that i enjoy watch bad ...    0  \n",
       "\n",
       "[200 rows x 5 columns]"
      ]
     },
     "execution_count": 6,
     "metadata": {},
     "output_type": "execute_result"
    }
   ],
   "source": [
    "df_reviews.iloc[:max_sample_size]"
   ]
  },
  {
   "cell_type": "code",
   "execution_count": 9,
   "metadata": {},
   "outputs": [
    {
     "name": "stdout",
     "output_type": "stream",
     "text": [
      "0\n",
      "1\n",
      "2\n",
      "3\n",
      "4\n"
     ]
    }
   ],
   "source": [
    "for i in range(5):\n",
    "    print(i)"
   ]
  },
  {
   "cell_type": "code",
   "execution_count": 4,
   "metadata": {},
   "outputs": [],
   "source": [
    "tokenizer = transformers.BertTokenizer.from_pretrained('bert-base-uncased')\n",
    "\n",
    "ids_list = []\n",
    "attention_mask_list = []\n",
    "\n",
    "max_length = 512\n",
    "\n",
    "for input_text in df_reviews.iloc[:max_sample_size]['review']:\n",
    "    ids = tokenizer.encode(input_text.lower(), add_special_tokens=True, truncation=True, max_length=max_length)\n",
    "    padded = np.array(ids + [0]*(max_length - len(ids)))\n",
    "    attention_mask = np.where(padded != 0, 1, 0)\n",
    "    ids_list.append(padded)\n",
    "    attention_mask_list.append(attention_mask)"
   ]
  },
  {
   "cell_type": "markdown",
   "metadata": {},
   "source": [
    "# Getting Embeddings"
   ]
  },
  {
   "cell_type": "code",
   "execution_count": 5,
   "metadata": {},
   "outputs": [],
   "source": [
    "config = transformers.BertConfig.from_pretrained('bert-base-uncased')\n",
    "model = transformers.BertModel.from_pretrained('bert-base-uncased')"
   ]
  },
  {
   "cell_type": "code",
   "execution_count": null,
   "metadata": {},
   "outputs": [],
   "source": []
  },
  {
   "cell_type": "code",
   "execution_count": 6,
   "metadata": {},
   "outputs": [
    {
     "name": "stdout",
     "output_type": "stream",
     "text": [
      "Using the cpu device.\n"
     ]
    },
    {
     "data": {
      "application/vnd.jupyter.widget-view+json": {
       "model_id": "bde10ac7dc72411ea764abe09f380ed2",
       "version_major": 2,
       "version_minor": 0
      },
      "text/plain": [
       "HBox(children=(FloatProgress(value=0.0, max=8.0), HTML(value='')))"
      ]
     },
     "metadata": {},
     "output_type": "display_data"
    },
    {
     "name": "stdout",
     "output_type": "stream",
     "text": [
      "\n"
     ]
    }
   ],
   "source": [
    "batch_size = 25    # typically the batch size is equal to 100 but we can set it to lower values to lower the memory requirements\n",
    "\n",
    "embeddings = []\n",
    "\n",
    "device = torch.device('cuda' if torch.cuda.is_available() else 'cpu')\n",
    "print(f'Using the {device} device.')\n",
    "model.to(device)\n",
    "\n",
    "for i in tqdm(range(len(ids_list) // batch_size)):\n",
    "    \n",
    "    ids_batch = torch.LongTensor(ids_list[batch_size*i:batch_size*(i+1)]).to(device)\n",
    "    attention_mask_batch = torch.LongTensor(attention_mask_list[batch_size*i:batch_size*(i+1)]).to(device)\n",
    "\n",
    "    with torch.no_grad():\n",
    "        model.eval()\n",
    "        batch_embeddings = model(ids_batch, attention_mask=attention_mask_batch)\n",
    "\n",
    "    embeddings.append(batch_embeddings[0][:,0,:].detach().cpu().numpy())"
   ]
  },
  {
   "cell_type": "markdown",
   "metadata": {},
   "source": [
    "# Model"
   ]
  },
  {
   "cell_type": "code",
   "execution_count": 7,
   "metadata": {},
   "outputs": [
    {
     "name": "stdout",
     "output_type": "stream",
     "text": [
      "(200, 768)\n",
      "(200,)\n"
     ]
    }
   ],
   "source": [
    "features = np.concatenate(embeddings)\n",
    "target = df_reviews.iloc[:max_sample_size]['pos']\n",
    "\n",
    "print(features.shape)\n",
    "print(target.shape)"
   ]
  },
  {
   "cell_type": "code",
   "execution_count": 8,
   "metadata": {},
   "outputs": [],
   "source": [
    "features_train, features_test, target_train, target_test = train_test_split(features,\n",
    "                                                                            target, \n",
    "                                                                            test_size=0.5, random_state=0)"
   ]
  },
  {
   "cell_type": "code",
   "execution_count": 17,
   "metadata": {},
   "outputs": [
    {
     "name": "stdout",
     "output_type": "stream",
     "text": [
      "[0.82352941 0.78787879 0.81818182]\n"
     ]
    }
   ],
   "source": [
    "# train and test your model\n",
    "# < put your code here >\n",
    "model = LogisticRegression(random_state=0, solver='liblinear')\n",
    "model.fit(features_train, target_train)\n",
    "\n",
    "#pred = model.predict(features_test)\n",
    "\n",
    "scores = cross_val_score(model,features_train, target_train, cv=3)\n",
    "print(scores)\n",
    "print(model.score(features_test, target_test))"
   ]
  },
  {
   "cell_type": "code",
   "execution_count": null,
   "metadata": {},
   "outputs": [],
   "source": []
  }
 ],
 "metadata": {
  "kernelspec": {
   "display_name": "Python 3",
   "language": "python",
   "name": "python3"
  },
  "language_info": {
   "codemirror_mode": {
    "name": "ipython",
    "version": 3
   },
   "file_extension": ".py",
   "mimetype": "text/x-python",
   "name": "python",
   "nbconvert_exporter": "python",
   "pygments_lexer": "ipython3",
   "version": "3.7.6"
  }
 },
 "nbformat": 4,
 "nbformat_minor": 4
}
