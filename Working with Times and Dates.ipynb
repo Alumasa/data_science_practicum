{
 "cells": [
  {
   "cell_type": "code",
   "execution_count": 1,
   "metadata": {},
   "outputs": [
    {
     "name": "stdout",
     "output_type": "stream",
     "text": [
      "0   2011-03-01 18:00:00\n",
      "Name: time_rounded, dtype: datetime64[ns]\n"
     ]
    }
   ],
   "source": [
    "import pandas as pd \n",
    "\n",
    "df = pd.DataFrame({'time': ['11-03-01 17:34']})\n",
    "df['time'] = pd.to_datetime(df['time'], format='%y-%m-%d %H:%M')\n",
    "df['time_rounded'] = df['time'].dt.round('1H') # round to the nearest value with a step in one hour \n",
    "print(df['time_rounded'])"
   ]
  },
  {
   "cell_type": "code",
   "execution_count": 6,
   "metadata": {},
   "outputs": [
    {
     "name": "stdout",
     "output_type": "stream",
     "text": [
      "0   2011-03-01 17:00:00\n",
      "Name: time_rounded, dtype: datetime64[ns]\n"
     ]
    }
   ],
   "source": [
    "df = pd.DataFrame({'time': ['11-03-01 17:29']})\n",
    "df['time'] = pd.to_datetime(df['time'], format='%y-%m-%d %H:%M')\n",
    "df['time_rounded'] = df['time'].dt.round('1H') # rounding to the nearest hour value\n",
    "print(df['time_rounded'])"
   ]
  },
  {
   "cell_type": "code",
   "execution_count": 3,
   "metadata": {},
   "outputs": [
    {
     "name": "stdout",
     "output_type": "stream",
     "text": [
      "Time rounded up 0   2011-03-01 18:00:00\n",
      "Name: ceil, dtype: datetime64[ns]\n",
      "Time rounded down 0   2011-03-01 17:00:00\n",
      "Name: floor, dtype: datetime64[ns]\n"
     ]
    }
   ],
   "source": [
    "df = pd.DataFrame({'time': ['11-03-01 17:15']})\n",
    "df['time'] = pd.to_datetime(df['time'], format='%y-%m-%d %H:%M')\n",
    "df['ceil'] = df['time'].dt.ceil('1H') # rounding up\n",
    "df['floor'] = df['time'].dt.floor('1H') # rounding down\n",
    "print('Time rounded up', df['ceil'])\n",
    "print('Time rounded down', df['floor'])"
   ]
  },
  {
   "cell_type": "code",
   "execution_count": 7,
   "metadata": {},
   "outputs": [
    {
     "name": "stdout",
     "output_type": "stream",
     "text": [
      "0    0\n",
      "1    5\n",
      "Name: weekday, dtype: int64\n"
     ]
    }
   ],
   "source": [
    "df = pd.DataFrame({'time': ['11-03-07 17:15', '11-04-02 17:15']}) # Mon and Sat\n",
    "df['time'] = pd.to_datetime(df['time'], format='%y-%m-%d %H:%M')\n",
    "df['weekday'] = df['time'].dt.weekday\n",
    "print(df['weekday'])"
   ]
  },
  {
   "cell_type": "code",
   "execution_count": 8,
   "metadata": {},
   "outputs": [
    {
     "name": "stdout",
     "output_type": "stream",
     "text": [
      "0   2011-03-07 20:15:00\n",
      "1   2011-05-02 13:20:00\n",
      "Name: new_york_time, dtype: datetime64[ns]\n"
     ]
    }
   ],
   "source": [
    "df = pd.DataFrame({'time': ['11-03-07 17:15', '11-05-02 10:20']})\n",
    "df['san_francisco_time'] = pd.to_datetime(df['time'], format='%y-%m-%d %H:%M')\n",
    "df['new_york_time'] = df['san_francisco_time'] + pd.Timedelta(hours=3)\n",
    "print(df['new_york_time'])"
   ]
  },
  {
   "cell_type": "code",
   "execution_count": null,
   "metadata": {},
   "outputs": [],
   "source": []
  }
 ],
 "metadata": {
  "kernelspec": {
   "display_name": "Python 3",
   "language": "python",
   "name": "python3"
  },
  "language_info": {
   "codemirror_mode": {
    "name": "ipython",
    "version": 3
   },
   "file_extension": ".py",
   "mimetype": "text/x-python",
   "name": "python",
   "nbconvert_exporter": "python",
   "pygments_lexer": "ipython3",
   "version": "3.7.6"
  }
 },
 "nbformat": 4,
 "nbformat_minor": 4
}
