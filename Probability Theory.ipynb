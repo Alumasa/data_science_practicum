{
 "cells": [
  {
   "cell_type": "code",
   "execution_count": 1,
   "metadata": {},
   "outputs": [],
   "source": [
    "import pandas as pd\n",
    "import numpy as np\n",
    "import matplotlib.pyplot as plt"
   ]
  },
  {
   "cell_type": "code",
   "execution_count": 2,
   "metadata": {},
   "outputs": [
    {
     "name": "stdout",
     "output_type": "stream",
     "text": [
      "Probability of winning free sushi: 0.00682%\n"
     ]
    }
   ],
   "source": [
    "reposts = 14673 # the number of reposts are the outcomes of the experiment\n",
    "win_probability = 1 / reposts # divide 1 by the total number of outcomes\n",
    "print('Probability of winning free sushi: {:.5%}'.format(win_probability))"
   ]
  },
  {
   "cell_type": "code",
   "execution_count": 3,
   "metadata": {},
   "outputs": [
    {
     "name": "stdout",
     "output_type": "stream",
     "text": [
      "       Artist                        Song\n",
      "0       Queen         The Show Must Go On\n",
      "1       Queen  Another One Bites The Dust\n",
      "2       Queen            We Will Rock You\n",
      "3  Pink Floyd          Wish You Were Here\n",
      "4     Nirvana     Smells Like Teen Spirit\n",
      "5       AC/DC             Highway To Hell\n",
      "6       AC/DC               Back in Black\n",
      "7   Scorpions              Wind Of Change\n",
      "8   Scorpions            Still Loving You\n",
      "9   Scorpions            Send Me An Angel\n"
     ]
    }
   ],
   "source": [
    "ya_music_rock = pd.DataFrame({\n",
    "'Artist': ['Queen', 'Queen',\n",
    "'Queen', 'Pink Floyd',\n",
    "'Nirvana', 'AC/DC',\n",
    "'AC/DC', 'Scorpions',\n",
    "'Scorpions', 'Scorpions'],\n",
    "'Song': ['The Show Must Go On', 'Another One Bites The Dust',\n",
    "'We Will Rock You', 'Wish You Were Here','Smells Like Teen Spirit',\n",
    "'Highway To Hell','Back in Black',\n",
    "'Wind Of Change', 'Still Loving You', 'Send Me An Angel']\n",
    "})\n",
    "print(ya_music_rock)"
   ]
  },
  {
   "cell_type": "code",
   "execution_count": 4,
   "metadata": {},
   "outputs": [
    {
     "name": "stdout",
     "output_type": "stream",
     "text": [
      "0.1\n"
     ]
    }
   ],
   "source": [
    "print(len(ya_music_rock[ya_music_rock['Song'] == 'Smells Like Teen Spirit']) / len(ya_music_rock))"
   ]
  },
  {
   "cell_type": "code",
   "execution_count": 5,
   "metadata": {},
   "outputs": [
    {
     "name": "stdout",
     "output_type": "stream",
     "text": [
      "0.3\n"
     ]
    }
   ],
   "source": [
    "print(len(ya_music_rock[ya_music_rock['Artist'] == 'Queen'])/ len(ya_music_rock))"
   ]
  },
  {
   "cell_type": "code",
   "execution_count": 7,
   "metadata": {},
   "outputs": [
    {
     "name": "stdout",
     "output_type": "stream",
     "text": [
      "0.2\n",
      "0.215\n",
      "0.1921\n",
      "0.199851\n"
     ]
    }
   ],
   "source": [
    "import random\n",
    "random.seed(42) # method specifying the level of randomness; don't change parameter 42\n",
    "\n",
    "def calculate_p(N):\n",
    "    cnt_21_40 = 0\n",
    "    for i in range(N):\n",
    "        random_integer = random.randint(1, 100)# write your code here\n",
    "        if 21 <= random_integer <= 40:\n",
    "            cnt_21_40 += 1\n",
    "    return (cnt_21_40 / N)\n",
    "        \n",
    "\n",
    "p_20 = calculate_p(20)\n",
    "p_400 = calculate_p(400)\n",
    "p_10000 = calculate_p(10000)\n",
    "\n",
    "print(p_20)\n",
    "print(p_400)\n",
    "print(p_10000)\n",
    "#print(calculate_p(1000000))"
   ]
  },
  {
   "cell_type": "code",
   "execution_count": null,
   "metadata": {},
   "outputs": [],
   "source": []
  }
 ],
 "metadata": {
  "kernelspec": {
   "display_name": "Python 3",
   "language": "python",
   "name": "python3"
  },
  "language_info": {
   "codemirror_mode": {
    "name": "ipython",
    "version": 3
   },
   "file_extension": ".py",
   "mimetype": "text/x-python",
   "name": "python",
   "nbconvert_exporter": "python",
   "pygments_lexer": "ipython3",
   "version": "3.7.6"
  }
 },
 "nbformat": 4,
 "nbformat_minor": 4
}
