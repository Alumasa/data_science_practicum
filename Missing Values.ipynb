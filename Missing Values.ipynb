{
 "cells": [
  {
   "cell_type": "code",
   "execution_count": null,
   "metadata": {},
   "outputs": [],
   "source": [
    "import pandas as pd\n",
    "logs = pd.read_csv('/datasets/logs.csv')\n",
    "\n",
    "#print(logs.info())\n",
    "unique_emails = logs['email'].unique()\n",
    "unique_ids = logs['user_id'].unique()\n",
    "print('Unique email addresses: {:.0f}'.format(len(unique_emails)))#write code to count unique email addresses here\n",
    "print('Unique user IDs: {:.0f}'.format(len(unique_ids))) #write code to count unique user IDs here"
   ]
  },
  {
   "cell_type": "code",
   "execution_count": null,
   "metadata": {},
   "outputs": [],
   "source": [
    "print(logs['source'].unique())\n",
    "#not perfect data: has both NaN and undefined data"
   ]
  },
  {
   "cell_type": "code",
   "execution_count": 3,
   "metadata": {},
   "outputs": [
    {
     "name": "stdout",
     "output_type": "stream",
     "text": [
      "Object `logs.fillna` not found.\n"
     ]
    }
   ],
   "source": [
    "import pandas as pd\n",
    "hogwarts_points = pd.read_csv('/datasets/hogwarts_points_eng.csv')\n",
    "hogwarts_points['house'].fillna(value='Gryffindor', inplace=True)\n",
    "print(hogwarts_points)"
   ]
  },
  {
   "cell_type": "code",
   "execution_count": null,
   "metadata": {},
   "outputs": [],
   "source": [
    "print ('Total points for Hogwarts:', hogwarts_points['points'].sum())# total of values in the 'points' column\n",
    "print ('Total points for all houses:', hogwarts_points.groupby('house')['points'].sum().sum()) # group by the 'house' column\n",
    "# then use the sum() method to add the points, which are the values in the 'points' column for this grouping \n",
    "# and apply the sum() method to the results\n",
    "print('The Cup goes to', hogwarts_points.groupby('house')['points'].sum().idxmax())"
   ]
  },
  {
   "cell_type": "code",
   "execution_count": null,
   "metadata": {},
   "outputs": [],
   "source": [
    "visits = logs.groupby('source')['user_id'].count()#total number of visits from each traffic source\n",
    "print(visits)"
   ]
  },
  {
   "cell_type": "code",
   "execution_count": null,
   "metadata": {},
   "outputs": [],
   "source": [
    "purchase = logs.groupby('source')['purchase'].sum()#number of completed purchases\n",
    "print(purchase)"
   ]
  },
  {
   "cell_type": "code",
   "execution_count": null,
   "metadata": {},
   "outputs": [],
   "source": [
    "visits = logs.groupby('source')['user_id'].count()\n",
    "purchase = logs.groupby('source')['purchase'].sum()\n",
    "\n",
    "conversion = purchase / visits#divide the number of purchases by the number of visits\n",
    "print(conversion)"
   ]
  }
 ],
 "metadata": {
  "kernelspec": {
   "display_name": "Python 3",
   "language": "python",
   "name": "python3"
  },
  "language_info": {
   "codemirror_mode": {
    "name": "ipython",
    "version": 3
   },
   "file_extension": ".py",
   "mimetype": "text/x-python",
   "name": "python",
   "nbconvert_exporter": "python",
   "pygments_lexer": "ipython3",
   "version": "3.7.6"
  }
 },
 "nbformat": 4,
 "nbformat_minor": 4
}
