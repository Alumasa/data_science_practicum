{
 "cells": [
  {
   "cell_type": "code",
   "execution_count": 78,
   "metadata": {},
   "outputs": [],
   "source": [
    "import pandas as pd\n",
    "import numpy as np"
   ]
  },
  {
   "cell_type": "markdown",
   "metadata": {},
   "source": [
    "###### Read the data."
   ]
  },
  {
   "cell_type": "code",
   "execution_count": 79,
   "metadata": {
    "scrolled": true
   },
   "outputs": [
    {
     "data": {
      "text/html": [
       "<div>\n",
       "<style scoped>\n",
       "    .dataframe tbody tr th:only-of-type {\n",
       "        vertical-align: middle;\n",
       "    }\n",
       "\n",
       "    .dataframe tbody tr th {\n",
       "        vertical-align: top;\n",
       "    }\n",
       "\n",
       "    .dataframe thead th {\n",
       "        text-align: right;\n",
       "    }\n",
       "</style>\n",
       "<table border=\"1\" class=\"dataframe\">\n",
       "  <thead>\n",
       "    <tr style=\"text-align: right;\">\n",
       "      <th></th>\n",
       "      <th>children</th>\n",
       "      <th>days_employed</th>\n",
       "      <th>dob_years</th>\n",
       "      <th>education</th>\n",
       "      <th>education_id</th>\n",
       "      <th>family_status</th>\n",
       "      <th>family_status_id</th>\n",
       "      <th>gender</th>\n",
       "      <th>income_type</th>\n",
       "      <th>debt</th>\n",
       "      <th>total_income</th>\n",
       "      <th>purpose</th>\n",
       "    </tr>\n",
       "  </thead>\n",
       "  <tbody>\n",
       "    <tr>\n",
       "      <th>0</th>\n",
       "      <td>1</td>\n",
       "      <td>-8437.673028</td>\n",
       "      <td>42</td>\n",
       "      <td>bachelor's degree</td>\n",
       "      <td>0</td>\n",
       "      <td>married</td>\n",
       "      <td>0</td>\n",
       "      <td>F</td>\n",
       "      <td>employee</td>\n",
       "      <td>0</td>\n",
       "      <td>40620.102</td>\n",
       "      <td>purchase of the house</td>\n",
       "    </tr>\n",
       "    <tr>\n",
       "      <th>1</th>\n",
       "      <td>1</td>\n",
       "      <td>-4024.803754</td>\n",
       "      <td>36</td>\n",
       "      <td>secondary education</td>\n",
       "      <td>1</td>\n",
       "      <td>married</td>\n",
       "      <td>0</td>\n",
       "      <td>F</td>\n",
       "      <td>employee</td>\n",
       "      <td>0</td>\n",
       "      <td>17932.802</td>\n",
       "      <td>car purchase</td>\n",
       "    </tr>\n",
       "    <tr>\n",
       "      <th>2</th>\n",
       "      <td>0</td>\n",
       "      <td>-5623.422610</td>\n",
       "      <td>33</td>\n",
       "      <td>Secondary Education</td>\n",
       "      <td>1</td>\n",
       "      <td>married</td>\n",
       "      <td>0</td>\n",
       "      <td>M</td>\n",
       "      <td>employee</td>\n",
       "      <td>0</td>\n",
       "      <td>23341.752</td>\n",
       "      <td>purchase of the house</td>\n",
       "    </tr>\n",
       "    <tr>\n",
       "      <th>3</th>\n",
       "      <td>3</td>\n",
       "      <td>-4124.747207</td>\n",
       "      <td>32</td>\n",
       "      <td>secondary education</td>\n",
       "      <td>1</td>\n",
       "      <td>married</td>\n",
       "      <td>0</td>\n",
       "      <td>M</td>\n",
       "      <td>employee</td>\n",
       "      <td>0</td>\n",
       "      <td>42820.568</td>\n",
       "      <td>supplementary education</td>\n",
       "    </tr>\n",
       "    <tr>\n",
       "      <th>4</th>\n",
       "      <td>0</td>\n",
       "      <td>340266.072047</td>\n",
       "      <td>53</td>\n",
       "      <td>secondary education</td>\n",
       "      <td>1</td>\n",
       "      <td>civil partnership</td>\n",
       "      <td>1</td>\n",
       "      <td>F</td>\n",
       "      <td>retiree</td>\n",
       "      <td>0</td>\n",
       "      <td>25378.572</td>\n",
       "      <td>to have a wedding</td>\n",
       "    </tr>\n",
       "  </tbody>\n",
       "</table>\n",
       "</div>"
      ],
      "text/plain": [
       "   children  days_employed  dob_years            education  education_id  \\\n",
       "0         1   -8437.673028         42    bachelor's degree             0   \n",
       "1         1   -4024.803754         36  secondary education             1   \n",
       "2         0   -5623.422610         33  Secondary Education             1   \n",
       "3         3   -4124.747207         32  secondary education             1   \n",
       "4         0  340266.072047         53  secondary education             1   \n",
       "\n",
       "       family_status  family_status_id gender income_type  debt  total_income  \\\n",
       "0            married                 0      F    employee     0     40620.102   \n",
       "1            married                 0      F    employee     0     17932.802   \n",
       "2            married                 0      M    employee     0     23341.752   \n",
       "3            married                 0      M    employee     0     42820.568   \n",
       "4  civil partnership                 1      F     retiree     0     25378.572   \n",
       "\n",
       "                   purpose  \n",
       "0    purchase of the house  \n",
       "1             car purchase  \n",
       "2    purchase of the house  \n",
       "3  supplementary education  \n",
       "4        to have a wedding  "
      ]
     },
     "execution_count": 79,
     "metadata": {},
     "output_type": "execute_result"
    }
   ],
   "source": [
    "credit_data = pd.read_csv('credit_scoring_eng.csv')\n",
    "credit_data.head()"
   ]
  },
  {
   "cell_type": "markdown",
   "metadata": {},
   "source": [
    "###### Look at data types and identify columns with null values in the DataFrame, for further investigation.\n",
    "I have used the info() method to identify which columns have null values."
   ]
  },
  {
   "cell_type": "code",
   "execution_count": 80,
   "metadata": {},
   "outputs": [
    {
     "name": "stdout",
     "output_type": "stream",
     "text": [
      "<class 'pandas.core.frame.DataFrame'>\n",
      "RangeIndex: 21525 entries, 0 to 21524\n",
      "Data columns (total 12 columns):\n",
      " #   Column            Non-Null Count  Dtype  \n",
      "---  ------            --------------  -----  \n",
      " 0   children          21525 non-null  int64  \n",
      " 1   days_employed     19351 non-null  float64\n",
      " 2   dob_years         21525 non-null  int64  \n",
      " 3   education         21525 non-null  object \n",
      " 4   education_id      21525 non-null  int64  \n",
      " 5   family_status     21525 non-null  object \n",
      " 6   family_status_id  21525 non-null  int64  \n",
      " 7   gender            21525 non-null  object \n",
      " 8   income_type       21525 non-null  object \n",
      " 9   debt              21525 non-null  int64  \n",
      " 10  total_income      19351 non-null  float64\n",
      " 11  purpose           21525 non-null  object \n",
      "dtypes: float64(2), int64(5), object(5)\n",
      "memory usage: 2.0+ MB\n"
     ]
    }
   ],
   "source": [
    "credit_data.info()"
   ]
  },
  {
   "cell_type": "markdown",
   "metadata": {},
   "source": [
    "###### Two columns have null values: 'days_employed' and 'total_income'"
   ]
  },
  {
   "cell_type": "markdown",
   "metadata": {},
   "source": [
    "The shape of the DataFrame will help me to know the size of data am working with, especially when deleting null values and duplicates.\n",
    "\"shape\" is an attribute of the DataFrame."
   ]
  },
  {
   "cell_type": "code",
   "execution_count": 81,
   "metadata": {},
   "outputs": [
    {
     "data": {
      "text/plain": [
       "(21525, 12)"
      ]
     },
     "execution_count": 81,
     "metadata": {},
     "output_type": "execute_result"
    }
   ],
   "source": [
    "credit_data.shape"
   ]
  },
  {
   "cell_type": "markdown",
   "metadata": {},
   "source": [
    "To count the number of null values in every column, I have chained the isnull() and sum() methods."
   ]
  },
  {
   "cell_type": "code",
   "execution_count": 82,
   "metadata": {},
   "outputs": [
    {
     "data": {
      "text/plain": [
       "children               0\n",
       "days_employed       2174\n",
       "dob_years              0\n",
       "education              0\n",
       "education_id           0\n",
       "family_status          0\n",
       "family_status_id       0\n",
       "gender                 0\n",
       "income_type            0\n",
       "debt                   0\n",
       "total_income        2174\n",
       "purpose                0\n",
       "dtype: int64"
      ]
     },
     "execution_count": 82,
     "metadata": {},
     "output_type": "execute_result"
    }
   ],
   "source": [
    "credit_data.isnull().sum()\n",
    "#total_income has 2174 null values."
   ]
  },
  {
   "cell_type": "markdown",
   "metadata": {},
   "source": [
    "###### In this DataFrame, the two columns with null values both have 2174 null values."
   ]
  },
  {
   "cell_type": "markdown",
   "metadata": {},
   "source": [
    "My interpretation is that the null values in the two columns are not missing by random.\n",
    "###### MNAR - Missing Not At Random -  the likelihood of missing values depends on values in the column itself.\n",
    "The 'days_employed' and 'total_income' are related. Meaning there is no employment hence no annual income."
   ]
  },
  {
   "cell_type": "markdown",
   "metadata": {},
   "source": [
    "I will fill the null values with 0 in the 'days_employed' and 'total_income' columns, using the fillna() method with keyword arguments: value=0, along the column axis: axis=1, and to retain the same DataFrame: inplace=True.\n",
    "\n",
    "I will then confirm the sum of null values in each column with method chaining of isnull() and sum()."
   ]
  },
  {
   "cell_type": "code",
   "execution_count": 83,
   "metadata": {},
   "outputs": [
    {
     "data": {
      "text/plain": [
       "children            0\n",
       "days_employed       0\n",
       "dob_years           0\n",
       "education           0\n",
       "education_id        0\n",
       "family_status       0\n",
       "family_status_id    0\n",
       "gender              0\n",
       "income_type         0\n",
       "debt                0\n",
       "total_income        0\n",
       "purpose             0\n",
       "dtype: int64"
      ]
     },
     "execution_count": 83,
     "metadata": {},
     "output_type": "execute_result"
    }
   ],
   "source": [
    "credit_data.fillna(value=0, axis=1, inplace=True)\n",
    "credit_data.isnull().sum()"
   ]
  },
  {
   "cell_type": "markdown",
   "metadata": {},
   "source": [
    "I'll look the DataFrame again with the info() method to identify data types in the columns.\n",
    "The aim is to replace floats with integer data type."
   ]
  },
  {
   "cell_type": "code",
   "execution_count": 84,
   "metadata": {},
   "outputs": [
    {
     "name": "stdout",
     "output_type": "stream",
     "text": [
      "<class 'pandas.core.frame.DataFrame'>\n",
      "RangeIndex: 21525 entries, 0 to 21524\n",
      "Data columns (total 12 columns):\n",
      " #   Column            Non-Null Count  Dtype  \n",
      "---  ------            --------------  -----  \n",
      " 0   children          21525 non-null  int64  \n",
      " 1   days_employed     21525 non-null  float64\n",
      " 2   dob_years         21525 non-null  int64  \n",
      " 3   education         21525 non-null  object \n",
      " 4   education_id      21525 non-null  int64  \n",
      " 5   family_status     21525 non-null  object \n",
      " 6   family_status_id  21525 non-null  int64  \n",
      " 7   gender            21525 non-null  object \n",
      " 8   income_type       21525 non-null  object \n",
      " 9   debt              21525 non-null  int64  \n",
      " 10  total_income      21525 non-null  float64\n",
      " 11  purpose           21525 non-null  object \n",
      "dtypes: float64(2), int64(5), object(5)\n",
      "memory usage: 2.0+ MB\n",
      "None\n"
     ]
    }
   ],
   "source": [
    "print(credit_data.info())"
   ]
  },
  {
   "cell_type": "markdown",
   "metadata": {},
   "source": [
    "I'll replace the columns with type 'float64' to type 'int64' using the astype() method, and np.int64 as an argument."
   ]
  },
  {
   "cell_type": "code",
   "execution_count": 85,
   "metadata": {},
   "outputs": [],
   "source": [
    "#days_employed to int\n",
    "credit_data['days_employed'] = credit_data['days_employed'].astype(np.int64)"
   ]
  },
  {
   "cell_type": "code",
   "execution_count": 86,
   "metadata": {},
   "outputs": [],
   "source": [
    "#total_income to int\n",
    "credit_data['total_income'] = credit_data['total_income'].astype(np.int64)"
   ]
  },
  {
   "cell_type": "markdown",
   "metadata": {},
   "source": [
    "To identify duplicated rows in the data, I have used the duplicated() method, and chained it with sum() to find the total.\n",
    "The sum helps me to see how much of my data I would lose if I dropped the duplicates.\n",
    "These duplicates could have come up during data collection where clients filled in their details more than once."
   ]
  },
  {
   "cell_type": "code",
   "execution_count": 87,
   "metadata": {},
   "outputs": [
    {
     "name": "stdout",
     "output_type": "stream",
     "text": [
      "54\n"
     ]
    }
   ],
   "source": [
    "print(credit_data.duplicated().sum())"
   ]
  },
  {
   "cell_type": "markdown",
   "metadata": {},
   "source": [
    "Only 54 out of 21525 rows are in duplicate, I will drop them using the drop_duplicates() method,the keyword argument 'ignore_index', so that i dont have to reset the index, and inplace=True to keep the same DataFrame."
   ]
  },
  {
   "cell_type": "code",
   "execution_count": 88,
   "metadata": {},
   "outputs": [],
   "source": [
    "credit_data.drop_duplicates(inplace=True, ignore_index=True)"
   ]
  },
  {
   "cell_type": "code",
   "execution_count": 89,
   "metadata": {},
   "outputs": [
    {
     "data": {
      "text/plain": [
       "(21471, 12)"
      ]
     },
     "execution_count": 89,
     "metadata": {},
     "output_type": "execute_result"
    }
   ],
   "source": [
    "#the shape of my DataFrame has changed because of the duplicated rows that have been removed.\n",
    "credit_data.shape"
   ]
  },
  {
   "cell_type": "code",
   "execution_count": 90,
   "metadata": {},
   "outputs": [
    {
     "data": {
      "text/plain": [
       "count    21471.000000\n",
       "mean        43.476643\n",
       "std         12.217612\n",
       "min         19.000000\n",
       "25%         33.500000\n",
       "50%         42.000000\n",
       "75%         53.000000\n",
       "max         75.000000\n",
       "Name: dob_years, dtype: float64"
      ]
     },
     "execution_count": 90,
     "metadata": {},
     "output_type": "execute_result"
    }
   ],
   "source": [
    "#the age column has 0 values. This could be due to during collection, the client did not give his/her age.\n",
    "#I will set the 0 to the median of the age column\n",
    "credit_data.loc[credit_data['dob_years'] == 0, 'dob_years'] = credit_data['dob_years'].median() \n",
    "credit_data['dob_years'].describe()"
   ]
  },
  {
   "cell_type": "markdown",
   "metadata": {},
   "source": [
    "###### Categorize the data"
   ]
  },
  {
   "cell_type": "markdown",
   "metadata": {},
   "source": [
    "I will categorize the following columns: education, family_status, gender, income_type, purpose.\n",
    "This is because the values in these columns are discrete and can be combined into categories."
   ]
  },
  {
   "cell_type": "markdown",
   "metadata": {},
   "source": [
    "I will use the value_counts() method to identify unique values and their counts in the education column."
   ]
  },
  {
   "cell_type": "code",
   "execution_count": 91,
   "metadata": {},
   "outputs": [
    {
     "data": {
      "text/plain": [
       "secondary education    13705\n",
       "bachelor's degree       4710\n",
       "SECONDARY EDUCATION      772\n",
       "Secondary Education      711\n",
       "some college             668\n",
       "BACHELOR'S DEGREE        273\n",
       "Bachelor's Degree        268\n",
       "primary education        250\n",
       "Some College              47\n",
       "SOME COLLEGE              29\n",
       "PRIMARY EDUCATION         17\n",
       "Primary Education         15\n",
       "graduate degree            4\n",
       "GRADUATE DEGREE            1\n",
       "Graduate Degree            1\n",
       "Name: education, dtype: int64"
      ]
     },
     "execution_count": 91,
     "metadata": {},
     "output_type": "execute_result"
    }
   ],
   "source": [
    "credit_data['education'].value_counts()"
   ]
  },
  {
   "cell_type": "markdown",
   "metadata": {},
   "source": [
    "###### There are a lot of repeated values in the education column, majorly because of the difference in uppercase and lowercase letters."
   ]
  },
  {
   "cell_type": "markdown",
   "metadata": {},
   "source": [
    "I will convert all the rows in the education column to lowercase using the str.lower() method.\n",
    "This changes the rows to a string then to lowercase.\n",
    "\n",
    "unique() method is used to confirm that indeed there are only distinct values in the education column"
   ]
  },
  {
   "cell_type": "code",
   "execution_count": 92,
   "metadata": {},
   "outputs": [
    {
     "data": {
      "text/plain": [
       "array([\"bachelor's degree\", 'secondary education', 'some college',\n",
       "       'primary education', 'graduate degree'], dtype=object)"
      ]
     },
     "execution_count": 92,
     "metadata": {},
     "output_type": "execute_result"
    }
   ],
   "source": [
    "credit_data['education'] = credit_data['education'].str.lower()\n",
    "credit_data['education'].unique()"
   ]
  },
  {
   "cell_type": "markdown",
   "metadata": {},
   "source": [
    "I will use the value_counts() method to identify unique values and their counts in the family_status column."
   ]
  },
  {
   "cell_type": "code",
   "execution_count": 93,
   "metadata": {},
   "outputs": [
    {
     "data": {
      "text/plain": [
       "married              12344\n",
       "civil partnership     4163\n",
       "unmarried             2810\n",
       "divorced              1195\n",
       "widow / widower        959\n",
       "Name: family_status, dtype: int64"
      ]
     },
     "execution_count": 93,
     "metadata": {},
     "output_type": "execute_result"
    }
   ],
   "source": [
    "credit_data['family_status'].value_counts()"
   ]
  },
  {
   "cell_type": "markdown",
   "metadata": {},
   "source": [
    "I'll create dictionaries of the columns with id, the drop them from the main DataFrame"
   ]
  },
  {
   "cell_type": "code",
   "execution_count": 94,
   "metadata": {},
   "outputs": [
    {
     "name": "stdout",
     "output_type": "stream",
     "text": [
      "             education  education_id\n",
      "0    bachelor's degree             0\n",
      "1  secondary education             1\n",
      "2         some college             2\n",
      "3    primary education             3\n",
      "4      graduate degree             4\n"
     ]
    }
   ],
   "source": [
    "education_dict = credit_data[['education', 'education_id']].drop_duplicates().reset_index(drop=True)\n",
    "print(education_dict)"
   ]
  },
  {
   "cell_type": "code",
   "execution_count": 95,
   "metadata": {},
   "outputs": [
    {
     "name": "stdout",
     "output_type": "stream",
     "text": [
      "       family_status  family_status_id\n",
      "0            married                 0\n",
      "1  civil partnership                 1\n",
      "2    widow / widower                 2\n",
      "3           divorced                 3\n",
      "4          unmarried                 4\n"
     ]
    }
   ],
   "source": [
    "family_dict = credit_data[['family_status', 'family_status_id']].drop_duplicates().reset_index(drop=True)\n",
    "print(family_dict)"
   ]
  },
  {
   "cell_type": "markdown",
   "metadata": {},
   "source": [
    "I will drop the id columns from my data since i already have them as dictionaries."
   ]
  },
  {
   "cell_type": "code",
   "execution_count": 96,
   "metadata": {},
   "outputs": [
    {
     "data": {
      "text/html": [
       "<div>\n",
       "<style scoped>\n",
       "    .dataframe tbody tr th:only-of-type {\n",
       "        vertical-align: middle;\n",
       "    }\n",
       "\n",
       "    .dataframe tbody tr th {\n",
       "        vertical-align: top;\n",
       "    }\n",
       "\n",
       "    .dataframe thead th {\n",
       "        text-align: right;\n",
       "    }\n",
       "</style>\n",
       "<table border=\"1\" class=\"dataframe\">\n",
       "  <thead>\n",
       "    <tr style=\"text-align: right;\">\n",
       "      <th></th>\n",
       "      <th>children</th>\n",
       "      <th>days_employed</th>\n",
       "      <th>dob_years</th>\n",
       "      <th>education</th>\n",
       "      <th>family_status</th>\n",
       "      <th>gender</th>\n",
       "      <th>income_type</th>\n",
       "      <th>debt</th>\n",
       "      <th>total_income</th>\n",
       "      <th>purpose</th>\n",
       "    </tr>\n",
       "  </thead>\n",
       "  <tbody>\n",
       "    <tr>\n",
       "      <th>0</th>\n",
       "      <td>1</td>\n",
       "      <td>-8437</td>\n",
       "      <td>42.0</td>\n",
       "      <td>bachelor's degree</td>\n",
       "      <td>married</td>\n",
       "      <td>F</td>\n",
       "      <td>employee</td>\n",
       "      <td>0</td>\n",
       "      <td>40620</td>\n",
       "      <td>purchase of the house</td>\n",
       "    </tr>\n",
       "    <tr>\n",
       "      <th>1</th>\n",
       "      <td>1</td>\n",
       "      <td>-4024</td>\n",
       "      <td>36.0</td>\n",
       "      <td>secondary education</td>\n",
       "      <td>married</td>\n",
       "      <td>F</td>\n",
       "      <td>employee</td>\n",
       "      <td>0</td>\n",
       "      <td>17932</td>\n",
       "      <td>car purchase</td>\n",
       "    </tr>\n",
       "    <tr>\n",
       "      <th>2</th>\n",
       "      <td>0</td>\n",
       "      <td>-5623</td>\n",
       "      <td>33.0</td>\n",
       "      <td>secondary education</td>\n",
       "      <td>married</td>\n",
       "      <td>M</td>\n",
       "      <td>employee</td>\n",
       "      <td>0</td>\n",
       "      <td>23341</td>\n",
       "      <td>purchase of the house</td>\n",
       "    </tr>\n",
       "    <tr>\n",
       "      <th>3</th>\n",
       "      <td>3</td>\n",
       "      <td>-4124</td>\n",
       "      <td>32.0</td>\n",
       "      <td>secondary education</td>\n",
       "      <td>married</td>\n",
       "      <td>M</td>\n",
       "      <td>employee</td>\n",
       "      <td>0</td>\n",
       "      <td>42820</td>\n",
       "      <td>supplementary education</td>\n",
       "    </tr>\n",
       "    <tr>\n",
       "      <th>4</th>\n",
       "      <td>0</td>\n",
       "      <td>340266</td>\n",
       "      <td>53.0</td>\n",
       "      <td>secondary education</td>\n",
       "      <td>civil partnership</td>\n",
       "      <td>F</td>\n",
       "      <td>retiree</td>\n",
       "      <td>0</td>\n",
       "      <td>25378</td>\n",
       "      <td>to have a wedding</td>\n",
       "    </tr>\n",
       "  </tbody>\n",
       "</table>\n",
       "</div>"
      ],
      "text/plain": [
       "   children  days_employed  dob_years            education      family_status  \\\n",
       "0         1          -8437       42.0    bachelor's degree            married   \n",
       "1         1          -4024       36.0  secondary education            married   \n",
       "2         0          -5623       33.0  secondary education            married   \n",
       "3         3          -4124       32.0  secondary education            married   \n",
       "4         0         340266       53.0  secondary education  civil partnership   \n",
       "\n",
       "  gender income_type  debt  total_income                  purpose  \n",
       "0      F    employee     0         40620    purchase of the house  \n",
       "1      F    employee     0         17932             car purchase  \n",
       "2      M    employee     0         23341    purchase of the house  \n",
       "3      M    employee     0         42820  supplementary education  \n",
       "4      F     retiree     0         25378        to have a wedding  "
      ]
     },
     "execution_count": 96,
     "metadata": {},
     "output_type": "execute_result"
    }
   ],
   "source": [
    "credit_data.drop(['education_id', 'family_status_id'], axis=1, inplace=True)\n",
    "credit_data.head()"
   ]
  },
  {
   "cell_type": "markdown",
   "metadata": {},
   "source": [
    "I will use the value_counts() method to identify unique values and their counts in the gender column."
   ]
  },
  {
   "cell_type": "code",
   "execution_count": 97,
   "metadata": {},
   "outputs": [
    {
     "data": {
      "text/plain": [
       "F      14189\n",
       "M       7281\n",
       "XNA        1\n",
       "Name: gender, dtype: int64"
      ]
     },
     "execution_count": 97,
     "metadata": {},
     "output_type": "execute_result"
    }
   ],
   "source": [
    "credit_data['gender'].value_counts()"
   ]
  },
  {
   "cell_type": "markdown",
   "metadata": {},
   "source": [
    "To have two categories in the gender column, I'll replace the XNA with the top gender in the data.\n",
    "\n",
    "Using the describe() method to get summary statistics of the gender column, and accessing top as an attribute of the column, then assigning this attribute to the row that has 'XNA'."
   ]
  },
  {
   "cell_type": "code",
   "execution_count": 98,
   "metadata": {},
   "outputs": [],
   "source": [
    "credit_data.loc[credit_data['gender'] == 'XNA', 'gender'] = credit_data.gender.describe().top"
   ]
  },
  {
   "cell_type": "markdown",
   "metadata": {},
   "source": [
    "I will use the value_counts() method to identify unique values and their counts in the income_type column."
   ]
  },
  {
   "cell_type": "code",
   "execution_count": 99,
   "metadata": {},
   "outputs": [
    {
     "data": {
      "text/plain": [
       "employee                       11091\n",
       "business                        5080\n",
       "retiree                         3837\n",
       "civil servant                   1457\n",
       "unemployed                         2\n",
       "entrepreneur                       2\n",
       "paternity / maternity leave        1\n",
       "student                            1\n",
       "Name: income_type, dtype: int64"
      ]
     },
     "execution_count": 99,
     "metadata": {},
     "output_type": "execute_result"
    }
   ],
   "source": [
    "credit_data['income_type'].value_counts()"
   ]
  },
  {
   "cell_type": "markdown",
   "metadata": {},
   "source": [
    "In cleaning the income_type column, I'll take it that the student is unemployed, and the client on paternity leave is employed(at the time of data collection, he was on leave. But generally he is employed.)\n",
    "\n",
    "So, I'll change that using the loc access method, to access every row in the column, that has a given condition then assign the desired value."
   ]
  },
  {
   "cell_type": "code",
   "execution_count": 100,
   "metadata": {},
   "outputs": [],
   "source": [
    "credit_data.loc[credit_data['income_type'] == 'student', 'income_type'] = 'unemployed'\n",
    "credit_data.loc[credit_data['income_type'] == 'paternity / maternity leave', 'income_type'] = 'employee'"
   ]
  },
  {
   "cell_type": "markdown",
   "metadata": {},
   "source": [
    "A business and entrepreneur should also fall in the same category, so I'll change the entrepreneur to business."
   ]
  },
  {
   "cell_type": "code",
   "execution_count": 101,
   "metadata": {},
   "outputs": [],
   "source": [
    "credit_data.loc[credit_data['income_type'] == 'entrepreneur', 'income_type'] = 'business'"
   ]
  },
  {
   "cell_type": "markdown",
   "metadata": {},
   "source": [
    "I will use Stemming to categorize the strings in the purpose column, because Stemming finds the stem of a given word.\n",
    "\n",
    "NLTK library is used for stemming. the stem() method is used to find the stem of each word."
   ]
  },
  {
   "cell_type": "markdown",
   "metadata": {},
   "source": [
    "I identified unique words in every row in the purpose column, just by eye-balling, and put them in a list.\n",
    "I used the for loop to find the stem of each word. This stem will be used in the next step, to create if conditions."
   ]
  },
  {
   "cell_type": "code",
   "execution_count": 102,
   "metadata": {},
   "outputs": [
    {
     "name": "stdout",
     "output_type": "stream",
     "text": [
      "['wed', 'estat', 'hous', 'properti', 'car', 'educ', 'univers']\n"
     ]
    }
   ],
   "source": [
    "from nltk.stem import SnowballStemmer\n",
    "stemmer = SnowballStemmer('english')\n",
    "\n",
    "#this is almost unnecessary..check again!!!\n",
    "words = ['wedding', 'estate', 'house', 'property', 'car', 'education', 'university']\n",
    "stem = []\n",
    "for word in words:\n",
    "    stem.append(stemmer.stem(word))\n",
    "print(stem)"
   ]
  },
  {
   "cell_type": "markdown",
   "metadata": {},
   "source": [
    "I have defined a function that finds the stem of every word in every row in the purpose column, and checks with a condition to return a given categorical word."
   ]
  },
  {
   "cell_type": "code",
   "execution_count": 103,
   "metadata": {},
   "outputs": [],
   "source": [
    "def purpose_cat(purpose):\n",
    "    stemmed = [stemmer.stem(word) for word in purpose.split(' ')]\n",
    "    if 'wed' in stemmed:\n",
    "        return 'wedding'\n",
    "    if 'estat' in stemmed:\n",
    "        return 'real estate'\n",
    "    if 'hous' in stemmed:\n",
    "        return 'real estate'\n",
    "    if 'properti' in stemmed:\n",
    "        return 'real estate'\n",
    "    if 'car' in stemmed:\n",
    "        return 'car'\n",
    "    if 'educ' in stemmed:\n",
    "        return 'education'\n",
    "    if 'univers' in stemmed:\n",
    "        return 'education'\n",
    "    else:\n",
    "        return 'unknown'"
   ]
  },
  {
   "cell_type": "markdown",
   "metadata": {},
   "source": [
    "I will call the apply() method for the purpose_cat function on the purpose column."
   ]
  },
  {
   "cell_type": "code",
   "execution_count": 104,
   "metadata": {},
   "outputs": [],
   "source": [
    "credit_data['purpose'] = credit_data['purpose'].apply(purpose_cat)\n"
   ]
  },
  {
   "cell_type": "code",
   "execution_count": 105,
   "metadata": {},
   "outputs": [
    {
     "data": {
      "text/plain": [
       "Index(['children', 'days_employed', 'dob_years', 'education', 'family_status',\n",
       "       'gender', 'income_type', 'debt', 'total_income', 'purpose'],\n",
       "      dtype='object')"
      ]
     },
     "execution_count": 105,
     "metadata": {},
     "output_type": "execute_result"
    }
   ],
   "source": [
    "#check data columns\n",
    "credit_data.columns"
   ]
  },
  {
   "cell_type": "markdown",
   "metadata": {},
   "source": [
    "After cleaning and organizing these required columns, now I will use the astype() method with 'category' as an argument, to categorize the columns."
   ]
  },
  {
   "cell_type": "code",
   "execution_count": 106,
   "metadata": {},
   "outputs": [],
   "source": [
    "credit_data['education'] = credit_data.education.astype('category')\n",
    "credit_data['family_status'] = credit_data.family_status.astype('category')\n",
    "credit_data['gender'] = credit_data.gender.astype('category')\n",
    "credit_data['income_type'] = credit_data.income_type.astype('category')\n",
    "credit_data['purpose'] = credit_data.purpose.astype('category')"
   ]
  },
  {
   "cell_type": "code",
   "execution_count": 107,
   "metadata": {},
   "outputs": [
    {
     "name": "stdout",
     "output_type": "stream",
     "text": [
      "<class 'pandas.core.frame.DataFrame'>\n",
      "RangeIndex: 21471 entries, 0 to 21470\n",
      "Data columns (total 10 columns):\n",
      " #   Column         Non-Null Count  Dtype   \n",
      "---  ------         --------------  -----   \n",
      " 0   children       21471 non-null  int64   \n",
      " 1   days_employed  21471 non-null  int64   \n",
      " 2   dob_years      21471 non-null  float64 \n",
      " 3   education      21471 non-null  category\n",
      " 4   family_status  21471 non-null  category\n",
      " 5   gender         21471 non-null  category\n",
      " 6   income_type    21471 non-null  category\n",
      " 7   debt           21471 non-null  int64   \n",
      " 8   total_income   21471 non-null  int64   \n",
      " 9   purpose        21471 non-null  category\n",
      "dtypes: category(5), float64(1), int64(4)\n",
      "memory usage: 944.5 KB\n"
     ]
    }
   ],
   "source": [
    "#check the data types of the columns\n",
    "credit_data.info()"
   ]
  },
  {
   "cell_type": "markdown",
   "metadata": {},
   "source": [
    "In the children column, I'll use the describe() method to obtain summary statistics."
   ]
  },
  {
   "cell_type": "code",
   "execution_count": 108,
   "metadata": {},
   "outputs": [
    {
     "data": {
      "text/plain": [
       "count    21471.000000\n",
       "mean         0.539565\n",
       "std          1.382978\n",
       "min         -1.000000\n",
       "25%          0.000000\n",
       "50%          0.000000\n",
       "75%          1.000000\n",
       "max         20.000000\n",
       "Name: children, dtype: float64"
      ]
     },
     "execution_count": 108,
     "metadata": {},
     "output_type": "execute_result"
    }
   ],
   "source": [
    "credit_data['children'].describe()"
   ]
  },
  {
   "cell_type": "markdown",
   "metadata": {},
   "source": [
    "I can see that there are -1 and 20 children!\n",
    "I'll ground the -1 children to 1, because it could be an error that was made during input.\n",
    "And also, the 20 children to 2, because could an error that was made during input."
   ]
  },
  {
   "cell_type": "code",
   "execution_count": 109,
   "metadata": {},
   "outputs": [
    {
     "data": {
      "text/plain": [
       "0    14107\n",
       "1     4856\n",
       "2     2128\n",
       "3      330\n",
       "4       41\n",
       "5        9\n",
       "Name: children, dtype: int64"
      ]
     },
     "execution_count": 109,
     "metadata": {},
     "output_type": "execute_result"
    }
   ],
   "source": [
    "credit_data.loc[credit_data['children'] == -1, 'children'] = 1\n",
    "credit_data.loc[credit_data['children'] == 20, 'children'] = 2\n",
    "credit_data['children'].value_counts()"
   ]
  },
  {
   "cell_type": "markdown",
   "metadata": {},
   "source": [
    "I will create a function that will group the number of children into categories, and test it."
   ]
  },
  {
   "cell_type": "code",
   "execution_count": 110,
   "metadata": {},
   "outputs": [
    {
     "name": "stdout",
     "output_type": "stream",
     "text": [
      "Most\n"
     ]
    }
   ],
   "source": [
    "def child_group(children):\n",
    "    if children == 0:\n",
    "        return 'None'\n",
    "    if 1 <= children <= 2:\n",
    "        return 'Some'\n",
    "    if 3 <= children <= 4:\n",
    "        return 'Many'\n",
    "    else:\n",
    "        return 'Most'\n",
    "print(child_group(5))"
   ]
  },
  {
   "cell_type": "markdown",
   "metadata": {},
   "source": [
    "I will call the apply() method for the child_group function on the children column."
   ]
  },
  {
   "cell_type": "code",
   "execution_count": 111,
   "metadata": {},
   "outputs": [],
   "source": [
    "credit_data['children'] = credit_data['children'].apply(child_group)"
   ]
  },
  {
   "cell_type": "code",
   "execution_count": 112,
   "metadata": {},
   "outputs": [
    {
     "data": {
      "text/html": [
       "<div>\n",
       "<style scoped>\n",
       "    .dataframe tbody tr th:only-of-type {\n",
       "        vertical-align: middle;\n",
       "    }\n",
       "\n",
       "    .dataframe tbody tr th {\n",
       "        vertical-align: top;\n",
       "    }\n",
       "\n",
       "    .dataframe thead th {\n",
       "        text-align: right;\n",
       "    }\n",
       "</style>\n",
       "<table border=\"1\" class=\"dataframe\">\n",
       "  <thead>\n",
       "    <tr style=\"text-align: right;\">\n",
       "      <th></th>\n",
       "      <th>children</th>\n",
       "      <th>days_employed</th>\n",
       "      <th>dob_years</th>\n",
       "      <th>education</th>\n",
       "      <th>family_status</th>\n",
       "      <th>gender</th>\n",
       "      <th>income_type</th>\n",
       "      <th>debt</th>\n",
       "      <th>total_income</th>\n",
       "      <th>purpose</th>\n",
       "    </tr>\n",
       "  </thead>\n",
       "  <tbody>\n",
       "    <tr>\n",
       "      <th>15612</th>\n",
       "      <td>Some</td>\n",
       "      <td>-1435</td>\n",
       "      <td>28.0</td>\n",
       "      <td>bachelor's degree</td>\n",
       "      <td>civil partnership</td>\n",
       "      <td>F</td>\n",
       "      <td>business</td>\n",
       "      <td>0</td>\n",
       "      <td>25438</td>\n",
       "      <td>wedding</td>\n",
       "    </tr>\n",
       "    <tr>\n",
       "      <th>9025</th>\n",
       "      <td>None</td>\n",
       "      <td>-386</td>\n",
       "      <td>25.0</td>\n",
       "      <td>secondary education</td>\n",
       "      <td>civil partnership</td>\n",
       "      <td>F</td>\n",
       "      <td>employee</td>\n",
       "      <td>0</td>\n",
       "      <td>16823</td>\n",
       "      <td>real estate</td>\n",
       "    </tr>\n",
       "    <tr>\n",
       "      <th>19540</th>\n",
       "      <td>None</td>\n",
       "      <td>0</td>\n",
       "      <td>42.0</td>\n",
       "      <td>secondary education</td>\n",
       "      <td>civil partnership</td>\n",
       "      <td>F</td>\n",
       "      <td>employee</td>\n",
       "      <td>0</td>\n",
       "      <td>0</td>\n",
       "      <td>education</td>\n",
       "    </tr>\n",
       "    <tr>\n",
       "      <th>8467</th>\n",
       "      <td>None</td>\n",
       "      <td>-3112</td>\n",
       "      <td>52.0</td>\n",
       "      <td>some college</td>\n",
       "      <td>married</td>\n",
       "      <td>M</td>\n",
       "      <td>employee</td>\n",
       "      <td>1</td>\n",
       "      <td>12654</td>\n",
       "      <td>real estate</td>\n",
       "    </tr>\n",
       "    <tr>\n",
       "      <th>5828</th>\n",
       "      <td>None</td>\n",
       "      <td>375749</td>\n",
       "      <td>62.0</td>\n",
       "      <td>secondary education</td>\n",
       "      <td>married</td>\n",
       "      <td>F</td>\n",
       "      <td>retiree</td>\n",
       "      <td>0</td>\n",
       "      <td>21103</td>\n",
       "      <td>real estate</td>\n",
       "    </tr>\n",
       "    <tr>\n",
       "      <th>16783</th>\n",
       "      <td>None</td>\n",
       "      <td>354210</td>\n",
       "      <td>60.0</td>\n",
       "      <td>secondary education</td>\n",
       "      <td>widow / widower</td>\n",
       "      <td>F</td>\n",
       "      <td>retiree</td>\n",
       "      <td>1</td>\n",
       "      <td>8282</td>\n",
       "      <td>car</td>\n",
       "    </tr>\n",
       "    <tr>\n",
       "      <th>16273</th>\n",
       "      <td>Some</td>\n",
       "      <td>-3291</td>\n",
       "      <td>33.0</td>\n",
       "      <td>secondary education</td>\n",
       "      <td>married</td>\n",
       "      <td>F</td>\n",
       "      <td>employee</td>\n",
       "      <td>0</td>\n",
       "      <td>20316</td>\n",
       "      <td>real estate</td>\n",
       "    </tr>\n",
       "    <tr>\n",
       "      <th>16676</th>\n",
       "      <td>None</td>\n",
       "      <td>-3343</td>\n",
       "      <td>59.0</td>\n",
       "      <td>secondary education</td>\n",
       "      <td>married</td>\n",
       "      <td>M</td>\n",
       "      <td>business</td>\n",
       "      <td>0</td>\n",
       "      <td>49928</td>\n",
       "      <td>real estate</td>\n",
       "    </tr>\n",
       "    <tr>\n",
       "      <th>17288</th>\n",
       "      <td>None</td>\n",
       "      <td>395933</td>\n",
       "      <td>57.0</td>\n",
       "      <td>secondary education</td>\n",
       "      <td>married</td>\n",
       "      <td>F</td>\n",
       "      <td>retiree</td>\n",
       "      <td>0</td>\n",
       "      <td>28266</td>\n",
       "      <td>real estate</td>\n",
       "    </tr>\n",
       "    <tr>\n",
       "      <th>279</th>\n",
       "      <td>None</td>\n",
       "      <td>0</td>\n",
       "      <td>44.0</td>\n",
       "      <td>secondary education</td>\n",
       "      <td>civil partnership</td>\n",
       "      <td>F</td>\n",
       "      <td>employee</td>\n",
       "      <td>0</td>\n",
       "      <td>0</td>\n",
       "      <td>real estate</td>\n",
       "    </tr>\n",
       "    <tr>\n",
       "      <th>2624</th>\n",
       "      <td>None</td>\n",
       "      <td>-459</td>\n",
       "      <td>26.0</td>\n",
       "      <td>secondary education</td>\n",
       "      <td>divorced</td>\n",
       "      <td>F</td>\n",
       "      <td>business</td>\n",
       "      <td>0</td>\n",
       "      <td>22069</td>\n",
       "      <td>education</td>\n",
       "    </tr>\n",
       "    <tr>\n",
       "      <th>16921</th>\n",
       "      <td>Some</td>\n",
       "      <td>-358</td>\n",
       "      <td>49.0</td>\n",
       "      <td>secondary education</td>\n",
       "      <td>divorced</td>\n",
       "      <td>M</td>\n",
       "      <td>employee</td>\n",
       "      <td>1</td>\n",
       "      <td>16715</td>\n",
       "      <td>real estate</td>\n",
       "    </tr>\n",
       "    <tr>\n",
       "      <th>7905</th>\n",
       "      <td>None</td>\n",
       "      <td>-1879</td>\n",
       "      <td>64.0</td>\n",
       "      <td>secondary education</td>\n",
       "      <td>civil partnership</td>\n",
       "      <td>M</td>\n",
       "      <td>business</td>\n",
       "      <td>0</td>\n",
       "      <td>19353</td>\n",
       "      <td>real estate</td>\n",
       "    </tr>\n",
       "    <tr>\n",
       "      <th>4264</th>\n",
       "      <td>None</td>\n",
       "      <td>379394</td>\n",
       "      <td>61.0</td>\n",
       "      <td>secondary education</td>\n",
       "      <td>married</td>\n",
       "      <td>F</td>\n",
       "      <td>retiree</td>\n",
       "      <td>0</td>\n",
       "      <td>29731</td>\n",
       "      <td>education</td>\n",
       "    </tr>\n",
       "    <tr>\n",
       "      <th>8406</th>\n",
       "      <td>Some</td>\n",
       "      <td>0</td>\n",
       "      <td>45.0</td>\n",
       "      <td>bachelor's degree</td>\n",
       "      <td>married</td>\n",
       "      <td>M</td>\n",
       "      <td>employee</td>\n",
       "      <td>0</td>\n",
       "      <td>0</td>\n",
       "      <td>car</td>\n",
       "    </tr>\n",
       "    <tr>\n",
       "      <th>9924</th>\n",
       "      <td>None</td>\n",
       "      <td>364967</td>\n",
       "      <td>62.0</td>\n",
       "      <td>bachelor's degree</td>\n",
       "      <td>divorced</td>\n",
       "      <td>M</td>\n",
       "      <td>retiree</td>\n",
       "      <td>0</td>\n",
       "      <td>59900</td>\n",
       "      <td>car</td>\n",
       "    </tr>\n",
       "    <tr>\n",
       "      <th>722</th>\n",
       "      <td>Some</td>\n",
       "      <td>-541</td>\n",
       "      <td>32.0</td>\n",
       "      <td>bachelor's degree</td>\n",
       "      <td>married</td>\n",
       "      <td>M</td>\n",
       "      <td>business</td>\n",
       "      <td>0</td>\n",
       "      <td>107568</td>\n",
       "      <td>car</td>\n",
       "    </tr>\n",
       "    <tr>\n",
       "      <th>15862</th>\n",
       "      <td>None</td>\n",
       "      <td>-2816</td>\n",
       "      <td>51.0</td>\n",
       "      <td>secondary education</td>\n",
       "      <td>married</td>\n",
       "      <td>F</td>\n",
       "      <td>business</td>\n",
       "      <td>0</td>\n",
       "      <td>24529</td>\n",
       "      <td>car</td>\n",
       "    </tr>\n",
       "    <tr>\n",
       "      <th>8493</th>\n",
       "      <td>Some</td>\n",
       "      <td>-3313</td>\n",
       "      <td>55.0</td>\n",
       "      <td>bachelor's degree</td>\n",
       "      <td>married</td>\n",
       "      <td>F</td>\n",
       "      <td>employee</td>\n",
       "      <td>0</td>\n",
       "      <td>18303</td>\n",
       "      <td>car</td>\n",
       "    </tr>\n",
       "    <tr>\n",
       "      <th>2983</th>\n",
       "      <td>None</td>\n",
       "      <td>336908</td>\n",
       "      <td>57.0</td>\n",
       "      <td>secondary education</td>\n",
       "      <td>married</td>\n",
       "      <td>F</td>\n",
       "      <td>retiree</td>\n",
       "      <td>0</td>\n",
       "      <td>18699</td>\n",
       "      <td>real estate</td>\n",
       "    </tr>\n",
       "  </tbody>\n",
       "</table>\n",
       "</div>"
      ],
      "text/plain": [
       "      children  days_employed  dob_years            education  \\\n",
       "15612     Some          -1435       28.0    bachelor's degree   \n",
       "9025      None           -386       25.0  secondary education   \n",
       "19540     None              0       42.0  secondary education   \n",
       "8467      None          -3112       52.0         some college   \n",
       "5828      None         375749       62.0  secondary education   \n",
       "16783     None         354210       60.0  secondary education   \n",
       "16273     Some          -3291       33.0  secondary education   \n",
       "16676     None          -3343       59.0  secondary education   \n",
       "17288     None         395933       57.0  secondary education   \n",
       "279       None              0       44.0  secondary education   \n",
       "2624      None           -459       26.0  secondary education   \n",
       "16921     Some           -358       49.0  secondary education   \n",
       "7905      None          -1879       64.0  secondary education   \n",
       "4264      None         379394       61.0  secondary education   \n",
       "8406      Some              0       45.0    bachelor's degree   \n",
       "9924      None         364967       62.0    bachelor's degree   \n",
       "722       Some           -541       32.0    bachelor's degree   \n",
       "15862     None          -2816       51.0  secondary education   \n",
       "8493      Some          -3313       55.0    bachelor's degree   \n",
       "2983      None         336908       57.0  secondary education   \n",
       "\n",
       "           family_status gender income_type  debt  total_income      purpose  \n",
       "15612  civil partnership      F    business     0         25438      wedding  \n",
       "9025   civil partnership      F    employee     0         16823  real estate  \n",
       "19540  civil partnership      F    employee     0             0    education  \n",
       "8467             married      M    employee     1         12654  real estate  \n",
       "5828             married      F     retiree     0         21103  real estate  \n",
       "16783    widow / widower      F     retiree     1          8282          car  \n",
       "16273            married      F    employee     0         20316  real estate  \n",
       "16676            married      M    business     0         49928  real estate  \n",
       "17288            married      F     retiree     0         28266  real estate  \n",
       "279    civil partnership      F    employee     0             0  real estate  \n",
       "2624            divorced      F    business     0         22069    education  \n",
       "16921           divorced      M    employee     1         16715  real estate  \n",
       "7905   civil partnership      M    business     0         19353  real estate  \n",
       "4264             married      F     retiree     0         29731    education  \n",
       "8406             married      M    employee     0             0          car  \n",
       "9924            divorced      M     retiree     0         59900          car  \n",
       "722              married      M    business     0        107568          car  \n",
       "15862            married      F    business     0         24529          car  \n",
       "8493             married      F    employee     0         18303          car  \n",
       "2983             married      F     retiree     0         18699  real estate  "
      ]
     },
     "execution_count": 112,
     "metadata": {},
     "output_type": "execute_result"
    }
   ],
   "source": [
    "#sample the data\n",
    "credit_data.sample(20)"
   ]
  },
  {
   "cell_type": "markdown",
   "metadata": {},
   "source": [
    "I will use the value_counts() method to identify unique values and their counts in the debt column."
   ]
  },
  {
   "cell_type": "code",
   "execution_count": 113,
   "metadata": {},
   "outputs": [
    {
     "data": {
      "text/plain": [
       "0    19730\n",
       "1     1741\n",
       "Name: debt, dtype: int64"
      ]
     },
     "execution_count": 113,
     "metadata": {},
     "output_type": "execute_result"
    }
   ],
   "source": [
    "credit_data['debt'].value_counts()"
   ]
  },
  {
   "cell_type": "markdown",
   "metadata": {},
   "source": [
    "I will create a function that returns a string to define 0 as having paid the debt, and 1 as having defaulted on paying the debt."
   ]
  },
  {
   "cell_type": "code",
   "execution_count": 114,
   "metadata": {},
   "outputs": [],
   "source": [
    "def debt_group(debt):\n",
    "    if debt == 0:\n",
    "        return 'paid'\n",
    "    else:\n",
    "        return 'defaulted'"
   ]
  },
  {
   "cell_type": "markdown",
   "metadata": {},
   "source": [
    "I will then create a new column: debt_group and call the apply() method for the debt_group function on the debt column."
   ]
  },
  {
   "cell_type": "code",
   "execution_count": 115,
   "metadata": {},
   "outputs": [],
   "source": [
    "credit_data['debt_group'] = credit_data['debt'].apply(debt_group)"
   ]
  },
  {
   "cell_type": "markdown",
   "metadata": {},
   "source": [
    "I will categorize the new columns that I created."
   ]
  },
  {
   "cell_type": "code",
   "execution_count": 116,
   "metadata": {},
   "outputs": [],
   "source": [
    "credit_data['debt_group'] = credit_data['debt_group'].astype('category')\n",
    "credit_data['children'] = credit_data['children'].astype('category')"
   ]
  },
  {
   "cell_type": "code",
   "execution_count": 128,
   "metadata": {},
   "outputs": [
    {
     "data": {
      "text/plain": [
       "count    21471.000000\n",
       "mean        43.476643\n",
       "std         12.217612\n",
       "min         19.000000\n",
       "25%         33.500000\n",
       "50%         42.000000\n",
       "75%         53.000000\n",
       "max         75.000000\n",
       "Name: dob_years, dtype: float64"
      ]
     },
     "execution_count": 128,
     "metadata": {},
     "output_type": "execute_result"
    }
   ],
   "source": [
    "#check the age column\n",
    "credit_data['dob_years'].describe()"
   ]
  },
  {
   "cell_type": "code",
   "execution_count": 118,
   "metadata": {},
   "outputs": [],
   "source": [
    "#change dob_years to int\n",
    "credit_data['dob_years'] = credit_data['dob_years'].astype('int64')"
   ]
  },
  {
   "cell_type": "code",
   "execution_count": 119,
   "metadata": {},
   "outputs": [
    {
     "name": "stdout",
     "output_type": "stream",
     "text": [
      "<class 'pandas.core.frame.DataFrame'>\n",
      "RangeIndex: 21471 entries, 0 to 21470\n",
      "Data columns (total 11 columns):\n",
      " #   Column         Non-Null Count  Dtype   \n",
      "---  ------         --------------  -----   \n",
      " 0   children       21471 non-null  category\n",
      " 1   days_employed  21471 non-null  int64   \n",
      " 2   dob_years      21471 non-null  int64   \n",
      " 3   education      21471 non-null  category\n",
      " 4   family_status  21471 non-null  category\n",
      " 5   gender         21471 non-null  category\n",
      " 6   income_type    21471 non-null  category\n",
      " 7   debt           21471 non-null  int64   \n",
      " 8   total_income   21471 non-null  int64   \n",
      " 9   purpose        21471 non-null  category\n",
      " 10  debt_group     21471 non-null  category\n",
      "dtypes: category(7), int64(4)\n",
      "memory usage: 819.0 KB\n"
     ]
    }
   ],
   "source": [
    "credit_data.info()"
   ]
  },
  {
   "cell_type": "code",
   "execution_count": 120,
   "metadata": {},
   "outputs": [],
   "source": [
    "#create dictionaries\n",
    "#which dictionaries you've selected for this data set and why.\n",
    "#education, family_status\n",
    "#create a dictionary, and drop the id column and then categorize in the remaining column\n",
    "#chiildren and purpose, categorize directly don't create a new column"
   ]
  },
  {
   "cell_type": "code",
   "execution_count": null,
   "metadata": {},
   "outputs": [],
   "source": []
  },
  {
   "cell_type": "code",
   "execution_count": null,
   "metadata": {},
   "outputs": [],
   "source": []
  },
  {
   "cell_type": "markdown",
   "metadata": {},
   "source": [
    "### Task 3"
   ]
  },
  {
   "cell_type": "markdown",
   "metadata": {},
   "source": [
    "#### Is there a connection between having kids and repaying a loan on time?"
   ]
  },
  {
   "cell_type": "markdown",
   "metadata": {},
   "source": [
    "I will create pivot tables to concentrate data on chosen aspects.\n",
    "\n",
    "Using the pivot_table() method with index, values, columns and aggfunc arguments.\n",
    "I will rename the columns and drop the column with defaulted values, since it is of no use in my analysis.\n",
    "I will then calculate the percentage of paid loans with each variable to find a connection."
   ]
  },
  {
   "cell_type": "code",
   "execution_count": 123,
   "metadata": {},
   "outputs": [
    {
     "name": "stdout",
     "output_type": "stream",
     "text": [
      "             paid  total       %paid\n",
      "children                            \n",
      "Most          9.0      9  100.000000\n",
      "None      13044.0  14107   92.464734\n",
      "Many        340.0    371   91.644205\n",
      "Some       6337.0   6984   90.735968\n"
     ]
    }
   ],
   "source": [
    "children = credit_data.pivot_table(index=['children'], values='debt', columns='debt_group', aggfunc=['count'])\n",
    "\n",
    "#type(children)\n",
    "children.columns = ['defaulted', 'paid']\n",
    "children.drop('defaulted', axis=1, inplace=True)\n",
    "#children.columns\n",
    "children['total'] = credit_data.groupby('children')['debt_group'].count()\n",
    "children['%paid'] = (children['paid'] / children['total']) * 100\n",
    "print(children.sort_values(by='%paid', ascending=False))"
   ]
  },
  {
   "cell_type": "markdown",
   "metadata": {},
   "source": [
    "##### There is no connection between having kids and repaying a loan on time, because the group with most children paid all their loans and then the group with no children came second, yet they had more loan counts."
   ]
  },
  {
   "cell_type": "markdown",
   "metadata": {},
   "source": [
    "#### Is there a connection between marital status and repaying a loan on time?"
   ]
  },
  {
   "cell_type": "code",
   "execution_count": 124,
   "metadata": {},
   "outputs": [
    {
     "name": "stdout",
     "output_type": "stream",
     "text": [
      "                    paid  total      %paid\n",
      "family_status                             \n",
      "widow / widower      896    959  93.430657\n",
      "divorced            1110   1195  92.887029\n",
      "married            11413  12344  92.457874\n",
      "civil partnership   3775   4163  90.679798\n",
      "unmarried           2536   2810  90.249110\n"
     ]
    }
   ],
   "source": [
    "family = credit_data.pivot_table(index='family_status', values='debt', columns='debt_group', aggfunc='count')\n",
    "family.columns = ['defaulted', 'paid']\n",
    "family.drop('defaulted', axis=1, inplace=True)\n",
    "family['total'] = credit_data.groupby('family_status')['debt_group'].count()\n",
    "family['%paid'] = (family['paid'] / family['total']) * 100\n",
    "print(family.sort_values(by='%paid', ascending=False))"
   ]
  },
  {
   "cell_type": "markdown",
   "metadata": {},
   "source": [
    "#### Yes, there is. Widow/widower paid their loans the most, followed closely by divorced group.\n",
    "\n",
    "#### The unmarried group paid their loans the least."
   ]
  },
  {
   "cell_type": "markdown",
   "metadata": {},
   "source": [
    "#### Is there a connection between income level and repaying a loan on time?"
   ]
  },
  {
   "cell_type": "code",
   "execution_count": 125,
   "metadata": {},
   "outputs": [
    {
     "name": "stdout",
     "output_type": "stream",
     "text": [
      "                paid  total      %paid\n",
      "income_type                           \n",
      "retiree         3621   3837  94.370602\n",
      "civil servant   1371   1457  94.097461\n",
      "business        4706   5082  92.601338\n",
      "employee       10030  11092  90.425532\n",
      "unemployed         2      3  66.666667\n"
     ]
    }
   ],
   "source": [
    "income = credit_data.pivot_table(index='income_type', values='debt', columns='debt_group', aggfunc='count')\n",
    "income.columns = ['defaulted', 'paid']\n",
    "income.drop('defaulted', axis=1, inplace=True)\n",
    "income['total'] = credit_data.groupby('income_type')['debt_group'].count()\n",
    "income['%paid'] = (income['paid'] / income['total']) * 100\n",
    "print(income.sort_values(by='%paid', ascending=False))"
   ]
  },
  {
   "cell_type": "markdown",
   "metadata": {},
   "source": [
    "##### Retirees and civil servants pay their loans on time, followed by business and employed groups.\n",
    "\n",
    "##### Umemployed group paid their loans the least."
   ]
  },
  {
   "cell_type": "markdown",
   "metadata": {},
   "source": [
    "#### How do different loan purposes affect timely loan repayment?"
   ]
  },
  {
   "cell_type": "code",
   "execution_count": 126,
   "metadata": {},
   "outputs": [
    {
     "name": "stdout",
     "output_type": "stream",
     "text": [
      "              paid  total      %paid\n",
      "purpose                             \n",
      "real estate  10032  10814  92.768633\n",
      "wedding       2149   2335  92.034261\n",
      "education     3644   4014  90.782262\n",
      "car           3905   4308  90.645311\n"
     ]
    }
   ],
   "source": [
    "purposes = credit_data.pivot_table(index='purpose', values='debt', columns='debt_group', aggfunc='count')\n",
    "purposes.columns = ['defaulted', 'paid']\n",
    "purposes.drop('defaulted', axis=1, inplace=True)\n",
    "purposes['total'] = credit_data.groupby('purpose')['debt_group'].count()\n",
    "purposes['%paid'] = (purposes['paid'] / purposes['total']) * 100\n",
    "print(purposes.sort_values(by='%paid', ascending=False))"
   ]
  },
  {
   "cell_type": "markdown",
   "metadata": {},
   "source": [
    "#### For the Real Estate purpose, the clients paid the loans the most, followed by Wedding.\n",
    "\n",
    "#### Education and Car purposes paid their loans the least."
   ]
  },
  {
   "cell_type": "code",
   "execution_count": 127,
   "metadata": {
    "scrolled": true
   },
   "outputs": [
    {
     "name": "stdout",
     "output_type": "stream",
     "text": [
      "The function has raised an error.\n"
     ]
    }
   ],
   "source": [
    "#create a function for the tasks that sorts the values automatically.\n",
    "#reusable code:\n",
    "def sort_percentage(data):\n",
    "        return data.sort_values(ascending=False)\n",
    "try:\n",
    "    top = purposes['%paid'].apply(sort_percentage)\n",
    "    print(top)\n",
    "except:\n",
    "    print('The function has raised an error.')"
   ]
  },
  {
   "cell_type": "code",
   "execution_count": null,
   "metadata": {},
   "outputs": [],
   "source": []
  },
  {
   "cell_type": "code",
   "execution_count": null,
   "metadata": {},
   "outputs": [],
   "source": []
  }
 ],
 "metadata": {
  "kernelspec": {
   "display_name": "Python 3",
   "language": "python",
   "name": "python3"
  },
  "language_info": {
   "codemirror_mode": {
    "name": "ipython",
    "version": 3
   },
   "file_extension": ".py",
   "mimetype": "text/x-python",
   "name": "python",
   "nbconvert_exporter": "python",
   "pygments_lexer": "ipython3",
   "version": "3.7.6"
  }
 },
 "nbformat": 4,
 "nbformat_minor": 4
}
