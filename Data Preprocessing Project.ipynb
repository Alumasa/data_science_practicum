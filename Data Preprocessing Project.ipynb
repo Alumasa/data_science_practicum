{
 "cells": [
  {
   "cell_type": "code",
   "execution_count": 1,
   "metadata": {},
   "outputs": [],
   "source": [
    "import pandas as pd\n",
    "import numpy as np"
   ]
  },
  {
   "cell_type": "code",
   "execution_count": 2,
   "metadata": {},
   "outputs": [
    {
     "data": {
      "text/html": [
       "<div>\n",
       "<style scoped>\n",
       "    .dataframe tbody tr th:only-of-type {\n",
       "        vertical-align: middle;\n",
       "    }\n",
       "\n",
       "    .dataframe tbody tr th {\n",
       "        vertical-align: top;\n",
       "    }\n",
       "\n",
       "    .dataframe thead th {\n",
       "        text-align: right;\n",
       "    }\n",
       "</style>\n",
       "<table border=\"1\" class=\"dataframe\">\n",
       "  <thead>\n",
       "    <tr style=\"text-align: right;\">\n",
       "      <th></th>\n",
       "      <th>children</th>\n",
       "      <th>days_employed</th>\n",
       "      <th>dob_years</th>\n",
       "      <th>education</th>\n",
       "      <th>education_id</th>\n",
       "      <th>family_status</th>\n",
       "      <th>family_status_id</th>\n",
       "      <th>gender</th>\n",
       "      <th>income_type</th>\n",
       "      <th>debt</th>\n",
       "      <th>total_income</th>\n",
       "      <th>purpose</th>\n",
       "    </tr>\n",
       "  </thead>\n",
       "  <tbody>\n",
       "    <tr>\n",
       "      <th>0</th>\n",
       "      <td>1</td>\n",
       "      <td>-8437.673028</td>\n",
       "      <td>42</td>\n",
       "      <td>bachelor's degree</td>\n",
       "      <td>0</td>\n",
       "      <td>married</td>\n",
       "      <td>0</td>\n",
       "      <td>F</td>\n",
       "      <td>employee</td>\n",
       "      <td>0</td>\n",
       "      <td>40620.102</td>\n",
       "      <td>purchase of the house</td>\n",
       "    </tr>\n",
       "    <tr>\n",
       "      <th>1</th>\n",
       "      <td>1</td>\n",
       "      <td>-4024.803754</td>\n",
       "      <td>36</td>\n",
       "      <td>secondary education</td>\n",
       "      <td>1</td>\n",
       "      <td>married</td>\n",
       "      <td>0</td>\n",
       "      <td>F</td>\n",
       "      <td>employee</td>\n",
       "      <td>0</td>\n",
       "      <td>17932.802</td>\n",
       "      <td>car purchase</td>\n",
       "    </tr>\n",
       "    <tr>\n",
       "      <th>2</th>\n",
       "      <td>0</td>\n",
       "      <td>-5623.422610</td>\n",
       "      <td>33</td>\n",
       "      <td>Secondary Education</td>\n",
       "      <td>1</td>\n",
       "      <td>married</td>\n",
       "      <td>0</td>\n",
       "      <td>M</td>\n",
       "      <td>employee</td>\n",
       "      <td>0</td>\n",
       "      <td>23341.752</td>\n",
       "      <td>purchase of the house</td>\n",
       "    </tr>\n",
       "    <tr>\n",
       "      <th>3</th>\n",
       "      <td>3</td>\n",
       "      <td>-4124.747207</td>\n",
       "      <td>32</td>\n",
       "      <td>secondary education</td>\n",
       "      <td>1</td>\n",
       "      <td>married</td>\n",
       "      <td>0</td>\n",
       "      <td>M</td>\n",
       "      <td>employee</td>\n",
       "      <td>0</td>\n",
       "      <td>42820.568</td>\n",
       "      <td>supplementary education</td>\n",
       "    </tr>\n",
       "    <tr>\n",
       "      <th>4</th>\n",
       "      <td>0</td>\n",
       "      <td>340266.072047</td>\n",
       "      <td>53</td>\n",
       "      <td>secondary education</td>\n",
       "      <td>1</td>\n",
       "      <td>civil partnership</td>\n",
       "      <td>1</td>\n",
       "      <td>F</td>\n",
       "      <td>retiree</td>\n",
       "      <td>0</td>\n",
       "      <td>25378.572</td>\n",
       "      <td>to have a wedding</td>\n",
       "    </tr>\n",
       "  </tbody>\n",
       "</table>\n",
       "</div>"
      ],
      "text/plain": [
       "   children  days_employed  dob_years            education  education_id  \\\n",
       "0         1   -8437.673028         42    bachelor's degree             0   \n",
       "1         1   -4024.803754         36  secondary education             1   \n",
       "2         0   -5623.422610         33  Secondary Education             1   \n",
       "3         3   -4124.747207         32  secondary education             1   \n",
       "4         0  340266.072047         53  secondary education             1   \n",
       "\n",
       "       family_status  family_status_id gender income_type  debt  total_income  \\\n",
       "0            married                 0      F    employee     0     40620.102   \n",
       "1            married                 0      F    employee     0     17932.802   \n",
       "2            married                 0      M    employee     0     23341.752   \n",
       "3            married                 0      M    employee     0     42820.568   \n",
       "4  civil partnership                 1      F     retiree     0     25378.572   \n",
       "\n",
       "                   purpose  \n",
       "0    purchase of the house  \n",
       "1             car purchase  \n",
       "2    purchase of the house  \n",
       "3  supplementary education  \n",
       "4        to have a wedding  "
      ]
     },
     "execution_count": 2,
     "metadata": {},
     "output_type": "execute_result"
    }
   ],
   "source": [
    "#Read the data\n",
    "credit_data = pd.read_csv('credit_scoring_eng.csv')\n",
    "credit_data.head()"
   ]
  },
  {
   "cell_type": "code",
   "execution_count": 3,
   "metadata": {},
   "outputs": [
    {
     "name": "stdout",
     "output_type": "stream",
     "text": [
      "<class 'pandas.core.frame.DataFrame'>\n",
      "RangeIndex: 21525 entries, 0 to 21524\n",
      "Data columns (total 12 columns):\n",
      " #   Column            Non-Null Count  Dtype  \n",
      "---  ------            --------------  -----  \n",
      " 0   children          21525 non-null  int64  \n",
      " 1   days_employed     19351 non-null  float64\n",
      " 2   dob_years         21525 non-null  int64  \n",
      " 3   education         21525 non-null  object \n",
      " 4   education_id      21525 non-null  int64  \n",
      " 5   family_status     21525 non-null  object \n",
      " 6   family_status_id  21525 non-null  int64  \n",
      " 7   gender            21525 non-null  object \n",
      " 8   income_type       21525 non-null  object \n",
      " 9   debt              21525 non-null  int64  \n",
      " 10  total_income      19351 non-null  float64\n",
      " 11  purpose           21525 non-null  object \n",
      "dtypes: float64(2), int64(5), object(5)\n",
      "memory usage: 2.0+ MB\n"
     ]
    }
   ],
   "source": [
    "#Look at the data types and nulls of columns in the DataFrame\n",
    "credit_data.info()"
   ]
  },
  {
   "cell_type": "code",
   "execution_count": 4,
   "metadata": {},
   "outputs": [
    {
     "data": {
      "text/plain": [
       "(21525, 12)"
      ]
     },
     "execution_count": 4,
     "metadata": {},
     "output_type": "execute_result"
    }
   ],
   "source": [
    "#What is the shape of the DataFrame?\n",
    "credit_data.shape"
   ]
  },
  {
   "cell_type": "code",
   "execution_count": null,
   "metadata": {},
   "outputs": [],
   "source": []
  },
  {
   "cell_type": "code",
   "execution_count": 5,
   "metadata": {},
   "outputs": [],
   "source": [
    "#I'll drop the 'days_employed' column since it will not provide any information in my analysis.\n",
    "#credit_data.drop(['days_employed'], axis=1, inplace=True)"
   ]
  },
  {
   "cell_type": "code",
   "execution_count": null,
   "metadata": {},
   "outputs": [],
   "source": []
  },
  {
   "cell_type": "code",
   "execution_count": 6,
   "metadata": {},
   "outputs": [
    {
     "name": "stdout",
     "output_type": "stream",
     "text": [
      "<class 'pandas.core.frame.DataFrame'>\n",
      "RangeIndex: 21525 entries, 0 to 21524\n",
      "Data columns (total 12 columns):\n",
      " #   Column            Non-Null Count  Dtype  \n",
      "---  ------            --------------  -----  \n",
      " 0   children          21525 non-null  int64  \n",
      " 1   days_employed     19351 non-null  float64\n",
      " 2   dob_years         21525 non-null  int64  \n",
      " 3   education         21525 non-null  object \n",
      " 4   education_id      21525 non-null  int64  \n",
      " 5   family_status     21525 non-null  object \n",
      " 6   family_status_id  21525 non-null  int64  \n",
      " 7   gender            21525 non-null  object \n",
      " 8   income_type       21525 non-null  object \n",
      " 9   debt              21525 non-null  int64  \n",
      " 10  total_income      19351 non-null  float64\n",
      " 11  purpose           21525 non-null  object \n",
      "dtypes: float64(2), int64(5), object(5)\n",
      "memory usage: 2.0+ MB\n"
     ]
    }
   ],
   "source": [
    "#Identify and fill in missing values\n",
    "credit_data.info()"
   ]
  },
  {
   "cell_type": "code",
   "execution_count": 7,
   "metadata": {},
   "outputs": [
    {
     "data": {
      "text/plain": [
       "children               0\n",
       "days_employed       2174\n",
       "dob_years              0\n",
       "education              0\n",
       "education_id           0\n",
       "family_status          0\n",
       "family_status_id       0\n",
       "gender                 0\n",
       "income_type            0\n",
       "debt                   0\n",
       "total_income        2174\n",
       "purpose                0\n",
       "dtype: int64"
      ]
     },
     "execution_count": 7,
     "metadata": {},
     "output_type": "execute_result"
    }
   ],
   "source": [
    "#count number of nulls in every column\n",
    "credit_data.isnull().sum()\n",
    "#total_income has 2174 null values."
   ]
  },
  {
   "cell_type": "code",
   "execution_count": 8,
   "metadata": {},
   "outputs": [
    {
     "data": {
      "text/plain": [
       "children            0\n",
       "days_employed       0\n",
       "dob_years           0\n",
       "education           0\n",
       "education_id        0\n",
       "family_status       0\n",
       "family_status_id    0\n",
       "gender              0\n",
       "income_type         0\n",
       "debt                0\n",
       "total_income        0\n",
       "purpose             0\n",
       "dtype: int64"
      ]
     },
     "execution_count": 8,
     "metadata": {},
     "output_type": "execute_result"
    }
   ],
   "source": [
    "#I assume that null values in the total_income and days_employed are not missing by random.*Check notes to explain further\n",
    "#They are related, meaning no employment.\n",
    "#I'll fill in the null values with 0 in the total_income and days_employed columns\n",
    "credit_data.fillna(value=0, axis=1, inplace=True)\n",
    "credit_data.isnull().sum()"
   ]
  },
  {
   "cell_type": "code",
   "execution_count": 9,
   "metadata": {},
   "outputs": [
    {
     "name": "stdout",
     "output_type": "stream",
     "text": [
      "<class 'pandas.core.frame.DataFrame'>\n",
      "RangeIndex: 21525 entries, 0 to 21524\n",
      "Data columns (total 12 columns):\n",
      " #   Column            Non-Null Count  Dtype  \n",
      "---  ------            --------------  -----  \n",
      " 0   children          21525 non-null  int64  \n",
      " 1   days_employed     21525 non-null  float64\n",
      " 2   dob_years         21525 non-null  int64  \n",
      " 3   education         21525 non-null  object \n",
      " 4   education_id      21525 non-null  int64  \n",
      " 5   family_status     21525 non-null  object \n",
      " 6   family_status_id  21525 non-null  int64  \n",
      " 7   gender            21525 non-null  object \n",
      " 8   income_type       21525 non-null  object \n",
      " 9   debt              21525 non-null  int64  \n",
      " 10  total_income      21525 non-null  float64\n",
      " 11  purpose           21525 non-null  object \n",
      "dtypes: float64(2), int64(5), object(5)\n",
      "memory usage: 2.0+ MB\n",
      "None\n"
     ]
    }
   ],
   "source": [
    "#Replace floats with integer data type\n",
    "print(credit_data.info())"
   ]
  },
  {
   "cell_type": "code",
   "execution_count": 10,
   "metadata": {},
   "outputs": [],
   "source": [
    "#I'll relace the columns with type 'float64' to type 'int64' using np.int64\n",
    "#days_employed to int\n",
    "credit_data['days_employed'] = credit_data['days_employed'].astype(np.int64)"
   ]
  },
  {
   "cell_type": "code",
   "execution_count": 11,
   "metadata": {},
   "outputs": [],
   "source": [
    "#total_income to int\n",
    "credit_data['total_income'] = credit_data['total_income'].astype(np.int64)"
   ]
  },
  {
   "cell_type": "code",
   "execution_count": 12,
   "metadata": {},
   "outputs": [
    {
     "name": "stdout",
     "output_type": "stream",
     "text": [
      "54\n"
     ]
    }
   ],
   "source": [
    "#Lookin at duplicated rows in the data\n",
    "print(credit_data.duplicated().sum())"
   ]
  },
  {
   "cell_type": "code",
   "execution_count": 13,
   "metadata": {},
   "outputs": [],
   "source": [
    "#drop duplicate rows\n",
    "#I use the keyword argument 'ignore_index', so that i dont have to reset the index\n",
    "credit_data.drop_duplicates(inplace=True, ignore_index=True)"
   ]
  },
  {
   "cell_type": "code",
   "execution_count": 14,
   "metadata": {},
   "outputs": [
    {
     "data": {
      "text/plain": [
       "(21471, 12)"
      ]
     },
     "execution_count": 14,
     "metadata": {},
     "output_type": "execute_result"
    }
   ],
   "source": [
    "#the shape of my DataFrame has changed because of the duplicate rows that have been removed.\n",
    "credit_data.shape"
   ]
  },
  {
   "cell_type": "code",
   "execution_count": 15,
   "metadata": {},
   "outputs": [
    {
     "data": {
      "text/plain": [
       "count    21471.000000\n",
       "mean        43.476643\n",
       "std         12.217612\n",
       "min         19.000000\n",
       "25%         33.500000\n",
       "50%         42.000000\n",
       "75%         53.000000\n",
       "max         75.000000\n",
       "Name: dob_years, dtype: float64"
      ]
     },
     "execution_count": 15,
     "metadata": {},
     "output_type": "execute_result"
    }
   ],
   "source": [
    "#the age column has 0 values. This could be due to during collection, the client did not give his/her age.\n",
    "#I will set the 0 to the median of the age column\n",
    "credit_data.loc[credit_data['dob_years'] == 0, 'dob_years'] = credit_data['dob_years'].median() \n",
    "credit_data['dob_years'].describe()"
   ]
  },
  {
   "cell_type": "code",
   "execution_count": 16,
   "metadata": {},
   "outputs": [],
   "source": [
    "#change dob_years to int\n",
    "credit_data['dob_years'] = credit_data['dob_years'].astype('int64')"
   ]
  },
  {
   "cell_type": "code",
   "execution_count": 17,
   "metadata": {},
   "outputs": [
    {
     "data": {
      "text/plain": [
       "secondary education    13705\n",
       "bachelor's degree       4710\n",
       "SECONDARY EDUCATION      772\n",
       "Secondary Education      711\n",
       "some college             668\n",
       "BACHELOR'S DEGREE        273\n",
       "Bachelor's Degree        268\n",
       "primary education        250\n",
       "Some College              47\n",
       "SOME COLLEGE              29\n",
       "PRIMARY EDUCATION         17\n",
       "Primary Education         15\n",
       "graduate degree            4\n",
       "Graduate Degree            1\n",
       "GRADUATE DEGREE            1\n",
       "Name: education, dtype: int64"
      ]
     },
     "execution_count": 17,
     "metadata": {},
     "output_type": "execute_result"
    }
   ],
   "source": [
    "#Categorize the data: education, family_status, gender, income_type, purpose\n",
    "#education\n",
    "credit_data['education'].value_counts()"
   ]
  },
  {
   "cell_type": "code",
   "execution_count": 18,
   "metadata": {},
   "outputs": [
    {
     "data": {
      "text/plain": [
       "array([\"bachelor's degree\", 'secondary education', 'some college',\n",
       "       'primary education', 'graduate degree'], dtype=object)"
      ]
     },
     "execution_count": 18,
     "metadata": {},
     "output_type": "execute_result"
    }
   ],
   "source": [
    "#there is a lot of repetition in the education column\n",
    "#convert all the rows into lowercase\n",
    "credit_data['education'] = credit_data['education'].str.lower()\n",
    "credit_data['education'].unique()"
   ]
  },
  {
   "cell_type": "code",
   "execution_count": 19,
   "metadata": {},
   "outputs": [
    {
     "data": {
      "text/plain": [
       "married              12344\n",
       "civil partnership     4163\n",
       "unmarried             2810\n",
       "divorced              1195\n",
       "widow / widower        959\n",
       "Name: family_status, dtype: int64"
      ]
     },
     "execution_count": 19,
     "metadata": {},
     "output_type": "execute_result"
    }
   ],
   "source": [
    "credit_data['family_status'].value_counts()"
   ]
  },
  {
   "cell_type": "code",
   "execution_count": 20,
   "metadata": {},
   "outputs": [
    {
     "data": {
      "text/plain": [
       "F      14189\n",
       "M       7281\n",
       "XNA        1\n",
       "Name: gender, dtype: int64"
      ]
     },
     "execution_count": 20,
     "metadata": {},
     "output_type": "execute_result"
    }
   ],
   "source": [
    "credit_data['gender'].value_counts()"
   ]
  },
  {
   "cell_type": "code",
   "execution_count": 21,
   "metadata": {},
   "outputs": [],
   "source": [
    "#I'll replace the XNA with the top gender in the data\n",
    "credit_data.loc[credit_data['gender'] == 'XNA', 'gender'] = credit_data.gender.describe().top"
   ]
  },
  {
   "cell_type": "code",
   "execution_count": 22,
   "metadata": {},
   "outputs": [
    {
     "data": {
      "text/plain": [
       "employee                       11091\n",
       "business                        5080\n",
       "retiree                         3837\n",
       "civil servant                   1457\n",
       "unemployed                         2\n",
       "entrepreneur                       2\n",
       "paternity / maternity leave        1\n",
       "student                            1\n",
       "Name: income_type, dtype: int64"
      ]
     },
     "execution_count": 22,
     "metadata": {},
     "output_type": "execute_result"
    }
   ],
   "source": [
    "credit_data['income_type'].value_counts()"
   ]
  },
  {
   "cell_type": "code",
   "execution_count": 23,
   "metadata": {},
   "outputs": [],
   "source": [
    "#I'll take it that the student is unemployed, \n",
    "#and the paternity leave is employed(at the time of data collection, he was on leave. But generally he is employed.)\n",
    "#entrepreneur belongs to business \n",
    "#So, I'll change that.\n",
    "credit_data.loc[credit_data['income_type'] == 'student', 'income_type'] = 'unemployed'\n",
    "credit_data.loc[credit_data['income_type'] == 'paternity / maternity leave', 'income_type'] = 'employee'\n",
    "credit_data.loc[credit_data['income_type'] == 'entrepreneur', 'income_type'] = 'business'"
   ]
  },
  {
   "cell_type": "code",
   "execution_count": 24,
   "metadata": {},
   "outputs": [
    {
     "name": "stdout",
     "output_type": "stream",
     "text": [
      "['wed', 'estat', 'hous', 'hous', 'properti', 'car', 'educ', 'univers', 'educ']\n"
     ]
    }
   ],
   "source": [
    "#purpose: use stemming to categorize the purpose column\n",
    "from nltk.stem import SnowballStemmer\n",
    "stemmer = SnowballStemmer('english')\n",
    "words = ['wedding', 'estate', 'housing', 'house', 'property', 'car', 'education', 'university', 'educated']\n",
    "stem = []\n",
    "for word in words:\n",
    "    stem.append(stemmer.stem(word))\n",
    "print(stem)"
   ]
  },
  {
   "cell_type": "code",
   "execution_count": 25,
   "metadata": {},
   "outputs": [],
   "source": [
    "def purpose_category(purpose):\n",
    "    stemmed = [stemmer.stem(word) for word in purpose.split(' ')]\n",
    "    if 'wed' in stemmed:\n",
    "        return 'wedding'\n",
    "    if 'estat' in stemmed:\n",
    "        return 'real estate'\n",
    "    if 'hous' in stemmed:\n",
    "        return 'real estate'\n",
    "    if 'properti' in stemmed:\n",
    "        return 'real estate'\n",
    "    if 'car' in stemmed:\n",
    "        return 'car'\n",
    "    if 'educ' in stemmed:\n",
    "        return 'education'\n",
    "    if 'univers' in stemmed:\n",
    "        return 'education'\n",
    "    else:\n",
    "        return 'unknown'"
   ]
  },
  {
   "cell_type": "code",
   "execution_count": 26,
   "metadata": {},
   "outputs": [],
   "source": [
    "credit_data['purpose_category'] = credit_data['purpose'].apply(purpose_category)\n"
   ]
  },
  {
   "cell_type": "code",
   "execution_count": 27,
   "metadata": {},
   "outputs": [
    {
     "data": {
      "text/plain": [
       "Index(['children', 'days_employed', 'dob_years', 'education', 'education_id',\n",
       "       'family_status', 'family_status_id', 'gender', 'income_type', 'debt',\n",
       "       'total_income', 'purpose', 'purpose_category'],\n",
       "      dtype='object')"
      ]
     },
     "execution_count": 27,
     "metadata": {},
     "output_type": "execute_result"
    }
   ],
   "source": [
    "credit_data.columns"
   ]
  },
  {
   "cell_type": "code",
   "execution_count": 28,
   "metadata": {},
   "outputs": [],
   "source": [
    "credit_data['education'] = credit_data.education.astype('category')\n",
    "credit_data['family_status'] = credit_data.family_status.astype('category')\n",
    "credit_data['gender'] = credit_data.gender.astype('category')\n",
    "credit_data['income_type'] = credit_data.income_type.astype('category')\n",
    "credit_data['purpose_category'] = credit_data.purpose_category.astype('category')"
   ]
  },
  {
   "cell_type": "code",
   "execution_count": 29,
   "metadata": {},
   "outputs": [
    {
     "data": {
      "text/plain": [
       "count    21471.000000\n",
       "mean         0.539565\n",
       "std          1.382978\n",
       "min         -1.000000\n",
       "25%          0.000000\n",
       "50%          0.000000\n",
       "75%          1.000000\n",
       "max         20.000000\n",
       "Name: children, dtype: float64"
      ]
     },
     "execution_count": 29,
     "metadata": {},
     "output_type": "execute_result"
    }
   ],
   "source": [
    "#clean the children column\n",
    "credit_data['children'].describe()"
   ]
  },
  {
   "cell_type": "code",
   "execution_count": 30,
   "metadata": {},
   "outputs": [
    {
     "data": {
      "text/plain": [
       "0    14107\n",
       "1     4856\n",
       "2     2128\n",
       "3      330\n",
       "4       41\n",
       "5        9\n",
       "Name: children, dtype: int64"
      ]
     },
     "execution_count": 30,
     "metadata": {},
     "output_type": "execute_result"
    }
   ],
   "source": [
    "#I'll ground the -1 children to 0, because it is an error that was made during input\n",
    "credit_data.loc[credit_data['children'] == -1, 'children'] = 1\n",
    "credit_data.loc[credit_data['children'] == 20, 'children'] = 2\n",
    "credit_data['children'].value_counts()"
   ]
  },
  {
   "cell_type": "code",
   "execution_count": 31,
   "metadata": {},
   "outputs": [
    {
     "name": "stdout",
     "output_type": "stream",
     "text": [
      "Many\n"
     ]
    }
   ],
   "source": [
    "def child_group(children):\n",
    "    if children == 0:\n",
    "        return 'None'\n",
    "    if 1 <= children <= 2:\n",
    "        return 'Many'\n",
    "    if 3 <= children <= 4:\n",
    "        return 'Many More'\n",
    "    else:\n",
    "        return 'Most'\n",
    "print(child_group(2))"
   ]
  },
  {
   "cell_type": "code",
   "execution_count": 32,
   "metadata": {},
   "outputs": [],
   "source": [
    "credit_data['child_group'] = credit_data['children'].apply(child_group)"
   ]
  },
  {
   "cell_type": "code",
   "execution_count": 33,
   "metadata": {},
   "outputs": [
    {
     "data": {
      "text/html": [
       "<div>\n",
       "<style scoped>\n",
       "    .dataframe tbody tr th:only-of-type {\n",
       "        vertical-align: middle;\n",
       "    }\n",
       "\n",
       "    .dataframe tbody tr th {\n",
       "        vertical-align: top;\n",
       "    }\n",
       "\n",
       "    .dataframe thead th {\n",
       "        text-align: right;\n",
       "    }\n",
       "</style>\n",
       "<table border=\"1\" class=\"dataframe\">\n",
       "  <thead>\n",
       "    <tr style=\"text-align: right;\">\n",
       "      <th></th>\n",
       "      <th>children</th>\n",
       "      <th>days_employed</th>\n",
       "      <th>dob_years</th>\n",
       "      <th>education</th>\n",
       "      <th>education_id</th>\n",
       "      <th>family_status</th>\n",
       "      <th>family_status_id</th>\n",
       "      <th>gender</th>\n",
       "      <th>income_type</th>\n",
       "      <th>debt</th>\n",
       "      <th>total_income</th>\n",
       "      <th>purpose</th>\n",
       "      <th>purpose_category</th>\n",
       "      <th>child_group</th>\n",
       "    </tr>\n",
       "  </thead>\n",
       "  <tbody>\n",
       "    <tr>\n",
       "      <th>10312</th>\n",
       "      <td>1</td>\n",
       "      <td>-1798</td>\n",
       "      <td>40</td>\n",
       "      <td>secondary education</td>\n",
       "      <td>1</td>\n",
       "      <td>married</td>\n",
       "      <td>0</td>\n",
       "      <td>F</td>\n",
       "      <td>employee</td>\n",
       "      <td>0</td>\n",
       "      <td>25865</td>\n",
       "      <td>buy real estate</td>\n",
       "      <td>real estate</td>\n",
       "      <td>Many</td>\n",
       "    </tr>\n",
       "    <tr>\n",
       "      <th>20856</th>\n",
       "      <td>0</td>\n",
       "      <td>396900</td>\n",
       "      <td>63</td>\n",
       "      <td>secondary education</td>\n",
       "      <td>1</td>\n",
       "      <td>widow / widower</td>\n",
       "      <td>2</td>\n",
       "      <td>F</td>\n",
       "      <td>retiree</td>\n",
       "      <td>0</td>\n",
       "      <td>17549</td>\n",
       "      <td>buy real estate</td>\n",
       "      <td>real estate</td>\n",
       "      <td>None</td>\n",
       "    </tr>\n",
       "  </tbody>\n",
       "</table>\n",
       "</div>"
      ],
      "text/plain": [
       "       children  days_employed  dob_years            education  education_id  \\\n",
       "10312         1          -1798         40  secondary education             1   \n",
       "20856         0         396900         63  secondary education             1   \n",
       "\n",
       "         family_status  family_status_id gender income_type  debt  \\\n",
       "10312          married                 0      F    employee     0   \n",
       "20856  widow / widower                 2      F     retiree     0   \n",
       "\n",
       "       total_income          purpose purpose_category child_group  \n",
       "10312         25865  buy real estate      real estate        Many  \n",
       "20856         17549  buy real estate      real estate        None  "
      ]
     },
     "execution_count": 33,
     "metadata": {},
     "output_type": "execute_result"
    }
   ],
   "source": [
    "credit_data.sample(2)"
   ]
  },
  {
   "cell_type": "code",
   "execution_count": 34,
   "metadata": {},
   "outputs": [
    {
     "data": {
      "text/plain": [
       "0    19730\n",
       "1     1741\n",
       "Name: debt, dtype: int64"
      ]
     },
     "execution_count": 34,
     "metadata": {},
     "output_type": "execute_result"
    }
   ],
   "source": [
    "credit_data['debt'].value_counts()"
   ]
  },
  {
   "cell_type": "code",
   "execution_count": 35,
   "metadata": {},
   "outputs": [],
   "source": [
    "def debt_group(debt):\n",
    "    if debt == 0:\n",
    "        return 'paid'\n",
    "    else:\n",
    "        return 'defaulted'"
   ]
  },
  {
   "cell_type": "code",
   "execution_count": 36,
   "metadata": {},
   "outputs": [],
   "source": [
    "credit_data['debt_group'] = credit_data['debt'].apply(debt_group)"
   ]
  },
  {
   "cell_type": "code",
   "execution_count": 37,
   "metadata": {},
   "outputs": [],
   "source": [
    "credit_data['debt_group'] = credit_data['debt_group'].astype('category')\n",
    "credit_data['child_group'] = credit_data['child_group'].astype('category')"
   ]
  },
  {
   "cell_type": "code",
   "execution_count": 38,
   "metadata": {},
   "outputs": [
    {
     "name": "stdout",
     "output_type": "stream",
     "text": [
      "<class 'pandas.core.frame.DataFrame'>\n",
      "RangeIndex: 21471 entries, 0 to 21470\n",
      "Data columns (total 15 columns):\n",
      " #   Column            Non-Null Count  Dtype   \n",
      "---  ------            --------------  -----   \n",
      " 0   children          21471 non-null  int64   \n",
      " 1   days_employed     21471 non-null  int64   \n",
      " 2   dob_years         21471 non-null  int64   \n",
      " 3   education         21471 non-null  category\n",
      " 4   education_id      21471 non-null  int64   \n",
      " 5   family_status     21471 non-null  category\n",
      " 6   family_status_id  21471 non-null  int64   \n",
      " 7   gender            21471 non-null  category\n",
      " 8   income_type       21471 non-null  category\n",
      " 9   debt              21471 non-null  int64   \n",
      " 10  total_income      21471 non-null  int64   \n",
      " 11  purpose           21471 non-null  object  \n",
      " 12  purpose_category  21471 non-null  category\n",
      " 13  child_group       21471 non-null  category\n",
      " 14  debt_group        21471 non-null  category\n",
      "dtypes: category(7), int64(7), object(1)\n",
      "memory usage: 1.5+ MB\n"
     ]
    }
   ],
   "source": [
    "credit_data.info()"
   ]
  },
  {
   "cell_type": "code",
   "execution_count": 39,
   "metadata": {},
   "outputs": [],
   "source": [
    "#create dictionaries\n",
    "#which dictionaries you've selected for this data set and why.\n",
    "#maybe create a dictionary and use pivot tables"
   ]
  },
  {
   "cell_type": "code",
   "execution_count": 40,
   "metadata": {},
   "outputs": [],
   "source": [
    "#Task 3\n",
    "#Answer the questions."
   ]
  },
  {
   "cell_type": "code",
   "execution_count": 41,
   "metadata": {},
   "outputs": [
    {
     "name": "stdout",
     "output_type": "stream",
     "text": [
      "child_group\n",
      "Many          6984\n",
      "Many More      371\n",
      "Most             9\n",
      "None         14107\n",
      "Name: debt_group, dtype: int64\n",
      "child_group  debt_group\n",
      "Many         paid           6337\n",
      "             defaulted       647\n",
      "Many More    paid            340\n",
      "             defaulted        31\n",
      "Most         paid              9\n",
      "None         paid          13044\n",
      "             defaulted      1063\n",
      "Name: debt_group, dtype: int64\n"
     ]
    }
   ],
   "source": [
    "#Is there a connection between having kids and repaying a loan on time?\n",
    "credit_by_children = credit_data.groupby('child_group')['debt_group']\n",
    "#there's no correlation between having kids and paying loans on time, \n",
    "#because the most paid loans are for clients without children.\n",
    "print(credit_by_children.count())\n",
    "print(credit_by_children.value_counts())"
   ]
  },
  {
   "cell_type": "code",
   "execution_count": 42,
   "metadata": {},
   "outputs": [
    {
     "name": "stdout",
     "output_type": "stream",
     "text": [
      "Many children loans paid: 90.69%\n",
      "Many more children loans paid: 91.64%\n",
      "Most children loans paid: 100.00%\n",
      "None children loans paid: 92.48%\n"
     ]
    }
   ],
   "source": [
    "print('Many children loans paid: {:.2%}'.format(6291/6937))\n",
    "print('Many more children loans paid: {:.2%}'.format(340/371))\n",
    "print('Most children loans paid: {:.2%}'.format(9/9))\n",
    "print('None children loans paid: {:.2%}'.format(13090/14154))"
   ]
  },
  {
   "cell_type": "code",
   "execution_count": 43,
   "metadata": {},
   "outputs": [
    {
     "name": "stdout",
     "output_type": "stream",
     "text": [
      "family_status\n",
      "civil partnership     4163\n",
      "divorced              1195\n",
      "married              12344\n",
      "unmarried             2810\n",
      "widow / widower        959\n",
      "Name: debt_group, dtype: int64\n",
      "family_status      debt_group\n",
      "civil partnership  paid           3775\n",
      "                   defaulted       388\n",
      "divorced           paid           1110\n",
      "                   defaulted        85\n",
      "married            paid          11413\n",
      "                   defaulted       931\n",
      "unmarried          paid           2536\n",
      "                   defaulted       274\n",
      "widow / widower    paid            896\n",
      "                   defaulted        63\n",
      "Name: debt_group, dtype: int64\n"
     ]
    }
   ],
   "source": [
    "#Is there a connection between marital status and repaying a loan on time?\n",
    "credit_by_family = credit_data.groupby('family_status')['debt_group']\n",
    "#yes, there is. Married people pay their loans more than any other group\n",
    "print(credit_by_family.count())\n",
    "print(credit_by_family.value_counts())"
   ]
  },
  {
   "cell_type": "code",
   "execution_count": 44,
   "metadata": {},
   "outputs": [
    {
     "name": "stdout",
     "output_type": "stream",
     "text": [
      "Civil partnership loans paid: 90.68%\n",
      "Divorced loans paid: 92.89%\n",
      "Married loans paid: 92.46%\n",
      "Unmarried loans paid: 90.25%\n",
      "Widow/widower loans paid: 93.43%\n"
     ]
    }
   ],
   "source": [
    "print('Civil partnership loans paid: {:.2%}'.format(3775/4163))\n",
    "print('Divorced loans paid: {:.2%}'.format(1110/1195))\n",
    "print('Married loans paid: {:.2%}'.format(11413/12344))\n",
    "print('Unmarried loans paid: {:.2%}'.format(2536/2810))\n",
    "print('Widow/widower loans paid: {:.2%}'.format(896/959))"
   ]
  },
  {
   "cell_type": "code",
   "execution_count": 45,
   "metadata": {},
   "outputs": [
    {
     "name": "stdout",
     "output_type": "stream",
     "text": [
      "income_type\n",
      "business          5082\n",
      "civil servant     1457\n",
      "employee         11092\n",
      "retiree           3837\n",
      "unemployed           3\n",
      "Name: debt_group, dtype: int64\n",
      "income_type    debt_group\n",
      "business       paid           4706\n",
      "               defaulted       376\n",
      "civil servant  paid           1371\n",
      "               defaulted        86\n",
      "employee       paid          10030\n",
      "               defaulted      1062\n",
      "retiree        paid           3621\n",
      "               defaulted       216\n",
      "unemployed     paid              2\n",
      "               defaulted         1\n",
      "Name: debt_group, dtype: int64\n"
     ]
    }
   ],
   "source": [
    "#Is there a connection between income level and repaying a loan on time?\n",
    "credit_by_income = credit_data.groupby('income_type')['debt_group']\n",
    "print(credit_by_income.count())\n",
    "print(credit_by_income.value_counts())"
   ]
  },
  {
   "cell_type": "code",
   "execution_count": 46,
   "metadata": {},
   "outputs": [
    {
     "name": "stdout",
     "output_type": "stream",
     "text": [
      "Business loans paid: 92.60%\n",
      "Civil servant loans paid: 94.10%\n",
      "Employee loans paid: 90.43%\n",
      "Retiree loans paid: 94.37%\n",
      "Unemployed loans paid: 66.67%\n"
     ]
    }
   ],
   "source": [
    "print('Business loans paid: {:.2%}'.format(4706/5082))\n",
    "print('Civil servant loans paid: {:.2%}'.format(1371/1457))\n",
    "print('Employee loans paid: {:.2%}'.format(10030/11092))\n",
    "print('Retiree loans paid: {:.2%}'.format(3621/3837))\n",
    "print('Unemployed loans paid: {:.2%}'.format(2/3))"
   ]
  },
  {
   "cell_type": "code",
   "execution_count": 47,
   "metadata": {},
   "outputs": [],
   "source": [
    "#employees pay their loans on time, followed by business people"
   ]
  },
  {
   "cell_type": "code",
   "execution_count": 48,
   "metadata": {},
   "outputs": [
    {
     "name": "stdout",
     "output_type": "stream",
     "text": [
      "purpose_category\n",
      "car             4308\n",
      "education       4014\n",
      "real estate    10814\n",
      "wedding         2335\n",
      "Name: debt_group, dtype: int64\n"
     ]
    }
   ],
   "source": [
    "#How do different loan purposes affect timely loan repayment?\n",
    "credit_by_purpose = credit_data.groupby('purpose_category')['debt_group']\n",
    "print(credit_by_purpose.count())"
   ]
  },
  {
   "cell_type": "code",
   "execution_count": 49,
   "metadata": {
    "scrolled": true
   },
   "outputs": [
    {
     "name": "stdout",
     "output_type": "stream",
     "text": [
      "purpose_category  debt_group\n",
      "car               paid           3905\n",
      "                  defaulted       403\n",
      "education         paid           3644\n",
      "                  defaulted       370\n",
      "real estate       paid          10032\n",
      "                  defaulted       782\n",
      "wedding           paid           2149\n",
      "                  defaulted       186\n",
      "Name: debt_group, dtype: int64\n"
     ]
    }
   ],
   "source": [
    "print(credit_by_purpose.value_counts())"
   ]
  },
  {
   "cell_type": "code",
   "execution_count": 50,
   "metadata": {},
   "outputs": [
    {
     "name": "stdout",
     "output_type": "stream",
     "text": [
      "Car loans paid: 90.65%\n",
      "Education loans paid: 90.78%\n",
      "Real Estate loans paid: 92.77%\n",
      "Wedding loans paid: 92.03%\n"
     ]
    }
   ],
   "source": [
    "print('Car loans paid: {:.2%}'.format(3905/4308))\n",
    "print('Education loans paid: {:.2%}'.format(3644/4014))\n",
    "print('Real Estate loans paid: {:.2%}'.format(10032/10814))\n",
    "print('Wedding loans paid: {:.2%}'.format(2149/2335))"
   ]
  },
  {
   "cell_type": "code",
   "execution_count": 55,
   "metadata": {},
   "outputs": [
    {
     "data": {
      "text/plain": [
       "0          paid\n",
       "1          paid\n",
       "2          paid\n",
       "3          paid\n",
       "4          paid\n",
       "5          paid\n",
       "6          paid\n",
       "7          paid\n",
       "8          paid\n",
       "9          paid\n",
       "12         paid\n",
       "13         paid\n",
       "18         paid\n",
       "19         paid\n",
       "21         paid\n",
       "23         paid\n",
       "26         paid\n",
       "32    defaulted\n",
       "38    defaulted\n",
       "39         paid\n",
       "Name: debt_group, dtype: category\n",
       "Categories (2, object): [defaulted, paid]"
      ]
     },
     "execution_count": 55,
     "metadata": {},
     "output_type": "execute_result"
    }
   ],
   "source": [
    "purpose_dict = credit_data[['purpose_category', 'debt_group']]\n"
   ]
  },
  {
   "cell_type": "code",
   "execution_count": null,
   "metadata": {},
   "outputs": [],
   "source": []
  }
 ],
 "metadata": {
  "kernelspec": {
   "display_name": "Python 3",
   "language": "python",
   "name": "python3"
  },
  "language_info": {
   "codemirror_mode": {
    "name": "ipython",
    "version": 3
   },
   "file_extension": ".py",
   "mimetype": "text/x-python",
   "name": "python",
   "nbconvert_exporter": "python",
   "pygments_lexer": "ipython3",
   "version": "3.7.6"
  }
 },
 "nbformat": 4,
 "nbformat_minor": 4
}
