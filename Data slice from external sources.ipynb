{
 "cells": [
  {
   "cell_type": "markdown",
   "metadata": {},
   "source": [
    "## Slice of data from an external dictionary"
   ]
  },
  {
   "cell_type": "code",
   "execution_count": 1,
   "metadata": {},
   "outputs": [],
   "source": [
    "import pandas as pd\n",
    "import numpy as np\n",
    "import matplotlib.pyplot as plt"
   ]
  },
  {
   "cell_type": "code",
   "execution_count": 6,
   "metadata": {},
   "outputs": [
    {
     "data": {
      "text/html": [
       "<div>\n",
       "<style scoped>\n",
       "    .dataframe tbody tr th:only-of-type {\n",
       "        vertical-align: middle;\n",
       "    }\n",
       "\n",
       "    .dataframe tbody tr th {\n",
       "        vertical-align: top;\n",
       "    }\n",
       "\n",
       "    .dataframe thead th {\n",
       "        text-align: right;\n",
       "    }\n",
       "</style>\n",
       "<table border=\"1\" class=\"dataframe\">\n",
       "  <thead>\n",
       "    <tr style=\"text-align: right;\">\n",
       "      <th></th>\n",
       "      <th>a</th>\n",
       "      <th>b</th>\n",
       "      <th>c</th>\n",
       "    </tr>\n",
       "  </thead>\n",
       "  <tbody>\n",
       "    <tr>\n",
       "      <th>0</th>\n",
       "      <td>0</td>\n",
       "      <td>5</td>\n",
       "      <td>X</td>\n",
       "    </tr>\n",
       "    <tr>\n",
       "      <th>1</th>\n",
       "      <td>1</td>\n",
       "      <td>4</td>\n",
       "      <td>Y</td>\n",
       "    </tr>\n",
       "    <tr>\n",
       "      <th>2</th>\n",
       "      <td>10</td>\n",
       "      <td>3</td>\n",
       "      <td>Y</td>\n",
       "    </tr>\n",
       "    <tr>\n",
       "      <th>3</th>\n",
       "      <td>11</td>\n",
       "      <td>2</td>\n",
       "      <td>Y</td>\n",
       "    </tr>\n",
       "    <tr>\n",
       "      <th>4</th>\n",
       "      <td>12</td>\n",
       "      <td>1</td>\n",
       "      <td>Z</td>\n",
       "    </tr>\n",
       "  </tbody>\n",
       "</table>\n",
       "</div>"
      ],
      "text/plain": [
       "    a  b  c\n",
       "0   0  5  X\n",
       "1   1  4  Y\n",
       "2  10  3  Y\n",
       "3  11  2  Y\n",
       "4  12  1  Z"
      ]
     },
     "execution_count": 6,
     "metadata": {},
     "output_type": "execute_result"
    }
   ],
   "source": [
    "our_list = [1, 2, 12]\n",
    "df = pd.DataFrame({\n",
    "        'a': [0, 1, 10, 11, 12],\n",
    "        'b': [5, 4, 3, 2, 1],\n",
    "        'c': ['X', 'Y', 'Y', 'Y', 'Z'],\n",
    "})\n",
    "df.head()\n"
   ]
  },
  {
   "cell_type": "code",
   "execution_count": 9,
   "metadata": {},
   "outputs": [
    {
     "data": {
      "text/html": [
       "<div>\n",
       "<style scoped>\n",
       "    .dataframe tbody tr th:only-of-type {\n",
       "        vertical-align: middle;\n",
       "    }\n",
       "\n",
       "    .dataframe tbody tr th {\n",
       "        vertical-align: top;\n",
       "    }\n",
       "\n",
       "    .dataframe thead th {\n",
       "        text-align: right;\n",
       "    }\n",
       "</style>\n",
       "<table border=\"1\" class=\"dataframe\">\n",
       "  <thead>\n",
       "    <tr style=\"text-align: right;\">\n",
       "      <th></th>\n",
       "      <th>a</th>\n",
       "      <th>b</th>\n",
       "      <th>c</th>\n",
       "    </tr>\n",
       "  </thead>\n",
       "  <tbody>\n",
       "    <tr>\n",
       "      <th>1</th>\n",
       "      <td>1</td>\n",
       "      <td>4</td>\n",
       "      <td>Y</td>\n",
       "    </tr>\n",
       "    <tr>\n",
       "      <th>4</th>\n",
       "      <td>12</td>\n",
       "      <td>1</td>\n",
       "      <td>Z</td>\n",
       "    </tr>\n",
       "  </tbody>\n",
       "</table>\n",
       "</div>"
      ],
      "text/plain": [
       "    a  b  c\n",
       "1   1  4  Y\n",
       "4  12  1  Z"
      ]
     },
     "execution_count": 9,
     "metadata": {},
     "output_type": "execute_result"
    }
   ],
   "source": [
    "df.query('a in @our_list') # we make a slice in which the values of column 'a' are equal to the elements in our_list"
   ]
  },
  {
   "cell_type": "code",
   "execution_count": 3,
   "metadata": {},
   "outputs": [
    {
     "name": "stdout",
     "output_type": "stream",
     "text": [
      "    a  b  c\n",
      "0   0  5  X\n",
      "1   1  4  Y\n",
      "2  10  3  Y\n",
      "3  11  2  Y\n",
      "4  12  1  Z\n",
      "\n",
      "   a  b  c\n",
      "0  0  5  X\n",
      "1  1  4  Y\n"
     ]
    }
   ],
   "source": [
    "our_dict = {0: 10, 1: 11, 2: 12} \n",
    "df = pd.DataFrame({\n",
    "        'a': [0, 1, 10, 11, 12], \n",
    "        'b': [5, 4, 3, 2, 1],\n",
    "        'c': ['X', 'Y', 'Y', 'Y', 'Z'],\n",
    "})\n",
    "\n",
    "print(df.query('a in @our_dict')) # we make a slice in which the values of column 'a' are equal to the dictionary keys"
   ]
  },
  {
   "cell_type": "code",
   "execution_count": 10,
   "metadata": {},
   "outputs": [
    {
     "data": {
      "text/html": [
       "<div>\n",
       "<style scoped>\n",
       "    .dataframe tbody tr th:only-of-type {\n",
       "        vertical-align: middle;\n",
       "    }\n",
       "\n",
       "    .dataframe tbody tr th {\n",
       "        vertical-align: top;\n",
       "    }\n",
       "\n",
       "    .dataframe thead th {\n",
       "        text-align: right;\n",
       "    }\n",
       "</style>\n",
       "<table border=\"1\" class=\"dataframe\">\n",
       "  <thead>\n",
       "    <tr style=\"text-align: right;\">\n",
       "      <th></th>\n",
       "      <th>a</th>\n",
       "      <th>b</th>\n",
       "      <th>c</th>\n",
       "    </tr>\n",
       "  </thead>\n",
       "  <tbody>\n",
       "    <tr>\n",
       "      <th>2</th>\n",
       "      <td>10</td>\n",
       "      <td>3</td>\n",
       "      <td>Y</td>\n",
       "    </tr>\n",
       "    <tr>\n",
       "      <th>3</th>\n",
       "      <td>11</td>\n",
       "      <td>2</td>\n",
       "      <td>Y</td>\n",
       "    </tr>\n",
       "    <tr>\n",
       "      <th>4</th>\n",
       "      <td>12</td>\n",
       "      <td>1</td>\n",
       "      <td>Z</td>\n",
       "    </tr>\n",
       "  </tbody>\n",
       "</table>\n",
       "</div>"
      ],
      "text/plain": [
       "    a  b  c\n",
       "2  10  3  Y\n",
       "3  11  2  Y\n",
       "4  12  1  Z"
      ]
     },
     "execution_count": 10,
     "metadata": {},
     "output_type": "execute_result"
    }
   ],
   "source": [
    "our_series = pd.Series([10, 11, 12])\n",
    "df.query('a in @our_series')"
   ]
  },
  {
   "cell_type": "code",
   "execution_count": 11,
   "metadata": {},
   "outputs": [
    {
     "data": {
      "text/html": [
       "<div>\n",
       "<style scoped>\n",
       "    .dataframe tbody tr th:only-of-type {\n",
       "        vertical-align: middle;\n",
       "    }\n",
       "\n",
       "    .dataframe tbody tr th {\n",
       "        vertical-align: top;\n",
       "    }\n",
       "\n",
       "    .dataframe thead th {\n",
       "        text-align: right;\n",
       "    }\n",
       "</style>\n",
       "<table border=\"1\" class=\"dataframe\">\n",
       "  <thead>\n",
       "    <tr style=\"text-align: right;\">\n",
       "      <th></th>\n",
       "      <th>a</th>\n",
       "      <th>b</th>\n",
       "      <th>c</th>\n",
       "    </tr>\n",
       "  </thead>\n",
       "  <tbody>\n",
       "    <tr>\n",
       "      <th>0</th>\n",
       "      <td>0</td>\n",
       "      <td>5</td>\n",
       "      <td>X</td>\n",
       "    </tr>\n",
       "    <tr>\n",
       "      <th>1</th>\n",
       "      <td>1</td>\n",
       "      <td>4</td>\n",
       "      <td>Y</td>\n",
       "    </tr>\n",
       "  </tbody>\n",
       "</table>\n",
       "</div>"
      ],
      "text/plain": [
       "   a  b  c\n",
       "0  0  5  X\n",
       "1  1  4  Y"
      ]
     },
     "execution_count": 11,
     "metadata": {},
     "output_type": "execute_result"
    }
   ],
   "source": [
    "df.query('a in @our_series.index') \n",
    "# we make a slice in which the values of column 'a' are equal to the Series indices (i.e. 0, 1, or 2)"
   ]
  },
  {
   "cell_type": "code",
   "execution_count": 5,
   "metadata": {},
   "outputs": [
    {
     "name": "stdout",
     "output_type": "stream",
     "text": [
      "    a  b  c\n",
      "0   0  5  X\n",
      "1   1  4  Y\n",
      "2  10  3  Y\n",
      "3  11  2  Y\n",
      "4  12  1  Z\n",
      "\n",
      "   a1  b1 c1\n",
      "0   2   3  A\n",
      "1   4   2  B\n",
      "2   6   2  C\n",
      "\n",
      "   a  b  c\n",
      "0  0  5  X\n",
      "1  1  4  Y\n"
     ]
    }
   ],
   "source": [
    "our_df = pd.DataFrame ({\n",
    "        'a1': [2, 4, 6],\n",
    "        'b1': [3, 2, 2],\n",
    "        'c1': ['A', 'B', 'C'],\n",
    "})\n",
    "print(df)\n",
    "print()\n",
    "print(our_df)\n",
    "print()\n",
    "print(df.query('a in @our_df.index')) \n",
    "# we make a slice in which the values of column 'a' are equal to the our_df DataFrame indices (i.e., 0, 1, or 2)"
   ]
  },
  {
   "cell_type": "code",
   "execution_count": 13,
   "metadata": {},
   "outputs": [
    {
     "name": "stdout",
     "output_type": "stream",
     "text": [
      "    a  b  c\n",
      "2  10  3  Y\n",
      "3  11  2  Y\n"
     ]
    }
   ],
   "source": [
    "print(df.query('b in @our_df.b1')) \n",
    "# we make a slice in which the values of column 'b' are equal to the values of column b1 of the "
   ]
  },
  {
   "cell_type": "code",
   "execution_count": null,
   "metadata": {},
   "outputs": [],
   "source": [
    "# filter abnormally fast and slow visits and gas stations\n",
    "data['too_fast'] = data['time_spent'] < 60\n",
    "data['too_slow'] = data['time_spent'] > 1000\n",
    "too_fast_stat = data.pivot_table(index='id', values='too_fast')\n",
    "good_ids = too_fast_stat.query('too_fast < 0.5')\n",
    "good_data = data.query('id in @good_ids.index')\n",
    "print(len(data))\n",
    "print(len(good_data))"
   ]
  },
  {
   "cell_type": "code",
   "execution_count": null,
   "metadata": {},
   "outputs": [],
   "source": [
    "ood_data = good_data.query('time_spent >= 60 and time_spent <= 1000')\n",
    "print(len(good_data))"
   ]
  },
  {
   "cell_type": "code",
   "execution_count": null,
   "metadata": {},
   "outputs": [],
   "source": [
    "# consider data by individual gas station and by chains\n",
    "station_stat = data.pivot_table(index='id', values='time_spent', aggfunc='median')\n",
    "good_stations_stat = good_data.pivot_table(index='id', values='time_spent', aggfunc='median')\n",
    "good_stations_stat.hist(bins=50)"
   ]
  },
  {
   "cell_type": "code",
   "execution_count": 14,
   "metadata": {
    "collapsed": true
   },
   "outputs": [
    {
     "ename": "NameError",
     "evalue": "name 'good_data' is not defined",
     "output_type": "error",
     "traceback": [
      "\u001b[1;31m---------------------------------------------------------------------------\u001b[0m",
      "\u001b[1;31mNameError\u001b[0m                                 Traceback (most recent call last)",
      "\u001b[1;32m<ipython-input-14-fb7fdbb4b7ad>\u001b[0m in \u001b[0;36m<module>\u001b[1;34m\u001b[0m\n\u001b[1;32m----> 1\u001b[1;33m \u001b[0mgood_stat\u001b[0m \u001b[1;33m=\u001b[0m \u001b[0mgood_data\u001b[0m\u001b[1;33m.\u001b[0m\u001b[0mpivot_table\u001b[0m\u001b[1;33m(\u001b[0m\u001b[0mindex\u001b[0m\u001b[1;33m=\u001b[0m\u001b[1;34m'name'\u001b[0m\u001b[1;33m,\u001b[0m \u001b[0mvalues\u001b[0m\u001b[1;33m=\u001b[0m\u001b[1;34m'time_spent'\u001b[0m\u001b[1;33m,\u001b[0m \u001b[0maggfunc\u001b[0m\u001b[1;33m=\u001b[0m\u001b[1;34m'median'\u001b[0m\u001b[1;33m)\u001b[0m\u001b[1;33m\u001b[0m\u001b[1;33m\u001b[0m\u001b[0m\n\u001b[0m\u001b[0;32m      2\u001b[0m \u001b[0mprint\u001b[0m\u001b[1;33m(\u001b[0m\u001b[0mgood_stat\u001b[0m\u001b[1;33m.\u001b[0m\u001b[0msort_values\u001b[0m\u001b[1;33m(\u001b[0m\u001b[0mby\u001b[0m\u001b[1;33m=\u001b[0m\u001b[1;34m'time_spent'\u001b[0m\u001b[1;33m,\u001b[0m \u001b[0mascending\u001b[0m\u001b[1;33m=\u001b[0m\u001b[1;32mTrue\u001b[0m\u001b[1;33m)\u001b[0m\u001b[1;33m)\u001b[0m\u001b[1;33m\u001b[0m\u001b[1;33m\u001b[0m\u001b[0m\n",
      "\u001b[1;31mNameError\u001b[0m: name 'good_data' is not defined"
     ]
    }
   ],
   "source": [
    "good_stat = good_data.pivot_table(index='name', values='time_spent', aggfunc='median')\n",
    "print(good_stat.sort_values(by='time_spent', ascending=True))"
   ]
  },
  {
   "cell_type": "markdown",
   "metadata": {},
   "source": [
    "## Adding a column"
   ]
  },
  {
   "cell_type": "code",
   "execution_count": 15,
   "metadata": {},
   "outputs": [
    {
     "name": "stdout",
     "output_type": "stream",
     "text": [
      "   a  b\n",
      "0  1  Q\n",
      "1  2  R\n",
      "2  3  S\n",
      "3  3  T\n",
      "4  3  U\n",
      "\n",
      "   c  d  e\n",
      "0  3  V  3\n",
      "1  4  W  3\n",
      "2  5  X  3\n",
      "3  6  Y  3\n",
      "4  7  Z  3\n"
     ]
    }
   ],
   "source": [
    "df1 = pd.DataFrame({'a': [1, 2, 3, 3, 3], 'b': ['Q', 'R', 'S', 'T', 'U']})\n",
    "df2 = pd.DataFrame({'c': [3, 4, 5, 6, 7], 'd': ['V', 'W', 'X', 'Y', 'Z'], 'e': [3, 3, 3, 3, 3]})\n",
    "print(df1)\n",
    "print()\n",
    "print(df2)"
   ]
  },
  {
   "cell_type": "code",
   "execution_count": 16,
   "metadata": {},
   "outputs": [
    {
     "name": "stdout",
     "output_type": "stream",
     "text": [
      "\n",
      "   a  b new\n",
      "0  1  Q   V\n",
      "1  2  R   W\n",
      "2  3  S   X\n",
      "3  3  T   Y\n",
      "4  3  U   Z\n"
     ]
    }
   ],
   "source": [
    "df1['new'] = df2['d']\n",
    "print()\n",
    "print(df1)"
   ]
  },
  {
   "cell_type": "code",
   "execution_count": 17,
   "metadata": {},
   "outputs": [
    {
     "name": "stdout",
     "output_type": "stream",
     "text": [
      "   a new\n",
      "0  1   Q\n",
      "1  2   R\n",
      "2  3   S\n",
      "3  3   T\n",
      "4  3   U\n",
      "\n",
      "   c  d  e\n",
      "0  3  V  3\n",
      "1  4  W  3\n",
      "2  5  X  3\n",
      "3  6  Y  3\n",
      "4  7  Z  3\n",
      "\n",
      "   a new\n",
      "0  1   V\n",
      "1  2   W\n",
      "2  3   X\n",
      "3  3   Y\n",
      "4  3   Z\n"
     ]
    }
   ],
   "source": [
    "df1 = pd.DataFrame({'a': [1, 2, 3, 3, 3], 'new': ['Q', 'R', 'S', 'T', 'U']}) # there is already the new column\n",
    "df2 = pd.DataFrame({'c': [3, 4, 5, 6, 7], 'd': ['V', 'W', 'X', 'Y', 'Z'], 'e': [3, 3, 3, 3, 3]})\n",
    "print(df1)\n",
    "print()\n",
    "print(df2)\n",
    "df1['new'] = df2['d']\n",
    "print()\n",
    "print(df1)"
   ]
  },
  {
   "cell_type": "code",
   "execution_count": 18,
   "metadata": {},
   "outputs": [
    {
     "name": "stdout",
     "output_type": "stream",
     "text": [
      "   a  b\n",
      "0  1  Q\n",
      "1  2  R\n",
      "2  3  S\n",
      "3  3  T\n",
      "4  3  U\n",
      "\n",
      "   d  e\n",
      "c      \n",
      "3  V  3\n",
      "4  W  3\n",
      "5  X  3\n",
      "6  Y  3\n",
      "7  Z  3\n",
      "\n",
      "   a  b  new\n",
      "0  1  Q  NaN\n",
      "1  2  R  NaN\n",
      "2  3  S  NaN\n",
      "3  3  T    V\n",
      "4  3  U    W\n"
     ]
    }
   ],
   "source": [
    "df1 = pd.DataFrame({'a': [1, 2, 3, 3, 3], 'b': ['Q', 'R', 'S', 'T', 'U']})\n",
    "df2 = pd.DataFrame({'c': [3, 4, 5, 6, 7], 'd': ['V', 'W', 'X', 'Y', 'Z'], 'e': [3, 3, 3, 3, 3]})\n",
    "df2.set_index('c', inplace=True)\n",
    "print(df1)\n",
    "print()\n",
    "print(df2)\n",
    "df1['new'] = df2['d']\n",
    "print()\n",
    "print(df1)"
   ]
  },
  {
   "cell_type": "code",
   "execution_count": 19,
   "metadata": {},
   "outputs": [
    {
     "name": "stdout",
     "output_type": "stream",
     "text": [
      "   b  new\n",
      "a        \n",
      "1  Q  NaN\n",
      "2  R  NaN\n",
      "3  S  NaN\n",
      "3  T    V\n",
      "3  U    W\n",
      "\n",
      "   d  e\n",
      "c      \n",
      "3  V  3\n",
      "4  W  3\n",
      "5  X  3\n",
      "6  Y  3\n",
      "7  Z  3\n",
      "\n",
      "   b  new\n",
      "a        \n",
      "1  Q  NaN\n",
      "2  R  NaN\n",
      "3  S    V\n",
      "3  T    V\n",
      "3  U    V\n"
     ]
    }
   ],
   "source": [
    "df1.set_index('a', inplace=True)\n",
    "print(df1)\n",
    "print()\n",
    "print(df2)\n",
    "print()\n",
    "df1['new'] = df2['d']\n",
    "print(df1)"
   ]
  },
  {
   "cell_type": "code",
   "execution_count": 21,
   "metadata": {},
   "outputs": [
    {
     "name": "stdout",
     "output_type": "stream",
     "text": [
      "   a  b\n",
      "0  1  Q\n",
      "1  2  R\n",
      "2  3  S\n",
      "3  3  T\n",
      "4  3  U\n",
      "\n",
      "   c  d\n",
      "e      \n",
      "3  3  V\n",
      "3  4  W\n",
      "3  5  X\n",
      "3  6  Y\n",
      "3  7  Z\n",
      "\n",
      "There is a duplicate axis.\n"
     ]
    }
   ],
   "source": [
    "df1 = pd.DataFrame({'a': [1, 2, 3, 3, 3], 'b': ['Q', 'R', 'S', 'T', 'U']})\n",
    "df2 = pd.DataFrame({'c': [3, 4, 5, 6, 7], 'd': ['V', 'W', 'X', 'Y', 'Z'], 'e': [3, 3, 3, 3, 3]})\n",
    "df2.set_index('e', inplace=True)\n",
    "print(df1)\n",
    "print()\n",
    "print(df2)\n",
    "print()\n",
    "try:\n",
    "    df1['new'] = df2['d']\n",
    "except:\n",
    "    print('There is a duplicate axis.')"
   ]
  },
  {
   "cell_type": "code",
   "execution_count": 22,
   "metadata": {},
   "outputs": [
    {
     "name": "stdout",
     "output_type": "stream",
     "text": [
      "   a  b\n",
      "0  1  Q\n",
      "1  2  R\n",
      "2  3  S\n",
      "3  3  T\n",
      "4  3  U\n",
      "\n",
      "0    1\n",
      "1    2\n",
      "2    3\n",
      "3    4\n",
      "4    5\n",
      "dtype: int64\n",
      "\n",
      "   b  new\n",
      "a        \n",
      "1  Q    2\n",
      "2  R    3\n",
      "3  S    4\n",
      "3  T    4\n",
      "3  U    4\n"
     ]
    }
   ],
   "source": [
    "df1 = pd.DataFrame({'a': [1, 2, 3, 3, 3], 'b': ['Q', 'R', 'S', 'T', 'U']})\n",
    "print(df1)\n",
    "df1.set_index('a', inplace=True)\n",
    "series = pd.Series([1, 2, 3, 4, 5])\n",
    "print()\n",
    "print(series)\n",
    "df1['new'] = series\n",
    "print()\n",
    "print(df1)"
   ]
  },
  {
   "cell_type": "code",
   "execution_count": 24,
   "metadata": {},
   "outputs": [
    {
     "name": "stdout",
     "output_type": "stream",
     "text": [
      "   b\n",
      "a   \n",
      "1  Q\n",
      "2  R\n",
      "3  S\n",
      "3  T\n",
      "3  U\n",
      "\n",
      "   b  new\n",
      "a        \n",
      "1  Q    1\n",
      "2  R    2\n",
      "3  S    3\n",
      "3  T    4\n",
      "3  U    5\n"
     ]
    }
   ],
   "source": [
    "df1 = pd.DataFrame({'a': [1, 2, 3, 3, 3], 'b': ['Q', 'R', 'S', 'T', 'U']})\n",
    "df1.set_index('a', inplace=True)\n",
    "print(df1)\n",
    "list_values = [1, 2, 3, 4, 5]\n",
    "df1['new'] = list_values\n",
    "print()\n",
    "print(df1)\n",
    "#Indices of df1 are ignored, and the values in new are written in order."
   ]
  },
  {
   "cell_type": "markdown",
   "metadata": {},
   "source": [
    "## Combining data from two tables"
   ]
  },
  {
   "cell_type": "code",
   "execution_count": 1,
   "metadata": {},
   "outputs": [
    {
     "name": "stdout",
     "output_type": "stream",
     "text": [
      "       Name  Num_check_in  Time\n",
      "0    GasOne         10000    60\n",
      "1    GasTwo           100   180\n",
      "2  GasThree           110   180\n",
      "3   GasFour           105   180\n",
      "4   GasFive           113   180\n",
      "5    GasSix           102   180\n",
      "6  GasSeven           125   180\n",
      "7  GasEight           116   180\n",
      "8   GasNine           109   180\n",
      "9    GasTen           120   180\n"
     ]
    }
   ],
   "source": [
    "import pandas as pd\n",
    "gas_stations = pd.DataFrame({\n",
    "'Name': ['GasOne', 'GasTwo', 'GasThree', 'GasFour', 'GasFive', 'GasSix', 'GasSeven', 'GasEight', 'GasNine', 'GasTen'],\n",
    "'Num_check_in': [10000, 100, 110, 105, 113, 102, 125, 116, 109, 120],\n",
    "'Time': [60, 180, 180, 180, 180, 180, 180, 180, 180, 180,],\n",
    "})\n",
    "print (gas_stations)"
   ]
  },
  {
   "cell_type": "code",
   "execution_count": 2,
   "metadata": {},
   "outputs": [
    {
     "name": "stdout",
     "output_type": "stream",
     "text": [
      "Mean refueling time: 168.0\n",
      "Median refueling time: 180.0\n"
     ]
    }
   ],
   "source": [
    "print('Mean refueling time:', gas_stations['Time'].mean())\n",
    "print('Median refueling time:', gas_stations['Time'].median())"
   ]
  },
  {
   "cell_type": "code",
   "execution_count": 3,
   "metadata": {},
   "outputs": [
    {
     "name": "stdout",
     "output_type": "stream",
     "text": [
      "  breakfast ingredients\n",
      "0  omelette        eggs\n",
      "1  omelette        milk\n",
      "2  omelette        salt\n",
      "3  sandwich       bread\n",
      "4  sandwich         ham\n",
      "5  sandwich      cheese\n"
     ]
    }
   ],
   "source": [
    "#The pivot_table method groups data, and the aggfunc parameter indicates what needs to be done with it.\n",
    "import pandas as pd\n",
    "df = pd.DataFrame({\n",
    "        'breakfast': ['omelette', 'omelette', 'omelette', 'sandwich', 'sandwich', 'sandwich'], \n",
    "        'ingredients': ['eggs', 'milk', 'salt', 'bread', 'ham', 'cheese']\n",
    "})\n",
    "print (df)"
   ]
  },
  {
   "cell_type": "code",
   "execution_count": 4,
   "metadata": {},
   "outputs": [
    {
     "data": {
      "text/html": [
       "<div>\n",
       "<style scoped>\n",
       "    .dataframe tbody tr th:only-of-type {\n",
       "        vertical-align: middle;\n",
       "    }\n",
       "\n",
       "    .dataframe tbody tr th {\n",
       "        vertical-align: top;\n",
       "    }\n",
       "\n",
       "    .dataframe thead th {\n",
       "        text-align: right;\n",
       "    }\n",
       "</style>\n",
       "<table border=\"1\" class=\"dataframe\">\n",
       "  <thead>\n",
       "    <tr style=\"text-align: right;\">\n",
       "      <th></th>\n",
       "      <th>ingredients</th>\n",
       "    </tr>\n",
       "    <tr>\n",
       "      <th>breakfast</th>\n",
       "      <th></th>\n",
       "    </tr>\n",
       "  </thead>\n",
       "  <tbody>\n",
       "    <tr>\n",
       "      <th>omelette</th>\n",
       "      <td>eggs</td>\n",
       "    </tr>\n",
       "    <tr>\n",
       "      <th>sandwich</th>\n",
       "      <td>bread</td>\n",
       "    </tr>\n",
       "  </tbody>\n",
       "</table>\n",
       "</div>"
      ],
      "text/plain": [
       "          ingredients\n",
       "breakfast            \n",
       "omelette         eggs\n",
       "sandwich        bread"
      ]
     },
     "execution_count": 4,
     "metadata": {},
     "output_type": "execute_result"
    }
   ],
   "source": [
    "df.pivot_table(index='breakfast', values='ingredients', aggfunc='first')"
   ]
  },
  {
   "cell_type": "code",
   "execution_count": 5,
   "metadata": {},
   "outputs": [
    {
     "data": {
      "text/html": [
       "<div>\n",
       "<style scoped>\n",
       "    .dataframe tbody tr th:only-of-type {\n",
       "        vertical-align: middle;\n",
       "    }\n",
       "\n",
       "    .dataframe tbody tr th {\n",
       "        vertical-align: top;\n",
       "    }\n",
       "\n",
       "    .dataframe thead th {\n",
       "        text-align: right;\n",
       "    }\n",
       "</style>\n",
       "<table border=\"1\" class=\"dataframe\">\n",
       "  <thead>\n",
       "    <tr style=\"text-align: right;\">\n",
       "      <th></th>\n",
       "      <th>ingredients</th>\n",
       "    </tr>\n",
       "    <tr>\n",
       "      <th>breakfast</th>\n",
       "      <th></th>\n",
       "    </tr>\n",
       "  </thead>\n",
       "  <tbody>\n",
       "    <tr>\n",
       "      <th>omelette</th>\n",
       "      <td>salt</td>\n",
       "    </tr>\n",
       "    <tr>\n",
       "      <th>sandwich</th>\n",
       "      <td>cheese</td>\n",
       "    </tr>\n",
       "  </tbody>\n",
       "</table>\n",
       "</div>"
      ],
      "text/plain": [
       "          ingredients\n",
       "breakfast            \n",
       "omelette         salt\n",
       "sandwich       cheese"
      ]
     },
     "execution_count": 5,
     "metadata": {},
     "output_type": "execute_result"
    }
   ],
   "source": [
    "df.pivot_table(index='breakfast', values='ingredients', aggfunc='last')"
   ]
  },
  {
   "cell_type": "code",
   "execution_count": null,
   "metadata": {},
   "outputs": [],
   "source": [
    "id_name = good_data.pivot_table(index='id', values='name', aggfunc=['first', 'count'])"
   ]
  },
  {
   "cell_type": "markdown",
   "metadata": {},
   "source": [
    "## Renaming columns"
   ]
  },
  {
   "cell_type": "code",
   "execution_count": null,
   "metadata": {},
   "outputs": [],
   "source": [
    "df.columns = ['column_name_1', 'column_name_2', 'column_name_3']"
   ]
  },
  {
   "cell_type": "code",
   "execution_count": null,
   "metadata": {},
   "outputs": [],
   "source": [
    "id_name.columns = ['name', 'count']\n",
    "print(id_name.head())"
   ]
  },
  {
   "cell_type": "markdown",
   "metadata": {},
   "source": [
    "## Combining columns using merge() and join()"
   ]
  },
  {
   "cell_type": "code",
   "execution_count": null,
   "metadata": {},
   "outputs": [],
   "source": [
    "good_station_stat['name'] = id_name['name']\n",
    "good_station_stat['count'] = id_name['count']"
   ]
  },
  {
   "cell_type": "code",
   "execution_count": 1,
   "metadata": {},
   "outputs": [],
   "source": [
    "import pandas as pd\n",
    "import numpy as np"
   ]
  },
  {
   "cell_type": "code",
   "execution_count": 2,
   "metadata": {},
   "outputs": [
    {
     "name": "stdout",
     "output_type": "stream",
     "text": [
      "       author                         title\n",
      "0      Alcott                  Little Women\n",
      "1  Fitzgerald              The Great Gatsby\n",
      "2   Steinbeck               Of Mice and Men\n",
      "3       Twain  The Adventures of Tom Sawyer\n",
      "4   Hemingway       The Old Man and the Sea\n",
      "\n",
      "      author                               title\n",
      "0  Steinbeck                        East of Eden\n",
      "1      Twain  The Adventures of Huckleberry Finn\n",
      "2  Hemingway             For Whom the Bell Tolls\n",
      "3   Salinger              The Catcher in the Rye\n",
      "4  Hawthorne                 The Scarlett Letter\n"
     ]
    }
   ],
   "source": [
    "first_pupil_df = pd.DataFrame({\n",
    "        'author': ['Alcott', 'Fitzgerald', 'Steinbeck', 'Twain', 'Hemingway'],\n",
    "        'title': ['Little Women', 'The Great Gatsby', 'Of Mice and Men', 'The Adventures of Tom Sawyer', 'The Old Man and the Sea']\n",
    "})\n",
    "second_pupil_df = pd.DataFrame({\n",
    "        'author': ['Steinbeck', 'Twain', 'Hemingway', 'Salinger', 'Hawthorne'],\n",
    "        'title': ['East of Eden', 'The Adventures of Huckleberry Finn', 'For Whom the Bell Tolls', 'The Catcher in the Rye', 'The Scarlett Letter']\n",
    "})\n",
    "print(first_pupil_df)\n",
    "print()\n",
    "print(second_pupil_df)"
   ]
  },
  {
   "cell_type": "code",
   "execution_count": 3,
   "metadata": {},
   "outputs": [
    {
     "data": {
      "text/html": [
       "<div>\n",
       "<style scoped>\n",
       "    .dataframe tbody tr th:only-of-type {\n",
       "        vertical-align: middle;\n",
       "    }\n",
       "\n",
       "    .dataframe tbody tr th {\n",
       "        vertical-align: top;\n",
       "    }\n",
       "\n",
       "    .dataframe thead th {\n",
       "        text-align: right;\n",
       "    }\n",
       "</style>\n",
       "<table border=\"1\" class=\"dataframe\">\n",
       "  <thead>\n",
       "    <tr style=\"text-align: right;\">\n",
       "      <th></th>\n",
       "      <th>author</th>\n",
       "      <th>title_x</th>\n",
       "      <th>title_y</th>\n",
       "    </tr>\n",
       "  </thead>\n",
       "  <tbody>\n",
       "    <tr>\n",
       "      <th>0</th>\n",
       "      <td>Steinbeck</td>\n",
       "      <td>Of Mice and Men</td>\n",
       "      <td>East of Eden</td>\n",
       "    </tr>\n",
       "    <tr>\n",
       "      <th>1</th>\n",
       "      <td>Twain</td>\n",
       "      <td>The Adventures of Tom Sawyer</td>\n",
       "      <td>The Adventures of Huckleberry Finn</td>\n",
       "    </tr>\n",
       "    <tr>\n",
       "      <th>2</th>\n",
       "      <td>Hemingway</td>\n",
       "      <td>The Old Man and the Sea</td>\n",
       "      <td>For Whom the Bell Tolls</td>\n",
       "    </tr>\n",
       "  </tbody>\n",
       "</table>\n",
       "</div>"
      ],
      "text/plain": [
       "      author                       title_x                             title_y\n",
       "0  Steinbeck               Of Mice and Men                        East of Eden\n",
       "1      Twain  The Adventures of Tom Sawyer  The Adventures of Huckleberry Finn\n",
       "2  Hemingway       The Old Man and the Sea             For Whom the Bell Tolls"
      ]
     },
     "execution_count": 3,
     "metadata": {},
     "output_type": "execute_result"
    }
   ],
   "source": [
    "first_pupil_df.merge(second_pupil_df, on='author') \n",
    "# name of the column by which the merging will happen is passed in the on parameter"
   ]
  },
  {
   "cell_type": "markdown",
   "metadata": {},
   "source": [
    "The result contains only those authors who are present in both parts of the list.\n",
    "This mode of merging is called inner, because it results in the logical conjunction of both tables (the records that are present in both DataFrames). \n",
    "inner is the default merging mode in the merge() method.\n",
    "Its opposite is outer, the logical disjunction of both tables (the records that are present in either of the two DataFrames). The merging mode is set by the how parameter."
   ]
  },
  {
   "cell_type": "code",
   "execution_count": 4,
   "metadata": {},
   "outputs": [
    {
     "data": {
      "text/html": [
       "<div>\n",
       "<style scoped>\n",
       "    .dataframe tbody tr th:only-of-type {\n",
       "        vertical-align: middle;\n",
       "    }\n",
       "\n",
       "    .dataframe tbody tr th {\n",
       "        vertical-align: top;\n",
       "    }\n",
       "\n",
       "    .dataframe thead th {\n",
       "        text-align: right;\n",
       "    }\n",
       "</style>\n",
       "<table border=\"1\" class=\"dataframe\">\n",
       "  <thead>\n",
       "    <tr style=\"text-align: right;\">\n",
       "      <th></th>\n",
       "      <th>author</th>\n",
       "      <th>title_x</th>\n",
       "      <th>title_y</th>\n",
       "    </tr>\n",
       "  </thead>\n",
       "  <tbody>\n",
       "    <tr>\n",
       "      <th>0</th>\n",
       "      <td>Alcott</td>\n",
       "      <td>Little Women</td>\n",
       "      <td>NaN</td>\n",
       "    </tr>\n",
       "    <tr>\n",
       "      <th>1</th>\n",
       "      <td>Fitzgerald</td>\n",
       "      <td>The Great Gatsby</td>\n",
       "      <td>NaN</td>\n",
       "    </tr>\n",
       "    <tr>\n",
       "      <th>2</th>\n",
       "      <td>Steinbeck</td>\n",
       "      <td>Of Mice and Men</td>\n",
       "      <td>East of Eden</td>\n",
       "    </tr>\n",
       "    <tr>\n",
       "      <th>3</th>\n",
       "      <td>Twain</td>\n",
       "      <td>The Adventures of Tom Sawyer</td>\n",
       "      <td>The Adventures of Huckleberry Finn</td>\n",
       "    </tr>\n",
       "    <tr>\n",
       "      <th>4</th>\n",
       "      <td>Hemingway</td>\n",
       "      <td>The Old Man and the Sea</td>\n",
       "      <td>For Whom the Bell Tolls</td>\n",
       "    </tr>\n",
       "    <tr>\n",
       "      <th>5</th>\n",
       "      <td>Salinger</td>\n",
       "      <td>NaN</td>\n",
       "      <td>The Catcher in the Rye</td>\n",
       "    </tr>\n",
       "    <tr>\n",
       "      <th>6</th>\n",
       "      <td>Hawthorne</td>\n",
       "      <td>NaN</td>\n",
       "      <td>The Scarlett Letter</td>\n",
       "    </tr>\n",
       "  </tbody>\n",
       "</table>\n",
       "</div>"
      ],
      "text/plain": [
       "       author                       title_x  \\\n",
       "0      Alcott                  Little Women   \n",
       "1  Fitzgerald              The Great Gatsby   \n",
       "2   Steinbeck               Of Mice and Men   \n",
       "3       Twain  The Adventures of Tom Sawyer   \n",
       "4   Hemingway       The Old Man and the Sea   \n",
       "5    Salinger                           NaN   \n",
       "6   Hawthorne                           NaN   \n",
       "\n",
       "                              title_y  \n",
       "0                                 NaN  \n",
       "1                                 NaN  \n",
       "2                        East of Eden  \n",
       "3  The Adventures of Huckleberry Finn  \n",
       "4             For Whom the Bell Tolls  \n",
       "5              The Catcher in the Rye  \n",
       "6                 The Scarlett Letter  "
      ]
     },
     "execution_count": 4,
     "metadata": {},
     "output_type": "execute_result"
    }
   ],
   "source": [
    "first_pupil_df.merge(second_pupil_df, on='author', how='outer')"
   ]
  },
  {
   "cell_type": "code",
   "execution_count": 5,
   "metadata": {},
   "outputs": [
    {
     "data": {
      "text/html": [
       "<div>\n",
       "<style scoped>\n",
       "    .dataframe tbody tr th:only-of-type {\n",
       "        vertical-align: middle;\n",
       "    }\n",
       "\n",
       "    .dataframe tbody tr th {\n",
       "        vertical-align: top;\n",
       "    }\n",
       "\n",
       "    .dataframe thead th {\n",
       "        text-align: right;\n",
       "    }\n",
       "</style>\n",
       "<table border=\"1\" class=\"dataframe\">\n",
       "  <thead>\n",
       "    <tr style=\"text-align: right;\">\n",
       "      <th></th>\n",
       "      <th>author</th>\n",
       "      <th>title_x</th>\n",
       "      <th>title_y</th>\n",
       "    </tr>\n",
       "  </thead>\n",
       "  <tbody>\n",
       "    <tr>\n",
       "      <th>0</th>\n",
       "      <td>Alcott</td>\n",
       "      <td>Little Women</td>\n",
       "      <td>NaN</td>\n",
       "    </tr>\n",
       "    <tr>\n",
       "      <th>1</th>\n",
       "      <td>Fitzgerald</td>\n",
       "      <td>The Great Gatsby</td>\n",
       "      <td>NaN</td>\n",
       "    </tr>\n",
       "    <tr>\n",
       "      <th>2</th>\n",
       "      <td>Steinbeck</td>\n",
       "      <td>Of Mice and Men</td>\n",
       "      <td>East of Eden</td>\n",
       "    </tr>\n",
       "    <tr>\n",
       "      <th>3</th>\n",
       "      <td>Twain</td>\n",
       "      <td>The Adventures of Tom Sawyer</td>\n",
       "      <td>The Adventures of Huckleberry Finn</td>\n",
       "    </tr>\n",
       "    <tr>\n",
       "      <th>4</th>\n",
       "      <td>Hemingway</td>\n",
       "      <td>The Old Man and the Sea</td>\n",
       "      <td>For Whom the Bell Tolls</td>\n",
       "    </tr>\n",
       "  </tbody>\n",
       "</table>\n",
       "</div>"
      ],
      "text/plain": [
       "       author                       title_x  \\\n",
       "0      Alcott                  Little Women   \n",
       "1  Fitzgerald              The Great Gatsby   \n",
       "2   Steinbeck               Of Mice and Men   \n",
       "3       Twain  The Adventures of Tom Sawyer   \n",
       "4   Hemingway       The Old Man and the Sea   \n",
       "\n",
       "                              title_y  \n",
       "0                                 NaN  \n",
       "1                                 NaN  \n",
       "2                        East of Eden  \n",
       "3  The Adventures of Huckleberry Finn  \n",
       "4             For Whom the Bell Tolls  "
      ]
     },
     "execution_count": 5,
     "metadata": {},
     "output_type": "execute_result"
    }
   ],
   "source": [
    "first_pupil_df.merge(second_pupil_df, on='author', how='left')"
   ]
  },
  {
   "cell_type": "code",
   "execution_count": 6,
   "metadata": {},
   "outputs": [
    {
     "data": {
      "text/html": [
       "<div>\n",
       "<style scoped>\n",
       "    .dataframe tbody tr th:only-of-type {\n",
       "        vertical-align: middle;\n",
       "    }\n",
       "\n",
       "    .dataframe tbody tr th {\n",
       "        vertical-align: top;\n",
       "    }\n",
       "\n",
       "    .dataframe thead th {\n",
       "        text-align: right;\n",
       "    }\n",
       "</style>\n",
       "<table border=\"1\" class=\"dataframe\">\n",
       "  <thead>\n",
       "    <tr style=\"text-align: right;\">\n",
       "      <th></th>\n",
       "      <th>author</th>\n",
       "      <th>title_x</th>\n",
       "      <th>title_y</th>\n",
       "    </tr>\n",
       "  </thead>\n",
       "  <tbody>\n",
       "    <tr>\n",
       "      <th>0</th>\n",
       "      <td>Steinbeck</td>\n",
       "      <td>Of Mice and Men</td>\n",
       "      <td>East of Eden</td>\n",
       "    </tr>\n",
       "    <tr>\n",
       "      <th>1</th>\n",
       "      <td>Twain</td>\n",
       "      <td>The Adventures of Tom Sawyer</td>\n",
       "      <td>The Adventures of Huckleberry Finn</td>\n",
       "    </tr>\n",
       "    <tr>\n",
       "      <th>2</th>\n",
       "      <td>Hemingway</td>\n",
       "      <td>The Old Man and the Sea</td>\n",
       "      <td>For Whom the Bell Tolls</td>\n",
       "    </tr>\n",
       "    <tr>\n",
       "      <th>3</th>\n",
       "      <td>Salinger</td>\n",
       "      <td>NaN</td>\n",
       "      <td>The Catcher in the Rye</td>\n",
       "    </tr>\n",
       "    <tr>\n",
       "      <th>4</th>\n",
       "      <td>Hawthorne</td>\n",
       "      <td>NaN</td>\n",
       "      <td>The Scarlett Letter</td>\n",
       "    </tr>\n",
       "  </tbody>\n",
       "</table>\n",
       "</div>"
      ],
      "text/plain": [
       "      author                       title_x                             title_y\n",
       "0  Steinbeck               Of Mice and Men                        East of Eden\n",
       "1      Twain  The Adventures of Tom Sawyer  The Adventures of Huckleberry Finn\n",
       "2  Hemingway       The Old Man and the Sea             For Whom the Bell Tolls\n",
       "3   Salinger                           NaN              The Catcher in the Rye\n",
       "4  Hawthorne                           NaN                 The Scarlett Letter"
      ]
     },
     "execution_count": 6,
     "metadata": {},
     "output_type": "execute_result"
    }
   ],
   "source": [
    "first_pupil_df.merge(second_pupil_df, on='author', how='right')"
   ]
  },
  {
   "cell_type": "code",
   "execution_count": 7,
   "metadata": {},
   "outputs": [
    {
     "data": {
      "text/html": [
       "<div>\n",
       "<style scoped>\n",
       "    .dataframe tbody tr th:only-of-type {\n",
       "        vertical-align: middle;\n",
       "    }\n",
       "\n",
       "    .dataframe tbody tr th {\n",
       "        vertical-align: top;\n",
       "    }\n",
       "\n",
       "    .dataframe thead th {\n",
       "        text-align: right;\n",
       "    }\n",
       "</style>\n",
       "<table border=\"1\" class=\"dataframe\">\n",
       "  <thead>\n",
       "    <tr style=\"text-align: right;\">\n",
       "      <th></th>\n",
       "      <th>author</th>\n",
       "      <th>title_wrote the first</th>\n",
       "      <th>title_wrote the second</th>\n",
       "    </tr>\n",
       "  </thead>\n",
       "  <tbody>\n",
       "    <tr>\n",
       "      <th>0</th>\n",
       "      <td>Alcott</td>\n",
       "      <td>Little Women</td>\n",
       "      <td>NaN</td>\n",
       "    </tr>\n",
       "    <tr>\n",
       "      <th>1</th>\n",
       "      <td>Fitzgerald</td>\n",
       "      <td>The Great Gatsby</td>\n",
       "      <td>NaN</td>\n",
       "    </tr>\n",
       "    <tr>\n",
       "      <th>2</th>\n",
       "      <td>Steinbeck</td>\n",
       "      <td>Of Mice and Men</td>\n",
       "      <td>East of Eden</td>\n",
       "    </tr>\n",
       "    <tr>\n",
       "      <th>3</th>\n",
       "      <td>Twain</td>\n",
       "      <td>The Adventures of Tom Sawyer</td>\n",
       "      <td>The Adventures of Huckleberry Finn</td>\n",
       "    </tr>\n",
       "    <tr>\n",
       "      <th>4</th>\n",
       "      <td>Hemingway</td>\n",
       "      <td>The Old Man and the Sea</td>\n",
       "      <td>For Whom the Bell Tolls</td>\n",
       "    </tr>\n",
       "  </tbody>\n",
       "</table>\n",
       "</div>"
      ],
      "text/plain": [
       "       author         title_wrote the first  \\\n",
       "0      Alcott                  Little Women   \n",
       "1  Fitzgerald              The Great Gatsby   \n",
       "2   Steinbeck               Of Mice and Men   \n",
       "3       Twain  The Adventures of Tom Sawyer   \n",
       "4   Hemingway       The Old Man and the Sea   \n",
       "\n",
       "               title_wrote the second  \n",
       "0                                 NaN  \n",
       "1                                 NaN  \n",
       "2                        East of Eden  \n",
       "3  The Adventures of Huckleberry Finn  \n",
       "4             For Whom the Bell Tolls  "
      ]
     },
     "execution_count": 7,
     "metadata": {},
     "output_type": "execute_result"
    }
   ],
   "source": [
    "first_pupil_df.merge(second_pupil_df, on='author', how='left', suffixes=('_wrote the first', '_wrote the second'))"
   ]
  },
  {
   "cell_type": "markdown",
   "metadata": {},
   "source": [
    "The join() method is similar to the merge() method.\n",
    "Without the on parameter, join() will automatically seek matches by indices in the first and second DataFrames. \n",
    "If the column is passed to the on parameter, then join() finds it in the first DataFrame and begins comparing it's value to the index of the second DataFrame.\n",
    "Unlike merge(), the combination type how=‘left’ is set in join() by default.\n",
    "But the suffixes parameter is divided into two independent ones: lsuffix (“left suffix”) and rsuffix (“right suffix”). \n",
    "It's also possible to combine more than two tables using the join() method: \n",
    "    Their set is passed in a list instead of the second DataFrame."
   ]
  },
  {
   "cell_type": "code",
   "execution_count": 11,
   "metadata": {},
   "outputs": [
    {
     "name": "stdout",
     "output_type": "stream",
     "text": [
      "   a  b\n",
      "0  1  A\n",
      "1  2  B\n",
      "2  3  C\n",
      "3  4  D\n",
      "\n",
      "   a  c\n",
      "0  2  E\n",
      "1  2  F\n",
      "2  2  G\n",
      "3  2  H\n",
      "\n",
      "0      F\n",
      "1      G\n",
      "2      H\n",
      "3    NaN\n",
      "Name: c, dtype: object\n"
     ]
    }
   ],
   "source": [
    "df1 = pd.DataFrame({'a': [1, 2, 3, 4], 'b': ['A', 'B', 'C', 'D']})\n",
    "df2 = pd.DataFrame({'a': [2, 2, 2, 2], 'c': ['E', 'F', 'G', 'H']})\n",
    "print(df1)\n",
    "print()\n",
    "print(df2)\n",
    "print()\n",
    "print (df1.join(df2, on='a', rsuffix='_y')['c']) #prints the c column"
   ]
  },
  {
   "cell_type": "code",
   "execution_count": null,
   "metadata": {},
   "outputs": [],
   "source": [
    " #consider the chains' results from the gas stations' results,\n",
    "# but not average visits to all of a chain's gas stations\n",
    "good_stat2 = (\n",
    "    station_stat_full\n",
    "    .query('count > 30')\n",
    "    .pivot_table(index='name', values='time_spent', aggfunc=['median', 'count'])\n",
    ")\n",
    "good_stat2.columns = ['median_time', 'stations']\n",
    "#print(good_stat2.head(), stat.head())\n",
    "final_stat = stat.merge(good_stat2, on='name', how='left')\n",
    "print(final_stat)"
   ]
  }
 ],
 "metadata": {
  "kernelspec": {
   "display_name": "Python 3",
   "language": "python",
   "name": "python3"
  },
  "language_info": {
   "codemirror_mode": {
    "name": "ipython",
    "version": 3
   },
   "file_extension": ".py",
   "mimetype": "text/x-python",
   "name": "python",
   "nbconvert_exporter": "python",
   "pygments_lexer": "ipython3",
   "version": "3.7.6"
  }
 },
 "nbformat": 4,
 "nbformat_minor": 4
}
