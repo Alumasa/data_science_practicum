{
 "cells": [
  {
   "cell_type": "markdown",
   "metadata": {},
   "source": [
    "DATES AND TIMES"
   ]
  },
  {
   "cell_type": "code",
   "execution_count": null,
   "metadata": {},
   "outputs": [],
   "source": [
    "position['timestamp'] = pd.to_datetime(position['timestamp'], format='%Y-%m-%dT%H:%M:%S')"
   ]
  },
  {
   "cell_type": "code",
   "execution_count": null,
   "metadata": {},
   "outputs": [],
   "source": [
    "print(position.sort_values(by='level', ascending=False))\n",
    "#sort the dataframe by level"
   ]
  },
  {
   "cell_type": "code",
   "execution_count": null,
   "metadata": {},
   "outputs": [],
   "source": [
    "position['month'] = pd.DatetimeIndex(position['timestamp']).month"
   ]
  },
  {
   "cell_type": "code",
   "execution_count": null,
   "metadata": {},
   "outputs": [],
   "source": [
    "print(position.groupby('month')['level'].mean())"
   ]
  },
  {
   "cell_type": "markdown",
   "metadata": {},
   "source": [
    "TRY-EXCEPT ERRORS"
   ]
  },
  {
   "cell_type": "code",
   "execution_count": 1,
   "metadata": {},
   "outputs": [
    {
     "name": "stdout",
     "output_type": "stream",
     "text": [
      "10\n"
     ]
    }
   ],
   "source": [
    "position = [\n",
    "['2019-05-01', '6'],\n",
    "['2019-05-02', '5'],\n",
    "['2019-05-03', '5'],\n",
    "['2019-05-04', '4'],\n",
    "['2019-05-05', '5'],\n",
    "['2019-05-06', '5'],\n",
    "['2019-05-07', '4'],\n",
    "['2019-05-08', '4'],\n",
    "['2019-05-09', '3'],\n",
    "['2019-05-10', '3'],\n",
    "]\n",
    "count_lines = 0\n",
    "\n",
    "for row in position:\n",
    "    count_lines += 1#write your code here\n",
    "    \n",
    "print(count_lines)"
   ]
  },
  {
   "cell_type": "code",
   "execution_count": 2,
   "metadata": {},
   "outputs": [
    {
     "name": "stdout",
     "output_type": "stream",
     "text": [
      "2.2\n"
     ]
    }
   ],
   "source": [
    "total_position = 0\n",
    "\n",
    "for row in position:\n",
    "\tcount_lines += 1\n",
    "\tlevel = int(row[1])#save the search ranking to this variable\n",
    "\ttotal_position += level#a total of all positions goes in this variable\n",
    "    \n",
    "print(total_position / count_lines)"
   ]
  },
  {
   "cell_type": "code",
   "execution_count": 3,
   "metadata": {},
   "outputs": [
    {
     "name": "stdout",
     "output_type": "stream",
     "text": [
      "Total measurements: 30\n",
      "Total erroneous rows: 0\n"
     ]
    }
   ],
   "source": [
    "erroneous_rows = 0\n",
    "\n",
    "for row in position:\n",
    "    try:\n",
    "        count_lines += 1\n",
    "        level = int(row[1])\n",
    "        total_position += level\n",
    "    except:\n",
    "        erroneous_rows += 1\n",
    "print('Total measurements:', count_lines)\n",
    "print('Total erroneous rows:', erroneous_rows)\n",
    "    "
   ]
  },
  {
   "cell_type": "code",
   "execution_count": null,
   "metadata": {},
   "outputs": [],
   "source": [
    "for row in position:\n",
    "    try:\n",
    "        count_lines += 1\n",
    "        level = int(row[1])\n",
    "        total_position += level\n",
    "    except:\n",
    "        erroneous_rows_content.append(row)\n",
    "print('Total measurements:', count_lines)\n",
    "print('Erroneous rows:', erroneous_rows_content)"
   ]
  }
 ],
 "metadata": {
  "kernelspec": {
   "display_name": "Python 3",
   "language": "python",
   "name": "python3"
  },
  "language_info": {
   "codemirror_mode": {
    "name": "ipython",
    "version": 3
   },
   "file_extension": ".py",
   "mimetype": "text/x-python",
   "name": "python",
   "nbconvert_exporter": "python",
   "pygments_lexer": "ipython3",
   "version": "3.7.6"
  }
 },
 "nbformat": 4,
 "nbformat_minor": 4
}
