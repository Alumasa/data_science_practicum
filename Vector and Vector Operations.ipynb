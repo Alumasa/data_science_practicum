{
 "cells": [
  {
   "cell_type": "markdown",
   "metadata": {},
   "source": [
    "### Creating vectors"
   ]
  },
  {
   "cell_type": "code",
   "execution_count": 1,
   "metadata": {},
   "outputs": [
    {
     "name": "stdout",
     "output_type": "stream",
     "text": [
      "[2, 3]\n"
     ]
    }
   ],
   "source": [
    "#a two number list\n",
    "numbers1 = [2, 3] # Python list\n",
    "print(numbers1)"
   ]
  },
  {
   "cell_type": "code",
   "execution_count": 2,
   "metadata": {},
   "outputs": [
    {
     "name": "stdout",
     "output_type": "stream",
     "text": [
      "[2 3]\n"
     ]
    }
   ],
   "source": [
    "#convert list to vector\n",
    "import numpy as np\n",
    "vector1 = np.array(numbers1) # NumPy array\n",
    "print(vector1)"
   ]
  },
  {
   "cell_type": "code",
   "execution_count": 3,
   "metadata": {},
   "outputs": [
    {
     "name": "stdout",
     "output_type": "stream",
     "text": [
      "[6 2]\n"
     ]
    }
   ],
   "source": [
    "import numpy as np\n",
    "vector2 = np.array([6, 2])\n",
    "print(vector2)"
   ]
  },
  {
   "cell_type": "code",
   "execution_count": 4,
   "metadata": {},
   "outputs": [
    {
     "name": "stdout",
     "output_type": "stream",
     "text": [
      "[6, 2]\n"
     ]
    }
   ],
   "source": [
    "numbers2 = list(vector2) # List from vector\n",
    "print(numbers2)"
   ]
  },
  {
   "cell_type": "code",
   "execution_count": 6,
   "metadata": {},
   "outputs": [
    {
     "name": "stdout",
     "output_type": "stream",
     "text": [
      "[1 7 3]\n"
     ]
    }
   ],
   "source": [
    "#DataFrame structure in pandas is converted into a NumPy vector using the values attribute:\n",
    "import pandas as pd\n",
    "data = pd.DataFrame([1, 7, 3])\n",
    "print(data[0].values)"
   ]
  },
  {
   "cell_type": "code",
   "execution_count": 11,
   "metadata": {},
   "outputs": [
    {
     "data": {
      "text/plain": [
       "(   0\n",
       " 0  1\n",
       " 1  7\n",
       " 2  3,\n",
       " array([1, 7, 3], dtype=int64))"
      ]
     },
     "execution_count": 11,
     "metadata": {},
     "output_type": "execute_result"
    }
   ],
   "source": [
    "data, data[0].values"
   ]
  },
  {
   "cell_type": "code",
   "execution_count": 12,
   "metadata": {},
   "outputs": [
    {
     "name": "stdout",
     "output_type": "stream",
     "text": [
      "2\n"
     ]
    }
   ],
   "source": [
    "#len() function to determine the vector size (number of its elements):\n",
    "print(len(vector2))"
   ]
  },
  {
   "cell_type": "code",
   "execution_count": 13,
   "metadata": {},
   "outputs": [
    {
     "name": "stdout",
     "output_type": "stream",
     "text": [
      "    Price  Quality\n",
      "0      68       18\n",
      "1      81       19\n",
      "2      81       22\n",
      "3      15       75\n",
      "4      75       15\n",
      "5      17       72\n",
      "6      24       75\n",
      "7      21       91\n",
      "8      76        6\n",
      "9      12       74\n",
      "10     18       83\n",
      "11     20       62\n",
      "12     21       82\n",
      "13     21       79\n",
      "14     84       15\n",
      "15     73       16\n",
      "16     88       25\n",
      "17     78       23\n",
      "18     32       81\n",
      "19     77       35\n"
     ]
    }
   ],
   "source": [
    "import numpy as np\n",
    "import pandas as pd\n",
    "\n",
    "ratings_values = [\n",
    "    [68,18], [81,19], [81,22], [15,75], [75,15], [17,72], \n",
    "    [24,75], [21,91], [76, 6], [12,74], [18,83], [20,62], \n",
    "    [21,82], [21,79], [84,15], [73,16], [88,25], [78,23], \n",
    "    [32, 81], [77, 35]]\n",
    "ratings = pd.DataFrame(ratings_values, columns=['Price', 'Quality'])\n",
    "print(ratings)"
   ]
  },
  {
   "cell_type": "code",
   "execution_count": 14,
   "metadata": {},
   "outputs": [
    {
     "name": "stdout",
     "output_type": "stream",
     "text": [
      "Price:  [68 81 81 15 75 17 24 21 76 12 18 20 21 21 84 73 88 78 32 77]\n",
      "Quality:  [18 19 22 75 15 72 75 91  6 74 83 62 82 79 15 16 25 23 81 35]\n"
     ]
    }
   ],
   "source": [
    "price = np.array(ratings['Price'])# < write code here >\n",
    "quality = np.array(ratings['Quality'])# < write code here >\n",
    "print(\"Price: \", price)\n",
    "print(\"Quality: \", quality)"
   ]
  },
  {
   "cell_type": "code",
   "execution_count": 21,
   "metadata": {},
   "outputs": [
    {
     "name": "stdout",
     "output_type": "stream",
     "text": [
      "Number of visitors: 20\n",
      "Visitor 4: [75 15]\n"
     ]
    }
   ],
   "source": [
    "visitors_count = len(ratings['Price'].values)# < write code here >\n",
    "visitor4 = np.array(ratings.loc[4])# < write code here >\n",
    "print(\"Number of visitors:\", visitors_count)\n",
    "print(\"Visitor 4:\", visitor4)"
   ]
  },
  {
   "cell_type": "code",
   "execution_count": 24,
   "metadata": {},
   "outputs": [
    {
     "name": "stdout",
     "output_type": "stream",
     "text": [
      "[18, 19, 22, 75, 15, 72, 75, 91, 6, 74, 83, 62, 82, 79, 15, 16, 25, 23, 81, 35]\n"
     ]
    }
   ],
   "source": [
    "vector_list = list(ratings['Quality'].values)# < write code here >\n",
    "print(vector_list)"
   ]
  },
  {
   "cell_type": "code",
   "execution_count": 25,
   "metadata": {},
   "outputs": [
    {
     "name": "stdout",
     "output_type": "stream",
     "text": [
      "[array([68, 18], dtype=int64), array([81, 19], dtype=int64), array([81, 22], dtype=int64), array([15, 75], dtype=int64), array([75, 15], dtype=int64), array([17, 72], dtype=int64), array([24, 75], dtype=int64), array([21, 91], dtype=int64), array([76,  6], dtype=int64), array([12, 74], dtype=int64), array([18, 83], dtype=int64), array([20, 62], dtype=int64), array([21, 82], dtype=int64), array([21, 79], dtype=int64), array([84, 15], dtype=int64), array([73, 16], dtype=int64), array([88, 25], dtype=int64), array([78, 23], dtype=int64), array([32, 81], dtype=int64), array([77, 35], dtype=int64)]\n"
     ]
    }
   ],
   "source": [
    "vector_list = list(ratings.values)# < write code here >\n",
    "print(vector_list)"
   ]
  },
  {
   "cell_type": "code",
   "execution_count": null,
   "metadata": {},
   "outputs": [],
   "source": []
  }
 ],
 "metadata": {
  "kernelspec": {
   "display_name": "Python 3",
   "language": "python",
   "name": "python3"
  },
  "language_info": {
   "codemirror_mode": {
    "name": "ipython",
    "version": 3
   },
   "file_extension": ".py",
   "mimetype": "text/x-python",
   "name": "python",
   "nbconvert_exporter": "python",
   "pygments_lexer": "ipython3",
   "version": "3.7.6"
  }
 },
 "nbformat": 4,
 "nbformat_minor": 4
}
