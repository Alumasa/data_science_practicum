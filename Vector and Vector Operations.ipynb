{
 "cells": [
  {
   "cell_type": "markdown",
   "metadata": {},
   "source": [
    "### Creating vectors"
   ]
  },
  {
   "cell_type": "code",
   "execution_count": 1,
   "metadata": {},
   "outputs": [
    {
     "name": "stdout",
     "output_type": "stream",
     "text": [
      "[2, 3]\n"
     ]
    }
   ],
   "source": [
    "#a two number list\n",
    "numbers1 = [2, 3] # Python list\n",
    "print(numbers1)"
   ]
  },
  {
   "cell_type": "code",
   "execution_count": 2,
   "metadata": {},
   "outputs": [
    {
     "name": "stdout",
     "output_type": "stream",
     "text": [
      "[2 3]\n"
     ]
    }
   ],
   "source": [
    "#convert list to vector\n",
    "import numpy as np\n",
    "vector1 = np.array(numbers1) # NumPy array\n",
    "print(vector1)"
   ]
  },
  {
   "cell_type": "code",
   "execution_count": 3,
   "metadata": {},
   "outputs": [
    {
     "name": "stdout",
     "output_type": "stream",
     "text": [
      "[6 2]\n"
     ]
    }
   ],
   "source": [
    "import numpy as np\n",
    "vector2 = np.array([6, 2])\n",
    "print(vector2)"
   ]
  },
  {
   "cell_type": "code",
   "execution_count": 4,
   "metadata": {},
   "outputs": [
    {
     "name": "stdout",
     "output_type": "stream",
     "text": [
      "[6, 2]\n"
     ]
    }
   ],
   "source": [
    "numbers2 = list(vector2) # List from vector\n",
    "print(numbers2)"
   ]
  },
  {
   "cell_type": "code",
   "execution_count": 6,
   "metadata": {},
   "outputs": [
    {
     "name": "stdout",
     "output_type": "stream",
     "text": [
      "[1 7 3]\n"
     ]
    }
   ],
   "source": [
    "#DataFrame structure in pandas is converted into a NumPy vector using the values attribute:\n",
    "import pandas as pd\n",
    "data = pd.DataFrame([1, 7, 3])\n",
    "print(data[0].values)"
   ]
  },
  {
   "cell_type": "code",
   "execution_count": 11,
   "metadata": {},
   "outputs": [
    {
     "data": {
      "text/plain": [
       "(   0\n",
       " 0  1\n",
       " 1  7\n",
       " 2  3,\n",
       " array([1, 7, 3], dtype=int64))"
      ]
     },
     "execution_count": 11,
     "metadata": {},
     "output_type": "execute_result"
    }
   ],
   "source": [
    "data, data[0].values"
   ]
  },
  {
   "cell_type": "code",
   "execution_count": 12,
   "metadata": {},
   "outputs": [
    {
     "name": "stdout",
     "output_type": "stream",
     "text": [
      "2\n"
     ]
    }
   ],
   "source": [
    "#len() function to determine the vector size (number of its elements):\n",
    "print(len(vector2))"
   ]
  },
  {
   "cell_type": "code",
   "execution_count": 13,
   "metadata": {},
   "outputs": [
    {
     "name": "stdout",
     "output_type": "stream",
     "text": [
      "    Price  Quality\n",
      "0      68       18\n",
      "1      81       19\n",
      "2      81       22\n",
      "3      15       75\n",
      "4      75       15\n",
      "5      17       72\n",
      "6      24       75\n",
      "7      21       91\n",
      "8      76        6\n",
      "9      12       74\n",
      "10     18       83\n",
      "11     20       62\n",
      "12     21       82\n",
      "13     21       79\n",
      "14     84       15\n",
      "15     73       16\n",
      "16     88       25\n",
      "17     78       23\n",
      "18     32       81\n",
      "19     77       35\n"
     ]
    }
   ],
   "source": [
    "import numpy as np\n",
    "import pandas as pd\n",
    "\n",
    "ratings_values = [\n",
    "    [68,18], [81,19], [81,22], [15,75], [75,15], [17,72], \n",
    "    [24,75], [21,91], [76, 6], [12,74], [18,83], [20,62], \n",
    "    [21,82], [21,79], [84,15], [73,16], [88,25], [78,23], \n",
    "    [32, 81], [77, 35]]\n",
    "ratings = pd.DataFrame(ratings_values, columns=['Price', 'Quality'])\n",
    "print(ratings)"
   ]
  },
  {
   "cell_type": "code",
   "execution_count": 14,
   "metadata": {},
   "outputs": [
    {
     "name": "stdout",
     "output_type": "stream",
     "text": [
      "Price:  [68 81 81 15 75 17 24 21 76 12 18 20 21 21 84 73 88 78 32 77]\n",
      "Quality:  [18 19 22 75 15 72 75 91  6 74 83 62 82 79 15 16 25 23 81 35]\n"
     ]
    }
   ],
   "source": [
    "price = np.array(ratings['Price'])# < write code here >\n",
    "quality = np.array(ratings['Quality'])# < write code here >\n",
    "print(\"Price: \", price)\n",
    "print(\"Quality: \", quality)"
   ]
  },
  {
   "cell_type": "code",
   "execution_count": 21,
   "metadata": {},
   "outputs": [
    {
     "name": "stdout",
     "output_type": "stream",
     "text": [
      "Number of visitors: 20\n",
      "Visitor 4: [75 15]\n"
     ]
    }
   ],
   "source": [
    "visitors_count = len(ratings['Price'].values)# < write code here >\n",
    "visitor4 = np.array(ratings.loc[4])# < write code here >\n",
    "print(\"Number of visitors:\", visitors_count)\n",
    "print(\"Visitor 4:\", visitor4)"
   ]
  },
  {
   "cell_type": "code",
   "execution_count": 24,
   "metadata": {},
   "outputs": [
    {
     "name": "stdout",
     "output_type": "stream",
     "text": [
      "[18, 19, 22, 75, 15, 72, 75, 91, 6, 74, 83, 62, 82, 79, 15, 16, 25, 23, 81, 35]\n"
     ]
    }
   ],
   "source": [
    "vector_list = list(ratings['Quality'].values)# < write code here >\n",
    "print(vector_list)"
   ]
  },
  {
   "cell_type": "code",
   "execution_count": 25,
   "metadata": {},
   "outputs": [
    {
     "name": "stdout",
     "output_type": "stream",
     "text": [
      "[array([68, 18], dtype=int64), array([81, 19], dtype=int64), array([81, 22], dtype=int64), array([15, 75], dtype=int64), array([75, 15], dtype=int64), array([17, 72], dtype=int64), array([24, 75], dtype=int64), array([21, 91], dtype=int64), array([76,  6], dtype=int64), array([12, 74], dtype=int64), array([18, 83], dtype=int64), array([20, 62], dtype=int64), array([21, 82], dtype=int64), array([21, 79], dtype=int64), array([84, 15], dtype=int64), array([73, 16], dtype=int64), array([88, 25], dtype=int64), array([78, 23], dtype=int64), array([32, 81], dtype=int64), array([77, 35], dtype=int64)]\n"
     ]
    }
   ],
   "source": [
    "vector_list = list(ratings.values)# < write code here >\n",
    "print(vector_list)"
   ]
  },
  {
   "cell_type": "markdown",
   "metadata": {},
   "source": [
    "### Vector Presentation"
   ]
  },
  {
   "cell_type": "code",
   "execution_count": 26,
   "metadata": {},
   "outputs": [
    {
     "data": {
      "image/png": "[encoded data removed]",
      "text/plain": [
       "<Figure size 504x504 with 1 Axes>"
      ]
     },
     "metadata": {
      "needs_background": "light"
     },
     "output_type": "display_data"
    }
   ],
   "source": [
    "import numpy as np\n",
    "import matplotlib.pyplot as plt\n",
    "\n",
    "vector1 = np.array([2, 3])\n",
    "vector2 = np.array([6, 2])\n",
    "\n",
    "plt.figure(figsize=(7, 7))\n",
    "plt.axis([0, 7, 0, 7])\n",
    "# 'ro' argument sets graph style\n",
    "# 'r' - red\n",
    "# 'o' - circle\n",
    "plt.plot([vector1[0], vector2[0]], [vector1[1], vector2[1]], 'ro') \n",
    "plt.grid(True)\n",
    "plt.show();"
   ]
  },
  {
   "cell_type": "code",
   "execution_count": 32,
   "metadata": {},
   "outputs": [
    {
     "data": {
      "image/png": "[encoded data removed]",
      "text/plain": [
       "<Figure size 504x504 with 1 Axes>"
      ]
     },
     "metadata": {
      "needs_background": "light"
     },
     "output_type": "display_data"
    }
   ],
   "source": [
    "#Let's use arrows to draw the same vectors. Instead of plt.plot(), call plt.arrow().\n",
    "vector1 = np.array([2, 3])\n",
    "vector2 = np.array([6, 2])\n",
    "\n",
    "plt.figure(figsize=(7, 7))\n",
    "plt.axis([0, 7, 0, 7])\n",
    "plt.arrow(0, 0, vector1[0], vector1[1], head_width=0.3,\n",
    "          length_includes_head=\"True\", color='b')\n",
    "plt.arrow(0, 0, vector2[0], vector2[1], head_width=0.3,\n",
    "          length_includes_head=\"True\", color='g')\n",
    "plt.plot(0, 0, 'ro')\n",
    "plt.grid(True)\n",
    "plt.show();"
   ]
  },
  {
   "cell_type": "code",
   "execution_count": 33,
   "metadata": {},
   "outputs": [
    {
     "data": {
      "image/png": "[encoded data removed]",
      "text/plain": [
       "<Figure size 504x504 with 1 Axes>"
      ]
     },
     "metadata": {
      "needs_background": "light"
     },
     "output_type": "display_data"
    }
   ],
   "source": [
    "vector = np.array([75, 15])\n",
    "plt.figure(figsize=(7, 7))\n",
    "plt.axis([0, 100, 0, 100]) \n",
    "plt.arrow(0, 0, vector[0], vector[1], head_width=4, length_includes_head=\"True\", color='r')\n",
    "plt.xlabel('Price')\n",
    "plt.ylabel('Quality')\n",
    "plt.grid(True)\n",
    "plt.show()"
   ]
  },
  {
   "cell_type": "code",
   "execution_count": 34,
   "metadata": {},
   "outputs": [
    {
     "data": {
      "image/png": "[encoded data removed]",
      "text/plain": [
       "<Figure size 504x504 with 1 Axes>"
      ]
     },
     "metadata": {
      "needs_background": "light"
     },
     "output_type": "display_data"
    }
   ],
   "source": [
    "plt.figure(figsize=(7, 7))\n",
    "plt.axis([0, 100, 0, 100])\n",
    "price = ratings['Price'].values\n",
    "quality = ratings['Quality'].values\n",
    "plt.plot(price, quality, 'ro')\n",
    "plt.xlabel('Price')\n",
    "plt.ylabel('Quality')\n",
    "plt.grid(True)\n",
    "plt.show()"
   ]
  },
  {
   "cell_type": "code",
   "execution_count": 36,
   "metadata": {},
   "outputs": [
    {
     "name": "stdout",
     "output_type": "stream",
     "text": [
      "Visitor ratings from the first aggregator: [array([15, 75], dtype=int64), array([17, 72], dtype=int64), array([24, 75], dtype=int64), array([21, 91], dtype=int64), array([12, 74], dtype=int64), array([18, 83], dtype=int64), array([20, 62], dtype=int64), array([21, 82], dtype=int64), array([21, 79], dtype=int64), array([32, 81], dtype=int64)]\n",
      "Visitor ratings from the second aggregator: [array([68, 18], dtype=int64), array([81, 19], dtype=int64), array([81, 22], dtype=int64), array([75, 15], dtype=int64), array([76,  6], dtype=int64), array([84, 15], dtype=int64), array([73, 16], dtype=int64), array([88, 25], dtype=int64), array([78, 23], dtype=int64), array([77, 35], dtype=int64)]\n"
     ]
    }
   ],
   "source": [
    "#solve a clustering task\n",
    "visitors_1 = []\n",
    "visitors_2 = []\n",
    "for visitor in list(ratings.values):\n",
    "    # < write code here >\n",
    "    if visitor[1] > 60:\n",
    "        visitors_1.append(visitor)\n",
    "    else:\n",
    "        visitors_2.append(visitor)\n",
    "print(\"Visitor ratings from the first aggregator:\", visitors_1)\n",
    "print(\"Visitor ratings from the second aggregator:\", visitors_2)"
   ]
  },
  {
   "cell_type": "markdown",
   "metadata": {},
   "source": [
    "### Addition and Subtraction of Vectors"
   ]
  },
  {
   "cell_type": "code",
   "execution_count": 37,
   "metadata": {},
   "outputs": [
    {
     "name": "stdout",
     "output_type": "stream",
     "text": [
      "[8 5]\n"
     ]
    }
   ],
   "source": [
    "import numpy as np\n",
    "\n",
    "vector1 = np.array([2, 3])\n",
    "vector2 = np.array([6, 2])\n",
    "sum_of_vectors = vector1 + vector2\n",
    "print(sum_of_vectors)"
   ]
  },
  {
   "cell_type": "code",
   "execution_count": 38,
   "metadata": {},
   "outputs": [
    {
     "name": "stdout",
     "output_type": "stream",
     "text": [
      "[ 4 -1]\n"
     ]
    }
   ],
   "source": [
    "subtraction = vector2 - vector1\n",
    "print(subtraction)"
   ]
  },
  {
   "cell_type": "code",
   "execution_count": 39,
   "metadata": {},
   "outputs": [
    {
     "data": {
      "image/png": "[encoded data removed]",
      "text/plain": [
       "<Figure size 518.4x504 with 1 Axes>"
      ]
     },
     "metadata": {
      "needs_background": "light"
     },
     "output_type": "display_data"
    }
   ],
   "source": [
    "#Plot the obtained vectors with arrows on the plane:\n",
    "import numpy as np\n",
    "import matplotlib.pyplot as plt\n",
    "\n",
    "vector1 = np.array([2, 3])\n",
    "vector2 = np.array([6, 2])\n",
    "sum_of_vectors = vector1 + vector2\n",
    "subtraction = vector2 - vector1\n",
    "\n",
    "plt.figure(figsize=(7.2, 7))\n",
    "plt.axis([0, 8.4, -2, 6])\n",
    "arrow1 = plt.arrow(0, 0, vector1[0], vector1[1], head_width=0.3,\n",
    "               length_includes_head=\"True\", color='b')\n",
    "arrow2 = plt.arrow(0, 0, vector2[0], vector2[1], head_width=0.3,\n",
    "               length_includes_head=\"True\", color='g')\n",
    "arrow3 = plt.arrow(0, 0, sum_of_vectors[0], sum_of_vectors[1],\n",
    "               head_width=0.3, length_includes_head=\"True\", color='r')\n",
    "arrow4 = plt.arrow(0, 0, subtraction[0], subtraction[1],\n",
    "               head_width=0.3, length_includes_head=\"True\", color='m')\n",
    "plt.plot(0, 0, 'ro')\n",
    "plt.legend([arrow1, arrow2, arrow3, arrow4],\n",
    "           ['vector1', 'vector2', 'sum_of_vectors', 'subtraction'], loc='upper left')\n",
    "plt.grid(True)\n",
    "plt.show()"
   ]
  },
  {
   "cell_type": "code",
   "execution_count": 42,
   "metadata": {},
   "outputs": [
    {
     "data": {
      "image/png": "[encoded data removed]",
      "text/plain": [
       "<Figure size 518.4x504 with 1 Axes>"
      ]
     },
     "metadata": {
      "needs_background": "light"
     },
     "output_type": "display_data"
    }
   ],
   "source": [
    "import numpy as np\n",
    "import matplotlib.pyplot as plt\n",
    "\n",
    "vector1 = np.array([2, 3])\n",
    "vector2 = np.array([6, 2])\n",
    "sum_of_vectors = vector1 + vector2\n",
    "\n",
    "plt.figure(figsize=(7.2, 7))\n",
    "plt.axis([0, 8.4, -2, 6])\n",
    "arrow1 = plt.arrow(0, 0, vector1[0], vector1[1],\n",
    "               head_width=0.3, length_includes_head=\"True\", color='b')\n",
    "arrow2 = plt.arrow(0, 0, vector2[0], vector2[1],\n",
    "               head_width=0.3, length_includes_head=\"True\", color='g')\n",
    "arrow2new = plt.arrow(vector1[0], vector1[1], vector2[0], vector2[1],\n",
    "               head_width=0.3, length_includes_head=\"True\", color='g')\n",
    "arrow3 = plt.arrow(0, 0, sum_of_vectors[0], sum_of_vectors[1],\n",
    "               head_width=0.3, length_includes_head=\"True\", color='r')\n",
    "plt.plot(0, 0, 'ro')\n",
    "plt.legend([arrow1, arrow2, arrow3],\n",
    "           ['vector1', 'vector2','sum_of_vectors'], loc='upper left')\n",
    "plt.grid(True)\n",
    "plt.show()"
   ]
  },
  {
   "cell_type": "markdown",
   "metadata": {},
   "source": [
    "- The triangle formed in the graph above gives a geometric sense to the addition of vectors. \n",
    "- If each vector is a movement in a certain direction, then the sum of two added vectors is the movement along the first vector followed with the movement along the second one."
   ]
  },
  {
   "cell_type": "code",
   "execution_count": 43,
   "metadata": {},
   "outputs": [
    {
     "data": {
      "image/png": "[encoded data removed]",
      "text/plain": [
       "<Figure size 518.4x504 with 1 Axes>"
      ]
     },
     "metadata": {
      "needs_background": "light"
     },
     "output_type": "display_data"
    }
   ],
   "source": [
    "#Plot the subtraction vector:\n",
    "import numpy as np\n",
    "import matplotlib.pyplot as plt\n",
    "\n",
    "vector1 = np.array([2, 3])\n",
    "vector2 = np.array([6, 2])\n",
    "sum_of_vectors = vector1 + vector2\n",
    "subtraction = vector2 - vector1\n",
    "\n",
    "plt.figure(figsize=(7.2, 7))\n",
    "plt.axis([0, 8.4, -2, 6])\n",
    "arrow1 = plt.arrow(0, 0, vector1[0], vector1[1],\n",
    "                   head_width=0.3, length_includes_head=\"True\", color='b')\n",
    "arrow2 = plt.arrow(0, 0, vector2[0], vector2[1],\n",
    "                   head_width=0.3, length_includes_head=\"True\", color='g')\n",
    "arrow4 = plt.arrow(0, 0, subtraction[0], subtraction[1],\n",
    "                   head_width=0.3, length_includes_head=\"True\", color='m')\n",
    "arrow1new = plt.arrow(vector2[0], vector2[1], -vector1[0], -vector1[1],\n",
    "                   head_width=0.3, length_includes_head=\"True\", color='b')\n",
    "plt.plot(0, 0, 'ro')\n",
    "plt.legend([arrow1, arrow2,  arrow4], ['vector1', 'vector2',  'subtraction'],\n",
    "           loc='upper left')\n",
    "plt.grid(True)\n",
    "plt.show()"
   ]
  },
  {
   "cell_type": "code",
   "execution_count": 44,
   "metadata": {},
   "outputs": [
    {
     "name": "stdout",
     "output_type": "stream",
     "text": [
      "                                 Quantity\n",
      "Silicone case for iPhone 8             25\n",
      "Leather case for iPhone 8              63\n",
      "Silicone case for iPhone XS            80\n",
      "Leather case for iPhone XS             91\n",
      "Silicone case for iPhone XS Max        81\n",
      "Leather case for iPhone XS Max         55\n",
      "Silicone case for iPhone 11            14\n",
      "Leather case for iPhone 11             76\n",
      "Silicone case for iPhone 11 Pro        33\n",
      "Leather case for iPhone 11 Pro         71\n"
     ]
    }
   ],
   "source": [
    "import numpy as np\n",
    "import pandas as pd\n",
    "\n",
    "quantity_1 = [25, 63, 80, 91, 81, 55, 14, 76, 33, 71]\n",
    "models = ['Silicone case for iPhone 8',\n",
    "          'Leather case for iPhone 8',\n",
    "          'Silicone case for iPhone XS',\n",
    "          'Leather case for iPhone XS',\n",
    "          'Silicone case for iPhone XS Max',\n",
    "          'Leather case for iPhone XS Max',\n",
    "          'Silicone case for iPhone 11',\n",
    "          'Leather case for iPhone 11',\n",
    "          'Silicone case for iPhone 11 Pro',\n",
    "          'Leather case for iPhone 11 Pro',\n",
    "         ]\n",
    "stocks_1 = pd.DataFrame({'Quantity' : quantity_1}, index=models)\n",
    "print(stocks_1)"
   ]
  },
  {
   "cell_type": "code",
   "execution_count": 45,
   "metadata": {},
   "outputs": [
    {
     "name": "stdout",
     "output_type": "stream",
     "text": [
      "                                 Quantity\n",
      "Silicone case for iPhone 8             82\n",
      "Leather case for iPhone 8              24\n",
      "Silicone case for iPhone XS            92\n",
      "Leather case for iPhone XS             48\n",
      "Silicone case for iPhone XS Max        32\n",
      "Leather case for iPhone XS Max         45\n",
      "Silicone case for iPhone 11             4\n",
      "Leather case for iPhone 11             34\n",
      "Silicone case for iPhone 11 Pro        12\n",
      "Leather case for iPhone 11 Pro          1\n"
     ]
    }
   ],
   "source": [
    "quantity_2 = [82, 24, 92, 48, 32, 45, 4, 34, 12, 1]\n",
    "stocks_2 = pd.DataFrame({'Quantity' : quantity_2}, index=models)\n",
    "print(stocks_2)"
   ]
  },
  {
   "cell_type": "code",
   "execution_count": 46,
   "metadata": {},
   "outputs": [
    {
     "name": "stdout",
     "output_type": "stream",
     "text": [
      "First store stocks: [25 63 80 91 81 55 14 76 33 71] \n",
      "Second store stocks: [82 24 92 48 32 45  4 34 12  1]\n"
     ]
    }
   ],
   "source": [
    "vector_of_quantity_1 =  np.array(stocks_1['Quantity'])# < write code here >\n",
    "vector_of_quantity_2 =  stocks_2['Quantity'].values# < write code here >\n",
    "print(\"First store stocks:\", vector_of_quantity_1,\n",
    "      \"\\nSecond store stocks:\",vector_of_quantity_2)"
   ]
  },
  {
   "cell_type": "code",
   "execution_count": 47,
   "metadata": {},
   "outputs": [
    {
     "name": "stdout",
     "output_type": "stream",
     "text": [
      "[107  87 172 139 113 100  18 110  45  72]\n"
     ]
    }
   ],
   "source": [
    "vector_of_quantity_1 = stocks_1['Quantity'].values\n",
    "vector_of_quantity_2 = stocks_2['Quantity'].values\n",
    "\n",
    "vector_of_quantity_united = vector_of_quantity_1 + vector_of_quantity_2# < write code here >\n",
    "print(vector_of_quantity_united)"
   ]
  },
  {
   "cell_type": "code",
   "execution_count": 48,
   "metadata": {},
   "outputs": [
    {
     "name": "stdout",
     "output_type": "stream",
     "text": [
      "                                 Quantity\n",
      "Silicone case for iPhone 8            107\n",
      "Leather case for iPhone 8              87\n",
      "Silicone case for iPhone XS           172\n",
      "Leather case for iPhone XS            139\n",
      "Silicone case for iPhone XS Max       113\n",
      "Leather case for iPhone XS Max        100\n",
      "Silicone case for iPhone 11            18\n",
      "Leather case for iPhone 11            110\n",
      "Silicone case for iPhone 11 Pro        45\n",
      "Leather case for iPhone 11 Pro         72\n"
     ]
    }
   ],
   "source": [
    "stocks_united = pd.DataFrame({'Quantity': vector_of_quantity_united}, index=models)\n",
    "print(stocks_united)"
   ]
  },
  {
   "cell_type": "code",
   "execution_count": null,
   "metadata": {},
   "outputs": [],
   "source": []
  }
 ],
 "metadata": {
  "kernelspec": {
   "display_name": "Python 3",
   "language": "python",
   "name": "python3"
  },
  "language_info": {
   "codemirror_mode": {
    "name": "ipython",
    "version": 3
   },
   "file_extension": ".py",
   "mimetype": "text/x-python",
   "name": "python",
   "nbconvert_exporter": "python",
   "pygments_lexer": "ipython3",
   "version": "3.7.6"
  }
 },
 "nbformat": 4,
 "nbformat_minor": 4
}
