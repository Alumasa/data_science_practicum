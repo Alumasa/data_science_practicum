{
 "cells": [
  {
   "cell_type": "markdown",
   "metadata": {},
   "source": [
    "### <font color=blue>GET Requests</font>"
   ]
  },
  {
   "cell_type": "code",
   "execution_count": 34,
   "metadata": {},
   "outputs": [
    {
     "ename": "ConnectionError",
     "evalue": "HTTPSConnectionPool(host='store.data-analyst.praktikum-services.ru', port=443): Max retries exceeded with url: /en/ (Caused by NewConnectionError('<urllib3.connection.VerifiedHTTPSConnection object at 0x00000222A6F2FB08>: Failed to establish a new connection: [Errno 11001] getaddrinfo failed'))",
     "output_type": "error",
     "traceback": [
      "\u001b[1;31m---------------------------------------------------------------------------\u001b[0m",
      "\u001b[1;31mgaierror\u001b[0m                                  Traceback (most recent call last)",
      "\u001b[1;32mC:\\ProgramData\\Anaconda3\\lib\\site-packages\\urllib3\\connection.py\u001b[0m in \u001b[0;36m_new_conn\u001b[1;34m(self)\u001b[0m\n\u001b[0;32m    156\u001b[0m             conn = connection.create_connection(\n\u001b[1;32m--> 157\u001b[1;33m                 \u001b[1;33m(\u001b[0m\u001b[0mself\u001b[0m\u001b[1;33m.\u001b[0m\u001b[0m_dns_host\u001b[0m\u001b[1;33m,\u001b[0m \u001b[0mself\u001b[0m\u001b[1;33m.\u001b[0m\u001b[0mport\u001b[0m\u001b[1;33m)\u001b[0m\u001b[1;33m,\u001b[0m \u001b[0mself\u001b[0m\u001b[1;33m.\u001b[0m\u001b[0mtimeout\u001b[0m\u001b[1;33m,\u001b[0m \u001b[1;33m**\u001b[0m\u001b[0mextra_kw\u001b[0m\u001b[1;33m\u001b[0m\u001b[1;33m\u001b[0m\u001b[0m\n\u001b[0m\u001b[0;32m    158\u001b[0m             )\n",
      "\u001b[1;32mC:\\ProgramData\\Anaconda3\\lib\\site-packages\\urllib3\\util\\connection.py\u001b[0m in \u001b[0;36mcreate_connection\u001b[1;34m(address, timeout, source_address, socket_options)\u001b[0m\n\u001b[0;32m     60\u001b[0m \u001b[1;33m\u001b[0m\u001b[0m\n\u001b[1;32m---> 61\u001b[1;33m     \u001b[1;32mfor\u001b[0m \u001b[0mres\u001b[0m \u001b[1;32min\u001b[0m \u001b[0msocket\u001b[0m\u001b[1;33m.\u001b[0m\u001b[0mgetaddrinfo\u001b[0m\u001b[1;33m(\u001b[0m\u001b[0mhost\u001b[0m\u001b[1;33m,\u001b[0m \u001b[0mport\u001b[0m\u001b[1;33m,\u001b[0m \u001b[0mfamily\u001b[0m\u001b[1;33m,\u001b[0m \u001b[0msocket\u001b[0m\u001b[1;33m.\u001b[0m\u001b[0mSOCK_STREAM\u001b[0m\u001b[1;33m)\u001b[0m\u001b[1;33m:\u001b[0m\u001b[1;33m\u001b[0m\u001b[1;33m\u001b[0m\u001b[0m\n\u001b[0m\u001b[0;32m     62\u001b[0m         \u001b[0maf\u001b[0m\u001b[1;33m,\u001b[0m \u001b[0msocktype\u001b[0m\u001b[1;33m,\u001b[0m \u001b[0mproto\u001b[0m\u001b[1;33m,\u001b[0m \u001b[0mcanonname\u001b[0m\u001b[1;33m,\u001b[0m \u001b[0msa\u001b[0m \u001b[1;33m=\u001b[0m \u001b[0mres\u001b[0m\u001b[1;33m\u001b[0m\u001b[1;33m\u001b[0m\u001b[0m\n",
      "\u001b[1;32mC:\\ProgramData\\Anaconda3\\lib\\socket.py\u001b[0m in \u001b[0;36mgetaddrinfo\u001b[1;34m(host, port, family, type, proto, flags)\u001b[0m\n\u001b[0;32m    751\u001b[0m     \u001b[0maddrlist\u001b[0m \u001b[1;33m=\u001b[0m \u001b[1;33m[\u001b[0m\u001b[1;33m]\u001b[0m\u001b[1;33m\u001b[0m\u001b[1;33m\u001b[0m\u001b[0m\n\u001b[1;32m--> 752\u001b[1;33m     \u001b[1;32mfor\u001b[0m \u001b[0mres\u001b[0m \u001b[1;32min\u001b[0m \u001b[0m_socket\u001b[0m\u001b[1;33m.\u001b[0m\u001b[0mgetaddrinfo\u001b[0m\u001b[1;33m(\u001b[0m\u001b[0mhost\u001b[0m\u001b[1;33m,\u001b[0m \u001b[0mport\u001b[0m\u001b[1;33m,\u001b[0m \u001b[0mfamily\u001b[0m\u001b[1;33m,\u001b[0m \u001b[0mtype\u001b[0m\u001b[1;33m,\u001b[0m \u001b[0mproto\u001b[0m\u001b[1;33m,\u001b[0m \u001b[0mflags\u001b[0m\u001b[1;33m)\u001b[0m\u001b[1;33m:\u001b[0m\u001b[1;33m\u001b[0m\u001b[1;33m\u001b[0m\u001b[0m\n\u001b[0m\u001b[0;32m    753\u001b[0m         \u001b[0maf\u001b[0m\u001b[1;33m,\u001b[0m \u001b[0msocktype\u001b[0m\u001b[1;33m,\u001b[0m \u001b[0mproto\u001b[0m\u001b[1;33m,\u001b[0m \u001b[0mcanonname\u001b[0m\u001b[1;33m,\u001b[0m \u001b[0msa\u001b[0m \u001b[1;33m=\u001b[0m \u001b[0mres\u001b[0m\u001b[1;33m\u001b[0m\u001b[1;33m\u001b[0m\u001b[0m\n",
      "\u001b[1;31mgaierror\u001b[0m: [Errno 11001] getaddrinfo failed",
      "\nDuring handling of the above exception, another exception occurred:\n",
      "\u001b[1;31mNewConnectionError\u001b[0m                        Traceback (most recent call last)",
      "\u001b[1;32mC:\\ProgramData\\Anaconda3\\lib\\site-packages\\urllib3\\connectionpool.py\u001b[0m in \u001b[0;36murlopen\u001b[1;34m(self, method, url, body, headers, retries, redirect, assert_same_host, timeout, pool_timeout, release_conn, chunked, body_pos, **response_kw)\u001b[0m\n\u001b[0;32m    671\u001b[0m                 \u001b[0mheaders\u001b[0m\u001b[1;33m=\u001b[0m\u001b[0mheaders\u001b[0m\u001b[1;33m,\u001b[0m\u001b[1;33m\u001b[0m\u001b[1;33m\u001b[0m\u001b[0m\n\u001b[1;32m--> 672\u001b[1;33m                 \u001b[0mchunked\u001b[0m\u001b[1;33m=\u001b[0m\u001b[0mchunked\u001b[0m\u001b[1;33m,\u001b[0m\u001b[1;33m\u001b[0m\u001b[1;33m\u001b[0m\u001b[0m\n\u001b[0m\u001b[0;32m    673\u001b[0m             )\n",
      "\u001b[1;32mC:\\ProgramData\\Anaconda3\\lib\\site-packages\\urllib3\\connectionpool.py\u001b[0m in \u001b[0;36m_make_request\u001b[1;34m(self, conn, method, url, timeout, chunked, **httplib_request_kw)\u001b[0m\n\u001b[0;32m    375\u001b[0m         \u001b[1;32mtry\u001b[0m\u001b[1;33m:\u001b[0m\u001b[1;33m\u001b[0m\u001b[1;33m\u001b[0m\u001b[0m\n\u001b[1;32m--> 376\u001b[1;33m             \u001b[0mself\u001b[0m\u001b[1;33m.\u001b[0m\u001b[0m_validate_conn\u001b[0m\u001b[1;33m(\u001b[0m\u001b[0mconn\u001b[0m\u001b[1;33m)\u001b[0m\u001b[1;33m\u001b[0m\u001b[1;33m\u001b[0m\u001b[0m\n\u001b[0m\u001b[0;32m    377\u001b[0m         \u001b[1;32mexcept\u001b[0m \u001b[1;33m(\u001b[0m\u001b[0mSocketTimeout\u001b[0m\u001b[1;33m,\u001b[0m \u001b[0mBaseSSLError\u001b[0m\u001b[1;33m)\u001b[0m \u001b[1;32mas\u001b[0m \u001b[0me\u001b[0m\u001b[1;33m:\u001b[0m\u001b[1;33m\u001b[0m\u001b[1;33m\u001b[0m\u001b[0m\n",
      "\u001b[1;32mC:\\ProgramData\\Anaconda3\\lib\\site-packages\\urllib3\\connectionpool.py\u001b[0m in \u001b[0;36m_validate_conn\u001b[1;34m(self, conn)\u001b[0m\n\u001b[0;32m    993\u001b[0m         \u001b[1;32mif\u001b[0m \u001b[1;32mnot\u001b[0m \u001b[0mgetattr\u001b[0m\u001b[1;33m(\u001b[0m\u001b[0mconn\u001b[0m\u001b[1;33m,\u001b[0m \u001b[1;34m\"sock\"\u001b[0m\u001b[1;33m,\u001b[0m \u001b[1;32mNone\u001b[0m\u001b[1;33m)\u001b[0m\u001b[1;33m:\u001b[0m  \u001b[1;31m# AppEngine might not have  `.sock`\u001b[0m\u001b[1;33m\u001b[0m\u001b[1;33m\u001b[0m\u001b[0m\n\u001b[1;32m--> 994\u001b[1;33m             \u001b[0mconn\u001b[0m\u001b[1;33m.\u001b[0m\u001b[0mconnect\u001b[0m\u001b[1;33m(\u001b[0m\u001b[1;33m)\u001b[0m\u001b[1;33m\u001b[0m\u001b[1;33m\u001b[0m\u001b[0m\n\u001b[0m\u001b[0;32m    995\u001b[0m \u001b[1;33m\u001b[0m\u001b[0m\n",
      "\u001b[1;32mC:\\ProgramData\\Anaconda3\\lib\\site-packages\\urllib3\\connection.py\u001b[0m in \u001b[0;36mconnect\u001b[1;34m(self)\u001b[0m\n\u001b[0;32m    299\u001b[0m         \u001b[1;31m# Add certificate verification\u001b[0m\u001b[1;33m\u001b[0m\u001b[1;33m\u001b[0m\u001b[1;33m\u001b[0m\u001b[0m\n\u001b[1;32m--> 300\u001b[1;33m         \u001b[0mconn\u001b[0m \u001b[1;33m=\u001b[0m \u001b[0mself\u001b[0m\u001b[1;33m.\u001b[0m\u001b[0m_new_conn\u001b[0m\u001b[1;33m(\u001b[0m\u001b[1;33m)\u001b[0m\u001b[1;33m\u001b[0m\u001b[1;33m\u001b[0m\u001b[0m\n\u001b[0m\u001b[0;32m    301\u001b[0m         \u001b[0mhostname\u001b[0m \u001b[1;33m=\u001b[0m \u001b[0mself\u001b[0m\u001b[1;33m.\u001b[0m\u001b[0mhost\u001b[0m\u001b[1;33m\u001b[0m\u001b[1;33m\u001b[0m\u001b[0m\n",
      "\u001b[1;32mC:\\ProgramData\\Anaconda3\\lib\\site-packages\\urllib3\\connection.py\u001b[0m in \u001b[0;36m_new_conn\u001b[1;34m(self)\u001b[0m\n\u001b[0;32m    168\u001b[0m             raise NewConnectionError(\n\u001b[1;32m--> 169\u001b[1;33m                 \u001b[0mself\u001b[0m\u001b[1;33m,\u001b[0m \u001b[1;34m\"Failed to establish a new connection: %s\"\u001b[0m \u001b[1;33m%\u001b[0m \u001b[0me\u001b[0m\u001b[1;33m\u001b[0m\u001b[1;33m\u001b[0m\u001b[0m\n\u001b[0m\u001b[0;32m    170\u001b[0m             )\n",
      "\u001b[1;31mNewConnectionError\u001b[0m: <urllib3.connection.VerifiedHTTPSConnection object at 0x00000222A6F2FB08>: Failed to establish a new connection: [Errno 11001] getaddrinfo failed",
      "\nDuring handling of the above exception, another exception occurred:\n",
      "\u001b[1;31mMaxRetryError\u001b[0m                             Traceback (most recent call last)",
      "\u001b[1;32mC:\\ProgramData\\Anaconda3\\lib\\site-packages\\requests\\adapters.py\u001b[0m in \u001b[0;36msend\u001b[1;34m(self, request, stream, timeout, verify, cert, proxies)\u001b[0m\n\u001b[0;32m    448\u001b[0m                     \u001b[0mretries\u001b[0m\u001b[1;33m=\u001b[0m\u001b[0mself\u001b[0m\u001b[1;33m.\u001b[0m\u001b[0mmax_retries\u001b[0m\u001b[1;33m,\u001b[0m\u001b[1;33m\u001b[0m\u001b[1;33m\u001b[0m\u001b[0m\n\u001b[1;32m--> 449\u001b[1;33m                     \u001b[0mtimeout\u001b[0m\u001b[1;33m=\u001b[0m\u001b[0mtimeout\u001b[0m\u001b[1;33m\u001b[0m\u001b[1;33m\u001b[0m\u001b[0m\n\u001b[0m\u001b[0;32m    450\u001b[0m                 )\n",
      "\u001b[1;32mC:\\ProgramData\\Anaconda3\\lib\\site-packages\\urllib3\\connectionpool.py\u001b[0m in \u001b[0;36murlopen\u001b[1;34m(self, method, url, body, headers, retries, redirect, assert_same_host, timeout, pool_timeout, release_conn, chunked, body_pos, **response_kw)\u001b[0m\n\u001b[0;32m    719\u001b[0m             retries = retries.increment(\n\u001b[1;32m--> 720\u001b[1;33m                 \u001b[0mmethod\u001b[0m\u001b[1;33m,\u001b[0m \u001b[0murl\u001b[0m\u001b[1;33m,\u001b[0m \u001b[0merror\u001b[0m\u001b[1;33m=\u001b[0m\u001b[0me\u001b[0m\u001b[1;33m,\u001b[0m \u001b[0m_pool\u001b[0m\u001b[1;33m=\u001b[0m\u001b[0mself\u001b[0m\u001b[1;33m,\u001b[0m \u001b[0m_stacktrace\u001b[0m\u001b[1;33m=\u001b[0m\u001b[0msys\u001b[0m\u001b[1;33m.\u001b[0m\u001b[0mexc_info\u001b[0m\u001b[1;33m(\u001b[0m\u001b[1;33m)\u001b[0m\u001b[1;33m[\u001b[0m\u001b[1;36m2\u001b[0m\u001b[1;33m]\u001b[0m\u001b[1;33m\u001b[0m\u001b[1;33m\u001b[0m\u001b[0m\n\u001b[0m\u001b[0;32m    721\u001b[0m             )\n",
      "\u001b[1;32mC:\\ProgramData\\Anaconda3\\lib\\site-packages\\urllib3\\util\\retry.py\u001b[0m in \u001b[0;36mincrement\u001b[1;34m(self, method, url, response, error, _pool, _stacktrace)\u001b[0m\n\u001b[0;32m    435\u001b[0m         \u001b[1;32mif\u001b[0m \u001b[0mnew_retry\u001b[0m\u001b[1;33m.\u001b[0m\u001b[0mis_exhausted\u001b[0m\u001b[1;33m(\u001b[0m\u001b[1;33m)\u001b[0m\u001b[1;33m:\u001b[0m\u001b[1;33m\u001b[0m\u001b[1;33m\u001b[0m\u001b[0m\n\u001b[1;32m--> 436\u001b[1;33m             \u001b[1;32mraise\u001b[0m \u001b[0mMaxRetryError\u001b[0m\u001b[1;33m(\u001b[0m\u001b[0m_pool\u001b[0m\u001b[1;33m,\u001b[0m \u001b[0murl\u001b[0m\u001b[1;33m,\u001b[0m \u001b[0merror\u001b[0m \u001b[1;32mor\u001b[0m \u001b[0mResponseError\u001b[0m\u001b[1;33m(\u001b[0m\u001b[0mcause\u001b[0m\u001b[1;33m)\u001b[0m\u001b[1;33m)\u001b[0m\u001b[1;33m\u001b[0m\u001b[1;33m\u001b[0m\u001b[0m\n\u001b[0m\u001b[0;32m    437\u001b[0m \u001b[1;33m\u001b[0m\u001b[0m\n",
      "\u001b[1;31mMaxRetryError\u001b[0m: HTTPSConnectionPool(host='store.data-analyst.praktikum-services.ru', port=443): Max retries exceeded with url: /en/ (Caused by NewConnectionError('<urllib3.connection.VerifiedHTTPSConnection object at 0x00000222A6F2FB08>: Failed to establish a new connection: [Errno 11001] getaddrinfo failed'))",
      "\nDuring handling of the above exception, another exception occurred:\n",
      "\u001b[1;31mConnectionError\u001b[0m                           Traceback (most recent call last)",
      "\u001b[1;32m<ipython-input-34-caafc49a2703>\u001b[0m in \u001b[0;36m<module>\u001b[1;34m\u001b[0m\n\u001b[0;32m      1\u001b[0m \u001b[1;32mimport\u001b[0m \u001b[0mrequests\u001b[0m\u001b[1;33m\u001b[0m\u001b[1;33m\u001b[0m\u001b[0m\n\u001b[0;32m      2\u001b[0m \u001b[0mURL\u001b[0m \u001b[1;33m=\u001b[0m \u001b[1;34m'https://store.data-analyst.praktikum-services.ru/en/'\u001b[0m\u001b[1;33m\u001b[0m\u001b[1;33m\u001b[0m\u001b[0m\n\u001b[1;32m----> 3\u001b[1;33m \u001b[0mreq\u001b[0m \u001b[1;33m=\u001b[0m \u001b[0mrequests\u001b[0m\u001b[1;33m.\u001b[0m\u001b[0mget\u001b[0m\u001b[1;33m(\u001b[0m\u001b[0mURL\u001b[0m\u001b[1;33m)\u001b[0m\u001b[1;33m\u001b[0m\u001b[1;33m\u001b[0m\u001b[0m\n\u001b[0m",
      "\u001b[1;32mC:\\ProgramData\\Anaconda3\\lib\\site-packages\\requests\\api.py\u001b[0m in \u001b[0;36mget\u001b[1;34m(url, params, **kwargs)\u001b[0m\n\u001b[0;32m     73\u001b[0m \u001b[1;33m\u001b[0m\u001b[0m\n\u001b[0;32m     74\u001b[0m     \u001b[0mkwargs\u001b[0m\u001b[1;33m.\u001b[0m\u001b[0msetdefault\u001b[0m\u001b[1;33m(\u001b[0m\u001b[1;34m'allow_redirects'\u001b[0m\u001b[1;33m,\u001b[0m \u001b[1;32mTrue\u001b[0m\u001b[1;33m)\u001b[0m\u001b[1;33m\u001b[0m\u001b[1;33m\u001b[0m\u001b[0m\n\u001b[1;32m---> 75\u001b[1;33m     \u001b[1;32mreturn\u001b[0m \u001b[0mrequest\u001b[0m\u001b[1;33m(\u001b[0m\u001b[1;34m'get'\u001b[0m\u001b[1;33m,\u001b[0m \u001b[0murl\u001b[0m\u001b[1;33m,\u001b[0m \u001b[0mparams\u001b[0m\u001b[1;33m=\u001b[0m\u001b[0mparams\u001b[0m\u001b[1;33m,\u001b[0m \u001b[1;33m**\u001b[0m\u001b[0mkwargs\u001b[0m\u001b[1;33m)\u001b[0m\u001b[1;33m\u001b[0m\u001b[1;33m\u001b[0m\u001b[0m\n\u001b[0m\u001b[0;32m     76\u001b[0m \u001b[1;33m\u001b[0m\u001b[0m\n\u001b[0;32m     77\u001b[0m \u001b[1;33m\u001b[0m\u001b[0m\n",
      "\u001b[1;32mC:\\ProgramData\\Anaconda3\\lib\\site-packages\\requests\\api.py\u001b[0m in \u001b[0;36mrequest\u001b[1;34m(method, url, **kwargs)\u001b[0m\n\u001b[0;32m     58\u001b[0m     \u001b[1;31m# cases, and look like a memory leak in others.\u001b[0m\u001b[1;33m\u001b[0m\u001b[1;33m\u001b[0m\u001b[1;33m\u001b[0m\u001b[0m\n\u001b[0;32m     59\u001b[0m     \u001b[1;32mwith\u001b[0m \u001b[0msessions\u001b[0m\u001b[1;33m.\u001b[0m\u001b[0mSession\u001b[0m\u001b[1;33m(\u001b[0m\u001b[1;33m)\u001b[0m \u001b[1;32mas\u001b[0m \u001b[0msession\u001b[0m\u001b[1;33m:\u001b[0m\u001b[1;33m\u001b[0m\u001b[1;33m\u001b[0m\u001b[0m\n\u001b[1;32m---> 60\u001b[1;33m         \u001b[1;32mreturn\u001b[0m \u001b[0msession\u001b[0m\u001b[1;33m.\u001b[0m\u001b[0mrequest\u001b[0m\u001b[1;33m(\u001b[0m\u001b[0mmethod\u001b[0m\u001b[1;33m=\u001b[0m\u001b[0mmethod\u001b[0m\u001b[1;33m,\u001b[0m \u001b[0murl\u001b[0m\u001b[1;33m=\u001b[0m\u001b[0murl\u001b[0m\u001b[1;33m,\u001b[0m \u001b[1;33m**\u001b[0m\u001b[0mkwargs\u001b[0m\u001b[1;33m)\u001b[0m\u001b[1;33m\u001b[0m\u001b[1;33m\u001b[0m\u001b[0m\n\u001b[0m\u001b[0;32m     61\u001b[0m \u001b[1;33m\u001b[0m\u001b[0m\n\u001b[0;32m     62\u001b[0m \u001b[1;33m\u001b[0m\u001b[0m\n",
      "\u001b[1;32mC:\\ProgramData\\Anaconda3\\lib\\site-packages\\requests\\sessions.py\u001b[0m in \u001b[0;36mrequest\u001b[1;34m(self, method, url, params, data, headers, cookies, files, auth, timeout, allow_redirects, proxies, hooks, stream, verify, cert, json)\u001b[0m\n\u001b[0;32m    531\u001b[0m         }\n\u001b[0;32m    532\u001b[0m         \u001b[0msend_kwargs\u001b[0m\u001b[1;33m.\u001b[0m\u001b[0mupdate\u001b[0m\u001b[1;33m(\u001b[0m\u001b[0msettings\u001b[0m\u001b[1;33m)\u001b[0m\u001b[1;33m\u001b[0m\u001b[1;33m\u001b[0m\u001b[0m\n\u001b[1;32m--> 533\u001b[1;33m         \u001b[0mresp\u001b[0m \u001b[1;33m=\u001b[0m \u001b[0mself\u001b[0m\u001b[1;33m.\u001b[0m\u001b[0msend\u001b[0m\u001b[1;33m(\u001b[0m\u001b[0mprep\u001b[0m\u001b[1;33m,\u001b[0m \u001b[1;33m**\u001b[0m\u001b[0msend_kwargs\u001b[0m\u001b[1;33m)\u001b[0m\u001b[1;33m\u001b[0m\u001b[1;33m\u001b[0m\u001b[0m\n\u001b[0m\u001b[0;32m    534\u001b[0m \u001b[1;33m\u001b[0m\u001b[0m\n\u001b[0;32m    535\u001b[0m         \u001b[1;32mreturn\u001b[0m \u001b[0mresp\u001b[0m\u001b[1;33m\u001b[0m\u001b[1;33m\u001b[0m\u001b[0m\n",
      "\u001b[1;32mC:\\ProgramData\\Anaconda3\\lib\\site-packages\\requests\\sessions.py\u001b[0m in \u001b[0;36msend\u001b[1;34m(self, request, **kwargs)\u001b[0m\n\u001b[0;32m    644\u001b[0m \u001b[1;33m\u001b[0m\u001b[0m\n\u001b[0;32m    645\u001b[0m         \u001b[1;31m# Send the request\u001b[0m\u001b[1;33m\u001b[0m\u001b[1;33m\u001b[0m\u001b[1;33m\u001b[0m\u001b[0m\n\u001b[1;32m--> 646\u001b[1;33m         \u001b[0mr\u001b[0m \u001b[1;33m=\u001b[0m \u001b[0madapter\u001b[0m\u001b[1;33m.\u001b[0m\u001b[0msend\u001b[0m\u001b[1;33m(\u001b[0m\u001b[0mrequest\u001b[0m\u001b[1;33m,\u001b[0m \u001b[1;33m**\u001b[0m\u001b[0mkwargs\u001b[0m\u001b[1;33m)\u001b[0m\u001b[1;33m\u001b[0m\u001b[1;33m\u001b[0m\u001b[0m\n\u001b[0m\u001b[0;32m    647\u001b[0m \u001b[1;33m\u001b[0m\u001b[0m\n\u001b[0;32m    648\u001b[0m         \u001b[1;31m# Total elapsed time of the request (approximately)\u001b[0m\u001b[1;33m\u001b[0m\u001b[1;33m\u001b[0m\u001b[1;33m\u001b[0m\u001b[0m\n",
      "\u001b[1;32mC:\\ProgramData\\Anaconda3\\lib\\site-packages\\requests\\adapters.py\u001b[0m in \u001b[0;36msend\u001b[1;34m(self, request, stream, timeout, verify, cert, proxies)\u001b[0m\n\u001b[0;32m    514\u001b[0m                 \u001b[1;32mraise\u001b[0m \u001b[0mSSLError\u001b[0m\u001b[1;33m(\u001b[0m\u001b[0me\u001b[0m\u001b[1;33m,\u001b[0m \u001b[0mrequest\u001b[0m\u001b[1;33m=\u001b[0m\u001b[0mrequest\u001b[0m\u001b[1;33m)\u001b[0m\u001b[1;33m\u001b[0m\u001b[1;33m\u001b[0m\u001b[0m\n\u001b[0;32m    515\u001b[0m \u001b[1;33m\u001b[0m\u001b[0m\n\u001b[1;32m--> 516\u001b[1;33m             \u001b[1;32mraise\u001b[0m \u001b[0mConnectionError\u001b[0m\u001b[1;33m(\u001b[0m\u001b[0me\u001b[0m\u001b[1;33m,\u001b[0m \u001b[0mrequest\u001b[0m\u001b[1;33m=\u001b[0m\u001b[0mrequest\u001b[0m\u001b[1;33m)\u001b[0m\u001b[1;33m\u001b[0m\u001b[1;33m\u001b[0m\u001b[0m\n\u001b[0m\u001b[0;32m    517\u001b[0m \u001b[1;33m\u001b[0m\u001b[0m\n\u001b[0;32m    518\u001b[0m         \u001b[1;32mexcept\u001b[0m \u001b[0mClosedPoolError\u001b[0m \u001b[1;32mas\u001b[0m \u001b[0me\u001b[0m\u001b[1;33m:\u001b[0m\u001b[1;33m\u001b[0m\u001b[1;33m\u001b[0m\u001b[0m\n",
      "\u001b[1;31mConnectionError\u001b[0m: HTTPSConnectionPool(host='store.data-analyst.praktikum-services.ru', port=443): Max retries exceeded with url: /en/ (Caused by NewConnectionError('<urllib3.connection.VerifiedHTTPSConnection object at 0x00000222A6F2FB08>: Failed to establish a new connection: [Errno 11001] getaddrinfo failed'))"
     ]
    }
   ],
   "source": [
    "import requests\n",
    "URL = 'https://store.data-analyst.praktikum-services.ru/en/'\n",
    "req = requests.get(URL)"
   ]
  },
  {
   "cell_type": "code",
   "execution_count": null,
   "metadata": {},
   "outputs": [],
   "source": [
    "print(req.text)"
   ]
  },
  {
   "cell_type": "markdown",
   "metadata": {},
   "source": [
    "### <font color=blue>Regular Expressions</font>"
   ]
  },
  {
   "cell_type": "markdown",
   "metadata": {},
   "source": [
    "*search(pattern, string)* - searches for a pattern in a string. It only returns the first substring it finds.\n",
    "\n",
    "*\\w+*\n",
    "   - any letter, digit or underscore, 1 or more instances"
   ]
  },
  {
   "cell_type": "code",
   "execution_count": null,
   "metadata": {},
   "outputs": [],
   "source": [
    "import re\n",
    "string = '\"General Slocum\" 15 June 1904 East River human factor'\n",
    "print(re.search('\\w+', string))"
   ]
  },
  {
   "cell_type": "code",
   "execution_count": null,
   "metadata": {},
   "outputs": [],
   "source": [
    "print(re.search('\\w+', string).group())"
   ]
  },
  {
   "cell_type": "markdown",
   "metadata": {},
   "source": [
    "- match everything written in Latin characters plus spaces between double quotes."
   ]
  },
  {
   "cell_type": "code",
   "execution_count": null,
   "metadata": {},
   "outputs": [],
   "source": [
    "print(re.search('\"[A-z ]+\"', string).group())"
   ]
  },
  {
   "cell_type": "markdown",
   "metadata": {},
   "source": [
    "*split(pattern, string)*\n",
    "- breaks up a string at points where the pattern appears."
   ]
  },
  {
   "cell_type": "code",
   "execution_count": null,
   "metadata": {},
   "outputs": [],
   "source": [
    "print(re.split('\\d+', string))"
   ]
  },
  {
   "cell_type": "markdown",
   "metadata": {},
   "source": [
    "   - maxsplit parameter limits the number of times you divide the string."
   ]
  },
  {
   "cell_type": "code",
   "execution_count": null,
   "metadata": {},
   "outputs": [],
   "source": [
    "print(re.split('\\d+', string, maxsplit = 1))"
   ]
  },
  {
   "cell_type": "markdown",
   "metadata": {},
   "source": [
    "*sub(pattern, repl, string)*\n",
    "  - searches for the pattern substring within a string and replaces it with the repl (i.e. replace) substring."
   ]
  },
  {
   "cell_type": "code",
   "execution_count": null,
   "metadata": {},
   "outputs": [],
   "source": [
    "print(re.sub('\\d+', '', string)) #we're looking for digits\n",
    "# and removing them"
   ]
  },
  {
   "cell_type": "markdown",
   "metadata": {},
   "source": [
    "*findall(pattern, string)* \n",
    "- returns a list of all substrings in a string that match the pattern"
   ]
  },
  {
   "cell_type": "code",
   "execution_count": null,
   "metadata": {},
   "outputs": [],
   "source": [
    "tion = \"Arrived at the station in total frustration\"\n",
    "print(re.findall('[A-z]+tion', tion))"
   ]
  },
  {
   "cell_type": "code",
   "execution_count": 35,
   "metadata": {},
   "outputs": [
    {
     "name": "stdout",
     "output_type": "stream",
     "text": [
      "['sixty-seven']\n"
     ]
    }
   ],
   "source": [
    "#or words with a hyphen\n",
    "string = 'sixty-seven drops of rain'\n",
    "print(re.findall('\\w+-\\w+', string))"
   ]
  },
  {
   "cell_type": "code",
   "execution_count": 36,
   "metadata": {},
   "outputs": [
    {
     "name": "stdout",
     "output_type": "stream",
     "text": [
      "<re.Match object; span=(15, 22), match='station'>\n"
     ]
    }
   ],
   "source": [
    "print(re.search('[A-z]+tion', tion))"
   ]
  },
  {
   "cell_type": "code",
   "execution_count": 37,
   "metadata": {},
   "outputs": [
    {
     "name": "stdout",
     "output_type": "stream",
     "text": [
      "station\n"
     ]
    }
   ],
   "source": [
    "print(re.search('[A-z]+tion', tion).group())"
   ]
  },
  {
   "cell_type": "code",
   "execution_count": 38,
   "metadata": {},
   "outputs": [
    {
     "name": "stdout",
     "output_type": "stream",
     "text": [
      "<re.Match object; span=(0, 11), match='sixty-seven'>\n"
     ]
    }
   ],
   "source": [
    "print(re.search('\\w+-\\w+', string))"
   ]
  },
  {
   "cell_type": "code",
   "execution_count": 39,
   "metadata": {},
   "outputs": [
    {
     "name": "stdout",
     "output_type": "stream",
     "text": [
      "5\n"
     ]
    }
   ],
   "source": [
    "#how many times a substring occurrs\n",
    "print(len(re.findall('\\w+', string)))"
   ]
  },
  {
   "cell_type": "code",
   "execution_count": 40,
   "metadata": {},
   "outputs": [
    {
     "name": "stdout",
     "output_type": "stream",
     "text": [
      "2\n"
     ]
    }
   ],
   "source": [
    "print(len(re.findall('[A-z]+tion', tion)))"
   ]
  },
  {
   "cell_type": "code",
   "execution_count": 41,
   "metadata": {},
   "outputs": [
    {
     "name": "stdout",
     "output_type": "stream",
     "text": [
      "4\n"
     ]
    }
   ],
   "source": [
    "#count sixty-seven as a single word\n",
    "print(len(re.findall('[\\w-]+', string)))"
   ]
  },
  {
   "cell_type": "code",
   "execution_count": 42,
   "metadata": {},
   "outputs": [
    {
     "name": "stdout",
     "output_type": "stream",
     "text": [
      "<re.Match object; span=(0, 6), match='sixty-'>\n"
     ]
    }
   ],
   "source": [
    "print(re.search('\\w+-', string))"
   ]
  },
  {
   "cell_type": "code",
   "execution_count": 43,
   "metadata": {},
   "outputs": [
    {
     "name": "stdout",
     "output_type": "stream",
     "text": [
      "<re.Match object; span=(0, 11), match='sixty-seven'>\n"
     ]
    }
   ],
   "source": [
    "print(re.search('[\\w-]+', string))"
   ]
  },
  {
   "cell_type": "code",
   "execution_count": 44,
   "metadata": {},
   "outputs": [
    {
     "name": "stdout",
     "output_type": "stream",
     "text": [
      "^[A-z]+\n"
     ]
    }
   ],
   "source": [
    "pattern = '^[A-z]+' #write a regular expession\n",
    "print(pattern)"
   ]
  },
  {
   "cell_type": "code",
   "execution_count": 49,
   "metadata": {},
   "outputs": [],
   "source": [
    "URL = 'https://store.data-analyst.praktikum-services.ru/en/'# the link to the website\n",
    "req_text = requests.get(URL).text# the text content of the request"
   ]
  },
  {
   "cell_type": "code",
   "execution_count": 63,
   "metadata": {},
   "outputs": [
    {
     "data": {
      "text/plain": [
       "'<!DOCTYPE html><html><head><meta charset=\"utf-8\" /><meta http-equiv=\"Content-Type\" content=\"text/html; charset=utf-8\" /><meta name=\"viewport\" content=\"width=device-width, initial-scale=1.0\" /><title>Dairyland Store</title><meta property=\"og:url\" content=\"http://project1535676.tilda.ws\" /><meta property=\"og:title\" content=\"Dairyland Store \" /><meta property=\"og:description\" content=\"\" /><meta property=\"og:type\" content=\"website\" /><meta property=\"og:image\" content=\"images/tild3666-3634-4532-b666-636363343030__-__resize__504x__Chez_Isabella.png\" /><link rel=\"canonical\" href=\"\"><meta property=\"fb:app_id\" content=\"257953674358265\" /><meta name=\"format-detection\" content=\"telephone=no\" /><meta http-equiv=\"x-dns-prefetch-control\" content=\"on\"><meta name=\"robots\" content=\"nofollow\" /><link rel=\"shortcut icon\" href=\"images/tildafavicon.ico\" type=\"image/x-icon\" /><link rel=\"stylesheet\" href=\"css/tilda-grid-3.0.min.css\" type=\"text/css\" media=\"all\" /><link rel=\"stylesheet\" href=\"css/tilda-blocks-2.12.css?t=1564990437\" type=\"text/css\" media=\"all\" /><link rel=\"stylesheet\" href=\"css/tilda-animation-1.0.min.css\" type=\"text/css\" media=\"all\" /><link rel=\"stylesheet\" href=\"css/tilda-menusub-1.0.min.css\" type=\"text/css\" media=\"all\" /><link rel=\"stylesheet\" href=\"css/tilda-popup-1.1.min.css\" type=\"text/css\" media=\"all\" /><link rel=\"stylesheet\" href=\"css/tilda-slds-1.4.min.css\" type=\"text/css\" media=\"all\" /><link rel=\"stylesheet\" href=\"css/tilda-zoom-2.0.min.css\" type=\"text/css\" media=\"all\" /><link rel=\"stylesheet\" href=\"css/tilda-catalog-1.0.min.css\" type=\"text/css\" media=\"all\" /><script src=\"js/jquery-1.10.2.min.js\"></script><script src=\"js/tilda-scripts-2.8.min.js\"></script><script src=\"js/tilda-blocks-2.7.js?t=1564990437\"></script><script src=\"js/lazyload-1.3.min.js\" charset=\"utf-8\"></script><script src=\"js/tilda-animation-1.0.min.js\" charset=\"utf-8\"></script><script src=\"js/tilda-menusub-1.0.min.js\" charset=\"utf-8\"></script><script src=\"js/hammer.min.js\" charset=\"utf-8\"></script><script src=\"js/tilda-slds-1.4.min.js\" charset=\"utf-8\"></script><script src=\"js/tilda-products-1.0.min.js\" charset=\"utf-8\"></script><script src=\"js/tilda-zoom-2.0.min.js\" charset=\"utf-8\"></script><script src=\"js/tilda-catalog-1.0.min.js\" charset=\"utf-8\"></script><script src=\"js/tilda-forms-1.0.min.js\" charset=\"utf-8\"></script><script src=\"js/tilda-cart-1.0.min.js\" charset=\"utf-8\"></script><script type=\"text/javascript\">window.dataLayer=window.dataLayer||[];</script><script type=\"text/javascript\">if((/bot|google|yandex|baidu|bing|msn|duckduckbot|teoma|slurp|crawler|spider|robot|crawling|facebook/i.test(navigator.userAgent))===false&&typeof(sessionStorage)!=\\'undefined\\'&&sessionStorage.getItem(\\'visited\\')!==\\'y\\'){var style=document.createElement(\\'style\\');style.type=\\'text/css\\';style.innerHTML=\\'@media screen and (min-width: 980px) {.t-records {opacity: 0;}.t-records_animated {-webkit-transition: opacity ease-in-out .2s;-moz-transition: opacity ease-in-out .2s;-o-transition: opacity ease-in-out .2s;transition: opacity ease-in-out .2s;}.t-records.t-records_visible {opacity: 1;}}\\';document.getElementsByTagName(\\'head\\')[0].appendChild(style);$(document).ready(function(){$(\\'.t-records\\').addClass(\\'t-records_animated\\');setTimeout(function(){$(\\'.t-records\\').addClass(\\'t-records_visible\\');sessionStorage.setItem(\\'visited\\',\\'y\\');},400);});}</script></head><body class=\"t-body\" style=\"margin:0;\"><div id=\"allrecords\" class=\"t-records\" data-hook=\"blocks-collection-content-node\" data-tilda-project-id=\"1535676\" data-tilda-page-id=\"6803319\" data-tilda-formskey=\"a83152e8825a1e103380d6a670aebc1f\" ><div id=\"rec119942642\" class=\"r t-rec t-rec_pt_0 t-rec_pb_0\" style=\"padding-top:0px;padding-bottom:0px;background-color:#ffffff; \" data-animationappear=\"off\" data-record-type=\"454\" data-bg-color=\"#ffffff\" ><div id=\"nav119942642marker\"></div><div id=\"nav119942642\" class=\"t454 t454__positionstatic \" style=\"background-color: rgba(255,255,255,1); height:200px; \" data-bgcolor-hex=\"#ffffff\" data-bgcolor-rgba=\"rgba(255,255,255,1)\" data-navmarker=\"nav119942642marker\" data-appearoffset=\"\" data-bgopacity-two=\"\" data-menushadow=\"\" data-bgopacity=\"1\" data-menu-items-align=\"\" data-menu=\"yes\" ><div class=\"t454__maincontainer t454__c12collumns\" style=\"height:200px;\"><div class=\"t454__logowrapper\"><div class=\"t454__logowrapper2\"><div style=\"display: block;\"> <a target=\"_blank\" style=\"color:#000000;font-size:48px;font-weight:700;\"> <img src=\"images/logo.png\" class=\"t454__imglogo t454__imglogomobile\" imgfield=\"img\" style=\"max-width: 150px; width: 150px;\" alt=\"Dairyland\" > </a></div></div></div><div class=\"t454__leftwrapper\" style=\"padding-left:20px; padding-right:125px; text-align: left;\"><div class=\"t454__leftmenuwrapper\"><ul class=\"t454__list\"></ul></div></div><div class=\"t454__rightwrapper\" style=\"padding-right:20px; padding-left:125px; text-align: right;\"><div class=\"t454__rightmenuwrapper\"><ul class=\"t454__list\"></ul></div></div></div></div><style>@media screen and (max-width: 980px){#rec119942642 .t454__leftcontainer{padding:20px}}@media screen and (max-width: 980px){#rec119942642 .t454__imglogo{padding:20px 0}}</style> <script type=\"text/javascript\">$(document).ready(function(){t454_highlight();});$(window).resize(function(){t454_setBg(\\'119942642\\');});$(document).ready(function(){t454_setBg(\\'119942642\\');});</script> <script type=\"text/javascript\">$(document).ready(function(){setTimeout(function(){t_menusub_init(\\'119942642\\');},500);});</script> <style>@media screen and (max-width: 980px){#rec119942642 .t-menusub__menu .t-menusub__link-item{color:#fff !important}}</style><!--[if IE 8]><style>#rec119942642 .t454{filter:progid:DXImageTransform.Microsoft.gradient(startColorStr=\\'#D9ffffff\\', endColorstr=\\'#D9ffffff\\')}</style><![endif]--></div><div id=\"rec119942643\" class=\"r t-rec t-rec_pt_30 t-rec_pb_30\" style=\"padding-top:30px;padding-bottom:30px; \" data-record-type=\"127\" ><div class=\"t119\"><div class=\"t-container t-align_center\"><div class=\"t-col t-col_8 t-prefix_2\"><div class=\"t119__preface t-descr t-opacity_70\" style=\"font-size:28px;opacity:1;\" field=\"text\"> High quality, local producers</div></div></div></div></div><div id=\"rec119942644\" class=\"r t-rec t-rec_pt_0 t-rec_pb_180\" style=\"padding-top:0px;padding-bottom:180px; \" data-animationappear=\"off\" data-record-type=\"754\" ><div class=\"t754\"><div class=\"t-container t754__container_mobile-grid\"><div class=\"t754__col t-col t-col_4 t-align_center t-item t754__col_mobile-grid js-product\" data-product-lid=\"1500469909554\" > <a href=\"#order\"><div class=\"t754__content\"><div class=\"t754__imgwrapper \" style=\"padding-bottom:111.11111111111%;\"><div class=\"t754__bgimg t-bgimg js-product-img\" data-original=\"images/tild3335-3763-4334-a634-353066326538__HTB1NWeENVXXXXa4XpXX.jpg\" style=\"background-image:url(\\'images/tild3335-3763-4334-a634-353066326538__-__resizeb__20x__HTB1NWeENVXXXXa4XpXX.jpg\\');\" bgimgfield=\"li_gallery__1500469909554:::0\" ></div></div><div class=\"t754__textwrapper\"><div class=\"t754__title t-name t-name_md js-product-name\" field=\"li_title__1500469909554\" style=\"font-size:20px;font-weight:400;\" >Dairy Pure Whole Milk, 1 gal</div><div class=\"t754__price-wrapper\"><div class=\"t754__price t754__price-item t-name t-name_xs\" style=\"font-weight:400;\"><div class=\"t754__price-value js-product-price\" field=\"li_price__1500469909554\">$4.23</div><div class=\"t754__price-currency\"></div></div></div></div></div> </a></div><div class=\"t754__col t-col t-col_4 t-align_center t-item t754__col_mobile-grid js-product\" data-product-lid=\"1498486363994\" > <a href=\"#order\"><div class=\"t754__content\"><div class=\"t754__imgwrapper \" style=\"padding-bottom:111.11111111111%;\"><div class=\"t754__bgimg t-bgimg js-product-img\" data-original=\"images/tild6534-6637-4138-b638-323862653265__HTB1NWeENVXXXXa4XpXX.jpg\" style=\"background-image:url(\\'images/tild6534-6637-4138-b638-323862653265__-__resizeb__20x__HTB1NWeENVXXXXa4XpXX.jpg\\');\" bgimgfield=\"li_gallery__1498486363994:::0\" ></div></div><div class=\"t754__textwrapper\"><div class=\"t754__title t-name t-name_md js-product-name\" field=\"li_title__1498486363994\" style=\"font-size:20px;font-weight:400;\" >Fairlife Whole Milk, 52 oz</div><div class=\"t754__price-wrapper\"><div class=\"t754__price t754__price-item t-name t-name_xs\" style=\"font-weight:400;\"><div class=\"t754__price-value js-product-price\" field=\"li_price__1498486363994\">$3.11</div><div class=\"t754__price-currency\"></div></div></div></div></div> </a></div><div class=\"t754__col t-col t-col_4 t-align_center t-item t754__col_mobile-grid js-product\" data-product-lid=\"1500469907722\" > <a href=\"#order\"><div class=\"t754__content\"><div class=\"t754__imgwrapper \" style=\"padding-bottom:111.11111111111%;\"><div class=\"t754__markwrapper\"><div class=\"t754__mark\" field=\"li_mark__1500469907722\" style=\"color:#ffffff;background-color:#ff4a4a;\" >NEW</div></div><div class=\"t754__bgimg t-bgimg js-product-img\" data-original=\"images/tild3564-6334-4930-b639-323763376263__HTB1NWeENVXXXXa4XpXX.jpg\" style=\"background-image:url(\\'images/tild3564-6334-4930-b639-323763376263__-__resizeb__20x__HTB1NWeENVXXXXa4XpXX.jpg\\');\" bgimgfield=\"li_gallery__1500469907722:::0\" ></div></div><div class=\"t754__textwrapper\"><div class=\"t754__title t-name t-name_md js-product-name\" field=\"li_title__1500469907722\" style=\"font-size:20px;font-weight:400;\" >Nestle Nesquik Chocolate Lowfat Milk, 16 pk</div><div class=\"t754__price-wrapper\"><div class=\"t754__price t754__price-item t-name t-name_xs\" style=\"font-weight:400;\"><div class=\"t754__price-value js-product-price\" field=\"li_price__1500469907722\">$11.54</div><div class=\"t754__price-currency\"></div></div></div></div></div> </a></div><div class=\"t-clear t754__separator\"></div><div class=\"t754__col t-col t-col_4 t-align_center t-item t754__col_mobile-grid js-product\" data-product-lid=\"1500469911302\" > <a href=\"#order\"><div class=\"t754__content\"><div class=\"t754__imgwrapper \" style=\"padding-bottom:111.11111111111%;\"><div class=\"t754__bgimg t-bgimg js-product-img\" data-original=\"images/tild6132-6337-4863-a530-643333373464__HTB1NWeENVXXXXa4XpXX.jpg\" style=\"background-image:url(\\'images/tild6132-6337-4863-a530-643333373464__-__resizeb__20x__HTB1NWeENVXXXXa4XpXX.jpg\\');\" bgimgfield=\"li_gallery__1500469911302:::0\" ></div></div><div class=\"t754__textwrapper\"><div class=\"t754__title t-name t-name_md js-product-name\" field=\"li_title__1500469911302\" style=\"font-size:20px;font-weight:400;\" >Moo-Moo Select Ingredients Fat Free Milk, 1 qt</div><div class=\"t754__price-wrapper\"><div class=\"t754__price t754__price-item t-name t-name_xs\" style=\"font-weight:400;\"><div class=\"t754__price-value js-product-price\" field=\"li_price__1500469911302\"> $0.92</div><div class=\"t754__price-currency\"></div></div></div></div></div> </a></div><div class=\"t754__col t-col t-col_4 t-align_center t-item t754__col_mobile-grid js-product\" data-product-lid=\"1498486301712\" > <a href=\"#order\"><div class=\"t754__content\"><div class=\"t754__imgwrapper \" style=\"padding-bottom:111.11111111111%;\"><div class=\"t754__bgimg t-bgimg js-product-img\" data-original=\"images/tild6662-6461-4539-b233-313735393434__HTB1NWeENVXXXXa4XpXX.jpg\" style=\"background-image:url(\\'images/tild6662-6461-4539-b233-313735393434__-__resizeb__20x__HTB1NWeENVXXXXa4XpXX.jpg\\');\" bgimgfield=\"li_gallery__1498486301712:::0\" ></div></div><div class=\"t754__textwrapper\"><div class=\"t754__title t-name t-name_md js-product-name\" field=\"li_title__1498486301712\" style=\"font-size:20px;font-weight:400;\" >Moo-Moo Select Ingredients Fat Free Milk, 1 gal</div><div class=\"t754__price-wrapper\"><div class=\"t754__price t754__price-item t-name t-name_xs\" style=\"font-weight:400;\"><div class=\"t754__price-value js-product-price\" field=\"li_price__1498486301712\"> $2.30</div><div class=\"t754__price-currency\"></div></div></div></div></div> </a></div><div class=\"t754__col t-col t-col_4 t-align_center t-item t754__col_mobile-grid js-product\" data-product-lid=\"1500470241687\" > <a href=\"#order\"><div class=\"t754__content\"><div class=\"t754__imgwrapper \" style=\"padding-bottom:111.11111111111%;\"><div class=\"t754__bgimg t-bgimg js-product-img\" data-original=\"images/tild3566-3133-4564-a535-396133353262__HTB1NWeENVXXXXa4XpXX.jpg\" style=\"background-image:url(\\'images/tild3566-3133-4564-a535-396133353262__-__resizeb__20x__HTB1NWeENVXXXXa4XpXX.jpg\\');\" bgimgfield=\"li_gallery__1500470241687:::0\" ></div></div><div class=\"t754__textwrapper\"><div class=\"t754__title t-name t-name_md js-product-name\" field=\"li_title__1500470241687\" style=\"font-size:20px;font-weight:400;\" >Silk Unsweetened Coconut Milk, 1/2 gal</div><div class=\"t754__price-wrapper\"><div class=\"t754__price t754__price-item t-name t-name_xs\" style=\"font-weight:400;\"><div class=\"t754__price-value js-product-price\" field=\"li_price__1500470241687\"> $2.99</div><div class=\"t754__price-currency\"></div></div></div></div></div> </a></div><div class=\"t-clear t754__separator\"></div><div class=\"t754__col t-col t-col_4 t-align_center t-item t754__col_mobile-grid js-product\" data-product-lid=\"1500470243820\" > <a href=\"#order\"><div class=\"t754__content\"><div class=\"t754__imgwrapper \" style=\"padding-bottom:111.11111111111%;\"><div class=\"t754__bgimg t-bgimg js-product-img\" data-original=\"images/tild3337-3035-4032-a566-636136643832__HTB1NWeENVXXXXa4XpXX.jpg\" style=\"background-image:url(\\'images/tild3337-3035-4032-a566-636136643832__-__resizeb__20x__HTB1NWeENVXXXXa4XpXX.jpg\\');\" bgimgfield=\"li_gallery__1500470243820:::0\" ></div></div><div class=\"t754__textwrapper\"><div class=\"t754__title t-name t-name_md js-product-name\" field=\"li_title__1500470243820\" style=\"font-size:20px;font-weight:400;\" >Fairlife Fat Free Milk, 52 oz</div><div class=\"t754__price-wrapper\"><div class=\"t754__price t754__price-item t-name t-name_xs\" style=\"font-weight:400;\"><div class=\"t754__price-value js-product-price\" field=\"li_price__1500470243820\"> $3.13</div><div class=\"t754__price-currency\"></div></div></div></div></div> </a></div><div class=\"t754__col t-col t-col_4 t-align_center t-item t754__col_mobile-grid js-product\" data-product-lid=\"1497456130776\" > <a href=\"#order\"><div class=\"t754__content\"><div class=\"t754__imgwrapper \" style=\"padding-bottom:111.11111111111%;\"><div class=\"t754__bgimg t-bgimg js-product-img\" data-original=\"images/tild3466-3435-4663-b933-623837656264__HTB1NWeENVXXXXa4XpXX.jpg\" style=\"background-image:url(\\'images/tild3466-3435-4663-b933-623837656264__-__resizeb__20x__HTB1NWeENVXXXXa4XpXX.jpg\\');\" bgimgfield=\"li_gallery__1497456130776:::0\" ></div></div><div class=\"t754__textwrapper\"><div class=\"t754__title t-name t-name_md js-product-name\" field=\"li_title__1497456130776\" style=\"font-size:20px;font-weight:400;\" >Horizon Organic DHA Omega-3 Chocolate Lowfat Milk, 12 pk<br /></div><div class=\"t754__price-wrapper\"><div class=\"t754__price t754__price-item t-name t-name_xs\" style=\"font-weight:400;\"><div class=\"t754__price-value js-product-price\" field=\"li_price__1497456130776\"> $11.94</div><div class=\"t754__price-currency\"></div></div></div></div></div> </a></div><div class=\"t754__col t-col t-col_4 t-align_center t-item t754__col_mobile-grid js-product\" data-product-lid=\"1500470245901\" > <a href=\"#order\"><div class=\"t754__content\"><div class=\"t754__imgwrapper \" style=\"padding-bottom:111.11111111111%;\"><div class=\"t754__bgimg t-bgimg js-product-img\" data-original=\"images/tild3532-6466-4638-b930-346664633761__HTB1NWeENVXXXXa4XpXX.jpg\" style=\"background-image:url(\\'images/tild3532-6466-4638-b930-346664633761__-__resizeb__20x__HTB1NWeENVXXXXa4XpXX.jpg\\');\" bgimgfield=\"li_gallery__1500470245901:::0\" ></div></div><div class=\"t754__textwrapper\"><div class=\"t754__title t-name t-name_md js-product-name\" field=\"li_title__1500470245901\" style=\"font-size:20px;font-weight:400;\" >Yoo-hoo Chocolate Drink, 3 pk</div><div class=\"t754__price-wrapper\"><div class=\"t754__price t754__price-item t-name t-name_xs\" style=\"font-weight:400;\"><div class=\"t754__price-value js-product-price\" field=\"li_price__1500470245901\"> $1</div><div class=\"t754__price-currency\"></div></div></div></div></div> </a></div><div class=\"t-clear t754__separator\"></div><div class=\"t754__col t-col t-col_4 t-align_center t-item t754__col_mobile-grid js-product\" data-product-lid=\"1564953618764\" > <a href=\"#order\"><div class=\"t754__content\"><div class=\"t754__imgwrapper \" style=\"padding-bottom:111.11111111111%;\"><div class=\"t754__bgimg t-bgimg js-product-img\" data-original=\"images/tild6565-3333-4662-a135-383666343962__HTB1NWeENVXXXXa4XpXX.jpg\" style=\"background-image:url(\\'images/tild6565-3333-4662-a135-383666343962__-__resizeb__20x__HTB1NWeENVXXXXa4XpXX.jpg\\');\" bgimgfield=\"li_gallery__1564953618764:::0\" ></div></div><div class=\"t754__textwrapper\"><div class=\"t754__title t-name t-name_md js-product-name\" field=\"li_title__1564953618764\" style=\"font-size:20px;font-weight:400;\" >Moo-Moo Select Ingredients Reduced Fat 2% Milk, 1/2 gal</div><div class=\"t754__price-wrapper\"><div class=\"t754__price t754__price-item t-name t-name_xs\" style=\"font-weight:400;\"><div class=\"t754__price-value js-product-price\" field=\"li_price__1564953618764\"> $1.33</div><div class=\"t754__price-currency\"></div></div></div></div></div> </a></div><div class=\"t754__col t-col t-col_4 t-align_center t-item t754__col_mobile-grid js-product\" data-product-lid=\"1564953633175\" > <a href=\"#order\"><div class=\"t754__content\"><div class=\"t754__imgwrapper \" style=\"padding-bottom:111.11111111111%;\"><div class=\"t754__bgimg t-bgimg js-product-img\" data-original=\"images/tild3566-3163-4437-b661-363366336430__HTB1NWeENVXXXXa4XpXX.jpg\" style=\"background-image:url(\\'images/tild3566-3163-4437-b661-363366336430__-__resizeb__20x__HTB1NWeENVXXXXa4XpXX.jpg\\');\" bgimgfield=\"li_gallery__1564953633175:::0\" ></div></div><div class=\"t754__textwrapper\"><div class=\"t754__title t-name t-name_md js-product-name\" field=\"li_title__1564953633175\" style=\"font-size:20px;font-weight:400;\" >Borden Whole Milk, 1 gal</div><div class=\"t754__price-wrapper\"><div class=\"t754__price t754__price-item t-name t-name_xs\" style=\"font-weight:400;\"><div class=\"t754__price-value js-product-price\" field=\"li_price__1564953633175\"> $3.53</div><div class=\"t754__price-currency\"></div></div></div></div></div> </a></div><div class=\"t754__col t-col t-col_4 t-align_center t-item t754__col_mobile-grid js-product\" data-product-lid=\"1564953646913\" > <a href=\"#order\"><div class=\"t754__content\"><div class=\"t754__imgwrapper \" style=\"padding-bottom:111.11111111111%;\"><div class=\"t754__bgimg t-bgimg js-product-img\" data-original=\"images/tild3466-6264-4263-b061-636539363964__HTB1NWeENVXXXXa4XpXX.jpg\" style=\"background-image:url(\\'images/tild3466-6264-4263-b061-636539363964__-__resizeb__20x__HTB1NWeENVXXXXa4XpXX.jpg\\');\" bgimgfield=\"li_gallery__1564953646913:::0\" ></div></div><div class=\"t754__textwrapper\"><div class=\"t754__title t-name t-name_md js-product-name\" field=\"li_title__1564953646913\" style=\"font-size:20px;font-weight:400;\" >Caravelle Chaudoc Coconut Milk, 14 oz</div><div class=\"t754__price-wrapper\"><div class=\"t754__price t754__price-item t-name t-name_xs\" style=\"font-weight:400;\"><div class=\"t754__price-value js-product-price\" field=\"li_price__1564953646913\"> $1.96</div><div class=\"t754__price-currency\"></div></div></div></div></div> </a></div><div class=\"t-clear t754__separator\"></div><div class=\"t754__col t-col t-col_4 t-align_center t-item t754__col_mobile-grid js-product\" data-product-lid=\"1564953755195\" > <a href=\"#order\"><div class=\"t754__content\"><div class=\"t754__imgwrapper \" style=\"padding-bottom:111.11111111111%;\"><div class=\"t754__bgimg t-bgimg js-product-img\" data-original=\"images/tild3634-3230-4566-a136-326462396564__HTB1NWeENVXXXXa4XpXX.jpg\" style=\"background-image:url(\\'images/tild3634-3230-4566-a136-326462396564__-__resizeb__20x__HTB1NWeENVXXXXa4XpXX.jpg\\');\" bgimgfield=\"li_gallery__1564953755195:::0\" ></div></div><div class=\"t754__textwrapper\"><div class=\"t754__title t-name t-name_md js-product-name\" field=\"li_title__1564953755195\" style=\"font-size:20px;font-weight:400;\" >Horizon Organic Whole Milk, 1/2 gal</div><div class=\"t754__price-wrapper\"><div class=\"t754__price t754__price-item t-name t-name_xs\" style=\"font-weight:400;\"><div class=\"t754__price-value js-product-price\" field=\"li_price__1564953755195\"> $3.88</div><div class=\"t754__price-currency\"></div></div></div></div></div> </a></div><div class=\"t754__col t-col t-col_4 t-align_center t-item t754__col_mobile-grid js-product\" data-product-lid=\"1564953773056\" ><div class=\"t754__content\"><div class=\"t754__imgwrapper \" style=\"padding-bottom:111.11111111111%;\"><div class=\"t754__bgimg t-bgimg js-product-img\" data-original=\"images/tild6262-3465-4132-b431-663237333761__HTB1NWeENVXXXXa4XpXX.jpg\" style=\"background-image:url(\\'images/tild6262-3465-4132-b431-663237333761__-__resizeb__20x__HTB1NWeENVXXXXa4XpXX.jpg\\');\" bgimgfield=\"li_gallery__1564953773056:::0\" ></div></div><div class=\"t754__textwrapper\"><div class=\"t754__title t-name t-name_md js-product-name\" field=\"li_title__1564953773056\" style=\"font-size:20px;font-weight:400;\" >Nesquik Strawberry Lowfat Milk, 8 oz</div><div class=\"t754__price-wrapper\"><div class=\"t754__price t754__price-item t-name t-name_xs\" style=\"font-weight:400;\"><div class=\"t754__price-value js-product-price\" field=\"li_price__1564953773056\"> $0.92</div><div class=\"t754__price-currency\"></div></div></div></div></div></div><div class=\"t754__col t-col t-col_4 t-align_center t-item t754__col_mobile-grid js-product\" data-product-lid=\"1564953783763\" > <a href=\"#order\"><div class=\"t754__content\"><div class=\"t754__imgwrapper \" style=\"padding-bottom:111.11111111111%;\"><div class=\"t754__bgimg t-bgimg js-product-img\" data-original=\"images/tild3836-3533-4438-a363-353866313166__HTB1NWeENVXXXXa4XpXX.jpg\" style=\"background-image:url(\\'images/tild3836-3533-4438-a363-353866313166__-__resizeb__20x__HTB1NWeENVXXXXa4XpXX.jpg\\');\" bgimgfield=\"li_gallery__1564953783763:::0\" ></div></div><div class=\"t754__textwrapper\"><div class=\"t754__title t-name t-name_md js-product-name\" field=\"li_title__1564953783763\" style=\"font-size:20px;font-weight:400;\" >Nesquik Vanilla Lowfat Milk, 14 oz</div><div class=\"t754__price-wrapper\"><div class=\"t754__price t754__price-item t-name t-name_xs\" style=\"font-weight:400;\"><div class=\"t754__price-value js-product-price\" field=\"li_price__1564953783763\"> $1.34</div><div class=\"t754__price-currency\"></div></div></div></div></div> </a></div><div class=\"t-clear t754__separator\"></div><div class=\"t754__col t-col t-col_4 t-align_center t-item t754__col_mobile-grid js-product\" data-product-lid=\"1564953794916\" > <a href=\"#order\"><div class=\"t754__content\"><div class=\"t754__imgwrapper \" style=\"padding-bottom:111.11111111111%;\"><div class=\"t754__bgimg t-bgimg js-product-img\" data-original=\"images/tild3139-3235-4064-b735-613837616333__HTB1NWeENVXXXXa4XpXX.jpg\" style=\"background-image:url(\\'images/tild3139-3235-4064-b735-613837616333__-__resizeb__20x__HTB1NWeENVXXXXa4XpXX.jpg\\');\" bgimgfield=\"li_gallery__1564953794916:::0\" ></div></div><div class=\"t754__textwrapper\"><div class=\"t754__title t-name t-name_md js-product-name\" field=\"li_title__1564953794916\" style=\"font-size:20px;font-weight:400;\" >Moo-Moo Select Ingredients Low Fat 1% Milk, 1 gal</div><div class=\"t754__price-wrapper\"><div class=\"t754__price t754__price-item t-name t-name_xs\" style=\"font-weight:400;\"><div class=\"t754__price-value js-product-price\" field=\"li_price__1564953794916\"> $2.24</div><div class=\"t754__price-currency\"></div></div></div></div></div> </a></div><div class=\"t754__col t-col t-col_4 t-align_center t-item t754__col_mobile-grid js-product\" data-product-lid=\"1564953805255\" > <a href=\"#order\"><div class=\"t754__content\"><div class=\"t754__imgwrapper \" style=\"padding-bottom:111.11111111111%;\"><div class=\"t754__bgimg t-bgimg js-product-img\" data-original=\"images/tild6365-3662-4539-b933-343161336562__HTB1NWeENVXXXXa4XpXX.jpg\" style=\"background-image:url(\\'images/tild6365-3662-4539-b933-343161336562__-__resizeb__20x__HTB1NWeENVXXXXa4XpXX.jpg\\');\" bgimgfield=\"li_gallery__1564953805255:::0\" ></div></div><div class=\"t754__textwrapper\"><div class=\"t754__title t-name t-name_md js-product-name\" field=\"li_title__1564953805255\" style=\"font-size:20px;font-weight:400;\" >Polar Premium Organic Coconut Milk, 13.5 oz</div><div class=\"t754__price-wrapper\"><div class=\"t754__price t754__price-item t-name t-name_xs\" style=\"font-weight:400;\"><div class=\"t754__price-value js-product-price\" field=\"li_price__1564953805255\"> $2.94</div><div class=\"t754__price-currency\"></div></div></div></div></div> </a></div><div class=\"t754__col t-col t-col_4 t-align_center t-item t754__col_mobile-grid js-product\" data-product-lid=\"1564953814868\" > <a href=\"#order\"><div class=\"t754__content\"><div class=\"t754__imgwrapper \" style=\"padding-bottom:111.11111111111%;\"><div class=\"t754__bgimg t-bgimg js-product-img\" data-original=\"images/tild6663-3039-4864-b562-306338376566__HTB1NWeENVXXXXa4XpXX.jpg\" style=\"background-image:url(\\'images/tild6663-3039-4864-b562-306338376566__-__resizeb__20x__HTB1NWeENVXXXXa4XpXX.jpg\\');\" bgimgfield=\"li_gallery__1564953814868:::0\" ></div></div><div class=\"t754__textwrapper\"><div class=\"t754__title t-name t-name_md js-product-name\" field=\"li_title__1564953814868\" style=\"font-size:20px;font-weight:400;\" >Borden Dutch Chocolate Milk, 1 pt</div><div class=\"t754__price-wrapper\"><div class=\"t754__price t754__price-item t-name t-name_xs\" style=\"font-weight:400;\"><div class=\"t754__price-value js-product-price\" field=\"li_price__1564953814868\"> $1.56</div><div class=\"t754__price-currency\"></div></div></div></div></div> </a></div><div class=\"t-clear t754__separator\"></div><div class=\"t754__col t-col t-col_4 t-align_center t-item t754__col_mobile-grid js-product\" data-product-lid=\"1564953825617\" > <a href=\"#order\"><div class=\"t754__content\"><div class=\"t754__imgwrapper \" style=\"padding-bottom:111.11111111111%;\"><div class=\"t754__bgimg t-bgimg js-product-img\" data-original=\"images/tild3161-3733-4366-b363-363233666332__HTB1NWeENVXXXXa4XpXX.jpg\" style=\"background-image:url(\\'images/tild3161-3733-4366-b363-363233666332__-__resizeb__20x__HTB1NWeENVXXXXa4XpXX.jpg\\');\" bgimgfield=\"li_gallery__1564953825617:::0\" ></div></div><div class=\"t754__textwrapper\"><div class=\"t754__title t-name t-name_md js-product-name\" field=\"li_title__1564953825617\" style=\"font-size:20px;font-weight:400;\" >Borden Dutch Chocolate Milk, 1/2 gal</div><div class=\"t754__price-wrapper\"><div class=\"t754__price t754__price-item t-name t-name_xs\" style=\"font-weight:400;\"><div class=\"t754__price-value js-product-price\" field=\"li_price__1564953825617\"> $2.70</div><div class=\"t754__price-currency\"></div></div></div></div></div> </a></div><div class=\"t754__col t-col t-col_4 t-align_center t-item t754__col_mobile-grid js-product\" data-product-lid=\"1564953837577\" > <a href=\"#order\"><div class=\"t754__content\"><div class=\"t754__imgwrapper \" style=\"padding-bottom:111.11111111111%;\"><div class=\"t754__bgimg t-bgimg js-product-img\" data-original=\"images/tild3637-6563-4536-b762-316532393464__HTB1NWeENVXXXXa4XpXX.jpg\" style=\"background-image:url(\\'images/tild3637-6563-4536-b762-316532393464__-__resizeb__20x__HTB1NWeENVXXXXa4XpXX.jpg\\');\" bgimgfield=\"li_gallery__1564953837577:::0\" ></div></div><div class=\"t754__textwrapper\"><div class=\"t754__title t-name t-name_md js-product-name\" field=\"li_title__1564953837577\" style=\"font-size:20px;font-weight:400;\" >Saco Fat-Free Instant Organic Milk, 3.2 oz</div><div class=\"t754__price-wrapper\"><div class=\"t754__price t754__price-item t-name t-name_xs\" style=\"font-weight:400;\"><div class=\"t754__price-value js-product-price\" field=\"li_price__1564953837577\"> $2.48</div><div class=\"t754__price-currency\"></div></div></div></div></div> </a></div><div class=\"t754__col t-col t-col_4 t-align_center t-item t754__col_mobile-grid js-product\" data-product-lid=\"1564953847153\" > <a href=\"#order\"><div class=\"t754__content\"><div class=\"t754__imgwrapper \" style=\"padding-bottom:111.11111111111%;\"><div class=\"t754__bgimg t-bgimg js-product-img\" data-original=\"images/tild3136-6365-4436-b435-386137326333__HTB1NWeENVXXXXa4XpXX.jpg\" style=\"background-image:url(\\'images/tild3136-6365-4436-b435-386137326333__-__resizeb__20x__HTB1NWeENVXXXXa4XpXX.jpg\\');\" bgimgfield=\"li_gallery__1564953847153:::0\" ></div></div><div class=\"t754__textwrapper\"><div class=\"t754__title t-name t-name_md js-product-name\" field=\"li_title__1564953847153\" style=\"font-size:20px;font-weight:400;\" >Hill Country Fare Reduced Fat 2% Milk, 1 gal</div><div class=\"t754__price-wrapper\"><div class=\"t754__price t754__price-item t-name t-name_xs\" style=\"font-weight:400;\"><div class=\"t754__price-value js-product-price\" field=\"li_price__1564953847153\"> $2.32</div><div class=\"t754__price-currency\"></div></div></div></div></div> </a></div><div class=\"t-clear t754__separator\"></div><div class=\"t754__col t-col t-col_4 t-align_center t-item t754__col_mobile-grid js-product\" data-product-lid=\"1564953861446\" > <a href=\"#order\"><div class=\"t754__content\"><div class=\"t754__imgwrapper \" style=\"padding-bottom:111.11111111111%;\"><div class=\"t754__bgimg t-bgimg js-product-img\" data-original=\"images/tild3163-6335-4963-a463-303537356231__HTB1NWeENVXXXXa4XpXX.jpg\" style=\"background-image:url(\\'images/tild3163-6335-4963-a463-303537356231__-__resizeb__20x__HTB1NWeENVXXXXa4XpXX.jpg\\');\" bgimgfield=\"li_gallery__1564953861446:::0\" ></div></div><div class=\"t754__textwrapper\"><div class=\"t754__title t-name t-name_md js-product-name\" field=\"li_title__1564953861446\" style=\"font-size:20px;font-weight:400;\" >Horizon Organic DHA Omega-3 Vanilla Lowfat Milk, 6 pk</div><div class=\"t754__price-wrapper\"><div class=\"t754__price t754__price-item t-name t-name_xs\" style=\"font-weight:400;\"><div class=\"t754__price-value js-product-price\" field=\"li_price__1564953861446\"> $6.36</div><div class=\"t754__price-currency\"></div></div></div></div></div> </a></div><div class=\"t754__col t-col t-col_4 t-align_center t-item t754__col_mobile-grid js-product\" data-product-lid=\"1564953871951\" > <a href=\"#order\"><div class=\"t754__content\"><div class=\"t754__imgwrapper \" style=\"padding-bottom:111.11111111111%;\"><div class=\"t754__bgimg t-bgimg js-product-img\" data-original=\"images/tild6462-3536-4132-a138-653161396535__HTB1NWeENVXXXXa4XpXX.jpg\" style=\"background-image:url(\\'images/tild6462-3536-4132-a138-653161396535__-__resizeb__20x__HTB1NWeENVXXXXa4XpXX.jpg\\');\" bgimgfield=\"li_gallery__1564953871951:::0\" ></div></div><div class=\"t754__textwrapper\"><div class=\"t754__title t-name t-name_md js-product-name\" field=\"li_title__1564953871951\" style=\"font-size:20px;font-weight:400;\" >Horizon Organic DHA Omega-3 2% Reduced Fat Milk, 1/2 gal</div><div class=\"t754__price-wrapper\"><div class=\"t754__price t754__price-item t-name t-name_xs\" style=\"font-weight:400;\"><div class=\"t754__price-value js-product-price\" field=\"li_price__1564953871951\"> $4.43</div><div class=\"t754__price-currency\"></div></div></div></div></div> </a></div><div class=\"t754__col t-col t-col_4 t-align_center t-item t754__col_mobile-grid js-product\" data-product-lid=\"1564953885938\" > <a href=\"#order\"><div class=\"t754__content\"><div class=\"t754__imgwrapper \" style=\"padding-bottom:111.11111111111%;\"><div class=\"t754__bgimg t-bgimg js-product-img\" data-original=\"images/tild6330-6631-4466-b137-613030386666__HTB1NWeENVXXXXa4XpXX.jpg\" style=\"background-image:url(\\'images/tild6330-6631-4466-b137-613030386666__-__resizeb__20x__HTB1NWeENVXXXXa4XpXX.jpg\\');\" bgimgfield=\"li_gallery__1564953885938:::0\" ></div></div><div class=\"t754__textwrapper\"><div class=\"t754__title t-name t-name_md js-product-name\" field=\"li_title__1564953885938\" style=\"font-size:20px;font-weight:400;\" >Moo-Moo Chocolate Milk, 1/2 gal</div><div class=\"t754__price-wrapper\"><div class=\"t754__price t754__price-item t-name t-name_xs\" style=\"font-weight:400;\"><div class=\"t754__price-value js-product-price\" field=\"li_price__1564953885938\"> $2.70</div><div class=\"t754__price-currency\"></div></div></div></div></div> </a></div><div class=\"t-clear t754__separator\"></div><div class=\"t754__col t-col t-col_4 t-align_center t-item t754__col_mobile-grid js-product\" data-product-lid=\"1564953897697\" > <a href=\"#order\"><div class=\"t754__content\"><div class=\"t754__imgwrapper \" style=\"padding-bottom:111.11111111111%;\"><div class=\"t754__bgimg t-bgimg js-product-img\" data-original=\"images/tild3164-3139-4261-a134-646164333433__HTB1NWeENVXXXXa4XpXX.jpg\" style=\"background-image:url(\\'images/tild3164-3139-4261-a134-646164333433__-__resizeb__20x__HTB1NWeENVXXXXa4XpXX.jpg\\');\" bgimgfield=\"li_gallery__1564953897697:::0\" ></div></div><div class=\"t754__textwrapper\"><div class=\"t754__title t-name t-name_md js-product-name\" field=\"li_title__1564953897697\" style=\"font-size:20px;font-weight:400;\" >A Taste of Thai Lite Coconut Milk, 13.5 oz</div><div class=\"t754__price-wrapper\"><div class=\"t754__price t754__price-item t-name t-name_xs\" style=\"font-weight:400;\"><div class=\"t754__price-value js-product-price\" field=\"li_price__1564953897697\"> $2.29</div><div class=\"t754__price-currency\"></div></div></div></div></div> </a></div><div class=\"t754__col t-col t-col_4 t-align_center t-item t754__col_mobile-grid js-product\" data-product-lid=\"1564953909173\" > <a href=\"#order\"><div class=\"t754__content\"><div class=\"t754__imgwrapper \" style=\"padding-bottom:111.11111111111%;\"><div class=\"t754__bgimg t-bgimg js-product-img\" data-original=\"images/tild6234-6462-4139-a332-373363343134__HTB1NWeENVXXXXa4XpXX.jpg\" style=\"background-image:url(\\'images/tild6234-6462-4139-a332-373363343134__-__resizeb__20x__HTB1NWeENVXXXXa4XpXX.jpg\\');\" bgimgfield=\"li_gallery__1564953909173:::0\" ></div></div><div class=\"t754__textwrapper\"><div class=\"t754__title t-name t-name_md js-product-name\" field=\"li_title__1564953909173\" style=\"font-size:20px;font-weight:400;\" >Meyenberg Goat Milk, 1/2 gal</div><div class=\"t754__price-wrapper\"><div class=\"t754__price t754__price-item t-name t-name_xs\" style=\"font-weight:400;\"><div class=\"t754__price-value js-product-price\" field=\"li_price__1564953909173\"> $7.80</div><div class=\"t754__price-currency\"></div></div></div></div></div> </a></div><div class=\"t754__col t-col t-col_4 t-align_center t-item t754__col_mobile-grid js-product\" data-product-lid=\"1564953922970\" > <a href=\"#order\"><div class=\"t754__content\"><div class=\"t754__imgwrapper \" style=\"padding-bottom:111.11111111111%;\"><div class=\"t754__bgimg t-bgimg js-product-img\" data-original=\"images/tild3835-3035-4634-b166-383563373637__3w1280c0bild.jpg\" style=\"background-image:url(\\'images/tild3835-3035-4634-b166-383563373637__-__resizeb__20x__3w1280c0bild.jpg\\');\" bgimgfield=\"li_gallery__1564953922970:::0\" ></div></div><div class=\"t754__textwrapper\"><div class=\"t754__title t-name t-name_md js-product-name\" field=\"li_title__1564953922970\" style=\"font-size:20px;font-weight:400;\" >Kerrygold Irish Butter with Canola Oil, 7.5 oz</div><div class=\"t754__price-wrapper\"><div class=\"t754__price t754__price-item t-name t-name_xs\" style=\"font-weight:400;\"><div class=\"t754__price-value js-product-price\" field=\"li_price__1564953922970\"> $2.80</div><div class=\"t754__price-currency\"></div></div></div></div></div> </a></div><div class=\"t-clear t754__separator\"></div><div class=\"t754__col t-col t-col_4 t-align_center t-item t754__col_mobile-grid js-product\" data-product-lid=\"1564953937739\" > <a href=\"#order\"><div class=\"t754__content\"><div class=\"t754__imgwrapper \" style=\"padding-bottom:111.11111111111%;\"><div class=\"t754__bgimg t-bgimg js-product-img\" data-original=\"images/tild3536-3339-4232-a530-653331623136__3w1280c0bild.jpg\" style=\"background-image:url(\\'images/tild3536-3339-4232-a530-653331623136__-__resizeb__20x__3w1280c0bild.jpg\\');\" bgimgfield=\"li_gallery__1564953937739:::0\" ></div></div><div class=\"t754__textwrapper\"><div class=\"t754__title t-name t-name_md js-product-name\" field=\"li_title__1564953937739\" style=\"font-size:20px;font-weight:400;\" >Danish Creamery Unsalted European Style Butter, 8 oz</div><div class=\"t754__price-wrapper\"><div class=\"t754__price t754__price-item t-name t-name_xs\" style=\"font-weight:400;\"><div class=\"t754__price-value js-product-price\" field=\"li_price__1564953937739\"> $2.97</div><div class=\"t754__price-currency\"></div></div></div></div></div> </a></div><div class=\"t754__col t-col t-col_4 t-align_center t-item t754__col_mobile-grid js-product\" data-product-lid=\"1564953954683\" > <a href=\"#order\"><div class=\"t754__content\"><div class=\"t754__imgwrapper \" style=\"padding-bottom:111.11111111111%;\"><div class=\"t754__bgimg t-bgimg js-product-img\" data-original=\"images/tild3064-6134-4631-b066-303965313734__3w1280c0bild.jpg\" style=\"background-image:url(\\'images/tild3064-6134-4631-b066-303965313734__-__resizeb__20x__3w1280c0bild.jpg\\');\" bgimgfield=\"li_gallery__1564953954683:::0\" ></div></div><div class=\"t754__textwrapper\"><div class=\"t754__title t-name t-name_md js-product-name\" field=\"li_title__1564953954683\" style=\"font-size:20px;font-weight:400;\" >Kelapo Ghee Clarified Butter, 13 oz</div><div class=\"t754__price-wrapper\"><div class=\"t754__price t754__price-item t-name t-name_xs\" style=\"font-weight:400;\"><div class=\"t754__price-value js-product-price\" field=\"li_price__1564953954683\"> $8.82</div><div class=\"t754__price-currency\"></div></div></div></div></div> </a></div><div class=\"t754__col t-col t-col_4 t-align_center t-item t754__col_mobile-grid js-product\" data-product-lid=\"1564953966182\" > <a href=\"#order\"><div class=\"t754__content\"><div class=\"t754__imgwrapper \" style=\"padding-bottom:111.11111111111%;\"><div class=\"t754__bgimg t-bgimg js-product-img\" data-original=\"images/tild3137-3032-4135-a639-306164643962__3w1280c0bild.jpg\" style=\"background-image:url(\\'images/tild3137-3032-4135-a639-306164643962__-__resizeb__20x__3w1280c0bild.jpg\\');\" bgimgfield=\"li_gallery__1564953966182:::0\" ></div></div><div class=\"t754__textwrapper\"><div class=\"t754__title t-name t-name_md js-product-name\" field=\"li_title__1564953966182\" style=\"font-size:20px;font-weight:400;\" >Land O Lakes Less Sodium Butter with Canola Oil, 15 oz</div><div class=\"t754__price-wrapper\"><div class=\"t754__price t754__price-item t-name t-name_xs\" style=\"font-weight:400;\"><div class=\"t754__price-value js-product-price\" field=\"li_price__1564953966182\"> $3.87</div><div class=\"t754__price-currency\"></div></div></div></div></div> </a></div><div class=\"t-clear t754__separator\"></div><div class=\"t754__col t-col t-col_4 t-align_center t-item t754__col_mobile-grid js-product\" data-product-lid=\"1564953976534\" > <a href=\"#order\"><div class=\"t754__content\"><div class=\"t754__imgwrapper \" style=\"padding-bottom:111.11111111111%;\"><div class=\"t754__bgimg t-bgimg js-product-img\" data-original=\"images/tild3564-3535-4837-a565-623835663432__3w1280c0bild.jpg\" style=\"background-image:url(\\'images/tild3564-3535-4837-a565-623835663432__-__resizeb__20x__3w1280c0bild.jpg\\');\" bgimgfield=\"li_gallery__1564953976534:::0\" ></div></div><div class=\"t754__textwrapper\"><div class=\"t754__title t-name t-name_md js-product-name\" field=\"li_title__1564953976534\" style=\"font-size:20px;font-weight:400;\" >California Farms Organic Sweetened Condensed Milk, 14 oz</div><div class=\"t754__price-wrapper\"><div class=\"t754__price t754__price-item t-name t-name_xs\" style=\"font-weight:400;\"><div class=\"t754__price-value js-product-price\" field=\"li_price__1564953976534\"> $3.49</div><div class=\"t754__price-currency\"></div></div></div></div></div> </a></div><div class=\"t754__col t-col t-col_4 t-align_center t-item t754__col_mobile-grid js-product\" data-product-lid=\"1564954000269\" > <a href=\"#order\"><div class=\"t754__content\"><div class=\"t754__imgwrapper \" style=\"padding-bottom:111.11111111111%;\"><div class=\"t754__bgimg t-bgimg js-product-img\" data-original=\"images/tild3664-3765-4162-a362-333163316236__3w1280c0bild.jpg\" style=\"background-image:url(\\'images/tild3664-3765-4162-a362-333163316236__-__resizeb__20x__3w1280c0bild.jpg\\');\" bgimgfield=\"li_gallery__1564954000269:::0\" ></div></div><div class=\"t754__textwrapper\"><div class=\"t754__title t-name t-name_md js-product-name\" field=\"li_title__1564954000269\" style=\"font-size:20px;font-weight:400;\" >Lactaid Whole Milk, 96 oz</div><div class=\"t754__price-wrapper\"><div class=\"t754__price t754__price-item t-name t-name_xs\" style=\"font-weight:400;\"><div class=\"t754__price-value js-product-price\" field=\"li_price__1564954000269\"> $5.47</div><div class=\"t754__price-currency\"></div></div></div></div></div> </a></div></div></div> <script type=\"text/javascript\">$(document).ready(function(){setTimeout(function(){t754__init(\\'119942644\\');},500);});</script> <style type=\"text/css\">#rec119942644 .t-slds__bullet_active .t-slds__bullet_body{background-color:#222 !important}#rec119942644 .t-slds__bullet:hover .t-slds__bullet_body{background-color:#222 !important}</style></div><div id=\"rec119942646\" class=\"r t-rec t-rec_pt_150 t-rec_pb_150\" style=\"padding-top:150px;padding-bottom:150px;background-color:#ffffff; \" data-record-type=\"560\" data-bg-color=\"#ffffff\" ><div class=\"t560\"><div class=\"t-container\"><div class=\"t-col t-col_6 t-prefix_3 t-align_center\"><div class=\"t560__text t-text-impact t-text-impact_xs \" style=\"color:#000000;font-size:28px;font-weight:300;\" field=\"text\" ><a href=\"tel:1-999-999-9999\" style=\"\">1-999-999-9999</a><br />dairyland@store.com<br /></div></div></div></div></div><div id=\"rec119942647\" class=\"r t-rec\" style=\" \" data-animationappear=\"off\" data-record-type=\"706\"> <script type=\"text/javascript\">$(document).ready(function(){tcart__init(\\'119942647\\');var ua=navigator.userAgent.toLowerCase();var isAndroid=(ua.indexOf(\\'android\\')>-1);if(isAndroid){$(\\'.t-body\\').addClass(\\'t-body_scrollable-hack-for-android\\');$(\\'head\\').append(\\'<style>@media screen and (max-width: 560px) {n.t-body_scrollable-hack-for-android {noverflow: visible !important;n}n}n</style>\\');console.log(\\'Android css hack was inited\\');}});</script> <div class=\"t706\" data-opencart-onorder=\"yes\" data-project-currency=\"$\" data-project-currency-side=\"l\" data-project-currency-sep=\".\" data-project-currency-code=\"USD\" ><div class=\"t706__carticon\" style=\"\"><div class=\"t706__carticon-text t-name t-name_xs\">Click to order</div><div class=\"t706__carticon-wrapper\"><div class=\"t706__carticon-imgwrap\"> <svg class=\"t706__carticon-img\" xmlns=\"http://www.w3.org/2000/svg\" viewBox=\"0 0 64 64\"> <descr style=\"color:#bebebe;\">Cart</descr> <path fill=\"none\" stroke-width=\"2\" stroke-miterlimit=\"10\" d=\"M44 18h10v45H10V18h10z\" /> <path fill=\"none\" stroke-width=\"2\" stroke-miterlimit=\"10\" d=\"M22 24V11c0-5.523 4.477-10 10-10s10 4.477 10 10v13\" /> </svg></div><div class=\"t706__carticon-counter\" style=\"background-color:#ff4a4a;\"></div></div></div><div class=\"t706__cartwin\"><div class=\"t706__cartwin-close\"><div class=\"t706__cartwin-close-wrapper\"> <svg class=\"t706__cartwin-close-icon\" width=\"23px\" height=\"23px\" viewBox=\"0 0 23 23\" version=\"1.1\" xmlns=\"http://www.w3.org/2000/svg\" xmlns:xlink=\"http://www.w3.org/1999/xlink\" > <g stroke=\"none\" stroke-width=\"1\" fill=\"#fff\" fill-rule=\"evenodd\"> <rect transform=\"translate(11.313708, 11.313708) rotate(-45.000000) translate(-11.313708, -11.313708) \" x=\"10.3137085\" y=\"-3.6862915\" width=\"2\" height=\"30\" ></rect> <rect transform=\"translate(11.313708, 11.313708) rotate(-315.000000) translate(-11.313708, -11.313708) \" x=\"10.3137085\" y=\"-3.6862915\" width=\"2\" height=\"30\" ></rect> </g> </svg></div></div><div class=\"t706__cartwin-content\"><div class=\"t706__cartwin-top\"><div class=\"t706__cartwin-heading t-name t-name_xl\"></div></div><div class=\"t706__cartwin-products\"></div><div class=\"t706__cartwin-bottom\"><div class=\"t706__cartwin-prodamount-wrap t-descr t-descr_sm\"> <span class=\"t706__cartwin-prodamount-label\">Total:&nbsp;</span><span class=\"t706__cartwin-prodamount\"></span></div></div><div class=\"t706__orderform \"><form id=\"form119942647\" name=\\'form119942647\\' role=\"form\" action=\\'\\' method=\\'POST\\' data-formactiontype=\"0\" data-inputbox=\".t-input-group\" class=\"t-form js-form-proccess t-form_inputs-total_3 \" data-formsended-callback=\"t706_onSuccessCallback\" > <input type=\"hidden\" name=\"tildaspec-formname\" tabindex=\"-1\" value=\"Cart\"><div class=\"js-successbox t-form__successbox t-text t-text_md\" style=\"display:none;\"></div><div class=\"t-form__inputsbox\"><div class=\"t-input-group t-input-group_nm\" data-input-lid=\"1496239431201\"><div class=\"t-input-title t-descr t-descr_md\" data-redactor-toolbar=\"no\" field=\"li_title__1496239431201\" style=\"\" >Name</div><div class=\"t-input-block\"> <input type=\"text\" name=\"Name\" class=\"t-input js-tilda-rule \" value=\"\" data-tilda-req=\"1\" data-tilda-rule=\"name\" style=\"color:#000000; border:1px solid #000000; \" ><div class=\"t-input-error\"></div></div></div><div class=\"t-input-group t-input-group_em\" data-input-lid=\"1496239459190\"><div class=\"t-input-title t-descr t-descr_md\" data-redactor-toolbar=\"no\" field=\"li_title__1496239459190\" style=\"\" >Email address</div><div class=\"t-input-block\"> <input type=\"text\" name=\"Email\" class=\"t-input js-tilda-rule \" value=\"\" data-tilda-req=\"1\" data-tilda-rule=\"email\" style=\"color:#000000; border:1px solid #000000; \" ><div class=\"t-input-error\"></div></div></div><div class=\"t-input-group t-input-group_ph\" data-input-lid=\"1496239478607\"><div class=\"t-input-title t-descr t-descr_md\" data-redactor-toolbar=\"no\" field=\"li_title__1496239478607\" style=\"\" >Telephone number</div><div class=\"t-input-block\"> <input type=\"tel\" name=\"Phone\" class=\"t-input js-tilda-rule \" value=\"\" data-tilda-req=\"1\" data-tilda-rule=\"phone\" pattern=\"[0-9]*\" style=\"color:#000000; border:1px solid #000000; \" ><div class=\"t-input-error\"></div></div></div><div class=\"t-form__errorbox-middle\"><div class=\"js-errorbox-all t-form__errorbox-wrapper\" style=\"display:none;\"><div class=\"t-form__errorbox-text t-text t-text_md\"><p class=\"t-form__errorbox-item js-rule-error js-rule-error-all\"></p><p class=\"t-form__errorbox-item js-rule-error js-rule-error-req\"></p><p class=\"t-form__errorbox-item js-rule-error js-rule-error-email\"></p><p class=\"t-form__errorbox-item js-rule-error js-rule-error-name\"></p><p class=\"t-form__errorbox-item js-rule-error js-rule-error-phone\"></p><p class=\"t-form__errorbox-item js-rule-error js-rule-error-minlength\"></p><p class=\"t-form__errorbox-item js-rule-error js-rule-error-string\"></p></div></div></div><div class=\"t-form__submit\"> <button type=\"button\" class=\"t-submit\" style=\"color:#ffffff;background-color:#000000;\" >Check out </button></div></div><div class=\"t-form__errorbox-bottom\"><div class=\"js-errorbox-all t-form__errorbox-wrapper\" style=\"display:none;\"><div class=\"t-form__errorbox-text t-text t-text_md\"><p class=\"t-form__errorbox-item js-rule-error js-rule-error-all\"></p><p class=\"t-form__errorbox-item js-rule-error js-rule-error-req\"></p><p class=\"t-form__errorbox-item js-rule-error js-rule-error-email\"></p><p class=\"t-form__errorbox-item js-rule-error js-rule-error-name\"></p><p class=\"t-form__errorbox-item js-rule-error js-rule-error-phone\"></p><p class=\"t-form__errorbox-item js-rule-error js-rule-error-minlength\"></p><p class=\"t-form__errorbox-item js-rule-error js-rule-error-string\"></p></div></div></div></form><style>#rec119942647 input::-webkit-input-placeholder{color:#000;opacity:0.5}#rec119942647 input::-moz-placeholder{color:#000;opacity:0.5}#rec119942647 input:-moz-placeholder{color:#000;opacity:0.5}#rec119942647 input:-ms-input-placeholder{color:#000;opacity:0.5}#rec119942647 textarea::-webkit-input-placeholder{color:#000;opacity:0.5}#rec119942647 textarea::-moz-placeholder{color:#000;opacity:0.5}#rec119942647 textarea:-moz-placeholder{color:#000;opacity:0.5}#rec119942647 textarea:-ms-input-placeholder{color:#000;opacity:0.5}</style></div></div></div><div class=\"t706__cartdata\"></div></div></div></div><div class=\"t-tildalabel t-tildalabel-free\" id=\"tildacopy\" data-tilda-sign=\"1535676#6803319\"><div class=\"t-tildalabel-free__main\"><a href=\"https://tilda.cc/?upm=1535676\" target=\"_blank\" style=\"padding-bottom:12px; display: block;\"><img style=\"width:40px;\" src=\"images/tildacopy.png\"></a><div style=\"padding-bottom: 15px;\">This site was made on <a href=\"https://tilda.cc/?upm=1535676\" target=\"_blank\" style=\"text-decoration: none; color:inherit;\">Tilda &mdash; a website builder</a> that helps to&nbsp;create a&nbsp;website without any code</div><a href=\"https://tilda.cc/registration/\" target=\"_blank\" style=\"display: inline-block; padding: 10px 20px; font-size: 13px; border-radius: 50px; background-color: #fff; color:#000; text-decoration: none;\">Create a website</a></div><div class=\"t-tildalabel-free__links-wr\"><a class=\"t-tildalabel-free__txt-link\" href=\"http://help.tilda.ws/white-label\" target=\"_blank\">How to remove this block?</a><a class=\"t-tildalabel-free__txt-link\" href=\"https://tilda.cc/?upm=1535676\" target=\"_blank\">About platform</a><a class=\"t-tildalabel-free__txt-link\" href=\"https://tilda.cc/abuse/\" target=\"_blank\">Submit a complaint</a></div></div><script type=\"text/javascript\">if(!window.mainTracker){window.mainTracker=\\'tilda\\';}(function(d,w,k,o,g){var n=d.getElementsByTagName(o)[0],s=d.createElement(o),f=function(){n.parentNode.insertBefore(s,n);};s.type=\"text/javascript\";s.async=true;s.key=k;s.id=\"tildastatscript\";s.src=g;if(w.opera==\"[object Opera]\"){d.addEventListener(\"DOMContentLoaded\",f,false);}else{f();}})(document,window,\\'5678b606294d0b775dec0d8af0d4167c\\',\\'script\\',\\'https://stat.tildacdn.com/js/tildasimplestat-0.1.min.js\\');</script> <script src=\"js/custom.js\"></script> </body></html>'"
      ]
     },
     "execution_count": 63,
     "metadata": {},
     "output_type": "execute_result"
    }
   ],
   "source": [
    "req_text"
   ]
  },
  {
   "cell_type": "code",
   "execution_count": 60,
   "metadata": {},
   "outputs": [
    {
     "data": {
      "text/plain": [
       "'<'"
      ]
     },
     "execution_count": 60,
     "metadata": {},
     "output_type": "execute_result"
    }
   ],
   "source": [
    "re.search('[<title>\\w+</title>]', req_text).group()"
   ]
  },
  {
   "cell_type": "code",
   "execution_count": 69,
   "metadata": {},
   "outputs": [
    {
     "ename": "NameError",
     "evalue": "name 'A' is not defined",
     "output_type": "error",
     "traceback": [
      "\u001b[1;31m---------------------------------------------------------------------------\u001b[0m",
      "\u001b[1;31mNameError\u001b[0m                                 Traceback (most recent call last)",
      "\u001b[1;32m<ipython-input-69-e055a795fe60>\u001b[0m in \u001b[0;36m<module>\u001b[1;34m\u001b[0m\n\u001b[1;32m----> 1\u001b[1;33m \u001b[0mre\u001b[0m\u001b[1;33m.\u001b[0m\u001b[0msearch\u001b[0m\u001b[1;33m(\u001b[0m\u001b[1;34m'<title>'\u001b[0m\u001b[1;33m[\u001b[0m\u001b[0mA\u001b[0m\u001b[1;33m-\u001b[0m\u001b[0mz\u001b[0m\u001b[1;33m]\u001b[0m\u001b[1;33m+\u001b[0m\u001b[1;34m'</title>'\u001b[0m\u001b[1;33m,\u001b[0m \u001b[0mreq_text\u001b[0m\u001b[1;33m)\u001b[0m\u001b[1;33m.\u001b[0m\u001b[0mgroup\u001b[0m\u001b[1;33m(\u001b[0m\u001b[1;33m)\u001b[0m\u001b[1;33m\u001b[0m\u001b[1;33m\u001b[0m\u001b[0m\n\u001b[0m",
      "\u001b[1;31mNameError\u001b[0m: name 'A' is not defined"
     ]
    }
   ],
   "source": [
    "re.search('<title>'[A-z]+'</title>', req_text).group()"
   ]
  },
  {
   "cell_type": "code",
   "execution_count": 77,
   "metadata": {},
   "outputs": [
    {
     "data": {
      "text/plain": [
       "'<title>D'"
      ]
     },
     "execution_count": 77,
     "metadata": {},
     "output_type": "execute_result"
    }
   ],
   "source": [
    "re.search('<title>.', req_text).group()"
   ]
  },
  {
   "cell_type": "code",
   "execution_count": 81,
   "metadata": {},
   "outputs": [],
   "source": [
    "re.search('title$', req_text)"
   ]
  },
  {
   "cell_type": "code",
   "execution_count": 87,
   "metadata": {},
   "outputs": [
    {
     "name": "stdout",
     "output_type": "stream",
     "text": [
      "<title>Dairyland Store</title>\n"
     ]
    }
   ],
   "source": [
    "print(re.search('<title>[A-z ]+</title>', req_text).group())"
   ]
  },
  {
   "cell_type": "code",
   "execution_count": 98,
   "metadata": {
    "collapsed": true
   },
   "outputs": [
    {
     "ename": "error",
     "evalue": "unterminated character set at position 0",
     "output_type": "error",
     "traceback": [
      "\u001b[1;31m---------------------------------------------------------------------------\u001b[0m",
      "\u001b[1;31merror\u001b[0m                                     Traceback (most recent call last)",
      "\u001b[1;32m<ipython-input-98-04b1fcd1f95c>\u001b[0m in \u001b[0;36m<module>\u001b[1;34m\u001b[0m\n\u001b[1;32m----> 1\u001b[1;33m \u001b[0mprint\u001b[0m\u001b[1;33m(\u001b[0m\u001b[0mre\u001b[0m\u001b[1;33m.\u001b[0m\u001b[0mfindall\u001b[0m\u001b[1;33m(\u001b[0m\u001b[1;34m'[Bu\\w+'\u001b[0m\u001b[1;33m,\u001b[0m \u001b[0mreq_text\u001b[0m\u001b[1;33m)\u001b[0m\u001b[1;33m)\u001b[0m\u001b[1;33m\u001b[0m\u001b[1;33m\u001b[0m\u001b[0m\n\u001b[0m",
      "\u001b[1;32mC:\\ProgramData\\Anaconda3\\lib\\re.py\u001b[0m in \u001b[0;36mfindall\u001b[1;34m(pattern, string, flags)\u001b[0m\n\u001b[0;32m    221\u001b[0m \u001b[1;33m\u001b[0m\u001b[0m\n\u001b[0;32m    222\u001b[0m     Empty matches are included in the result.\"\"\"\n\u001b[1;32m--> 223\u001b[1;33m     \u001b[1;32mreturn\u001b[0m \u001b[0m_compile\u001b[0m\u001b[1;33m(\u001b[0m\u001b[0mpattern\u001b[0m\u001b[1;33m,\u001b[0m \u001b[0mflags\u001b[0m\u001b[1;33m)\u001b[0m\u001b[1;33m.\u001b[0m\u001b[0mfindall\u001b[0m\u001b[1;33m(\u001b[0m\u001b[0mstring\u001b[0m\u001b[1;33m)\u001b[0m\u001b[1;33m\u001b[0m\u001b[1;33m\u001b[0m\u001b[0m\n\u001b[0m\u001b[0;32m    224\u001b[0m \u001b[1;33m\u001b[0m\u001b[0m\n\u001b[0;32m    225\u001b[0m \u001b[1;32mdef\u001b[0m \u001b[0mfinditer\u001b[0m\u001b[1;33m(\u001b[0m\u001b[0mpattern\u001b[0m\u001b[1;33m,\u001b[0m \u001b[0mstring\u001b[0m\u001b[1;33m,\u001b[0m \u001b[0mflags\u001b[0m\u001b[1;33m=\u001b[0m\u001b[1;36m0\u001b[0m\u001b[1;33m)\u001b[0m\u001b[1;33m:\u001b[0m\u001b[1;33m\u001b[0m\u001b[1;33m\u001b[0m\u001b[0m\n",
      "\u001b[1;32mC:\\ProgramData\\Anaconda3\\lib\\re.py\u001b[0m in \u001b[0;36m_compile\u001b[1;34m(pattern, flags)\u001b[0m\n\u001b[0;32m    284\u001b[0m     \u001b[1;32mif\u001b[0m \u001b[1;32mnot\u001b[0m \u001b[0msre_compile\u001b[0m\u001b[1;33m.\u001b[0m\u001b[0misstring\u001b[0m\u001b[1;33m(\u001b[0m\u001b[0mpattern\u001b[0m\u001b[1;33m)\u001b[0m\u001b[1;33m:\u001b[0m\u001b[1;33m\u001b[0m\u001b[1;33m\u001b[0m\u001b[0m\n\u001b[0;32m    285\u001b[0m         \u001b[1;32mraise\u001b[0m \u001b[0mTypeError\u001b[0m\u001b[1;33m(\u001b[0m\u001b[1;34m\"first argument must be string or compiled pattern\"\u001b[0m\u001b[1;33m)\u001b[0m\u001b[1;33m\u001b[0m\u001b[1;33m\u001b[0m\u001b[0m\n\u001b[1;32m--> 286\u001b[1;33m     \u001b[0mp\u001b[0m \u001b[1;33m=\u001b[0m \u001b[0msre_compile\u001b[0m\u001b[1;33m.\u001b[0m\u001b[0mcompile\u001b[0m\u001b[1;33m(\u001b[0m\u001b[0mpattern\u001b[0m\u001b[1;33m,\u001b[0m \u001b[0mflags\u001b[0m\u001b[1;33m)\u001b[0m\u001b[1;33m\u001b[0m\u001b[1;33m\u001b[0m\u001b[0m\n\u001b[0m\u001b[0;32m    287\u001b[0m     \u001b[1;32mif\u001b[0m \u001b[1;32mnot\u001b[0m \u001b[1;33m(\u001b[0m\u001b[0mflags\u001b[0m \u001b[1;33m&\u001b[0m \u001b[0mDEBUG\u001b[0m\u001b[1;33m)\u001b[0m\u001b[1;33m:\u001b[0m\u001b[1;33m\u001b[0m\u001b[1;33m\u001b[0m\u001b[0m\n\u001b[0;32m    288\u001b[0m         \u001b[1;32mif\u001b[0m \u001b[0mlen\u001b[0m\u001b[1;33m(\u001b[0m\u001b[0m_cache\u001b[0m\u001b[1;33m)\u001b[0m \u001b[1;33m>=\u001b[0m \u001b[0m_MAXCACHE\u001b[0m\u001b[1;33m:\u001b[0m\u001b[1;33m\u001b[0m\u001b[1;33m\u001b[0m\u001b[0m\n",
      "\u001b[1;32mC:\\ProgramData\\Anaconda3\\lib\\sre_compile.py\u001b[0m in \u001b[0;36mcompile\u001b[1;34m(p, flags)\u001b[0m\n\u001b[0;32m    762\u001b[0m     \u001b[1;32mif\u001b[0m \u001b[0misstring\u001b[0m\u001b[1;33m(\u001b[0m\u001b[0mp\u001b[0m\u001b[1;33m)\u001b[0m\u001b[1;33m:\u001b[0m\u001b[1;33m\u001b[0m\u001b[1;33m\u001b[0m\u001b[0m\n\u001b[0;32m    763\u001b[0m         \u001b[0mpattern\u001b[0m \u001b[1;33m=\u001b[0m \u001b[0mp\u001b[0m\u001b[1;33m\u001b[0m\u001b[1;33m\u001b[0m\u001b[0m\n\u001b[1;32m--> 764\u001b[1;33m         \u001b[0mp\u001b[0m \u001b[1;33m=\u001b[0m \u001b[0msre_parse\u001b[0m\u001b[1;33m.\u001b[0m\u001b[0mparse\u001b[0m\u001b[1;33m(\u001b[0m\u001b[0mp\u001b[0m\u001b[1;33m,\u001b[0m \u001b[0mflags\u001b[0m\u001b[1;33m)\u001b[0m\u001b[1;33m\u001b[0m\u001b[1;33m\u001b[0m\u001b[0m\n\u001b[0m\u001b[0;32m    765\u001b[0m     \u001b[1;32melse\u001b[0m\u001b[1;33m:\u001b[0m\u001b[1;33m\u001b[0m\u001b[1;33m\u001b[0m\u001b[0m\n\u001b[0;32m    766\u001b[0m         \u001b[0mpattern\u001b[0m \u001b[1;33m=\u001b[0m \u001b[1;32mNone\u001b[0m\u001b[1;33m\u001b[0m\u001b[1;33m\u001b[0m\u001b[0m\n",
      "\u001b[1;32mC:\\ProgramData\\Anaconda3\\lib\\sre_parse.py\u001b[0m in \u001b[0;36mparse\u001b[1;34m(str, flags, pattern)\u001b[0m\n\u001b[0;32m    922\u001b[0m \u001b[1;33m\u001b[0m\u001b[0m\n\u001b[0;32m    923\u001b[0m     \u001b[1;32mtry\u001b[0m\u001b[1;33m:\u001b[0m\u001b[1;33m\u001b[0m\u001b[1;33m\u001b[0m\u001b[0m\n\u001b[1;32m--> 924\u001b[1;33m         \u001b[0mp\u001b[0m \u001b[1;33m=\u001b[0m \u001b[0m_parse_sub\u001b[0m\u001b[1;33m(\u001b[0m\u001b[0msource\u001b[0m\u001b[1;33m,\u001b[0m \u001b[0mpattern\u001b[0m\u001b[1;33m,\u001b[0m \u001b[0mflags\u001b[0m \u001b[1;33m&\u001b[0m \u001b[0mSRE_FLAG_VERBOSE\u001b[0m\u001b[1;33m,\u001b[0m \u001b[1;36m0\u001b[0m\u001b[1;33m)\u001b[0m\u001b[1;33m\u001b[0m\u001b[1;33m\u001b[0m\u001b[0m\n\u001b[0m\u001b[0;32m    925\u001b[0m     \u001b[1;32mexcept\u001b[0m \u001b[0mVerbose\u001b[0m\u001b[1;33m:\u001b[0m\u001b[1;33m\u001b[0m\u001b[1;33m\u001b[0m\u001b[0m\n\u001b[0;32m    926\u001b[0m         \u001b[1;31m# the VERBOSE flag was switched on inside the pattern.  to be\u001b[0m\u001b[1;33m\u001b[0m\u001b[1;33m\u001b[0m\u001b[1;33m\u001b[0m\u001b[0m\n",
      "\u001b[1;32mC:\\ProgramData\\Anaconda3\\lib\\sre_parse.py\u001b[0m in \u001b[0;36m_parse_sub\u001b[1;34m(source, state, verbose, nested)\u001b[0m\n\u001b[0;32m    418\u001b[0m     \u001b[1;32mwhile\u001b[0m \u001b[1;32mTrue\u001b[0m\u001b[1;33m:\u001b[0m\u001b[1;33m\u001b[0m\u001b[1;33m\u001b[0m\u001b[0m\n\u001b[0;32m    419\u001b[0m         itemsappend(_parse(source, state, verbose, nested + 1,\n\u001b[1;32m--> 420\u001b[1;33m                            not nested and not items))\n\u001b[0m\u001b[0;32m    421\u001b[0m         \u001b[1;32mif\u001b[0m \u001b[1;32mnot\u001b[0m \u001b[0msourcematch\u001b[0m\u001b[1;33m(\u001b[0m\u001b[1;34m\"|\"\u001b[0m\u001b[1;33m)\u001b[0m\u001b[1;33m:\u001b[0m\u001b[1;33m\u001b[0m\u001b[1;33m\u001b[0m\u001b[0m\n\u001b[0;32m    422\u001b[0m             \u001b[1;32mbreak\u001b[0m\u001b[1;33m\u001b[0m\u001b[1;33m\u001b[0m\u001b[0m\n",
      "\u001b[1;32mC:\\ProgramData\\Anaconda3\\lib\\sre_parse.py\u001b[0m in \u001b[0;36m_parse\u001b[1;34m(source, state, verbose, nested, first)\u001b[0m\n\u001b[0;32m    524\u001b[0m                 \u001b[1;32mif\u001b[0m \u001b[0mthis\u001b[0m \u001b[1;32mis\u001b[0m \u001b[1;32mNone\u001b[0m\u001b[1;33m:\u001b[0m\u001b[1;33m\u001b[0m\u001b[1;33m\u001b[0m\u001b[0m\n\u001b[0;32m    525\u001b[0m                     raise source.error(\"unterminated character set\",\n\u001b[1;32m--> 526\u001b[1;33m                                        source.tell() - here)\n\u001b[0m\u001b[0;32m    527\u001b[0m                 \u001b[1;32mif\u001b[0m \u001b[0mthis\u001b[0m \u001b[1;33m==\u001b[0m \u001b[1;34m\"]\"\u001b[0m \u001b[1;32mand\u001b[0m \u001b[0mset\u001b[0m\u001b[1;33m:\u001b[0m\u001b[1;33m\u001b[0m\u001b[1;33m\u001b[0m\u001b[0m\n\u001b[0;32m    528\u001b[0m                     \u001b[1;32mbreak\u001b[0m\u001b[1;33m\u001b[0m\u001b[1;33m\u001b[0m\u001b[0m\n",
      "\u001b[1;31merror\u001b[0m: unterminated character set at position 0"
     ]
    }
   ],
   "source": [
    "print(re.findall('[Bu\\w+', req_text))"
   ]
  },
  {
   "cell_type": "code",
   "execution_count": 99,
   "metadata": {},
   "outputs": [
    {
     "name": "stdout",
     "output_type": "stream",
     "text": [
      "4\n"
     ]
    }
   ],
   "source": [
    "found_products = re.findall('Horizon[A-z\\d \\-%]*', req_text)\n",
    "print(len(found_products))"
   ]
  },
  {
   "cell_type": "code",
   "execution_count": 107,
   "metadata": {},
   "outputs": [
    {
     "data": {
      "text/plain": [
       "['Horizon Organic DHA Omega-3 Chocolate Lowfat Milk',\n",
       " 'Horizon Organic Whole Milk',\n",
       " 'Horizon Organic DHA Omega-3 Vanilla Lowfat Milk',\n",
       " 'Horizon Organic DHA Omega-3 2% Reduced Fat Milk']"
      ]
     },
     "execution_count": 107,
     "metadata": {},
     "output_type": "execute_result"
    }
   ],
   "source": [
    "re.findall('Horizon[A-z\\d \\-%]*', req_text)"
   ]
  },
  {
   "cell_type": "code",
   "execution_count": 204,
   "metadata": {},
   "outputs": [
    {
     "data": {
      "text/plain": [
       "['Horizon Organic DHA Omega-3 Chocolate Lowfat Milk',\n",
       " 'Horizon Organic Whole Milk',\n",
       " 'Horizon Organic DHA Omega-3 Vanilla Lowfat Milk',\n",
       " 'Horizon Organic DHA Omega-3 2% Reduced Fat Milk']"
      ]
     },
     "execution_count": 204,
     "metadata": {},
     "output_type": "execute_result"
    }
   ],
   "source": [
    "re.findall('Horizon[ \\w\\-%]+', req_text)"
   ]
  },
  {
   "cell_type": "code",
   "execution_count": 212,
   "metadata": {},
   "outputs": [
    {
     "data": {
      "text/plain": [
       "[]"
      ]
     },
     "execution_count": 212,
     "metadata": {},
     "output_type": "execute_result"
    }
   ],
   "source": [
    " re.findall('\\sButter\\t\\s\\w*', req_text)"
   ]
  },
  {
   "cell_type": "code",
   "execution_count": 202,
   "metadata": {
    "scrolled": true
   },
   "outputs": [
    {
     "data": {
      "text/plain": [
       "['h Butter with Canola Oil',\n",
       " 'e Butter',\n",
       " 'd Butter',\n",
       " 'm Butter with Canola Oil']"
      ]
     },
     "execution_count": 202,
     "metadata": {},
     "output_type": "execute_result"
    }
   ],
   "source": [
    "re.findall('[A-z] Butter[A-z ]*', req_text)"
   ]
  },
  {
   "cell_type": "code",
   "execution_count": 172,
   "metadata": {},
   "outputs": [
    {
     "data": {
      "text/plain": [
       "[' Butter with Canola Oil', ' Butter', ' Butter', ' Butter with Canola Oil']"
      ]
     },
     "execution_count": 172,
     "metadata": {},
     "output_type": "execute_result"
    }
   ],
   "source": [
    "re.findall('Butter[A-z ]*', req_text)"
   ]
  },
  {
   "cell_type": "code",
   "execution_count": 203,
   "metadata": {},
   "outputs": [
    {
     "data": {
      "text/plain": [
       "['Kerrygold Irish Butter',\n",
       " 'Danish Creamery Unsalted European Style Butter',\n",
       " 'Kelapo Ghee Clarified Butter',\n",
       " 'Land O Lakes Less Sodium Butter']"
      ]
     },
     "execution_count": 203,
     "metadata": {},
     "output_type": "execute_result"
    }
   ],
   "source": [
    "re.findall('[A-z ]*Butter', req_text)"
   ]
  },
  {
   "cell_type": "code",
   "execution_count": 127,
   "metadata": {},
   "outputs": [
    {
     "data": {
      "text/plain": [
       "['Kerrygold Irish Butter',\n",
       " 'Danish Creamery Unsalted European Style Butter',\n",
       " 'Kelapo Ghee Clarified Butter',\n",
       " 'Land O Lakes Less Sodium Butter']"
      ]
     },
     "execution_count": 127,
     "metadata": {},
     "output_type": "execute_result"
    }
   ],
   "source": [
    "re.findall('[A-Za-z0-9 ]*Butter', req_text)"
   ]
  },
  {
   "cell_type": "code",
   "execution_count": 163,
   "metadata": {},
   "outputs": [
    {
     "data": {
      "text/plain": [
       "['Kerrygold Irish Butter',\n",
       " 'Danish Creamery Unsalted European Style Butter',\n",
       " 'Kelapo Ghee Clarified Butter',\n",
       " 'Land O Lakes Less Sodium Butter']"
      ]
     },
     "execution_count": 163,
     "metadata": {},
     "output_type": "execute_result"
    }
   ],
   "source": [
    "re.findall('[A-Za-z ]+utter', req_text)"
   ]
  },
  {
   "cell_type": "code",
   "execution_count": 158,
   "metadata": {
    "scrolled": true
   },
   "outputs": [
    {
     "data": {
      "text/plain": [
       "['Butter with Canola Oil, 7.5 oz</div><div class=\"t754__price-wrapper\"><div class=\"t754__price t754__price-item t-name t-name_xs\" style=\"font-weight:400;\"><div class=\"t754__price-value js-product-price\" field=\"li_price__1564953922970\"> $2.80</div><div class=\"t754__price-currency\"></div></div></div></div></div> </a></div><div class=\"t-clear t754__separator\"></div><div class=\"t754__col t-col t-col_4 t-align_center t-item t754__col_mobile-grid js-product\" data-product-lid=\"1564953937739\" > <a href=\"#order\"><div class=\"t754__content\"><div class=\"t754__imgwrapper \" style=\"padding-bottom:111.11111111111%;\"><div class=\"t754__bgimg t-bgimg js-product-img\" data-original=\"images/tild3536-3339-4232-a530-653331623136__3w1280c0bild.jpg\" style=\"background-image:url(\\'images/tild3536-3339-4232-a530-653331623136__-__resizeb__20x__3w1280c0bild.jpg\\');\" bgimgfield=\"li_gallery__1564953937739:::0\" ></div></div><div class=\"t754__textwrapper\"><div class=\"t754__title t-name t-name_md js-product-name\" field=\"li_title__1564953937739\" style=\"font-size:20px;font-weight:400;\" >Danish Creamery Unsalted European Style Butter, 8 oz</div><div class=\"t754__price-wrapper\"><div class=\"t754__price t754__price-item t-name t-name_xs\" style=\"font-weight:400;\"><div class=\"t754__price-value js-product-price\" field=\"li_price__1564953937739\"> $2.97</div><div class=\"t754__price-currency\"></div></div></div></div></div> </a></div><div class=\"t754__col t-col t-col_4 t-align_center t-item t754__col_mobile-grid js-product\" data-product-lid=\"1564953954683\" > <a href=\"#order\"><div class=\"t754__content\"><div class=\"t754__imgwrapper \" style=\"padding-bottom:111.11111111111%;\"><div class=\"t754__bgimg t-bgimg js-product-img\" data-original=\"images/tild3064-6134-4631-b066-303965313734__3w1280c0bild.jpg\" style=\"background-image:url(\\'images/tild3064-6134-4631-b066-303965313734__-__resizeb__20x__3w1280c0bild.jpg\\');\" bgimgfield=\"li_gallery__1564953954683:::0\" ></div></div><div class=\"t754__textwrapper\"><div class=\"t754__title t-name t-name_md js-product-name\" field=\"li_title__1564953954683\" style=\"font-size:20px;font-weight:400;\" >Kelapo Ghee Clarified Butter, 13 oz</div><div class=\"t754__price-wrapper\"><div class=\"t754__price t754__price-item t-name t-name_xs\" style=\"font-weight:400;\"><div class=\"t754__price-value js-product-price\" field=\"li_price__1564953954683\"> $8.82</div><div class=\"t754__price-currency\"></div></div></div></div></div> </a></div><div class=\"t754__col t-col t-col_4 t-align_center t-item t754__col_mobile-grid js-product\" data-product-lid=\"1564953966182\" > <a href=\"#order\"><div class=\"t754__content\"><div class=\"t754__imgwrapper \" style=\"padding-bottom:111.11111111111%;\"><div class=\"t754__bgimg t-bgimg js-product-img\" data-original=\"images/tild3137-3032-4135-a639-306164643962__3w1280c0bild.jpg\" style=\"background-image:url(\\'images/tild3137-3032-4135-a639-306164643962__-__resizeb__20x__3w1280c0bild.jpg\\');\" bgimgfield=\"li_gallery__1564953966182:::0\" ></div></div><div class=\"t754__textwrapper\"><div class=\"t754__title t-name t-name_md js-product-name\" field=\"li_title__1564953966182\" style=\"font-size:20px;font-weight:400;\" >Land O Lakes Less Sodium Butter with Canola Oil, 15 oz</div><div class=\"t754__price-wrapper\"><div class=\"t754__price t754__price-item t-name t-name_xs\" style=\"font-weight:400;\"><div class=\"t754__price-value js-product-price\" field=\"li_price__1564953966182\"> $3.87</div><div class=\"t754__price-currency\"></div></div></div></div></div> </a></div><div class=\"t-clear t754__separator\"></div><div class=\"t754__col t-col t-col_4 t-align_center t-item t754__col_mobile-grid js-product\" data-product-lid=\"1564953976534\" > <a href=\"#order\"><div class=\"t754__content\"><div class=\"t754__imgwrapper \" style=\"padding-bottom:111.11111111111%;\"><div class=\"t754__bgimg t-bgimg js-product-img\" data-original=\"images/tild3564-3535-4837-a565-623835663432__3w1280c0bild.jpg\" style=\"background-image:url(\\'images/tild3564-3535-4837-a565-623835663432__-__resizeb__20x__3w1280c0bild.jpg\\');\" bgimgfield=\"li_gallery__1564953976534:::0\" ></div></div><div class=\"t754__textwrapper\"><div class=\"t754__title t-name t-name_md js-product-name\" field=\"li_title__1564953976534\" style=\"font-size:20px;font-weight:400;\" >California Farms Organic Sweetened Condensed Milk, 14 oz</div><div class=\"t754__price-wrapper\"><div class=\"t754__price t754__price-item t-name t-name_xs\" style=\"font-weight:400;\"><div class=\"t754__price-value js-product-price\" field=\"li_price__1564953976534\"> $3.49</div><div class=\"t754__price-currency\"></div></div></div></div></div> </a></div><div class=\"t754__col t-col t-col_4 t-align_center t-item t754__col_mobile-grid js-product\" data-product-lid=\"1564954000269\" > <a href=\"#order\"><div class=\"t754__content\"><div class=\"t754__imgwrapper \" style=\"padding-bottom:111.11111111111%;\"><div class=\"t754__bgimg t-bgimg js-product-img\" data-original=\"images/tild3664-3765-4162-a362-333163316236__3w1280c0bild.jpg\" style=\"background-image:url(\\'images/tild3664-3765-4162-a362-333163316236__-__resizeb__20x__3w1280c0bild.jpg\\');\" bgimgfield=\"li_gallery__1564954000269:::0\" ></div></div><div class=\"t754__textwrapper\"><div class=\"t754__title t-name t-name_md js-product-name\" field=\"li_title__1564954000269\" style=\"font-size:20px;font-weight:400;\" >Lactaid Whole Milk, 96 oz</div><div class=\"t754__price-wrapper\"><div class=\"t754__price t754__price-item t-name t-name_xs\" style=\"font-weight:400;\"><div class=\"t754__price-value js-product-price\" field=\"li_price__1564954000269\"> $5.47</div><div class=\"t754__price-currency\"></div></div></div></div></div> </a></div></div></div> <script type=\"text/javascript\">$(document).ready(function(){setTimeout(function(){t754__init(\\'119942644\\');},500);});</script> <style type=\"text/css\">#rec119942644 .t-slds__bullet_active .t-slds__bullet_body{background-color:#222 !important}#rec119942644 .t-slds__bullet:hover .t-slds__bullet_body{background-color:#222 !important}</style></div><div id=\"rec119942646\" class=\"r t-rec t-rec_pt_150 t-rec_pb_150\" style=\"padding-top:150px;padding-bottom:150px;background-color:#ffffff; \" data-record-type=\"560\" data-bg-color=\"#ffffff\" ><div class=\"t560\"><div class=\"t-container\"><div class=\"t-col t-col_6 t-prefix_3 t-align_center\"><div class=\"t560__text t-text-impact t-text-impact_xs \" style=\"color:#000000;font-size:28px;font-weight:300;\" field=\"text\" ><a href=\"tel:1-999-999-9999\" style=\"\">1-999-999-9999</a><br />dairyland@store.com<br /></div></div></div></div></div><div id=\"rec119942647\" class=\"r t-rec\" style=\" \" data-animationappear=\"off\" data-record-type=\"706\"> <script type=\"text/javascript\">$(document).ready(function(){tcart__init(\\'119942647\\');var ua=navigator.userAgent.toLowerCase();var isAndroid=(ua.indexOf(\\'android\\')>-1);if(isAndroid){$(\\'.t-body\\').addClass(\\'t-body_scrollable-hack-for-android\\');$(\\'head\\').append(\\'<style>@media screen and (max-width: 560px) {n.t-body_scrollable-hack-for-android {noverflow: visible !important;n}n}n</style>\\');console.log(\\'Android css hack was inited\\');}});</script> <div class=\"t706\" data-opencart-onorder=\"yes\" data-project-currency=\"$\" data-project-currency-side=\"l\" data-project-currency-sep=\".\" data-project-currency-code=\"USD\" ><div class=\"t706__carticon\" style=\"\"><div class=\"t706__carticon-text t-name t-name_xs\">Click to order</div><div class=\"t706__carticon-wrapper\"><div class=\"t706__carticon-imgwrap\"> <svg class=\"t706__carticon-img\" xmlns=\"http://www.w3.org/2000/svg\" viewBox=\"0 0 64 64\"> <descr style=\"color:#bebebe;\">Cart</descr> <path fill=\"none\" stroke-width=\"2\" stroke-miterlimit=\"10\" d=\"M44 18h10v45H10V18h10z\" /> <path fill=\"none\" stroke-width=\"2\" stroke-miterlimit=\"10\" d=\"M22 24V11c0-5.523 4.477-10 10-10s10 4.477 10 10v13\" /> </svg></div><div class=\"t706__carticon-counter\" style=\"background-color:#ff4a4a;\"></div></div></div><div class=\"t706__cartwin\"><div class=\"t706__cartwin-close\"><div class=\"t706__cartwin-close-wrapper\"> <svg class=\"t706__cartwin-close-icon\" width=\"23px\" height=\"23px\" viewBox=\"0 0 23 23\" version=\"1.1\" xmlns=\"http://www.w3.org/2000/svg\" xmlns:xlink=\"http://www.w3.org/1999/xlink\" > <g stroke=\"none\" stroke-width=\"1\" fill=\"#fff\" fill-rule=\"evenodd\"> <rect transform=\"translate(11.313708, 11.313708) rotate(-45.000000) translate(-11.313708, -11.313708) \" x=\"10.3137085\" y=\"-3.6862915\" width=\"2\" height=\"30\" ></rect> <rect transform=\"translate(11.313708, 11.313708) rotate(-315.000000) translate(-11.313708, -11.313708) \" x=\"10.3137085\" y=\"-3.6862915\" width=\"2\" height=\"30\" ></rect> </g> </svg></div></div><div class=\"t706__cartwin-content\"><div class=\"t706__cartwin-top\"><div class=\"t706__cartwin-heading t-name t-name_xl\"></div></div><div class=\"t706__cartwin-products\"></div><div class=\"t706__cartwin-bottom\"><div class=\"t706__cartwin-prodamount-wrap t-descr t-descr_sm\"> <span class=\"t706__cartwin-prodamount-label\">Total:&nbsp;</span><span class=\"t706__cartwin-prodamount\"></span></div></div><div class=\"t706__orderform \"><form id=\"form119942647\" name=\\'form119942647\\' role=\"form\" action=\\'\\' method=\\'POST\\' data-formactiontype=\"0\" data-inputbox=\".t-input-group\" class=\"t-form js-form-proccess t-form_inputs-total_3 \" data-formsended-callback=\"t706_onSuccessCallback\" > <input type=\"hidden\" name=\"tildaspec-formname\" tabindex=\"-1\" value=\"Cart\"><div class=\"js-successbox t-form__successbox t-text t-text_md\" style=\"display:none;\"></div><div class=\"t-form__inputsbox\"><div class=\"t-input-group t-input-group_nm\" data-input-lid=\"1496239431201\"><div class=\"t-input-title t-descr t-descr_md\" data-redactor-toolbar=\"no\" field=\"li_title__1496239431201\" style=\"\" >Name</div><div class=\"t-input-block\"> <input type=\"text\" name=\"Name\" class=\"t-input js-tilda-rule \" value=\"\" data-tilda-req=\"1\" data-tilda-rule=\"name\" style=\"color:#000000; border:1px solid #000000; \" ><div class=\"t-input-error\"></div></div></div><div class=\"t-input-group t-input-group_em\" data-input-lid=\"1496239459190\"><div class=\"t-input-title t-descr t-descr_md\" data-redactor-toolbar=\"no\" field=\"li_title__1496239459190\" style=\"\" >Email address</div><div class=\"t-input-block\"> <input type=\"text\" name=\"Email\" class=\"t-input js-tilda-rule \" value=\"\" data-tilda-req=\"1\" data-tilda-rule=\"email\" style=\"color:#000000; border:1px solid #000000; \" ><div class=\"t-input-error\"></div></div></div><div class=\"t-input-group t-input-group_ph\" data-input-lid=\"1496239478607\"><div class=\"t-input-title t-descr t-descr_md\" data-redactor-toolbar=\"no\" field=\"li_title__1496239478607\" style=\"\" >Telephone number</div><div class=\"t-input-block\"> <input type=\"tel\" name=\"Phone\" class=\"t-input js-tilda-rule \" value=\"\" data-tilda-req=\"1\" data-tilda-rule=\"phone\" pattern=\"[0-9]*\" style=\"color:#000000; border:1px solid #000000; \" ><div class=\"t-input-error\"></div></div></div><div class=\"t-form__errorbox-middle\"><div class=\"js-errorbox-all t-form__errorbox-wrapper\" style=\"display:none;\"><div class=\"t-form__errorbox-text t-text t-text_md\"><p class=\"t-form__errorbox-item js-rule-error js-rule-error-all\"></p><p class=\"t-form__errorbox-item js-rule-error js-rule-error-req\"></p><p class=\"t-form__errorbox-item js-rule-error js-rule-error-email\"></p><p class=\"t-form__errorbox-item js-rule-error js-rule-error-name\"></p><p class=\"t-form__errorbox-item js-rule-error js-rule-error-phone\"></p><p class=\"t-form__errorbox-item js-rule-error js-rule-error-minlength\"></p><p class=\"t-form__errorbox-item js-rule-error js-rule-error-string\"></p></div></div></div><div class=\"t-form__submit\"> <button type=\"button\" class=\"t-submit\" style=\"color:#ffffff;background-color:#000000;\" >Check out </button></div></div><div class=\"t-form__errorbox-bottom\"><div class=\"js-errorbox-all t-form__errorbox-wrapper\" style=\"display:none;\"><div class=\"t-form__errorbox-text t-text t-text_md\"><p class=\"t-form__errorbox-item js-rule-error js-rule-error-all\"></p><p class=\"t-form__errorbox-item js-rule-error js-rule-error-req\"></p><p class=\"t-form__errorbox-item js-rule-error js-rule-error-email\"></p><p class=\"t-form__errorbox-item js-rule-error js-rule-error-name\"></p><p class=\"t-form__errorbox-item js-rule-error js-rule-error-phone\"></p><p class=\"t-form__errorbox-item js-rule-error js-rule-error-minlength\"></p><p class=\"t-form__errorbox-item js-rule-error js-rule-error-string\"></p></div></div></div></form><style>#rec119942647 input::-webkit-input-placeholder{color:#000;opacity:0.5}#rec119942647 input::-moz-placeholder{color:#000;opacity:0.5}#rec119942647 input:-moz-placeholder{color:#000;opacity:0.5}#rec119942647 input:-ms-input-placeholder{color:#000;opacity:0.5}#rec119942647 textarea::-webkit-input-placeholder{color:#000;opacity:0.5}#rec119942647 textarea::-moz-placeholder{color:#000;opacity:0.5}#rec119942647 textarea:-moz-placeholder{color:#000;opacity:0.5}#rec119942647 textarea:-ms-input-placeholder{color:#000;opacity:0.5}</style></div></div></div><div class=\"t706__cartdata\"></div></div></div></div><div class=\"t-tildalabel t-tildalabel-free\" id=\"tildacopy\" data-tilda-sign=\"1535676#6803319\"><div class=\"t-tildalabel-free__main\"><a href=\"https://tilda.cc/?upm=1535676\" target=\"_blank\" style=\"padding-bottom:12px; display: block;\"><img style=\"width:40px;\" src=\"images/tildacopy.png\"></a><div style=\"padding-bottom: 15px;\">This site was made on <a href=\"https://tilda.cc/?upm=1535676\" target=\"_blank\" style=\"text-decoration: none; color:inherit;\">Tilda &mdash; a website builder</a> that helps to&nbsp;create a&nbsp;website without any code</div><a href=\"https://tilda.cc/registration/\" target=\"_blank\" style=\"display: inline-block; padding: 10px 20px; font-size: 13px; border-radius: 50px; background-color: #fff; color:#000; text-decoration: none;\">Create a website</a></div><div class=\"t-tildalabel-free__links-wr\"><a class=\"t-tildalabel-free__txt-link\" href=\"http://help.tilda.ws/white-label\" target=\"_blank\">How to remove this block?</a><a class=\"t-tildalabel-free__txt-link\" href=\"https://tilda.cc/?upm=1535676\" target=\"_blank\">About platform</a><a class=\"t-tildalabel-free__txt-link\" href=\"https://tilda.cc/abuse/\" target=\"_blank\">Submit a complaint</a></div></div><script type=\"text/javascript\">if(!window.mainTracker){window.mainTracker=\\'tilda\\';}(function(d,w,k,o,g){var n=d.getElementsByTagName(o)[0],s=d.createElement(o),f=function(){n.parentNode.insertBefore(s,n);};s.type=\"text/javascript\";s.async=true;s.key=k;s.id=\"tildastatscript\";s.src=g;if(w.opera==\"[object Opera]\"){d.addEventListener(\"DOMContentLoaded\",f,false);}else{f();}})(document,window,\\'5678b606294d0b775dec0d8af0d4167c\\',\\'script\\',\\'https://stat.tildacdn.com/js/tildasimplestat-0.1.min.js\\');</script> <script src=\"js/custom.js\"></script> </body></html>']"
      ]
     },
     "execution_count": 158,
     "metadata": {},
     "output_type": "execute_result"
    }
   ],
   "source": [
    "re.findall('Butter .*', req_text)"
   ]
  },
  {
   "cell_type": "code",
   "execution_count": 169,
   "metadata": {},
   "outputs": [
    {
     "data": {
      "text/plain": [
       "['h Butter with', 'm Butter with']"
      ]
     },
     "execution_count": 169,
     "metadata": {},
     "output_type": "execute_result"
    }
   ],
   "source": [
    "re.findall('[A-z] \\w+tter [A-z]+', req_text)"
   ]
  },
  {
   "cell_type": "code",
   "execution_count": 170,
   "metadata": {},
   "outputs": [
    {
     "data": {
      "text/plain": [
       "[]"
      ]
     },
     "execution_count": 170,
     "metadata": {},
     "output_type": "execute_result"
    }
   ],
   "source": [
    "re.findall('\\bButter\\b', req_text)"
   ]
  },
  {
   "cell_type": "code",
   "execution_count": 179,
   "metadata": {},
   "outputs": [
    {
     "data": {
      "text/plain": [
       "[' Irish Butter with Canola Oil, 7.5 oz</div><div class=\"t754__price-wrapper\"><div class=\"t754__price t754__price-item t-name t-name_xs\" style=\"font-weight:400;\"><div class=\"t754__price-value js-product-price\" field=\"li_price__1564953922970\"> $2.80</div><div class=\"t754__price-currency\"></div></div></div></div></div> </a></div><div class=\"t-clear t754__separator\"></div><div class=\"t754__col t-col t-col_4 t-align_center t-item t754__col_mobile-grid js-product\" data-product-lid=\"1564953937739\" > <a href=\"#order\"><div class=\"t754__content\"><div class=\"t754__imgwrapper \" style=\"padding-bottom:111.11111111111%;\"><div class=\"t754__bgimg t-bgimg js-product-img\" data-original=\"images/tild3536-3339-4232-a530-653331623136__3w1280c0bild.jpg\" style=\"background-image:url(\\'images/tild3536-3339-4232-a530-653331623136__-__resizeb__20x__3w1280c0bild.jpg\\');\" bgimgfield=\"li_gallery__1564953937739:::0\" ></div></div><div class=\"t754__textwrapper\"><div class=\"t754__title t-name t-name_md js-product-name\" field=\"li_title__1564953937739\" style=\"font-size:20px;font-weight:400;\" >Danish Creamery Unsalted European Style Butter, 8 oz</div><div class=\"t754__price-wrapper\"><div class=\"t754__price t754__price-item t-name t-name_xs\" style=\"font-weight:400;\"><div class=\"t754__price-value js-product-price\" field=\"li_price__1564953937739\"> $2.97</div><div class=\"t754__price-currency\"></div></div></div></div></div> </a></div><div class=\"t754__col t-col t-col_4 t-align_center t-item t754__col_mobile-grid js-product\" data-product-lid=\"1564953954683\" > <a href=\"#order\"><div class=\"t754__content\"><div class=\"t754__imgwrapper \" style=\"padding-bottom:111.11111111111%;\"><div class=\"t754__bgimg t-bgimg js-product-img\" data-original=\"images/tild3064-6134-4631-b066-303965313734__3w1280c0bild.jpg\" style=\"background-image:url(\\'images/tild3064-6134-4631-b066-303965313734__-__resizeb__20x__3w1280c0bild.jpg\\');\" bgimgfield=\"li_gallery__1564953954683:::0\" ></div></div><div class=\"t754__textwrapper\"><div class=\"t754__title t-name t-name_md js-product-name\" field=\"li_title__1564953954683\" style=\"font-size:20px;font-weight:400;\" >Kelapo Ghee Clarified Butter, 13 oz</div><div class=\"t754__price-wrapper\"><div class=\"t754__price t754__price-item t-name t-name_xs\" style=\"font-weight:400;\"><div class=\"t754__price-value js-product-price\" field=\"li_price__1564953954683\"> $8.82</div><div class=\"t754__price-currency\"></div></div></div></div></div> </a></div><div class=\"t754__col t-col t-col_4 t-align_center t-item t754__col_mobile-grid js-product\" data-product-lid=\"1564953966182\" > <a href=\"#order\"><div class=\"t754__content\"><div class=\"t754__imgwrapper \" style=\"padding-bottom:111.11111111111%;\"><div class=\"t754__bgimg t-bgimg js-product-img\" data-original=\"images/tild3137-3032-4135-a639-306164643962__3w1280c0bild.jpg\" style=\"background-image:url(\\'images/tild3137-3032-4135-a639-306164643962__-__resizeb__20x__3w1280c0bild.jpg\\');\" bgimgfield=\"li_gallery__1564953966182:::0\" ></div></div><div class=\"t754__textwrapper\"><div class=\"t754__title t-name t-name_md js-product-name\" field=\"li_title__1564953966182\" style=\"font-size:20px;font-weight:400;\" >Land O Lakes Less Sodium Butter with Canola Oil, 15 oz</div><div class=\"t754__price-wrapper\"><div class=\"t754__price t754__price-item t-name t-name_xs\" style=\"font-weight:400;\"><div class=\"t754__price-value js-product-price\" field=\"li_price__1564953966182\"> $3.87</div><div class=\"t754__price-currency\"></div></div></div></div></div> </a></div><div class=\"t-clear t754__separator\"></div><div class=\"t754__col t-col t-col_4 t-align_center t-item t754__col_mobile-grid js-product\" data-product-lid=\"1564953976534\" > <a href=\"#order\"><div class=\"t754__content\"><div class=\"t754__imgwrapper \" style=\"padding-bottom:111.11111111111%;\"><div class=\"t754__bgimg t-bgimg js-product-img\" data-original=\"images/tild3564-3535-4837-a565-623835663432__3w1280c0bild.jpg\" style=\"background-image:url(\\'images/tild3564-3535-4837-a565-623835663432__-__resizeb__20x__3w1280c0bild.jpg\\');\" bgimgfield=\"li_gallery__1564953976534:::0\" ></div></div><div class=\"t754__textwrapper\"><div class=\"t754__title t-name t-name_md js-product-name\" field=\"li_title__1564953976534\" style=\"font-size:20px;font-weight:400;\" >California Farms Organic Sweetened Condensed Milk, 14 oz</div><div class=\"t754__price-wrapper\"><div class=\"t754__price t754__price-item t-name t-name_xs\" style=\"font-weight:400;\"><div class=\"t754__price-value js-product-price\" field=\"li_price__1564953976534\"> $3.49</div><div class=\"t754__price-currency\"></div></div></div></div></div> </a></div><div class=\"t754__col t-col t-col_4 t-align_center t-item t754__col_mobile-grid js-product\" data-product-lid=\"1564954000269\" > <a href=\"#order\"><div class=\"t754__content\"><div class=\"t754__imgwrapper \" style=\"padding-bottom:111.11111111111%;\"><div class=\"t754__bgimg t-bgimg js-product-img\" data-original=\"images/tild3664-3765-4162-a362-333163316236__3w1280c0bild.jpg\" style=\"background-image:url(\\'images/tild3664-3765-4162-a362-333163316236__-__resizeb__20x__3w1280c0bild.jpg\\');\" bgimgfield=\"li_gallery__1564954000269:::0\" ></div></div><div class=\"t754__textwrapper\"><div class=\"t754__title t-name t-name_md js-product-name\" field=\"li_title__1564954000269\" style=\"font-size:20px;font-weight:400;\" >Lactaid Whole Milk, 96 oz</div><div class=\"t754__price-wrapper\"><div class=\"t754__price t754__price-item t-name t-name_xs\" style=\"font-weight:400;\"><div class=\"t754__price-value js-product-price\" field=\"li_price__1564954000269\"> $5.47</div><div class=\"t754__price-currency\"></div></div></div></div></div> </a></div></div></div> <script type=\"text/javascript\">$(document).ready(function(){setTimeout(function(){t754__init(\\'119942644\\');},500);});</script> <style type=\"text/css\">#rec119942644 .t-slds__bullet_active .t-slds__bullet_body{background-color:#222 !important}#rec119942644 .t-slds__bullet:hover .t-slds__bullet_body{background-color:#222 !important}</style></div><div id=\"rec119942646\" class=\"r t-rec t-rec_pt_150 t-rec_pb_150\" style=\"padding-top:150px;padding-bottom:150px;background-color:#ffffff; \" data-record-type=\"560\" data-bg-color=\"#ffffff\" ><div class=\"t560\"><div class=\"t-container\"><div class=\"t-col t-col_6 t-prefix_3 t-align_center\"><div class=\"t560__text t-text-impact t-text-impact_xs \" style=\"color:#000000;font-size:28px;font-weight:300;\" field=\"text\" ><a href=\"tel:1-999-999-9999\" style=\"\">1-999-999-9999</a><br />dairyland@store.com<br /></div></div></div></div></div><div id=\"rec119942647\" class=\"r t-rec\" style=\" \" data-animationappear=\"off\" data-record-type=\"706\"> <script type=\"text/javascript\">$(document).ready(function(){tcart__init(\\'119942647\\');var ua=navigator.userAgent.toLowerCase();var isAndroid=(ua.indexOf(\\'android\\')>-1);if(isAndroid){$(\\'.t-body\\').addClass(\\'t-body_scrollable-hack-for-android\\');$(\\'head\\').append(\\'<style>@media screen and (max-width: 560px) {n.t-body_scrollable-hack-for-android {noverflow: visible !important;n}n}n</style>\\');console.log(\\'Android css hack was inited\\');}});</script> <div class=\"t706\" data-opencart-onorder=\"yes\" data-project-currency=\"$\" data-project-currency-side=\"l\" data-project-currency-sep=\".\" data-project-currency-code=\"USD\" ><div class=\"t706__carticon\" style=\"\"><div class=\"t706__carticon-text t-name t-name_xs\">Click to order</div><div class=\"t706__carticon-wrapper\"><div class=\"t706__carticon-imgwrap\"> <svg class=\"t706__carticon-img\" xmlns=\"http://www.w3.org/2000/svg\" viewBox=\"0 0 64 64\"> <descr style=\"color:#bebebe;\">Cart</descr> <path fill=\"none\" stroke-width=\"2\" stroke-miterlimit=\"10\" d=\"M44 18h10v45H10V18h10z\" /> <path fill=\"none\" stroke-width=\"2\" stroke-miterlimit=\"10\" d=\"M22 24V11c0-5.523 4.477-10 10-10s10 4.477 10 10v13\" /> </svg></div><div class=\"t706__carticon-counter\" style=\"background-color:#ff4a4a;\"></div></div></div><div class=\"t706__cartwin\"><div class=\"t706__cartwin-close\"><div class=\"t706__cartwin-close-wrapper\"> <svg class=\"t706__cartwin-close-icon\" width=\"23px\" height=\"23px\" viewBox=\"0 0 23 23\" version=\"1.1\" xmlns=\"http://www.w3.org/2000/svg\" xmlns:xlink=\"http://www.w3.org/1999/xlink\" > <g stroke=\"none\" stroke-width=\"1\" fill=\"#fff\" fill-rule=\"evenodd\"> <rect transform=\"translate(11.313708, 11.313708) rotate(-45.000000) translate(-11.313708, -11.313708) \" x=\"10.3137085\" y=\"-3.6862915\" width=\"2\" height=\"30\" ></rect> <rect transform=\"translate(11.313708, 11.313708) rotate(-315.000000) translate(-11.313708, -11.313708) \" x=\"10.3137085\" y=\"-3.6862915\" width=\"2\" height=\"30\" ></rect> </g> </svg></div></div><div class=\"t706__cartwin-content\"><div class=\"t706__cartwin-top\"><div class=\"t706__cartwin-heading t-name t-name_xl\"></div></div><div class=\"t706__cartwin-products\"></div><div class=\"t706__cartwin-bottom\"><div class=\"t706__cartwin-prodamount-wrap t-descr t-descr_sm\"> <span class=\"t706__cartwin-prodamount-label\">Total:&nbsp;</span><span class=\"t706__cartwin-prodamount\"></span></div></div><div class=\"t706__orderform \"><form id=\"form119942647\" name=\\'form119942647\\' role=\"form\" action=\\'\\' method=\\'POST\\' data-formactiontype=\"0\" data-inputbox=\".t-input-group\" class=\"t-form js-form-proccess t-form_inputs-total_3 \" data-formsended-callback=\"t706_onSuccessCallback\" > <input type=\"hidden\" name=\"tildaspec-formname\" tabindex=\"-1\" value=\"Cart\"><div class=\"js-successbox t-form__successbox t-text t-text_md\" style=\"display:none;\"></div><div class=\"t-form__inputsbox\"><div class=\"t-input-group t-input-group_nm\" data-input-lid=\"1496239431201\"><div class=\"t-input-title t-descr t-descr_md\" data-redactor-toolbar=\"no\" field=\"li_title__1496239431201\" style=\"\" >Name</div><div class=\"t-input-block\"> <input type=\"text\" name=\"Name\" class=\"t-input js-tilda-rule \" value=\"\" data-tilda-req=\"1\" data-tilda-rule=\"name\" style=\"color:#000000; border:1px solid #000000; \" ><div class=\"t-input-error\"></div></div></div><div class=\"t-input-group t-input-group_em\" data-input-lid=\"1496239459190\"><div class=\"t-input-title t-descr t-descr_md\" data-redactor-toolbar=\"no\" field=\"li_title__1496239459190\" style=\"\" >Email address</div><div class=\"t-input-block\"> <input type=\"text\" name=\"Email\" class=\"t-input js-tilda-rule \" value=\"\" data-tilda-req=\"1\" data-tilda-rule=\"email\" style=\"color:#000000; border:1px solid #000000; \" ><div class=\"t-input-error\"></div></div></div><div class=\"t-input-group t-input-group_ph\" data-input-lid=\"1496239478607\"><div class=\"t-input-title t-descr t-descr_md\" data-redactor-toolbar=\"no\" field=\"li_title__1496239478607\" style=\"\" >Telephone number</div><div class=\"t-input-block\"> <input type=\"tel\" name=\"Phone\" class=\"t-input js-tilda-rule \" value=\"\" data-tilda-req=\"1\" data-tilda-rule=\"phone\" pattern=\"[0-9]*\" style=\"color:#000000; border:1px solid #000000; \" ><div class=\"t-input-error\"></div></div></div><div class=\"t-form__errorbox-middle\"><div class=\"js-errorbox-all t-form__errorbox-wrapper\" style=\"display:none;\"><div class=\"t-form__errorbox-text t-text t-text_md\"><p class=\"t-form__errorbox-item js-rule-error js-rule-error-all\"></p><p class=\"t-form__errorbox-item js-rule-error js-rule-error-req\"></p><p class=\"t-form__errorbox-item js-rule-error js-rule-error-email\"></p><p class=\"t-form__errorbox-item js-rule-error js-rule-error-name\"></p><p class=\"t-form__errorbox-item js-rule-error js-rule-error-phone\"></p><p class=\"t-form__errorbox-item js-rule-error js-rule-error-minlength\"></p><p class=\"t-form__errorbox-item js-rule-error js-rule-error-string\"></p></div></div></div><div class=\"t-form__submit\"> <button type=\"button\" class=\"t-submit\" style=\"color:#ffffff;background-color:#000000;\" >Check out </button></div></div><div class=\"t-form__errorbox-bottom\"><div class=\"js-errorbox-all t-form__errorbox-wrapper\" style=\"display:none;\"><div class=\"t-form__errorbox-text t-text t-text_md\"><p class=\"t-form__errorbox-item js-rule-error js-rule-error-all\"></p><p class=\"t-form__errorbox-item js-rule-error js-rule-error-req\"></p><p class=\"t-form__errorbox-item js-rule-error js-rule-error-email\"></p><p class=\"t-form__errorbox-item js-rule-error js-rule-error-name\"></p><p class=\"t-form__errorbox-item js-rule-error js-rule-error-phone\"></p><p class=\"t-form__errorbox-item js-rule-error js-rule-error-minlength\"></p><p class=\"t-form__errorbox-item js-rule-error js-rule-error-string\"></p></div></div></div></form><style>#rec119942647 input::-webkit-input-placeholder{color:#000;opacity:0.5}#rec119942647 input::-moz-placeholder{color:#000;opacity:0.5}#rec119942647 input:-moz-placeholder{color:#000;opacity:0.5}#rec119942647 input:-ms-input-placeholder{color:#000;opacity:0.5}#rec119942647 textarea::-webkit-input-placeholder{color:#000;opacity:0.5}#rec119942647 textarea::-moz-placeholder{color:#000;opacity:0.5}#rec119942647 textarea:-moz-placeholder{color:#000;opacity:0.5}#rec119942647 textarea:-ms-input-placeholder{color:#000;opacity:0.5}</style></div></div></div><div class=\"t706__cartdata\"></div></div></div></div><div class=\"t-tildalabel t-tildalabel-free\" id=\"tildacopy\" data-tilda-sign=\"1535676#6803319\"><div class=\"t-tildalabel-free__main\"><a href=\"https://tilda.cc/?upm=1535676\" target=\"_blank\" style=\"padding-bottom:12px; display: block;\"><img style=\"width:40px;\" src=\"images/tildacopy.png\"></a><div style=\"padding-bottom: 15px;\">This site was made on <a href=\"https://tilda.cc/?upm=1535676\" target=\"_blank\" style=\"text-decoration: none; color:inherit;\">Tilda &mdash; a website builder</a> that helps to&nbsp;create a&nbsp;website without any code</div><a href=\"https://tilda.cc/registration/\" target=\"_blank\" style=\"display: inline-block; padding: 10px 20px; font-size: 13px; border-radius: 50px; background-color: #fff; color:#000; text-decoration: none;\">Create a website</a></div><div class=\"t-tildalabel-free__links-wr\"><a class=\"t-tildalabel-free__txt-link\" href=\"http://help.tilda.ws/white-label\" target=\"_blank\">How to remove this block?</a><a class=\"t-tildalabel-free__txt-link\" href=\"https://tilda.cc/?upm=1535676\" target=\"_blank\">About platform</a><a class=\"t-tildalabel-free__txt-link\" href=\"https://tilda.cc/abuse/\" target=\"_blank\">Submit a complaint</a></div></div><script type=\"text/javascript\">if(!window.mainTracker){window.mainTracker=\\'tilda\\';}(function(d,w,k,o,g){var n=d.getElementsByTagName(o)[0],s=d.createElement(o),f=function(){n.parentNode.insertBefore(s,n);};s.type=\"text/javascript\";s.async=true;s.key=k;s.id=\"tildastatscript\";s.src=g;if(w.opera==\"[object Opera]\"){d.addEventListener(\"DOMContentLoaded\",f,false);}else{f();}})(document,window,\\'5678b606294d0b775dec0d8af0d4167c\\',\\'script\\',\\'https://stat.tildacdn.com/js/tildasimplestat-0.1.min.js\\');</script> <script src=\"js/custom.js\"></script> ']"
      ]
     },
     "execution_count": 179,
     "metadata": {},
     "output_type": "execute_result"
    }
   ],
   "source": [
    "re.findall('Butter[A-z ].+ | [A-z ]+Butter.+ | [A-z ]+Butter[ A-z].+', req_text)"
   ]
  },
  {
   "cell_type": "code",
   "execution_count": 187,
   "metadata": {},
   "outputs": [
    {
     "name": "stdout",
     "output_type": "stream",
     "text": [
      "['Butter with ', 'Butter with ']\n"
     ]
    }
   ],
   "source": [
    "print(re.findall('Butter [A-z]*.', req_text))"
   ]
  },
  {
   "cell_type": "code",
   "execution_count": 1,
   "metadata": {},
   "outputs": [],
   "source": [
    "import requests\n",
    "URL = 'https://store.data-analyst.praktikum-services.ru/en/'# the link to the website\n",
    "req_text = requests.get(URL).text # the text content of the request"
   ]
  },
  {
   "cell_type": "code",
   "execution_count": 2,
   "metadata": {},
   "outputs": [
    {
     "data": {
      "text/plain": [
       "'<!DOCTYPE html><html><head><meta charset=\"utf-8\" /><meta http-equiv=\"Content-Type\" content=\"text/html; charset=utf-8\" /><meta name=\"viewport\" content=\"width=device-width, initial-scale=1.0\" /><title>Dairyland Store</title><meta property=\"og:url\" content=\"http://project1535676.tilda.ws\" /><meta property=\"og:title\" content=\"Dairyland Store \" /><meta property=\"og:description\" content=\"\" /><meta property=\"og:type\" content=\"website\" /><meta property=\"og:image\" content=\"images/tild3666-3634-4532-b666-636363343030__-__resize__504x__Chez_Isabella.png\" /><link rel=\"canonical\" href=\"\"><meta property=\"fb:app_id\" content=\"257953674358265\" /><meta name=\"format-detection\" content=\"telephone=no\" /><meta http-equiv=\"x-dns-prefetch-control\" content=\"on\"><meta name=\"robots\" content=\"nofollow\" /><link rel=\"shortcut icon\" href=\"images/tildafavicon.ico\" type=\"image/x-icon\" /><link rel=\"stylesheet\" href=\"css/tilda-grid-3.0.min.css\" type=\"text/css\" media=\"all\" /><link rel=\"stylesheet\" href=\"css/tilda-blocks-2.12.css?t=1564990437\" type=\"text/css\" media=\"all\" /><link rel=\"stylesheet\" href=\"css/tilda-animation-1.0.min.css\" type=\"text/css\" media=\"all\" /><link rel=\"stylesheet\" href=\"css/tilda-menusub-1.0.min.css\" type=\"text/css\" media=\"all\" /><link rel=\"stylesheet\" href=\"css/tilda-popup-1.1.min.css\" type=\"text/css\" media=\"all\" /><link rel=\"stylesheet\" href=\"css/tilda-slds-1.4.min.css\" type=\"text/css\" media=\"all\" /><link rel=\"stylesheet\" href=\"css/tilda-zoom-2.0.min.css\" type=\"text/css\" media=\"all\" /><link rel=\"stylesheet\" href=\"css/tilda-catalog-1.0.min.css\" type=\"text/css\" media=\"all\" /><script src=\"js/jquery-1.10.2.min.js\"></script><script src=\"js/tilda-scripts-2.8.min.js\"></script><script src=\"js/tilda-blocks-2.7.js?t=1564990437\"></script><script src=\"js/lazyload-1.3.min.js\" charset=\"utf-8\"></script><script src=\"js/tilda-animation-1.0.min.js\" charset=\"utf-8\"></script><script src=\"js/tilda-menusub-1.0.min.js\" charset=\"utf-8\"></script><script src=\"js/hammer.min.js\" charset=\"utf-8\"></script><script src=\"js/tilda-slds-1.4.min.js\" charset=\"utf-8\"></script><script src=\"js/tilda-products-1.0.min.js\" charset=\"utf-8\"></script><script src=\"js/tilda-zoom-2.0.min.js\" charset=\"utf-8\"></script><script src=\"js/tilda-catalog-1.0.min.js\" charset=\"utf-8\"></script><script src=\"js/tilda-forms-1.0.min.js\" charset=\"utf-8\"></script><script src=\"js/tilda-cart-1.0.min.js\" charset=\"utf-8\"></script><script type=\"text/javascript\">window.dataLayer=window.dataLayer||[];</script><script type=\"text/javascript\">if((/bot|google|yandex|baidu|bing|msn|duckduckbot|teoma|slurp|crawler|spider|robot|crawling|facebook/i.test(navigator.userAgent))===false&&typeof(sessionStorage)!=\\'undefined\\'&&sessionStorage.getItem(\\'visited\\')!==\\'y\\'){var style=document.createElement(\\'style\\');style.type=\\'text/css\\';style.innerHTML=\\'@media screen and (min-width: 980px) {.t-records {opacity: 0;}.t-records_animated {-webkit-transition: opacity ease-in-out .2s;-moz-transition: opacity ease-in-out .2s;-o-transition: opacity ease-in-out .2s;transition: opacity ease-in-out .2s;}.t-records.t-records_visible {opacity: 1;}}\\';document.getElementsByTagName(\\'head\\')[0].appendChild(style);$(document).ready(function(){$(\\'.t-records\\').addClass(\\'t-records_animated\\');setTimeout(function(){$(\\'.t-records\\').addClass(\\'t-records_visible\\');sessionStorage.setItem(\\'visited\\',\\'y\\');},400);});}</script></head><body class=\"t-body\" style=\"margin:0;\"><div id=\"allrecords\" class=\"t-records\" data-hook=\"blocks-collection-content-node\" data-tilda-project-id=\"1535676\" data-tilda-page-id=\"6803319\" data-tilda-formskey=\"a83152e8825a1e103380d6a670aebc1f\" ><div id=\"rec119942642\" class=\"r t-rec t-rec_pt_0 t-rec_pb_0\" style=\"padding-top:0px;padding-bottom:0px;background-color:#ffffff; \" data-animationappear=\"off\" data-record-type=\"454\" data-bg-color=\"#ffffff\" ><div id=\"nav119942642marker\"></div><div id=\"nav119942642\" class=\"t454 t454__positionstatic \" style=\"background-color: rgba(255,255,255,1); height:200px; \" data-bgcolor-hex=\"#ffffff\" data-bgcolor-rgba=\"rgba(255,255,255,1)\" data-navmarker=\"nav119942642marker\" data-appearoffset=\"\" data-bgopacity-two=\"\" data-menushadow=\"\" data-bgopacity=\"1\" data-menu-items-align=\"\" data-menu=\"yes\" ><div class=\"t454__maincontainer t454__c12collumns\" style=\"height:200px;\"><div class=\"t454__logowrapper\"><div class=\"t454__logowrapper2\"><div style=\"display: block;\"> <a target=\"_blank\" style=\"color:#000000;font-size:48px;font-weight:700;\"> <img src=\"images/logo.png\" class=\"t454__imglogo t454__imglogomobile\" imgfield=\"img\" style=\"max-width: 150px; width: 150px;\" alt=\"Dairyland\" > </a></div></div></div><div class=\"t454__leftwrapper\" style=\"padding-left:20px; padding-right:125px; text-align: left;\"><div class=\"t454__leftmenuwrapper\"><ul class=\"t454__list\"></ul></div></div><div class=\"t454__rightwrapper\" style=\"padding-right:20px; padding-left:125px; text-align: right;\"><div class=\"t454__rightmenuwrapper\"><ul class=\"t454__list\"></ul></div></div></div></div><style>@media screen and (max-width: 980px){#rec119942642 .t454__leftcontainer{padding:20px}}@media screen and (max-width: 980px){#rec119942642 .t454__imglogo{padding:20px 0}}</style> <script type=\"text/javascript\">$(document).ready(function(){t454_highlight();});$(window).resize(function(){t454_setBg(\\'119942642\\');});$(document).ready(function(){t454_setBg(\\'119942642\\');});</script> <script type=\"text/javascript\">$(document).ready(function(){setTimeout(function(){t_menusub_init(\\'119942642\\');},500);});</script> <style>@media screen and (max-width: 980px){#rec119942642 .t-menusub__menu .t-menusub__link-item{color:#fff !important}}</style><!--[if IE 8]><style>#rec119942642 .t454{filter:progid:DXImageTransform.Microsoft.gradient(startColorStr=\\'#D9ffffff\\', endColorstr=\\'#D9ffffff\\')}</style><![endif]--></div><div id=\"rec119942643\" class=\"r t-rec t-rec_pt_30 t-rec_pb_30\" style=\"padding-top:30px;padding-bottom:30px; \" data-record-type=\"127\" ><div class=\"t119\"><div class=\"t-container t-align_center\"><div class=\"t-col t-col_8 t-prefix_2\"><div class=\"t119__preface t-descr t-opacity_70\" style=\"font-size:28px;opacity:1;\" field=\"text\"> High quality, local producers</div></div></div></div></div><div id=\"rec119942644\" class=\"r t-rec t-rec_pt_0 t-rec_pb_180\" style=\"padding-top:0px;padding-bottom:180px; \" data-animationappear=\"off\" data-record-type=\"754\" ><div class=\"t754\"><div class=\"t-container t754__container_mobile-grid\"><div class=\"t754__col t-col t-col_4 t-align_center t-item t754__col_mobile-grid js-product\" data-product-lid=\"1500469909554\" > <a href=\"#order\"><div class=\"t754__content\"><div class=\"t754__imgwrapper \" style=\"padding-bottom:111.11111111111%;\"><div class=\"t754__bgimg t-bgimg js-product-img\" data-original=\"images/tild3335-3763-4334-a634-353066326538__HTB1NWeENVXXXXa4XpXX.jpg\" style=\"background-image:url(\\'images/tild3335-3763-4334-a634-353066326538__-__resizeb__20x__HTB1NWeENVXXXXa4XpXX.jpg\\');\" bgimgfield=\"li_gallery__1500469909554:::0\" ></div></div><div class=\"t754__textwrapper\"><div class=\"t754__title t-name t-name_md js-product-name\" field=\"li_title__1500469909554\" style=\"font-size:20px;font-weight:400;\" >Dairy Pure Whole Milk, 1 gal</div><div class=\"t754__price-wrapper\"><div class=\"t754__price t754__price-item t-name t-name_xs\" style=\"font-weight:400;\"><div class=\"t754__price-value js-product-price\" field=\"li_price__1500469909554\">$4.23</div><div class=\"t754__price-currency\"></div></div></div></div></div> </a></div><div class=\"t754__col t-col t-col_4 t-align_center t-item t754__col_mobile-grid js-product\" data-product-lid=\"1498486363994\" > <a href=\"#order\"><div class=\"t754__content\"><div class=\"t754__imgwrapper \" style=\"padding-bottom:111.11111111111%;\"><div class=\"t754__bgimg t-bgimg js-product-img\" data-original=\"images/tild6534-6637-4138-b638-323862653265__HTB1NWeENVXXXXa4XpXX.jpg\" style=\"background-image:url(\\'images/tild6534-6637-4138-b638-323862653265__-__resizeb__20x__HTB1NWeENVXXXXa4XpXX.jpg\\');\" bgimgfield=\"li_gallery__1498486363994:::0\" ></div></div><div class=\"t754__textwrapper\"><div class=\"t754__title t-name t-name_md js-product-name\" field=\"li_title__1498486363994\" style=\"font-size:20px;font-weight:400;\" >Fairlife Whole Milk, 52 oz</div><div class=\"t754__price-wrapper\"><div class=\"t754__price t754__price-item t-name t-name_xs\" style=\"font-weight:400;\"><div class=\"t754__price-value js-product-price\" field=\"li_price__1498486363994\">$3.11</div><div class=\"t754__price-currency\"></div></div></div></div></div> </a></div><div class=\"t754__col t-col t-col_4 t-align_center t-item t754__col_mobile-grid js-product\" data-product-lid=\"1500469907722\" > <a href=\"#order\"><div class=\"t754__content\"><div class=\"t754__imgwrapper \" style=\"padding-bottom:111.11111111111%;\"><div class=\"t754__markwrapper\"><div class=\"t754__mark\" field=\"li_mark__1500469907722\" style=\"color:#ffffff;background-color:#ff4a4a;\" >NEW</div></div><div class=\"t754__bgimg t-bgimg js-product-img\" data-original=\"images/tild3564-6334-4930-b639-323763376263__HTB1NWeENVXXXXa4XpXX.jpg\" style=\"background-image:url(\\'images/tild3564-6334-4930-b639-323763376263__-__resizeb__20x__HTB1NWeENVXXXXa4XpXX.jpg\\');\" bgimgfield=\"li_gallery__1500469907722:::0\" ></div></div><div class=\"t754__textwrapper\"><div class=\"t754__title t-name t-name_md js-product-name\" field=\"li_title__1500469907722\" style=\"font-size:20px;font-weight:400;\" >Nestle Nesquik Chocolate Lowfat Milk, 16 pk</div><div class=\"t754__price-wrapper\"><div class=\"t754__price t754__price-item t-name t-name_xs\" style=\"font-weight:400;\"><div class=\"t754__price-value js-product-price\" field=\"li_price__1500469907722\">$11.54</div><div class=\"t754__price-currency\"></div></div></div></div></div> </a></div><div class=\"t-clear t754__separator\"></div><div class=\"t754__col t-col t-col_4 t-align_center t-item t754__col_mobile-grid js-product\" data-product-lid=\"1500469911302\" > <a href=\"#order\"><div class=\"t754__content\"><div class=\"t754__imgwrapper \" style=\"padding-bottom:111.11111111111%;\"><div class=\"t754__bgimg t-bgimg js-product-img\" data-original=\"images/tild6132-6337-4863-a530-643333373464__HTB1NWeENVXXXXa4XpXX.jpg\" style=\"background-image:url(\\'images/tild6132-6337-4863-a530-643333373464__-__resizeb__20x__HTB1NWeENVXXXXa4XpXX.jpg\\');\" bgimgfield=\"li_gallery__1500469911302:::0\" ></div></div><div class=\"t754__textwrapper\"><div class=\"t754__title t-name t-name_md js-product-name\" field=\"li_title__1500469911302\" style=\"font-size:20px;font-weight:400;\" >Moo-Moo Select Ingredients Fat Free Milk, 1 qt</div><div class=\"t754__price-wrapper\"><div class=\"t754__price t754__price-item t-name t-name_xs\" style=\"font-weight:400;\"><div class=\"t754__price-value js-product-price\" field=\"li_price__1500469911302\"> $0.92</div><div class=\"t754__price-currency\"></div></div></div></div></div> </a></div><div class=\"t754__col t-col t-col_4 t-align_center t-item t754__col_mobile-grid js-product\" data-product-lid=\"1498486301712\" > <a href=\"#order\"><div class=\"t754__content\"><div class=\"t754__imgwrapper \" style=\"padding-bottom:111.11111111111%;\"><div class=\"t754__bgimg t-bgimg js-product-img\" data-original=\"images/tild6662-6461-4539-b233-313735393434__HTB1NWeENVXXXXa4XpXX.jpg\" style=\"background-image:url(\\'images/tild6662-6461-4539-b233-313735393434__-__resizeb__20x__HTB1NWeENVXXXXa4XpXX.jpg\\');\" bgimgfield=\"li_gallery__1498486301712:::0\" ></div></div><div class=\"t754__textwrapper\"><div class=\"t754__title t-name t-name_md js-product-name\" field=\"li_title__1498486301712\" style=\"font-size:20px;font-weight:400;\" >Moo-Moo Select Ingredients Fat Free Milk, 1 gal</div><div class=\"t754__price-wrapper\"><div class=\"t754__price t754__price-item t-name t-name_xs\" style=\"font-weight:400;\"><div class=\"t754__price-value js-product-price\" field=\"li_price__1498486301712\"> $2.30</div><div class=\"t754__price-currency\"></div></div></div></div></div> </a></div><div class=\"t754__col t-col t-col_4 t-align_center t-item t754__col_mobile-grid js-product\" data-product-lid=\"1500470241687\" > <a href=\"#order\"><div class=\"t754__content\"><div class=\"t754__imgwrapper \" style=\"padding-bottom:111.11111111111%;\"><div class=\"t754__bgimg t-bgimg js-product-img\" data-original=\"images/tild3566-3133-4564-a535-396133353262__HTB1NWeENVXXXXa4XpXX.jpg\" style=\"background-image:url(\\'images/tild3566-3133-4564-a535-396133353262__-__resizeb__20x__HTB1NWeENVXXXXa4XpXX.jpg\\');\" bgimgfield=\"li_gallery__1500470241687:::0\" ></div></div><div class=\"t754__textwrapper\"><div class=\"t754__title t-name t-name_md js-product-name\" field=\"li_title__1500470241687\" style=\"font-size:20px;font-weight:400;\" >Silk Unsweetened Coconut Milk, 1/2 gal</div><div class=\"t754__price-wrapper\"><div class=\"t754__price t754__price-item t-name t-name_xs\" style=\"font-weight:400;\"><div class=\"t754__price-value js-product-price\" field=\"li_price__1500470241687\"> $2.99</div><div class=\"t754__price-currency\"></div></div></div></div></div> </a></div><div class=\"t-clear t754__separator\"></div><div class=\"t754__col t-col t-col_4 t-align_center t-item t754__col_mobile-grid js-product\" data-product-lid=\"1500470243820\" > <a href=\"#order\"><div class=\"t754__content\"><div class=\"t754__imgwrapper \" style=\"padding-bottom:111.11111111111%;\"><div class=\"t754__bgimg t-bgimg js-product-img\" data-original=\"images/tild3337-3035-4032-a566-636136643832__HTB1NWeENVXXXXa4XpXX.jpg\" style=\"background-image:url(\\'images/tild3337-3035-4032-a566-636136643832__-__resizeb__20x__HTB1NWeENVXXXXa4XpXX.jpg\\');\" bgimgfield=\"li_gallery__1500470243820:::0\" ></div></div><div class=\"t754__textwrapper\"><div class=\"t754__title t-name t-name_md js-product-name\" field=\"li_title__1500470243820\" style=\"font-size:20px;font-weight:400;\" >Fairlife Fat Free Milk, 52 oz</div><div class=\"t754__price-wrapper\"><div class=\"t754__price t754__price-item t-name t-name_xs\" style=\"font-weight:400;\"><div class=\"t754__price-value js-product-price\" field=\"li_price__1500470243820\"> $3.13</div><div class=\"t754__price-currency\"></div></div></div></div></div> </a></div><div class=\"t754__col t-col t-col_4 t-align_center t-item t754__col_mobile-grid js-product\" data-product-lid=\"1497456130776\" > <a href=\"#order\"><div class=\"t754__content\"><div class=\"t754__imgwrapper \" style=\"padding-bottom:111.11111111111%;\"><div class=\"t754__bgimg t-bgimg js-product-img\" data-original=\"images/tild3466-3435-4663-b933-623837656264__HTB1NWeENVXXXXa4XpXX.jpg\" style=\"background-image:url(\\'images/tild3466-3435-4663-b933-623837656264__-__resizeb__20x__HTB1NWeENVXXXXa4XpXX.jpg\\');\" bgimgfield=\"li_gallery__1497456130776:::0\" ></div></div><div class=\"t754__textwrapper\"><div class=\"t754__title t-name t-name_md js-product-name\" field=\"li_title__1497456130776\" style=\"font-size:20px;font-weight:400;\" >Horizon Organic DHA Omega-3 Chocolate Lowfat Milk, 12 pk<br /></div><div class=\"t754__price-wrapper\"><div class=\"t754__price t754__price-item t-name t-name_xs\" style=\"font-weight:400;\"><div class=\"t754__price-value js-product-price\" field=\"li_price__1497456130776\"> $11.94</div><div class=\"t754__price-currency\"></div></div></div></div></div> </a></div><div class=\"t754__col t-col t-col_4 t-align_center t-item t754__col_mobile-grid js-product\" data-product-lid=\"1500470245901\" > <a href=\"#order\"><div class=\"t754__content\"><div class=\"t754__imgwrapper \" style=\"padding-bottom:111.11111111111%;\"><div class=\"t754__bgimg t-bgimg js-product-img\" data-original=\"images/tild3532-6466-4638-b930-346664633761__HTB1NWeENVXXXXa4XpXX.jpg\" style=\"background-image:url(\\'images/tild3532-6466-4638-b930-346664633761__-__resizeb__20x__HTB1NWeENVXXXXa4XpXX.jpg\\');\" bgimgfield=\"li_gallery__1500470245901:::0\" ></div></div><div class=\"t754__textwrapper\"><div class=\"t754__title t-name t-name_md js-product-name\" field=\"li_title__1500470245901\" style=\"font-size:20px;font-weight:400;\" >Yoo-hoo Chocolate Drink, 3 pk</div><div class=\"t754__price-wrapper\"><div class=\"t754__price t754__price-item t-name t-name_xs\" style=\"font-weight:400;\"><div class=\"t754__price-value js-product-price\" field=\"li_price__1500470245901\"> $1</div><div class=\"t754__price-currency\"></div></div></div></div></div> </a></div><div class=\"t-clear t754__separator\"></div><div class=\"t754__col t-col t-col_4 t-align_center t-item t754__col_mobile-grid js-product\" data-product-lid=\"1564953618764\" > <a href=\"#order\"><div class=\"t754__content\"><div class=\"t754__imgwrapper \" style=\"padding-bottom:111.11111111111%;\"><div class=\"t754__bgimg t-bgimg js-product-img\" data-original=\"images/tild6565-3333-4662-a135-383666343962__HTB1NWeENVXXXXa4XpXX.jpg\" style=\"background-image:url(\\'images/tild6565-3333-4662-a135-383666343962__-__resizeb__20x__HTB1NWeENVXXXXa4XpXX.jpg\\');\" bgimgfield=\"li_gallery__1564953618764:::0\" ></div></div><div class=\"t754__textwrapper\"><div class=\"t754__title t-name t-name_md js-product-name\" field=\"li_title__1564953618764\" style=\"font-size:20px;font-weight:400;\" >Moo-Moo Select Ingredients Reduced Fat 2% Milk, 1/2 gal</div><div class=\"t754__price-wrapper\"><div class=\"t754__price t754__price-item t-name t-name_xs\" style=\"font-weight:400;\"><div class=\"t754__price-value js-product-price\" field=\"li_price__1564953618764\"> $1.33</div><div class=\"t754__price-currency\"></div></div></div></div></div> </a></div><div class=\"t754__col t-col t-col_4 t-align_center t-item t754__col_mobile-grid js-product\" data-product-lid=\"1564953633175\" > <a href=\"#order\"><div class=\"t754__content\"><div class=\"t754__imgwrapper \" style=\"padding-bottom:111.11111111111%;\"><div class=\"t754__bgimg t-bgimg js-product-img\" data-original=\"images/tild3566-3163-4437-b661-363366336430__HTB1NWeENVXXXXa4XpXX.jpg\" style=\"background-image:url(\\'images/tild3566-3163-4437-b661-363366336430__-__resizeb__20x__HTB1NWeENVXXXXa4XpXX.jpg\\');\" bgimgfield=\"li_gallery__1564953633175:::0\" ></div></div><div class=\"t754__textwrapper\"><div class=\"t754__title t-name t-name_md js-product-name\" field=\"li_title__1564953633175\" style=\"font-size:20px;font-weight:400;\" >Borden Whole Milk, 1 gal</div><div class=\"t754__price-wrapper\"><div class=\"t754__price t754__price-item t-name t-name_xs\" style=\"font-weight:400;\"><div class=\"t754__price-value js-product-price\" field=\"li_price__1564953633175\"> $3.53</div><div class=\"t754__price-currency\"></div></div></div></div></div> </a></div><div class=\"t754__col t-col t-col_4 t-align_center t-item t754__col_mobile-grid js-product\" data-product-lid=\"1564953646913\" > <a href=\"#order\"><div class=\"t754__content\"><div class=\"t754__imgwrapper \" style=\"padding-bottom:111.11111111111%;\"><div class=\"t754__bgimg t-bgimg js-product-img\" data-original=\"images/tild3466-6264-4263-b061-636539363964__HTB1NWeENVXXXXa4XpXX.jpg\" style=\"background-image:url(\\'images/tild3466-6264-4263-b061-636539363964__-__resizeb__20x__HTB1NWeENVXXXXa4XpXX.jpg\\');\" bgimgfield=\"li_gallery__1564953646913:::0\" ></div></div><div class=\"t754__textwrapper\"><div class=\"t754__title t-name t-name_md js-product-name\" field=\"li_title__1564953646913\" style=\"font-size:20px;font-weight:400;\" >Caravelle Chaudoc Coconut Milk, 14 oz</div><div class=\"t754__price-wrapper\"><div class=\"t754__price t754__price-item t-name t-name_xs\" style=\"font-weight:400;\"><div class=\"t754__price-value js-product-price\" field=\"li_price__1564953646913\"> $1.96</div><div class=\"t754__price-currency\"></div></div></div></div></div> </a></div><div class=\"t-clear t754__separator\"></div><div class=\"t754__col t-col t-col_4 t-align_center t-item t754__col_mobile-grid js-product\" data-product-lid=\"1564953755195\" > <a href=\"#order\"><div class=\"t754__content\"><div class=\"t754__imgwrapper \" style=\"padding-bottom:111.11111111111%;\"><div class=\"t754__bgimg t-bgimg js-product-img\" data-original=\"images/tild3634-3230-4566-a136-326462396564__HTB1NWeENVXXXXa4XpXX.jpg\" style=\"background-image:url(\\'images/tild3634-3230-4566-a136-326462396564__-__resizeb__20x__HTB1NWeENVXXXXa4XpXX.jpg\\');\" bgimgfield=\"li_gallery__1564953755195:::0\" ></div></div><div class=\"t754__textwrapper\"><div class=\"t754__title t-name t-name_md js-product-name\" field=\"li_title__1564953755195\" style=\"font-size:20px;font-weight:400;\" >Horizon Organic Whole Milk, 1/2 gal</div><div class=\"t754__price-wrapper\"><div class=\"t754__price t754__price-item t-name t-name_xs\" style=\"font-weight:400;\"><div class=\"t754__price-value js-product-price\" field=\"li_price__1564953755195\"> $3.88</div><div class=\"t754__price-currency\"></div></div></div></div></div> </a></div><div class=\"t754__col t-col t-col_4 t-align_center t-item t754__col_mobile-grid js-product\" data-product-lid=\"1564953773056\" ><div class=\"t754__content\"><div class=\"t754__imgwrapper \" style=\"padding-bottom:111.11111111111%;\"><div class=\"t754__bgimg t-bgimg js-product-img\" data-original=\"images/tild6262-3465-4132-b431-663237333761__HTB1NWeENVXXXXa4XpXX.jpg\" style=\"background-image:url(\\'images/tild6262-3465-4132-b431-663237333761__-__resizeb__20x__HTB1NWeENVXXXXa4XpXX.jpg\\');\" bgimgfield=\"li_gallery__1564953773056:::0\" ></div></div><div class=\"t754__textwrapper\"><div class=\"t754__title t-name t-name_md js-product-name\" field=\"li_title__1564953773056\" style=\"font-size:20px;font-weight:400;\" >Nesquik Strawberry Lowfat Milk, 8 oz</div><div class=\"t754__price-wrapper\"><div class=\"t754__price t754__price-item t-name t-name_xs\" style=\"font-weight:400;\"><div class=\"t754__price-value js-product-price\" field=\"li_price__1564953773056\"> $0.92</div><div class=\"t754__price-currency\"></div></div></div></div></div></div><div class=\"t754__col t-col t-col_4 t-align_center t-item t754__col_mobile-grid js-product\" data-product-lid=\"1564953783763\" > <a href=\"#order\"><div class=\"t754__content\"><div class=\"t754__imgwrapper \" style=\"padding-bottom:111.11111111111%;\"><div class=\"t754__bgimg t-bgimg js-product-img\" data-original=\"images/tild3836-3533-4438-a363-353866313166__HTB1NWeENVXXXXa4XpXX.jpg\" style=\"background-image:url(\\'images/tild3836-3533-4438-a363-353866313166__-__resizeb__20x__HTB1NWeENVXXXXa4XpXX.jpg\\');\" bgimgfield=\"li_gallery__1564953783763:::0\" ></div></div><div class=\"t754__textwrapper\"><div class=\"t754__title t-name t-name_md js-product-name\" field=\"li_title__1564953783763\" style=\"font-size:20px;font-weight:400;\" >Nesquik Vanilla Lowfat Milk, 14 oz</div><div class=\"t754__price-wrapper\"><div class=\"t754__price t754__price-item t-name t-name_xs\" style=\"font-weight:400;\"><div class=\"t754__price-value js-product-price\" field=\"li_price__1564953783763\"> $1.34</div><div class=\"t754__price-currency\"></div></div></div></div></div> </a></div><div class=\"t-clear t754__separator\"></div><div class=\"t754__col t-col t-col_4 t-align_center t-item t754__col_mobile-grid js-product\" data-product-lid=\"1564953794916\" > <a href=\"#order\"><div class=\"t754__content\"><div class=\"t754__imgwrapper \" style=\"padding-bottom:111.11111111111%;\"><div class=\"t754__bgimg t-bgimg js-product-img\" data-original=\"images/tild3139-3235-4064-b735-613837616333__HTB1NWeENVXXXXa4XpXX.jpg\" style=\"background-image:url(\\'images/tild3139-3235-4064-b735-613837616333__-__resizeb__20x__HTB1NWeENVXXXXa4XpXX.jpg\\');\" bgimgfield=\"li_gallery__1564953794916:::0\" ></div></div><div class=\"t754__textwrapper\"><div class=\"t754__title t-name t-name_md js-product-name\" field=\"li_title__1564953794916\" style=\"font-size:20px;font-weight:400;\" >Moo-Moo Select Ingredients Low Fat 1% Milk, 1 gal</div><div class=\"t754__price-wrapper\"><div class=\"t754__price t754__price-item t-name t-name_xs\" style=\"font-weight:400;\"><div class=\"t754__price-value js-product-price\" field=\"li_price__1564953794916\"> $2.24</div><div class=\"t754__price-currency\"></div></div></div></div></div> </a></div><div class=\"t754__col t-col t-col_4 t-align_center t-item t754__col_mobile-grid js-product\" data-product-lid=\"1564953805255\" > <a href=\"#order\"><div class=\"t754__content\"><div class=\"t754__imgwrapper \" style=\"padding-bottom:111.11111111111%;\"><div class=\"t754__bgimg t-bgimg js-product-img\" data-original=\"images/tild6365-3662-4539-b933-343161336562__HTB1NWeENVXXXXa4XpXX.jpg\" style=\"background-image:url(\\'images/tild6365-3662-4539-b933-343161336562__-__resizeb__20x__HTB1NWeENVXXXXa4XpXX.jpg\\');\" bgimgfield=\"li_gallery__1564953805255:::0\" ></div></div><div class=\"t754__textwrapper\"><div class=\"t754__title t-name t-name_md js-product-name\" field=\"li_title__1564953805255\" style=\"font-size:20px;font-weight:400;\" >Polar Premium Organic Coconut Milk, 13.5 oz</div><div class=\"t754__price-wrapper\"><div class=\"t754__price t754__price-item t-name t-name_xs\" style=\"font-weight:400;\"><div class=\"t754__price-value js-product-price\" field=\"li_price__1564953805255\"> $2.94</div><div class=\"t754__price-currency\"></div></div></div></div></div> </a></div><div class=\"t754__col t-col t-col_4 t-align_center t-item t754__col_mobile-grid js-product\" data-product-lid=\"1564953814868\" > <a href=\"#order\"><div class=\"t754__content\"><div class=\"t754__imgwrapper \" style=\"padding-bottom:111.11111111111%;\"><div class=\"t754__bgimg t-bgimg js-product-img\" data-original=\"images/tild6663-3039-4864-b562-306338376566__HTB1NWeENVXXXXa4XpXX.jpg\" style=\"background-image:url(\\'images/tild6663-3039-4864-b562-306338376566__-__resizeb__20x__HTB1NWeENVXXXXa4XpXX.jpg\\');\" bgimgfield=\"li_gallery__1564953814868:::0\" ></div></div><div class=\"t754__textwrapper\"><div class=\"t754__title t-name t-name_md js-product-name\" field=\"li_title__1564953814868\" style=\"font-size:20px;font-weight:400;\" >Borden Dutch Chocolate Milk, 1 pt</div><div class=\"t754__price-wrapper\"><div class=\"t754__price t754__price-item t-name t-name_xs\" style=\"font-weight:400;\"><div class=\"t754__price-value js-product-price\" field=\"li_price__1564953814868\"> $1.56</div><div class=\"t754__price-currency\"></div></div></div></div></div> </a></div><div class=\"t-clear t754__separator\"></div><div class=\"t754__col t-col t-col_4 t-align_center t-item t754__col_mobile-grid js-product\" data-product-lid=\"1564953825617\" > <a href=\"#order\"><div class=\"t754__content\"><div class=\"t754__imgwrapper \" style=\"padding-bottom:111.11111111111%;\"><div class=\"t754__bgimg t-bgimg js-product-img\" data-original=\"images/tild3161-3733-4366-b363-363233666332__HTB1NWeENVXXXXa4XpXX.jpg\" style=\"background-image:url(\\'images/tild3161-3733-4366-b363-363233666332__-__resizeb__20x__HTB1NWeENVXXXXa4XpXX.jpg\\');\" bgimgfield=\"li_gallery__1564953825617:::0\" ></div></div><div class=\"t754__textwrapper\"><div class=\"t754__title t-name t-name_md js-product-name\" field=\"li_title__1564953825617\" style=\"font-size:20px;font-weight:400;\" >Borden Dutch Chocolate Milk, 1/2 gal</div><div class=\"t754__price-wrapper\"><div class=\"t754__price t754__price-item t-name t-name_xs\" style=\"font-weight:400;\"><div class=\"t754__price-value js-product-price\" field=\"li_price__1564953825617\"> $2.70</div><div class=\"t754__price-currency\"></div></div></div></div></div> </a></div><div class=\"t754__col t-col t-col_4 t-align_center t-item t754__col_mobile-grid js-product\" data-product-lid=\"1564953837577\" > <a href=\"#order\"><div class=\"t754__content\"><div class=\"t754__imgwrapper \" style=\"padding-bottom:111.11111111111%;\"><div class=\"t754__bgimg t-bgimg js-product-img\" data-original=\"images/tild3637-6563-4536-b762-316532393464__HTB1NWeENVXXXXa4XpXX.jpg\" style=\"background-image:url(\\'images/tild3637-6563-4536-b762-316532393464__-__resizeb__20x__HTB1NWeENVXXXXa4XpXX.jpg\\');\" bgimgfield=\"li_gallery__1564953837577:::0\" ></div></div><div class=\"t754__textwrapper\"><div class=\"t754__title t-name t-name_md js-product-name\" field=\"li_title__1564953837577\" style=\"font-size:20px;font-weight:400;\" >Saco Fat-Free Instant Organic Milk, 3.2 oz</div><div class=\"t754__price-wrapper\"><div class=\"t754__price t754__price-item t-name t-name_xs\" style=\"font-weight:400;\"><div class=\"t754__price-value js-product-price\" field=\"li_price__1564953837577\"> $2.48</div><div class=\"t754__price-currency\"></div></div></div></div></div> </a></div><div class=\"t754__col t-col t-col_4 t-align_center t-item t754__col_mobile-grid js-product\" data-product-lid=\"1564953847153\" > <a href=\"#order\"><div class=\"t754__content\"><div class=\"t754__imgwrapper \" style=\"padding-bottom:111.11111111111%;\"><div class=\"t754__bgimg t-bgimg js-product-img\" data-original=\"images/tild3136-6365-4436-b435-386137326333__HTB1NWeENVXXXXa4XpXX.jpg\" style=\"background-image:url(\\'images/tild3136-6365-4436-b435-386137326333__-__resizeb__20x__HTB1NWeENVXXXXa4XpXX.jpg\\');\" bgimgfield=\"li_gallery__1564953847153:::0\" ></div></div><div class=\"t754__textwrapper\"><div class=\"t754__title t-name t-name_md js-product-name\" field=\"li_title__1564953847153\" style=\"font-size:20px;font-weight:400;\" >Hill Country Fare Reduced Fat 2% Milk, 1 gal</div><div class=\"t754__price-wrapper\"><div class=\"t754__price t754__price-item t-name t-name_xs\" style=\"font-weight:400;\"><div class=\"t754__price-value js-product-price\" field=\"li_price__1564953847153\"> $2.32</div><div class=\"t754__price-currency\"></div></div></div></div></div> </a></div><div class=\"t-clear t754__separator\"></div><div class=\"t754__col t-col t-col_4 t-align_center t-item t754__col_mobile-grid js-product\" data-product-lid=\"1564953861446\" > <a href=\"#order\"><div class=\"t754__content\"><div class=\"t754__imgwrapper \" style=\"padding-bottom:111.11111111111%;\"><div class=\"t754__bgimg t-bgimg js-product-img\" data-original=\"images/tild3163-6335-4963-a463-303537356231__HTB1NWeENVXXXXa4XpXX.jpg\" style=\"background-image:url(\\'images/tild3163-6335-4963-a463-303537356231__-__resizeb__20x__HTB1NWeENVXXXXa4XpXX.jpg\\');\" bgimgfield=\"li_gallery__1564953861446:::0\" ></div></div><div class=\"t754__textwrapper\"><div class=\"t754__title t-name t-name_md js-product-name\" field=\"li_title__1564953861446\" style=\"font-size:20px;font-weight:400;\" >Horizon Organic DHA Omega-3 Vanilla Lowfat Milk, 6 pk</div><div class=\"t754__price-wrapper\"><div class=\"t754__price t754__price-item t-name t-name_xs\" style=\"font-weight:400;\"><div class=\"t754__price-value js-product-price\" field=\"li_price__1564953861446\"> $6.36</div><div class=\"t754__price-currency\"></div></div></div></div></div> </a></div><div class=\"t754__col t-col t-col_4 t-align_center t-item t754__col_mobile-grid js-product\" data-product-lid=\"1564953871951\" > <a href=\"#order\"><div class=\"t754__content\"><div class=\"t754__imgwrapper \" style=\"padding-bottom:111.11111111111%;\"><div class=\"t754__bgimg t-bgimg js-product-img\" data-original=\"images/tild6462-3536-4132-a138-653161396535__HTB1NWeENVXXXXa4XpXX.jpg\" style=\"background-image:url(\\'images/tild6462-3536-4132-a138-653161396535__-__resizeb__20x__HTB1NWeENVXXXXa4XpXX.jpg\\');\" bgimgfield=\"li_gallery__1564953871951:::0\" ></div></div><div class=\"t754__textwrapper\"><div class=\"t754__title t-name t-name_md js-product-name\" field=\"li_title__1564953871951\" style=\"font-size:20px;font-weight:400;\" >Horizon Organic DHA Omega-3 2% Reduced Fat Milk, 1/2 gal</div><div class=\"t754__price-wrapper\"><div class=\"t754__price t754__price-item t-name t-name_xs\" style=\"font-weight:400;\"><div class=\"t754__price-value js-product-price\" field=\"li_price__1564953871951\"> $4.43</div><div class=\"t754__price-currency\"></div></div></div></div></div> </a></div><div class=\"t754__col t-col t-col_4 t-align_center t-item t754__col_mobile-grid js-product\" data-product-lid=\"1564953885938\" > <a href=\"#order\"><div class=\"t754__content\"><div class=\"t754__imgwrapper \" style=\"padding-bottom:111.11111111111%;\"><div class=\"t754__bgimg t-bgimg js-product-img\" data-original=\"images/tild6330-6631-4466-b137-613030386666__HTB1NWeENVXXXXa4XpXX.jpg\" style=\"background-image:url(\\'images/tild6330-6631-4466-b137-613030386666__-__resizeb__20x__HTB1NWeENVXXXXa4XpXX.jpg\\');\" bgimgfield=\"li_gallery__1564953885938:::0\" ></div></div><div class=\"t754__textwrapper\"><div class=\"t754__title t-name t-name_md js-product-name\" field=\"li_title__1564953885938\" style=\"font-size:20px;font-weight:400;\" >Moo-Moo Chocolate Milk, 1/2 gal</div><div class=\"t754__price-wrapper\"><div class=\"t754__price t754__price-item t-name t-name_xs\" style=\"font-weight:400;\"><div class=\"t754__price-value js-product-price\" field=\"li_price__1564953885938\"> $2.70</div><div class=\"t754__price-currency\"></div></div></div></div></div> </a></div><div class=\"t-clear t754__separator\"></div><div class=\"t754__col t-col t-col_4 t-align_center t-item t754__col_mobile-grid js-product\" data-product-lid=\"1564953897697\" > <a href=\"#order\"><div class=\"t754__content\"><div class=\"t754__imgwrapper \" style=\"padding-bottom:111.11111111111%;\"><div class=\"t754__bgimg t-bgimg js-product-img\" data-original=\"images/tild3164-3139-4261-a134-646164333433__HTB1NWeENVXXXXa4XpXX.jpg\" style=\"background-image:url(\\'images/tild3164-3139-4261-a134-646164333433__-__resizeb__20x__HTB1NWeENVXXXXa4XpXX.jpg\\');\" bgimgfield=\"li_gallery__1564953897697:::0\" ></div></div><div class=\"t754__textwrapper\"><div class=\"t754__title t-name t-name_md js-product-name\" field=\"li_title__1564953897697\" style=\"font-size:20px;font-weight:400;\" >A Taste of Thai Lite Coconut Milk, 13.5 oz</div><div class=\"t754__price-wrapper\"><div class=\"t754__price t754__price-item t-name t-name_xs\" style=\"font-weight:400;\"><div class=\"t754__price-value js-product-price\" field=\"li_price__1564953897697\"> $2.29</div><div class=\"t754__price-currency\"></div></div></div></div></div> </a></div><div class=\"t754__col t-col t-col_4 t-align_center t-item t754__col_mobile-grid js-product\" data-product-lid=\"1564953909173\" > <a href=\"#order\"><div class=\"t754__content\"><div class=\"t754__imgwrapper \" style=\"padding-bottom:111.11111111111%;\"><div class=\"t754__bgimg t-bgimg js-product-img\" data-original=\"images/tild6234-6462-4139-a332-373363343134__HTB1NWeENVXXXXa4XpXX.jpg\" style=\"background-image:url(\\'images/tild6234-6462-4139-a332-373363343134__-__resizeb__20x__HTB1NWeENVXXXXa4XpXX.jpg\\');\" bgimgfield=\"li_gallery__1564953909173:::0\" ></div></div><div class=\"t754__textwrapper\"><div class=\"t754__title t-name t-name_md js-product-name\" field=\"li_title__1564953909173\" style=\"font-size:20px;font-weight:400;\" >Meyenberg Goat Milk, 1/2 gal</div><div class=\"t754__price-wrapper\"><div class=\"t754__price t754__price-item t-name t-name_xs\" style=\"font-weight:400;\"><div class=\"t754__price-value js-product-price\" field=\"li_price__1564953909173\"> $7.80</div><div class=\"t754__price-currency\"></div></div></div></div></div> </a></div><div class=\"t754__col t-col t-col_4 t-align_center t-item t754__col_mobile-grid js-product\" data-product-lid=\"1564953922970\" > <a href=\"#order\"><div class=\"t754__content\"><div class=\"t754__imgwrapper \" style=\"padding-bottom:111.11111111111%;\"><div class=\"t754__bgimg t-bgimg js-product-img\" data-original=\"images/tild3835-3035-4634-b166-383563373637__3w1280c0bild.jpg\" style=\"background-image:url(\\'images/tild3835-3035-4634-b166-383563373637__-__resizeb__20x__3w1280c0bild.jpg\\');\" bgimgfield=\"li_gallery__1564953922970:::0\" ></div></div><div class=\"t754__textwrapper\"><div class=\"t754__title t-name t-name_md js-product-name\" field=\"li_title__1564953922970\" style=\"font-size:20px;font-weight:400;\" >Kerrygold Irish Butter with Canola Oil, 7.5 oz</div><div class=\"t754__price-wrapper\"><div class=\"t754__price t754__price-item t-name t-name_xs\" style=\"font-weight:400;\"><div class=\"t754__price-value js-product-price\" field=\"li_price__1564953922970\"> $2.80</div><div class=\"t754__price-currency\"></div></div></div></div></div> </a></div><div class=\"t-clear t754__separator\"></div><div class=\"t754__col t-col t-col_4 t-align_center t-item t754__col_mobile-grid js-product\" data-product-lid=\"1564953937739\" > <a href=\"#order\"><div class=\"t754__content\"><div class=\"t754__imgwrapper \" style=\"padding-bottom:111.11111111111%;\"><div class=\"t754__bgimg t-bgimg js-product-img\" data-original=\"images/tild3536-3339-4232-a530-653331623136__3w1280c0bild.jpg\" style=\"background-image:url(\\'images/tild3536-3339-4232-a530-653331623136__-__resizeb__20x__3w1280c0bild.jpg\\');\" bgimgfield=\"li_gallery__1564953937739:::0\" ></div></div><div class=\"t754__textwrapper\"><div class=\"t754__title t-name t-name_md js-product-name\" field=\"li_title__1564953937739\" style=\"font-size:20px;font-weight:400;\" >Danish Creamery Unsalted European Style Butter, 8 oz</div><div class=\"t754__price-wrapper\"><div class=\"t754__price t754__price-item t-name t-name_xs\" style=\"font-weight:400;\"><div class=\"t754__price-value js-product-price\" field=\"li_price__1564953937739\"> $2.97</div><div class=\"t754__price-currency\"></div></div></div></div></div> </a></div><div class=\"t754__col t-col t-col_4 t-align_center t-item t754__col_mobile-grid js-product\" data-product-lid=\"1564953954683\" > <a href=\"#order\"><div class=\"t754__content\"><div class=\"t754__imgwrapper \" style=\"padding-bottom:111.11111111111%;\"><div class=\"t754__bgimg t-bgimg js-product-img\" data-original=\"images/tild3064-6134-4631-b066-303965313734__3w1280c0bild.jpg\" style=\"background-image:url(\\'images/tild3064-6134-4631-b066-303965313734__-__resizeb__20x__3w1280c0bild.jpg\\');\" bgimgfield=\"li_gallery__1564953954683:::0\" ></div></div><div class=\"t754__textwrapper\"><div class=\"t754__title t-name t-name_md js-product-name\" field=\"li_title__1564953954683\" style=\"font-size:20px;font-weight:400;\" >Kelapo Ghee Clarified Butter, 13 oz</div><div class=\"t754__price-wrapper\"><div class=\"t754__price t754__price-item t-name t-name_xs\" style=\"font-weight:400;\"><div class=\"t754__price-value js-product-price\" field=\"li_price__1564953954683\"> $8.82</div><div class=\"t754__price-currency\"></div></div></div></div></div> </a></div><div class=\"t754__col t-col t-col_4 t-align_center t-item t754__col_mobile-grid js-product\" data-product-lid=\"1564953966182\" > <a href=\"#order\"><div class=\"t754__content\"><div class=\"t754__imgwrapper \" style=\"padding-bottom:111.11111111111%;\"><div class=\"t754__bgimg t-bgimg js-product-img\" data-original=\"images/tild3137-3032-4135-a639-306164643962__3w1280c0bild.jpg\" style=\"background-image:url(\\'images/tild3137-3032-4135-a639-306164643962__-__resizeb__20x__3w1280c0bild.jpg\\');\" bgimgfield=\"li_gallery__1564953966182:::0\" ></div></div><div class=\"t754__textwrapper\"><div class=\"t754__title t-name t-name_md js-product-name\" field=\"li_title__1564953966182\" style=\"font-size:20px;font-weight:400;\" >Land O Lakes Less Sodium Butter with Canola Oil, 15 oz</div><div class=\"t754__price-wrapper\"><div class=\"t754__price t754__price-item t-name t-name_xs\" style=\"font-weight:400;\"><div class=\"t754__price-value js-product-price\" field=\"li_price__1564953966182\"> $3.87</div><div class=\"t754__price-currency\"></div></div></div></div></div> </a></div><div class=\"t-clear t754__separator\"></div><div class=\"t754__col t-col t-col_4 t-align_center t-item t754__col_mobile-grid js-product\" data-product-lid=\"1564953976534\" > <a href=\"#order\"><div class=\"t754__content\"><div class=\"t754__imgwrapper \" style=\"padding-bottom:111.11111111111%;\"><div class=\"t754__bgimg t-bgimg js-product-img\" data-original=\"images/tild3564-3535-4837-a565-623835663432__3w1280c0bild.jpg\" style=\"background-image:url(\\'images/tild3564-3535-4837-a565-623835663432__-__resizeb__20x__3w1280c0bild.jpg\\');\" bgimgfield=\"li_gallery__1564953976534:::0\" ></div></div><div class=\"t754__textwrapper\"><div class=\"t754__title t-name t-name_md js-product-name\" field=\"li_title__1564953976534\" style=\"font-size:20px;font-weight:400;\" >California Farms Organic Sweetened Condensed Milk, 14 oz</div><div class=\"t754__price-wrapper\"><div class=\"t754__price t754__price-item t-name t-name_xs\" style=\"font-weight:400;\"><div class=\"t754__price-value js-product-price\" field=\"li_price__1564953976534\"> $3.49</div><div class=\"t754__price-currency\"></div></div></div></div></div> </a></div><div class=\"t754__col t-col t-col_4 t-align_center t-item t754__col_mobile-grid js-product\" data-product-lid=\"1564954000269\" > <a href=\"#order\"><div class=\"t754__content\"><div class=\"t754__imgwrapper \" style=\"padding-bottom:111.11111111111%;\"><div class=\"t754__bgimg t-bgimg js-product-img\" data-original=\"images/tild3664-3765-4162-a362-333163316236__3w1280c0bild.jpg\" style=\"background-image:url(\\'images/tild3664-3765-4162-a362-333163316236__-__resizeb__20x__3w1280c0bild.jpg\\');\" bgimgfield=\"li_gallery__1564954000269:::0\" ></div></div><div class=\"t754__textwrapper\"><div class=\"t754__title t-name t-name_md js-product-name\" field=\"li_title__1564954000269\" style=\"font-size:20px;font-weight:400;\" >Lactaid Whole Milk, 96 oz</div><div class=\"t754__price-wrapper\"><div class=\"t754__price t754__price-item t-name t-name_xs\" style=\"font-weight:400;\"><div class=\"t754__price-value js-product-price\" field=\"li_price__1564954000269\"> $5.47</div><div class=\"t754__price-currency\"></div></div></div></div></div> </a></div></div></div> <script type=\"text/javascript\">$(document).ready(function(){setTimeout(function(){t754__init(\\'119942644\\');},500);});</script> <style type=\"text/css\">#rec119942644 .t-slds__bullet_active .t-slds__bullet_body{background-color:#222 !important}#rec119942644 .t-slds__bullet:hover .t-slds__bullet_body{background-color:#222 !important}</style></div><div id=\"rec119942646\" class=\"r t-rec t-rec_pt_150 t-rec_pb_150\" style=\"padding-top:150px;padding-bottom:150px;background-color:#ffffff; \" data-record-type=\"560\" data-bg-color=\"#ffffff\" ><div class=\"t560\"><div class=\"t-container\"><div class=\"t-col t-col_6 t-prefix_3 t-align_center\"><div class=\"t560__text t-text-impact t-text-impact_xs \" style=\"color:#000000;font-size:28px;font-weight:300;\" field=\"text\" ><a href=\"tel:1-999-999-9999\" style=\"\">1-999-999-9999</a><br />dairyland@store.com<br /></div></div></div></div></div><div id=\"rec119942647\" class=\"r t-rec\" style=\" \" data-animationappear=\"off\" data-record-type=\"706\"> <script type=\"text/javascript\">$(document).ready(function(){tcart__init(\\'119942647\\');var ua=navigator.userAgent.toLowerCase();var isAndroid=(ua.indexOf(\\'android\\')>-1);if(isAndroid){$(\\'.t-body\\').addClass(\\'t-body_scrollable-hack-for-android\\');$(\\'head\\').append(\\'<style>@media screen and (max-width: 560px) {n.t-body_scrollable-hack-for-android {noverflow: visible !important;n}n}n</style>\\');console.log(\\'Android css hack was inited\\');}});</script> <div class=\"t706\" data-opencart-onorder=\"yes\" data-project-currency=\"$\" data-project-currency-side=\"l\" data-project-currency-sep=\".\" data-project-currency-code=\"USD\" ><div class=\"t706__carticon\" style=\"\"><div class=\"t706__carticon-text t-name t-name_xs\">Click to order</div><div class=\"t706__carticon-wrapper\"><div class=\"t706__carticon-imgwrap\"> <svg class=\"t706__carticon-img\" xmlns=\"http://www.w3.org/2000/svg\" viewBox=\"0 0 64 64\"> <descr style=\"color:#bebebe;\">Cart</descr> <path fill=\"none\" stroke-width=\"2\" stroke-miterlimit=\"10\" d=\"M44 18h10v45H10V18h10z\" /> <path fill=\"none\" stroke-width=\"2\" stroke-miterlimit=\"10\" d=\"M22 24V11c0-5.523 4.477-10 10-10s10 4.477 10 10v13\" /> </svg></div><div class=\"t706__carticon-counter\" style=\"background-color:#ff4a4a;\"></div></div></div><div class=\"t706__cartwin\"><div class=\"t706__cartwin-close\"><div class=\"t706__cartwin-close-wrapper\"> <svg class=\"t706__cartwin-close-icon\" width=\"23px\" height=\"23px\" viewBox=\"0 0 23 23\" version=\"1.1\" xmlns=\"http://www.w3.org/2000/svg\" xmlns:xlink=\"http://www.w3.org/1999/xlink\" > <g stroke=\"none\" stroke-width=\"1\" fill=\"#fff\" fill-rule=\"evenodd\"> <rect transform=\"translate(11.313708, 11.313708) rotate(-45.000000) translate(-11.313708, -11.313708) \" x=\"10.3137085\" y=\"-3.6862915\" width=\"2\" height=\"30\" ></rect> <rect transform=\"translate(11.313708, 11.313708) rotate(-315.000000) translate(-11.313708, -11.313708) \" x=\"10.3137085\" y=\"-3.6862915\" width=\"2\" height=\"30\" ></rect> </g> </svg></div></div><div class=\"t706__cartwin-content\"><div class=\"t706__cartwin-top\"><div class=\"t706__cartwin-heading t-name t-name_xl\"></div></div><div class=\"t706__cartwin-products\"></div><div class=\"t706__cartwin-bottom\"><div class=\"t706__cartwin-prodamount-wrap t-descr t-descr_sm\"> <span class=\"t706__cartwin-prodamount-label\">Total:&nbsp;</span><span class=\"t706__cartwin-prodamount\"></span></div></div><div class=\"t706__orderform \"><form id=\"form119942647\" name=\\'form119942647\\' role=\"form\" action=\\'\\' method=\\'POST\\' data-formactiontype=\"0\" data-inputbox=\".t-input-group\" class=\"t-form js-form-proccess t-form_inputs-total_3 \" data-formsended-callback=\"t706_onSuccessCallback\" > <input type=\"hidden\" name=\"tildaspec-formname\" tabindex=\"-1\" value=\"Cart\"><div class=\"js-successbox t-form__successbox t-text t-text_md\" style=\"display:none;\"></div><div class=\"t-form__inputsbox\"><div class=\"t-input-group t-input-group_nm\" data-input-lid=\"1496239431201\"><div class=\"t-input-title t-descr t-descr_md\" data-redactor-toolbar=\"no\" field=\"li_title__1496239431201\" style=\"\" >Name</div><div class=\"t-input-block\"> <input type=\"text\" name=\"Name\" class=\"t-input js-tilda-rule \" value=\"\" data-tilda-req=\"1\" data-tilda-rule=\"name\" style=\"color:#000000; border:1px solid #000000; \" ><div class=\"t-input-error\"></div></div></div><div class=\"t-input-group t-input-group_em\" data-input-lid=\"1496239459190\"><div class=\"t-input-title t-descr t-descr_md\" data-redactor-toolbar=\"no\" field=\"li_title__1496239459190\" style=\"\" >Email address</div><div class=\"t-input-block\"> <input type=\"text\" name=\"Email\" class=\"t-input js-tilda-rule \" value=\"\" data-tilda-req=\"1\" data-tilda-rule=\"email\" style=\"color:#000000; border:1px solid #000000; \" ><div class=\"t-input-error\"></div></div></div><div class=\"t-input-group t-input-group_ph\" data-input-lid=\"1496239478607\"><div class=\"t-input-title t-descr t-descr_md\" data-redactor-toolbar=\"no\" field=\"li_title__1496239478607\" style=\"\" >Telephone number</div><div class=\"t-input-block\"> <input type=\"tel\" name=\"Phone\" class=\"t-input js-tilda-rule \" value=\"\" data-tilda-req=\"1\" data-tilda-rule=\"phone\" pattern=\"[0-9]*\" style=\"color:#000000; border:1px solid #000000; \" ><div class=\"t-input-error\"></div></div></div><div class=\"t-form__errorbox-middle\"><div class=\"js-errorbox-all t-form__errorbox-wrapper\" style=\"display:none;\"><div class=\"t-form__errorbox-text t-text t-text_md\"><p class=\"t-form__errorbox-item js-rule-error js-rule-error-all\"></p><p class=\"t-form__errorbox-item js-rule-error js-rule-error-req\"></p><p class=\"t-form__errorbox-item js-rule-error js-rule-error-email\"></p><p class=\"t-form__errorbox-item js-rule-error js-rule-error-name\"></p><p class=\"t-form__errorbox-item js-rule-error js-rule-error-phone\"></p><p class=\"t-form__errorbox-item js-rule-error js-rule-error-minlength\"></p><p class=\"t-form__errorbox-item js-rule-error js-rule-error-string\"></p></div></div></div><div class=\"t-form__submit\"> <button type=\"button\" class=\"t-submit\" style=\"color:#ffffff;background-color:#000000;\" >Check out </button></div></div><div class=\"t-form__errorbox-bottom\"><div class=\"js-errorbox-all t-form__errorbox-wrapper\" style=\"display:none;\"><div class=\"t-form__errorbox-text t-text t-text_md\"><p class=\"t-form__errorbox-item js-rule-error js-rule-error-all\"></p><p class=\"t-form__errorbox-item js-rule-error js-rule-error-req\"></p><p class=\"t-form__errorbox-item js-rule-error js-rule-error-email\"></p><p class=\"t-form__errorbox-item js-rule-error js-rule-error-name\"></p><p class=\"t-form__errorbox-item js-rule-error js-rule-error-phone\"></p><p class=\"t-form__errorbox-item js-rule-error js-rule-error-minlength\"></p><p class=\"t-form__errorbox-item js-rule-error js-rule-error-string\"></p></div></div></div></form><style>#rec119942647 input::-webkit-input-placeholder{color:#000;opacity:0.5}#rec119942647 input::-moz-placeholder{color:#000;opacity:0.5}#rec119942647 input:-moz-placeholder{color:#000;opacity:0.5}#rec119942647 input:-ms-input-placeholder{color:#000;opacity:0.5}#rec119942647 textarea::-webkit-input-placeholder{color:#000;opacity:0.5}#rec119942647 textarea::-moz-placeholder{color:#000;opacity:0.5}#rec119942647 textarea:-moz-placeholder{color:#000;opacity:0.5}#rec119942647 textarea:-ms-input-placeholder{color:#000;opacity:0.5}</style></div></div></div><div class=\"t706__cartdata\"></div></div></div></div><div class=\"t-tildalabel t-tildalabel-free\" id=\"tildacopy\" data-tilda-sign=\"1535676#6803319\"><div class=\"t-tildalabel-free__main\"><a href=\"https://tilda.cc/?upm=1535676\" target=\"_blank\" style=\"padding-bottom:12px; display: block;\"><img style=\"width:40px;\" src=\"images/tildacopy.png\"></a><div style=\"padding-bottom: 15px;\">This site was made on <a href=\"https://tilda.cc/?upm=1535676\" target=\"_blank\" style=\"text-decoration: none; color:inherit;\">Tilda &mdash; a website builder</a> that helps to&nbsp;create a&nbsp;website without any code</div><a href=\"https://tilda.cc/registration/\" target=\"_blank\" style=\"display: inline-block; padding: 10px 20px; font-size: 13px; border-radius: 50px; background-color: #fff; color:#000; text-decoration: none;\">Create a website</a></div><div class=\"t-tildalabel-free__links-wr\"><a class=\"t-tildalabel-free__txt-link\" href=\"http://help.tilda.ws/white-label\" target=\"_blank\">How to remove this block?</a><a class=\"t-tildalabel-free__txt-link\" href=\"https://tilda.cc/?upm=1535676\" target=\"_blank\">About platform</a><a class=\"t-tildalabel-free__txt-link\" href=\"https://tilda.cc/abuse/\" target=\"_blank\">Submit a complaint</a></div></div><script type=\"text/javascript\">if(!window.mainTracker){window.mainTracker=\\'tilda\\';}(function(d,w,k,o,g){var n=d.getElementsByTagName(o)[0],s=d.createElement(o),f=function(){n.parentNode.insertBefore(s,n);};s.type=\"text/javascript\";s.async=true;s.key=k;s.id=\"tildastatscript\";s.src=g;if(w.opera==\"[object Opera]\"){d.addEventListener(\"DOMContentLoaded\",f,false);}else{f();}})(document,window,\\'5678b606294d0b775dec0d8af0d4167c\\',\\'script\\',\\'https://stat.tildacdn.com/js/tildasimplestat-0.1.min.js\\');</script> <script src=\"js/custom.js\"></script> </body></html>'"
      ]
     },
     "execution_count": 2,
     "metadata": {},
     "output_type": "execute_result"
    }
   ],
   "source": [
    "req_text"
   ]
  },
  {
   "cell_type": "code",
   "execution_count": 4,
   "metadata": {},
   "outputs": [],
   "source": [
    "import re"
   ]
  },
  {
   "cell_type": "code",
   "execution_count": 5,
   "metadata": {
    "scrolled": true
   },
   "outputs": [
    {
     "name": "stdout",
     "output_type": "stream",
     "text": [
      "['Kerrygold Irish Butter with Canola Oil', 'Land O Lakes Less Sodium Butter with Canola Oil']\n"
     ]
    }
   ],
   "source": [
    "print(re.findall('[A-z ]+Butter[ A-z]+', req_text))"
   ]
  },
  {
   "cell_type": "code",
   "execution_count": 7,
   "metadata": {},
   "outputs": [
    {
     "name": "stdout",
     "output_type": "stream",
     "text": [
      "['Kerrygold Irish Butter', 'Danish Creamery Unsalted European Style Butter', 'Kelapo Ghee Clarified Butter', 'Land O Lakes Less Sodium Butter']\n"
     ]
    }
   ],
   "source": [
    "print(re.findall('[A-z ]+Butter', req_text))"
   ]
  },
  {
   "cell_type": "code",
   "execution_count": 8,
   "metadata": {},
   "outputs": [
    {
     "name": "stdout",
     "output_type": "stream",
     "text": [
      "['Butter with Canola Oil', 'Butter with Canola Oil']\n"
     ]
    }
   ],
   "source": [
    "print(re.findall('Butter[A-z ]+', req_text))"
   ]
  },
  {
   "cell_type": "code",
   "execution_count": 9,
   "metadata": {},
   "outputs": [
    {
     "name": "stdout",
     "output_type": "stream",
     "text": [
      "['Kerrygold Irish Butter with Canola Oil', 'Danish Creamery Unsalted European Style Butter', 'Kelapo Ghee Clarified Butter', 'Land O Lakes Less Sodium Butter with Canola Oil']\n"
     ]
    }
   ],
   "source": [
    "print(re.findall('[A-z ]+Butter[ A-z]+|[A-z ]+Butter|Butter[A-z ]+', req_text))"
   ]
  },
  {
   "cell_type": "code",
   "execution_count": 18,
   "metadata": {},
   "outputs": [],
   "source": [
    "found_products = re.findall('Horizon[A-z \\d\\-%]+', req_text)"
   ]
  },
  {
   "cell_type": "code",
   "execution_count": 38,
   "metadata": {},
   "outputs": [
    {
     "name": "stdout",
     "output_type": "stream",
     "text": [
      "4\n"
     ]
    }
   ],
   "source": [
    "print(len(found_products))"
   ]
  },
  {
   "cell_type": "code",
   "execution_count": 37,
   "metadata": {},
   "outputs": [
    {
     "data": {
      "text/plain": [
       "['Horizon Organic DHA Omega-3 Chocolate Lowfat Milk',\n",
       " 'Horizon Organic Whole Milk',\n",
       " 'Horizon Organic DHA Omega-3 Vanilla Lowfat Milk',\n",
       " 'Horizon Organic DHA Omega-3 2% Reduced Fat Milk']"
      ]
     },
     "execution_count": 37,
     "metadata": {},
     "output_type": "execute_result"
    }
   ],
   "source": [
    "found_products"
   ]
  },
  {
   "cell_type": "code",
   "execution_count": 21,
   "metadata": {},
   "outputs": [],
   "source": [
    "found_products = re.findall('Horizon[ \\w\\-%]+', req_text)"
   ]
  },
  {
   "cell_type": "code",
   "execution_count": 36,
   "metadata": {},
   "outputs": [],
   "source": [
    "found_products = re.findall('Horizon[ A-z\\d\\-%]*', req_text)"
   ]
  },
  {
   "cell_type": "code",
   "execution_count": null,
   "metadata": {},
   "outputs": [],
   "source": []
  },
  {
   "cell_type": "code",
   "execution_count": null,
   "metadata": {},
   "outputs": [],
   "source": []
  },
  {
   "cell_type": "markdown",
   "metadata": {},
   "source": [
    "### <font color=blue>HTML Parsing</font>"
   ]
  },
  {
   "cell_type": "code",
   "execution_count": 39,
   "metadata": {},
   "outputs": [],
   "source": [
    "from bs4 import BeautifulSoup"
   ]
  },
  {
   "cell_type": "code",
   "execution_count": 41,
   "metadata": {},
   "outputs": [],
   "source": [
    "soup=BeautifulSoup(req_text, 'lxml')"
   ]
  },
  {
   "cell_type": "code",
   "execution_count": 45,
   "metadata": {},
   "outputs": [
    {
     "name": "stdout",
     "output_type": "stream",
     "text": [
      "<title>Dairyland Store</title>\n"
     ]
    }
   ],
   "source": [
    "title=soup.find(\"title\")\n",
    "print(title)"
   ]
  },
  {
   "cell_type": "code",
   "execution_count": 46,
   "metadata": {},
   "outputs": [
    {
     "data": {
      "text/plain": [
       "'Dairyland Store'"
      ]
     },
     "execution_count": 46,
     "metadata": {},
     "output_type": "execute_result"
    }
   ],
   "source": [
    "title.text"
   ]
  },
  {
   "cell_type": "code",
   "execution_count": 47,
   "metadata": {},
   "outputs": [
    {
     "name": "stdout",
     "output_type": "stream",
     "text": [
      "[<p class=\"t-form__errorbox-item js-rule-error js-rule-error-all\"></p>, <p class=\"t-form__errorbox-item js-rule-error js-rule-error-req\"></p>, <p class=\"t-form__errorbox-item js-rule-error js-rule-error-email\"></p>, <p class=\"t-form__errorbox-item js-rule-error js-rule-error-name\"></p>, <p class=\"t-form__errorbox-item js-rule-error js-rule-error-phone\"></p>, <p class=\"t-form__errorbox-item js-rule-error js-rule-error-minlength\"></p>, <p class=\"t-form__errorbox-item js-rule-error js-rule-error-string\"></p>, <p class=\"t-form__errorbox-item js-rule-error js-rule-error-all\"></p>, <p class=\"t-form__errorbox-item js-rule-error js-rule-error-req\"></p>, <p class=\"t-form__errorbox-item js-rule-error js-rule-error-email\"></p>, <p class=\"t-form__errorbox-item js-rule-error js-rule-error-name\"></p>, <p class=\"t-form__errorbox-item js-rule-error js-rule-error-phone\"></p>, <p class=\"t-form__errorbox-item js-rule-error js-rule-error-minlength\"></p>, <p class=\"t-form__errorbox-item js-rule-error js-rule-error-string\"></p>]\n"
     ]
    }
   ],
   "source": [
    "paragraph=soup.find_all('p') # reminder: p stands for paragraph, the text between <p> and </p> tags\n",
    "print(paragraph)"
   ]
  },
  {
   "cell_type": "code",
   "execution_count": 49,
   "metadata": {
    "collapsed": true
   },
   "outputs": [
    {
     "name": "stdout",
     "output_type": "stream",
     "text": [
      "\n",
      "\n",
      "\n",
      "\n",
      "\n",
      "\n",
      "\n",
      "\n",
      "\n",
      "\n",
      "\n",
      "\n",
      "\n",
      "\n"
     ]
    }
   ],
   "source": [
    "for paragraph in soup.find_all('p'):\n",
    "    print(paragraph.text)"
   ]
  },
  {
   "cell_type": "code",
   "execution_count": 51,
   "metadata": {},
   "outputs": [],
   "source": [
    "import requests\n",
    "URL = 'https://code.s3.yandex.net/learning-materials/data-analyst/en/most_famous_shipwrecks.html'\n",
    "req = requests.get(URL)"
   ]
  },
  {
   "cell_type": "code",
   "execution_count": 52,
   "metadata": {},
   "outputs": [],
   "source": [
    "soup=BeautifulSoup(req.text, 'lxml')"
   ]
  },
  {
   "cell_type": "code",
   "execution_count": 53,
   "metadata": {},
   "outputs": [
    {
     "name": "stdout",
     "output_type": "stream",
     "text": [
      "<h2>THE BIGGEST SHIPWRECKS OF THE 20TH CENTURY</h2>\n"
     ]
    }
   ],
   "source": [
    "heading = soup.find('h2')\n",
    "print(heading)"
   ]
  },
  {
   "cell_type": "code",
   "execution_count": 54,
   "metadata": {},
   "outputs": [
    {
     "data": {
      "text/plain": [
       "'THE BIGGEST SHIPWRECKS OF THE 20TH CENTURY'"
      ]
     },
     "execution_count": 54,
     "metadata": {},
     "output_type": "execute_result"
    }
   ],
   "source": [
    "heading.text"
   ]
  },
  {
   "cell_type": "markdown",
   "metadata": {},
   "source": [
    "- You need to pass the attrs parameter a dictionary with attribute names and values. \n",
    "- Here's how an element identified as *\"ten_years_first\"* can be searched for:"
   ]
  },
  {
   "cell_type": "code",
   "execution_count": 55,
   "metadata": {},
   "outputs": [
    {
     "data": {
      "text/plain": [
       "<table border=\"1\" cellpadding=\"5\" id=\"ten_years_first\" width=\"100%\">\n",
       "<tr>\n",
       "<th>Ship's name</th>\n",
       "<th>Shipwreck date</th>\n",
       "<th>Shipwreck location</th>\n",
       "<th>Reason</th>\n",
       "</tr>\n",
       "<tr>\n",
       "<td>General Slocum</td>\n",
       "<td>June 15, 1904</td>\n",
       "<td>East River</td>\n",
       "<td>Human factor</td>\n",
       "</tr>\n",
       "<tr>\n",
       "<td>Camorta</td>\n",
       "<td>May 6, 1902</td>\n",
       "<td>Bay of Bengal</td>\n",
       "<td>Force of nature</td>\n",
       "</tr>\n",
       "<tr>\n",
       "<td>Norge</td>\n",
       "<td>June 28, 1904</td>\n",
       "<td>Atlantic Ocean</td>\n",
       "<td>Human factor</td>\n",
       "</tr>\n",
       "</table>"
      ]
     },
     "execution_count": 55,
     "metadata": {},
     "output_type": "execute_result"
    }
   ],
   "source": [
    "soup.find(\"table\",attrs={\"id\": \"ten_years_first\"})"
   ]
  },
  {
   "cell_type": "code",
   "execution_count": 56,
   "metadata": {},
   "outputs": [
    {
     "name": "stdout",
     "output_type": "stream",
     "text": [
      "<table border=\"1\" cellpadding=\"5\" id=\"ten_years_first\" width=\"100%\">\n",
      "<tr>\n",
      "<th>Ship's name</th>\n",
      "<th>Shipwreck date</th>\n",
      "<th>Shipwreck location</th>\n",
      "<th>Reason</th>\n",
      "</tr>\n",
      "<tr>\n",
      "<td>General Slocum</td>\n",
      "<td>June 15, 1904</td>\n",
      "<td>East River</td>\n",
      "<td>Human factor</td>\n",
      "</tr>\n",
      "<tr>\n",
      "<td>Camorta</td>\n",
      "<td>May 6, 1902</td>\n",
      "<td>Bay of Bengal</td>\n",
      "<td>Force of nature</td>\n",
      "</tr>\n",
      "<tr>\n",
      "<td>Norge</td>\n",
      "<td>June 28, 1904</td>\n",
      "<td>Atlantic Ocean</td>\n",
      "<td>Human factor</td>\n",
      "</tr>\n",
      "</table>\n"
     ]
    }
   ],
   "source": [
    "table = soup.find('table',attrs={\"id\": \"ten_years_first\"})\n",
    "# applying find method to table tag\n",
    "# specifying the attribute of the first table: ten_years_first \n",
    "print(table)"
   ]
  },
  {
   "cell_type": "code",
   "execution_count": 57,
   "metadata": {},
   "outputs": [
    {
     "name": "stdout",
     "output_type": "stream",
     "text": [
      "[\"Ship's name\", 'Shipwreck date', 'Shipwreck location', 'Reason']\n"
     ]
    }
   ],
   "source": [
    "heading_table = [] # List where the names of the columns will be stored\n",
    "for row in table.find_all('th'): # The names of the columns are inside <th> elements, \n",
    "# so we'll find all <th> elements in the table and run them through in a loop\n",
    "        heading_table.append(row.text) # Add the content from the <th> tag to the heading_table list using append() \n",
    "print(heading_table)"
   ]
  },
  {
   "cell_type": "code",
   "execution_count": 58,
   "metadata": {},
   "outputs": [
    {
     "name": "stdout",
     "output_type": "stream",
     "text": [
      "[['General Slocum', 'June 15, 1904', 'East River', 'Human factor'], ['Camorta', 'May 6, 1902', 'Bay of Bengal', 'Force of nature'], ['Norge', 'June 28, 1904', 'Atlantic Ocean', 'Human factor']]\n"
     ]
    }
   ],
   "source": [
    "content=[] # list where the table data will be stored\n",
    "for row in table.find_all('tr'): \n",
    "# Each row is wrapped in a <tr> tag, we need to loop through all the rows\n",
    "    if not row.find_all('th'): \n",
    "# We need this condition to ignore the first row of the table, with headings\n",
    "            content.append([element.text for element in row.find_all('td')])\n",
    "            # Within each row the cell content is wrapped in <td> </td> tags\n",
    "            # We need to loop through all <td> elements, extract the content from the cells, and add it to the list\n",
    "            # Then add each of the lists to the content list\n",
    "print(content)"
   ]
  },
  {
   "cell_type": "code",
   "execution_count": 59,
   "metadata": {},
   "outputs": [
    {
     "data": {
      "text/html": [
       "<div>\n",
       "<style scoped>\n",
       "    .dataframe tbody tr th:only-of-type {\n",
       "        vertical-align: middle;\n",
       "    }\n",
       "\n",
       "    .dataframe tbody tr th {\n",
       "        vertical-align: top;\n",
       "    }\n",
       "\n",
       "    .dataframe thead th {\n",
       "        text-align: right;\n",
       "    }\n",
       "</style>\n",
       "<table border=\"1\" class=\"dataframe\">\n",
       "  <thead>\n",
       "    <tr style=\"text-align: right;\">\n",
       "      <th></th>\n",
       "      <th>Ship's name</th>\n",
       "      <th>Shipwreck date</th>\n",
       "      <th>Shipwreck location</th>\n",
       "      <th>Reason</th>\n",
       "    </tr>\n",
       "  </thead>\n",
       "  <tbody>\n",
       "    <tr>\n",
       "      <th>0</th>\n",
       "      <td>General Slocum</td>\n",
       "      <td>June 15, 1904</td>\n",
       "      <td>East River</td>\n",
       "      <td>Human factor</td>\n",
       "    </tr>\n",
       "    <tr>\n",
       "      <th>1</th>\n",
       "      <td>Camorta</td>\n",
       "      <td>May 6, 1902</td>\n",
       "      <td>Bay of Bengal</td>\n",
       "      <td>Force of nature</td>\n",
       "    </tr>\n",
       "    <tr>\n",
       "      <th>2</th>\n",
       "      <td>Norge</td>\n",
       "      <td>June 28, 1904</td>\n",
       "      <td>Atlantic Ocean</td>\n",
       "      <td>Human factor</td>\n",
       "    </tr>\n",
       "  </tbody>\n",
       "</table>\n",
       "</div>"
      ],
      "text/plain": [
       "      Ship's name Shipwreck date Shipwreck location           Reason\n",
       "0  General Slocum  June 15, 1904         East River     Human factor\n",
       "1         Camorta    May 6, 1902      Bay of Bengal  Force of nature\n",
       "2           Norge  June 28, 1904     Atlantic Ocean     Human factor"
      ]
     },
     "execution_count": 59,
     "metadata": {},
     "output_type": "execute_result"
    }
   ],
   "source": [
    "import pandas as pd\n",
    "shipwrecks = pd.DataFrame(content, columns=heading_table) \n",
    "# pass two-dimensional content list as data and heading_table as headings\n",
    "shipwrecks.head()"
   ]
  },
  {
   "cell_type": "code",
   "execution_count": 81,
   "metadata": {},
   "outputs": [],
   "source": [
    "URL='https://store.data-analyst.praktikum-services.ru/en/'\n",
    "req = requests.get(URL) # GET-request\n",
    "soup = BeautifulSoup(req.text, 'lxml')\n",
    "name_products=[] # List where product names are stored\n",
    "# create a loop that runs through all <div> elements where the value of the class attribute is 't754__title t-name t-name_md js-product-name'\n",
    "table = soup.find_all('div', attrs={'class': 't754__title t-name t-name_md js-product-name'})\n"
   ]
  },
  {
   "cell_type": "code",
   "execution_count": 82,
   "metadata": {},
   "outputs": [
    {
     "name": "stdout",
     "output_type": "stream",
     "text": [
      "['Dairy Pure Whole Milk, 1 gal', 'Fairlife Whole Milk, 52 oz', 'Nestle Nesquik Chocolate Lowfat Milk, 16 pk', 'Moo-Moo Select Ingredients Fat Free Milk, 1 qt', 'Moo-Moo Select Ingredients Fat Free Milk, 1 gal', 'Silk Unsweetened Coconut Milk, 1/2 gal', 'Fairlife Fat Free Milk, 52 oz', 'Horizon Organic DHA Omega-3 Chocolate Lowfat Milk, 12 pk', 'Yoo-hoo Chocolate Drink, 3 pk', 'Moo-Moo Select Ingredients Reduced Fat 2% Milk, 1/2 gal', 'Borden Whole Milk, 1 gal', 'Caravelle Chaudoc Coconut Milk, 14 oz', 'Horizon Organic Whole Milk, 1/2 gal', 'Nesquik Strawberry Lowfat Milk, 8 oz', 'Nesquik Vanilla Lowfat Milk, 14 oz', 'Moo-Moo Select Ingredients Low Fat 1% Milk, 1 gal', 'Polar Premium Organic Coconut Milk, 13.5 oz', 'Borden Dutch Chocolate Milk, 1 pt', 'Borden Dutch Chocolate Milk, 1/2 gal', 'Saco Fat-Free Instant Organic Milk, 3.2 oz', 'Hill Country Fare Reduced Fat 2% Milk, 1 gal', 'Horizon Organic DHA Omega-3 Vanilla Lowfat Milk, 6 pk', 'Horizon Organic DHA Omega-3 2% Reduced Fat Milk, 1/2 gal', 'Moo-Moo Chocolate Milk, 1/2 gal', 'A Taste of Thai Lite Coconut Milk, 13.5 oz', 'Meyenberg Goat Milk, 1/2 gal', 'Kerrygold Irish Butter with Canola Oil, 7.5 oz', 'Danish Creamery Unsalted European Style Butter, 8 oz', 'Kelapo Ghee Clarified Butter, 13 oz', 'Land O Lakes Less Sodium Butter with Canola Oil, 15 oz', 'California Farms Organic Sweetened Condensed Milk, 14 oz', 'Lactaid Whole Milk, 96 oz']\n"
     ]
    }
   ],
   "source": [
    "for row in table:\n",
    "    row = row.text.strip('\\n')\n",
    "    name_products.append(row)\n",
    "\n",
    "print(name_products)"
   ]
  },
  {
   "cell_type": "code",
   "execution_count": 77,
   "metadata": {},
   "outputs": [
    {
     "ename": "AttributeError",
     "evalue": "ResultSet object has no attribute 'text'. You're probably treating a list of elements like a single element. Did you call find_all() when you meant to call find()?",
     "output_type": "error",
     "traceback": [
      "\u001b[1;31m---------------------------------------------------------------------------\u001b[0m",
      "\u001b[1;31mAttributeError\u001b[0m                            Traceback (most recent call last)",
      "\u001b[1;32m<ipython-input-77-79721644df06>\u001b[0m in \u001b[0;36m<module>\u001b[1;34m\u001b[0m\n\u001b[1;32m----> 1\u001b[1;33m \u001b[0mtable\u001b[0m\u001b[1;33m.\u001b[0m\u001b[0mtext\u001b[0m\u001b[1;33m\u001b[0m\u001b[1;33m\u001b[0m\u001b[0m\n\u001b[0m",
      "\u001b[1;32mC:\\ProgramData\\Anaconda3\\lib\\site-packages\\bs4\\element.py\u001b[0m in \u001b[0;36m__getattr__\u001b[1;34m(self, key)\u001b[0m\n\u001b[0;32m   2079\u001b[0m         \u001b[1;34m\"\"\"Raise a helpful exception to explain a common code fix.\"\"\"\u001b[0m\u001b[1;33m\u001b[0m\u001b[1;33m\u001b[0m\u001b[0m\n\u001b[0;32m   2080\u001b[0m         raise AttributeError(\n\u001b[1;32m-> 2081\u001b[1;33m             \u001b[1;34m\"ResultSet object has no attribute '%s'. You're probably treating a list of elements like a single element. Did you call find_all() when you meant to call find()?\"\u001b[0m \u001b[1;33m%\u001b[0m \u001b[0mkey\u001b[0m\u001b[1;33m\u001b[0m\u001b[1;33m\u001b[0m\u001b[0m\n\u001b[0m\u001b[0;32m   2082\u001b[0m         )\n",
      "\u001b[1;31mAttributeError\u001b[0m: ResultSet object has no attribute 'text'. You're probably treating a list of elements like a single element. Did you call find_all() when you meant to call find()?"
     ]
    }
   ],
   "source": [
    "table.text"
   ]
  },
  {
   "cell_type": "code",
   "execution_count": 74,
   "metadata": {},
   "outputs": [],
   "source": [
    "table = soup.find_all('div', attrs={'class': 't754__title t-name t-name_md js-product-name'})\n"
   ]
  },
  {
   "cell_type": "code",
   "execution_count": 75,
   "metadata": {},
   "outputs": [
    {
     "data": {
      "text/plain": [
       "[<div class=\"t754__title t-name t-name_md js-product-name\" field=\"li_title__1500469909554\" style=\"font-size:20px;font-weight:400;\">Dairy Pure Whole Milk, 1 gal</div>,\n",
       " <div class=\"t754__title t-name t-name_md js-product-name\" field=\"li_title__1498486363994\" style=\"font-size:20px;font-weight:400;\">Fairlife Whole Milk, 52 oz</div>,\n",
       " <div class=\"t754__title t-name t-name_md js-product-name\" field=\"li_title__1500469907722\" style=\"font-size:20px;font-weight:400;\">Nestle Nesquik Chocolate Lowfat Milk, 16 pk</div>,\n",
       " <div class=\"t754__title t-name t-name_md js-product-name\" field=\"li_title__1500469911302\" style=\"font-size:20px;font-weight:400;\">Moo-Moo Select Ingredients Fat Free Milk, 1 qt</div>,\n",
       " <div class=\"t754__title t-name t-name_md js-product-name\" field=\"li_title__1498486301712\" style=\"font-size:20px;font-weight:400;\">Moo-Moo Select Ingredients Fat Free Milk, 1 gal</div>,\n",
       " <div class=\"t754__title t-name t-name_md js-product-name\" field=\"li_title__1500470241687\" style=\"font-size:20px;font-weight:400;\">Silk Unsweetened Coconut Milk, 1/2 gal</div>,\n",
       " <div class=\"t754__title t-name t-name_md js-product-name\" field=\"li_title__1500470243820\" style=\"font-size:20px;font-weight:400;\">Fairlife Fat Free Milk, 52 oz</div>,\n",
       " <div class=\"t754__title t-name t-name_md js-product-name\" field=\"li_title__1497456130776\" style=\"font-size:20px;font-weight:400;\">Horizon Organic DHA Omega-3 Chocolate Lowfat Milk, 12 pk<br/></div>,\n",
       " <div class=\"t754__title t-name t-name_md js-product-name\" field=\"li_title__1500470245901\" style=\"font-size:20px;font-weight:400;\">Yoo-hoo Chocolate Drink, 3 pk</div>,\n",
       " <div class=\"t754__title t-name t-name_md js-product-name\" field=\"li_title__1564953618764\" style=\"font-size:20px;font-weight:400;\">Moo-Moo Select Ingredients Reduced Fat 2% Milk, 1/2 gal</div>,\n",
       " <div class=\"t754__title t-name t-name_md js-product-name\" field=\"li_title__1564953633175\" style=\"font-size:20px;font-weight:400;\">Borden Whole Milk, 1 gal</div>,\n",
       " <div class=\"t754__title t-name t-name_md js-product-name\" field=\"li_title__1564953646913\" style=\"font-size:20px;font-weight:400;\">Caravelle Chaudoc Coconut Milk, 14 oz</div>,\n",
       " <div class=\"t754__title t-name t-name_md js-product-name\" field=\"li_title__1564953755195\" style=\"font-size:20px;font-weight:400;\">Horizon Organic Whole Milk, 1/2 gal</div>,\n",
       " <div class=\"t754__title t-name t-name_md js-product-name\" field=\"li_title__1564953773056\" style=\"font-size:20px;font-weight:400;\">Nesquik Strawberry Lowfat Milk, 8 oz</div>,\n",
       " <div class=\"t754__title t-name t-name_md js-product-name\" field=\"li_title__1564953783763\" style=\"font-size:20px;font-weight:400;\">Nesquik Vanilla Lowfat Milk, 14 oz</div>,\n",
       " <div class=\"t754__title t-name t-name_md js-product-name\" field=\"li_title__1564953794916\" style=\"font-size:20px;font-weight:400;\">Moo-Moo Select Ingredients Low Fat 1% Milk, 1 gal</div>,\n",
       " <div class=\"t754__title t-name t-name_md js-product-name\" field=\"li_title__1564953805255\" style=\"font-size:20px;font-weight:400;\">Polar Premium Organic Coconut Milk, 13.5 oz</div>,\n",
       " <div class=\"t754__title t-name t-name_md js-product-name\" field=\"li_title__1564953814868\" style=\"font-size:20px;font-weight:400;\">Borden Dutch Chocolate Milk, 1 pt</div>,\n",
       " <div class=\"t754__title t-name t-name_md js-product-name\" field=\"li_title__1564953825617\" style=\"font-size:20px;font-weight:400;\">Borden Dutch Chocolate Milk, 1/2 gal</div>,\n",
       " <div class=\"t754__title t-name t-name_md js-product-name\" field=\"li_title__1564953837577\" style=\"font-size:20px;font-weight:400;\">Saco Fat-Free Instant Organic Milk, 3.2 oz</div>,\n",
       " <div class=\"t754__title t-name t-name_md js-product-name\" field=\"li_title__1564953847153\" style=\"font-size:20px;font-weight:400;\">Hill Country Fare Reduced Fat 2% Milk, 1 gal</div>,\n",
       " <div class=\"t754__title t-name t-name_md js-product-name\" field=\"li_title__1564953861446\" style=\"font-size:20px;font-weight:400;\">Horizon Organic DHA Omega-3 Vanilla Lowfat Milk, 6 pk</div>,\n",
       " <div class=\"t754__title t-name t-name_md js-product-name\" field=\"li_title__1564953871951\" style=\"font-size:20px;font-weight:400;\">Horizon Organic DHA Omega-3 2% Reduced Fat Milk, 1/2 gal</div>,\n",
       " <div class=\"t754__title t-name t-name_md js-product-name\" field=\"li_title__1564953885938\" style=\"font-size:20px;font-weight:400;\">Moo-Moo Chocolate Milk, 1/2 gal</div>,\n",
       " <div class=\"t754__title t-name t-name_md js-product-name\" field=\"li_title__1564953897697\" style=\"font-size:20px;font-weight:400;\">A Taste of Thai Lite Coconut Milk, 13.5 oz</div>,\n",
       " <div class=\"t754__title t-name t-name_md js-product-name\" field=\"li_title__1564953909173\" style=\"font-size:20px;font-weight:400;\">Meyenberg Goat Milk, 1/2 gal</div>,\n",
       " <div class=\"t754__title t-name t-name_md js-product-name\" field=\"li_title__1564953922970\" style=\"font-size:20px;font-weight:400;\">Kerrygold Irish Butter with Canola Oil, 7.5 oz</div>,\n",
       " <div class=\"t754__title t-name t-name_md js-product-name\" field=\"li_title__1564953937739\" style=\"font-size:20px;font-weight:400;\">Danish Creamery Unsalted European Style Butter, 8 oz</div>,\n",
       " <div class=\"t754__title t-name t-name_md js-product-name\" field=\"li_title__1564953954683\" style=\"font-size:20px;font-weight:400;\">Kelapo Ghee Clarified Butter, 13 oz</div>,\n",
       " <div class=\"t754__title t-name t-name_md js-product-name\" field=\"li_title__1564953966182\" style=\"font-size:20px;font-weight:400;\">Land O Lakes Less Sodium Butter with Canola Oil, 15 oz</div>,\n",
       " <div class=\"t754__title t-name t-name_md js-product-name\" field=\"li_title__1564953976534\" style=\"font-size:20px;font-weight:400;\">California Farms Organic Sweetened Condensed Milk, 14 oz</div>,\n",
       " <div class=\"t754__title t-name t-name_md js-product-name\" field=\"li_title__1564954000269\" style=\"font-size:20px;font-weight:400;\">Lactaid Whole Milk, 96 oz</div>]"
      ]
     },
     "execution_count": 75,
     "metadata": {},
     "output_type": "execute_result"
    }
   ],
   "source": [
    "table"
   ]
  },
  {
   "cell_type": "code",
   "execution_count": 84,
   "metadata": {},
   "outputs": [
    {
     "name": "stdout",
     "output_type": "stream",
     "text": [
      "['$4.23', '$3.11', '$11.54', ' $0.92', ' $2.30', ' $2.99', ' $3.13', ' $11.94', ' $1', ' $1.33', ' $3.53', ' $1.96', ' $3.88', ' $0.92', ' $1.34', ' $2.24', ' $2.94', ' $1.56', ' $2.70', ' $2.48', ' $2.32', ' $6.36', ' $4.43', ' $2.70', ' $2.29', ' $7.80', ' $2.80', ' $2.97', ' $8.82', ' $3.87', ' $3.49', ' $5.47']\n"
     ]
    }
   ],
   "source": [
    "price = []\n",
    "for row in soup.find_all('div', attrs ={'class':'t754__price-value js-product-price'}):\n",
    "    price.append(row.text)\n",
    "print(price)"
   ]
  },
  {
   "cell_type": "code",
   "execution_count": 87,
   "metadata": {},
   "outputs": [],
   "source": [
    "products_data = pd.DataFrame?"
   ]
  },
  {
   "cell_type": "code",
   "execution_count": 88,
   "metadata": {},
   "outputs": [],
   "source": [
    "products_data = pd.DataFrame({'name': name_products, 'price': price})"
   ]
  },
  {
   "cell_type": "code",
   "execution_count": 89,
   "metadata": {},
   "outputs": [
    {
     "data": {
      "text/html": [
       "<div>\n",
       "<style scoped>\n",
       "    .dataframe tbody tr th:only-of-type {\n",
       "        vertical-align: middle;\n",
       "    }\n",
       "\n",
       "    .dataframe tbody tr th {\n",
       "        vertical-align: top;\n",
       "    }\n",
       "\n",
       "    .dataframe thead th {\n",
       "        text-align: right;\n",
       "    }\n",
       "</style>\n",
       "<table border=\"1\" class=\"dataframe\">\n",
       "  <thead>\n",
       "    <tr style=\"text-align: right;\">\n",
       "      <th></th>\n",
       "      <th>name</th>\n",
       "      <th>price</th>\n",
       "    </tr>\n",
       "  </thead>\n",
       "  <tbody>\n",
       "    <tr>\n",
       "      <th>0</th>\n",
       "      <td>Dairy Pure Whole Milk, 1 gal</td>\n",
       "      <td>$4.23</td>\n",
       "    </tr>\n",
       "    <tr>\n",
       "      <th>1</th>\n",
       "      <td>Fairlife Whole Milk, 52 oz</td>\n",
       "      <td>$3.11</td>\n",
       "    </tr>\n",
       "    <tr>\n",
       "      <th>2</th>\n",
       "      <td>Nestle Nesquik Chocolate Lowfat Milk, 16 pk</td>\n",
       "      <td>$11.54</td>\n",
       "    </tr>\n",
       "    <tr>\n",
       "      <th>3</th>\n",
       "      <td>Moo-Moo Select Ingredients Fat Free Milk, 1 qt</td>\n",
       "      <td>$0.92</td>\n",
       "    </tr>\n",
       "    <tr>\n",
       "      <th>4</th>\n",
       "      <td>Moo-Moo Select Ingredients Fat Free Milk, 1 gal</td>\n",
       "      <td>$2.30</td>\n",
       "    </tr>\n",
       "  </tbody>\n",
       "</table>\n",
       "</div>"
      ],
      "text/plain": [
       "                                              name   price\n",
       "0                     Dairy Pure Whole Milk, 1 gal   $4.23\n",
       "1                       Fairlife Whole Milk, 52 oz   $3.11\n",
       "2      Nestle Nesquik Chocolate Lowfat Milk, 16 pk  $11.54\n",
       "3   Moo-Moo Select Ingredients Fat Free Milk, 1 qt   $0.92\n",
       "4  Moo-Moo Select Ingredients Fat Free Milk, 1 gal   $2.30"
      ]
     },
     "execution_count": 89,
     "metadata": {},
     "output_type": "execute_result"
    }
   ],
   "source": [
    "products_data.head()"
   ]
  },
  {
   "cell_type": "markdown",
   "metadata": {},
   "source": [
    "<font color=green>Beware of analysts parsing websites.</font>"
   ]
  },
  {
   "cell_type": "markdown",
   "metadata": {},
   "source": [
    "### <font color=blue>API</font>"
   ]
  },
  {
   "cell_type": "code",
   "execution_count": 90,
   "metadata": {},
   "outputs": [],
   "source": [
    "URL = 'https://yandex.com/'\n",
    "PARAM={\"page\": \"4\"}\n",
    "req = requests.get(url = URL, params = PARAM)"
   ]
  },
  {
   "cell_type": "code",
   "execution_count": 93,
   "metadata": {},
   "outputs": [
    {
     "name": "stdout",
     "output_type": "stream",
     "text": [
      "{\"now\": 1566307174, \"now_dt\": \"2019-08-20T13:19:34.769Z\", \"info\": {\"f\": true, \"n\": true, \"nr\": true, \"ns\": true, \"nsr\": true, \"p\": true, \"lat\": 55.753215, \"lon\": 37.622504, \"geoid\": 213, \"slug\": \"moscow\", \"zoom\": 10, \"tzinfo\": {\"name\": \"Europe/Moscow\", \"abbr\": \"MSK\", \"offset\": 10800, \"dst\": false}, \"def_pressure_mm\": 745, \"def_pressure_pa\": 994, \"_h\": false, \"url\": \"https://yandex.ru/pogoda/moscow\"}, \"fact\": {\"temp\": 28, \"feels_like\": 28, \"icon\": \"bkn_d\", \"condition\": \"cloudy\", \"wind_speed\": 1, \"wind_gust\": 6.9, \"wind_dir\": \"w\", \"pressure_mm\": 752, \"pressure_pa\": 1003, \"humidity\": 39, \"uv_index\": 2, \"soil_temp\": 24, \"soil_moisture\": 0.36, \"daytime\": \"d\", \"polar\": false, \"season\": \"summer\", \"obs_time\": 1566306726, \"accum_prec\": {\"1\": 0, \"3\": 0, \"7\": 0}, \"source\": \"station\", \"_mode\": \"nearest(16:tp)\"}, \"forecasts\": [{\"date\": \"2019-08-20\", \"date_ts\": 1566248400, \"week\": 34, \"sunrise\": \"05:10\", \"sunset\": \"19:54\", \"rise_begin\": \"04:28\", \"set_end\": \"20:36\", \"moon_code\": 2, \"moon_text\": \"decreasing-moon\", \"parts\": {\"night\": {\"_source\": \"0,1,2,3,4,5\", \"temp_min\": 14, \"temp_max\": 16, \"temp_avg\": 15, \"feels_like\": 15, \"icon\": \"skc_n\", \"condition\": \"clear\", \"daytime\": \"n\", \"polar\": false, \"wind_speed\": 1.4, \"wind_gust\": 3.5, \"wind_dir\": \"sw\", \"pressure_mm\": 751, \"pressure_pa\": 1002, \"humidity\": 94, \"uv_index\": 0, \"soil_temp\": 15, \"soil_moisture\": 0.38, \"prec_mm\": 0, \"prec_period\": 360, \"prec_prob\": 0}, \"morning\": {\"_source\": \"6,7,8,9,10,11\", \"temp_min\": 15, \"temp_max\": 24, \"temp_avg\": 20, \"feels_like\": 21, \"icon\": \"skc_d\", \"condition\": \"clear\", \"daytime\": \"d\", \"polar\": false, \"wind_speed\": 2.4, \"wind_gust\": 5.2, \"wind_dir\": \"sw\", \"pressure_mm\": 752, \"pressure_pa\": 1003, \"humidity\": 76, \"uv_index\": 4, \"soil_temp\": 16, \"soil_moisture\": 0.37, \"prec_mm\": 0, \"prec_period\": 360, \"prec_prob\": 0}, \"day\": {\"_source\": \"12,13,14,15,16,17\", \"temp_min\": 26, \"temp_max\": 29, \"temp_avg\": 28, \"feels_like\": 30, \"icon\": \"skc_d\", \"condition\": \"clear\", \"daytime\": \"d\", \"polar\": false, \"wind_speed\": 2.8, \"wind_gust\": 6.9, \"wind_dir\": \"sw\", \"pressure_mm\": 752, \"pressure_pa\": 1003, \"humidity\": 55, \"uv_index\": 5, \"soil_temp\": 23, \"soil_moisture\": 0.36, \"prec_mm\": 0, \"prec_period\": 360, \"prec_prob\": 0}, \"evening\": {\"_source\": \"18,19,20,21,22,23\", \"temp_min\": 20, \"temp_max\": 27, \"temp_avg\": 24, \"feels_like\": 26, \"icon\": \"bkn_n\", \"condition\": \"cloudy\", \"daytime\": \"n\", \"polar\": false, \"wind_speed\": 2, \"wind_gust\": 4.8, \"wind_dir\": \"sw\", \"pressure_mm\": 752, \"pressure_pa\": 1003, \"humidity\": 74, \"uv_index\": 0, \"soil_temp\": 22, \"soil_moisture\": 0.35, \"prec_mm\": 0, \"prec_period\": 360, \"prec_prob\": 0}, \"day_short\": {\"_source\": \"8,9,10,11,12,13,14,15,16,17,18,19,20\", \"temp\": 29, \"temp_min\": 18, \"feels_like\": 32, \"icon\": \"skc_d\", \"condition\": \"clear\", \"wind_speed\": 2.8, \"wind_gust\": 6.9, \"wind_dir\": \"sw\", \"pressure_mm\": 752, \"pressure_pa\": 1003, \"humidity\": 61, \"uv_index\": 5, \"soil_temp\": 22, \"soil_moisture\": 0.36, \"prec_mm\": 0, \"prec_prob\": 0}, \"night_short\": {\"temp\": 14, \"feels_like\": 14, \"icon\": \"skc_n\", \"condition\": \"clear\", \"wind_speed\": 1.4, \"wind_gust\": 3.5, \"wind_dir\": \"sw\", \"pressure_mm\": 751, \"pressure_pa\": 1002, \"humidity\": 94, \"uv_index\": 0, \"soil_temp\": 15, \"soil_moisture\": 0.38, \"prec_mm\": 0, \"prec_prob\": 0}}, \"hours\": [{\"hour\": \"0\", \"hour_ts\": 1566248400, \"temp\": 16, \"feels_like\": 17, \"icon\": \"skc_n\", \"condition\": \"clear\", \"wind_speed\": 1, \"wind_gust\": 3.1, \"wind_dir\": \"sw\", \"pressure_mm\": 751, \"pressure_pa\": 1002, \"humidity\": 92, \"uv_index\": 0, \"soil_temp\": 15, \"soil_moisture\": 0.38, \"prec_mm\": 0, \"prec_period\": 60, \"prec_prob\": 0, \"prec_type\": 0, \"prec_strength\": 0, \"cloudness\": 0}, {\"hour\": \"1\", \"hour_ts\": 1566252000, \"temp\": 15, \"feels_like\": 16, \"icon\": \"skc_n\", \"condition\": \"clear\", \"wind_speed\": 1.1, \"wind_gust\": 3.1, \"wind_dir\": \"sw\", \"pressure_mm\": 751, \"pressure_pa\": 1002, \"humidity\": 94, \"uv_index\": 0, \"soil_temp\": 15, \"soil_moisture\": 0.38, \"prec_mm\": 0, \"prec_period\": 60, \"prec_prob\": 0, \"prec_type\": 0, \"prec_strength\": 0, \"cloudness\": 0}, {\"hour\": \"2\", \"hour_ts\": 1566255600, \"temp\": 15, \"feels_like\": 16, \"icon\": \"skc_n\", \"condition\": \"clear\", \"wind_speed\": 1.1, \"wind_gust\": 3.1, \"wind_dir\": \"sw\", \"pressure_mm\": 751, \"pressure_pa\": 1002, \"humidity\": 95, \"uv_index\": 0, \"soil_temp\": 15, \"soil_moisture\": 0.38, \"prec_mm\": 0, \"prec_period\": 60, \"prec_prob\": 0, \"prec_type\": 0, \"prec_strength\": 0, \"cloudness\": 0}, {\"hour\": \"3\", \"hour_ts\": 1566259200, \"temp\": 14, \"feels_like\": 14, \"icon\": \"skc_n\", \"condition\": \"clear\", \"wind_speed\": 1.2, \"wind_gust\": 3.5, \"wind_dir\": \"s\", \"pressure_mm\": 751, \"pressure_pa\": 1002, \"humidity\": 95, \"uv_index\": 0, \"soil_temp\": 14, \"soil_moisture\": 0.37, \"prec_mm\": 0, \"prec_period\": 60, \"prec_prob\": 0, \"prec_type\": 0, \"prec_strength\": 0, \"cloudness\": 0}, {\"hour\": \"4\", \"hour_ts\": 1566262800, \"temp\": 14, \"feels_like\": 14, \"icon\": \"skc_n\", \"condition\": \"clear\", \"wind_speed\": 1.3, \"wind_gust\": 3.5, \"wind_dir\": \"s\", \"pressure_mm\": 751, \"pressure_pa\": 1002, \"humidity\": 94, \"uv_index\": 0, \"soil_temp\": 14, \"soil_moisture\": 0.37, \"prec_mm\": 0, \"prec_period\": 60, \"prec_prob\": 0, \"prec_type\": 0, \"prec_strength\": 0, \"cloudness\": 0}, {\"hour\": \"5\", \"hour_ts\": 1566266400, \"temp\": 14, \"feels_like\": 14, \"icon\": \"skc_n\", \"condition\": \"clear\", \"wind_speed\": 1.4, \"wind_gust\": 3.5, \"wind_dir\": \"s\", \"pressure_mm\": 751, \"pressure_pa\": 1002, \"humidity\": 94, \"uv_index\": 0, \"soil_temp\": 14, \"soil_moisture\": 0.37, \"prec_mm\": 0, \"prec_period\": 60, \"prec_prob\": 0, \"prec_type\": 0, \"prec_strength\": 0, \"cloudness\": 0}, {\"hour\": \"6\", \"hour_ts\": 1566270000, \"temp\": 15, \"feels_like\": 15, \"icon\": \"skc_d\", \"condition\": \"clear\", \"wind_speed\": 1.3, \"wind_gust\": 3.8, \"wind_dir\": \"sw\", \"pressure_mm\": 752, \"pressure_pa\": 1003, \"humidity\": 94, \"uv_index\": 0, \"soil_temp\": 14, \"soil_moisture\": 0.37, \"prec_mm\": 0, \"prec_period\": 60, \"prec_prob\": 0, \"prec_type\": 0, \"prec_strength\": 0, \"cloudness\": 0}, {\"hour\": \"7\", \"hour_ts\": 1566273600, \"temp\": 16, \"feels_like\": 16, \"icon\": \"skc_d\", \"condition\": \"clear\", \"wind_speed\": 1.5, \"wind_gust\": 3.8, \"wind_dir\": \"sw\", \"pressure_mm\": 751, \"pressure_pa\": 1002, \"humidity\": 87, \"uv_index\": 0, \"soil_temp\": 14, \"soil_moisture\": 0.37, \"prec_mm\": 0, \"prec_period\": 60, \"prec_prob\": 0, \"prec_type\": 0, \"prec_strength\": 0, \"cloudness\": 0}, {\"hour\": \"8\", \"hour_ts\": 1566277200, \"temp\": 18, \"feels_like\": 18, \"icon\": \"skc_d\", \"condition\": \"clear\", \"wind_speed\": 1.8, \"wind_gust\": 3.8, \"wind_dir\": \"sw\", \"pressure_mm\": 752, \"pressure_pa\": 1003, \"humidity\": 80, \"uv_index\": 1, \"soil_temp\": 14, \"soil_moisture\": 0.37, \"prec_mm\": 0, \"prec_period\": 60, \"prec_prob\": 0, \"prec_type\": 0, \"prec_strength\": 0, \"cloudness\": 0}, {\"hour\": \"9\", \"hour_ts\": 1566280800, \"temp\": 21, \"feels_like\": 22, \"icon\": \"skc_d\", \"condition\": \"clear\", \"wind_speed\": 1.8, \"wind_gust\": 5, \"wind_dir\": \"sw\", \"pressure_mm\": 752, \"pressure_pa\": 1003, \"humidity\": 71, \"uv_index\": 2, \"soil_temp\": 17, \"soil_moisture\": 0.37, \"prec_mm\": 0, \"prec_period\": 60, \"prec_prob\": 0, \"prec_type\": 0, \"prec_strength\": 0, \"cloudness\": 0}, {\"hour\": \"10\", \"hour_ts\": 1566284400, \"temp\": 23, \"feels_like\": 24, \"icon\": \"skc_d\", \"condition\": \"clear\", \"wind_speed\": 2.4, \"wind_gust\": 5.2, \"wind_dir\": \"sw\", \"pressure_mm\": 752, \"pressure_pa\": 1003, \"humidity\": 65, \"uv_index\": 3, \"soil_temp\": 17, \"soil_moisture\": 0.37, \"prec_mm\": 0, \"prec_period\": 60, \"prec_prob\": 0, \"prec_type\": 0, \"prec_strength\": 0, \"cloudness\": 0}, {\"hour\": \"11\", \"hour_ts\": 1566288000, \"temp\": 24, \"feels_like\": 25, \"icon\": \"skc_d\", \"condition\": \"clear\", \"wind_speed\": 2.4, \"wind_gust\": 5.2, \"wind_dir\": \"sw\", \"pressure_mm\": 752, \"pressure_pa\": 1003, \"humidity\": 60, \"uv_index\": 4, \"soil_temp\": 17, \"soil_moisture\": 0.37, \"prec_mm\": 0, \"prec_period\": 60, \"prec_prob\": 0, \"prec_type\": 0, \"prec_strength\": 0, \"cloudness\": 0}, {\"hour\": \"12\", \"hour_ts\": 1566291600, \"temp\": 26, \"feels_like\": 29, \"icon\": \"skc_d\", \"condition\": \"clear\", \"wind_speed\": 1.9, \"wind_gust\": 5.4, \"wind_dir\": \"sw\", \"pressure_mm\": 752, \"pressure_pa\": 1003, \"humidity\": 59, \"uv_index\": 5, \"soil_temp\": 22, \"soil_moisture\": 0.36, \"prec_mm\": 0, \"prec_period\": 60, \"prec_prob\": 0, \"prec_type\": 0, \"prec_strength\": 0, \"cloudness\": 0}, {\"hour\": \"13\", \"hour_ts\": 1566295200, \"temp\": 27, \"feels_like\": 29, \"icon\": \"skc_d\", \"condition\": \"clear\", \"wind_speed\": 2.4, \"wind_gust\": 5.4, \"wind_dir\": \"sw\", \"pressure_mm\": 752, \"pressure_pa\": 1003, \"humidity\": 55, \"uv_index\": 5, \"soil_temp\": 22, \"soil_moisture\": 0.36, \"prec_mm\": 0, \"prec_period\": 60, \"prec_prob\": 0, \"_nowcast\": true, \"prec_type\": 0, \"prec_strength\": 0, \"cloudness\": 0}, {\"hour\": \"14\", \"hour_ts\": 1566298800, \"temp\": 27, \"feels_like\": 29, \"icon\": \"skc_d\", \"condition\": \"clear\", \"wind_speed\": 2.4, \"wind_gust\": 5.4, \"wind_dir\": \"sw\", \"pressure_mm\": 752, \"pressure_pa\": 1003, \"humidity\": 54, \"uv_index\": 4, \"soil_temp\": 22, \"soil_moisture\": 0.36, \"prec_mm\": 0, \"prec_period\": 60, \"prec_prob\": 0, \"_nowcast\": true, \"prec_type\": 0, \"prec_strength\": 0, \"cloudness\": 0}, {\"hour\": \"15\", \"hour_ts\": 1566302400, \"temp\": 29, \"feels_like\": 31, \"icon\": \"skc_d\", \"condition\": \"clear\", \"wind_speed\": 2.1, \"wind_gust\": 6.9, \"wind_dir\": \"sw\", \"pressure_mm\": 751, \"pressure_pa\": 1002, \"humidity\": 51, \"uv_index\": 3, \"soil_temp\": 24, \"soil_moisture\": 0.36, \"prec_mm\": 0, \"prec_period\": 60, \"prec_prob\": 0, \"_nowcast\": true, \"prec_type\": 0, \"prec_strength\": 0, \"cloudness\": 0}, {\"hour\": \"16\", \"hour_ts\": 1566306000, \"temp\": 28, \"feels_like\": 29, \"icon\": \"skc_d\", \"condition\": \"clear\", \"wind_speed\": 2.8, \"wind_gust\": 6.9, \"wind_dir\": \"sw\", \"pressure_mm\": 752, \"pressure_pa\": 1003, \"humidity\": 53, \"uv_index\": 2, \"soil_temp\": 24, \"soil_moisture\": 0.36, \"prec_mm\": 0, \"prec_period\": 60, \"prec_prob\": 0, \"_nowcast\": true, \"prec_type\": 0, \"prec_strength\": 0, \"cloudness\": 0}, {\"hour\": \"17\", \"hour_ts\": 1566309600, \"temp\": 28, \"feels_like\": 29, \"icon\": \"skc_d\", \"condition\": \"clear\", \"wind_speed\": 2.6, \"wind_gust\": 6.9, \"wind_dir\": \"sw\", \"pressure_mm\": 751, \"pressure_pa\": 1002, \"humidity\": 55, \"uv_index\": 1, \"soil_temp\": 24, \"soil_moisture\": 0.36, \"prec_mm\": 0, \"prec_period\": 60, \"prec_prob\": 0, \"_nowcast\": true, \"prec_type\": 0, \"prec_strength\": 0, \"cloudness\": 0}, {\"hour\": \"18\", \"hour_ts\": 1566313200, \"temp\": 27, \"feels_like\": 29, \"icon\": \"bkn_d\", \"condition\": \"cloudy\", \"wind_speed\": 1.8, \"wind_gust\": 4.8, \"wind_dir\": \"sw\", \"pressure_mm\": 752, \"pressure_pa\": 1003, \"humidity\": 58, \"uv_index\": 0, \"soil_temp\": 23, \"soil_moisture\": 0.35, \"prec_mm\": 0, \"prec_period\": 60, \"prec_prob\": 0, \"_nowcast\": true, \"prec_type\": 0, \"prec_strength\": 0, \"cloudness\": 0.5}, {\"hour\": \"19\", \"hour_ts\": 1566316800, \"temp\": 26, \"feels_like\": 28, \"icon\": \"bkn_d\", \"condition\": \"cloudy\", \"wind_speed\": 2, \"wind_gust\": 4.8, \"wind_dir\": \"sw\", \"pressure_mm\": 752, \"pressure_pa\": 1003, \"humidity\": 65, \"uv_index\": 0, \"soil_temp\": 23, \"soil_moisture\": 0.35, \"prec_mm\": 0, \"prec_period\": 60, \"prec_prob\": 0, \"prec_type\": 0, \"prec_strength\": 0, \"cloudness\": 0.5}, {\"hour\": \"20\", \"hour_ts\": 1566320400, \"temp\": 24, \"feels_like\": 26, \"icon\": \"bkn_n\", \"condition\": \"cloudy\", \"wind_speed\": 1.7, \"wind_gust\": 4.8, \"wind_dir\": \"sw\", \"pressure_mm\": 752, \"pressure_pa\": 1003, \"humidity\": 70, \"uv_index\": 0, \"soil_temp\": 23, \"soil_moisture\": 0.35, \"prec_mm\": 0, \"prec_period\": 60, \"prec_prob\": 0, \"prec_type\": 0, \"prec_strength\": 0, \"cloudness\": 0.5}, {\"hour\": \"21\", \"hour_ts\": 1566324000, \"temp\": 21, \"feels_like\": 23, \"icon\": \"bkn_n\", \"condition\": \"cloudy\", \"wind_speed\": 0.8, \"wind_gust\": 2, \"wind_dir\": \"sw\", \"pressure_mm\": 752, \"pressure_pa\": 1003, \"humidity\": 79, \"uv_index\": 0, \"soil_temp\": 20, \"soil_moisture\": 0.35, \"prec_mm\": 0, \"prec_period\": 60, \"prec_prob\": 0, \"prec_type\": 0, \"prec_strength\": 0, \"cloudness\": 0.5}, {\"hour\": \"22\", \"hour_ts\": 1566327600, \"temp\": 20, \"feels_like\": 22, \"icon\": \"bkn_n\", \"condition\": \"cloudy\", \"wind_speed\": 0.9, \"wind_gust\": 2, \"wind_dir\": \"sw\", \"pressure_mm\": 753, \"pressure_pa\": 1004, \"humidity\": 83, \"uv_index\": 0, \"soil_temp\": 20, \"soil_moisture\": 0.35, \"prec_mm\": 0, \"prec_period\": 60, \"prec_prob\": 0, \"prec_type\": 0, \"prec_strength\": 0, \"cloudness\": 0.5}, {\"hour\": \"23\", \"hour_ts\": 1566331200, \"temp\": 20, \"feels_like\": 22, \"icon\": \"bkn_n\", \"condition\": \"cloudy\", \"wind_speed\": 0.9, \"wind_gust\": 2, \"wind_dir\": \"sw\", \"pressure_mm\": 753, \"pressure_pa\": 1004, \"humidity\": 86, \"uv_index\": 0, \"soil_temp\": 20, \"soil_moisture\": 0.35, \"prec_mm\": 0, \"prec_period\": 60, \"prec_prob\": 0, \"prec_type\": 0, \"prec_strength\": 0, \"cloudness\": 0.5}]}, {\"date\": \"2019-08-21\", \"date_ts\": 1566334800, \"week\": 34, \"sunrise\": \"05:12\", \"sunset\": \"19:52\", \"moon_code\": 3, \"moon_text\": \"decreasing-moon\", \"parts\": {\"night\": {\"_source\": \"0,1,2,3,4,5\", \"temp_min\": 18, \"temp_max\": 19, \"temp_avg\": 19, \"feels_like\": 21, \"icon\": \"bkn_n\", \"condition\": \"cloudy\", \"daytime\": \"n\", \"polar\": false, \"wind_speed\": 1.2, \"wind_gust\": 2.7, \"wind_dir\": \"nw\", \"pressure_mm\": 753, \"pressure_pa\": 1004, \"humidity\": 95, \"uv_index\": 0, \"soil_temp\": 18, \"soil_moisture\": 0.35, \"prec_mm\": 0, \"prec_period\": 360, \"prec_prob\": 0}, \"morning\": {\"_source\": \"6,7,8,9,10,11\", \"temp_min\": 18, \"temp_max\": 22, \"temp_avg\": 20, \"feels_like\": 22, \"icon\": \"ovc\", \"condition\": \"overcast\", \"daytime\": \"d\", \"polar\": false, \"wind_speed\": 1.7, \"wind_gust\": 5.3, \"wind_dir\": \"n\", \"pressure_mm\": 754, \"pressure_pa\": 1006, \"humidity\": 85, \"uv_index\": 4, \"soil_temp\": 19, \"soil_moisture\": 0.35, \"prec_mm\": 0, \"prec_period\": 360, \"prec_prob\": 0}, \"day\": {\"_source\": \"12,13,14,15,16,17\", \"temp_min\": 24, \"temp_max\": 25, \"temp_avg\": 25, \"feels_like\": 29, \"icon\": \"bkn_d\", \"condition\": \"cloudy\", \"daytime\": \"d\", \"polar\": false, \"wind_speed\": 1, \"wind_gust\": 3.5, \"wind_dir\": \"ne\", \"pressure_mm\": 754, \"pressure_pa\": 1006, \"humidity\": 65, \"uv_index\": 5, \"soil_temp\": 22, \"soil_moisture\": 0.35, \"prec_mm\": 0, \"prec_period\": 360, \"prec_prob\": 0}, \"evening\": {\"_source\": \"18,19,20,21,22,23\", \"temp_min\": 20, \"temp_max\": 24, \"temp_avg\": 22, \"feels_like\": 24, \"icon\": \"bkn_n\", \"condition\": \"partly-cloudy\", \"daytime\": \"n\", \"polar\": false, \"wind_speed\": 1.2, \"wind_gust\": 2.5, \"wind_dir\": \"se\", \"pressure_mm\": 752, \"pressure_pa\": 1003, \"humidity\": 79, \"uv_index\": 0, \"soil_temp\": 21, \"soil_moisture\": 0.35, \"prec_mm\": 0, \"prec_period\": 360, \"prec_prob\": 0}, \"day_short\": {\"_source\": \"8,9,10,11,12,13,14,15,16,17,18,19,20\", \"temp\": 25, \"temp_min\": 20, \"feels_like\": 29, \"icon\": \"bkn_d\", \"condition\": \"cloudy\", \"wind_speed\": 1.7, \"wind_gust\": 5.3, \"wind_dir\": \"ne\", \"pressure_mm\": 753, \"pressure_pa\": 1004, \"humidity\": 72, \"uv_index\": 5, \"soil_temp\": 21, \"soil_moisture\": 0.35, \"prec_mm\": 0, \"prec_prob\": 0}, \"night_short\": {\"temp\": 18, \"feels_like\": 20, \"icon\": \"bkn_n\", \"condition\": \"cloudy\", \"wind_speed\": 1.2, \"wind_gust\": 2.7, \"wind_dir\": \"nw\", \"pressure_mm\": 753, \"pressure_pa\": 1004, \"humidity\": 95, \"uv_index\": 0, \"soil_temp\": 18, \"soil_moisture\": 0.35, \"prec_mm\": 0, \"prec_prob\": 0}}, \"hours\": [{\"hour\": \"0\", \"hour_ts\": 1566334800, \"temp\": 19, \"feels_like\": 21, \"icon\": \"skc_n\", \"condition\": \"clear\", \"wind_speed\": 0.9, \"wind_gust\": 2.7, \"wind_dir\": \"nw\", \"pressure_mm\": 753, \"pressure_pa\": 1004, \"humidity\": 90, \"uv_index\": 0, \"soil_temp\": 18, \"soil_moisture\": 0.35, \"prec_mm\": 0, \"prec_period\": 60, \"prec_prob\": 0, \"prec_type\": 0, \"prec_strength\": 0, \"cloudness\": 0}, {\"hour\": \"1\", \"hour_ts\": 1566338400, \"temp\": 19, \"feels_like\": 21, \"icon\": \"skc_n\", \"condition\": \"clear\", \"wind_speed\": 1.1, \"wind_gust\": 2.7, \"wind_dir\": \"nw\", \"pressure_mm\": 753, \"pressure_pa\": 1004, \"humidity\": 94, \"uv_index\": 0, \"soil_temp\": 18, \"soil_moisture\": 0.35, \"prec_mm\": 0, \"prec_period\": 60, \"prec_prob\": 0, \"prec_type\": 0, \"prec_strength\": 0, \"cloudness\": 0}, {\"hour\": \"2\", \"hour_ts\": 1566342000, \"temp\": 18, \"feels_like\": 20, \"icon\": \"bkn_n\", \"condition\": \"cloudy\", \"wind_speed\": 1.1, \"wind_gust\": 2.7, \"wind_dir\": \"nw\", \"pressure_mm\": 753, \"pressure_pa\": 1004, \"humidity\": 95, \"uv_index\": 0, \"soil_temp\": 18, \"soil_moisture\": 0.35, \"prec_mm\": 0, \"prec_period\": 60, \"prec_prob\": 0, \"prec_type\": 0, \"prec_strength\": 0, \"cloudness\": 0.5}, {\"hour\": \"3\", \"hour_ts\": 1566345600, \"temp\": 18, \"feels_like\": 20, \"icon\": \"ovc\", \"condition\": \"overcast\", \"wind_speed\": 1, \"wind_gust\": 2.6, \"wind_dir\": \"nw\", \"pressure_mm\": 753, \"pressure_pa\": 1004, \"humidity\": 96, \"uv_index\": 0, \"soil_temp\": 17, \"soil_moisture\": 0.35, \"prec_mm\": 0, \"prec_period\": 60, \"prec_prob\": 0, \"prec_type\": 0, \"prec_strength\": 0, \"cloudness\": 1}, {\"hour\": \"4\", \"hour_ts\": 1566349200, \"temp\": 18, \"feels_like\": 20, \"icon\": \"ovc\", \"condition\": \"overcast\", \"wind_speed\": 1.2, \"wind_gust\": 2.6, \"wind_dir\": \"nw\", \"pressure_mm\": 754, \"pressure_pa\": 1006, \"humidity\": 97, \"uv_index\": 0, \"soil_temp\": 17, \"soil_moisture\": 0.35, \"prec_mm\": 0, \"prec_period\": 60, \"prec_prob\": 0, \"prec_type\": 0, \"prec_strength\": 0, \"cloudness\": 1}, {\"hour\": \"5\", \"hour_ts\": 1566352800, \"temp\": 18, \"feels_like\": 20, \"icon\": \"ovc\", \"condition\": \"overcast\", \"wind_speed\": 1.1, \"wind_gust\": 2.6, \"wind_dir\": \"nw\", \"pressure_mm\": 754, \"pressure_pa\": 1006, \"humidity\": 98, \"uv_index\": 0, \"soil_temp\": 17, \"soil_moisture\": 0.35, \"prec_mm\": 0, \"prec_period\": 60, \"prec_prob\": 0, \"prec_type\": 0, \"prec_strength\": 0, \"cloudness\": 1}, {\"hour\": \"6\", \"hour_ts\": 1566356400, \"temp\": 18, \"feels_like\": 20, \"icon\": \"ovc\", \"condition\": \"overcast\", \"wind_speed\": 1.1, \"wind_gust\": 4, \"wind_dir\": \"n\", \"pressure_mm\": 754, \"pressure_pa\": 1006, \"humidity\": 96, \"uv_index\": 0, \"soil_temp\": 18, \"soil_moisture\": 0.35, \"prec_mm\": 0, \"prec_period\": 60, \"prec_prob\": 0, \"prec_type\": 0, \"prec_strength\": 0, \"cloudness\": 1}, {\"hour\": \"7\", \"hour_ts\": 1566360000, \"temp\": 19, \"feels_like\": 21, \"icon\": \"ovc\", \"condition\": \"overcast\", \"wind_speed\": 1.3, \"wind_gust\": 4, \"wind_dir\": \"n\", \"pressure_mm\": 754, \"pressure_pa\": 1006, \"humidity\": 93, \"uv_index\": 0, \"soil_temp\": 18, \"soil_moisture\": 0.35, \"prec_mm\": 0, \"prec_period\": 60, \"prec_prob\": 0, \"prec_type\": 0, \"prec_strength\": 0, \"cloudness\": 1}, {\"hour\": \"8\", \"hour_ts\": 1566363600, \"temp\": 20, \"feels_like\": 22, \"icon\": \"ovc\", \"condition\": \"overcast\", \"wind_speed\": 1.4, \"wind_gust\": 4, \"wind_dir\": \"n\", \"pressure_mm\": 754, \"pressure_pa\": 1006, \"humidity\": 89, \"uv_index\": 1, \"soil_temp\": 18, \"soil_moisture\": 0.35, \"prec_mm\": 0, \"prec_period\": 60, \"prec_prob\": 0, \"prec_type\": 0, \"prec_strength\": 0, \"cloudness\": 1}, {\"hour\": \"9\", \"hour_ts\": 1566367200, \"temp\": 20, \"feels_like\": 21, \"icon\": \"ovc\", \"condition\": \"overcast\", \"wind_speed\": 1.3, \"wind_gust\": 5.3, \"wind_dir\": \"n\", \"pressure_mm\": 754, \"pressure_pa\": 1006, \"humidity\": 81, \"uv_index\": 2, \"soil_temp\": 19, \"soil_moisture\": 0.35, \"prec_mm\": 0, \"prec_period\": 60, \"prec_prob\": 0, \"prec_type\": 0, \"prec_strength\": 0, \"cloudness\": 1}, {\"hour\": \"10\", \"hour_ts\": 1566370800, \"temp\": 21, \"feels_like\": 23, \"icon\": \"ovc\", \"condition\": \"overcast\", \"wind_speed\": 1.7, \"wind_gust\": 5.3, \"wind_dir\": \"n\", \"pressure_mm\": 754, \"pressure_pa\": 1006, \"humidity\": 77, \"uv_index\": 3, \"soil_temp\": 19, \"soil_moisture\": 0.35, \"prec_mm\": 0, \"prec_period\": 60, \"prec_prob\": 0, \"prec_type\": 0, \"prec_strength\": 0, \"cloudness\": 1}, {\"hour\": \"11\", \"hour_ts\": 1566374400, \"temp\": 22, \"feels_like\": 24, \"icon\": \"ovc\", \"condition\": \"overcast\", \"wind_speed\": 1.7, \"wind_gust\": 5.3, \"wind_dir\": \"n\", \"pressure_mm\": 754, \"pressure_pa\": 1006, \"humidity\": 71, \"uv_index\": 4, \"soil_temp\": 19, \"soil_moisture\": 0.35, \"prec_mm\": 0, \"prec_period\": 60, \"prec_prob\": 0, \"prec_type\": 0, \"prec_strength\": 0, \"cloudness\": 1}, {\"hour\": \"12\", \"hour_ts\": 1566378000, \"temp\": 24, \"feels_like\": 28, \"icon\": \"ovc\", \"condition\": \"overcast\", \"wind_speed\": 0.8, \"wind_gust\": 3.5, \"wind_dir\": \"ne\", \"pressure_mm\": 754, \"pressure_pa\": 1006, \"humidity\": 68, \"uv_index\": 5, \"soil_temp\": 21, \"soil_moisture\": 0.35, \"prec_mm\": 0, \"prec_period\": 60, \"prec_prob\": 0, \"prec_type\": 0, \"prec_strength\": 0, \"cloudness\": 1}, {\"hour\": \"13\", \"hour_ts\": 1566381600, \"temp\": 24, \"feels_like\": 27, \"icon\": \"bkn_d\", \"condition\": \"cloudy\", \"wind_speed\": 1, \"wind_gust\": 3.5, \"wind_dir\": \"ne\", \"pressure_mm\": 754, \"pressure_pa\": 1006, \"humidity\": 64, \"uv_index\": 5, \"soil_temp\": 21, \"soil_moisture\": 0.35, \"prec_mm\": 0, \"prec_period\": 60, \"prec_prob\": 0, \"prec_type\": 0, \"prec_strength\": 0, \"cloudness\": 0.5}, {\"hour\": \"14\", \"hour_ts\": 1566385200, \"temp\": 25, \"feels_like\": 28, \"icon\": \"bkn_d\", \"condition\": \"cloudy\", \"wind_speed\": 0.9, \"wind_gust\": 3.5, \"wind_dir\": \"ne\", \"pressure_mm\": 754, \"pressure_pa\": 1006, \"humidity\": 63, \"uv_index\": 4, \"soil_temp\": 21, \"soil_moisture\": 0.35, \"prec_mm\": 0, \"prec_period\": 60, \"prec_prob\": 0, \"prec_type\": 0, \"prec_strength\": 0, \"cloudness\": 0.5}, {\"hour\": \"15\", \"hour_ts\": 1566388800, \"temp\": 25, \"feels_like\": 28, \"icon\": \"ovc\", \"condition\": \"overcast\", \"wind_speed\": 0.3, \"wind_gust\": 2.2, \"wind_dir\": \"ne\", \"pressure_mm\": 754, \"pressure_pa\": 1006, \"humidity\": 63, \"uv_index\": 3, \"soil_temp\": 22, \"soil_moisture\": 0.35, \"prec_mm\": 0, \"prec_period\": 60, \"prec_prob\": 0, \"prec_type\": 0, \"prec_strength\": 0, \"cloudness\": 1}, {\"hour\": \"16\", \"hour_ts\": 1566392400, \"temp\": 25, \"feels_like\": 27, \"icon\": \"bkn_d\", \"condition\": \"cloudy\", \"wind_speed\": 0.5, \"wind_gust\": 2.2, \"wind_dir\": \"ne\", \"pressure_mm\": 753, \"pressure_pa\": 1004, \"humidity\": 65, \"uv_index\": 2, \"soil_temp\": 22, \"soil_moisture\": 0.35, \"prec_mm\": 0, \"prec_period\": 60, \"prec_prob\": 0, \"prec_type\": 0, \"prec_strength\": 0, \"cloudness\": 0.5}, {\"hour\": \"17\", \"hour_ts\": 1566396000, \"temp\": 25, \"feels_like\": 28, \"icon\": \"bkn_d\", \"condition\": \"cloudy\", \"wind_speed\": 0.6, \"wind_gust\": 2.2, \"wind_dir\": \"ne\", \"pressure_mm\": 753, \"pressure_pa\": 1004, \"humidity\": 67, \"uv_index\": 1, \"soil_temp\": 22, \"soil_moisture\": 0.35, \"prec_mm\": 0, \"prec_period\": 60, \"prec_prob\": 0, \"prec_type\": 0, \"prec_strength\": 0, \"cloudness\": 0.5}, {\"hour\": \"18\", \"hour_ts\": 1566399600, \"temp\": 24, \"feels_like\": 26, \"icon\": \"bkn_d\", \"condition\": \"cloudy\", \"wind_speed\": 0.6, \"wind_gust\": 1.4, \"wind_dir\": \"ne\", \"pressure_mm\": 752, \"pressure_pa\": 1003, \"humidity\": 69, \"uv_index\": 0, \"soil_temp\": 22, \"soil_moisture\": 0.35, \"prec_mm\": 0, \"prec_period\": 60, \"prec_prob\": 0, \"prec_type\": 0, \"prec_strength\": 0, \"cloudness\": 0.5}, {\"hour\": \"19\", \"hour_ts\": 1566403200, \"temp\": 23, \"feels_like\": 25, \"icon\": \"skc_d\", \"condition\": \"clear\", \"wind_speed\": 0.8, \"wind_gust\": 1.4, \"wind_dir\": \"e\", \"pressure_mm\": 752, \"pressure_pa\": 1003, \"humidity\": 75, \"uv_index\": 0, \"soil_temp\": 22, \"soil_moisture\": 0.35, \"prec_mm\": 0, \"prec_period\": 60, \"prec_prob\": 0, \"prec_type\": 0, \"prec_strength\": 0, \"cloudness\": 0}, {\"hour\": \"20\", \"hour_ts\": 1566406800, \"temp\": 22, \"feels_like\": 24, \"icon\": \"bkn_n\", \"condition\": \"cloudy\", \"wind_speed\": 0.7, \"wind_gust\": 1.4, \"wind_dir\": \"e\", \"pressure_mm\": 752, \"pressure_pa\": 1003, \"humidity\": 79, \"uv_index\": 0, \"soil_temp\": 22, \"soil_moisture\": 0.35, \"prec_mm\": 0, \"prec_period\": 60, \"prec_prob\": 0, \"prec_type\": 0, \"prec_strength\": 0, \"cloudness\": 0.5}, {\"hour\": \"21\", \"hour_ts\": 1566410400, \"temp\": 21, \"feels_like\": 23, \"icon\": \"bkn_n\", \"condition\": \"cloudy\", \"wind_speed\": 1.1, \"wind_gust\": 2.5, \"wind_dir\": \"se\", \"pressure_mm\": 753, \"pressure_pa\": 1004, \"humidity\": 81, \"uv_index\": 0, \"soil_temp\": 20, \"soil_moisture\": 0.34, \"prec_mm\": 0, \"prec_period\": 60, \"prec_prob\": 0, \"prec_type\": 0, \"prec_strength\": 0, \"cloudness\": 0.5}, {\"hour\": \"22\", \"hour_ts\": 1566414000, \"temp\": 20, \"feels_like\": 22, \"icon\": \"bkn_n\", \"condition\": \"cloudy\", \"wind_speed\": 1.2, \"wind_gust\": 2.5, \"wind_dir\": \"se\", \"pressure_mm\": 752, \"pressure_pa\": 1003, \"humidity\": 85, \"uv_index\": 0, \"soil_temp\": 20, \"soil_moisture\": 0.34, \"prec_mm\": 0, \"prec_period\": 60, \"prec_prob\": 0, \"prec_type\": 0, \"prec_strength\": 0, \"cloudness\": 0.5}, {\"hour\": \"23\", \"hour_ts\": 1566417600, \"temp\": 20, \"feels_like\": 22, \"icon\": \"skc_n\", \"condition\": \"clear\", \"wind_speed\": 1.2, \"wind_gust\": 2.5, \"wind_dir\": \"se\", \"pressure_mm\": 752, \"pressure_pa\": 1003, \"humidity\": 87, \"uv_index\": 0, \"soil_temp\": 20, \"soil_moisture\": 0.34, \"prec_mm\": 0, \"prec_period\": 60, \"prec_prob\": 0, \"prec_type\": 0, \"prec_strength\": 0, \"cloudness\": 0}]}, {\"date\": \"2019-08-22\", \"date_ts\": 1566421200, \"week\": 34, \"sunrise\": \"05:13\", \"sunset\": \"19:49\", \"moon_code\": 3, \"moon_text\": \"decreasing-moon\", \"parts\": {\"night\": {\"_source\": \"0,1,2,3,4,5\", \"temp_min\": 19, \"temp_max\": 20, \"temp_avg\": 20, \"feels_like\": 22, \"icon\": \"skc_n\", \"condition\": \"clear\", \"daytime\": \"n\", \"polar\": false, \"wind_speed\": 2, \"wind_gust\": 5.5, \"wind_dir\": \"se\", \"pressure_mm\": 752, \"pressure_pa\": 1003, \"humidity\": 91, \"uv_index\": 0, \"soil_temp\": 19, \"soil_moisture\": 0.34, \"prec_mm\": 0, \"prec_period\": 360, \"prec_prob\": 0}, \"morning\": {\"_source\": \"6,7,8,9,10,11\", \"temp_min\": 19, \"temp_max\": 26, \"temp_avg\": 23, \"feels_like\": 25, \"icon\": \"bkn_d\", \"condition\": \"partly-cloudy\", \"daytime\": \"d\", \"polar\": false, \"wind_speed\": 2.8, \"wind_gust\": 8, \"wind_dir\": \"s\", \"pressure_mm\": 751, \"pressure_pa\": 1002, \"humidity\": 75, \"uv_index\": 4, \"soil_temp\": 19, \"soil_moisture\": 0.34, \"prec_mm\": 0, \"prec_period\": 360, \"prec_prob\": 0}, \"day\": {\"_source\": \"12,13,14,15,16,17\", \"temp_min\": 20, \"temp_max\": 25, \"temp_avg\": 23, \"feels_like\": 23, \"icon\": \"bkn_d\", \"condition\": \"cloudy\", \"daytime\": \"d\", \"polar\": false, \"wind_speed\": 4.7, \"wind_gust\": 11.4, \"wind_dir\": \"w\", \"pressure_mm\": 752, \"pressure_pa\": 1003, \"humidity\": 63, \"uv_index\": 5, \"soil_temp\": 23, \"soil_moisture\": 0.34, \"prec_mm\": 0, \"prec_period\": 360, \"prec_prob\": 0}, \"evening\": {\"_source\": \"18,19,20,21,22,23\", \"temp_min\": 16, \"temp_max\": 19, \"temp_avg\": 18, \"feels_like\": 17, \"icon\": \"bkn_n\", \"condition\": \"cloudy\", \"daytime\": \"n\", \"polar\": false, \"wind_speed\": 2.8, \"wind_gust\": 6, \"wind_dir\": \"n\", \"pressure_mm\": 753, \"pressure_pa\": 1004, \"humidity\": 76, \"uv_index\": 0, \"soil_temp\": 19, \"soil_moisture\": 0.34, \"prec_mm\": 0, \"prec_period\": 360, \"prec_prob\": 0}, \"day_short\": {\"_source\": \"8,9,10,11,12,13,14,15,16,17,18,19,20\", \"temp\": 26, \"temp_min\": 18, \"feels_like\": 27, \"icon\": \"bkn_d\", \"condition\": \"cloudy\", \"wind_speed\": 4.7, \"wind_gust\": 11.4, \"wind_dir\": \"nw\", \"pressure_mm\": 752, \"pressure_pa\": 1003, \"humidity\": 67, \"uv_index\": 5, \"soil_temp\": 20, \"soil_moisture\": 0.34, \"prec_mm\": 0, \"prec_prob\": 0}, \"night_short\": {\"temp\": 19, \"feels_like\": 20, \"icon\": \"skc_n\", \"condition\": \"clear\", \"wind_speed\": 2, \"wind_gust\": 5.5, \"wind_dir\": \"se\", \"pressure_mm\": 752, \"pressure_pa\": 1003, \"humidity\": 91, \"uv_index\": 0, \"soil_temp\": 19, \"soil_moisture\": 0.34, \"prec_mm\": 0, \"prec_prob\": 0}}, \"hours\": [{\"hour\": \"0\", \"hour_ts\": 1566421200, \"temp\": 20, \"feels_like\": 22, \"icon\": \"bkn_n\", \"condition\": \"cloudy\", \"wind_speed\": 1.6, \"wind_gust\": 5, \"wind_dir\": \"se\", \"pressure_mm\": 752, \"pressure_pa\": 1003, \"humidity\": 88, \"uv_index\": 0, \"soil_temp\": 19, \"soil_moisture\": 0.34, \"prec_mm\": 0, \"prec_period\": 60, \"prec_prob\": 0, \"prec_type\": 0, \"prec_strength\": 0, \"cloudness\": 0.5}, {\"hour\": \"1\", \"hour_ts\": 1566424800, \"temp\": 20, \"feels_like\": 22, \"icon\": \"skc_n\", \"condition\": \"clear\", \"wind_speed\": 1.8, \"wind_gust\": 5, \"wind_dir\": \"se\", \"pressure_mm\": 752, \"pressure_pa\": 1003, \"humidity\": 91, \"uv_index\": 0, \"soil_temp\": 19, \"soil_moisture\": 0.34, \"prec_mm\": 0, \"prec_period\": 60, \"prec_prob\": 0, \"prec_type\": 0, \"prec_strength\": 0, \"cloudness\": 0}, {\"hour\": \"2\", \"hour_ts\": 1566428400, \"temp\": 19, \"feels_like\": 20, \"icon\": \"skc_n\", \"condition\": \"clear\", \"wind_speed\": 1.8, \"wind_gust\": 5, \"wind_dir\": \"se\", \"pressure_mm\": 752, \"pressure_pa\": 1003, \"humidity\": 92, \"uv_index\": 0, \"soil_temp\": 19, \"soil_moisture\": 0.34, \"prec_mm\": 0, \"prec_period\": 60, \"prec_prob\": 0, \"prec_type\": 0, \"prec_strength\": 0, \"cloudness\": 0}, {\"hour\": \"3\", \"hour_ts\": 1566432000, \"temp\": 19, \"feels_like\": 20, \"icon\": \"skc_n\", \"condition\": \"clear\", \"wind_speed\": 1.8, \"wind_gust\": 5.5, \"wind_dir\": \"s\", \"pressure_mm\": 751, \"pressure_pa\": 1002, \"humidity\": 91, \"uv_index\": 0, \"soil_temp\": 18, \"soil_moisture\": 0.34, \"prec_mm\": 0, \"prec_period\": 60, \"prec_prob\": 0, \"prec_type\": 0, \"prec_strength\": 0, \"cloudness\": 0}, {\"hour\": \"4\", \"hour_ts\": 1566435600, \"temp\": 19, \"feels_like\": 20, \"icon\": \"skc_n\", \"condition\": \"clear\", \"wind_speed\": 2, \"wind_gust\": 5.5, \"wind_dir\": \"s\", \"pressure_mm\": 752, \"pressure_pa\": 1003, \"humidity\": 93, \"uv_index\": 0, \"soil_temp\": 18, \"soil_moisture\": 0.34, \"prec_mm\": 0, \"prec_period\": 60, \"prec_prob\": 0, \"prec_type\": 0, \"prec_strength\": 0, \"cloudness\": 0}, {\"hour\": \"5\", \"hour_ts\": 1566439200, \"temp\": 19, \"feels_like\": 20, \"icon\": \"skc_n\", \"condition\": \"clear\", \"wind_speed\": 2, \"wind_gust\": 5.5, \"wind_dir\": \"s\", \"pressure_mm\": 751, \"pressure_pa\": 1002, \"humidity\": 93, \"uv_index\": 0, \"soil_temp\": 18, \"soil_moisture\": 0.34, \"prec_mm\": 0, \"prec_period\": 60, \"prec_prob\": 0, \"prec_type\": 0, \"prec_strength\": 0, \"cloudness\": 0}, {\"hour\": \"6\", \"hour_ts\": 1566442800, \"temp\": 19, \"feels_like\": 20, \"icon\": \"skc_d\", \"condition\": \"clear\", \"wind_speed\": 1.8, \"wind_gust\": 6.4, \"wind_dir\": \"s\", \"pressure_mm\": 751, \"pressure_pa\": 1002, \"humidity\": 91, \"uv_index\": 0, \"soil_temp\": 18, \"soil_moisture\": 0.34, \"prec_mm\": 0, \"prec_period\": 60, \"prec_prob\": 0, \"prec_type\": 0, \"prec_strength\": 0, \"cloudness\": 0}, {\"hour\": \"7\", \"hour_ts\": 1566446400, \"temp\": 20, \"feels_like\": 21, \"icon\": \"skc_d\", \"condition\": \"clear\", \"wind_speed\": 2, \"wind_gust\": 6.4, \"wind_dir\": \"s\", \"pressure_mm\": 751, \"pressure_pa\": 1002, \"humidity\": 86, \"uv_index\": 0, \"soil_temp\": 18, \"soil_moisture\": 0.34, \"prec_mm\": 0, \"prec_period\": 60, \"prec_prob\": 0, \"prec_type\": 0, \"prec_strength\": 0, \"cloudness\": 0}, {\"hour\": \"8\", \"hour_ts\": 1566450000, \"temp\": 22, \"feels_like\": 23, \"icon\": \"skc_d\", \"condition\": \"clear\", \"wind_speed\": 2.5, \"wind_gust\": 6.4, \"wind_dir\": \"s\", \"pressure_mm\": 751, \"pressure_pa\": 1002, \"humidity\": 78, \"uv_index\": 1, \"soil_temp\": 18, \"soil_moisture\": 0.34, \"prec_mm\": 0, \"prec_period\": 60, \"prec_prob\": 0, \"prec_type\": 0, \"prec_strength\": 0, \"cloudness\": 0}, {\"hour\": \"9\", \"hour_ts\": 1566453600, \"temp\": 24, \"feels_like\": 25, \"icon\": \"bkn_d\", \"condition\": \"cloudy\", \"wind_speed\": 2.6, \"wind_gust\": 8, \"wind_dir\": \"sw\", \"pressure_mm\": 751, \"pressure_pa\": 1002, \"humidity\": 69, \"uv_index\": 2, \"soil_temp\": 20, \"soil_moisture\": 0.34, \"prec_mm\": 0, \"prec_period\": 60, \"prec_prob\": 0, \"prec_type\": 0, \"prec_strength\": 0, \"cloudness\": 0.5}, {\"hour\": \"10\", \"hour_ts\": 1566457200, \"temp\": 25, \"feels_like\": 26, \"icon\": \"bkn_d\", \"condition\": \"cloudy\", \"wind_speed\": 2.8, \"wind_gust\": 8, \"wind_dir\": \"sw\", \"pressure_mm\": 751, \"pressure_pa\": 1002, \"humidity\": 64, \"uv_index\": 3, \"soil_temp\": 20, \"soil_moisture\": 0.34, \"prec_mm\": 0, \"prec_period\": 60, \"prec_prob\": 0, \"prec_type\": 0, \"prec_strength\": 0, \"cloudness\": 0.5}, {\"hour\": \"11\", \"hour_ts\": 1566460800, \"temp\": 26, \"feels_like\": 28, \"icon\": \"bkn_d\", \"condition\": \"cloudy\", \"wind_speed\": 2.6, \"wind_gust\": 8, \"wind_dir\": \"sw\", \"pressure_mm\": 751, \"pressure_pa\": 1002, \"humidity\": 62, \"uv_index\": 4, \"soil_temp\": 20, \"soil_moisture\": 0.34, \"prec_mm\": 0, \"prec_period\": 60, \"prec_prob\": 0, \"prec_type\": 0, \"prec_strength\": 0, \"cloudness\": 0.5}, {\"hour\": \"12\", \"hour_ts\": 1566464400, \"temp\": 25, \"feels_like\": 26, \"icon\": \"bkn_d\", \"condition\": \"cloudy\", \"wind_speed\": 2.7, \"wind_gust\": 9.7, \"wind_dir\": \"w\", \"pressure_mm\": 751, \"pressure_pa\": 1002, \"humidity\": 59, \"uv_index\": 5, \"soil_temp\": 23, \"soil_moisture\": 0.34, \"prec_mm\": 0, \"prec_period\": 60, \"prec_prob\": 0, \"prec_type\": 0, \"prec_strength\": 0, \"cloudness\": 0.5}, {\"hour\": \"13\", \"hour_ts\": 1566468000, \"temp\": 24, \"feels_like\": 25, \"icon\": \"bkn_d\", \"condition\": \"cloudy\", \"wind_speed\": 3.1, \"wind_gust\": 9.7, \"wind_dir\": \"w\", \"pressure_mm\": 751, \"pressure_pa\": 1002, \"humidity\": 58, \"uv_index\": 5, \"soil_temp\": 23, \"soil_moisture\": 0.34, \"prec_mm\": 0, \"prec_period\": 60, \"prec_prob\": 0, \"prec_type\": 0, \"prec_strength\": 0, \"cloudness\": 0.5}, {\"hour\": \"14\", \"hour_ts\": 1566471600, \"temp\": 24, \"feels_like\": 25, \"icon\": \"bkn_d\", \"condition\": \"cloudy\", \"wind_speed\": 2.9, \"wind_gust\": 9.7, \"wind_dir\": \"w\", \"pressure_mm\": 751, \"pressure_pa\": 1002, \"humidity\": 59, \"uv_index\": 4, \"soil_temp\": 23, \"soil_moisture\": 0.34, \"prec_mm\": 0, \"prec_period\": 60, \"prec_prob\": 0, \"prec_type\": 0, \"prec_strength\": 0, \"cloudness\": 0.5}, {\"hour\": \"15\", \"hour_ts\": 1566475200, \"temp\": 21, \"feels_like\": 20, \"icon\": \"ovc\", \"condition\": \"overcast\", \"wind_speed\": 4.1, \"wind_gust\": 11.4, \"wind_dir\": \"nw\", \"pressure_mm\": 752, \"pressure_pa\": 1003, \"humidity\": 66, \"uv_index\": 3, \"soil_temp\": 23, \"soil_moisture\": 0.34, \"prec_mm\": 0, \"prec_period\": 60, \"prec_prob\": 0, \"prec_type\": 0, \"prec_strength\": 0, \"cloudness\": 1}, {\"hour\": \"16\", \"hour_ts\": 1566478800, \"temp\": 20, \"feels_like\": 18, \"icon\": \"bkn_d\", \"condition\": \"cloudy\", \"wind_speed\": 4.7, \"wind_gust\": 11.4, \"wind_dir\": \"nw\", \"pressure_mm\": 752, \"pressure_pa\": 1003, \"humidity\": 66, \"uv_index\": 2, \"soil_temp\": 23, \"soil_moisture\": 0.34, \"prec_mm\": 0, \"prec_period\": 60, \"prec_prob\": 0, \"prec_type\": 0, \"prec_strength\": 0, \"cloudness\": 0.5}, {\"hour\": \"17\", \"hour_ts\": 1566482400, \"temp\": 20, \"feels_like\": 18, \"icon\": \"bkn_d\", \"condition\": \"cloudy\", \"wind_speed\": 4.5, \"wind_gust\": 11.4, \"wind_dir\": \"nw\", \"pressure_mm\": 752, \"pressure_pa\": 1003, \"humidity\": 68, \"uv_index\": 1, \"soil_temp\": 23, \"soil_moisture\": 0.34, \"prec_mm\": 0, \"prec_period\": 60, \"prec_prob\": 0, \"prec_type\": 0, \"prec_strength\": 0, \"cloudness\": 0.5}, {\"hour\": \"18\", \"hour_ts\": 1566486000, \"temp\": 19, \"feels_like\": 18, \"icon\": \"ovc\", \"condition\": \"overcast\", \"wind_speed\": 2.6, \"wind_gust\": 6, \"wind_dir\": \"nw\", \"pressure_mm\": 752, \"pressure_pa\": 1003, \"humidity\": 69, \"uv_index\": 0, \"soil_temp\": 20, \"soil_moisture\": 0.34, \"prec_mm\": 0, \"prec_period\": 60, \"prec_prob\": 0, \"prec_type\": 0, \"prec_strength\": 0, \"cloudness\": 1}, {\"hour\": \"19\", \"hour_ts\": 1566489600, \"temp\": 18, \"feels_like\": 17, \"icon\": \"bkn_d\", \"condition\": \"cloudy\", \"wind_speed\": 2.8, \"wind_gust\": 6, \"wind_dir\": \"n\", \"pressure_mm\": 753, \"pressure_pa\": 1004, \"humidity\": 73, \"uv_index\": 0, \"soil_temp\": 20, \"soil_moisture\": 0.34, \"prec_mm\": 0, \"prec_period\": 60, \"prec_prob\": 0, \"prec_type\": 0, \"prec_strength\": 0, \"cloudness\": 0.5}, {\"hour\": \"20\", \"hour_ts\": 1566493200, \"temp\": 18, \"feels_like\": 17, \"icon\": \"bkn_n\", \"condition\": \"cloudy\", \"wind_speed\": 2.6, \"wind_gust\": 6, \"wind_dir\": \"n\", \"pressure_mm\": 753, \"pressure_pa\": 1004, \"humidity\": 76, \"uv_index\": 0, \"soil_temp\": 20, \"soil_moisture\": 0.34, \"prec_mm\": 0, \"prec_period\": 60, \"prec_prob\": 0, \"prec_type\": 0, \"prec_strength\": 0, \"cloudness\": 0.5}, {\"hour\": \"21\", \"hour_ts\": 1566496800, \"temp\": 17, \"feels_like\": 16, \"icon\": \"ovc\", \"condition\": \"overcast\", \"wind_speed\": 2.1, \"wind_gust\": 5.8, \"wind_dir\": \"n\", \"pressure_mm\": 754, \"pressure_pa\": 1006, \"humidity\": 75, \"uv_index\": 0, \"soil_temp\": 18, \"soil_moisture\": 0.34, \"prec_mm\": 0, \"prec_period\": 60, \"prec_prob\": 0, \"prec_type\": 0, \"prec_strength\": 0, \"cloudness\": 1}, {\"hour\": \"22\", \"hour_ts\": 1566500400, \"temp\": 16, \"feels_like\": 15, \"icon\": \"skc_n\", \"condition\": \"clear\", \"wind_speed\": 2.2, \"wind_gust\": 5.8, \"wind_dir\": \"n\", \"pressure_mm\": 754, \"pressure_pa\": 1006, \"humidity\": 79, \"uv_index\": 0, \"soil_temp\": 18, \"soil_moisture\": 0.34, \"prec_mm\": 0, \"prec_period\": 60, \"prec_prob\": 0, \"prec_type\": 0, \"prec_strength\": 0, \"cloudness\": 0}, {\"hour\": \"23\", \"hour_ts\": 1566504000, \"temp\": 16, \"feels_like\": 15, \"icon\": \"skc_n\", \"condition\": \"clear\", \"wind_speed\": 2.2, \"wind_gust\": 5.8, \"wind_dir\": \"n\", \"pressure_mm\": 754, \"pressure_pa\": 1006, \"humidity\": 81, \"uv_index\": 0, \"soil_temp\": 18, \"soil_moisture\": 0.34, \"prec_mm\": 0, \"prec_period\": 60, \"prec_prob\": 0, \"prec_type\": 0, \"prec_strength\": 0, \"cloudness\": 0}]}, {\"date\": \"2019-08-23\", \"date_ts\": 1566507600, \"week\": 34, \"sunrise\": \"05:15\", \"sunset\": \"19:47\", \"moon_code\": 4, \"moon_text\": \"last-quarter\", \"parts\": {\"night\": {\"_source\": \"0,1,2,3,4,5\", \"temp_min\": 12, \"temp_max\": 15, \"temp_avg\": 14, \"feels_like\": 13, \"icon\": \"skc_n\", \"condition\": \"clear\", \"daytime\": \"n\", \"polar\": false, \"wind_speed\": 1.8, \"wind_gust\": 4.5, \"wind_dir\": \"n\", \"pressure_mm\": 755, \"pressure_pa\": 1007, \"humidity\": 87, \"uv_index\": 0, \"soil_temp\": 16, \"soil_moisture\": 0.34, \"prec_mm\": 0, \"prec_period\": 360, \"prec_prob\": 0}, \"morning\": {\"_source\": \"6,7,8,9,10,11\", \"temp_min\": 12, \"temp_max\": 19, \"temp_avg\": 16, \"feels_like\": 16, \"icon\": \"skc_d\", \"condition\": \"clear\", \"daytime\": \"d\", \"polar\": false, \"wind_speed\": 1.7, \"wind_gust\": 5.2, \"wind_dir\": \"n\", \"pressure_mm\": 756, \"pressure_pa\": 1008, \"humidity\": 74, \"uv_index\": 4, \"soil_temp\": 16, \"soil_moisture\": 0.34, \"prec_mm\": 0, \"prec_period\": 360, \"prec_prob\": 0}, \"day\": {\"_source\": \"12,13,14,15\", \"temp_min\": 20, \"temp_max\": 21, \"temp_avg\": 21, \"feels_like\": 20, \"icon\": \"bkn_d\", \"condition\": \"partly-cloudy\", \"daytime\": \"d\", \"polar\": false, \"wind_speed\": 2, \"wind_gust\": 6.1, \"wind_dir\": \"n\", \"pressure_mm\": 755, \"pressure_pa\": 1007, \"humidity\": 48, \"uv_index\": 4, \"soil_temp\": 20, \"soil_moisture\": 0.33, \"prec_mm\": 0, \"prec_period\": 360, \"prec_prob\": 0}, \"evening\": {\"_source\": \"18,21\", \"temp_min\": 16, \"temp_max\": 21, \"temp_avg\": 19, \"feels_like\": 19, \"icon\": \"skc_d\", \"condition\": \"clear\", \"daytime\": \"d\", \"polar\": false, \"wind_speed\": 1.3, \"wind_gust\": 2.9, \"wind_dir\": \"nw\", \"pressure_mm\": 754, \"pressure_pa\": 1006, \"humidity\": 61, \"uv_index\": 0, \"soil_temp\": 20, \"soil_moisture\": 0.32, \"prec_mm\": 0, \"prec_period\": 360, \"prec_prob\": 0}, \"day_short\": {\"_source\": \"8,9,10,11,12,13,14,15\", \"temp\": 21, \"temp_min\": 15, \"feels_like\": 21, \"icon\": \"bkn_d\", \"condition\": \"partly-cloudy\", \"wind_speed\": 2, \"wind_gust\": 6.1, \"wind_dir\": \"n\", \"pressure_mm\": 756, \"pressure_pa\": 1008, \"humidity\": 57, \"uv_index\": 4, \"soil_temp\": 19, \"soil_moisture\": 0.33, \"prec_mm\": 0, \"prec_prob\": 0}, \"night_short\": {\"temp\": 12, \"feels_like\": 11, \"icon\": \"skc_n\", \"condition\": \"clear\", \"wind_speed\": 1.8, \"wind_gust\": 4.5, \"wind_dir\": \"n\", \"pressure_mm\": 755, \"pressure_pa\": 1007, \"humidity\": 87, \"uv_index\": 0, \"soil_temp\": 16, \"soil_moisture\": 0.34, \"prec_mm\": 0, \"prec_prob\": 0}}, \"hours\": [{\"hour\": \"0\", \"hour_ts\": 1566507600, \"temp\": 15, \"feels_like\": 15, \"icon\": \"skc_n\", \"condition\": \"clear\", \"wind_speed\": 1.6, \"wind_gust\": 4.5, \"wind_dir\": \"n\", \"pressure_mm\": 754, \"pressure_pa\": 1006, \"humidity\": 83, \"uv_index\": 0, \"soil_temp\": 17, \"soil_moisture\": 0.34, \"prec_mm\": 0, \"prec_period\": 60, \"prec_prob\": 0, \"prec_type\": 0, \"prec_strength\": 0, \"cloudness\": 0}, {\"hour\": \"1\", \"hour_ts\": 1566511200, \"temp\": 14, \"feels_like\": 13, \"icon\": \"skc_n\", \"condition\": \"clear\", \"wind_speed\": 1.8, \"wind_gust\": 4.5, \"wind_dir\": \"n\", \"pressure_mm\": 755, \"pressure_pa\": 1007, \"humidity\": 85, \"uv_index\": 0, \"soil_temp\": 17, \"soil_moisture\": 0.34, \"prec_mm\": 0, \"prec_period\": 60, \"prec_prob\": 0, \"prec_type\": 0, \"prec_strength\": 0, \"cloudness\": 0}, {\"hour\": \"2\", \"hour_ts\": 1566514800, \"temp\": 14, \"feels_like\": 13, \"icon\": \"skc_n\", \"condition\": \"clear\", \"wind_speed\": 1.8, \"wind_gust\": 4.5, \"wind_dir\": \"n\", \"pressure_mm\": 755, \"pressure_pa\": 1007, \"humidity\": 86, \"uv_index\": 0, \"soil_temp\": 17, \"soil_moisture\": 0.34, \"prec_mm\": 0, \"prec_period\": 60, \"prec_prob\": 0, \"prec_type\": 0, \"prec_strength\": 0, \"cloudness\": 0}, {\"hour\": \"3\", \"hour_ts\": 1566518400, \"temp\": 13, \"feels_like\": 12, \"icon\": \"skc_n\", \"condition\": \"clear\", \"wind_speed\": 1.4, \"wind_gust\": 4.2, \"wind_dir\": \"nw\", \"pressure_mm\": 755, \"pressure_pa\": 1007, \"humidity\": 89, \"uv_index\": 0, \"soil_temp\": 15, \"soil_moisture\": 0.34, \"prec_mm\": 0, \"prec_period\": 60, \"prec_prob\": 0, \"prec_type\": 0, \"prec_strength\": 0, \"cloudness\": 0}, {\"hour\": \"4\", \"hour_ts\": 1566522000, \"temp\": 12, \"feels_like\": 11, \"icon\": \"skc_n\", \"condition\": \"clear\", \"wind_speed\": 1.5, \"wind_gust\": 4.2, \"wind_dir\": \"nw\", \"pressure_mm\": 755, \"pressure_pa\": 1007, \"humidity\": 90, \"uv_index\": 0, \"soil_temp\": 15, \"soil_moisture\": 0.34, \"prec_mm\": 0, \"prec_period\": 60, \"prec_prob\": 0, \"prec_type\": 0, \"prec_strength\": 0, \"cloudness\": 0}, {\"hour\": \"5\", \"hour_ts\": 1566525600, \"temp\": 12, \"feels_like\": 11, \"icon\": \"skc_n\", \"condition\": \"clear\", \"wind_speed\": 1.5, \"wind_gust\": 4.2, \"wind_dir\": \"nw\", \"pressure_mm\": 755, \"pressure_pa\": 1007, \"humidity\": 90, \"uv_index\": 0, \"soil_temp\": 15, \"soil_moisture\": 0.34, \"prec_mm\": 0, \"prec_period\": 60, \"prec_prob\": 0, \"prec_type\": 0, \"prec_strength\": 0, \"cloudness\": 0}, {\"hour\": \"6\", \"hour_ts\": 1566529200, \"temp\": 12, \"feels_like\": 11, \"icon\": \"skc_d\", \"condition\": \"clear\", \"wind_speed\": 1.3, \"wind_gust\": 3.8, \"wind_dir\": \"n\", \"pressure_mm\": 755, \"pressure_pa\": 1007, \"humidity\": 90, \"uv_index\": 0, \"soil_temp\": 14, \"soil_moisture\": 0.34, \"prec_mm\": 0, \"prec_period\": 60, \"prec_prob\": 0, \"prec_type\": 0, \"prec_strength\": 0, \"cloudness\": 0}, {\"hour\": \"7\", \"hour_ts\": 1566532800, \"temp\": 13, \"feels_like\": 12, \"icon\": \"skc_d\", \"condition\": \"clear\", \"wind_speed\": 1.6, \"wind_gust\": 3.8, \"wind_dir\": \"n\", \"pressure_mm\": 755, \"pressure_pa\": 1007, \"humidity\": 84, \"uv_index\": 0, \"soil_temp\": 14, \"soil_moisture\": 0.34, \"prec_mm\": 0, \"prec_period\": 60, \"prec_prob\": 0, \"prec_type\": 0, \"prec_strength\": 0, \"cloudness\": 0}, {\"hour\": \"8\", \"hour_ts\": 1566536400, \"temp\": 15, \"feels_like\": 14, \"icon\": \"skc_d\", \"condition\": \"clear\", \"wind_speed\": 1.7, \"wind_gust\": 3.8, \"wind_dir\": \"n\", \"pressure_mm\": 756, \"pressure_pa\": 1008, \"humidity\": 78, \"uv_index\": 1, \"soil_temp\": 14, \"soil_moisture\": 0.34, \"prec_mm\": 0, \"prec_period\": 60, \"prec_prob\": 0, \"prec_type\": 0, \"prec_strength\": 0, \"cloudness\": 0}, {\"hour\": \"9\", \"hour_ts\": 1566540000, \"temp\": 17, \"feels_like\": 17, \"icon\": \"bkn_d\", \"condition\": \"cloudy\", \"wind_speed\": 1.4, \"wind_gust\": 5.2, \"wind_dir\": \"n\", \"pressure_mm\": 756, \"pressure_pa\": 1008, \"humidity\": 71, \"uv_index\": 2, \"soil_temp\": 17, \"soil_moisture\": 0.33, \"prec_mm\": 0, \"prec_period\": 60, \"prec_prob\": 0, \"prec_type\": 0, \"prec_strength\": 0, \"cloudness\": 0.5}, {\"hour\": \"10\", \"hour_ts\": 1566543600, \"temp\": 18, \"feels_like\": 17, \"icon\": \"skc_d\", \"condition\": \"clear\", \"wind_speed\": 1.7, \"wind_gust\": 5.2, \"wind_dir\": \"n\", \"pressure_mm\": 756, \"pressure_pa\": 1008, \"humidity\": 62, \"uv_index\": 3, \"soil_temp\": 17, \"soil_moisture\": 0.33, \"prec_mm\": 0, \"prec_period\": 60, \"prec_prob\": 0, \"prec_type\": 0, \"prec_strength\": 0, \"cloudness\": 0}, {\"hour\": \"11\", \"hour_ts\": 1566547200, \"temp\": 19, \"feels_like\": 19, \"icon\": \"skc_d\", \"condition\": \"clear\", \"wind_speed\": 1.7, \"wind_gust\": 5.2, \"wind_dir\": \"n\", \"pressure_mm\": 756, \"pressure_pa\": 1008, \"humidity\": 56, \"uv_index\": 4, \"soil_temp\": 17, \"soil_moisture\": 0.33, \"prec_mm\": 0, \"prec_period\": 60, \"prec_prob\": 0, \"prec_type\": 0, \"prec_strength\": 0, \"cloudness\": 0}, {\"hour\": \"12\", \"hour_ts\": 1566550800, \"temp\": 20, \"feels_like\": 20, \"icon\": \"bkn_d\", \"condition\": \"cloudy\", \"wind_speed\": 1.6, \"wind_gust\": 6.1, \"wind_dir\": \"n\", \"pressure_mm\": 756, \"pressure_pa\": 1008, \"humidity\": 52, \"uv_index\": 4, \"soil_temp\": 20, \"soil_moisture\": 0.33, \"prec_mm\": 0, \"prec_period\": 60, \"prec_prob\": 0, \"prec_type\": 0, \"prec_strength\": 0, \"cloudness\": 0.5}, {\"hour\": \"13\", \"hour_ts\": 1566554400, \"temp\": 21, \"feels_like\": 20, \"icon\": \"skc_d\", \"condition\": \"clear\", \"wind_speed\": 2, \"wind_gust\": 6.1, \"wind_dir\": \"n\", \"pressure_mm\": 756, \"pressure_pa\": 1008, \"humidity\": 48, \"uv_index\": 4, \"soil_temp\": 20, \"soil_moisture\": 0.33, \"prec_mm\": 0, \"prec_period\": 60, \"prec_prob\": 0, \"prec_type\": 0, \"prec_strength\": 0, \"cloudness\": 0}, {\"hour\": \"14\", \"hour_ts\": 1566558000, \"temp\": 21, \"feels_like\": 20, \"icon\": \"skc_d\", \"condition\": \"clear\", \"wind_speed\": 2, \"wind_gust\": 6.1, \"wind_dir\": \"n\", \"pressure_mm\": 755, \"pressure_pa\": 1007, \"humidity\": 47, \"uv_index\": 4, \"soil_temp\": 20, \"soil_moisture\": 0.33, \"prec_mm\": 0, \"prec_period\": 60, \"prec_prob\": 0, \"prec_type\": 0, \"prec_strength\": 0, \"cloudness\": 0}, {\"hour\": \"15\", \"hour_ts\": 1566561600, \"temp\": 21, \"feels_like\": 20, \"icon\": \"skc_d\", \"condition\": \"clear\", \"wind_speed\": 1.3, \"wind_gust\": 5.2, \"wind_dir\": \"nw\", \"pressure_mm\": 754, \"pressure_pa\": 1006, \"humidity\": 45, \"uv_index\": 3, \"soil_temp\": 22, \"soil_moisture\": 0.32, \"prec_mm\": 0, \"prec_period\": 60, \"prec_prob\": 0, \"prec_type\": 0, \"prec_strength\": 0, \"cloudness\": 0}]}, {\"date\": \"2019-08-24\", \"date_ts\": 1566594000, \"week\": 34, \"sunrise\": \"05:17\", \"sunset\": \"19:44\", \"moon_code\": 4, \"moon_text\": \"last-quarter\", \"parts\": {\"night\": {\"_source\": \"0,3\", \"temp_min\": 12, \"temp_max\": 13, \"temp_avg\": 13, \"feels_like\": 12, \"icon\": \"skc_n\", \"condition\": \"clear\", \"daytime\": \"n\", \"polar\": false, \"wind_speed\": 1, \"wind_gust\": 2.6, \"wind_dir\": \"nw\", \"pressure_mm\": 754, \"pressure_pa\": 1006, \"humidity\": 82, \"uv_index\": 0, \"soil_temp\": 16, \"soil_moisture\": 0.32, \"prec_mm\": 0, \"prec_period\": 360, \"prec_prob\": 0}, \"morning\": {\"_source\": \"6,9\", \"temp_min\": 11, \"temp_max\": 17, \"temp_avg\": 14, \"feels_like\": 13, \"icon\": \"skc_d\", \"condition\": \"clear\", \"daytime\": \"d\", \"polar\": false, \"wind_speed\": 1.8, \"wind_gust\": 6.3, \"wind_dir\": \"w\", \"pressure_mm\": 754, \"pressure_pa\": 1006, \"humidity\": 77, \"uv_index\": 2, \"soil_temp\": 16, \"soil_moisture\": 0.32, \"prec_mm\": 0, \"prec_period\": 360, \"prec_prob\": 0}, \"day\": {\"_source\": \"12,15\", \"temp_min\": 21, \"temp_max\": 22, \"temp_avg\": 22, \"feels_like\": 21, \"icon\": \"skc_d\", \"condition\": \"clear\", \"daytime\": \"d\", \"polar\": false, \"wind_speed\": 2.9, \"wind_gust\": 8.9, \"wind_dir\": \"w\", \"pressure_mm\": 754, \"pressure_pa\": 1006, \"humidity\": 48, \"uv_index\": 4, \"soil_temp\": 21, \"soil_moisture\": 0.31, \"prec_mm\": 0, \"prec_period\": 360, \"prec_prob\": 0}, \"evening\": {\"_source\": \"18,21\", \"temp_min\": 16, \"temp_max\": 22, \"temp_avg\": 19, \"feels_like\": 18, \"icon\": \"skc_d\", \"condition\": \"clear\", \"daytime\": \"d\", \"polar\": false, \"wind_speed\": 1.9, \"wind_gust\": 6.2, \"wind_dir\": \"w\", \"pressure_mm\": 753, \"pressure_pa\": 1004, \"humidity\": 58, \"soil_temp\": 20, \"soil_moisture\": 0.3, \"prec_mm\": 0, \"prec_period\": 360, \"prec_prob\": 0}, \"day_short\": {\"_source\": \"9,12,15,18\", \"temp\": 22, \"temp_min\": 17, \"feels_like\": 21, \"icon\": \"skc_d\", \"condition\": \"clear\", \"wind_speed\": 2.9, \"wind_gust\": 8.9, \"wind_dir\": \"w\", \"pressure_mm\": 754, \"pressure_pa\": 1006, \"humidity\": 53, \"uv_index\": 4, \"soil_temp\": 21, \"soil_moisture\": 0.31, \"prec_mm\": 0, \"prec_prob\": 0}, \"night_short\": {\"temp\": 12, \"feels_like\": 11, \"icon\": \"skc_n\", \"condition\": \"clear\", \"wind_speed\": 1, \"wind_gust\": 2.6, \"wind_dir\": \"nw\", \"pressure_mm\": 754, \"pressure_pa\": 1006, \"humidity\": 82, \"uv_index\": 0, \"soil_temp\": 16, \"soil_moisture\": 0.32, \"prec_mm\": 0, \"prec_prob\": 0}}, \"hours\": []}]}\n"
     ]
    }
   ],
   "source": [
    "import requests\n",
    "\n",
    "BASE_URL = \"https://weather.data-analyst.praktikum-services.ru/v1/forecast\" \n",
    "# URL for the get() method \n",
    "\n",
    "params = { # dictionary with request parameters\n",
    "        \"city\" : \"Moscow\", # indicating the city\n",
    "        \"hours\" : True # specifying the need for an hourly forecast \n",
    "}\n",
    "\n",
    "response = requests.get(BASE_URL, params=params)\n",
    "print(response.text)"
   ]
  },
  {
   "cell_type": "code",
   "execution_count": 100,
   "metadata": {},
   "outputs": [],
   "source": [
    "params = { # dictionary with request parameters\n",
    "        \"city\" : \"Moscow\", # indicating the city\n",
    "        \"limit\": 5,\n",
    "        \"hours\" : False, # specifying the need for an hourly forecast \n",
    "        \"extra\": True\n",
    "}"
   ]
  },
  {
   "cell_type": "code",
   "execution_count": 101,
   "metadata": {
    "collapsed": true
   },
   "outputs": [
    {
     "name": "stdout",
     "output_type": "stream",
     "text": [
      "{\"now\": 1566307174, \"now_dt\": \"2019-08-20T13:19:34.769Z\", \"info\": {\"f\": true, \"n\": true, \"nr\": true, \"ns\": true, \"nsr\": true, \"p\": true, \"lat\": 55.753215, \"lon\": 37.622504, \"geoid\": 213, \"slug\": \"moscow\", \"zoom\": 10, \"tzinfo\": {\"name\": \"Europe/Moscow\", \"abbr\": \"MSK\", \"offset\": 10800, \"dst\": false}, \"def_pressure_mm\": 745, \"def_pressure_pa\": 994, \"_h\": false, \"url\": \"https://yandex.ru/pogoda/moscow\"}, \"fact\": {\"temp\": 28, \"feels_like\": 28, \"icon\": \"bkn_d\", \"condition\": \"cloudy\", \"wind_speed\": 1, \"wind_gust\": 6.9, \"wind_dir\": \"w\", \"pressure_mm\": 752, \"pressure_pa\": 1003, \"humidity\": 39, \"uv_index\": 2, \"soil_temp\": 24, \"soil_moisture\": 0.36, \"daytime\": \"d\", \"polar\": false, \"season\": \"summer\", \"obs_time\": 1566306726, \"accum_prec\": {\"1\": 0, \"3\": 0, \"7\": 0}, \"source\": \"station\", \"prec_type\": 0, \"prec_strength\": 0, \"cloudness\": 0.75, \"_mode\": \"nearest(16:tp)\"}, \"forecasts\": [{\"date\": \"2019-08-20\", \"date_ts\": 1566248400, \"week\": 34, \"sunrise\": \"05:10\", \"sunset\": \"19:54\", \"rise_begin\": \"04:28\", \"set_end\": \"20:36\", \"moon_code\": 2, \"moon_text\": \"decreasing-moon\", \"parts\": {\"night\": {\"_source\": \"0,1,2,3,4,5\", \"temp_min\": 14, \"temp_max\": 16, \"temp_avg\": 15, \"feels_like\": 15, \"icon\": \"skc_n\", \"condition\": \"clear\", \"daytime\": \"n\", \"polar\": false, \"wind_speed\": 1.4, \"wind_gust\": 3.5, \"wind_dir\": \"sw\", \"pressure_mm\": 751, \"pressure_pa\": 1002, \"humidity\": 94, \"uv_index\": 0, \"soil_temp\": 15, \"soil_moisture\": 0.38, \"prec_mm\": 0, \"prec_period\": 360, \"prec_prob\": 0, \"prec_type\": 0, \"prec_strength\": 0, \"cloudness\": 0}, \"morning\": {\"_source\": \"6,7,8,9,10,11\", \"temp_min\": 15, \"temp_max\": 24, \"temp_avg\": 20, \"feels_like\": 21, \"icon\": \"skc_d\", \"condition\": \"clear\", \"daytime\": \"d\", \"polar\": false, \"wind_speed\": 2.4, \"wind_gust\": 5.2, \"wind_dir\": \"sw\", \"pressure_mm\": 752, \"pressure_pa\": 1003, \"humidity\": 76, \"uv_index\": 4, \"soil_temp\": 16, \"soil_moisture\": 0.37, \"prec_mm\": 0, \"prec_period\": 360, \"prec_prob\": 0, \"prec_type\": 0, \"prec_strength\": 0, \"cloudness\": 0}, \"day\": {\"_source\": \"12,13,14,15,16,17\", \"temp_min\": 26, \"temp_max\": 29, \"temp_avg\": 28, \"feels_like\": 30, \"icon\": \"skc_d\", \"condition\": \"clear\", \"daytime\": \"d\", \"polar\": false, \"wind_speed\": 2.8, \"wind_gust\": 6.9, \"wind_dir\": \"sw\", \"pressure_mm\": 752, \"pressure_pa\": 1003, \"humidity\": 55, \"uv_index\": 5, \"soil_temp\": 23, \"soil_moisture\": 0.36, \"prec_mm\": 0, \"prec_period\": 360, \"prec_prob\": 0, \"prec_type\": 0, \"prec_strength\": 0, \"cloudness\": 0}, \"evening\": {\"_source\": \"18,19,20,21,22,23\", \"temp_min\": 20, \"temp_max\": 27, \"temp_avg\": 24, \"feels_like\": 26, \"icon\": \"bkn_n\", \"condition\": \"cloudy\", \"daytime\": \"n\", \"polar\": false, \"wind_speed\": 2, \"wind_gust\": 4.8, \"wind_dir\": \"sw\", \"pressure_mm\": 752, \"pressure_pa\": 1003, \"humidity\": 74, \"uv_index\": 0, \"soil_temp\": 22, \"soil_moisture\": 0.35, \"prec_mm\": 0, \"prec_period\": 360, \"prec_prob\": 0, \"prec_type\": 0, \"prec_strength\": 0, \"cloudness\": 0.5}, \"day_short\": {\"_source\": \"8,9,10,11,12,13,14,15,16,17,18,19,20\", \"temp\": 29, \"temp_min\": 18, \"feels_like\": 32, \"icon\": \"skc_d\", \"condition\": \"clear\", \"wind_speed\": 2.8, \"wind_gust\": 6.9, \"wind_dir\": \"sw\", \"pressure_mm\": 752, \"pressure_pa\": 1003, \"humidity\": 61, \"uv_index\": 5, \"soil_temp\": 22, \"soil_moisture\": 0.36, \"prec_mm\": 0, \"prec_prob\": 0, \"prec_type\": 0, \"prec_strength\": 0, \"cloudness\": 0}, \"night_short\": {\"temp\": 14, \"feels_like\": 14, \"icon\": \"skc_n\", \"condition\": \"clear\", \"wind_speed\": 1.4, \"wind_gust\": 3.5, \"wind_dir\": \"sw\", \"pressure_mm\": 751, \"pressure_pa\": 1002, \"humidity\": 94, \"uv_index\": 0, \"soil_temp\": 15, \"soil_moisture\": 0.38, \"prec_mm\": 0, \"prec_prob\": 0, \"prec_type\": 0, \"prec_strength\": 0, \"cloudness\": 0}}}, {\"date\": \"2019-08-21\", \"date_ts\": 1566334800, \"week\": 34, \"sunrise\": \"05:12\", \"sunset\": \"19:52\", \"moon_code\": 3, \"moon_text\": \"decreasing-moon\", \"parts\": {\"night\": {\"_source\": \"0,1,2,3,4,5\", \"temp_min\": 18, \"temp_max\": 19, \"temp_avg\": 19, \"feels_like\": 21, \"icon\": \"bkn_n\", \"condition\": \"cloudy\", \"daytime\": \"n\", \"polar\": false, \"wind_speed\": 1.2, \"wind_gust\": 2.7, \"wind_dir\": \"nw\", \"pressure_mm\": 753, \"pressure_pa\": 1004, \"humidity\": 95, \"uv_index\": 0, \"soil_temp\": 18, \"soil_moisture\": 0.35, \"prec_mm\": 0, \"prec_period\": 360, \"prec_prob\": 0, \"prec_type\": 0, \"prec_strength\": 0, \"cloudness\": 0.5}, \"morning\": {\"_source\": \"6,7,8,9,10,11\", \"temp_min\": 18, \"temp_max\": 22, \"temp_avg\": 20, \"feels_like\": 22, \"icon\": \"ovc\", \"condition\": \"overcast\", \"daytime\": \"d\", \"polar\": false, \"wind_speed\": 1.7, \"wind_gust\": 5.3, \"wind_dir\": \"n\", \"pressure_mm\": 754, \"pressure_pa\": 1006, \"humidity\": 85, \"uv_index\": 4, \"soil_temp\": 19, \"soil_moisture\": 0.35, \"prec_mm\": 0, \"prec_period\": 360, \"prec_prob\": 0, \"prec_type\": 0, \"prec_strength\": 0, \"cloudness\": 1}, \"day\": {\"_source\": \"12,13,14,15,16,17\", \"temp_min\": 24, \"temp_max\": 25, \"temp_avg\": 25, \"feels_like\": 29, \"icon\": \"bkn_d\", \"condition\": \"cloudy\", \"daytime\": \"d\", \"polar\": false, \"wind_speed\": 1, \"wind_gust\": 3.5, \"wind_dir\": \"ne\", \"pressure_mm\": 754, \"pressure_pa\": 1006, \"humidity\": 65, \"uv_index\": 5, \"soil_temp\": 22, \"soil_moisture\": 0.35, \"prec_mm\": 0, \"prec_period\": 360, \"prec_prob\": 0, \"prec_type\": 0, \"prec_strength\": 0, \"cloudness\": 0.75}, \"evening\": {\"_source\": \"18,19,20,21,22,23\", \"temp_min\": 20, \"temp_max\": 24, \"temp_avg\": 22, \"feels_like\": 24, \"icon\": \"bkn_n\", \"condition\": \"partly-cloudy\", \"daytime\": \"n\", \"polar\": false, \"wind_speed\": 1.2, \"wind_gust\": 2.5, \"wind_dir\": \"se\", \"pressure_mm\": 752, \"pressure_pa\": 1003, \"humidity\": 79, \"uv_index\": 0, \"soil_temp\": 21, \"soil_moisture\": 0.35, \"prec_mm\": 0, \"prec_period\": 360, \"prec_prob\": 0, \"prec_type\": 0, \"prec_strength\": 0, \"cloudness\": 0.25}, \"day_short\": {\"_source\": \"8,9,10,11,12,13,14,15,16,17,18,19,20\", \"temp\": 25, \"temp_min\": 20, \"feels_like\": 29, \"icon\": \"bkn_d\", \"condition\": \"cloudy\", \"wind_speed\": 1.7, \"wind_gust\": 5.3, \"wind_dir\": \"ne\", \"pressure_mm\": 753, \"pressure_pa\": 1004, \"humidity\": 72, \"uv_index\": 5, \"soil_temp\": 21, \"soil_moisture\": 0.35, \"prec_mm\": 0, \"prec_prob\": 0, \"prec_type\": 0, \"prec_strength\": 0, \"cloudness\": 0.75}, \"night_short\": {\"temp\": 18, \"feels_like\": 20, \"icon\": \"bkn_n\", \"condition\": \"cloudy\", \"wind_speed\": 1.2, \"wind_gust\": 2.7, \"wind_dir\": \"nw\", \"pressure_mm\": 753, \"pressure_pa\": 1004, \"humidity\": 95, \"uv_index\": 0, \"soil_temp\": 18, \"soil_moisture\": 0.35, \"prec_mm\": 0, \"prec_prob\": 0, \"prec_type\": 0, \"prec_strength\": 0, \"cloudness\": 0.5}}}, {\"date\": \"2019-08-22\", \"date_ts\": 1566421200, \"week\": 34, \"sunrise\": \"05:13\", \"sunset\": \"19:49\", \"moon_code\": 3, \"moon_text\": \"decreasing-moon\", \"parts\": {\"night\": {\"_source\": \"0,1,2,3,4,5\", \"temp_min\": 19, \"temp_max\": 20, \"temp_avg\": 20, \"feels_like\": 22, \"icon\": \"skc_n\", \"condition\": \"clear\", \"daytime\": \"n\", \"polar\": false, \"wind_speed\": 2, \"wind_gust\": 5.5, \"wind_dir\": \"se\", \"pressure_mm\": 752, \"pressure_pa\": 1003, \"humidity\": 91, \"uv_index\": 0, \"soil_temp\": 19, \"soil_moisture\": 0.34, \"prec_mm\": 0, \"prec_period\": 360, \"prec_prob\": 0, \"prec_type\": 0, \"prec_strength\": 0, \"cloudness\": 0}, \"morning\": {\"_source\": \"6,7,8,9,10,11\", \"temp_min\": 19, \"temp_max\": 26, \"temp_avg\": 23, \"feels_like\": 25, \"icon\": \"bkn_d\", \"condition\": \"partly-cloudy\", \"daytime\": \"d\", \"polar\": false, \"wind_speed\": 2.8, \"wind_gust\": 8, \"wind_dir\": \"s\", \"pressure_mm\": 751, \"pressure_pa\": 1002, \"humidity\": 75, \"uv_index\": 4, \"soil_temp\": 19, \"soil_moisture\": 0.34, \"prec_mm\": 0, \"prec_period\": 360, \"prec_prob\": 0, \"prec_type\": 0, \"prec_strength\": 0, \"cloudness\": 0.25}, \"day\": {\"_source\": \"12,13,14,15,16,17\", \"temp_min\": 20, \"temp_max\": 25, \"temp_avg\": 23, \"feels_like\": 23, \"icon\": \"bkn_d\", \"condition\": \"cloudy\", \"daytime\": \"d\", \"polar\": false, \"wind_speed\": 4.7, \"wind_gust\": 11.4, \"wind_dir\": \"w\", \"pressure_mm\": 752, \"pressure_pa\": 1003, \"humidity\": 63, \"uv_index\": 5, \"soil_temp\": 23, \"soil_moisture\": 0.34, \"prec_mm\": 0, \"prec_period\": 360, \"prec_prob\": 0, \"prec_type\": 0, \"prec_strength\": 0, \"cloudness\": 0.5}, \"evening\": {\"_source\": \"18,19,20,21,22,23\", \"temp_min\": 16, \"temp_max\": 19, \"temp_avg\": 18, \"feels_like\": 17, \"icon\": \"bkn_n\", \"condition\": \"cloudy\", \"daytime\": \"n\", \"polar\": false, \"wind_speed\": 2.8, \"wind_gust\": 6, \"wind_dir\": \"n\", \"pressure_mm\": 753, \"pressure_pa\": 1004, \"humidity\": 76, \"uv_index\": 0, \"soil_temp\": 19, \"soil_moisture\": 0.34, \"prec_mm\": 0, \"prec_period\": 360, \"prec_prob\": 0, \"prec_type\": 0, \"prec_strength\": 0, \"cloudness\": 0.5}, \"day_short\": {\"_source\": \"8,9,10,11,12,13,14,15,16,17,18,19,20\", \"temp\": 26, \"temp_min\": 18, \"feels_like\": 27, \"icon\": \"bkn_d\", \"condition\": \"cloudy\", \"wind_speed\": 4.7, \"wind_gust\": 11.4, \"wind_dir\": \"nw\", \"pressure_mm\": 752, \"pressure_pa\": 1003, \"humidity\": 67, \"uv_index\": 5, \"soil_temp\": 20, \"soil_moisture\": 0.34, \"prec_mm\": 0, \"prec_prob\": 0, \"prec_type\": 0, \"prec_strength\": 0, \"cloudness\": 0.5}, \"night_short\": {\"temp\": 19, \"feels_like\": 20, \"icon\": \"skc_n\", \"condition\": \"clear\", \"wind_speed\": 2, \"wind_gust\": 5.5, \"wind_dir\": \"se\", \"pressure_mm\": 752, \"pressure_pa\": 1003, \"humidity\": 91, \"uv_index\": 0, \"soil_temp\": 19, \"soil_moisture\": 0.34, \"prec_mm\": 0, \"prec_prob\": 0, \"prec_type\": 0, \"prec_strength\": 0, \"cloudness\": 0}}}, {\"date\": \"2019-08-23\", \"date_ts\": 1566507600, \"week\": 34, \"sunrise\": \"05:15\", \"sunset\": \"19:47\", \"moon_code\": 4, \"moon_text\": \"last-quarter\", \"parts\": {\"night\": {\"_source\": \"0,1,2,3,4,5\", \"temp_min\": 12, \"temp_max\": 15, \"temp_avg\": 14, \"feels_like\": 13, \"icon\": \"skc_n\", \"condition\": \"clear\", \"daytime\": \"n\", \"polar\": false, \"wind_speed\": 1.8, \"wind_gust\": 4.5, \"wind_dir\": \"n\", \"pressure_mm\": 755, \"pressure_pa\": 1007, \"humidity\": 87, \"uv_index\": 0, \"soil_temp\": 16, \"soil_moisture\": 0.34, \"prec_mm\": 0, \"prec_period\": 360, \"prec_prob\": 0, \"prec_type\": 0, \"prec_strength\": 0, \"cloudness\": 0}, \"morning\": {\"_source\": \"6,7,8,9,10,11\", \"temp_min\": 12, \"temp_max\": 19, \"temp_avg\": 16, \"feels_like\": 16, \"icon\": \"skc_d\", \"condition\": \"clear\", \"daytime\": \"d\", \"polar\": false, \"wind_speed\": 1.7, \"wind_gust\": 5.2, \"wind_dir\": \"n\", \"pressure_mm\": 756, \"pressure_pa\": 1008, \"humidity\": 74, \"uv_index\": 4, \"soil_temp\": 16, \"soil_moisture\": 0.34, \"prec_mm\": 0, \"prec_period\": 360, \"prec_prob\": 0, \"prec_type\": 0, \"prec_strength\": 0, \"cloudness\": 0}, \"day\": {\"_source\": \"12,13,14,15\", \"temp_min\": 20, \"temp_max\": 21, \"temp_avg\": 21, \"feels_like\": 20, \"icon\": \"bkn_d\", \"condition\": \"partly-cloudy\", \"daytime\": \"d\", \"polar\": false, \"wind_speed\": 2, \"wind_gust\": 6.1, \"wind_dir\": \"n\", \"pressure_mm\": 755, \"pressure_pa\": 1007, \"humidity\": 48, \"uv_index\": 4, \"soil_temp\": 20, \"soil_moisture\": 0.33, \"prec_mm\": 0, \"prec_period\": 360, \"prec_prob\": 0, \"prec_type\": 0, \"prec_strength\": 0, \"cloudness\": 0.25}, \"evening\": {\"_source\": \"18,21\", \"temp_min\": 16, \"temp_max\": 21, \"temp_avg\": 19, \"feels_like\": 19, \"icon\": \"skc_d\", \"condition\": \"clear\", \"daytime\": \"d\", \"polar\": false, \"wind_speed\": 1.3, \"wind_gust\": 2.9, \"wind_dir\": \"nw\", \"pressure_mm\": 754, \"pressure_pa\": 1006, \"humidity\": 61, \"uv_index\": 0, \"soil_temp\": 20, \"soil_moisture\": 0.32, \"prec_mm\": 0, \"prec_period\": 360, \"prec_prob\": 0, \"prec_type\": 0, \"prec_strength\": 0, \"cloudness\": 0}, \"day_short\": {\"_source\": \"8,9,10,11,12,13,14,15\", \"temp\": 21, \"temp_min\": 15, \"feels_like\": 21, \"icon\": \"bkn_d\", \"condition\": \"partly-cloudy\", \"wind_speed\": 2, \"wind_gust\": 6.1, \"wind_dir\": \"n\", \"pressure_mm\": 756, \"pressure_pa\": 1008, \"humidity\": 57, \"uv_index\": 4, \"soil_temp\": 19, \"soil_moisture\": 0.33, \"prec_mm\": 0, \"prec_prob\": 0, \"prec_type\": 0, \"prec_strength\": 0, \"cloudness\": 0.25}, \"night_short\": {\"temp\": 12, \"feels_like\": 11, \"icon\": \"skc_n\", \"condition\": \"clear\", \"wind_speed\": 1.8, \"wind_gust\": 4.5, \"wind_dir\": \"n\", \"pressure_mm\": 755, \"pressure_pa\": 1007, \"humidity\": 87, \"uv_index\": 0, \"soil_temp\": 16, \"soil_moisture\": 0.34, \"prec_mm\": 0, \"prec_prob\": 0, \"prec_type\": 0, \"prec_strength\": 0, \"cloudness\": 0}}}, {\"date\": \"2019-08-24\", \"date_ts\": 1566594000, \"week\": 34, \"sunrise\": \"05:17\", \"sunset\": \"19:44\", \"moon_code\": 4, \"moon_text\": \"last-quarter\", \"parts\": {\"night\": {\"_source\": \"0,3\", \"temp_min\": 12, \"temp_max\": 13, \"temp_avg\": 13, \"feels_like\": 12, \"icon\": \"skc_n\", \"condition\": \"clear\", \"daytime\": \"n\", \"polar\": false, \"wind_speed\": 1, \"wind_gust\": 2.6, \"wind_dir\": \"nw\", \"pressure_mm\": 754, \"pressure_pa\": 1006, \"humidity\": 82, \"uv_index\": 0, \"soil_temp\": 16, \"soil_moisture\": 0.32, \"prec_mm\": 0, \"prec_period\": 360, \"prec_prob\": 0, \"prec_type\": 0, \"prec_strength\": 0, \"cloudness\": 0}, \"morning\": {\"_source\": \"6,9\", \"temp_min\": 11, \"temp_max\": 17, \"temp_avg\": 14, \"feels_like\": 13, \"icon\": \"skc_d\", \"condition\": \"clear\", \"daytime\": \"d\", \"polar\": false, \"wind_speed\": 1.8, \"wind_gust\": 6.3, \"wind_dir\": \"w\", \"pressure_mm\": 754, \"pressure_pa\": 1006, \"humidity\": 77, \"uv_index\": 2, \"soil_temp\": 16, \"soil_moisture\": 0.32, \"prec_mm\": 0, \"prec_period\": 360, \"prec_prob\": 0, \"prec_type\": 0, \"prec_strength\": 0, \"cloudness\": 0}, \"day\": {\"_source\": \"12,15\", \"temp_min\": 21, \"temp_max\": 22, \"temp_avg\": 22, \"feels_like\": 21, \"icon\": \"skc_d\", \"condition\": \"clear\", \"daytime\": \"d\", \"polar\": false, \"wind_speed\": 2.9, \"wind_gust\": 8.9, \"wind_dir\": \"w\", \"pressure_mm\": 754, \"pressure_pa\": 1006, \"humidity\": 48, \"uv_index\": 4, \"soil_temp\": 21, \"soil_moisture\": 0.31, \"prec_mm\": 0, \"prec_period\": 360, \"prec_prob\": 0, \"prec_type\": 0, \"prec_strength\": 0, \"cloudness\": 0}, \"evening\": {\"_source\": \"18,21\", \"temp_min\": 16, \"temp_max\": 22, \"temp_avg\": 19, \"feels_like\": 18, \"icon\": \"skc_d\", \"condition\": \"clear\", \"daytime\": \"d\", \"polar\": false, \"wind_speed\": 1.9, \"wind_gust\": 6.2, \"wind_dir\": \"w\", \"pressure_mm\": 753, \"pressure_pa\": 1004, \"humidity\": 58, \"soil_temp\": 20, \"soil_moisture\": 0.3, \"prec_mm\": 0, \"prec_period\": 360, \"prec_prob\": 0, \"prec_type\": 0, \"prec_strength\": 0, \"cloudness\": 0}, \"day_short\": {\"_source\": \"9,12,15,18\", \"temp\": 22, \"temp_min\": 17, \"feels_like\": 21, \"icon\": \"skc_d\", \"condition\": \"clear\", \"wind_speed\": 2.9, \"wind_gust\": 8.9, \"wind_dir\": \"w\", \"pressure_mm\": 754, \"pressure_pa\": 1006, \"humidity\": 53, \"uv_index\": 4, \"soil_temp\": 21, \"soil_moisture\": 0.31, \"prec_mm\": 0, \"prec_prob\": 0, \"prec_type\": 0, \"prec_strength\": 0, \"cloudness\": 0}, \"night_short\": {\"temp\": 12, \"feels_like\": 11, \"icon\": \"skc_n\", \"condition\": \"clear\", \"wind_speed\": 1, \"wind_gust\": 2.6, \"wind_dir\": \"nw\", \"pressure_mm\": 754, \"pressure_pa\": 1006, \"humidity\": 82, \"uv_index\": 0, \"soil_temp\": 16, \"soil_moisture\": 0.32, \"prec_mm\": 0, \"prec_prob\": 0, \"prec_type\": 0, \"prec_strength\": 0, \"cloudness\": 0}}}]}\n"
     ]
    }
   ],
   "source": [
    "response = requests.get(BASE_URL, params=params)\n",
    "print(response.text)"
   ]
  },
  {
   "cell_type": "markdown",
   "metadata": {},
   "source": [
    "### <font color=blue>JSON</font>"
   ]
  },
  {
   "cell_type": "code",
   "execution_count": 102,
   "metadata": {},
   "outputs": [
    {
     "data": {
      "text/plain": [
       "[{'name': 'General Slocum', 'date': 'June 15, 1904'},\n",
       " {'name': 'Camorta', 'date': 'May 6, 1902'},\n",
       " {'name': 'Norge', 'date': 'June 28, 1904'}]"
      ]
     },
     "execution_count": 102,
     "metadata": {},
     "output_type": "execute_result"
    }
   ],
   "source": [
    "[\n",
    "    {\n",
    "        \"name\": \"General Slocum\",\n",
    "        \"date\": \"June 15, 1904\" \n",
    "    },\n",
    "    {\n",
    "        \"name\": \"Camorta\",\n",
    "        \"date\": \"May 6, 1902\"\n",
    "    },\n",
    "    {\n",
    "        \"name\": \"Norge\",\n",
    "        \"date\": \"June 28, 1904\"\n",
    "    }\n",
    "]"
   ]
  },
  {
   "cell_type": "code",
   "execution_count": 103,
   "metadata": {},
   "outputs": [
    {
     "data": {
      "text/plain": [
       "{'name': 'Camorta',\n",
       " 'date': 'May 6, 1902',\n",
       " 'details': {'place': 'Bay of Bengal', 'reason': 'Force of nature'}}"
      ]
     },
     "execution_count": 103,
     "metadata": {},
     "output_type": "execute_result"
    }
   ],
   "source": [
    "{\n",
    "    \"name\": \"Camorta\",\n",
    "    \"date\": \"May 6, 1902\",\n",
    "    \"details\": {\n",
    "        \"place\": \"Bay of Bengal\",\n",
    "        \"reason\": \"Force of nature\"\n",
    "    } \n",
    "}"
   ]
  },
  {
   "cell_type": "code",
   "execution_count": 104,
   "metadata": {},
   "outputs": [],
   "source": [
    "import json"
   ]
  },
  {
   "cell_type": "code",
   "execution_count": 105,
   "metadata": {},
   "outputs": [
    {
     "name": "stdout",
     "output_type": "stream",
     "text": [
      "Name : General Slocum, date : June 15, 1904\n"
     ]
    }
   ],
   "source": [
    "x = '{\"name\": \"General Slocum\", \"date\": \"June 15, 1904\"}'\n",
    "y = json.loads(x)# converts python to json\n",
    "\n",
    "print('Name : {0}, date : {1}'.format(y['name'], y['date']))"
   ]
  },
  {
   "cell_type": "code",
   "execution_count": 107,
   "metadata": {},
   "outputs": [
    {
     "name": "stdout",
     "output_type": "stream",
     "text": [
      "Name : General Slocum, date : June 15, 1904\n",
      "Name : Camorta, date : May 6, 1902\n"
     ]
    }
   ],
   "source": [
    "x = '[{\"name\": \"General Slocum\", \"date\": \"June 15, 1904\"}, {\"name\": \"Camorta\", \"date\": \"May 6, 1902\"}]'\n",
    "y = json.loads(x)\n",
    "for i in y:\n",
    "        print('Name : {0}, date : {1}'.format(i['name'], i['date']))"
   ]
  },
  {
   "cell_type": "code",
   "execution_count": 108,
   "metadata": {},
   "outputs": [
    {
     "name": "stdout",
     "output_type": "stream",
     "text": [
      "[{\"name\": \"General Slocum\", \"date\": \"June 15, 1904\"}, {\"name\": \"Camorta\", \"date\": \"May 6, 1902\"}]\n"
     ]
    }
   ],
   "source": [
    "out = json.dumps(y) # converts json to python\n",
    "print(out)"
   ]
  },
  {
   "cell_type": "code",
   "execution_count": 110,
   "metadata": {},
   "outputs": [
    {
     "name": "stdout",
     "output_type": "stream",
     "text": [
      "{'f': True, 'n': True, 'nr': True, 'ns': True, 'nsr': True, 'p': True, 'lat': 55.753215, 'lon': 37.622504, 'geoid': 213, 'slug': 'moscow', 'zoom': 10, 'tzinfo': {'name': 'Europe/Moscow', 'abbr': 'MSK', 'offset': 10800, 'dst': False}, 'def_pressure_mm': 745, 'def_pressure_pa': 994, '_h': False, 'url': 'https://yandex.ru/pogoda/moscow'}\n"
     ]
    }
   ],
   "source": [
    "response_parsed = json.loads(response.text)\n",
    "print(response_parsed['info'])"
   ]
  },
  {
   "cell_type": "code",
   "execution_count": 111,
   "metadata": {},
   "outputs": [
    {
     "name": "stdout",
     "output_type": "stream",
     "text": [
      "{'temp': 28, 'feels_like': 28, 'icon': 'bkn_d', 'condition': 'cloudy', 'wind_speed': 1, 'wind_gust': 6.9, 'wind_dir': 'w', 'pressure_mm': 752, 'pressure_pa': 1003, 'humidity': 39, 'uv_index': 2, 'soil_temp': 24, 'soil_moisture': 0.36, 'daytime': 'd', 'polar': False, 'season': 'summer', 'obs_time': 1566306726, 'accum_prec': {'1': 0, '3': 0, '7': 0}, 'source': 'station', 'prec_type': 0, 'prec_strength': 0, 'cloudness': 0.75, '_mode': 'nearest(16:tp)'}\n"
     ]
    }
   ],
   "source": [
    "print(response_parsed['fact'])"
   ]
  },
  {
   "cell_type": "code",
   "execution_count": 112,
   "metadata": {},
   "outputs": [
    {
     "name": "stdout",
     "output_type": "stream",
     "text": [
      "{\"temp\": 28, \"feels_like\": 28, \"icon\": \"bkn_d\", \"condition\": \"cloudy\", \"wind_speed\": 1, \"wind_gust\": 6.9, \"wind_dir\": \"w\", \"pressure_mm\": 752, \"pressure_pa\": 1003, \"humidity\": 39, \"uv_index\": 2, \"soil_temp\": 24, \"soil_moisture\": 0.36, \"daytime\": \"d\", \"polar\": false, \"season\": \"summer\", \"obs_time\": 1566306726, \"accum_prec\": {\"1\": 0, \"3\": 0, \"7\": 0}, \"source\": \"station\", \"prec_type\": 0, \"prec_strength\": 0, \"cloudness\": 0.75, \"_mode\": \"nearest(16:tp)\"}\n"
     ]
    }
   ],
   "source": [
    "fact_weather =response_parsed['fact']\n",
    "print(json.dumps(fact_weather))"
   ]
  },
  {
   "cell_type": "code",
   "execution_count": null,
   "metadata": {},
   "outputs": [],
   "source": []
  }
 ],
 "metadata": {
  "kernelspec": {
   "display_name": "Python 3",
   "language": "python",
   "name": "python3"
  },
  "language_info": {
   "codemirror_mode": {
    "name": "ipython",
    "version": 3
   },
   "file_extension": ".py",
   "mimetype": "text/x-python",
   "name": "python",
   "nbconvert_exporter": "python",
   "pygments_lexer": "ipython3",
   "version": "3.7.6"
  }
 },
 "nbformat": 4,
 "nbformat_minor": 4
}
