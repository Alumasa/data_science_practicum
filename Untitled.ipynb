{
 "cells": [
  {
   "cell_type": "code",
   "execution_count": 1,
   "metadata": {},
   "outputs": [
    {
     "ename": "SyntaxError",
     "evalue": "invalid syntax (<ipython-input-1-192f0e31495f>, line 1)",
     "output_type": "error",
     "traceback": [
      "\u001b[1;36m  File \u001b[1;32m\"<ipython-input-1-192f0e31495f>\"\u001b[1;36m, line \u001b[1;32m1\u001b[0m\n\u001b[1;33m    <!-- <table> tag marks the beginning of the table -->\u001b[0m\n\u001b[1;37m    ^\u001b[0m\n\u001b[1;31mSyntaxError\u001b[0m\u001b[1;31m:\u001b[0m invalid syntax\n"
     ]
    }
   ],
   "source": [
    "<!-- <table> tag marks the beginning of the table -->\n",
    "<table id=\"student\" class='Stanford'> \n",
    "    <!-- <tr> tag marks the beginning of the row -->\n",
    "    <tr> \n",
    "        <!-- <th> tag marks the beginning of the heading cell and </th> tag marks its end -->\n",
    "        <th>Last name</th>\n",
    "        <th>First name</th> \n",
    "        <th>Group</th>\n",
    "    </tr>\n",
    "    <!-- </tr> tag marks the end of the row --> \n",
    "    <!-- it is followed by <tr> tag, which defines the beginning of a new row -->\n",
    "    <tr>\n",
    "        <!-- <td> tag marks the beginning of a data cell and </td> tag marks its end -->\n",
    "        <td>Smith</td> \n",
    "        <td>Alex</td> \n",
    "        <td>41-A</td> \n",
    "    </tr> \n",
    "    <tr> \n",
    "        <td>Stafford</td> \n",
    "        <td>John</td> \n",
    "        <td>13-C</td> \n",
    "    </tr>\n",
    "    <tr> \n",
    "        <td>Johnson</td> \n",
    "        <td>Mark</td> \n",
    "        <td>41-B</td> \n",
    "</tr>\n",
    "</table>\n",
    "<!-- </table> tag marks the end of the table -->"
   ]
  },
  {
   "cell_type": "code",
   "execution_count": null,
   "metadata": {},
   "outputs": [],
   "source": []
  }
 ],
 "metadata": {
  "kernelspec": {
   "display_name": "Python 3",
   "language": "python",
   "name": "python3"
  },
  "language_info": {
   "codemirror_mode": {
    "name": "ipython",
    "version": 3
   },
   "file_extension": ".py",
   "mimetype": "text/x-python",
   "name": "python",
   "nbconvert_exporter": "python",
   "pygments_lexer": "ipython3",
   "version": "3.7.6"
  }
 },
 "nbformat": 4,
 "nbformat_minor": 4
}
