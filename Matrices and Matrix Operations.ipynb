{
 "cells": [
  {
   "cell_type": "markdown",
   "metadata": {},
   "source": [
    "### Creating Matrices"
   ]
  },
  {
   "cell_type": "code",
   "execution_count": 1,
   "metadata": {},
   "outputs": [
    {
     "name": "stdout",
     "output_type": "stream",
     "text": [
      "[[1 2 3]\n",
      " [4 5 6]\n",
      " [7 8 9]]\n"
     ]
    }
   ],
   "source": [
    "import numpy as np\n",
    "\n",
    "matrix = np.array([\n",
    "    [1, 2, 3], \n",
    "    [4, 5, 6],\n",
    "    [7, 8, 9]])\n",
    "print(matrix)"
   ]
  },
  {
   "cell_type": "code",
   "execution_count": 2,
   "metadata": {},
   "outputs": [
    {
     "name": "stdout",
     "output_type": "stream",
     "text": [
      "[[ 1  2  3]\n",
      " [-1 -2 -3]]\n"
     ]
    }
   ],
   "source": [
    "import numpy as np\n",
    "\n",
    "string0 = np.array([1,2,3])\n",
    "string1 = np.array([-1,-2,-3])\n",
    "list_of_vectors = [string0, string1]\n",
    "matrix_from_vectors = np.array(list_of_vectors)\n",
    "\n",
    "print(matrix_from_vectors)"
   ]
  },
  {
   "cell_type": "code",
   "execution_count": 3,
   "metadata": {},
   "outputs": [
    {
     "name": "stdout",
     "output_type": "stream",
     "text": [
      "     a   b\n",
      "0  120  42\n",
      "1   60  50\n",
      "2   75  90\n",
      "[[120  42]\n",
      " [ 60  50]\n",
      " [ 75  90]]\n"
     ]
    }
   ],
   "source": [
    "import pandas as pd\n",
    "\n",
    "df = pd.DataFrame({'a': [ 120,  60, 75], 'b': [42, 50, 90]})\n",
    "matrix = df.values\n",
    "print(df)\n",
    "print(matrix)"
   ]
  },
  {
   "cell_type": "code",
   "execution_count": 4,
   "metadata": {},
   "outputs": [
    {
     "name": "stdout",
     "output_type": "stream",
     "text": [
      "Size: (2, 3)\n",
      "A[1, 2]: 4\n"
     ]
    }
   ],
   "source": [
    "import numpy as np\n",
    "\n",
    "A = np.array([\n",
    "    [1, 2, 3], \n",
    "    [2, 3, 4]])\n",
    "\n",
    "print('Size:', A.shape)\n",
    "print('A[1, 2]:', A[1, 2])"
   ]
  },
  {
   "cell_type": "code",
   "execution_count": 5,
   "metadata": {},
   "outputs": [
    {
     "name": "stdout",
     "output_type": "stream",
     "text": [
      "Row 0: [1 2 3]\n",
      "Column 2: [ 3  6  9 12]\n"
     ]
    }
   ],
   "source": [
    "import numpy as np\n",
    "\n",
    "matrix = np.array([\n",
    "    [1, 2, 3], \n",
    "    [4, 5, 6],\n",
    "    [7, 8, 9],\n",
    "    [10,11,12]])\n",
    "\n",
    "print('Row 0:', matrix[0, :])\n",
    "print('Column 2:', matrix[:, 2])"
   ]
  },
  {
   "cell_type": "code",
   "execution_count": 7,
   "metadata": {},
   "outputs": [
    {
     "name": "stdout",
     "output_type": "stream",
     "text": [
      "[[  3  14 159]\n",
      " [ -2   7 183]]\n"
     ]
    }
   ],
   "source": [
    "import numpy as np\n",
    "\n",
    "matrix = np.array([[3, 14, 159], [-2, 7, 183]])# < write code here >\n",
    "\n",
    "print(matrix)"
   ]
  },
  {
   "cell_type": "code",
   "execution_count": 8,
   "metadata": {},
   "outputs": [
    {
     "name": "stdout",
     "output_type": "stream",
     "text": [
      "[[ 10   2  72]\n",
      " [  3   5 111]\n",
      " [ 15   3  50]\n",
      " [ 27   0  76]\n",
      " [  7   1  85]]\n"
     ]
    }
   ],
   "source": [
    "import numpy as np\n",
    "import pandas as pd\n",
    "\n",
    "monday_df = pd.DataFrame({'Minutes': [10, 3, 15, 27, 7], \n",
    "                          'Messages': [2, 5, 3, 0, 1], \n",
    "                          'Megabytes': [72, 111, 50, 76, 85]})\n",
    " \n",
    "monday = monday_df.values# < write code here >\n",
    "\n",
    "print(monday)"
   ]
  },
  {
   "cell_type": "code",
   "execution_count": 9,
   "metadata": {},
   "outputs": [
    {
     "name": "stdout",
     "output_type": "stream",
     "text": [
      "[27  0 76]\n"
     ]
    }
   ],
   "source": [
    "print(monday[3, :])"
   ]
  },
  {
   "cell_type": "code",
   "execution_count": 10,
   "metadata": {},
   "outputs": [
    {
     "name": "stdout",
     "output_type": "stream",
     "text": [
      "[ 72 111  50  76  85]\n"
     ]
    }
   ],
   "source": [
    "print(monday[:, 2])"
   ]
  },
  {
   "cell_type": "markdown",
   "metadata": {},
   "source": [
    "### Operations with Matrix Elements"
   ]
  },
  {
   "cell_type": "code",
   "execution_count": 11,
   "metadata": {},
   "outputs": [
    {
     "name": "stdout",
     "output_type": "stream",
     "text": [
      "[[ 6  8]\n",
      " [10 12]]\n"
     ]
    }
   ],
   "source": [
    "import numpy as np\n",
    "\n",
    "matrix1 = np.array([\n",
    "    [1, 2], \n",
    "    [3, 4]])\n",
    "\n",
    "matrix2 = np.array([\n",
    "    [5, 6], \n",
    "    [7, 8]])\n",
    "\n",
    "print(matrix1 + matrix2)"
   ]
  },
  {
   "cell_type": "code",
   "execution_count": 12,
   "metadata": {},
   "outputs": [
    {
     "name": "stdout",
     "output_type": "stream",
     "text": [
      "[[2 4]\n",
      " [6 8]]\n",
      "[[-1  0]\n",
      " [ 1  2]]\n"
     ]
    }
   ],
   "source": [
    "import numpy as np\n",
    "\n",
    "matrix = np.array([\n",
    "    [1, 2], \n",
    "    [3, 4]])\n",
    "\n",
    "print(matrix * 2)\n",
    "print(matrix - 2)"
   ]
  },
  {
   "cell_type": "code",
   "execution_count": 14,
   "metadata": {},
   "outputs": [
    {
     "name": "stdout",
     "output_type": "stream",
     "text": [
      "In a week\n",
      "   Minutes  Messages  Megabytes\n",
      "0      174         7        652\n",
      "1      100        22        564\n",
      "2       69        10        348\n",
      "3      192        17        409\n",
      "4       95         8        401\n",
      "\n",
      "Forecast for a month\n",
      "   Minutes  Messages  Megabytes\n",
      "0      745        30       2794\n",
      "1      428        94       2417\n",
      "2      295        42       1491\n",
      "3      822        72       1752\n",
      "4      407        34       1718\n"
     ]
    }
   ],
   "source": [
    "import numpy as np\n",
    "import pandas as pd\n",
    "\n",
    "services = ['Minutes', 'Messages', 'Megabytes']\n",
    "\n",
    "monday = np.array([\n",
    "    [10, 2, 72],\n",
    "    [3, 5, 111],\n",
    "    [15, 3, 50],\n",
    "    [27, 0, 76],\n",
    "    [7, 1, 85]])\n",
    "\n",
    "tuesday = np.array([\n",
    "    [33, 0, 108],\n",
    "    [21, 5, 70],\n",
    "    [15, 2, 15],\n",
    "    [29, 6, 34],\n",
    "    [2, 1, 146]])\n",
    "\n",
    "wednesday = np.array([\n",
    "    [16, 0, 20],\n",
    "    [23, 5, 34],\n",
    "    [5, 0, 159],\n",
    "    [35, 1, 74],\n",
    "    [5, 0, 15]])\n",
    "\n",
    "thursday = np.array([\n",
    "    [25, 1, 53],\n",
    "    [15, 0, 26],\n",
    "    [10, 0, 73],\n",
    "    [18, 1, 24],\n",
    "    [2, 2, 24]])\n",
    "\n",
    "friday = np.array([\n",
    "    [32, 0, 33],\n",
    "    [4, 0, 135],\n",
    "    [2, 2, 21],\n",
    "    [18, 5, 56],\n",
    "    [27, 2, 21]])\n",
    "\n",
    "saturday = np.array([\n",
    "    [28, 0, 123],\n",
    "    [16, 5, 165],\n",
    "    [10, 1, 12],\n",
    "    [42, 4, 80],\n",
    "    [18, 2, 20]])\n",
    "\n",
    "sunday = np.array([\n",
    "    [30, 4, 243],\n",
    "    [18, 2, 23],\n",
    "    [12, 2, 18],\n",
    "    [23, 0, 65],\n",
    "    [34, 0, 90]])\n",
    "\n",
    "weekly = monday + tuesday + wednesday + thursday + friday + saturday + sunday# < write code here >\n",
    "\n",
    "print('In a week')\n",
    "print(pd.DataFrame(weekly, columns=services))\n",
    "print()\n",
    "\n",
    "forecast = (weekly / 7) * 30\n",
    "\n",
    "print('Forecast for a month')\n",
    "print(pd.DataFrame(forecast, dtype=int, columns=services))"
   ]
  },
  {
   "cell_type": "markdown",
   "metadata": {},
   "source": [
    "### Multiplying a Matrix by a Vector"
   ]
  },
  {
   "cell_type": "code",
   "execution_count": 15,
   "metadata": {},
   "outputs": [
    {
     "name": "stdout",
     "output_type": "stream",
     "text": [
      "[ 50 122]\n",
      "[ 50 122]\n"
     ]
    }
   ],
   "source": [
    "import numpy as np\n",
    "    \n",
    "A = np.array([\n",
    "    [1, 2, 3], \n",
    "    [4, 5, 6]])\n",
    "\n",
    "b = np.array([7, 8, 9])\n",
    "\n",
    "print(np.dot(A, b))\n",
    "print(A.dot(b))"
   ]
  },
  {
   "cell_type": "code",
   "execution_count": 16,
   "metadata": {},
   "outputs": [
    {
     "name": "stdout",
     "output_type": "stream",
     "text": [
      "Package content\n",
      "           \"Behind the wheel\"  \"On the subway\"\n",
      "Minutes                    20                5\n",
      "Messages                    2                5\n",
      "Megabytes                 500             1000\n",
      "\n",
      "Client's packages\n",
      "   \"Behind the wheel\"  \"On the subway\"\n",
      "0                   1                2\n",
      "1                   2                3\n",
      "2                   4                1\n",
      "3                   2                3\n",
      "4                   5                0\n",
      "\n"
     ]
    }
   ],
   "source": [
    "import numpy as np\n",
    "import pandas as pd\n",
    "\n",
    "services = ['Minutes', 'Messages', 'Megabytes']\n",
    "packs_names = ['\"Behind the wheel\"', '\"On the subway\"']\n",
    "packs = np.array([\n",
    "    [20, 5],\n",
    "    [2, 5],\n",
    "    [500, 1000]])\n",
    "\n",
    "print('Package content')\n",
    "print(pd.DataFrame(packs, columns=packs_names, index=services))\n",
    "print()\n",
    "\n",
    "clients_packs = np.array([\n",
    "    [1, 2],\n",
    "    [2, 3],\n",
    "    [4, 1],\n",
    "    [2, 3],\n",
    "    [5, 0]])\n",
    "\n",
    "print(\"Client's packages\")\n",
    "print(pd.DataFrame(clients_packs, columns=packs_names))\n",
    "print()"
   ]
  },
  {
   "cell_type": "code",
   "execution_count": 29,
   "metadata": {},
   "outputs": [
    {
     "name": "stdout",
     "output_type": "stream",
     "text": [
      "Client's package\n",
      "                     \n",
      "\"Behind the wheel\"  2\n",
      "\"On the subway\"     3\n",
      "\n",
      "Minutes, Messages, Megabytes\n",
      "[2 3]\n",
      "[[  20    5]\n",
      " [   2    5]\n",
      " [ 500 1000]]\n",
      "[  55   19 4000]\n"
     ]
    }
   ],
   "source": [
    "import numpy as np\n",
    "import pandas as pd\n",
    "\n",
    "services = ['Minutes', 'Messages', 'Megabytes']\n",
    "packs_names = ['\"Behind the wheel\"', '\"On the subway\"']\n",
    "packs = np.array([\n",
    "    [20, 5],\n",
    "    [2, 5],\n",
    "    [500, 1000]])\n",
    "\n",
    "clients_packs = np.array([\n",
    "    [1, 2],\n",
    "    [2, 3],\n",
    "    [4, 1],\n",
    "    [2, 3],\n",
    "    [5, 0]])\n",
    "\n",
    "client = 1\n",
    "print(\"Client's package\") \n",
    "print(pd.DataFrame(clients_packs[client], index=packs_names, columns=['']))\n",
    "print()\n",
    "\n",
    "#client_vector = clients_packs[client, :]\n",
    "client_vector = clients_packs[1, :]\n",
    "client_services = np.dot(packs, client_vector)\n",
    "\n",
    "print(\"Minutes, Messages, Megabytes\")\n",
    "print(client_vector)\n",
    "print(packs)\n",
    "print(client_services)"
   ]
  },
  {
   "cell_type": "markdown",
   "metadata": {},
   "source": [
    "### Transpose of a Matrix"
   ]
  },
  {
   "cell_type": "code",
   "execution_count": 30,
   "metadata": {},
   "outputs": [
    {
     "name": "stdout",
     "output_type": "stream",
     "text": [
      "Original matrix\n",
      "[[ 1  2]\n",
      " [ 4 -4]\n",
      " [ 0 17]]\n",
      "Transposed matrix\n",
      "[[ 1  4  0]\n",
      " [ 2 -4 17]]\n"
     ]
    }
   ],
   "source": [
    "import numpy as np\n",
    "\n",
    "matrix = np.array([\n",
    "    [1, 2], \n",
    "    [4, -4], \n",
    "    [0, 17]])\n",
    "\n",
    "print(\"Original matrix\")\n",
    "print(matrix)\n",
    "print(\"Transposed matrix\")\n",
    "print(matrix.T)"
   ]
  },
  {
   "cell_type": "code",
   "execution_count": 31,
   "metadata": {},
   "outputs": [
    {
     "ename": "ValueError",
     "evalue": "shapes (3,2) and (3,) not aligned: 2 (dim 1) != 3 (dim 0)",
     "output_type": "error",
     "traceback": [
      "\u001b[1;31m---------------------------------------------------------------------------\u001b[0m",
      "\u001b[1;31mValueError\u001b[0m                                Traceback (most recent call last)",
      "\u001b[1;32m<ipython-input-31-24e350c907e5>\u001b[0m in \u001b[0;36m<module>\u001b[1;34m\u001b[0m\n\u001b[0;32m      1\u001b[0m \u001b[0mvector\u001b[0m \u001b[1;33m=\u001b[0m \u001b[1;33m[\u001b[0m\u001b[1;36m2\u001b[0m\u001b[1;33m,\u001b[0m \u001b[1;36m1\u001b[0m\u001b[1;33m,\u001b[0m \u001b[1;33m-\u001b[0m\u001b[1;36m1\u001b[0m\u001b[1;33m]\u001b[0m\u001b[1;33m\u001b[0m\u001b[1;33m\u001b[0m\u001b[0m\n\u001b[1;32m----> 2\u001b[1;33m \u001b[0mprint\u001b[0m\u001b[1;33m(\u001b[0m\u001b[0mnp\u001b[0m\u001b[1;33m.\u001b[0m\u001b[0mdot\u001b[0m\u001b[1;33m(\u001b[0m\u001b[0mmatrix\u001b[0m\u001b[1;33m,\u001b[0m \u001b[0mvector\u001b[0m\u001b[1;33m)\u001b[0m\u001b[1;33m)\u001b[0m\u001b[1;33m\u001b[0m\u001b[1;33m\u001b[0m\u001b[0m\n\u001b[0m",
      "\u001b[1;32m<__array_function__ internals>\u001b[0m in \u001b[0;36mdot\u001b[1;34m(*args, **kwargs)\u001b[0m\n",
      "\u001b[1;31mValueError\u001b[0m: shapes (3,2) and (3,) not aligned: 2 (dim 1) != 3 (dim 0)"
     ]
    }
   ],
   "source": [
    "vector = [2, 1, -1]\n",
    "print(np.dot(matrix, vector))"
   ]
  },
  {
   "cell_type": "code",
   "execution_count": 32,
   "metadata": {},
   "outputs": [
    {
     "name": "stdout",
     "output_type": "stream",
     "text": [
      "[  6 -17]\n"
     ]
    }
   ],
   "source": [
    "print(np.dot(matrix.T, vector))"
   ]
  },
  {
   "cell_type": "code",
   "execution_count": 33,
   "metadata": {},
   "outputs": [
    {
     "ename": "SyntaxError",
     "evalue": "invalid syntax (<ipython-input-33-c71ff1eccaa7>, line 1)",
     "output_type": "error",
     "traceback": [
      "\u001b[1;36m  File \u001b[1;32m\"<ipython-input-33-c71ff1eccaa7>\"\u001b[1;36m, line \u001b[1;32m1\u001b[0m\n\u001b[1;33m    Item    Board,pcs   Pipe, m  Screw, number\u001b[0m\n\u001b[1;37m                ^\u001b[0m\n\u001b[1;31mSyntaxError\u001b[0m\u001b[1;31m:\u001b[0m invalid syntax\n"
     ]
    }
   ],
   "source": [
    "Item    Board,pcs   Pipe, m  Screw, number \n",
    " Chair           0.2       1.2       8\n",
    " Bench           0.5       0.8       6\n",
    " Table           0.8       1.6       8"
   ]
  },
  {
   "cell_type": "code",
   "execution_count": 37,
   "metadata": {},
   "outputs": [
    {
     "name": "stdout",
     "output_type": "stream",
     "text": [
      "  Wooden board  Metal pipe  Screws\n",
      "          26.8       100.8   632.0\n"
     ]
    }
   ],
   "source": [
    "import numpy  as np\n",
    "import pandas as pd\n",
    "\n",
    "materials_names = ['Wooden board', 'Metal pipe', 'Screws']\n",
    "\n",
    "manufacture = np.array([\n",
    "    [0.2, 1.2, 8],\n",
    "    [0.5, 0.8, 6],\n",
    "    [0.8, 1.6, 8]])\n",
    "\n",
    "furniture = [60, 4, 16]\n",
    "\n",
    "#materials = np.dot(manufacture, furniture)# < write code here >\n",
    "materials = np.dot(manufacture.T, furniture)\n",
    "\n",
    "print(pd.DataFrame([materials_2], index=[''], columns=materials_names))"
   ]
  },
  {
   "cell_type": "code",
   "execution_count": null,
   "metadata": {},
   "outputs": [],
   "source": []
  }
 ],
 "metadata": {
  "kernelspec": {
   "display_name": "Python 3",
   "language": "python",
   "name": "python3"
  },
  "language_info": {
   "codemirror_mode": {
    "name": "ipython",
    "version": 3
   },
   "file_extension": ".py",
   "mimetype": "text/x-python",
   "name": "python",
   "nbconvert_exporter": "python",
   "pygments_lexer": "ipython3",
   "version": "3.7.6"
  }
 },
 "nbformat": 4,
 "nbformat_minor": 4
}
