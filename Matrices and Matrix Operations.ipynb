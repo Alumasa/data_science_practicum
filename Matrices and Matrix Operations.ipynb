{
 "cells": [
  {
   "cell_type": "markdown",
   "metadata": {},
   "source": [
    "### Creating Matrices"
   ]
  },
  {
   "cell_type": "code",
   "execution_count": 1,
   "metadata": {},
   "outputs": [
    {
     "name": "stdout",
     "output_type": "stream",
     "text": [
      "[[1 2 3]\n",
      " [4 5 6]\n",
      " [7 8 9]]\n"
     ]
    }
   ],
   "source": [
    "import numpy as np\n",
    "\n",
    "matrix = np.array([\n",
    "    [1, 2, 3], \n",
    "    [4, 5, 6],\n",
    "    [7, 8, 9]])\n",
    "print(matrix)"
   ]
  },
  {
   "cell_type": "code",
   "execution_count": 2,
   "metadata": {},
   "outputs": [
    {
     "name": "stdout",
     "output_type": "stream",
     "text": [
      "[[ 1  2  3]\n",
      " [-1 -2 -3]]\n"
     ]
    }
   ],
   "source": [
    "import numpy as np\n",
    "\n",
    "string0 = np.array([1,2,3])\n",
    "string1 = np.array([-1,-2,-3])\n",
    "list_of_vectors = [string0, string1]\n",
    "matrix_from_vectors = np.array(list_of_vectors)\n",
    "\n",
    "print(matrix_from_vectors)"
   ]
  },
  {
   "cell_type": "code",
   "execution_count": 3,
   "metadata": {},
   "outputs": [
    {
     "name": "stdout",
     "output_type": "stream",
     "text": [
      "     a   b\n",
      "0  120  42\n",
      "1   60  50\n",
      "2   75  90\n",
      "[[120  42]\n",
      " [ 60  50]\n",
      " [ 75  90]]\n"
     ]
    }
   ],
   "source": [
    "import pandas as pd\n",
    "\n",
    "df = pd.DataFrame({'a': [ 120,  60, 75], 'b': [42, 50, 90]})\n",
    "matrix = df.values\n",
    "print(df)\n",
    "print(matrix)"
   ]
  },
  {
   "cell_type": "code",
   "execution_count": 4,
   "metadata": {},
   "outputs": [
    {
     "name": "stdout",
     "output_type": "stream",
     "text": [
      "Size: (2, 3)\n",
      "A[1, 2]: 4\n"
     ]
    }
   ],
   "source": [
    "import numpy as np\n",
    "\n",
    "A = np.array([\n",
    "    [1, 2, 3], \n",
    "    [2, 3, 4]])\n",
    "\n",
    "print('Size:', A.shape)\n",
    "print('A[1, 2]:', A[1, 2])"
   ]
  },
  {
   "cell_type": "code",
   "execution_count": 5,
   "metadata": {},
   "outputs": [
    {
     "name": "stdout",
     "output_type": "stream",
     "text": [
      "Row 0: [1 2 3]\n",
      "Column 2: [ 3  6  9 12]\n"
     ]
    }
   ],
   "source": [
    "import numpy as np\n",
    "\n",
    "matrix = np.array([\n",
    "    [1, 2, 3], \n",
    "    [4, 5, 6],\n",
    "    [7, 8, 9],\n",
    "    [10,11,12]])\n",
    "\n",
    "print('Row 0:', matrix[0, :])\n",
    "print('Column 2:', matrix[:, 2])"
   ]
  },
  {
   "cell_type": "code",
   "execution_count": 7,
   "metadata": {},
   "outputs": [
    {
     "name": "stdout",
     "output_type": "stream",
     "text": [
      "[[  3  14 159]\n",
      " [ -2   7 183]]\n"
     ]
    }
   ],
   "source": [
    "import numpy as np\n",
    "\n",
    "matrix = np.array([[3, 14, 159], [-2, 7, 183]])# < write code here >\n",
    "\n",
    "print(matrix)"
   ]
  },
  {
   "cell_type": "code",
   "execution_count": 8,
   "metadata": {},
   "outputs": [
    {
     "name": "stdout",
     "output_type": "stream",
     "text": [
      "[[ 10   2  72]\n",
      " [  3   5 111]\n",
      " [ 15   3  50]\n",
      " [ 27   0  76]\n",
      " [  7   1  85]]\n"
     ]
    }
   ],
   "source": [
    "import numpy as np\n",
    "import pandas as pd\n",
    "\n",
    "monday_df = pd.DataFrame({'Minutes': [10, 3, 15, 27, 7], \n",
    "                          'Messages': [2, 5, 3, 0, 1], \n",
    "                          'Megabytes': [72, 111, 50, 76, 85]})\n",
    " \n",
    "monday = monday_df.values# < write code here >\n",
    "\n",
    "print(monday)"
   ]
  },
  {
   "cell_type": "code",
   "execution_count": 9,
   "metadata": {},
   "outputs": [
    {
     "name": "stdout",
     "output_type": "stream",
     "text": [
      "[27  0 76]\n"
     ]
    }
   ],
   "source": [
    "print(monday[3, :])"
   ]
  },
  {
   "cell_type": "code",
   "execution_count": 10,
   "metadata": {},
   "outputs": [
    {
     "name": "stdout",
     "output_type": "stream",
     "text": [
      "[ 72 111  50  76  85]\n"
     ]
    }
   ],
   "source": [
    "print(monday[:, 2])"
   ]
  },
  {
   "cell_type": "markdown",
   "metadata": {},
   "source": [
    "### Operations with Matrix Elements"
   ]
  },
  {
   "cell_type": "code",
   "execution_count": 11,
   "metadata": {},
   "outputs": [
    {
     "name": "stdout",
     "output_type": "stream",
     "text": [
      "[[ 6  8]\n",
      " [10 12]]\n"
     ]
    }
   ],
   "source": [
    "import numpy as np\n",
    "\n",
    "matrix1 = np.array([\n",
    "    [1, 2], \n",
    "    [3, 4]])\n",
    "\n",
    "matrix2 = np.array([\n",
    "    [5, 6], \n",
    "    [7, 8]])\n",
    "\n",
    "print(matrix1 + matrix2)"
   ]
  },
  {
   "cell_type": "code",
   "execution_count": 12,
   "metadata": {},
   "outputs": [
    {
     "name": "stdout",
     "output_type": "stream",
     "text": [
      "[[2 4]\n",
      " [6 8]]\n",
      "[[-1  0]\n",
      " [ 1  2]]\n"
     ]
    }
   ],
   "source": [
    "import numpy as np\n",
    "\n",
    "matrix = np.array([\n",
    "    [1, 2], \n",
    "    [3, 4]])\n",
    "\n",
    "print(matrix * 2)\n",
    "print(matrix - 2)"
   ]
  },
  {
   "cell_type": "code",
   "execution_count": 14,
   "metadata": {},
   "outputs": [
    {
     "name": "stdout",
     "output_type": "stream",
     "text": [
      "In a week\n",
      "   Minutes  Messages  Megabytes\n",
      "0      174         7        652\n",
      "1      100        22        564\n",
      "2       69        10        348\n",
      "3      192        17        409\n",
      "4       95         8        401\n",
      "\n",
      "Forecast for a month\n",
      "   Minutes  Messages  Megabytes\n",
      "0      745        30       2794\n",
      "1      428        94       2417\n",
      "2      295        42       1491\n",
      "3      822        72       1752\n",
      "4      407        34       1718\n"
     ]
    }
   ],
   "source": [
    "import numpy as np\n",
    "import pandas as pd\n",
    "\n",
    "services = ['Minutes', 'Messages', 'Megabytes']\n",
    "\n",
    "monday = np.array([\n",
    "    [10, 2, 72],\n",
    "    [3, 5, 111],\n",
    "    [15, 3, 50],\n",
    "    [27, 0, 76],\n",
    "    [7, 1, 85]])\n",
    "\n",
    "tuesday = np.array([\n",
    "    [33, 0, 108],\n",
    "    [21, 5, 70],\n",
    "    [15, 2, 15],\n",
    "    [29, 6, 34],\n",
    "    [2, 1, 146]])\n",
    "\n",
    "wednesday = np.array([\n",
    "    [16, 0, 20],\n",
    "    [23, 5, 34],\n",
    "    [5, 0, 159],\n",
    "    [35, 1, 74],\n",
    "    [5, 0, 15]])\n",
    "\n",
    "thursday = np.array([\n",
    "    [25, 1, 53],\n",
    "    [15, 0, 26],\n",
    "    [10, 0, 73],\n",
    "    [18, 1, 24],\n",
    "    [2, 2, 24]])\n",
    "\n",
    "friday = np.array([\n",
    "    [32, 0, 33],\n",
    "    [4, 0, 135],\n",
    "    [2, 2, 21],\n",
    "    [18, 5, 56],\n",
    "    [27, 2, 21]])\n",
    "\n",
    "saturday = np.array([\n",
    "    [28, 0, 123],\n",
    "    [16, 5, 165],\n",
    "    [10, 1, 12],\n",
    "    [42, 4, 80],\n",
    "    [18, 2, 20]])\n",
    "\n",
    "sunday = np.array([\n",
    "    [30, 4, 243],\n",
    "    [18, 2, 23],\n",
    "    [12, 2, 18],\n",
    "    [23, 0, 65],\n",
    "    [34, 0, 90]])\n",
    "\n",
    "weekly = monday + tuesday + wednesday + thursday + friday + saturday + sunday# < write code here >\n",
    "\n",
    "print('In a week')\n",
    "print(pd.DataFrame(weekly, columns=services))\n",
    "print()\n",
    "\n",
    "forecast = (weekly / 7) * 30\n",
    "\n",
    "print('Forecast for a month')\n",
    "print(pd.DataFrame(forecast, dtype=int, columns=services))"
   ]
  },
  {
   "cell_type": "markdown",
   "metadata": {},
   "source": [
    "### Multiplying a Matrix by a Vector"
   ]
  },
  {
   "cell_type": "code",
   "execution_count": 15,
   "metadata": {},
   "outputs": [
    {
     "name": "stdout",
     "output_type": "stream",
     "text": [
      "[ 50 122]\n",
      "[ 50 122]\n"
     ]
    }
   ],
   "source": [
    "import numpy as np\n",
    "    \n",
    "A = np.array([\n",
    "    [1, 2, 3], \n",
    "    [4, 5, 6]])\n",
    "\n",
    "b = np.array([7, 8, 9])\n",
    "\n",
    "print(np.dot(A, b))\n",
    "print(A.dot(b))"
   ]
  },
  {
   "cell_type": "code",
   "execution_count": 16,
   "metadata": {},
   "outputs": [
    {
     "name": "stdout",
     "output_type": "stream",
     "text": [
      "Package content\n",
      "           \"Behind the wheel\"  \"On the subway\"\n",
      "Minutes                    20                5\n",
      "Messages                    2                5\n",
      "Megabytes                 500             1000\n",
      "\n",
      "Client's packages\n",
      "   \"Behind the wheel\"  \"On the subway\"\n",
      "0                   1                2\n",
      "1                   2                3\n",
      "2                   4                1\n",
      "3                   2                3\n",
      "4                   5                0\n",
      "\n"
     ]
    }
   ],
   "source": [
    "import numpy as np\n",
    "import pandas as pd\n",
    "\n",
    "services = ['Minutes', 'Messages', 'Megabytes']\n",
    "packs_names = ['\"Behind the wheel\"', '\"On the subway\"']\n",
    "packs = np.array([\n",
    "    [20, 5],\n",
    "    [2, 5],\n",
    "    [500, 1000]])\n",
    "\n",
    "print('Package content')\n",
    "print(pd.DataFrame(packs, columns=packs_names, index=services))\n",
    "print()\n",
    "\n",
    "clients_packs = np.array([\n",
    "    [1, 2],\n",
    "    [2, 3],\n",
    "    [4, 1],\n",
    "    [2, 3],\n",
    "    [5, 0]])\n",
    "\n",
    "print(\"Client's packages\")\n",
    "print(pd.DataFrame(clients_packs, columns=packs_names))\n",
    "print()"
   ]
  },
  {
   "cell_type": "code",
   "execution_count": 29,
   "metadata": {},
   "outputs": [
    {
     "name": "stdout",
     "output_type": "stream",
     "text": [
      "Client's package\n",
      "                     \n",
      "\"Behind the wheel\"  2\n",
      "\"On the subway\"     3\n",
      "\n",
      "Minutes, Messages, Megabytes\n",
      "[2 3]\n",
      "[[  20    5]\n",
      " [   2    5]\n",
      " [ 500 1000]]\n",
      "[  55   19 4000]\n"
     ]
    }
   ],
   "source": [
    "import numpy as np\n",
    "import pandas as pd\n",
    "\n",
    "services = ['Minutes', 'Messages', 'Megabytes']\n",
    "packs_names = ['\"Behind the wheel\"', '\"On the subway\"']\n",
    "packs = np.array([\n",
    "    [20, 5],\n",
    "    [2, 5],\n",
    "    [500, 1000]])\n",
    "\n",
    "clients_packs = np.array([\n",
    "    [1, 2],\n",
    "    [2, 3],\n",
    "    [4, 1],\n",
    "    [2, 3],\n",
    "    [5, 0]])\n",
    "\n",
    "client = 1\n",
    "print(\"Client's package\") \n",
    "print(pd.DataFrame(clients_packs[client], index=packs_names, columns=['']))\n",
    "print()\n",
    "\n",
    "#client_vector = clients_packs[client, :]\n",
    "client_vector = clients_packs[1, :]\n",
    "client_services = np.dot(packs, client_vector)\n",
    "\n",
    "print(\"Minutes, Messages, Megabytes\")\n",
    "print(client_vector)\n",
    "print(packs)\n",
    "print(client_services)"
   ]
  },
  {
   "cell_type": "markdown",
   "metadata": {},
   "source": [
    "### Transpose of a Matrix"
   ]
  },
  {
   "cell_type": "code",
   "execution_count": 30,
   "metadata": {},
   "outputs": [
    {
     "name": "stdout",
     "output_type": "stream",
     "text": [
      "Original matrix\n",
      "[[ 1  2]\n",
      " [ 4 -4]\n",
      " [ 0 17]]\n",
      "Transposed matrix\n",
      "[[ 1  4  0]\n",
      " [ 2 -4 17]]\n"
     ]
    }
   ],
   "source": [
    "import numpy as np\n",
    "\n",
    "matrix = np.array([\n",
    "    [1, 2], \n",
    "    [4, -4], \n",
    "    [0, 17]])\n",
    "\n",
    "print(\"Original matrix\")\n",
    "print(matrix)\n",
    "print(\"Transposed matrix\")\n",
    "print(matrix.T)"
   ]
  },
  {
   "cell_type": "code",
   "execution_count": 31,
   "metadata": {},
   "outputs": [
    {
     "ename": "ValueError",
     "evalue": "shapes (3,2) and (3,) not aligned: 2 (dim 1) != 3 (dim 0)",
     "output_type": "error",
     "traceback": [
      "\u001b[1;31m---------------------------------------------------------------------------\u001b[0m",
      "\u001b[1;31mValueError\u001b[0m                                Traceback (most recent call last)",
      "\u001b[1;32m<ipython-input-31-24e350c907e5>\u001b[0m in \u001b[0;36m<module>\u001b[1;34m\u001b[0m\n\u001b[0;32m      1\u001b[0m \u001b[0mvector\u001b[0m \u001b[1;33m=\u001b[0m \u001b[1;33m[\u001b[0m\u001b[1;36m2\u001b[0m\u001b[1;33m,\u001b[0m \u001b[1;36m1\u001b[0m\u001b[1;33m,\u001b[0m \u001b[1;33m-\u001b[0m\u001b[1;36m1\u001b[0m\u001b[1;33m]\u001b[0m\u001b[1;33m\u001b[0m\u001b[1;33m\u001b[0m\u001b[0m\n\u001b[1;32m----> 2\u001b[1;33m \u001b[0mprint\u001b[0m\u001b[1;33m(\u001b[0m\u001b[0mnp\u001b[0m\u001b[1;33m.\u001b[0m\u001b[0mdot\u001b[0m\u001b[1;33m(\u001b[0m\u001b[0mmatrix\u001b[0m\u001b[1;33m,\u001b[0m \u001b[0mvector\u001b[0m\u001b[1;33m)\u001b[0m\u001b[1;33m)\u001b[0m\u001b[1;33m\u001b[0m\u001b[1;33m\u001b[0m\u001b[0m\n\u001b[0m",
      "\u001b[1;32m<__array_function__ internals>\u001b[0m in \u001b[0;36mdot\u001b[1;34m(*args, **kwargs)\u001b[0m\n",
      "\u001b[1;31mValueError\u001b[0m: shapes (3,2) and (3,) not aligned: 2 (dim 1) != 3 (dim 0)"
     ]
    }
   ],
   "source": [
    "vector = [2, 1, -1]\n",
    "print(np.dot(matrix, vector))"
   ]
  },
  {
   "cell_type": "code",
   "execution_count": 32,
   "metadata": {},
   "outputs": [
    {
     "name": "stdout",
     "output_type": "stream",
     "text": [
      "[  6 -17]\n"
     ]
    }
   ],
   "source": [
    "print(np.dot(matrix.T, vector))"
   ]
  },
  {
   "cell_type": "code",
   "execution_count": 33,
   "metadata": {},
   "outputs": [
    {
     "ename": "SyntaxError",
     "evalue": "invalid syntax (<ipython-input-33-c71ff1eccaa7>, line 1)",
     "output_type": "error",
     "traceback": [
      "\u001b[1;36m  File \u001b[1;32m\"<ipython-input-33-c71ff1eccaa7>\"\u001b[1;36m, line \u001b[1;32m1\u001b[0m\n\u001b[1;33m    Item    Board,pcs   Pipe, m  Screw, number\u001b[0m\n\u001b[1;37m                ^\u001b[0m\n\u001b[1;31mSyntaxError\u001b[0m\u001b[1;31m:\u001b[0m invalid syntax\n"
     ]
    }
   ],
   "source": [
    "Item    Board,pcs   Pipe, m  Screw, number \n",
    " Chair           0.2       1.2       8\n",
    " Bench           0.5       0.8       6\n",
    " Table           0.8       1.6       8"
   ]
  },
  {
   "cell_type": "code",
   "execution_count": 37,
   "metadata": {},
   "outputs": [
    {
     "name": "stdout",
     "output_type": "stream",
     "text": [
      "  Wooden board  Metal pipe  Screws\n",
      "          26.8       100.8   632.0\n"
     ]
    }
   ],
   "source": [
    "import numpy  as np\n",
    "import pandas as pd\n",
    "\n",
    "materials_names = ['Wooden board', 'Metal pipe', 'Screws']\n",
    "\n",
    "manufacture = np.array([\n",
    "    [0.2, 1.2, 8],\n",
    "    [0.5, 0.8, 6],\n",
    "    [0.8, 1.6, 8]])\n",
    "\n",
    "furniture = [60, 4, 16]\n",
    "\n",
    "#materials = np.dot(manufacture, furniture)# < write code here >\n",
    "materials = np.dot(manufacture.T, furniture)\n",
    "\n",
    "print(pd.DataFrame([materials_2], index=[''], columns=materials_names))"
   ]
  },
  {
   "cell_type": "markdown",
   "metadata": {},
   "source": [
    "### Matrix Multiplication"
   ]
  },
  {
   "cell_type": "code",
   "execution_count": 38,
   "metadata": {},
   "outputs": [
    {
     "name": "stdout",
     "output_type": "stream",
     "text": [
      "[[ 4  5]\n",
      " [-4 -5]]\n",
      "[[ 4  5]\n",
      " [-4 -5]]\n",
      "[[ 4  5]\n",
      " [-4 -5]]\n"
     ]
    }
   ],
   "source": [
    "import numpy as np\n",
    "    \n",
    "A = np.array([\n",
    "    [1, 2, 3], \n",
    "    [-1, -2, -3]])\n",
    "\n",
    "B = np.array([\n",
    "    [1, 0], \n",
    "    [0, 1],\n",
    "    [1, 1]])\n",
    "\n",
    "print(A.dot(B))\n",
    "print(np.dot(A,B)) \n",
    "print(A @ B)"
   ]
  },
  {
   "cell_type": "code",
   "execution_count": 40,
   "metadata": {},
   "outputs": [
    {
     "name": "stdout",
     "output_type": "stream",
     "text": [
      "[[1 0]\n",
      " [0 1]\n",
      " [1 1]]\n"
     ]
    }
   ],
   "source": [
    "print(B)"
   ]
  },
  {
   "cell_type": "code",
   "execution_count": 41,
   "metadata": {},
   "outputs": [
    {
     "name": "stdout",
     "output_type": "stream",
     "text": [
      "[[ 1  2  3]\n",
      " [-1 -2 -3]\n",
      " [ 0  0  0]]\n"
     ]
    }
   ],
   "source": [
    "print(B @ A)"
   ]
  },
  {
   "cell_type": "code",
   "execution_count": 43,
   "metadata": {},
   "outputs": [
    {
     "ename": "ValueError",
     "evalue": "matmul: Input operand 1 has a mismatch in its core dimension 0, with gufunc signature (n?,k),(k,m?)->(n?,m?) (size 2 is different from 3)",
     "output_type": "error",
     "traceback": [
      "\u001b[1;31m---------------------------------------------------------------------------\u001b[0m",
      "\u001b[1;31mValueError\u001b[0m                                Traceback (most recent call last)",
      "\u001b[1;32m<ipython-input-43-cfb92de66c62>\u001b[0m in \u001b[0;36m<module>\u001b[1;34m\u001b[0m\n\u001b[0;32m      3\u001b[0m     [-1, -2, -3]])\n\u001b[0;32m      4\u001b[0m \u001b[1;33m\u001b[0m\u001b[0m\n\u001b[1;32m----> 5\u001b[1;33m \u001b[0mprint\u001b[0m\u001b[1;33m(\u001b[0m\u001b[0mmatrix\u001b[0m \u001b[1;33m@\u001b[0m \u001b[0mmatrix\u001b[0m\u001b[1;33m)\u001b[0m\u001b[1;33m\u001b[0m\u001b[1;33m\u001b[0m\u001b[0m\n\u001b[0m",
      "\u001b[1;31mValueError\u001b[0m: matmul: Input operand 1 has a mismatch in its core dimension 0, with gufunc signature (n?,k),(k,m?)->(n?,m?) (size 2 is different from 3)"
     ]
    }
   ],
   "source": [
    "matrix = np.array([\n",
    "    [1, 2, 3], \n",
    "    [-1, -2, -3]])\n",
    "\n",
    "print(matrix @ matrix)"
   ]
  },
  {
   "cell_type": "code",
   "execution_count": 44,
   "metadata": {},
   "outputs": [
    {
     "name": "stdout",
     "output_type": "stream",
     "text": [
      "[[-1 -2 -3]\n",
      " [ 1  2  3]\n",
      " [ 0  0  0]]\n"
     ]
    }
   ],
   "source": [
    "#Multiplying the matrix by itself is only possible if it is square:\n",
    "square_matrix = np.array([\n",
    "    [1, 2, 3], \n",
    "    [-1, -2, -3],\n",
    "    [0, 0, 0]])\n",
    "\n",
    "print(square_matrix @ square_matrix)"
   ]
  },
  {
   "cell_type": "code",
   "execution_count": 45,
   "metadata": {},
   "outputs": [],
   "source": [
    "costs = np.array([\n",
    "    [700, 50] \n",
    "])"
   ]
  },
  {
   "cell_type": "code",
   "execution_count": 46,
   "metadata": {},
   "outputs": [],
   "source": [
    "bookings_1 = np.array([\n",
    "    [3, 4], # number of bookings for honeymoon suites in February and March\n",
    "    [17, 26] # number of bookings for regular rooms in February and March\n",
    "])\n",
    "\n",
    "bookings_2 = np.array([\n",
    "    [8, 9, 11], # number of bookings for honeymoon suites in June, July and August\n",
    "    [21, 26, 30] # number of bookings for regular rooms in June, July and August\n",
    "])"
   ]
  },
  {
   "cell_type": "code",
   "execution_count": 48,
   "metadata": {},
   "outputs": [
    {
     "name": "stdout",
     "output_type": "stream",
     "text": [
      "   February  March\n",
      "0      2950   4100\n",
      "----------------------\n",
      "   June  July  August\n",
      "0  6650  7600    9200\n"
     ]
    }
   ],
   "source": [
    "import numpy as np\n",
    "import pandas as pd\n",
    "\n",
    "months_1 = ['February', 'March']\n",
    "months_2 = ['June', 'July', 'August']\n",
    "\n",
    "costs = np.array([\n",
    "    # honeymoon_suite, regular\n",
    "    [700, 50]\n",
    "])\n",
    "\n",
    "bookings_1 = np.array([\n",
    "    [3, 4],\n",
    "    [17, 26]\n",
    "])\n",
    "\n",
    "bookings_2 = np.array([\n",
    "    [8, 9, 11],\n",
    "    [21, 26, 30]\n",
    "])\n",
    "\n",
    "print(pd.DataFrame((costs @ bookings_1), columns=months_1))\n",
    "print('----------------------')\n",
    "print(pd.DataFrame((costs @ bookings_2), columns=months_2))"
   ]
  },
  {
   "cell_type": "code",
   "execution_count": 54,
   "metadata": {},
   "outputs": [
    {
     "name": "stdout",
     "output_type": "stream",
     "text": [
      "Packages\n",
      "   \"Behind the wheel  \"On the subway\"\n",
      "0                  1                2\n",
      "1                  2                3\n",
      "2                  4                1\n",
      "3                  2                3\n",
      "4                  5                0\n",
      "\n",
      "Minutes, Messages and Megabytes\n",
      "   Minutes  Messages  Megabytes\n",
      "0       30        12       2500\n",
      "1       55        19       4000\n",
      "2       85        13       3000\n",
      "3       55        19       4000\n",
      "4      100        10       2500\n",
      "\n"
     ]
    }
   ],
   "source": [
    "import numpy as np\n",
    "import pandas as pd\n",
    "\n",
    "services = ['Minutes', 'Messages', 'Megabytes']\n",
    "packs_names = ['\"Behind the wheel', '\"On the subway\"']\n",
    "packs = np.array([\n",
    "    [20, 5],\n",
    "    [2, 5],\n",
    "    [500, 1000]])\n",
    "\n",
    "clients_packs = np.array([\n",
    "    [1, 2],\n",
    "    [2, 3],\n",
    "    [4, 1],\n",
    "    [2, 3],\n",
    "    [5, 0]])\n",
    "\n",
    "print('Packages')\n",
    "print(pd.DataFrame(clients_packs, columns=packs_names))\n",
    "print()\n",
    "\n",
    "clients_services = (packs.dot(clients_packs.T).T)# < write code here >\n",
    "\n",
    "print('Minutes, Messages and Megabytes')\n",
    "print(pd.DataFrame(clients_services, columns=services))\n",
    "print()\n",
    "#print(clients_servicew)"
   ]
  },
  {
   "cell_type": "code",
   "execution_count": 53,
   "metadata": {},
   "outputs": [
    {
     "data": {
      "text/plain": [
       "array([[  30,   55,   85,   55,  100],\n",
       "       [  12,   19,   13,   19,   10],\n",
       "       [2500, 4000, 3000, 4000, 2500]])"
      ]
     },
     "execution_count": 53,
     "metadata": {},
     "output_type": "execute_result"
    }
   ],
   "source": [
    "packs.dot(clients_packs.T)"
   ]
  },
  {
   "cell_type": "code",
   "execution_count": 56,
   "metadata": {},
   "outputs": [
    {
     "name": "stdout",
     "output_type": "stream",
     "text": [
      "By the venue\n",
      "             Wooden board  Metal pipe  Screws\n",
      "Coffee shop           4.8        19.2   120.0\n",
      "Diner                17.0        65.6   412.0\n",
      "Restaurant           29.4       105.6   660.0\n",
      "\n",
      "Total\n",
      "  Wooden board  Metal pipe   Screws\n",
      "         496.2      1872.0  11724.0\n"
     ]
    }
   ],
   "source": [
    "import numpy  as np\n",
    "import pandas as pd\n",
    "\n",
    "materials_names = ['Wooden board', 'Metal pipe', 'Screws']\n",
    "venues_names = ['Coffee shop', 'Diner', 'Restaurant']\n",
    "\n",
    "manufacture = np.array([\n",
    "    [0.2, 1.2, 8],\n",
    "    [0.5, 0.8, 6],\n",
    "    [0.8, 1.6, 8]])\n",
    "\n",
    "furniture = np.array([\n",
    "    [12, 0, 3],\n",
    "    [40, 2, 10],\n",
    "    [60, 6, 18]])\n",
    "\n",
    "venues_materials = furniture @ manufacture# < write code here >\n",
    "\n",
    "print('By the venue')\n",
    "print(pd.DataFrame(venues_materials, index=venues_names, columns=materials_names))\n",
    "print()\n",
    "\n",
    "venues = [18, 12, 7]\n",
    "\n",
    "total_materials = venues @ venues_materials# < write code here >\n",
    "\n",
    "print('Total')\n",
    "print(pd.DataFrame([total_materials], index=[''], columns=materials_names))"
   ]
  },
  {
   "cell_type": "code",
   "execution_count": null,
   "metadata": {},
   "outputs": [],
   "source": []
  }
 ],
 "metadata": {
  "kernelspec": {
   "display_name": "Python 3",
   "language": "python",
   "name": "python3"
  },
  "language_info": {
   "codemirror_mode": {
    "name": "ipython",
    "version": 3
   },
   "file_extension": ".py",
   "mimetype": "text/x-python",
   "name": "python",
   "nbconvert_exporter": "python",
   "pygments_lexer": "ipython3",
   "version": "3.7.6"
  }
 },
 "nbformat": 4,
 "nbformat_minor": 4
}
