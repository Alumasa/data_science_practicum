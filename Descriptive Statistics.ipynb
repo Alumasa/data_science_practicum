{
 "cells": [
  {
   "cell_type": "code",
   "execution_count": 1,
   "metadata": {},
   "outputs": [],
   "source": [
    "import pandas as pd\n",
    "import numpy as np\n",
    "import matplotlib.pyplot as plt"
   ]
  },
  {
   "cell_type": "markdown",
   "metadata": {},
   "source": [
    "### Frequency histograms for Continuous variables"
   ]
  },
  {
   "cell_type": "code",
   "execution_count": 2,
   "metadata": {},
   "outputs": [
    {
     "data": {
      "text/plain": [
       "<matplotlib.axes._subplots.AxesSubplot at 0x1f8407c2dc8>"
      ]
     },
     "execution_count": 2,
     "metadata": {},
     "output_type": "execute_result"
    },
    {
     "data": {
      "image/png": "[encoded data removed]",
      "text/plain": [
       "<Figure size 432x288 with 1 Axes>"
      ]
     },
     "metadata": {
      "needs_background": "light"
     },
     "output_type": "display_data"
    }
   ],
   "source": [
    "import pandas as pd\n",
    "\n",
    "data = pd.Series([11, 20, 22, 31, 32, 33, 41, 42, 43, 44, 51, 52, 53, 54, 55, 61, 62, 63, 64, \n",
    "                  65, 66, 71, 72, 73, 74, 75, 76, 77, 81, 82, 83, 84, 85, 86, 87, 88, 91, 92,\n",
    "                  93, 94, 95, 96, 97, 98, 99])\n",
    "\n",
    "data.hist(bins=4, alpha=0.5) # builds a histogram with four bins, where the alpha argument gives us an opaque graph\n",
    "\n",
    "data.hist(bins=[11,20,30,40,50,60,70,80,90,99], alpha=0.7) # builds a histogram with nine bins, \n",
    "#the boundaries for which are listed, where the alpha argument gives us an opaque graph"
   ]
  },
  {
   "cell_type": "code",
   "execution_count": 3,
   "metadata": {
    "scrolled": true
   },
   "outputs": [
    {
     "data": {
      "text/plain": [
       "<matplotlib.axes._subplots.AxesSubplot at 0x1f84174a188>"
      ]
     },
     "execution_count": 3,
     "metadata": {},
     "output_type": "execute_result"
    },
    {
     "data": {
      "image/png": "[encoded data removed]",
      "text/plain": [
       "<Figure size 432x288 with 1 Axes>"
      ]
     },
     "metadata": {
      "needs_background": "light"
     },
     "output_type": "display_data"
    }
   ],
   "source": [
    "import pandas as pd\n",
    "\n",
    "# the pur_time (purchase time) data set\n",
    "pur_time = pd.Series([36, 44, 73, 32, 44, 29, 63, 60, 55, 74, 61, 26, 76, 40, 39, 28, 69, 61,\n",
    "                      54, 58, 47, 41, 70, 51, 58, 36, 71, 47, 74, 59, 50, 78, 59, 48, 67, 53, 67, \n",
    "                      52, 38, 55, 53, 53, 43, 77, 44, 63, 63, 54])\n",
    "pur_time.hist(bins=[15, 30, 45, 60, 75, 90], alpha=0.7) #set intervals for the bins"
   ]
  },
  {
   "cell_type": "code",
   "execution_count": 5,
   "metadata": {},
   "outputs": [
    {
     "data": {
      "image/png": "[encoded data removed]",
      "text/plain": [
       "<Figure size 432x288 with 1 Axes>"
      ]
     },
     "metadata": {
      "needs_background": "light"
     },
     "output_type": "display_data"
    }
   ],
   "source": [
    "pur_time.hist(bins=[15, 35, 55, 75, 90], alpha=0.5)\n",
    "pur_time.hist(bins=[15, 45, 55, 90], alpha=0.5);"
   ]
  },
  {
   "cell_type": "markdown",
   "metadata": {},
   "source": [
    "### Density Histograms"
   ]
  },
  {
   "cell_type": "markdown",
   "metadata": {},
   "source": [
    "*What if we display frequency not as the height of a column, but as its area?*\n",
    "\n",
    "The frequency of the continuous variable defined this way is the interval length multiplied by its column height. \n",
    "This column height is called **```frequency density```**."
   ]
  },
  {
   "cell_type": "markdown",
   "metadata": {},
   "source": [
    "Area under the curve = `frequency`"
   ]
  },
  {
   "cell_type": "markdown",
   "metadata": {},
   "source": [
    "###  Location metrics\n",
    "\n",
    "Using the `median` and `mean`, you can estimate approximately where a data set is located on the x-axis.\n",
    "\n",
    "**Algebraic metric of location :** `mean`\n",
    "\n",
    "**Structural metric of location:** `median`"
   ]
  },
  {
   "cell_type": "code",
   "execution_count": 7,
   "metadata": {},
   "outputs": [
    {
     "name": "stdout",
     "output_type": "stream",
     "text": [
      "Mean of the data set 5.0\n",
      "Median of the data set 5.0\n"
     ]
    }
   ],
   "source": [
    "data = pd.Series([0, 1, 2, 3, 4, 5, 6, 7, 8, 9, 10])\n",
    "print('Mean of the data set',data.mean())\n",
    "print('Median of the data set',data.median())\n"
   ]
  },
  {
   "cell_type": "code",
   "execution_count": 8,
   "metadata": {},
   "outputs": [
    {
     "name": "stdout",
     "output_type": "stream",
     "text": [
      "Mean of the new data set 36.90909090909091\n",
      "Median of the new data set 5.0\n"
     ]
    }
   ],
   "source": [
    "data_new = pd.Series([0, 0.1, 0.2, 0.3, 0.4, 5, 60, 70, 80, 90, 100])\n",
    "print('Mean of the new data set',data_new.mean())\n",
    "print('Median of the new data set',data_new.median())"
   ]
  },
  {
   "cell_type": "markdown",
   "metadata": {},
   "source": [
    "**(as everyone knows, when Bill Gates enters a bar, the average wealth of everyone in the room goes up to the millions)**"
   ]
  },
  {
   "cell_type": "markdown",
   "metadata": {},
   "source": [
    "#### Data Dispersion"
   ]
  },
  {
   "cell_type": "code",
   "execution_count": 2,
   "metadata": {
    "scrolled": true
   },
   "outputs": [
    {
     "name": "stdout",
     "output_type": "stream",
     "text": [
      "5.0\n",
      "\n",
      "0    -5.0\n",
      "1    -4.0\n",
      "2    -3.0\n",
      "3    -2.0\n",
      "4    -1.0\n",
      "5     0.0\n",
      "6     1.0\n",
      "7     2.0\n",
      "8     3.0\n",
      "9     4.0\n",
      "10    5.0\n",
      "dtype: float64\n",
      "\n",
      "0.0\n",
      "\n",
      "10.0\n",
      "\n",
      "3.1622776601683795\n"
     ]
    }
   ],
   "source": [
    "import pandas as pd\n",
    "import numpy as np\n",
    "data = pd.Series([0, 1, 2, 3, 4, 5, 6, 7, 8, 9, 10])\n",
    "mean_value =  data.mean()# write your code here: find the mean value in the data set\n",
    "spacing_all =  data - mean_value# write your code here: for each element in the data set, find its distance to the mean\n",
    "spacing_all_mean = spacing_all.mean()# write your code here: calculate the average distance\n",
    "print(mean_value)\n",
    "print()\n",
    "print(spacing_all)\n",
    "print()\n",
    "print(spacing_all_mean)\n",
    "print()\n",
    "print(np.var(data))\n",
    "print()\n",
    "print(np.std(data))"
   ]
  },
  {
   "cell_type": "markdown",
   "metadata": {},
   "source": [
    "### Variance\n",
    "\n",
    "it's the average of the square of the distance.\n",
    "$\n",
    "σ \n",
    "2\n",
    " = \n",
    "n\n",
    "∑(μ−x \n",
    "i\n",
    "​\t\n",
    " ) \n",
    "2\n",
    " \n",
    "​$"
   ]
  },
  {
   "cell_type": "code",
   "execution_count": 11,
   "metadata": {
    "scrolled": true
   },
   "outputs": [
    {
     "name": "stdout",
     "output_type": "stream",
     "text": [
      "2.9166666666666665\n"
     ]
    }
   ],
   "source": [
    "x = [1, 2, 3, 4, 5, 6] # data set\n",
    "variance = np.var(x)\n",
    "print(variance)"
   ]
  },
  {
   "cell_type": "markdown",
   "metadata": {},
   "source": [
    "### Standard deviation"
   ]
  },
  {
   "cell_type": "code",
   "execution_count": 12,
   "metadata": {},
   "outputs": [
    {
     "name": "stdout",
     "output_type": "stream",
     "text": [
      "1.707825127659933\n"
     ]
    }
   ],
   "source": [
    "standard_deviation = np.std(x)\n",
    "print (standard_deviation)"
   ]
  },
  {
   "cell_type": "code",
   "execution_count": 13,
   "metadata": {},
   "outputs": [
    {
     "data": {
      "text/plain": [
       "1.707825127659933"
      ]
     },
     "execution_count": 13,
     "metadata": {},
     "output_type": "execute_result"
    }
   ],
   "source": [
    "np.sqrt(variance)"
   ]
  },
  {
   "cell_type": "markdown",
   "metadata": {},
   "source": [
    "###### Standard deviation is the square root of the variance."
   ]
  },
  {
   "cell_type": "markdown",
   "metadata": {},
   "source": [
    "If our data is normally distributed, the rule of three standard deviations, or the ***three-sigma rule***, holds true. \n",
    "\n",
    "According to this rule, almost all values (99.7%) can be found within the range:\n",
    "(\\mu - 3\\sigma, \\mu + 3\\sigma)``(μ−3σ,μ+3σ)``."
   ]
  },
  {
   "cell_type": "code",
   "execution_count": 14,
   "metadata": {},
   "outputs": [
    {
     "name": "stdout",
     "output_type": "stream",
     "text": [
      "Message display time is 4.5\n"
     ]
    }
   ],
   "source": [
    "adv_mean = 3\n",
    "adv_var = 0.25\n",
    "adv_std = np.sqrt(adv_var)#calculate standard deviation\n",
    "\n",
    "adv_time =(adv_mean + 3 * adv_std) #calculate the message display time\n",
    "print('Message display time is', adv_time)"
   ]
  },
  {
   "cell_type": "code",
   "execution_count": 27,
   "metadata": {},
   "outputs": [
    {
     "name": "stdout",
     "output_type": "stream",
     "text": [
      "Interval: 108 - 252\n",
      "108.0\n",
      "252.0\n"
     ]
    }
   ],
   "source": [
    "quiz_mean= 3/100 * 6000# calculate the average number of people who answer correctly\n",
    "quiz_std= 0.4 / 100 * 6000# calculate the standard deviation from the total number of participants\n",
    "\n",
    "quiz_bottom_line= quiz_mean - 3 * quiz_std# calculate the lower interval boundary\n",
    "quiz_top_line= quiz_mean + 3 * quiz_std # calculate the upper interval boundary\n",
    "print('Interval: ' +str(int(quiz_bottom_line))+' - ' +str(int(quiz_top_line)))\n",
    "print(quiz_bottom_line)\n",
    "print(quiz_top_line)"
   ]
  },
  {
   "cell_type": "markdown",
   "metadata": {},
   "source": [
    "#### Skewed data\n",
    "\n",
    "Positve skewed - if the mean is greater than the median, then the data has positive skew\n",
    "\n",
    "Negative skewed - if the mean is less than the median, then the data has negative skew."
   ]
  },
  {
   "cell_type": "markdown",
   "metadata": {},
   "source": [
    "A box plot also shows information about the skew of a data set, since it shows the data's quartiles."
   ]
  },
  {
   "cell_type": "code",
   "execution_count": null,
   "metadata": {},
   "outputs": [],
   "source": []
  }
 ],
 "metadata": {
  "kernelspec": {
   "display_name": "Python 3",
   "language": "python",
   "name": "python3"
  },
  "language_info": {
   "codemirror_mode": {
    "name": "ipython",
    "version": 3
   },
   "file_extension": ".py",
   "mimetype": "text/x-python",
   "name": "python",
   "nbconvert_exporter": "python",
   "pygments_lexer": "ipython3",
   "version": "3.7.6"
  }
 },
 "nbformat": 4,
 "nbformat_minor": 4
}
