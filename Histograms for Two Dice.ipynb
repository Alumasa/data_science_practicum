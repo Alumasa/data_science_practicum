{
 "cells": [
  {
   "cell_type": "code",
   "execution_count": null,
   "metadata": {},
   "outputs": [],
   "source": [
    "import pandas as pd\n",
    "\n",
    "data = pd.read_csv ('/datasets/visits_eng.csv', sep='\\t')\n",
    "\n",
    "data['time_spent'].hist()\n"
   ]
  },
  {
   "cell_type": "code",
   "execution_count": null,
   "metadata": {},
   "outputs": [],
   "source": [
    "data.hist('time_spent', bins=100)"
   ]
  },
  {
   "cell_type": "code",
   "execution_count": null,
   "metadata": {},
   "outputs": [],
   "source": [
    "data.hist('time_spent', bins=100, range=(0, 1500))"
   ]
  },
  {
   "cell_type": "code",
   "execution_count": 4,
   "metadata": {},
   "outputs": [
    {
     "name": "stdout",
     "output_type": "stream",
     "text": [
      "2\n",
      "1\n",
      "2\n"
     ]
    }
   ],
   "source": [
    "import random\n",
    "print(random.randint(1, 5))\n",
    "print(random.randint(1, 5))\n",
    "print(random.randint(1, 5))"
   ]
  },
  {
   "cell_type": "code",
   "execution_count": 7,
   "metadata": {},
   "outputs": [
    {
     "name": "stdout",
     "output_type": "stream",
     "text": [
      "6\n",
      "4\n",
      "5\n"
     ]
    }
   ],
   "source": [
    "score = random.randint(1, 6)\n",
    "\n",
    "def dice_roll():\n",
    "    score = random.randint(1, 6)\n",
    "    return score\n",
    "\n",
    "print(dice_roll())\n",
    "print(dice_roll())\n",
    "print(dice_roll())"
   ]
  },
  {
   "cell_type": "code",
   "execution_count": 14,
   "metadata": {},
   "outputs": [
    {
     "name": "stdout",
     "output_type": "stream",
     "text": [
      "6\n",
      "7\n",
      "4\n"
     ]
    }
   ],
   "source": [
    "def double_roll():\n",
    "    first = dice_roll()\n",
    "    second = dice_roll()\n",
    "    score = first + second\n",
    "    return score\n",
    "print(double_roll())\n",
    "print(double_roll())\n",
    "print(double_roll())"
   ]
  },
  {
   "cell_type": "code",
   "execution_count": 18,
   "metadata": {},
   "outputs": [
    {
     "data": {
      "image/png": "[encoded data removed]",
      "text/plain": [
       "<Figure size 432x288 with 1 Axes>"
      ]
     },
     "metadata": {
      "needs_background": "light"
     },
     "output_type": "display_data"
    }
   ],
   "source": [
    "import pandas as pd\n",
    "import matplotlib.pyplot as plt\n",
    "\n",
    "experiments = []\n",
    "for i in range(1000):\n",
    "    score = double_roll()\n",
    "    experiments.append(score)\n",
    "\n",
    "df_experiments = pd.DataFrame(data=experiments)\n",
    "df_experiments.hist(bins=11, range=(2, 12));"
   ]
  },
  {
   "cell_type": "code",
   "execution_count": 26,
   "metadata": {},
   "outputs": [
    {
     "data": {
      "image/png": "[encoded data removed]",
      "text/plain": [
       "<Figure size 432x288 with 1 Axes>"
      ]
     },
     "metadata": {
      "needs_background": "light"
     },
     "output_type": "display_data"
    }
   ],
   "source": [
    "# The function simulating a coin flip\n",
    "def coin_flip():\n",
    "    '''\n",
    "    The function simulating a coin flip\n",
    "\n",
    "    Return values:\n",
    "          0: tails\n",
    "          1: heads\n",
    "    '''\n",
    "    # two possible outcomes:\n",
    "    #—tails, which is +0 heads\n",
    "    #—heads, which is +1 head\n",
    "    score = random.randint(0, 1)\n",
    "    return score\n",
    "\n",
    "# The function for totaling the number of heads for multiple flips.\n",
    "# The repeat argument tells us how many coin tosses there will be.\n",
    "def flips_heads(repeat):\n",
    "    total = 0\n",
    "    for i in range(repeat):\n",
    "        flip = coin_flip()\n",
    "        total += flip\n",
    "    return total\n",
    "\n",
    "# We create an empty list. We'll use it\n",
    "# to store the results of our experiments.\n",
    "experiments = []\n",
    "\n",
    "for i in range(1000):\n",
    "    score = flips_heads(10)\n",
    "\n",
    "    # Remember that the append() function adds a new\n",
    "    # score at the end of the experiments list.\n",
    "    experiments.append(score)\n",
    "\n",
    "# turning the list into a DataFrame\n",
    "df_experiments = pd.DataFrame(experiments)\n",
    "\n",
    "\n",
    "# build a histogram for df_experiments\n",
    "# < write your code here >\n",
    "df_experiments.head()\n",
    "df_experiments.hist(bins=11, range=(0, 10));\n",
    "#the most common result is 5 heads"
   ]
  },
  {
   "cell_type": "code",
   "execution_count": null,
   "metadata": {},
   "outputs": [],
   "source": []
  }
 ],
 "metadata": {
  "kernelspec": {
   "display_name": "Python 3",
   "language": "python",
   "name": "python3"
  },
  "language_info": {
   "codemirror_mode": {
    "name": "ipython",
    "version": 3
   },
   "file_extension": ".py",
   "mimetype": "text/x-python",
   "name": "python",
   "nbconvert_exporter": "python",
   "pygments_lexer": "ipython3",
   "version": "3.7.6"
  }
 },
 "nbformat": 4,
 "nbformat_minor": 4
}
