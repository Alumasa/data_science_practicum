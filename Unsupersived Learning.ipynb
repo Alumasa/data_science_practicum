{
 "cells": [
  {
   "cell_type": "markdown",
   "metadata": {},
   "source": [
    "### K-means Clustering"
   ]
  },
  {
   "cell_type": "code",
   "execution_count": 3,
   "metadata": {},
   "outputs": [
    {
     "name": "stdout",
     "output_type": "stream",
     "text": [
      "Cluster centroids:\n",
      "[[10.68632155 98.90275017 10.856     ]\n",
      " [40.14472236 15.00741697  8.56      ]\n",
      " [10.90357994 29.90244865 15.096     ]]\n"
     ]
    }
   ],
   "source": [
    "import pandas as pd\n",
    "# < write code here >\n",
    "#from sklearn import\n",
    "from sklearn.cluster import KMeans\n",
    "\n",
    "data = pd.read_csv('datasets/segments.csv')\n",
    "\n",
    "# Model training\n",
    "model = KMeans(n_clusters=3, random_state=12345)# < write code here >\n",
    "model.fit(data)# < write code here >\n",
    "\n",
    "print(\"Cluster centroids:\")\n",
    "print(model.cluster_centers_)# < write code here >)"
   ]
  },
  {
   "cell_type": "markdown",
   "metadata": {},
   "source": [
    "The result is a list of centroids from three vectors.\n",
    "- the first coordinate of these vectors  contains the average session time\n",
    "- the second coordinate is the average check, and its different for the centroids with doifferent session times.\n",
    "- the third coordinate is the time passed since  iser registration."
   ]
  },
  {
   "cell_type": "code",
   "execution_count": 2,
   "metadata": {},
   "outputs": [
    {
     "name": "stdout",
     "output_type": "stream",
     "text": [
      "Cluster centroids:\n",
      "[[10.68632155 98.90275017 10.856     ]\n",
      " [40.14472236 15.00741697  8.56      ]\n",
      " [10.90357994 29.90244865 15.096     ]]\n",
      "Cluster centroids of the model with initial centroids:\n",
      "[[10.68632155 98.90275017 10.856     ]\n",
      " [50.06201472 19.62701512  1.808     ]\n",
      " [20.56550497 20.14513373 15.204     ]]\n"
     ]
    }
   ],
   "source": [
    "import pandas as pd\n",
    "import numpy as np\n",
    "from sklearn.cluster import KMeans\n",
    "import warnings\n",
    "warnings.filterwarnings(\"ignore\", category=RuntimeWarning)\n",
    "\n",
    "data = pd.read_csv('datasets/segments.csv')\n",
    "centers = np.array([[20, 80, 8], [50, 20, 5], [20, 30, 10]])\n",
    "\n",
    "model = KMeans(n_clusters=3, random_state=12345)\n",
    "model.fit(data)\n",
    "\n",
    "print(\"Cluster centroids:\")\n",
    "print(model.cluster_centers_)\n",
    "\n",
    "# Training a model with initial centroids\n",
    "model = KMeans(n_clusters=3, init=centers, random_state=12345)# < write code here >\n",
    "model.fit(data)# < write code here >\n",
    "\n",
    "print(\"Cluster centroids of the model with initial centroids:\")\n",
    "print(model.cluster_centers_)# < write code here >)"
   ]
  },
  {
   "cell_type": "markdown",
   "metadata": {},
   "source": [
    "- One centroid remained the same while other two distanced themselves."
   ]
  },
  {
   "cell_type": "markdown",
   "metadata": {},
   "source": [
    "### Objective Function"
   ]
  },
  {
   "cell_type": "code",
   "execution_count": 8,
   "metadata": {},
   "outputs": [
    {
     "name": "stdout",
     "output_type": "stream",
     "text": [
      "Objective function:\n",
      "68431.50999400367\n",
      "The objective function of the model with initial centroids:\n",
      "74253.20363562096\n",
      "The sum of squared distances of samples to their closest cluster center.\n"
     ]
    }
   ],
   "source": [
    "import pandas as pd\n",
    "import numpy as np\n",
    "from sklearn.cluster import KMeans\n",
    "import warnings\n",
    "warnings.filterwarnings(\"ignore\", category=RuntimeWarning)\n",
    "\n",
    "data = pd.read_csv('datasets/segments.csv')\n",
    "centers = np.array([[20, 80, 8], [50, 20, 5], [20, 30, 10]])\n",
    "\n",
    "model = KMeans(n_clusters=3, random_state=12345)\n",
    "model.fit(data)\n",
    "\n",
    "print(\"Objective function:\")\n",
    "print(model.inertia_)\n",
    "\n",
    "model = KMeans(n_clusters=3, init=centers, random_state=12345)\n",
    "model.fit(data)\n",
    "\n",
    "print(\"The objective function of the model with initial centroids:\")\n",
    "print(model.inertia_)\n",
    "print('The sum of squared distances of samples to their closest cluster center.')"
   ]
  },
  {
   "cell_type": "code",
   "execution_count": null,
   "metadata": {},
   "outputs": [],
   "source": []
  }
 ],
 "metadata": {
  "kernelspec": {
   "display_name": "Python 3",
   "language": "python",
   "name": "python3"
  },
  "language_info": {
   "codemirror_mode": {
    "name": "ipython",
    "version": 3
   },
   "file_extension": ".py",
   "mimetype": "text/x-python",
   "name": "python",
   "nbconvert_exporter": "python",
   "pygments_lexer": "ipython3",
   "version": "3.7.6"
  }
 },
 "nbformat": 4,
 "nbformat_minor": 4
}
