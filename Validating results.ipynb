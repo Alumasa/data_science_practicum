{
 "cells": [
  {
   "cell_type": "markdown",
   "metadata": {},
   "source": [
    "### Enlarging Groups"
   ]
  },
  {
   "cell_type": "code",
   "execution_count": 1,
   "metadata": {},
   "outputs": [],
   "source": [
    "import pandas as pd\n",
    "import numpy as np\n",
    "import matplotlib.pyplot as plt"
   ]
  },
  {
   "cell_type": "code",
   "execution_count": 2,
   "metadata": {},
   "outputs": [
    {
     "name": "stdout",
     "output_type": "stream",
     "text": [
      "0         milk\n",
      "1        jamón\n",
      "2        bread\n",
      "3     potatoes\n",
      "4    cucumbers\n",
      "dtype: object\n",
      "\n",
      "0                      milk\n",
      "1    I'll get by without it\n",
      "2                     bread\n",
      "3                  potatoes\n",
      "4                 cucumbers\n",
      "dtype: object\n"
     ]
    }
   ],
   "source": [
    "shopping = pd.Series(['milk', 'jamón', 'bread', 'potatoes', 'cucumbers'])\n",
    "print(shopping) # a list of things that need to be purchased\n",
    "print()\n",
    "print(shopping.where(shopping != 'jamón', \"I'll get by without it\")) \n",
    "# the same list after checking how much money is in the account"
   ]
  },
  {
   "cell_type": "code",
   "execution_count": 3,
   "metadata": {
    "collapsed": true
   },
   "outputs": [
    {
     "ename": "NameError",
     "evalue": "name 'dataframe' is not defined",
     "output_type": "error",
     "traceback": [
      "\u001b[1;31m---------------------------------------------------------------------------\u001b[0m",
      "\u001b[1;31mNameError\u001b[0m                                 Traceback (most recent call last)",
      "\u001b[1;32m<ipython-input-3-e7b09e49d37e>\u001b[0m in \u001b[0;36m<module>\u001b[1;34m\u001b[0m\n\u001b[0;32m      1\u001b[0m \u001b[1;31m#When you need to remove rows with omissions in a specific column,\u001b[0m\u001b[1;33m\u001b[0m\u001b[1;33m\u001b[0m\u001b[1;33m\u001b[0m\u001b[0m\n\u001b[0;32m      2\u001b[0m \u001b[1;31m#its name is passed to the subset parameter of the dropna() method:\u001b[0m\u001b[1;33m\u001b[0m\u001b[1;33m\u001b[0m\u001b[1;33m\u001b[0m\u001b[0m\n\u001b[1;32m----> 3\u001b[1;33m \u001b[0mdataframe\u001b[0m\u001b[1;33m.\u001b[0m\u001b[0mdropna\u001b[0m\u001b[1;33m(\u001b[0m\u001b[0msubset\u001b[0m\u001b[1;33m=\u001b[0m\u001b[1;33m[\u001b[0m\u001b[1;34m'column_name'\u001b[0m\u001b[1;33m]\u001b[0m\u001b[1;33m)\u001b[0m\u001b[1;33m\u001b[0m\u001b[1;33m\u001b[0m\u001b[0m\n\u001b[0m",
      "\u001b[1;31mNameError\u001b[0m: name 'dataframe' is not defined"
     ]
    }
   ],
   "source": [
    "#When you need to remove rows with omissions in a specific column, \n",
    "#its name is passed to the subset parameter of the dropna() method:\n",
    "dataframe.dropna(subset=['column_name'])"
   ]
  },
  {
   "cell_type": "code",
   "execution_count": null,
   "metadata": {},
   "outputs": [],
   "source": [
    "final_stat.sort_values(by='median_time', ascending=True).plot(y='median_time', kind='bar', figsize=(10, 5))"
   ]
  },
  {
   "cell_type": "code",
   "execution_count": null,
   "metadata": {},
   "outputs": [],
   "source": [
    "(final_stat\n",
    "    .sort_values(by='median_time', ascending=True)\n",
    "    .dropna(subset=['median_time'])\n",
    "    .plot(y='median_time', kind='bar', figsize=(10, 5))\n",
    ")"
   ]
  },
  {
   "cell_type": "code",
   "execution_count": null,
   "metadata": {},
   "outputs": [],
   "source": [
    "final_stat.hist('stations', bins=100)"
   ]
  },
  {
   "cell_type": "code",
   "execution_count": null,
   "metadata": {},
   "outputs": [],
   "source": [
    "ig_nets_stat = final_stat[final_stat['stations'] > 10]\n",
    "print(big_nets_stat)"
   ]
  },
  {
   "cell_type": "code",
   "execution_count": null,
   "metadata": {},
   "outputs": [],
   "source": [
    "station_stat_full['group_name'] = (\n",
    "    station_stat_full['name']\n",
    "    .where(station_stat_full['name'].isin(big_nets_stat.index), 'Others')\n",
    ")"
   ]
  },
  {
   "cell_type": "code",
   "execution_count": null,
   "metadata": {},
   "outputs": [],
   "source": [
    "stat_grouped.plot(y='count', kind='pie', figsize=(8, 8))"
   ]
  },
  {
   "cell_type": "markdown",
   "metadata": {},
   "source": [
    "### Data broken up by Groups"
   ]
  },
  {
   "cell_type": "code",
   "execution_count": 5,
   "metadata": {},
   "outputs": [
    {
     "name": "stdout",
     "output_type": "stream",
     "text": [
      "      name   surname\n",
      "0    Dylan     Smith\n",
      "1    Dylan   Johnson\n",
      "2    Dylan  Williams\n",
      "3     Luke     Brown\n",
      "4     Luke    Hughes\n",
      "5  Matthew    Carter\n",
      "6  Matthew  Mitchell\n",
      "\n",
      "Name Dylan encountered3 times\n",
      "Name Luke encountered2 times\n",
      "Name Matthew encountered2 times\n"
     ]
    }
   ],
   "source": [
    "IT_names = pd.DataFrame(\n",
    "        {'name': ['Dylan', 'Dylan', 'Dylan', 'Luke', 'Luke', 'Matthew', 'Matthew'],\n",
    "        'surname': ['Smith', 'Johnson', 'Williams', 'Brown', 'Hughes', 'Carter', 'Mitchell']\n",
    "})\n",
    "print(IT_names)\n",
    "print()\n",
    "for developer_name, developer_data in IT_names.groupby('name'):\n",
    "        print('Name {} encountered{} times'.format(developer_name, len(developer_data)))"
   ]
  },
  {
   "cell_type": "code",
   "execution_count": null,
   "metadata": {},
   "outputs": [],
   "source": []
  }
 ],
 "metadata": {
  "kernelspec": {
   "display_name": "Python 3",
   "language": "python",
   "name": "python3"
  },
  "language_info": {
   "codemirror_mode": {
    "name": "ipython",
    "version": 3
   },
   "file_extension": ".py",
   "mimetype": "text/x-python",
   "name": "python",
   "nbconvert_exporter": "python",
   "pygments_lexer": "ipython3",
   "version": "3.7.6"
  }
 },
 "nbformat": 4,
 "nbformat_minor": 4
}
