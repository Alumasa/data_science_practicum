{
 "cells": [
  {
   "cell_type": "markdown",
   "metadata": {},
   "source": [
    "### Enlarging Groups"
   ]
  },
  {
   "cell_type": "code",
   "execution_count": 1,
   "metadata": {},
   "outputs": [],
   "source": [
    "import pandas as pd\n",
    "import numpy as np\n",
    "import matplotlib.pyplot as plt"
   ]
  },
  {
   "cell_type": "code",
   "execution_count": 4,
   "metadata": {},
   "outputs": [
    {
     "name": "stdout",
     "output_type": "stream",
     "text": [
      "0         milk\n",
      "1        jamón\n",
      "2        bread\n",
      "3     potatoes\n",
      "4    cucumbers\n",
      "dtype: object\n",
      "\n",
      "0                      milk\n",
      "1    I'll get by without it\n",
      "2                     bread\n",
      "3                  potatoes\n",
      "4                 cucumbers\n",
      "dtype: object\n"
     ]
    }
   ],
   "source": [
    "shopping = pd.Series(['milk', 'jamón', 'bread', 'potatoes', 'cucumbers'])\n",
    "print(shopping) # a list of things that need to be purchased\n",
    "print()\n",
    "print(shopping.where(shopping != 'jamón', \"I'll get by without it\")) \n",
    "# the same list after checking how much money is in the account"
   ]
  },
  {
   "cell_type": "code",
   "execution_count": null,
   "metadata": {},
   "outputs": [],
   "source": [
    "#When you need to remove rows with omissions in a specific column, \n",
    "#its name is passed to the subset parameter of the dropna() method:\n",
    "dataframe.dropna(subset=['column_name'])"
   ]
  },
  {
   "cell_type": "code",
   "execution_count": null,
   "metadata": {},
   "outputs": [],
   "source": []
  },
  {
   "cell_type": "code",
   "execution_count": null,
   "metadata": {},
   "outputs": [],
   "source": []
  }
 ],
 "metadata": {
  "kernelspec": {
   "display_name": "Python 3",
   "language": "python",
   "name": "python3"
  },
  "language_info": {
   "codemirror_mode": {
    "name": "ipython",
    "version": 3
   },
   "file_extension": ".py",
   "mimetype": "text/x-python",
   "name": "python",
   "nbconvert_exporter": "python",
   "pygments_lexer": "ipython3",
   "version": "3.7.6"
  }
 },
 "nbformat": 4,
 "nbformat_minor": 4
}
