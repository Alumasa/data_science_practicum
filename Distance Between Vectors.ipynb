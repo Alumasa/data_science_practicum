{
 "cells": [
  {
   "cell_type": "markdown",
   "metadata": {},
   "source": [
    "### Scalar product"
   ]
  },
  {
   "cell_type": "code",
   "execution_count": 1,
   "metadata": {},
   "outputs": [],
   "source": [
    "import numpy as np\n",
    "\n",
    "volume = np.array([0.1, 0.3, 0.1])\n",
    "content = np.array([0.4, 0.0, 0.1])"
   ]
  },
  {
   "cell_type": "code",
   "execution_count": 2,
   "metadata": {},
   "outputs": [
    {
     "name": "stdout",
     "output_type": "stream",
     "text": [
      "0.05000000000000001\n"
     ]
    }
   ],
   "source": [
    "print(sum(volume * content))"
   ]
  },
  {
   "cell_type": "code",
   "execution_count": 3,
   "metadata": {},
   "outputs": [
    {
     "name": "stdout",
     "output_type": "stream",
     "text": [
      "Store 1\n",
      "                           Price  Quantity\n",
      "Apple AirPods Pro        209.90        19\n",
      "Apple AirPods MV7N2RU/A  119.90        11\n",
      "JBL Tune 120TWS           53.90         8\n",
      "JBL TUNE 500BT            31.90        15\n",
      "JBL JR300BT               19.90        23\n",
      "Huawei Freebuds 3        109.90         7\n",
      "Philips TWS SHB2505       59.99        14\n",
      "Sony WH-CH500             22.90         9\n",
      "Sony WF-SP700N            81.11        10\n",
      "Sony WI-XB400             32.90         4 \n",
      "\n",
      "Store 2\n",
      "                          Price  Quantity\n",
      "Apple AirPods Pro        209.9        10\n",
      "Apple AirPods MV7N2RU/A  124.9        16\n",
      "JBL Tune 120TWS           42.9        20\n",
      "JBL TUNE 500BT            27.9         9\n",
      "JBL JR300BT               23.9        18\n",
      "Huawei Freebuds 3        109.9        12\n",
      "Philips TWS SHB2505       49.9        10\n",
      "Sony WH-CH500             24.9        11\n",
      "Sony WF-SP700N            89.9        18\n",
      "Sony WI-XB400             32.9        22\n"
     ]
    }
   ],
   "source": [
    "import numpy as np\n",
    "import pandas as pd\n",
    "\n",
    "store1_price = [209.9, 119.9, 53.9, 31.9, 19.9, 109.9, 59.99, 22.9, 81.11, 32.9]\n",
    "store1_quantity = [19, 11, 8, 15, 23, 7, 14, 9, 10, 4]\n",
    "\n",
    "store2_price = [209.9, 124.9, 42.9, 27.9, 23.9, 109.9, 49.9, 24.9, 89.9, 32.9]\n",
    "store2_quantity = [10, 16, 20, 9, 18, 12, 10, 11, 18, 22]\n",
    "\n",
    "models = ['Apple AirPods Pro',\n",
    "          'Apple AirPods MV7N2RU/A',\n",
    "          'JBL Tune 120TWS', \n",
    "          'JBL TUNE 500BT',\n",
    "          'JBL JR300BT', \n",
    "          'Huawei Freebuds 3',\n",
    "          'Philips TWS SHB2505',\n",
    "          'Sony WH-CH500',\n",
    "          'Sony WF-SP700N',\n",
    "          'Sony WI-XB400',\n",
    "         ]\n",
    "stocks1 = pd.DataFrame({'Price':store1_price, \n",
    "                        'Quantity':store1_quantity}, index=models)\n",
    "stocks2 = pd.DataFrame({'Price':store2_price, \n",
    "                        'Quantity':store2_quantity}, index=models)\n",
    "\n",
    "print('Store 1\\n', stocks1, '\\n')\n",
    "print('Store 2\\n', stocks2)"
   ]
  },
  {
   "cell_type": "code",
   "execution_count": 6,
   "metadata": {},
   "outputs": [
    {
     "name": "stdout",
     "output_type": "stream",
     "text": [
      "Total cost of stocks of two stores: 19502.76 USD\n"
     ]
    }
   ],
   "source": [
    "stocks1 = pd.DataFrame({'Price':store1_price, \n",
    "                        'Quantity':store1_quantity}, index=models)\n",
    "stocks2 = pd.DataFrame({'Price':store2_price, \n",
    "                        'Quantity':store2_quantity}, index=models)\n",
    "\n",
    "stocks1_price = stocks1['Price'].values \n",
    "stocks1_quantity = stocks1['Quantity'].values \n",
    "\n",
    "stocks2_price = stocks2['Price'].values# < write code here >\n",
    "stocks2_quantity = stocks2['Quantity'].values# < write code here >\n",
    "\n",
    "# cost of stock for store 1\n",
    "stocks1_cost = np.dot(stocks1_price, stocks1_quantity)# < write code here >\n",
    "\n",
    "# cost of stock for store 2\n",
    "stocks2_cost = np.dot(stocks2_price, stocks2_quantity)# < write code here >\n",
    "\n",
    "total_cost = stocks1_cost + stocks2_cost# < write code here >\n",
    "\n",
    "print('Total cost of stocks of two stores:', total_cost, 'USD')"
   ]
  },
  {
   "cell_type": "code",
   "execution_count": null,
   "metadata": {},
   "outputs": [],
   "source": []
  }
 ],
 "metadata": {
  "kernelspec": {
   "display_name": "Python 3",
   "language": "python",
   "name": "python3"
  },
  "language_info": {
   "codemirror_mode": {
    "name": "ipython",
    "version": 3
   },
   "file_extension": ".py",
   "mimetype": "text/x-python",
   "name": "python",
   "nbconvert_exporter": "python",
   "pygments_lexer": "ipython3",
   "version": "3.7.6"
  }
 },
 "nbformat": 4,
 "nbformat_minor": 4
}
