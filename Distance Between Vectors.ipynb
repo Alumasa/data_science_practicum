{
 "cells": [
  {
   "cell_type": "markdown",
   "metadata": {},
   "source": [
    "### Scalar product"
   ]
  },
  {
   "cell_type": "code",
   "execution_count": 1,
   "metadata": {},
   "outputs": [],
   "source": [
    "import numpy as np\n",
    "\n",
    "volume = np.array([0.1, 0.3, 0.1])\n",
    "content = np.array([0.4, 0.0, 0.1])"
   ]
  },
  {
   "cell_type": "code",
   "execution_count": 2,
   "metadata": {},
   "outputs": [
    {
     "name": "stdout",
     "output_type": "stream",
     "text": [
      "0.05000000000000001\n"
     ]
    }
   ],
   "source": [
    "print(sum(volume * content))"
   ]
  },
  {
   "cell_type": "code",
   "execution_count": 3,
   "metadata": {},
   "outputs": [
    {
     "name": "stdout",
     "output_type": "stream",
     "text": [
      "Store 1\n",
      "                           Price  Quantity\n",
      "Apple AirPods Pro        209.90        19\n",
      "Apple AirPods MV7N2RU/A  119.90        11\n",
      "JBL Tune 120TWS           53.90         8\n",
      "JBL TUNE 500BT            31.90        15\n",
      "JBL JR300BT               19.90        23\n",
      "Huawei Freebuds 3        109.90         7\n",
      "Philips TWS SHB2505       59.99        14\n",
      "Sony WH-CH500             22.90         9\n",
      "Sony WF-SP700N            81.11        10\n",
      "Sony WI-XB400             32.90         4 \n",
      "\n",
      "Store 2\n",
      "                          Price  Quantity\n",
      "Apple AirPods Pro        209.9        10\n",
      "Apple AirPods MV7N2RU/A  124.9        16\n",
      "JBL Tune 120TWS           42.9        20\n",
      "JBL TUNE 500BT            27.9         9\n",
      "JBL JR300BT               23.9        18\n",
      "Huawei Freebuds 3        109.9        12\n",
      "Philips TWS SHB2505       49.9        10\n",
      "Sony WH-CH500             24.9        11\n",
      "Sony WF-SP700N            89.9        18\n",
      "Sony WI-XB400             32.9        22\n"
     ]
    }
   ],
   "source": [
    "import numpy as np\n",
    "import pandas as pd\n",
    "\n",
    "store1_price = [209.9, 119.9, 53.9, 31.9, 19.9, 109.9, 59.99, 22.9, 81.11, 32.9]\n",
    "store1_quantity = [19, 11, 8, 15, 23, 7, 14, 9, 10, 4]\n",
    "\n",
    "store2_price = [209.9, 124.9, 42.9, 27.9, 23.9, 109.9, 49.9, 24.9, 89.9, 32.9]\n",
    "store2_quantity = [10, 16, 20, 9, 18, 12, 10, 11, 18, 22]\n",
    "\n",
    "models = ['Apple AirPods Pro',\n",
    "          'Apple AirPods MV7N2RU/A',\n",
    "          'JBL Tune 120TWS', \n",
    "          'JBL TUNE 500BT',\n",
    "          'JBL JR300BT', \n",
    "          'Huawei Freebuds 3',\n",
    "          'Philips TWS SHB2505',\n",
    "          'Sony WH-CH500',\n",
    "          'Sony WF-SP700N',\n",
    "          'Sony WI-XB400',\n",
    "         ]\n",
    "stocks1 = pd.DataFrame({'Price':store1_price, \n",
    "                        'Quantity':store1_quantity}, index=models)\n",
    "stocks2 = pd.DataFrame({'Price':store2_price, \n",
    "                        'Quantity':store2_quantity}, index=models)\n",
    "\n",
    "print('Store 1\\n', stocks1, '\\n')\n",
    "print('Store 2\\n', stocks2)"
   ]
  },
  {
   "cell_type": "code",
   "execution_count": 6,
   "metadata": {},
   "outputs": [
    {
     "name": "stdout",
     "output_type": "stream",
     "text": [
      "Total cost of stocks of two stores: 19502.76 USD\n"
     ]
    }
   ],
   "source": [
    "stocks1 = pd.DataFrame({'Price':store1_price, \n",
    "                        'Quantity':store1_quantity}, index=models)\n",
    "stocks2 = pd.DataFrame({'Price':store2_price, \n",
    "                        'Quantity':store2_quantity}, index=models)\n",
    "\n",
    "stocks1_price = stocks1['Price'].values \n",
    "stocks1_quantity = stocks1['Quantity'].values \n",
    "\n",
    "stocks2_price = stocks2['Price'].values# < write code here >\n",
    "stocks2_quantity = stocks2['Quantity'].values# < write code here >\n",
    "\n",
    "# cost of stock for store 1\n",
    "stocks1_cost = np.dot(stocks1_price, stocks1_quantity)# < write code here >\n",
    "\n",
    "# cost of stock for store 2\n",
    "stocks2_cost = np.dot(stocks2_price, stocks2_quantity)# < write code here >\n",
    "\n",
    "total_cost = stocks1_cost + stocks2_cost# < write code here >\n",
    "\n",
    "print('Total cost of stocks of two stores:', total_cost, 'USD')"
   ]
  },
  {
   "cell_type": "markdown",
   "metadata": {},
   "source": [
    "### Planar Distance"
   ]
  },
  {
   "cell_type": "code",
   "execution_count": 7,
   "metadata": {},
   "outputs": [
    {
     "name": "stdout",
     "output_type": "stream",
     "text": [
      "Distance between a and b is equal to 5.0\n"
     ]
    }
   ],
   "source": [
    "import numpy as np\n",
    "\n",
    "a = np.array([5, 6])\n",
    "b = np.array([1, 3])\n",
    "d = np.dot(a-b, a-b)**0.5\n",
    "print('Distance between a and b is equal to', d)"
   ]
  },
  {
   "cell_type": "code",
   "execution_count": 8,
   "metadata": {},
   "outputs": [
    {
     "name": "stdout",
     "output_type": "stream",
     "text": [
      "Distance between a and b is equal to 5.0\n"
     ]
    }
   ],
   "source": [
    "import numpy as np\n",
    "from scipy.spatial import distance\n",
    "\n",
    "a = np.array([5, 6])\n",
    "b = np.array([1, 3])\n",
    "d = distance.euclidean(a, b)\n",
    "print('Distance between a and b is equal to', d)"
   ]
  },
  {
   "cell_type": "code",
   "execution_count": 9,
   "metadata": {},
   "outputs": [
    {
     "name": "stdout",
     "output_type": "stream",
     "text": [
      "             Longitude, km  Latitude, km  Deliveries\n",
      "Willowford        0.000000      0.000000           5\n",
      "Otter Creek       0.180786      7.030502           7\n",
      "Springfield       9.325266      9.061937           4\n",
      "Arlingport       17.096287      0.171815           3\n",
      "Spadewood         4.698202      5.138320           5\n",
      "Goldvale         11.575293      0.110690           2\n",
      "Bison Flats      11.317693      3.277034           1\n",
      "Bison Hills      14.633790      5.368703           1\n"
     ]
    }
   ],
   "source": [
    "import numpy as np\n",
    "import pandas as pd\n",
    "\n",
    "latitude  = np.array([0.0, 7.03050245, 9.06193657, 0.1718145,\n",
    "                      5.1383203, 0.11069032, 3.27703365, 5.36870287])\n",
    "longitude = np.array([0., 0.18078584, 9.32526599, 17.09628721,\n",
    "                      4.69820241, 11.57529305, 11.31769349, 14.63378951])\n",
    "deliveries = np.array([5, 7, 4, 3, 5, 2, 1, 1])\n",
    "\n",
    "town = ['Willowford',  \n",
    "           'Otter Creek', \n",
    "           'Springfield', \n",
    "           'Arlingport', \n",
    "           'Spadewood',  \n",
    "           'Goldvale',  \n",
    "           'Bison Flats',  \n",
    "           'Bison Hills']\n",
    "\n",
    "data = pd.DataFrame({'Longitude, km': longitude,\n",
    "                     'Latitude, km': latitude, \n",
    "                     'Deliveries': deliveries}, index=town)\n",
    "\n",
    "print(data)"
   ]
  },
  {
   "cell_type": "code",
   "execution_count": 10,
   "metadata": {},
   "outputs": [
    {
     "name": "stdout",
     "output_type": "stream",
     "text": [
      "[[ 0.          0.        ]\n",
      " [ 0.18078584  7.03050245]\n",
      " [ 9.32526599  9.06193657]\n",
      " [17.09628721  0.1718145 ]\n",
      " [ 4.69820241  5.1383203 ]\n",
      " [11.57529305  0.11069032]\n",
      " [11.31769349  3.27703365]\n",
      " [14.63378951  5.36870287]]\n"
     ]
    }
   ],
   "source": [
    "#To work with distances, create a table with vectors that show the location of all towns relative to Willowford:\n",
    "vectors = data[[\"Longitude, km\", \"Latitude, km\"]].values\n",
    "print(vectors)"
   ]
  },
  {
   "cell_type": "code",
   "execution_count": 11,
   "metadata": {},
   "outputs": [
    {
     "name": "stdout",
     "output_type": "stream",
     "text": [
      "             Willowford  Otter Creek  Springfield  Arlingport  Spadewood  \\\n",
      "Willowford     0.000000     7.032826    13.003049   17.097151   6.962431   \n",
      "Otter Creek    7.032826     0.000000     9.367403   18.253103   4.897694   \n",
      "Springfield   13.003049     9.367403     0.000000   11.807753   6.066670   \n",
      "Arlingport    17.097151    18.253103    11.807753    0.000000  13.355848   \n",
      "Spadewood      6.962431     4.897694     6.066670   13.355848   0.000000   \n",
      "Goldvale      11.575822    13.331114     9.229704    5.521333   8.518887   \n",
      "Bison Flats   11.782578    11.752414     6.118404    6.560071   6.876194   \n",
      "Bison Hills   15.587520    14.548226     6.466869    5.750786   9.938258   \n",
      "\n",
      "              Goldvale  Bison Flats  Bison Hills  \n",
      "Willowford   11.575822    11.782578    15.587520  \n",
      "Otter Creek  13.331114    11.752414    14.548226  \n",
      "Springfield   9.229704     6.118404     6.466869  \n",
      "Arlingport    5.521333     6.560071     5.750786  \n",
      "Spadewood     8.518887     6.876194     9.938258  \n",
      "Goldvale      0.000000     3.176805     6.082853  \n",
      "Bison Flats   3.176805     0.000000     3.920660  \n",
      "Bison Hills   6.082853     3.920660     0.000000  \n"
     ]
    }
   ],
   "source": [
    "#Let's optimize the delivery\n",
    "\n",
    "distances = []\n",
    "# < write code here >\n",
    "for town_from in range(len(town)):\n",
    "    row = []\n",
    "    for town_to in range(len(town)):\n",
    "        value = distance.euclidean(vectors[town_to], vectors[town_from])\n",
    "        row.append(value)\n",
    "    distances.append(row)   \n",
    "distances_df = pd.DataFrame(distances, index=town, columns=town)\n",
    "print(distances_df)"
   ]
  },
  {
   "cell_type": "code",
   "execution_count": 12,
   "metadata": {},
   "outputs": [
    {
     "name": "stdout",
     "output_type": "stream",
     "text": [
      "               Distance\n",
      "Willowford   475.734656\n",
      "Otter Creek  409.688787\n",
      "Springfield  454.776713\n",
      "Arlingport   701.242510\n",
      "Spadewood    334.564924\n",
      "Goldvale     513.067627\n",
      "Bison Flats  459.977717\n",
      "Bison Hills  577.345345\n",
      "\n",
      "Warehouse town: Spadewood\n"
     ]
    }
   ],
   "source": [
    "deliveries_in_week = []\n",
    "# < write code here >\n",
    "for i in range(len(data)):\n",
    "    deliv = 2 * np.dot(np.array(distances[i]), deliveries)\n",
    "    deliveries_in_week.append(deliv)\n",
    "deliveries_in_week_df = pd.DataFrame({'Distance': deliveries_in_week}, index=town)\n",
    "\n",
    "print(deliveries_in_week_df)\n",
    "\n",
    "print()\n",
    "print('Warehouse town:', deliveries_in_week_df.idxmin()[0])"
   ]
  },
  {
   "cell_type": "code",
   "execution_count": null,
   "metadata": {},
   "outputs": [],
   "source": []
  }
 ],
 "metadata": {
  "kernelspec": {
   "display_name": "Python 3",
   "language": "python",
   "name": "python3"
  },
  "language_info": {
   "codemirror_mode": {
    "name": "ipython",
    "version": 3
   },
   "file_extension": ".py",
   "mimetype": "text/x-python",
   "name": "python",
   "nbconvert_exporter": "python",
   "pygments_lexer": "ipython3",
   "version": "3.7.6"
  }
 },
 "nbformat": 4,
 "nbformat_minor": 4
}
