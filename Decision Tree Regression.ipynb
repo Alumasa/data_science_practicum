{
 "cells": [
  {
   "cell_type": "code",
   "execution_count": 4,
   "metadata": {},
   "outputs": [],
   "source": [
    "import pandas as pd\n",
    "from sklearn.tree import DecisionTreeRegressor\n",
    "from sklearn.metrics import mean_squared_error\n",
    "from sklearn.model_selection import train_test_split"
   ]
  },
  {
   "cell_type": "code",
   "execution_count": 2,
   "metadata": {},
   "outputs": [],
   "source": [
    "df = pd.read_csv('datasets/train_data_us.csv')"
   ]
  },
  {
   "cell_type": "code",
   "execution_count": 5,
   "metadata": {},
   "outputs": [],
   "source": [
    "df_train, df_valid = train_test_split(df, test_size=0.25, random_state=12345)\n",
    "features_valid = df_valid.drop(['last_price'], axis=1)\n",
    "target_valid = df_valid['last_price'] / 100000\n",
    "features_train = df_train.drop(['last_price'], axis=1)\n",
    "target_train = df_train['last_price'] / 100000"
   ]
  },
  {
   "cell_type": "code",
   "execution_count": 6,
   "metadata": {},
   "outputs": [
    {
     "name": "stdout",
     "output_type": "stream",
     "text": [
      "max_depth =  1 : 5.396412610370437 : 2.3230179961357242\n",
      "max_depth =  2 : 1.8070317756733336 : 1.3442588201954762\n",
      "max_depth =  3 : 1.778342753008831 : 1.3335451822149975\n",
      "max_depth =  4 : 2.055083608639012 : 1.4335562802481847\n"
     ]
    }
   ],
   "source": [
    "for i in range(1,5):\n",
    "    model = DecisionTreeRegressor(random_state=12345, max_depth=i)\n",
    "    model.fit(features_train, target_train)\n",
    "    valid_predictions_dt = model.predict(features_valid)\n",
    "    #accuracy = accuracy_score(target_valid, valid_predictions)\n",
    "    mse_dt = mean_squared_error(target_valid, valid_predictions_dt)\n",
    "    rmse_dt = mean_squared_error(target_valid, valid_predictions_dt)**0.5\n",
    "    print('max_depth = ', i , ':', mse_dt, ':', rmse_dt)"
   ]
  },
  {
   "cell_type": "code",
   "execution_count": 7,
   "metadata": {},
   "outputs": [],
   "source": [
    "features = df.drop(['last_price'], axis=1)\n",
    "target = df['last_price'] / 100000"
   ]
  },
  {
   "cell_type": "code",
   "execution_count": 8,
   "metadata": {},
   "outputs": [],
   "source": [
    "predictions = model.predict(features)"
   ]
  },
  {
   "cell_type": "code",
   "execution_count": 9,
   "metadata": {},
   "outputs": [
    {
     "data": {
      "text/plain": [
       "1.38198705869282"
      ]
     },
     "execution_count": 9,
     "metadata": {},
     "output_type": "execute_result"
    }
   ],
   "source": [
    "rmse_dt = mean_squared_error(target, predictions)**0.5\n",
    "rmse_dt"
   ]
  },
  {
   "cell_type": "code",
   "execution_count": null,
   "metadata": {},
   "outputs": [],
   "source": []
  }
 ],
 "metadata": {
  "kernelspec": {
   "display_name": "Python 3",
   "language": "python",
   "name": "python3"
  },
  "language_info": {
   "codemirror_mode": {
    "name": "ipython",
    "version": 3
   },
   "file_extension": ".py",
   "mimetype": "text/x-python",
   "name": "python",
   "nbconvert_exporter": "python",
   "pygments_lexer": "ipython3",
   "version": "3.7.6"
  }
 },
 "nbformat": 4,
 "nbformat_minor": 4
}
